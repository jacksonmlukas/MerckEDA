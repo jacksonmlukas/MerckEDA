{
 "cells": [
  {
   "cell_type": "markdown",
   "id": "4b7caa4d",
   "metadata": {},
   "source": [
    "## MERCK Data Discovery Project - Malavikha Sudarshan #"
   ]
  },
  {
   "cell_type": "code",
   "execution_count": 1,
   "id": "6e03d23b",
   "metadata": {},
   "outputs": [],
   "source": [
    "import numpy as np\n",
    "\n",
    "import pandas as pd\n",
    "# from pandas.api.types import CategoricalDtype\n",
    "\n",
    "# %matplotlib inline\n",
    "import matplotlib.pyplot as plt\n",
    "# import seaborn as sns\n",
    "# from sklearn import linear_model as lm\n",
    "\n",
    "# import warnings\n",
    "# warnings.filterwarnings(\"ignore\")\n",
    "\n",
    "# import zipfile\n",
    "# import os\n",
    "# import subprocess\n",
    "import glob"
   ]
  },
  {
   "cell_type": "code",
   "execution_count": 7,
   "id": "ed1307cc",
   "metadata": {},
   "outputs": [
    {
     "name": "stdout",
     "output_type": "stream",
     "text": [
      "['1287165_1_Paired_All.csv.gz', '1287196_1_Paired_All.csv.gz', 'SRR9179280_paired.csv.gz', 'SRR9179297_paired.csv.gz', '1287197_1_Paired_All.csv.gz', '1287164_1_Paired_All.csv.gz', 'SRR9179293_paired.csv.gz', 'ERR4082275_paired.csv.gz', 'SRR9179284_paired.csv.gz', 'SRR10358523_paired.csv.gz', 'SRR9179274_paired.csv.gz', '1287167_1_Paired_All.csv.gz', '1287194_1_Paired_All.csv.gz', '1287195_1_Paired_All.csv.gz', '1287166_1_Paired_All.csv.gz', 'ERR4082291_paired.csv.gz', 'SRR9179277_paired.csv.gz', '1287179_1_Paired_All.csv.gz', '1287160_1_Paired_All.csv.gz', '1287193_1_Paired_All.csv.gz', '1287178_1_Paired_All.csv.gz', 'SRR9179273_paired.csv.gz', '1287192_1_Paired_All.csv.gz', '1287161_1_Paired_All.csv.gz', '1287162_1_Paired_All.csv.gz', '1287191_1_Paired_All.csv.gz', '1287188_1_Paired_All.csv.gz', 'SRR9179294_paired.csv.gz', '1279059_1_Paired_All.csv.gz', 'SRR9179283_paired.csv.gz', 'SRR10358524_paired.csv.gz', '1287190_1_Paired_All.csv.gz', '1287163_1_Paired_All.csv.gz', 'SRR9179287_paired.csv.gz', '1279058_1_Paired_All.csv.gz', 'SRR9179290_paired.csv.gz', '1287189_1_Paired_All.csv.gz', '1279055_1_Paired_All.csv.gz', '1287184_1_Paired_All.csv.gz', '1287177_1_Paired_All.csv.gz', '1287204_1_Paired_All.csv.gz', '1287176_1_Paired_All.csv.gz', '1287185_1_Paired_All.csv.gz', '1279054_1_Paired_All.csv.gz', 'SRR9179289_paired.csv.gz', '1287205_1_Paired_All.csv.gz', 'SRR9179279_paired.csv.gz', '1287206_1_Paired_All.csv.gz', 'ERR4082235_paired.csv.gz', '1287186_1_Paired_All.csv.gz', '1287175_1_Paired_All.csv.gz', '1279057_1_Paired_All.csv.gz', 'SRR11528762_paired.csv.gz', '1287207_1_Paired_All.csv.gz', '1287174_1_Paired_All.csv.gz', '1287187_1_Paired_All.csv.gz', '1287201_1_Paired_All.csv.gz', '1279049_1_Paired_All.csv.gz', '1287198_1_Paired_All.csv.gz', '1287181_1_Paired_All.csv.gz', 'SRR12875362_1_Paired_All.csv.gz', '1287172_1_Paired_All.csv.gz', '1279050_1_Paired_All.csv.gz', '1287199_1_Paired_All.csv.gz', 'SRR11528761_paired.csv.gz', '1287200_1_Paired_All.csv.gz', '1279051_1_Paired_All.csv.gz', '1287173_1_Paired_All.csv.gz', '1287180_1_Paired_All.csv.gz', 'SRR9179300_paired.csv.gz', 'ERR4082251_paired.csv.gz', '1279052_1_Paired_All.csv.gz', '1287183_1_Paired_All.csv.gz', '1287170_1_Paired_All.csv.gz', 'SRR12875360_1_Paired_All.csv.gz', '1287169_1_Paired_All.csv.gz', '1287203_1_Paired_All.csv.gz', 'SRR9179299_paired.csv.gz', '1287171_1_Paired_All.csv.gz', 'SRR12875361_1_Paired_All.csv.gz', '1287182_1_Paired_All.csv.gz', '1279053_1_Paired_All.csv.gz', '1287202_1_Paired_All.csv.gz', '1287168_1_Paired_All.csv.gz', 'SRR12875351_1_Paired_All.csv.gz', '1279063_1_Paired_All.csv.gz', '1287158_1_Paired_All.csv.gz', 'ERR4082299_paired.csv.gz', 'SRR12875348_1_Paired_All.csv.gz', '1279062_1_Paired_All.csv.gz', 'SRR12875350_1_Paired_All.csv.gz', '1287159_1_Paired_All.csv.gz', 'SRR12875349_1_Paired_All.csv.gz', '1279078_1_Paired_All.csv.gz', '1279061_1_Paired_All.csv.gz', 'ERR4082243_paired.csv.gz', 'SRR12875353_1_Paired_All.csv.gz', 'SRR12113363_1_Paired_All.csv.gz', '1279079_1_Paired_All.csv.gz', 'SRR9179298_paired.csv.gz', 'SRR12875352_1_Paired_All.csv.gz', 'SRR10313335_paired.csv.gz', '1279060_1_Paired_All.csv.gz', 'SRR9179288_paired.csv.gz', '1279066_1_Paired_All.csv.gz', 'SRR12875354_1_Paired_All.csv.gz', 'SRR10313332_paired.csv.gz', '1287144_1_Paired_All.csv.gz', 'SRR12113364_1_Paired_All.csv.gz', 'SRR12875355_1_Paired_All.csv.gz', '1287145_1_Paired_All.csv.gz', 'ERR4082303_paired.csv.gz', '1279067_1_Paired_All.csv.gz', '1287146_1_Paired_All.csv.gz', 'SRR12875356_1_Paired_All.csv.gz', 'ERR4082227_paired.csv.gz', '1279065_1_Paired_All.csv.gz', '1287147_1_Paired_All.csv.gz', 'SRR12875357_1_Paired_All.csv.gz', 'SRR9179278_paired.csv.gz', '1287153_1_Paired_All.csv.gz', '1279071_1_Paired_All.csv.gz', '1279068_1_Paired_All.csv.gz', 'ERR4082283_paired.csv.gz', '1279070_1_Paired_All.csv.gz', '1287152_1_Paired_All.csv.gz', 'SRR9179276_paired.csv.gz', '1279069_1_Paired_All.csv.gz', '1287148_1_Paired_All.csv.gz', 'SRR9179291_paired.csv.gz', 'SRR12875358_1_Paired_All.csv.gz', 'SRR9179286_paired.csv.gz', '1279080_1_Paired_All.csv.gz', '1279073_1_Paired_All.csv.gz', '1287151_1_Paired_All.csv.gz', 'ERR4082259_paired.csv.gz', 'SRR10358525_paired.csv.gz', 'SRR9179282_paired.csv.gz', '1287149_1_Paired_All.csv.gz', 'SRR9179295_paired.csv.gz', 'SRR12875359_1_Paired_All.csv.gz', '1287150_1_Paired_All.csv.gz', '1279072_1_Paired_All.csv.gz', 'SRR9179285_paired.csv.gz', 'ERR4082263_paired.csv.gz', 'SRR9179292_paired.csv.gz', '1279074_1_Paired_All.csv.gz', '1287156_1_Paired_All.csv.gz', 'SRR9179296_paired.csv.gz', 'SRR9179281_paired.csv.gz', 'ERR4082267_paired.csv.gz', '1287157_1_Paired_All.csv.gz', '1279075_1_Paired_All.csv.gz', '1287154_1_Paired_All.csv.gz', '1279076_1_Paired_All.csv.gz', '1279077_1_Paired_All.csv.gz', '1287155_1_Paired_All.csv.gz', 'SRR9179275_paired.csv.gz']\n"
     ]
    },
    {
     "name": "stderr",
     "output_type": "stream",
     "text": [
      "/var/folders/pm/7ykmdfh54tndbkghdcjn63vh0000gn/T/ipykernel_38147/11984860.py:5: DtypeWarning: Columns (109,125,126,127,128,155,191) have mixed types. Specify dtype option on import or set low_memory=False.\n",
      "  df = pd.concat((pd.read_csv(l, compression=\"gzip\", sep=\",\", skiprows=1) for l in lst), ignore_index = True)\n",
      "/var/folders/pm/7ykmdfh54tndbkghdcjn63vh0000gn/T/ipykernel_38147/11984860.py:5: DtypeWarning: Columns (109,125,126,127,128,155,191) have mixed types. Specify dtype option on import or set low_memory=False.\n",
      "  df = pd.concat((pd.read_csv(l, compression=\"gzip\", sep=\",\", skiprows=1) for l in lst), ignore_index = True)\n",
      "/var/folders/pm/7ykmdfh54tndbkghdcjn63vh0000gn/T/ipykernel_38147/11984860.py:5: DtypeWarning: Columns (109,125,126,127,128,155,191) have mixed types. Specify dtype option on import or set low_memory=False.\n",
      "  df = pd.concat((pd.read_csv(l, compression=\"gzip\", sep=\",\", skiprows=1) for l in lst), ignore_index = True)\n"
     ]
    }
   ],
   "source": [
    "#lst = !ls *.gz\n",
    "lst = glob.glob(\"*.csv.gz\")\n",
    "print(lst)\n",
    "\n",
    "df = pd.concat((pd.read_csv(l, compression=\"gzip\", sep=\",\", skiprows=1) for l in lst), ignore_index = True)"
   ]
  },
  {
   "cell_type": "code",
   "execution_count": 3,
   "id": "c6e19ecc",
   "metadata": {},
   "outputs": [
    {
     "data": {
      "text/html": [
       "<div>\n",
       "<style scoped>\n",
       "    .dataframe tbody tr th:only-of-type {\n",
       "        vertical-align: middle;\n",
       "    }\n",
       "\n",
       "    .dataframe tbody tr th {\n",
       "        vertical-align: top;\n",
       "    }\n",
       "\n",
       "    .dataframe thead th {\n",
       "        text-align: right;\n",
       "    }\n",
       "</style>\n",
       "<table border=\"1\" class=\"dataframe\">\n",
       "  <thead>\n",
       "    <tr style=\"text-align: right;\">\n",
       "      <th></th>\n",
       "      <th>sequence_id_heavy</th>\n",
       "      <th>sequence_heavy</th>\n",
       "      <th>locus_heavy</th>\n",
       "      <th>stop_codon_heavy</th>\n",
       "      <th>vj_in_frame_heavy</th>\n",
       "      <th>v_frameshift_heavy</th>\n",
       "      <th>productive_heavy</th>\n",
       "      <th>rev_comp_heavy</th>\n",
       "      <th>complete_vdj_heavy</th>\n",
       "      <th>v_call_heavy</th>\n",
       "      <th>...</th>\n",
       "      <th>cdr3_end_light</th>\n",
       "      <th>np1_light</th>\n",
       "      <th>np1_length_light</th>\n",
       "      <th>np2_light</th>\n",
       "      <th>np2_length_light</th>\n",
       "      <th>c_region_light</th>\n",
       "      <th>Isotype_light</th>\n",
       "      <th>Redundancy_light</th>\n",
       "      <th>ANARCI_numbering_light</th>\n",
       "      <th>ANARCI_status_light</th>\n",
       "    </tr>\n",
       "  </thead>\n",
       "  <tbody>\n",
       "    <tr>\n",
       "      <th>0</th>\n",
       "      <td>AAACCTGAGAACTCGG-1_contig_2</td>\n",
       "      <td>GGCTTTCTGAGAGTCATGGACCTCCTGCACAAGAACATGAAACACC...</td>\n",
       "      <td>H</td>\n",
       "      <td>F</td>\n",
       "      <td>T</td>\n",
       "      <td>F</td>\n",
       "      <td>T</td>\n",
       "      <td>F</td>\n",
       "      <td>T</td>\n",
       "      <td>IGHV4-34*01</td>\n",
       "      <td>...</td>\n",
       "      <td>411.0</td>\n",
       "      <td>NaN</td>\n",
       "      <td>0.0</td>\n",
       "      <td>NaN</td>\n",
       "      <td>NaN</td>\n",
       "      <td>GTCAGCCCAAGGCTGCCCCCTCGGTCACTCTGTTCCCGCCCTCCTC...</td>\n",
       "      <td>Bulk</td>\n",
       "      <td>1.0</td>\n",
       "      <td>{'fwl1': {'1 ': 'Q', '2 ': 'S', '3 ': 'V', '4 ...</td>\n",
       "      <td>|||||</td>\n",
       "    </tr>\n",
       "    <tr>\n",
       "      <th>1</th>\n",
       "      <td>AAACCTGAGATATGGT-1_contig_2</td>\n",
       "      <td>AGCTCTGGGAGAGGAGCTCCAGCCTTGGGATTCCCAGCTGTCTCCA...</td>\n",
       "      <td>H</td>\n",
       "      <td>F</td>\n",
       "      <td>T</td>\n",
       "      <td>F</td>\n",
       "      <td>T</td>\n",
       "      <td>F</td>\n",
       "      <td>T</td>\n",
       "      <td>IGHV3-73*02</td>\n",
       "      <td>...</td>\n",
       "      <td>404.0</td>\n",
       "      <td>GCTGC</td>\n",
       "      <td>5.0</td>\n",
       "      <td>NaN</td>\n",
       "      <td>NaN</td>\n",
       "      <td>GTCAGCCCAAGGCTGCCCCCTCGGTCACTCTGTTCCCGCCCTCCTC...</td>\n",
       "      <td>Bulk</td>\n",
       "      <td>1.0</td>\n",
       "      <td>{'fwl1': {'1 ': 'Q', '2 ': 'S', '3 ': 'V', '4 ...</td>\n",
       "      <td>|||||</td>\n",
       "    </tr>\n",
       "    <tr>\n",
       "      <th>2</th>\n",
       "      <td>AAACCTGAGATGTCGG-1_contig_2</td>\n",
       "      <td>TGGGGACCCAAAAACCACACCCCTCCTTGGGAGAATCCCCTAGATC...</td>\n",
       "      <td>H</td>\n",
       "      <td>F</td>\n",
       "      <td>T</td>\n",
       "      <td>F</td>\n",
       "      <td>T</td>\n",
       "      <td>F</td>\n",
       "      <td>T</td>\n",
       "      <td>IGHV1-18*01</td>\n",
       "      <td>...</td>\n",
       "      <td>388.0</td>\n",
       "      <td>NaN</td>\n",
       "      <td>0.0</td>\n",
       "      <td>NaN</td>\n",
       "      <td>NaN</td>\n",
       "      <td>GTCAGCCCAAGGCTGCCCCCTCGGTCACTCTGTTCCCGCCCTCCTC...</td>\n",
       "      <td>Bulk</td>\n",
       "      <td>1.0</td>\n",
       "      <td>{'fwl1': {'1 ': 'S', '2 ': 'S', '3 ': 'E', '4 ...</td>\n",
       "      <td>|||||</td>\n",
       "    </tr>\n",
       "    <tr>\n",
       "      <th>3</th>\n",
       "      <td>AAACCTGAGCACCGTC-1_contig_2</td>\n",
       "      <td>ACCCAAAAACCACACCCCTCCTTGGGAGAATCCCCTAGATCACAGC...</td>\n",
       "      <td>H</td>\n",
       "      <td>F</td>\n",
       "      <td>T</td>\n",
       "      <td>F</td>\n",
       "      <td>T</td>\n",
       "      <td>F</td>\n",
       "      <td>T</td>\n",
       "      <td>IGHV1-18*01</td>\n",
       "      <td>...</td>\n",
       "      <td>398.0</td>\n",
       "      <td>NaN</td>\n",
       "      <td>0.0</td>\n",
       "      <td>NaN</td>\n",
       "      <td>NaN</td>\n",
       "      <td>GAACTGTGGCTGCACCATCTGTCTTCATCTTCCCGCCATCTGATGA...</td>\n",
       "      <td>Bulk</td>\n",
       "      <td>1.0</td>\n",
       "      <td>{'fwk1': {'1 ': 'E', '2 ': 'I', '3 ': 'V', '4 ...</td>\n",
       "      <td>|||||</td>\n",
       "    </tr>\n",
       "    <tr>\n",
       "      <th>4</th>\n",
       "      <td>AAACCTGAGCGTAATA-1_contig_2</td>\n",
       "      <td>AGCTCTGGGAGAGGAGCCCCAGCCGTGAGATTCCCAGGAGTTTCCA...</td>\n",
       "      <td>H</td>\n",
       "      <td>F</td>\n",
       "      <td>T</td>\n",
       "      <td>F</td>\n",
       "      <td>T</td>\n",
       "      <td>F</td>\n",
       "      <td>T</td>\n",
       "      <td>IGHV3-49*04</td>\n",
       "      <td>...</td>\n",
       "      <td>385.0</td>\n",
       "      <td>NaN</td>\n",
       "      <td>0.0</td>\n",
       "      <td>NaN</td>\n",
       "      <td>NaN</td>\n",
       "      <td>GTCAGCCCAACGCTGCCCCCTCGGTCACTCTGTTCCCGCCCTCCTC...</td>\n",
       "      <td>Bulk</td>\n",
       "      <td>1.0</td>\n",
       "      <td>{'fwl1': {'1 ': 'Q', '2 ': 'L', '3 ': 'V', '4 ...</td>\n",
       "      <td>|||||</td>\n",
       "    </tr>\n",
       "  </tbody>\n",
       "</table>\n",
       "<p>5 rows × 198 columns</p>\n",
       "</div>"
      ],
      "text/plain": [
       "             sequence_id_heavy  \\\n",
       "0  AAACCTGAGAACTCGG-1_contig_2   \n",
       "1  AAACCTGAGATATGGT-1_contig_2   \n",
       "2  AAACCTGAGATGTCGG-1_contig_2   \n",
       "3  AAACCTGAGCACCGTC-1_contig_2   \n",
       "4  AAACCTGAGCGTAATA-1_contig_2   \n",
       "\n",
       "                                      sequence_heavy locus_heavy  \\\n",
       "0  GGCTTTCTGAGAGTCATGGACCTCCTGCACAAGAACATGAAACACC...           H   \n",
       "1  AGCTCTGGGAGAGGAGCTCCAGCCTTGGGATTCCCAGCTGTCTCCA...           H   \n",
       "2  TGGGGACCCAAAAACCACACCCCTCCTTGGGAGAATCCCCTAGATC...           H   \n",
       "3  ACCCAAAAACCACACCCCTCCTTGGGAGAATCCCCTAGATCACAGC...           H   \n",
       "4  AGCTCTGGGAGAGGAGCCCCAGCCGTGAGATTCCCAGGAGTTTCCA...           H   \n",
       "\n",
       "  stop_codon_heavy vj_in_frame_heavy v_frameshift_heavy productive_heavy  \\\n",
       "0                F                 T                  F                T   \n",
       "1                F                 T                  F                T   \n",
       "2                F                 T                  F                T   \n",
       "3                F                 T                  F                T   \n",
       "4                F                 T                  F                T   \n",
       "\n",
       "  rev_comp_heavy complete_vdj_heavy v_call_heavy  ... cdr3_end_light  \\\n",
       "0              F                  T  IGHV4-34*01  ...          411.0   \n",
       "1              F                  T  IGHV3-73*02  ...          404.0   \n",
       "2              F                  T  IGHV1-18*01  ...          388.0   \n",
       "3              F                  T  IGHV1-18*01  ...          398.0   \n",
       "4              F                  T  IGHV3-49*04  ...          385.0   \n",
       "\n",
       "  np1_light np1_length_light np2_light np2_length_light  \\\n",
       "0       NaN              0.0       NaN              NaN   \n",
       "1     GCTGC              5.0       NaN              NaN   \n",
       "2       NaN              0.0       NaN              NaN   \n",
       "3       NaN              0.0       NaN              NaN   \n",
       "4       NaN              0.0       NaN              NaN   \n",
       "\n",
       "                                      c_region_light  Isotype_light  \\\n",
       "0  GTCAGCCCAAGGCTGCCCCCTCGGTCACTCTGTTCCCGCCCTCCTC...           Bulk   \n",
       "1  GTCAGCCCAAGGCTGCCCCCTCGGTCACTCTGTTCCCGCCCTCCTC...           Bulk   \n",
       "2  GTCAGCCCAAGGCTGCCCCCTCGGTCACTCTGTTCCCGCCCTCCTC...           Bulk   \n",
       "3  GAACTGTGGCTGCACCATCTGTCTTCATCTTCCCGCCATCTGATGA...           Bulk   \n",
       "4  GTCAGCCCAACGCTGCCCCCTCGGTCACTCTGTTCCCGCCCTCCTC...           Bulk   \n",
       "\n",
       "   Redundancy_light                             ANARCI_numbering_light  \\\n",
       "0               1.0  {'fwl1': {'1 ': 'Q', '2 ': 'S', '3 ': 'V', '4 ...   \n",
       "1               1.0  {'fwl1': {'1 ': 'Q', '2 ': 'S', '3 ': 'V', '4 ...   \n",
       "2               1.0  {'fwl1': {'1 ': 'S', '2 ': 'S', '3 ': 'E', '4 ...   \n",
       "3               1.0  {'fwk1': {'1 ': 'E', '2 ': 'I', '3 ': 'V', '4 ...   \n",
       "4               1.0  {'fwl1': {'1 ': 'Q', '2 ': 'L', '3 ': 'V', '4 ...   \n",
       "\n",
       "   ANARCI_status_light  \n",
       "0                |||||  \n",
       "1                |||||  \n",
       "2                |||||  \n",
       "3                |||||  \n",
       "4                |||||  \n",
       "\n",
       "[5 rows x 198 columns]"
      ]
     },
     "execution_count": 3,
     "metadata": {},
     "output_type": "execute_result"
    }
   ],
   "source": [
    "df.head()"
   ]
  },
  {
   "cell_type": "code",
   "execution_count": 4,
   "id": "a21448cc",
   "metadata": {},
   "outputs": [
    {
     "data": {
      "text/plain": [
       "311336388"
      ]
     },
     "execution_count": 4,
     "metadata": {},
     "output_type": "execute_result"
    }
   ],
   "source": [
    "df.size"
   ]
  },
  {
   "cell_type": "code",
   "execution_count": 5,
   "id": "70b88e6f",
   "metadata": {},
   "outputs": [
    {
     "data": {
      "text/plain": [
       "Index(['sequence_id_heavy', 'sequence_heavy', 'locus_heavy',\n",
       "       'stop_codon_heavy', 'vj_in_frame_heavy', 'v_frameshift_heavy',\n",
       "       'productive_heavy', 'rev_comp_heavy', 'complete_vdj_heavy',\n",
       "       'v_call_heavy',\n",
       "       ...\n",
       "       'cdr3_end_light', 'np1_light', 'np1_length_light', 'np2_light',\n",
       "       'np2_length_light', 'c_region_light', 'Isotype_light',\n",
       "       'Redundancy_light', 'ANARCI_numbering_light', 'ANARCI_status_light'],\n",
       "      dtype='object', length=198)"
      ]
     },
     "execution_count": 5,
     "metadata": {},
     "output_type": "execute_result"
    }
   ],
   "source": [
    "df.columns"
   ]
  },
  {
   "cell_type": "code",
   "execution_count": 6,
   "id": "baaeb2ea",
   "metadata": {},
   "outputs": [
    {
     "name": "stdout",
     "output_type": "stream",
     "text": [
      "sequence_id_heavy\n",
      "sequence_heavy\n",
      "locus_heavy\n",
      "stop_codon_heavy\n",
      "vj_in_frame_heavy\n",
      "v_frameshift_heavy\n",
      "productive_heavy\n",
      "rev_comp_heavy\n",
      "complete_vdj_heavy\n",
      "v_call_heavy\n",
      "d_call_heavy\n",
      "j_call_heavy\n",
      "sequence_alignment_heavy\n",
      "germline_alignment_heavy\n",
      "sequence_alignment_aa_heavy\n",
      "germline_alignment_aa_heavy\n",
      "v_alignment_start_heavy\n",
      "v_alignment_end_heavy\n",
      "d_alignment_start_heavy\n",
      "d_alignment_end_heavy\n",
      "j_alignment_start_heavy\n",
      "j_alignment_end_heavy\n",
      "v_sequence_alignment_heavy\n",
      "v_sequence_alignment_aa_heavy\n",
      "v_germline_alignment_heavy\n",
      "v_germline_alignment_aa_heavy\n",
      "d_sequence_alignment_heavy\n",
      "d_sequence_alignment_aa_heavy\n",
      "d_germline_alignment_heavy\n",
      "d_germline_alignment_aa_heavy\n",
      "j_sequence_alignment_heavy\n",
      "j_sequence_alignment_aa_heavy\n",
      "j_germline_alignment_heavy\n",
      "j_germline_alignment_aa_heavy\n",
      "fwr1_heavy\n",
      "fwr1_aa_heavy\n",
      "cdr1_heavy\n",
      "cdr1_aa_heavy\n",
      "fwr2_heavy\n",
      "fwr2_aa_heavy\n",
      "cdr2_heavy\n",
      "cdr2_aa_heavy\n",
      "fwr3_heavy\n",
      "fwr3_aa_heavy\n",
      "fwr4_heavy\n",
      "fwr4_aa_heavy\n",
      "cdr3_heavy\n",
      "cdr3_aa_heavy\n",
      "junction_heavy\n",
      "junction_length_heavy\n",
      "junction_aa_heavy\n",
      "junction_aa_length_heavy\n",
      "v_score_heavy\n",
      "d_score_heavy\n",
      "j_score_heavy\n",
      "v_cigar_heavy\n",
      "d_cigar_heavy\n",
      "j_cigar_heavy\n",
      "v_support_heavy\n",
      "d_support_heavy\n",
      "j_support_heavy\n",
      "v_identity_heavy\n",
      "d_identity_heavy\n",
      "j_identity_heavy\n",
      "v_sequence_start_heavy\n",
      "v_sequence_end_heavy\n",
      "v_germline_start_heavy\n",
      "v_germline_end_heavy\n",
      "d_sequence_start_heavy\n",
      "d_sequence_end_heavy\n",
      "d_germline_start_heavy\n",
      "d_germline_end_heavy\n",
      "j_sequence_start_heavy\n",
      "j_sequence_end_heavy\n",
      "j_germline_start_heavy\n",
      "j_germline_end_heavy\n",
      "fwr1_start_heavy\n",
      "fwr1_end_heavy\n",
      "cdr1_start_heavy\n",
      "cdr1_end_heavy\n",
      "fwr2_start_heavy\n",
      "fwr2_end_heavy\n",
      "cdr2_start_heavy\n",
      "cdr2_end_heavy\n",
      "fwr3_start_heavy\n",
      "fwr3_end_heavy\n",
      "fwr4_start_heavy\n",
      "fwr4_end_heavy\n",
      "cdr3_start_heavy\n",
      "cdr3_end_heavy\n",
      "np1_heavy\n",
      "np1_length_heavy\n",
      "np2_heavy\n",
      "np2_length_heavy\n",
      "c_region_heavy\n",
      "Isotype_heavy\n",
      "Redundancy_heavy\n",
      "ANARCI_numbering_heavy\n",
      "ANARCI_status_heavy\n",
      "sequence_id_light\n",
      "sequence_light\n",
      "locus_light\n",
      "stop_codon_light\n",
      "vj_in_frame_light\n",
      "v_frameshift_light\n",
      "productive_light\n",
      "rev_comp_light\n",
      "complete_vdj_light\n",
      "v_call_light\n",
      "d_call_light\n",
      "j_call_light\n",
      "sequence_alignment_light\n",
      "germline_alignment_light\n",
      "sequence_alignment_aa_light\n",
      "germline_alignment_aa_light\n",
      "v_alignment_start_light\n",
      "v_alignment_end_light\n",
      "d_alignment_start_light\n",
      "d_alignment_end_light\n",
      "j_alignment_start_light\n",
      "j_alignment_end_light\n",
      "v_sequence_alignment_light\n",
      "v_sequence_alignment_aa_light\n",
      "v_germline_alignment_light\n",
      "v_germline_alignment_aa_light\n",
      "d_sequence_alignment_light\n",
      "d_sequence_alignment_aa_light\n",
      "d_germline_alignment_light\n",
      "d_germline_alignment_aa_light\n",
      "j_sequence_alignment_light\n",
      "j_sequence_alignment_aa_light\n",
      "j_germline_alignment_light\n",
      "j_germline_alignment_aa_light\n",
      "fwr1_light\n",
      "fwr1_aa_light\n",
      "cdr1_light\n",
      "cdr1_aa_light\n",
      "fwr2_light\n",
      "fwr2_aa_light\n",
      "cdr2_light\n",
      "cdr2_aa_light\n",
      "fwr3_light\n",
      "fwr3_aa_light\n",
      "fwr4_light\n",
      "fwr4_aa_light\n",
      "cdr3_light\n",
      "cdr3_aa_light\n",
      "junction_light\n",
      "junction_length_light\n",
      "junction_aa_light\n",
      "junction_aa_length_light\n",
      "v_score_light\n",
      "d_score_light\n",
      "j_score_light\n",
      "v_cigar_light\n",
      "d_cigar_light\n",
      "j_cigar_light\n",
      "v_support_light\n",
      "d_support_light\n",
      "j_support_light\n",
      "v_identity_light\n",
      "d_identity_light\n",
      "j_identity_light\n",
      "v_sequence_start_light\n",
      "v_sequence_end_light\n",
      "v_germline_start_light\n",
      "v_germline_end_light\n",
      "d_sequence_start_light\n",
      "d_sequence_end_light\n",
      "d_germline_start_light\n",
      "d_germline_end_light\n",
      "j_sequence_start_light\n",
      "j_sequence_end_light\n",
      "j_germline_start_light\n",
      "j_germline_end_light\n",
      "fwr1_start_light\n",
      "fwr1_end_light\n",
      "cdr1_start_light\n",
      "cdr1_end_light\n",
      "fwr2_start_light\n",
      "fwr2_end_light\n",
      "cdr2_start_light\n",
      "cdr2_end_light\n",
      "fwr3_start_light\n",
      "fwr3_end_light\n",
      "fwr4_start_light\n",
      "fwr4_end_light\n",
      "cdr3_start_light\n",
      "cdr3_end_light\n",
      "np1_light\n",
      "np1_length_light\n",
      "np2_light\n",
      "np2_length_light\n",
      "c_region_light\n",
      "Isotype_light\n",
      "Redundancy_light\n",
      "ANARCI_numbering_light\n",
      "ANARCI_status_light\n"
     ]
    }
   ],
   "source": [
    "for col in df.columns:\n",
    "    print(col)"
   ]
  },
  {
   "cell_type": "code",
   "execution_count": 7,
   "id": "0db6f60f",
   "metadata": {},
   "outputs": [
    {
     "data": {
      "text/plain": [
       "'QSVVTQPPSASGTPGQTVTISCSGSSSNIGRGSVCWYQQLSGMAPKLLNYNNDQRPSGVPDRFSGSLSGTSASLAISGLQSEDEADYYCAVWDDSLAAWVFGGGTKLTVL'"
      ]
     },
     "execution_count": 7,
     "metadata": {},
     "output_type": "execute_result"
    }
   ],
   "source": [
    "df.loc[1, 'sequence_alignment_aa_light']\n",
    "\n",
    "#each letter corresponds to an amino acid"
   ]
  },
  {
   "cell_type": "code",
   "execution_count": 8,
   "id": "24535937",
   "metadata": {},
   "outputs": [
    {
     "data": {
      "text/plain": [
       "110"
      ]
     },
     "execution_count": 8,
     "metadata": {},
     "output_type": "execute_result"
    }
   ],
   "source": [
    "len(df.loc[1, 'sequence_alignment_aa_light'])\n",
    "\n",
    "#not necessarily divisible by three to give an integer"
   ]
  },
  {
   "cell_type": "code",
   "execution_count": 9,
   "id": "f121b415",
   "metadata": {},
   "outputs": [
    {
     "data": {
      "text/plain": [
       "110"
      ]
     },
     "execution_count": 9,
     "metadata": {},
     "output_type": "execute_result"
    }
   ],
   "source": [
    "#function to split sequence into codons - each three letter sequence forms an amino acid\n",
    "\n",
    "def count_aa(row_i, attribute):\n",
    "    return len(df.loc[row_i, attribute]) #/3\n",
    "    \n",
    "count_aa(1, 'sequence_alignment_aa_light')"
   ]
  },
  {
   "cell_type": "code",
   "execution_count": 10,
   "id": "bf6985af",
   "metadata": {},
   "outputs": [
    {
     "data": {
      "text/plain": [
       "0          111\n",
       "1          110\n",
       "2          107\n",
       "3          108\n",
       "4          111\n",
       "          ... \n",
       "1572401    112\n",
       "1572402    107\n",
       "1572403    107\n",
       "1572404    107\n",
       "1572405    107\n",
       "Length: 1572406, dtype: int64"
      ]
     },
     "execution_count": 10,
     "metadata": {},
     "output_type": "execute_result"
    }
   ],
   "source": [
    "sq_light = []\n",
    "for i in df.index:\n",
    "    sq_light.append(count_aa(i, 'sequence_alignment_aa_light'))\n",
    "sq_light = pd.Series(sq_light)\n",
    "\n",
    "sq_light"
   ]
  },
  {
   "cell_type": "code",
   "execution_count": 11,
   "id": "aa8601b7",
   "metadata": {},
   "outputs": [
    {
     "data": {
      "image/png": "[encoded data removed]",
      "text/plain": [
       "<Figure size 640x480 with 1 Axes>"
      ]
     },
     "metadata": {},
     "output_type": "display_data"
    }
   ],
   "source": [
    "plt.hist(sq_light, bins = 20, range=[100, 140])\n",
    "plt.xlabel(\"Sequence Length\")\n",
    "plt.ylabel(\"Frequency\")\n",
    "plt.title(\"Sequence Alignment - Light Amino Acids\")\n",
    "plt.show()\n",
    "\n",
    "#skewed to the right slightly"
   ]
  },
  {
   "cell_type": "code",
   "execution_count": 12,
   "id": "2f904d1e",
   "metadata": {},
   "outputs": [
    {
     "data": {
      "image/png": "[encoded data removed]",
      "text/plain": [
       "<Figure size 640x480 with 1 Axes>"
      ]
     },
     "metadata": {},
     "output_type": "display_data"
    }
   ],
   "source": [
    "plt.hist(sq_light, bins = 40, range=[100, 140])\n",
    "plt.xlabel(\"Sequence Length\")\n",
    "plt.ylabel(\"Frequency\")\n",
    "plt.title(\"Sequence Alignment - Light Amino Acids\")\n",
    "plt.show()"
   ]
  },
  {
   "cell_type": "code",
   "execution_count": 13,
   "id": "353ae075",
   "metadata": {},
   "outputs": [],
   "source": [
    "#explore all of these files, put them in dataframes and count\n",
    "\n",
    "# extract sequences from all of these gz files, append them into one huge df\n",
    "\n",
    "#count number of amino acids in a sequence per row using a function. \n",
    "\n",
    "#count length\n",
    "#plot in a histogram. x-axis length, y-axis frequency, expect a normal distribution with outliers\n",
    "\n",
    "#cdr3_start_light for the beginning of the chain. \n",
    "#cdr3_end_light; these will have varying lengths\n",
    "\n",
    "#look at other columns too\n",
    "\n",
    "#batch effects, some of these are from different studies"
   ]
  },
  {
   "cell_type": "code",
   "execution_count": 11,
   "id": "c62bf801",
   "metadata": {},
   "outputs": [
    {
     "data": {
      "text/plain": [
       "0          QVQLQQWGAGLLKPSETLSLTCAVYGGSFSGYYWSWIRQPPGKGLE...\n",
       "1          EVQLVESGGGLVQPGGSLKLSCAASGFTFSGSAIHWVRQASGKGLE...\n",
       "2          QVQLVQSGAEVKKPGASVKVSCKASGYTFTSYGISWVRQAPGQGLE...\n",
       "3          QVQLVQSGAEVKKPGASVKVSCKASGYTFADYGISWVRQAPGQGLE...\n",
       "4          EVQLVESGGGLVQPGRSLRLSCIGSGFTFSNYAINWVRQAPGKGLE...\n",
       "                                 ...                        \n",
       "1572401    EVQLVESGGGLVQPGRSLKLSCAASGFTFSNYYMAWVRQAPKKGLE...\n",
       "1572402    EVQLVESGGGLVQPGASLKLSCVASGFTFSDYWMSWVRQTPGKTME...\n",
       "1572403    EVQLVETGGGLVQPGNSLKLSCATSGFTFSTAWMNWIRQTPGKRLE...\n",
       "1572404    QVQLKESGPGLVQPSETLSLTCTVSGFSLTSNSVHWVRQPPGKGLE...\n",
       "1572405    QVQLKESGPGLVQPSQTLSLTCTVSGFSLTSNSVHWVRQPPGKGLE...\n",
       "Name: sequence_alignment_aa_heavy, Length: 1572406, dtype: object"
      ]
     },
     "execution_count": 11,
     "metadata": {},
     "output_type": "execute_result"
    }
   ],
   "source": [
    "df.loc[:, 'sequence_alignment_aa_heavy']"
   ]
  },
  {
   "cell_type": "code",
   "execution_count": 15,
   "id": "665d0d5e",
   "metadata": {},
   "outputs": [],
   "source": [
    "#repeat all of the operations in cell 16 for this col\n",
    "\n",
    "#figure out which columns are most impactful - most significant features. some may be linearly dependent\n",
    "\n"
   ]
  },
  {
   "cell_type": "code",
   "execution_count": 16,
   "id": "8e054923",
   "metadata": {},
   "outputs": [
    {
     "data": {
      "text/plain": [
       "0          139\n",
       "1          122\n",
       "2          116\n",
       "3          123\n",
       "4          122\n",
       "          ... \n",
       "1572401    116\n",
       "1572402    119\n",
       "1572403    122\n",
       "1572404    126\n",
       "1572405    118\n",
       "Length: 1572406, dtype: int64"
      ]
     },
     "execution_count": 16,
     "metadata": {},
     "output_type": "execute_result"
    }
   ],
   "source": [
    "sq_heavy = []\n",
    "for i in df.index:\n",
    "    sq_heavy.append(count_aa(i, 'sequence_alignment_aa_heavy'))\n",
    "sq_heavy = pd.Series(sq_heavy)\n",
    "\n",
    "sq_heavy"
   ]
  },
  {
   "cell_type": "code",
   "execution_count": 17,
   "id": "2189fb07",
   "metadata": {},
   "outputs": [
    {
     "data": {
      "image/png": "[encoded data removed]",
      "text/plain": [
       "<Figure size 640x480 with 1 Axes>"
      ]
     },
     "metadata": {},
     "output_type": "display_data"
    }
   ],
   "source": [
    "plt.hist(sq_heavy, bins = 20, range=[100, 140])\n",
    "plt.xlabel(\"Sequence Length\")\n",
    "plt.ylabel(\"Frequency\")\n",
    "plt.title(\"Sequence Alignment - Heavy Amino Acids\")\n",
    "plt.show()\n",
    "\n",
    "#mean of sequence length is more to the right, overall longer sequences in comparison to the light sequenced amino "
   ]
  },
  {
   "cell_type": "code",
   "execution_count": 18,
   "id": "be276bbd",
   "metadata": {},
   "outputs": [
    {
     "data": {
      "image/png": "[encoded data removed]",
      "text/plain": [
       "<Figure size 640x480 with 1 Axes>"
      ]
     },
     "metadata": {},
     "output_type": "display_data"
    }
   ],
   "source": [
    "plt.hist(sq_heavy, bins = 40, range=[100, 140])\n",
    "plt.xlabel(\"Sequence Length\")\n",
    "plt.ylabel(\"Frequency\")\n",
    "plt.title(\"Sequence Alignment - Heavy Amino Acids\")\n",
    "plt.show()\n"
   ]
  },
  {
   "cell_type": "markdown",
   "id": "b81b200c-e6b2-4b76-b963-1920efc1e963",
   "metadata": {},
   "source": [
    "## Ablang and ProteinBERT - Protein Embedding using language models"
   ]
  },
  {
   "cell_type": "code",
   "execution_count": null,
   "id": "aee49b91",
   "metadata": {},
   "outputs": [],
   "source": [
    "import ablang\n",
    "import tensorflow"
   ]
  },
  {
   "cell_type": "code",
   "execution_count": 10,
   "id": "d0df2aca",
   "metadata": {},
   "outputs": [],
   "source": [
    "heavy_ablang = ablang.pretrained(\"heavy\")\n",
    "heavy_ablang.freeze()"
   ]
  },
  {
   "cell_type": "code",
   "execution_count": 12,
   "id": "b3870fe6",
   "metadata": {},
   "outputs": [
    {
     "name": "stdout",
     "output_type": "stream",
     "text": [
      "----------------------------------------------------------------------------------------------------\n",
      "The output shape of the heavy seq-codings: (1, 768)\n",
      "----------------------------------------------------------------------------------------------------\n",
      "[[-5.15204049e-01  1.86946855e-02  4.57342742e-02  2.66064099e-01\n",
      "  -3.91621487e-01  4.45148899e-01  1.30301931e-01  1.64446585e-01\n",
      "  -2.21697543e-01 -1.14347810e-01 -5.25753608e-02 -1.41367518e-01\n",
      "  -8.59705235e-01  4.69719728e-02 -6.09022336e-02  2.55044980e-01\n",
      "   3.48898723e-01  9.58714071e-02 -1.96482236e-01  2.70695425e-01\n",
      "  -6.91633213e-02  1.22867902e-01  2.43296610e-01  2.04761738e-01\n",
      "  -5.96459591e-02 -7.96323192e-02  7.51844865e-01  7.88036273e-01\n",
      "  -2.75091369e-01 -8.98167559e-01  1.53827656e-01  1.79695818e-01\n",
      "   5.32633375e-01 -5.34723764e-01  9.86848550e-01 -3.20551729e-01\n",
      "  -6.82349197e-01 -3.02567581e-01 -1.72233566e-01 -8.15064523e-01\n",
      "   4.54509360e-01  1.65647069e-01  1.94579369e-01  1.46949613e-01\n",
      "   2.45111824e-01  2.37872252e-01 -1.73265350e-01  2.66830921e-03\n",
      "  -3.70328692e-02 -1.89480819e-01 -4.04410259e-01  8.69644566e-01\n",
      "  -1.72257491e-01  1.41024443e-01 -3.05785366e-01 -2.93625500e-01\n",
      "   7.84424156e-02  1.29893832e-01  7.10741808e-01 -2.29700656e-01\n",
      "  -3.07816406e-01  6.22349222e-01 -3.51683646e-01 -9.48898428e-02\n",
      "   5.29537916e-01 -5.77524892e-01 -9.02595407e-02  1.28087550e-02\n",
      "   3.50528874e-01 -2.25377858e-01 -3.83514292e-01  1.98560113e-01\n",
      "  -1.54723819e-01 -5.72875702e-01 -2.03636222e-01 -1.09388490e-01\n",
      "   3.66321745e-01  3.02254223e-01  3.18245718e-01 -4.71246960e-01\n",
      "  -1.21330676e-01  2.67403275e-01  5.89556834e-01  6.37445700e-01\n",
      "  -3.63090943e-01 -4.45288208e-02  7.35560139e-01 -1.71360778e-01\n",
      "   6.04309843e-01  3.62185979e-01  3.73378102e-01 -3.07468821e-01\n",
      "  -2.36030723e-01  7.09149345e-01  6.36934490e-01 -2.30992104e-02\n",
      "   5.96524333e-01 -7.40499097e-01 -1.89583310e-01  4.95832462e-01\n",
      "   5.26157378e-01  1.30596161e-01 -8.99630984e-01  2.24858324e-01\n",
      "  -2.89764069e-01 -2.75805874e-01  3.02987054e-01  4.12370823e-01\n",
      "  -3.15989293e-01  9.51256209e-01  1.27818297e-01  1.40979744e-02\n",
      "  -6.05639570e-01  1.15779715e+00 -9.35822316e-02 -2.52621066e-01\n",
      "  -2.90406323e-01  2.76649314e-02  4.91378721e-02  1.39012226e-02\n",
      "  -9.34236833e-01  1.62016658e-01  1.70990740e-01 -4.00294169e-01\n",
      "   1.67955407e-01 -1.66105926e-01  6.37988110e-01  4.10647038e-01\n",
      "  -3.79043432e-02  2.81661631e-01  2.62953502e-01  5.67384168e-01\n",
      "   7.49105036e-02 -7.23088689e-01 -4.96657461e-01 -4.51573016e-01\n",
      "  -6.38681872e-01  3.08231741e-01 -1.03171828e+00 -2.66399573e-01\n",
      "   1.80174062e-01  6.81510719e-01 -7.53517980e-02 -5.70628981e-01\n",
      "   7.20162851e-01  4.47602672e-01  3.99513216e-01  4.21460384e-01\n",
      "  -4.94419404e-01 -3.53814056e-01 -7.90541551e-01  3.44675185e-02\n",
      "  -1.13408255e-01 -1.91766178e-01  3.99782119e-01 -2.97963926e-02\n",
      "   3.72045637e-01 -1.77418497e-01  7.86890981e-02 -1.68437233e-01\n",
      "  -9.34983419e-01 -2.18511003e-01 -7.12067506e-01 -2.71196932e-02\n",
      "  -5.54852742e-02 -2.08680239e-01 -1.20604392e+00  2.30864170e-02\n",
      "   2.92111234e-01 -3.53101065e-01  8.21075451e-02  5.29791972e-01\n",
      "  -8.45495881e-01  5.59157685e-02  3.93552383e-01  2.26137066e-01\n",
      "   1.19154734e-01 -9.94052745e-01 -6.89735780e-01 -2.11923934e-02\n",
      "  -1.18578685e+00 -4.83504999e-01 -1.22902895e-01  1.66037381e-02\n",
      "  -3.01667856e-01  6.84886464e-01  4.55904612e-01 -5.91000117e-01\n",
      "  -9.94554657e-02 -1.04900724e-01 -5.20116862e-01  1.66691372e-02\n",
      "  -1.01596796e+00  4.56529113e-01 -7.40696309e-02 -5.94656828e-01\n",
      "   4.06625424e-02  9.72529226e-01 -1.94303375e-01  5.55193871e-01\n",
      "  -6.46220821e-01 -9.66552075e-01 -1.89910278e-01  4.39722408e-01\n",
      "   8.50503938e-02 -1.76869281e-01 -7.45954034e-01 -7.47673303e-02\n",
      "   2.96959635e-01  1.74209203e-02 -4.89255242e-01  4.53953041e-01\n",
      "   9.22350612e-01 -2.16410642e-01  4.64699828e-01  6.50878846e-01\n",
      "  -1.15381682e+00  7.08536683e-02  5.40544520e-01 -1.17689606e-01\n",
      "  -8.09720622e-02 -5.23866723e-01 -2.19379526e-01  1.05234419e-01\n",
      "   4.75623761e-01  2.74516753e-01  3.28655084e-01 -4.44565745e-01\n",
      "   5.33277018e-01 -2.50503825e-01 -4.77704779e-01  1.08854179e-01\n",
      "  -1.02969416e-02 -7.76420758e-01  9.34161286e-03  3.39590627e-01\n",
      "   1.22984200e-01  1.13812053e-01 -4.61853886e-01 -2.02899606e-01\n",
      "   8.99213555e-01 -2.33738091e-01 -1.41092940e-01 -1.88227508e-01\n",
      "  -5.51031771e-01  8.60442521e-01  1.85279969e-01 -4.34239144e-01\n",
      "   2.79424282e-02 -3.47217403e-01 -5.49251122e-02 -1.02442487e-01\n",
      "   3.58679750e-01 -2.91430525e-01 -1.63626609e-01  4.06731005e-01\n",
      "   2.49378738e-01  1.94882731e-01 -2.24447595e-01 -6.65398642e-01\n",
      "  -3.03602099e-01 -2.47960437e-01  2.66064641e-01  5.08736896e-01\n",
      "   5.99021530e-01  6.63325366e-02 -4.88636532e-02  1.09707995e-02\n",
      "  -1.11320953e+00  3.97240993e-02  3.75017099e-01  5.51141018e-01\n",
      "   6.30507169e-01 -2.76650280e-02 -4.66814010e-01  4.03181801e-02\n",
      "   7.32238002e-01  7.70497600e-01 -4.07336328e-01  4.53790875e-01\n",
      "  -3.35749375e-01 -4.21607203e-01 -4.93738218e-01 -2.38443179e-01\n",
      "   3.58311210e-01 -8.52862644e-02  4.73242639e-02  2.40494161e-01\n",
      "  -8.56021139e-02  4.37026620e-01  1.11324226e-01 -2.26484820e-01\n",
      "  -1.29523479e-01  3.40934540e-02  2.75909374e-01 -8.40311982e-01\n",
      "   8.46908561e-01  9.70304868e-01 -1.04022970e+00 -8.00345965e-01\n",
      "  -3.27211060e-01 -1.18261961e-01  3.05453668e-01 -3.83047392e-01\n",
      "  -6.21937622e-02 -1.01183012e+00 -6.49802606e-01  1.98848531e-01\n",
      "  -1.08329767e-02 -5.18237413e-02 -4.07031990e-01  3.98379231e-01\n",
      "   2.73327650e-01  4.44680044e-01  9.52838248e-01 -5.88669624e-01\n",
      "  -3.95779336e-01  9.57907466e-01  6.61520938e-01  4.23381994e-01\n",
      "  -5.59358488e-01  6.59390875e-02  1.16691929e-01 -2.02540360e-01\n",
      "  -7.47577656e-02  4.65698599e-01  8.03416771e-01 -1.08850859e-01\n",
      "   7.38801274e-01  3.76917413e-01 -9.98427487e-01  1.82833314e-01\n",
      "   6.98093999e-01 -8.17304304e-02  1.97709015e-01 -1.67323790e-01\n",
      "  -4.88205769e-01  2.14268494e-01 -1.12200880e+00  8.29416771e-01\n",
      "   1.71715424e-01  5.29195868e-01  4.44201791e-01  5.42574004e-02\n",
      "   2.85574643e-01  9.67779191e-02  4.07475833e-01  8.37115445e-01\n",
      "  -1.77963123e-01  1.16281032e-01  6.15644149e-02 -1.15854153e-01\n",
      "  -2.85299097e-01 -5.02047799e-02  3.36920523e-01 -1.63699248e-01\n",
      "   4.93233664e-01  6.29421743e-02  5.55622787e-01 -1.79469820e-01\n",
      "  -1.36937135e+00 -2.89162063e-02 -3.72866191e-01  2.04699452e-02\n",
      "   2.34855718e-01  1.72876692e-01 -7.24795076e-02 -4.43768919e-01\n",
      "   1.55454890e-01 -8.37242727e-02 -4.38846037e-02  4.95728230e-01\n",
      "   1.04975986e-01  5.39328387e-01  2.10304751e-01  4.44070222e-02\n",
      "   7.14590607e-01 -1.71140720e-01  8.83991548e-01  5.05077797e-01\n",
      "   3.66271886e-01  3.98488635e-01  2.66201917e-01  4.53612216e-01\n",
      "   7.20662020e-02 -5.09800374e-01 -7.44432936e-01 -4.56814424e-01\n",
      "  -2.61101431e-01 -8.76867078e-01 -1.81731771e-01 -9.28659604e-02\n",
      "  -1.66053140e-01  2.58982927e-01 -2.49285364e-01 -1.11208693e+00\n",
      "  -3.90259857e-01  6.71119150e-01  7.56456802e-01  5.62340089e-01\n",
      "  -6.71798333e-01 -1.88357291e-01  1.27512493e-01  1.68125378e-01\n",
      "  -1.54027103e-01  6.72440986e-01 -5.10576258e-01  1.66766566e-01\n",
      "  -1.09828328e+00 -1.40338983e-01  5.71002608e-01 -4.07687006e-01\n",
      "  -2.04127288e-01 -1.17742068e-01  2.72986554e-01  5.83224010e-01\n",
      "  -2.93644838e-02 -2.20189120e-01 -3.63631511e-01  1.83908104e-01\n",
      "  -5.14552687e-01  8.65298479e-01  4.55635984e-01 -5.89206173e-01\n",
      "  -9.13083451e-02 -6.12778304e-01 -6.28623743e-01 -1.14610539e-01\n",
      "  -3.96619858e-01  2.85044583e-01 -4.23001965e-01  2.45132294e-01\n",
      "  -1.70752987e-01  9.20936955e-03  5.89066003e-01  8.51706980e-01\n",
      "   3.93923464e-02 -3.91358723e-01 -4.42363854e-01 -3.98159300e-01\n",
      "   3.68078213e-01  6.71750074e-01 -2.75608430e-01 -6.08545640e-01\n",
      "   1.17146882e-01 -5.92811940e-01  9.79681666e-01 -2.04198391e-01\n",
      "  -6.50205750e-01 -3.53020270e-01 -2.13432215e-01  8.15221849e-02\n",
      "   4.78605172e-01 -7.04007275e-02 -5.23196945e-01 -1.90481412e-01\n",
      "   5.82426620e-01  6.65036753e-01  3.87095195e-01  6.03782811e-01\n",
      "  -5.13087374e-01  2.37366460e-01  6.07972697e-01 -1.52604813e-02\n",
      "   1.42863183e-01  6.01117201e-01  2.32381818e-01 -2.22674808e-01\n",
      "   3.14701652e-01 -2.12999636e-01  3.49673749e-01  9.68090897e-01\n",
      "   4.87120103e-01 -5.47159418e-01 -1.50183544e-01 -2.60715321e-01\n",
      "  -5.72826752e-02 -1.09275410e-01  5.26514279e-01  4.35105083e-01\n",
      "   6.36295173e-01  2.92592730e-01 -8.63842961e-01 -2.55287494e-01\n",
      "  -9.26086085e-01  2.31405035e-01 -4.89533061e-02 -1.44148691e-01\n",
      "   3.60918192e-01 -3.53394699e-01 -1.63536577e-01 -1.64174959e-01\n",
      "  -2.65633135e-01  5.11058134e-01 -2.04959791e-01 -4.49738691e-03\n",
      "  -3.39730590e-02 -2.37416401e-01  1.19181335e-01 -8.48108990e-01\n",
      "  -8.61336789e-02  3.15771257e-01 -2.02194966e-02  8.31497029e-02\n",
      "  -2.02456355e-01  2.59774325e-01 -2.46788925e-01 -9.82625742e-01\n",
      "   7.36956011e-01 -6.04462082e-01  4.58857013e-01 -1.10109483e-01\n",
      "   1.78209666e-01 -3.74577212e-01 -6.95969040e-01 -4.16542032e-01\n",
      "   4.23705620e-01 -5.75521136e-01  3.59499745e-01  5.26842711e-01\n",
      "   4.61042434e-01  5.90962069e-01 -4.86758143e-01 -2.84519654e-01\n",
      "  -2.34930825e-02  8.80128398e-02  2.82627113e-01  1.49295386e-01\n",
      "   3.92005182e-02  2.71536567e-03 -7.58194396e-02  4.30757340e-01\n",
      "  -6.00510826e-01  2.11667958e-01 -2.55093141e-01  4.49234418e-01\n",
      "   1.75854614e-01 -3.35905906e-01 -8.40298941e-01  3.43846452e-01\n",
      "   6.10149813e-01  8.33701487e-02 -4.88676992e-01 -2.24353715e-01\n",
      "  -3.22203969e-01 -2.59613119e-01 -3.68059920e-02  1.20727079e-01\n",
      "   2.20370938e-01 -3.91362251e-01  5.71808063e-01 -1.56873528e-01\n",
      "  -3.72668127e-01 -5.69014410e-03 -3.23838396e-01 -5.33413940e-01\n",
      "  -2.09186754e-01 -3.05089770e-02 -4.98576105e-01  3.31832183e-01\n",
      "   7.93041030e-01 -8.14372469e-01  1.15787250e-02 -1.98888343e-01\n",
      "   1.82321430e-01 -4.02137266e-01  2.92841079e-01  5.63707970e-01\n",
      "  -4.15884792e-01  5.09822164e-01  2.08945289e-01 -2.51590589e-01\n",
      "  -6.10054301e-01  2.09929702e-01 -4.34481775e-01  1.40491053e-01\n",
      "   3.20026270e-01  5.24228044e-01 -6.40306370e-01  5.92174740e-01\n",
      "   2.89240485e-01 -7.12102421e-01 -6.55574939e-02  3.55323370e-02\n",
      "   8.06920123e-01  3.70101366e-01  6.14774793e-01  4.18975277e-02\n",
      "  -1.20136199e-01  1.19601400e-01 -3.06120718e-01 -3.75196303e-01\n",
      "  -7.23874303e-01 -1.24116464e-01  8.15332327e-02  3.96240797e-03\n",
      "   7.15325419e-02 -1.51993711e-01  1.54534212e-01  2.70837321e-01\n",
      "  -2.19403934e-01 -2.02957150e-01  1.78971819e-01 -2.30034888e-01\n",
      "  -5.72833609e-01 -2.52458597e-01 -1.77976772e-02  8.45307676e-01\n",
      "  -1.92340677e-01  1.92000837e-01 -5.28153666e-02  7.59826052e-03\n",
      "   5.45624480e-01  9.92078922e-02  7.74409033e-01 -5.28782678e-01\n",
      "  -7.43185715e-01  3.47975241e-01  3.29402040e-01 -5.50134882e-01\n",
      "  -7.95890801e-01 -5.31812731e-01  1.06743657e+00 -3.01481157e-01\n",
      "  -6.80633965e-01  2.54026062e-01 -2.38447272e-01  3.27328484e-01\n",
      "   1.38472404e-01 -3.96013562e-01  2.19645524e-01 -3.16529758e-01\n",
      "  -1.40021008e-01  3.32343270e-01  4.96716251e-01 -1.18278518e-02\n",
      "  -6.20877928e-01  4.23480208e-01  4.50531769e-01  1.77615970e-02\n",
      "   7.81758117e-01 -1.47025724e-01 -3.40097827e-01 -5.91711036e-01\n",
      "   3.97445254e-01  2.77488893e-01 -2.94827834e-01 -3.91292695e-01\n",
      "   7.35504625e-02 -4.51464189e-01  1.83672372e-02 -1.79061200e-01\n",
      "  -5.46797957e-04  1.51509425e-02  5.33890641e-01  2.52284147e-01\n",
      "  -2.05144356e-01  1.82851953e-01  3.12580585e-01 -3.40770439e-02\n",
      "  -9.71996186e-02  1.57744642e-01  8.55334291e-01 -2.06089726e-01\n",
      "   6.40634621e-01  9.07380104e-01  1.74457848e-01 -1.02086894e+00\n",
      "   8.32595733e-01 -5.72818820e-01  2.33065505e-02 -4.55090357e-01\n",
      "   3.05678201e-01 -1.77262901e-01  1.74854286e-01  4.75917921e-01\n",
      "  -5.02237766e-01  7.86007957e-02  2.14554201e-01  4.75981780e-01\n",
      "   6.51529213e-01  4.17479050e-01 -2.06435592e-01 -5.17645778e-01\n",
      "   6.95182930e-01  8.34147658e-01  5.86696115e-02  3.05214626e-01\n",
      "  -9.21462889e-01  1.20080951e-01 -5.16487790e-01 -8.32758561e-01\n",
      "  -5.34401798e-01  8.33804717e-02  3.70415199e-01  3.69880224e-02\n",
      "   3.96932193e-01 -7.51923936e-01 -1.42052399e-01 -4.31941504e-01\n",
      "   1.16288236e-02 -8.41752364e-02 -3.70363437e-01 -3.38478530e-01\n",
      "   3.23316584e-01 -3.58129337e-01  2.31301770e-01  3.62476865e-01\n",
      "  -4.77262676e-02 -3.84890232e-01  5.65410615e-01  3.56505449e-01\n",
      "   5.92252122e-01  8.99777258e-02 -9.61322414e-02 -4.05472453e-01\n",
      "   4.32936590e-02  3.49320837e-01 -6.17022192e-01 -2.11307097e-01\n",
      "  -5.25744869e-01 -2.74846170e-01 -5.98822219e-01  2.94816480e-01\n",
      "  -3.35297603e-01 -3.00753475e-01 -9.02954455e-02 -6.63889283e-01\n",
      "  -5.98443303e-01  2.63168093e-01  8.89450522e-01 -5.72674150e-01\n",
      "  -4.64535877e-01  1.13979441e+00  5.42767482e-01  1.04138293e-01\n",
      "   2.77245568e-01 -6.44538990e-01  3.41252766e-01 -7.29081032e-02\n",
      "  -2.66902314e-01  9.30963047e-01  5.99548767e-01 -3.06160872e-02\n",
      "  -5.28744057e-01  3.22643273e-01  2.29131080e-01 -2.48923611e-01\n",
      "  -1.26977875e-01  9.90394792e-02  2.94526242e-01  8.12024878e-01\n",
      "   2.10129586e-01  1.46289603e-01  2.77852849e-01  1.17039360e-01\n",
      "  -6.61851301e-01  1.13080355e-01  8.72645177e-02  2.43348887e-01\n",
      "   2.06070325e-01  2.58521636e-01 -1.14882940e+00 -2.16966241e-01\n",
      "   5.64564892e-01 -3.80642315e-01  2.69391702e-01  8.62361072e-01]]\n"
     ]
    }
   ],
   "source": [
    "seqs_heavy = df.loc[1, 'sequence_alignment_aa_heavy']\n",
    "\n",
    "seqcodings = heavy_ablang(seqs_heavy, mode='seqcoding')\n",
    "print(\"-\"*100)\n",
    "print(\"The output shape of the heavy seq-codings:\", seqcodings.shape)\n",
    "print(\"-\"*100)\n",
    "\n",
    "print(seqcodings)"
   ]
  },
  {
   "cell_type": "code",
   "execution_count": 13,
   "id": "b7312e5a-ac9e-4fe7-9d8b-499e88941dc2",
   "metadata": {},
   "outputs": [
    {
     "name": "stdout",
     "output_type": "stream",
     "text": [
      "Downloading model ...\n"
     ]
    },
    {
     "name": "stderr",
     "output_type": "stream",
     "text": [
      "x amodel.pt\n",
      "x hparams.json\n",
      "x vocab.json\n"
     ]
    }
   ],
   "source": [
    "light_ablang = ablang.pretrained(\"light\")\n",
    "light_ablang.freeze()"
   ]
  },
  {
   "cell_type": "code",
   "execution_count": 16,
   "id": "62e6c090-deec-4015-91f5-b340dcef93dc",
   "metadata": {},
   "outputs": [
    {
     "name": "stdout",
     "output_type": "stream",
     "text": [
      "----------------------------------------------------------------------------------------------------\n",
      "The output shape of the light seq-codings: (5, 768)\n",
      "----------------------------------------------------------------------------------------------------\n",
      "[[-0.77981808  0.52742334 -1.01749978 ... -1.00904337  0.52656486\n",
      "   0.59242644]\n",
      " [-0.69263235  1.39279804 -1.16059907 ... -0.24491818  0.85339339\n",
      "   0.60039475]\n",
      " [-0.55365255  0.51846467 -0.65653344 ...  0.64035633  0.74914241\n",
      "   0.74329742]\n",
      " [-0.50022303 -0.23523529 -0.23697622 ... -0.02761334 -0.06704977\n",
      "   0.94365821]\n",
      " [-0.76195578  1.41742547 -1.39856508 ... -0.43760041  1.1830603\n",
      "   0.9802342 ]]\n"
     ]
    }
   ],
   "source": [
    "seqs_light = df.loc[1:5, 'sequence_alignment_aa_light']\n",
    "\n",
    "seqcodings = light_ablang(seqs_light, mode='seqcoding')\n",
    "print(\"-\"*100)\n",
    "print(\"The output shape of the light seq-codings:\", seqcodings.shape)\n",
    "print(\"-\"*100)\n",
    "\n",
    "print(seqcodings)"
   ]
  },
  {
   "cell_type": "markdown",
   "id": "efdfa243-3f25-4ae8-a615-e47a5ce9e501",
   "metadata": {},
   "source": [
    "**ProteinBERT"
   ]
  },
  {
   "cell_type": "code",
   "execution_count": 1,
   "id": "60cfecf7-addf-47f6-b128-2b5f731630af",
   "metadata": {},
   "outputs": [],
   "source": [
    "import torch\n",
    "from protein_bert_pytorch import ProteinBERT\n",
    "\n",
    "model = ProteinBERT(\n",
    "    num_tokens = 21,\n",
    "    num_annotation = 8943,\n",
    "    dim = 512,\n",
    "    dim_global = 256,\n",
    "    depth = 6,\n",
    "    narrow_conv_kernel = 9,\n",
    "    wide_conv_kernel = 9,\n",
    "    wide_conv_dilation = 5,\n",
    "    attn_heads = 8,\n",
    "    attn_dim_head = 64\n",
    ")\n",
    "\n",
    "seq = torch.randint(0, 21, (2, 2048))\n",
    "mask = torch.ones(2, 2048).bool()\n",
    "annotation = torch.randint(0, 1, (2, 8943)).float()\n",
    "\n",
    "seq_logits, annotation_logits = model(seq, annotation, mask = mask) # (2, 2048, 21), (2, 8943)"
   ]
  },
  {
   "cell_type": "code",
   "execution_count": null,
   "id": "abc01da5-a704-4578-b3e4-8712255d366b",
   "metadata": {},
   "outputs": [],
   "source": [
    "import torch\n",
    "from protein_bert_pytorch import ProteinBERT, PretrainingWrapper\n",
    "\n",
    "model = ProteinBERT(\n",
    "    num_tokens = 21,\n",
    "    num_annotation = 8943,\n",
    "    dim = 512,\n",
    "    dim_global = 256,\n",
    "    depth = 6,\n",
    "    narrow_conv_kernel = 9,\n",
    "    wide_conv_kernel = 9,\n",
    "    wide_conv_dilation = 5,\n",
    "    attn_heads = 8,\n",
    "    attn_dim_head = 64,\n",
    "    local_to_global_attn = False,\n",
    "    local_self_attn = True,\n",
    "    num_global_tokens = 2,\n",
    "    glu_conv = False\n",
    ")\n",
    "\n",
    "learner = PretrainingWrapper(\n",
    "    model,\n",
    "    random_replace_token_prob = 0.05,    # what percentage of the tokens to replace with a random one, defaults to 5% as in paper\n",
    "    remove_annotation_prob = 0.25,       # what percentage of annotations to remove, defaults to 25%\n",
    "    add_annotation_prob = 0.01,          # probability to add an annotation randomly, defaults to 1%\n",
    "    remove_all_annotations_prob = 0.5,   # what percentage of batch items to remove annotations for completely, defaults to 50%\n",
    "    seq_loss_weight = 1.,                # weight on loss of sequence\n",
    "    annotation_loss_weight = 1.,         # weight on loss of annotation\n",
    "    exclude_token_ids = (0, 1, 2)        # for excluding padding, start, and end tokens from being masked\n",
    ")\n",
    "\n",
    "# do the following in a loop for a lot of sequences and annotations\n",
    "\n",
    "seq        = torch.randint(0, 21, (2, 2048))\n",
    "annotation = torch.randint(0, 1, (2, 8943)).float()\n",
    "mask       = torch.ones(2, 2048).bool()\n",
    "\n",
    "loss = learner(seq, annotation, mask = mask) # (2, 2048, 21), (2, 8943)\n",
    "loss.backward()\n",
    "\n",
    "# save your model and evaluate it\n",
    "\n",
    "torch.save(model, './improved-protein-bert.pt')"
   ]
  },
  {
   "cell_type": "code",
   "execution_count": null,
   "id": "884f062d-45f0-4997-9ef5-7169bdc4d8ae",
   "metadata": {},
   "outputs": [],
   "source": [
    "import os\n",
    "\n",
    "import pandas as pd\n",
    "from IPython.display import display\n",
    "\n",
    "import tensorflow \n",
    "from tensorflow import keras\n",
    "\n",
    "from proteinbert import OutputType, OutputSpec, FinetuningModelGenerator, load_pretrained_model, finetune, evaluate_by_len\n",
    "from proteinbert.conv_and_global_attention_model import get_model_with_hidden_layers_as_outputs"
   ]
  },
  {
   "cell_type": "code",
   "execution_count": 1,
   "id": "c0e7582a-0753-4619-b0c3-c59a38391628",
   "metadata": {},
   "outputs": [
    {
     "ename": "NameError",
     "evalue": "name 'load_pretrained_model' is not defined",
     "output_type": "error",
     "traceback": [
      "\u001b[0;31m---------------------------------------------------------------------------\u001b[0m",
      "\u001b[0;31mNameError\u001b[0m                                 Traceback (most recent call last)",
      "\u001b[0;32m/var/folders/pm/7ykmdfh54tndbkghdcjn63vh0000gn/T/ipykernel_41235/766430042.py\u001b[0m in \u001b[0;36m<module>\u001b[0;34m\u001b[0m\n\u001b[1;32m      1\u001b[0m \u001b[0;31m# Loading the pre-trained model and fine-tuning it on the loaded dataset\u001b[0m\u001b[0;34m\u001b[0m\u001b[0;34m\u001b[0m\u001b[0m\n\u001b[1;32m      2\u001b[0m \u001b[0;34m\u001b[0m\u001b[0m\n\u001b[0;32m----> 3\u001b[0;31m \u001b[0mpretrained_model_generator\u001b[0m\u001b[0;34m,\u001b[0m \u001b[0minput_encoder\u001b[0m \u001b[0;34m=\u001b[0m \u001b[0mload_pretrained_model\u001b[0m\u001b[0;34m(\u001b[0m\u001b[0;34m)\u001b[0m\u001b[0;34m\u001b[0m\u001b[0;34m\u001b[0m\u001b[0m\n\u001b[0m\u001b[1;32m      4\u001b[0m \u001b[0;34m\u001b[0m\u001b[0m\n\u001b[1;32m      5\u001b[0m \u001b[0;31m# get_model_with_hidden_layers_as_outputs gives the model output access to the hidden layers (on top of the output)\u001b[0m\u001b[0;34m\u001b[0m\u001b[0;34m\u001b[0m\u001b[0m\n",
      "\u001b[0;31mNameError\u001b[0m: name 'load_pretrained_model' is not defined"
     ]
    }
   ],
   "source": [
    "\n",
    "# Loading the pre-trained model and fine-tuning it on the loaded dataset\n",
    "\n",
    "pretrained_model_generator, input_encoder = load_pretrained_model()\n",
    "\n",
    "# get_model_with_hidden_layers_as_outputs gives the model output access to the hidden layers (on top of the output)\n",
    "model_generator = FinetuningModelGenerator(pretrained_model_generator, OUTPUT_SPEC, pretraining_model_manipulation_function = \\\n",
    "        get_model_with_hidden_layers_as_outputs, dropout_rate = 0.5)\n",
    "\n",
    "training_callbacks = [\n",
    "    keras.callbacks.ReduceLROnPlateau(patience = 1, factor = 0.25, min_lr = 1e-05, verbose = 1),\n",
    "    keras.callbacks.EarlyStopping(patience = 2, restore_best_weights = True),\n",
    "]\n",
    "\n",
    "finetune(model_generator, input_encoder, OUTPUT_SPEC, train_set['seq'], train_set['label'], valid_set['seq'], valid_set['label'], \\\n",
    "        seq_len = 512, batch_size = 32, max_epochs_per_stage = 40, lr = 1e-04, begin_with_frozen_pretrained_layers = True, \\\n",
    "        lr_with_frozen_pretrained_layers = 1e-02, n_final_epochs = 1, final_seq_len = 1024, final_lr = 1e-05, callbacks = training_callbacks)\n",
    "\n",
    "\n",
    "# Evaluating the performance on the test-set\n",
    "\n",
    "results, confusion_matrix = evaluate_by_len(model_generator, input_encoder, OUTPUT_SPEC, test_set['seq'], test_set['label'], \\\n",
    "        start_seq_len = 512, start_batch_size = 32)\n",
    "\n",
    "print('Test-set performance:')\n",
    "display(results)\n",
    "\n",
    "print('Confusion matrix:')\n",
    "display(confusion_matrix)"
   ]
  },
  {
   "cell_type": "code",
   "execution_count": null,
   "id": "73828d91-7355-45f4-98b9-0d429e4d81d0",
   "metadata": {},
   "outputs": [],
   "source": []
  }
 ],
 "metadata": {
  "kernelspec": {
   "display_name": "Python 3 (ipykernel)",
   "language": "python",
   "name": "python3"
  },
  "language_info": {
   "codemirror_mode": {
    "name": "ipython",
    "version": 3
   },
   "file_extension": ".py",
   "mimetype": "text/x-python",
   "name": "python",
   "nbconvert_exporter": "python",
   "pygments_lexer": "ipython3",
   "version": "3.9.13"
  }
 },
 "nbformat": 4,
 "nbformat_minor": 5
}
