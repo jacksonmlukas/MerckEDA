{
 "cells": [
  {
   "cell_type": "markdown",
   "id": "4b7caa4d",
   "metadata": {},
   "source": [
    "## MERCK Data Discovery Project - Malavikha Sudarshan #"
   ]
  },
  {
   "cell_type": "code",
   "execution_count": 1,
   "id": "6e03d23b",
   "metadata": {},
   "outputs": [],
   "source": [
    "import numpy as np\n",
    "\n",
    "import pandas as pd\n",
    "# from pandas.api.types import CategoricalDtype\n",
    "\n",
    "# %matplotlib inline\n",
    "import matplotlib.pyplot as plt\n",
    "# import seaborn as sns\n",
    "# from sklearn import linear_model as lm\n",
    "\n",
    "# import warnings\n",
    "# warnings.filterwarnings(\"ignore\")\n",
    "\n",
    "# import zipfile\n",
    "# import os\n",
    "# import subprocess\n",
    "import glob"
   ]
  },
  {
   "cell_type": "code",
   "execution_count": null,
   "id": "ed1307cc",
   "metadata": {},
   "outputs": [
    {
     "name": "stdout",
     "output_type": "stream",
     "text": [
      "['1287165_1_Paired_All.csv.gz', '1287196_1_Paired_All.csv.gz', 'SRR9179280_paired.csv.gz', 'SRR9179297_paired.csv.gz', '1287197_1_Paired_All.csv.gz', '1287164_1_Paired_All.csv.gz', 'SRR9179293_paired.csv.gz', 'ERR4082275_paired.csv.gz', 'SRR9179284_paired.csv.gz', 'SRR10358523_paired.csv.gz', 'SRR9179274_paired.csv.gz', '1287167_1_Paired_All.csv.gz', '1287194_1_Paired_All.csv.gz', '1287195_1_Paired_All.csv.gz', '1287166_1_Paired_All.csv.gz', 'ERR4082291_paired.csv.gz', 'SRR9179277_paired.csv.gz', '1287179_1_Paired_All.csv.gz', '1287160_1_Paired_All.csv.gz', '1287193_1_Paired_All.csv.gz', '1287178_1_Paired_All.csv.gz', 'SRR9179273_paired.csv.gz', '1287192_1_Paired_All.csv.gz', '1287161_1_Paired_All.csv.gz', '1287162_1_Paired_All.csv.gz', '1287191_1_Paired_All.csv.gz', '1287188_1_Paired_All.csv.gz', 'SRR9179294_paired.csv.gz', '1279059_1_Paired_All.csv.gz', 'SRR9179283_paired.csv.gz', 'SRR10358524_paired.csv.gz', '1287190_1_Paired_All.csv.gz', '1287163_1_Paired_All.csv.gz', 'SRR9179287_paired.csv.gz', '1279058_1_Paired_All.csv.gz', 'SRR9179290_paired.csv.gz', '1287189_1_Paired_All.csv.gz', '1279055_1_Paired_All.csv.gz', '1287184_1_Paired_All.csv.gz', '1287177_1_Paired_All.csv.gz', '1287204_1_Paired_All.csv.gz', '1287176_1_Paired_All.csv.gz', '1287185_1_Paired_All.csv.gz', '1279054_1_Paired_All.csv.gz', 'SRR9179289_paired.csv.gz', '1287205_1_Paired_All.csv.gz', 'SRR9179279_paired.csv.gz', '1287206_1_Paired_All.csv.gz', 'ERR4082235_paired.csv.gz', '1287186_1_Paired_All.csv.gz', '1287175_1_Paired_All.csv.gz', '1279057_1_Paired_All.csv.gz', 'SRR11528762_paired.csv.gz', '1287207_1_Paired_All.csv.gz', '1287174_1_Paired_All.csv.gz', '1287187_1_Paired_All.csv.gz', '1287201_1_Paired_All.csv.gz', '1279049_1_Paired_All.csv.gz', '1287198_1_Paired_All.csv.gz', '1287181_1_Paired_All.csv.gz', 'SRR12875362_1_Paired_All.csv.gz', '1287172_1_Paired_All.csv.gz', '1279050_1_Paired_All.csv.gz', '1287199_1_Paired_All.csv.gz', 'SRR11528761_paired.csv.gz', '1287200_1_Paired_All.csv.gz', '1279051_1_Paired_All.csv.gz', '1287173_1_Paired_All.csv.gz', '1287180_1_Paired_All.csv.gz', 'SRR9179300_paired.csv.gz', 'ERR4082251_paired.csv.gz', '1279052_1_Paired_All.csv.gz', '1287183_1_Paired_All.csv.gz', '1287170_1_Paired_All.csv.gz', 'SRR12875360_1_Paired_All.csv.gz', '1287169_1_Paired_All.csv.gz', '1287203_1_Paired_All.csv.gz', 'SRR9179299_paired.csv.gz', '1287171_1_Paired_All.csv.gz', 'SRR12875361_1_Paired_All.csv.gz', '1287182_1_Paired_All.csv.gz', '1279053_1_Paired_All.csv.gz', '1287202_1_Paired_All.csv.gz', '1287168_1_Paired_All.csv.gz', 'SRR12875351_1_Paired_All.csv.gz', '1279063_1_Paired_All.csv.gz', '1287158_1_Paired_All.csv.gz', 'ERR4082299_paired.csv.gz', 'SRR12875348_1_Paired_All.csv.gz', '1279062_1_Paired_All.csv.gz', 'SRR12875350_1_Paired_All.csv.gz', '1287159_1_Paired_All.csv.gz', 'SRR12875349_1_Paired_All.csv.gz', '1279078_1_Paired_All.csv.gz', '1279061_1_Paired_All.csv.gz', 'ERR4082243_paired.csv.gz', 'SRR12875353_1_Paired_All.csv.gz', 'SRR12113363_1_Paired_All.csv.gz', '1279079_1_Paired_All.csv.gz', 'SRR9179298_paired.csv.gz', 'SRR12875352_1_Paired_All.csv.gz', 'SRR10313335_paired.csv.gz', '1279060_1_Paired_All.csv.gz', 'SRR9179288_paired.csv.gz', '1279066_1_Paired_All.csv.gz', 'SRR12875354_1_Paired_All.csv.gz', 'SRR10313332_paired.csv.gz', '1287144_1_Paired_All.csv.gz', 'SRR12113364_1_Paired_All.csv.gz', 'SRR12875355_1_Paired_All.csv.gz', '1287145_1_Paired_All.csv.gz', 'ERR4082303_paired.csv.gz', '1279067_1_Paired_All.csv.gz', '1287146_1_Paired_All.csv.gz', 'SRR12875356_1_Paired_All.csv.gz', 'ERR4082227_paired.csv.gz', '1279065_1_Paired_All.csv.gz', '1287147_1_Paired_All.csv.gz', 'SRR12875357_1_Paired_All.csv.gz', 'SRR9179278_paired.csv.gz', '1287153_1_Paired_All.csv.gz', '1279071_1_Paired_All.csv.gz', '1279068_1_Paired_All.csv.gz', 'ERR4082283_paired.csv.gz', '1279070_1_Paired_All.csv.gz', '1287152_1_Paired_All.csv.gz', 'SRR9179276_paired.csv.gz', '1279069_1_Paired_All.csv.gz', '1287148_1_Paired_All.csv.gz', 'SRR9179291_paired.csv.gz', 'SRR12875358_1_Paired_All.csv.gz', 'SRR9179286_paired.csv.gz', '1279080_1_Paired_All.csv.gz', '1279073_1_Paired_All.csv.gz', '1287151_1_Paired_All.csv.gz', 'ERR4082259_paired.csv.gz', 'SRR10358525_paired.csv.gz', 'SRR9179282_paired.csv.gz', '1287149_1_Paired_All.csv.gz', 'SRR9179295_paired.csv.gz', 'SRR12875359_1_Paired_All.csv.gz', '1287150_1_Paired_All.csv.gz', '1279072_1_Paired_All.csv.gz', 'SRR9179285_paired.csv.gz', 'ERR4082263_paired.csv.gz', 'SRR9179292_paired.csv.gz', '1279074_1_Paired_All.csv.gz', '1287156_1_Paired_All.csv.gz', 'SRR9179296_paired.csv.gz', 'SRR9179281_paired.csv.gz', 'ERR4082267_paired.csv.gz', '1287157_1_Paired_All.csv.gz', '1279075_1_Paired_All.csv.gz', '1287154_1_Paired_All.csv.gz', '1279076_1_Paired_All.csv.gz', '1279077_1_Paired_All.csv.gz', '1287155_1_Paired_All.csv.gz', 'SRR9179275_paired.csv.gz']\n"
     ]
    },
    {
     "name": "stderr",
     "output_type": "stream",
     "text": [
      "/var/folders/pm/7ykmdfh54tndbkghdcjn63vh0000gn/T/ipykernel_37300/11984860.py:5: DtypeWarning: Columns (109,125,126,127,128,155,191) have mixed types. Specify dtype option on import or set low_memory=False.\n",
      "  df = pd.concat((pd.read_csv(l, compression=\"gzip\", sep=\",\", skiprows=1) for l in lst), ignore_index = True)\n",
      "/var/folders/pm/7ykmdfh54tndbkghdcjn63vh0000gn/T/ipykernel_37300/11984860.py:5: DtypeWarning: Columns (109,125,126,127,128,155,191) have mixed types. Specify dtype option on import or set low_memory=False.\n",
      "  df = pd.concat((pd.read_csv(l, compression=\"gzip\", sep=\",\", skiprows=1) for l in lst), ignore_index = True)\n",
      "/var/folders/pm/7ykmdfh54tndbkghdcjn63vh0000gn/T/ipykernel_37300/11984860.py:5: DtypeWarning: Columns (109,125,126,127,128,155,191) have mixed types. Specify dtype option on import or set low_memory=False.\n",
      "  df = pd.concat((pd.read_csv(l, compression=\"gzip\", sep=\",\", skiprows=1) for l in lst), ignore_index = True)\n"
     ]
    }
   ],
   "source": [
    "#lst = !ls *.gz\n",
    "lst = glob.glob(\"*.csv.gz\")\n",
    "print(lst)\n",
    "\n",
    "df = pd.concat((pd.read_csv(l, compression=\"gzip\", sep=\",\", skiprows=1) for l in lst), ignore_index = True)"
   ]
  },
  {
   "cell_type": "code",
   "execution_count": null,
   "id": "c6e19ecc",
   "metadata": {},
   "outputs": [],
   "source": [
    "df.head()"
   ]
  },
  {
   "cell_type": "code",
   "execution_count": null,
   "id": "a21448cc",
   "metadata": {},
   "outputs": [],
   "source": [
    "df.size"
   ]
  },
  {
   "cell_type": "code",
   "execution_count": null,
   "id": "70b88e6f",
   "metadata": {},
   "outputs": [],
   "source": [
    "df.columns"
   ]
  },
  {
   "cell_type": "code",
   "execution_count": null,
   "id": "baaeb2ea",
   "metadata": {},
   "outputs": [],
   "source": [
    "for col in df.columns:\n",
    "    print(col)"
   ]
  },
  {
   "cell_type": "code",
   "execution_count": null,
   "id": "0db6f60f",
   "metadata": {},
   "outputs": [],
   "source": [
    "df.loc[1, 'sequence_alignment_aa_light']\n",
    "\n",
    "#each letter corresponds to an amino acid"
   ]
  },
  {
   "cell_type": "code",
   "execution_count": null,
   "id": "24535937",
   "metadata": {},
   "outputs": [],
   "source": [
    "len(df.loc[1, 'sequence_alignment_aa_light'])\n",
    "\n",
    "#not necessarily divisible by three to give an integer"
   ]
  },
  {
   "cell_type": "code",
   "execution_count": null,
   "id": "f121b415",
   "metadata": {},
   "outputs": [],
   "source": [
    "#function to split sequence into codons - each three letter sequence forms an amino acid\n",
    "\n",
    "def count_aa(row_i, attribute):\n",
    "    return len(df.loc[row_i, attribute]) #/3\n",
    "    \n",
    "count_aa(1, 'sequence_alignment_aa_light')"
   ]
  },
  {
   "cell_type": "code",
   "execution_count": null,
   "id": "bf6985af",
   "metadata": {},
   "outputs": [],
   "source": [
    "sq_light = []\n",
    "for i in df.index:\n",
    "    sq_light.append(count_aa(i, 'sequence_alignment_aa_light'))\n",
    "sq_light = pd.Series(sq_light)\n",
    "\n",
    "sq_light"
   ]
  },
  {
   "cell_type": "code",
   "execution_count": null,
   "id": "aa8601b7",
   "metadata": {},
   "outputs": [],
   "source": [
    "plt.hist(sq_light, bins = 20, range=[100, 140])\n",
    "plt.xlabel(\"Sequence Length\")\n",
    "plt.ylabel(\"Frequency\")\n",
    "plt.title(\"Sequence Alignment - Light Amino Acids\")\n",
    "plt.show()\n",
    "\n",
    "#skewed to the right slightly"
   ]
  },
  {
   "cell_type": "code",
   "execution_count": null,
   "id": "2f904d1e",
   "metadata": {},
   "outputs": [],
   "source": [
    "plt.hist(sq_light, bins = 40, range=[100, 140])\n",
    "plt.xlabel(\"Sequence Length\")\n",
    "plt.ylabel(\"Frequency\")\n",
    "plt.title(\"Sequence Alignment - Light Amino Acids\")\n",
    "plt.show()"
   ]
  },
  {
   "cell_type": "code",
   "execution_count": null,
   "id": "353ae075",
   "metadata": {},
   "outputs": [],
   "source": [
    "#explore all of these files, put them in dataframes and count\n",
    "\n",
    "# extract sequences from all of these gz files, append them into one huge df\n",
    "\n",
    "#count number of amino acids in a sequence per row using a function. \n",
    "\n",
    "#count length\n",
    "#plot in a histogram. x-axis length, y-axis frequency, expect a normal distribution with outliers\n",
    "\n",
    "#cdr3_start_light for the beginning of the chain. \n",
    "#cdr3_end_light; these will have varying lengths\n",
    "\n",
    "#look at other columns too\n",
    "\n",
    "#batch effects, some of these are from different studies"
   ]
  },
  {
   "cell_type": "code",
   "execution_count": null,
   "id": "c62bf801",
   "metadata": {},
   "outputs": [],
   "source": [
    "df.loc[:, 'sequence_alignment_aa_heavy']"
   ]
  },
  {
   "cell_type": "code",
   "execution_count": null,
   "id": "665d0d5e",
   "metadata": {},
   "outputs": [],
   "source": [
    "#repeat all of the operations in cell 16 for this col\n",
    "\n",
    "#figure out which columns are most impactful - most significant features. some may be linearly dependent\n",
    "\n"
   ]
  },
  {
   "cell_type": "code",
   "execution_count": null,
   "id": "8e054923",
   "metadata": {},
   "outputs": [],
   "source": [
    "sq_heavy = []\n",
    "for i in df.index:\n",
    "    sq_heavy.append(count_aa(i, 'sequence_alignment_aa_heavy'))\n",
    "sq_heavy = pd.Series(sq_heavy)\n",
    "\n",
    "sq_heavy"
   ]
  },
  {
   "cell_type": "code",
   "execution_count": null,
   "id": "2189fb07",
   "metadata": {},
   "outputs": [],
   "source": [
    "plt.hist(sq_heavy, bins = 20, range=[100, 140])\n",
    "plt.xlabel(\"Sequence Length\")\n",
    "plt.ylabel(\"Frequency\")\n",
    "plt.title(\"Sequence Alignment - Heavy Amino Acids\")\n",
    "plt.show()\n",
    "\n",
    "#mean of sequence length is more to the right, overall longer sequences in comparison to the light sequenced amino "
   ]
  },
  {
   "cell_type": "code",
   "execution_count": null,
   "id": "be276bbd",
   "metadata": {},
   "outputs": [],
   "source": [
    "plt.hist(sq_heavy, bins = 40, range=[100, 140])\n",
    "plt.xlabel(\"Sequence Length\")\n",
    "plt.ylabel(\"Frequency\")\n",
    "plt.title(\"Sequence Alignment - Heavy Amino Acids\")\n",
    "plt.show()\n"
   ]
  },
  {
   "cell_type": "code",
   "execution_count": null,
   "id": "aee49b91",
   "metadata": {},
   "outputs": [],
   "source": [
    "!pip install ablang\n",
    "\n",
    "import ablang"
   ]
  },
  {
   "cell_type": "code",
   "execution_count": null,
   "id": "d0df2aca",
   "metadata": {},
   "outputs": [],
   "source": [
    "heavy_ablang = ablang.pretrained(\"heavy\")\n",
    "heavy_ablang.freeze()"
   ]
  },
  {
   "cell_type": "code",
   "execution_count": null,
   "id": "b3870fe6",
   "metadata": {},
   "outputs": [],
   "source": [
    "seqs_heavy = df.loc[:, 'sequence_alignment_aa_heavy']\n",
    "\n",
    "seqcodings = heavy_ablang(seqs_heavy, mode='seqcoding')\n",
    "print(\"-\"*100)\n",
    "print(\"The output shape of the heavy seq-codings:\", seqcodings.shape)\n",
    "print(\"-\"*100)\n",
    "\n",
    "print(seqcodings)"
   ]
  }
 ],
 "metadata": {
  "kernelspec": {
   "display_name": "Python 3 (ipykernel)",
   "language": "python",
   "name": "python3"
  },
  "language_info": {
   "codemirror_mode": {
    "name": "ipython",
    "version": 3
   },
   "file_extension": ".py",
   "mimetype": "text/x-python",
   "name": "python",
   "nbconvert_exporter": "python",
   "pygments_lexer": "ipython3",
   "version": "3.9.13"
  }
 },
 "nbformat": 4,
 "nbformat_minor": 5
}
