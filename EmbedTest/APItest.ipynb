from EmbedTest import OASDBDesc
import pandas as pd
import seaborn as sns

obj_oasdb = OASDBDesc()
df_seqs = obj_oasdb.read_data("../raw_data/")

df_vgene, df_heavy_len = obj_oasdb.perform_random_sample(df_seqs, 10, 500)

sns.violinplot(data=df_heavy_len, x='iter', y='VH_len')

df_vgene[["v_call_heavy", "iter"]].value_counts().unstack().fillna(0.0).sort_values(0, ascending=False)
