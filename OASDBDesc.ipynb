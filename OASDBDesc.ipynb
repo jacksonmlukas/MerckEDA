{
 "cells": [
  {
   "cell_type": "code",
   "execution_count": 1,
   "metadata": {
    "cell_id": "ce9d9eff8f7047f0a07b9b767f6dc653",
    "deepnote_cell_type": "code",
    "deepnote_to_be_reexecuted": false,
    "execution_millis": 4258,
    "execution_start": 1678839791754,
    "source_hash": "a43c0953",
    "tags": []
   },
   "outputs": [
    {
     "name": "stderr",
     "output_type": "stream",
     "text": [
      "/shared-libs/python3.9/py/lib/python3.9/site-packages/tqdm/auto.py:22: TqdmWarning: IProgress not found. Please update jupyter and ipywidgets. See https://ipywidgets.readthedocs.io/en/stable/user_install.html\n",
      "  from .autonotebook import tqdm as notebook_tqdm\n",
      "2023-03-15 00:23:13 | INFO | fairseq.tasks.text_to_speech | Please install tensorboardX: pip install tensorboardX\n"
     ]
    },
    {
     "data": {
      "application/vnd.deepnote.dataframe.v3+json": {
       "column_count": 198,
       "columns": [
        {
         "dtype": "object",
         "name": "sequence_id_heavy",
         "stats": {
          "categories": [
           {
            "count": 1,
            "name": "GAACGGAAGTAGCCGA-1_contig_1"
           },
           {
            "count": 1,
            "name": "TACTTACTCAACACAC-1_contig_1"
           },
           {
            "count": 3,
            "name": "3 others"
           }
          ],
          "nan_count": 0,
          "unique_count": 5
         }
        },
        {
         "dtype": "object",
         "name": "sequence_heavy",
         "stats": {
          "categories": [
           {
            "count": 1,
            "name": "AGCTCTGAGAGAGGAGCCTTAGCCCTGGATTCCAAGGCCTATCCACTTGGTGATCAGCACTGAGCACCGAGGATTCACCATGGAACTGGGGCTCCGCTGGGTTTTCCTTGTTGGTATTTTAGAAGGTGTCCAGTGTGAGATCCAACTGGTGGAGTCGGGGGGAGGCCTGGTCAAGCCTGGGGGGTCCCTGAGACTCTCCTGTGGAGCCTCTGGATTCACTTTCAGTTACTTTACCATGAACTGGGTCCGCCAGGCTCCAGGGAAGGGGCTGGAGTGGGTCTCATCCATTAGTAGCAGTAGTACTTACATATACTACGCAGACTCAGGGAGGGGCCGATTCACCATTTCCAGAGACAACGCCAATAACTCACTGTATCTACAAATGAACAGCCTGAGAGCCGAGGACACGGCTATATATTTCTGTGCGAGAGTCTCCGGAAGTGCCTACGATGAAAGAGCCACCGAGGGCTATTACTTCGGTATGGACGTCTGGGGCCAAGGGACCACGGTCACCGTCTCCTCAGCATCCCCGACCAGCCCCAAGGTCTTCCCGCTGAGCCTCTGCAGCACCCAGCCAGATGGGAACGTGGTCATCGCCTGCCTGGTCCAGGGCTTCTTCCCCCAGGAGCCACTCAGTGTGACCTGGAGCGAAAGCGGACAGGGCGTGACCGCCAGAAACTTCCC"
           },
           {
            "count": 1,
            "name": "ATCATCCAACAACCACATCCCTTCTCTACAGAAGCCTCTGAGAGGAAAGTTCTTCACCATGGACTGGACCTGGAGGGTCTTCTGCTTGCTGGCTGTAGCTCCAGGTGCTCACTCCCAGGTGCAGCTGGTGCAGTCTGGGGCTGAGGTGAAGAAGCCTGGGGCCTCAGTGAAGGTTTCCTGCAAGGCATCTGGATACACCTTCACCAGCTACTATATGCACTGGGTGCGACAGGCCCCTGGACAAGGGCTTGAGTGGATGGGAATAATCAACCCTAGTGGTGGTAGCACAAGCTACGCACAGAAGTTCCAGGGCAGAGTCACCATGACCAGGGACACGTCCACGAGCACAGTCTACATGGAGCTGAGCAGCCTGAGATCTGAGGACACGGCCGTGTATTACTGTGCCTGCGGATTAAGTATAGTGGGAGCTACTCTCGATTACTTTGACTACTGGGGCCAGGGAACCCTGGTCACCGTCTCCTCAGGGAGTGCATCCGCCCCAACCCTTTTCCCCCTCGTCTCCTGTGAGAATTCCCCGTCGGATACGAGCAGCGTG"
           },
           {
            "count": 3,
            "name": "3 others"
           }
          ],
          "nan_count": 0,
          "unique_count": 5
         }
        },
        {
         "dtype": "object",
         "name": "locus_heavy",
         "stats": {
          "categories": [
           {
            "count": 5,
            "name": "H"
           }
          ],
          "nan_count": 0,
          "unique_count": 1
         }
        },
        {
         "dtype": "object",
         "name": "stop_codon_heavy",
         "stats": {
          "categories": [
           {
            "count": 5,
            "name": "F"
           }
          ],
          "nan_count": 0,
          "unique_count": 1
         }
        },
        {
         "dtype": "object",
         "name": "vj_in_frame_heavy",
         "stats": {
          "categories": [
           {
            "count": 5,
            "name": "T"
           }
          ],
          "nan_count": 0,
          "unique_count": 1
         }
        },
        {
         "dtype": "object",
         "name": "v_frameshift_heavy",
         "stats": {
          "categories": [
           {
            "count": 5,
            "name": "F"
           }
          ],
          "nan_count": 0,
          "unique_count": 1
         }
        },
        {
         "dtype": "object",
         "name": "productive_heavy",
         "stats": {
          "categories": [
           {
            "count": 5,
            "name": "T"
           }
          ],
          "nan_count": 0,
          "unique_count": 1
         }
        },
        {
         "dtype": "object",
         "name": "rev_comp_heavy",
         "stats": {
          "categories": [
           {
            "count": 5,
            "name": "F"
           }
          ],
          "nan_count": 0,
          "unique_count": 1
         }
        },
        {
         "dtype": "object",
         "name": "complete_vdj_heavy",
         "stats": {
          "categories": [
           {
            "count": 5,
            "name": "T"
           }
          ],
          "nan_count": 0,
          "unique_count": 1
         }
        },
        {
         "dtype": "object",
         "name": "v_call_heavy",
         "stats": {
          "categories": [
           {
            "count": 1,
            "name": "IGHV3-21*02"
           },
           {
            "count": 1,
            "name": "IGHV1-46*01"
           },
           {
            "count": 3,
            "name": "3 others"
           }
          ],
          "nan_count": 0,
          "unique_count": 5
         }
        },
        {
         "dtype": "object",
         "name": "d_call_heavy",
         "stats": {
          "categories": [
           {
            "count": 1,
            "name": "IGHD5-12*01"
           },
           {
            "count": 1,
            "name": "IGHD1-26*01"
           },
           {
            "count": 3,
            "name": "3 others"
           }
          ],
          "nan_count": 0,
          "unique_count": 5
         }
        },
        {
         "dtype": "object",
         "name": "j_call_heavy",
         "stats": {
          "categories": [
           {
            "count": 3,
            "name": "IGHJ4*02"
           },
           {
            "count": 1,
            "name": "IGHJ6*02"
           },
           {
            "count": 1,
            "name": "IGHJ5*02"
           }
          ],
          "nan_count": 0,
          "unique_count": 3
         }
        },
        {
         "dtype": "object",
         "name": "sequence_alignment_heavy",
         "stats": {
          "categories": [
           {
            "count": 1,
            "name": "GAGATCCAACTGGTGGAGTCGGGGGGAGGCCTGGTCAAGCCTGGGGGGTCCCTGAGACTCTCCTGTGGAGCCTCTGGATTCACTTTCAGTTACTTTACCATGAACTGGGTCCGCCAGGCTCCAGGGAAGGGGCTGGAGTGGGTCTCATCCATTAGTAGCAGTAGTACTTACATATACTACGCAGACTCAGGGAGGGGCCGATTCACCATTTCCAGAGACAACGCCAATAACTCACTGTATCTACAAATGAACAGCCTGAGAGCCGAGGACACGGCTATATATTTCTGTGCGAGAGTCTCCGGAAGTGCCTACGATGAAAGAGCCACCGAGGGCTATTACTTCGGTATGGACGTCTGGGGCCAAGGGACCACGGTCACCGTCTCCTCA"
           },
           {
            "count": 1,
            "name": "CAGGTGCAGCTGGTGCAGTCTGGGGCTGAGGTGAAGAAGCCTGGGGCCTCAGTGAAGGTTTCCTGCAAGGCATCTGGATACACCTTCACCAGCTACTATATGCACTGGGTGCGACAGGCCCCTGGACAAGGGCTTGAGTGGATGGGAATAATCAACCCTAGTGGTGGTAGCACAAGCTACGCACAGAAGTTCCAGGGCAGAGTCACCATGACCAGGGACACGTCCACGAGCACAGTCTACATGGAGCTGAGCAGCCTGAGATCTGAGGACACGGCCGTGTATTACTGTGCCTGCGGATTAAGTATAGTGGGAGCTACTCTCGATTACTTTGACTACTGGGGCCAGGGAACCCTGGTCACCGTCTCCTCAG"
           },
           {
            "count": 3,
            "name": "3 others"
           }
          ],
          "nan_count": 0,
          "unique_count": 5
         }
        },
        {
         "dtype": "object",
         "name": "germline_alignment_heavy",
         "stats": {
          "categories": [
           {
            "count": 1,
            "name": "GAGGTGCAACTGGTGGAGTCTGGGGGAGGCCTGGTCAAGCCTGGGGGGTCCCTGAGACTCTCCTGTGCAGCCTCTGGATTCACCTTCAGTAGCTATAGCATGAACTGGGTCCGCCAGGCTCCAGGGAAGGGGCTGGAGTGGGTCTCATCCATTAGTAGTAGTAGTAGTTACATATACTACGCAGACTCAGTGAAGGGCCGATTCACCATCTCCAGAGACAACGCCAAGAACTCACTGTATCTGCAAATGAACAGCCTGAGAGCCGAGGACACGGCTGTGTATTACTGTGCGAGAGNNNNNNNNAGTGGCTACGATNNNNNNNNNNNNNNNNNCTACTACTACGGTATGGACGTCTGGGGCCAAGGGACCACGGTCACCGTCTCCTCA"
           },
           {
            "count": 1,
            "name": "CAGGTGCAGCTGGTGCAGTCTGGGGCTGAGGTGAAGAAGCCTGGGGCCTCAGTGAAGGTTTCCTGCAAGGCATCTGGATACACCTTCACCAGCTACTATATGCACTGGGTGCGACAGGCCCCTGGACAAGGGCTTGAGTGGATGGGAATAATCAACCCTAGTGGTGGTAGCACAAGCTACGCACAGAAGTTCCAGGGCAGAGTCACCATGACCAGGGACACGTCCACGAGCACAGTCTACATGGAGCTGAGCAGCCTGAGATCTGAGGACACGGCCGTGTATTACTGTGCNNNNNNNNNNNGTATAGTGGGAGCTACTNNNNNNTACTTTGACTACTGGGGCCAGGGAACCCTGGTCACCGTCTCCTCAG"
           },
           {
            "count": 3,
            "name": "3 others"
           }
          ],
          "nan_count": 0,
          "unique_count": 5
         }
        },
        {
         "dtype": "object",
         "name": "sequence_alignment_aa_heavy",
         "stats": {
          "categories": [
           {
            "count": 1,
            "name": "EIQLVESGGGLVKPGGSLRLSCGASGFTFSYFTMNWVRQAPGKGLEWVSSISSSSTYIYYADSGRGRFTISRDNANNSLYLQMNSLRAEDTAIYFCARVSGSAYDERATEGYYFGMDVWGQGTTVTVSS"
           },
           {
            "count": 1,
            "name": "QVQLVQSGAEVKKPGASVKVSCKASGYTFTSYYMHWVRQAPGQGLEWMGIINPSGGSTSYAQKFQGRVTMTRDTSTSTVYMELSSLRSEDTAVYYCACGLSIVGATLDYFDYWGQGTLVTVSS"
           },
           {
            "count": 3,
            "name": "3 others"
           }
          ],
          "nan_count": 0,
          "unique_count": 5
         }
        },
        {
         "dtype": "object",
         "name": "germline_alignment_aa_heavy",
         "stats": {
          "categories": [
           {
            "count": 1,
            "name": "EVQLVESGGGLVKPGGSLRLSCAASGFTFSSYSMNWVRQAPGKGLEWVSSISSSSSYIYYADSVKGRFTISRDNAKNSLYLQMNSLRAEDTAVYYCARXXXSGYDXXXXXXYYYGMDVWGQGTTVTVSS"
           },
           {
            "count": 1,
            "name": "QVQLVQSGAEVKKPGASVKVSCKASGYTFTSYYMHWVRQAPGQGLEWMGIINPSGGSTSYAQKFQGRVTMTRDTSTSTVYMELSSLRSEDTAVYYCAXXXXIVGATXXYFDYWGQGTLVTVSS"
           },
           {
            "count": 3,
            "name": "3 others"
           }
          ],
          "nan_count": 0,
          "unique_count": 5
         }
        },
        {
         "dtype": "float64",
         "name": "v_alignment_start_heavy",
         "stats": {
          "histogram": [
           {
            "bin_end": 0.6,
            "bin_start": 0.5,
            "count": 0
           },
           {
            "bin_end": 0.7,
            "bin_start": 0.6,
            "count": 0
           },
           {
            "bin_end": 0.8,
            "bin_start": 0.7,
            "count": 0
           },
           {
            "bin_end": 0.9,
            "bin_start": 0.8,
            "count": 0
           },
           {
            "bin_end": 1,
            "bin_start": 0.9,
            "count": 0
           },
           {
            "bin_end": 1.1,
            "bin_start": 1,
            "count": 5
           },
           {
            "bin_end": 1.2000000000000002,
            "bin_start": 1.1,
            "count": 0
           },
           {
            "bin_end": 1.3,
            "bin_start": 1.2000000000000002,
            "count": 0
           },
           {
            "bin_end": 1.4,
            "bin_start": 1.3,
            "count": 0
           },
           {
            "bin_end": 1.5,
            "bin_start": 1.4,
            "count": 0
           }
          ],
          "max": "1.0",
          "min": "1.0",
          "nan_count": 0,
          "unique_count": 1
         }
        },
        {
         "dtype": "float64",
         "name": "v_alignment_end_heavy",
         "stats": {
          "histogram": [
           {
            "bin_end": 290.7,
            "bin_start": 290,
            "count": 1
           },
           {
            "bin_end": 291.4,
            "bin_start": 290.7,
            "count": 0
           },
           {
            "bin_end": 292.1,
            "bin_start": 291.4,
            "count": 0
           },
           {
            "bin_end": 292.8,
            "bin_start": 292.1,
            "count": 0
           },
           {
            "bin_end": 293.5,
            "bin_start": 292.8,
            "count": 0
           },
           {
            "bin_end": 294.2,
            "bin_start": 293.5,
            "count": 0
           },
           {
            "bin_end": 294.9,
            "bin_start": 294.2,
            "count": 0
           },
           {
            "bin_end": 295.6,
            "bin_start": 294.9,
            "count": 1
           },
           {
            "bin_end": 296.3,
            "bin_start": 295.6,
            "count": 2
           },
           {
            "bin_end": 297,
            "bin_start": 296.3,
            "count": 1
           }
          ],
          "max": "297.0",
          "min": "290.0",
          "nan_count": 0,
          "unique_count": 4
         }
        },
        {
         "dtype": "float64",
         "name": "d_alignment_start_heavy",
         "stats": {
          "histogram": [
           {
            "bin_end": 301.2,
            "bin_start": 300,
            "count": 1
           },
           {
            "bin_end": 302.4,
            "bin_start": 301.2,
            "count": 1
           },
           {
            "bin_end": 303.6,
            "bin_start": 302.4,
            "count": 0
           },
           {
            "bin_end": 304.8,
            "bin_start": 303.6,
            "count": 1
           },
           {
            "bin_end": 306,
            "bin_start": 304.8,
            "count": 0
           },
           {
            "bin_end": 307.2,
            "bin_start": 306,
            "count": 0
           },
           {
            "bin_end": 308.4,
            "bin_start": 307.2,
            "count": 0
           },
           {
            "bin_end": 309.6,
            "bin_start": 308.4,
            "count": 0
           },
           {
            "bin_end": 310.8,
            "bin_start": 309.6,
            "count": 0
           },
           {
            "bin_end": 312,
            "bin_start": 310.8,
            "count": 2
           }
          ],
          "max": "312.0",
          "min": "300.0",
          "nan_count": 0,
          "unique_count": 5
         }
        },
        {
         "dtype": "float64",
         "name": "d_alignment_end_heavy",
         "stats": {
          "histogram": [
           {
            "bin_end": 313.3,
            "bin_start": 312,
            "count": 1
           },
           {
            "bin_end": 314.6,
            "bin_start": 313.3,
            "count": 0
           },
           {
            "bin_end": 315.9,
            "bin_start": 314.6,
            "count": 1
           },
           {
            "bin_end": 317.2,
            "bin_start": 315.9,
            "count": 1
           },
           {
            "bin_end": 318.5,
            "bin_start": 317.2,
            "count": 1
           },
           {
            "bin_end": 319.8,
            "bin_start": 318.5,
            "count": 0
           },
           {
            "bin_end": 321.1,
            "bin_start": 319.8,
            "count": 0
           },
           {
            "bin_end": 322.4,
            "bin_start": 321.1,
            "count": 0
           },
           {
            "bin_end": 323.7,
            "bin_start": 322.4,
            "count": 0
           },
           {
            "bin_end": 325,
            "bin_start": 323.7,
            "count": 1
           }
          ],
          "max": "325.0",
          "min": "312.0",
          "nan_count": 0,
          "unique_count": 5
         }
        },
        {
         "dtype": "float64",
         "name": "j_alignment_start_heavy",
         "stats": {
          "histogram": [
           {
            "bin_end": 319.5,
            "bin_start": 318,
            "count": 1
           },
           {
            "bin_end": 321,
            "bin_start": 319.5,
            "count": 0
           },
           {
            "bin_end": 322.5,
            "bin_start": 321,
            "count": 0
           },
           {
            "bin_end": 324,
            "bin_start": 322.5,
            "count": 1
           },
           {
            "bin_end": 325.5,
            "bin_start": 324,
            "count": 1
           },
           {
            "bin_end": 327,
            "bin_start": 325.5,
            "count": 0
           },
           {
            "bin_end": 328.5,
            "bin_start": 327,
            "count": 0
           },
           {
            "bin_end": 330,
            "bin_start": 328.5,
            "count": 1
           },
           {
            "bin_end": 331.5,
            "bin_start": 330,
            "count": 0
           },
           {
            "bin_end": 333,
            "bin_start": 331.5,
            "count": 1
           }
          ],
          "max": "333.0",
          "min": "318.0",
          "nan_count": 0,
          "unique_count": 5
         }
        },
        {
         "dtype": "float64",
         "name": "j_alignment_end_heavy",
         "stats": {
          "histogram": [
           {
            "bin_end": 363.6,
            "bin_start": 361,
            "count": 1
           },
           {
            "bin_end": 366.2,
            "bin_start": 363.6,
            "count": 1
           },
           {
            "bin_end": 368.8,
            "bin_start": 366.2,
            "count": 0
           },
           {
            "bin_end": 371.4,
            "bin_start": 368.8,
            "count": 2
           },
           {
            "bin_end": 374,
            "bin_start": 371.4,
            "count": 0
           },
           {
            "bin_end": 376.6,
            "bin_start": 374,
            "count": 0
           },
           {
            "bin_end": 379.2,
            "bin_start": 376.6,
            "count": 0
           },
           {
            "bin_end": 381.8,
            "bin_start": 379.2,
            "count": 0
           },
           {
            "bin_end": 384.4,
            "bin_start": 381.8,
            "count": 0
           },
           {
            "bin_end": 387,
            "bin_start": 384.4,
            "count": 1
           }
          ],
          "max": "387.0",
          "min": "361.0",
          "nan_count": 0,
          "unique_count": 4
         }
        },
        {
         "dtype": "object",
         "name": "v_sequence_alignment_heavy",
         "stats": {
          "categories": [
           {
            "count": 1,
            "name": "GAGATCCAACTGGTGGAGTCGGGGGGAGGCCTGGTCAAGCCTGGGGGGTCCCTGAGACTCTCCTGTGGAGCCTCTGGATTCACTTTCAGTTACTTTACCATGAACTGGGTCCGCCAGGCTCCAGGGAAGGGGCTGGAGTGGGTCTCATCCATTAGTAGCAGTAGTACTTACATATACTACGCAGACTCAGGGAGGGGCCGATTCACCATTTCCAGAGACAACGCCAATAACTCACTGTATCTACAAATGAACAGCCTGAGAGCCGAGGACACGGCTATATATTTCTGTGCGAGAG"
           },
           {
            "count": 1,
            "name": "CAGGTGCAGCTGGTGCAGTCTGGGGCTGAGGTGAAGAAGCCTGGGGCCTCAGTGAAGGTTTCCTGCAAGGCATCTGGATACACCTTCACCAGCTACTATATGCACTGGGTGCGACAGGCCCCTGGACAAGGGCTTGAGTGGATGGGAATAATCAACCCTAGTGGTGGTAGCACAAGCTACGCACAGAAGTTCCAGGGCAGAGTCACCATGACCAGGGACACGTCCACGAGCACAGTCTACATGGAGCTGAGCAGCCTGAGATCTGAGGACACGGCCGTGTATTACTGTGC"
           },
           {
            "count": 3,
            "name": "3 others"
           }
          ],
          "nan_count": 0,
          "unique_count": 5
         }
        },
        {
         "dtype": "object",
         "name": "v_sequence_alignment_aa_heavy",
         "stats": {
          "categories": [
           {
            "count": 1,
            "name": "EIQLVESGGGLVKPGGSLRLSCGASGFTFSYFTMNWVRQAPGKGLEWVSSISSSSTYIYYADSGRGRFTISRDNANNSLYLQMNSLRAEDTAIYFCAR"
           },
           {
            "count": 1,
            "name": "QVQLVQSGAEVKKPGASVKVSCKASGYTFTSYYMHWVRQAPGQGLEWMGIINPSGGSTSYAQKFQGRVTMTRDTSTSTVYMELSSLRSEDTAVYYCA"
           },
           {
            "count": 3,
            "name": "3 others"
           }
          ],
          "nan_count": 0,
          "unique_count": 5
         }
        },
        {
         "dtype": "object",
         "name": "v_germline_alignment_heavy",
         "stats": {
          "categories": [
           {
            "count": 1,
            "name": "GAGGTGCAACTGGTGGAGTCTGGGGGAGGCCTGGTCAAGCCTGGGGGGTCCCTGAGACTCTCCTGTGCAGCCTCTGGATTCACCTTCAGTAGCTATAGCATGAACTGGGTCCGCCAGGCTCCAGGGAAGGGGCTGGAGTGGGTCTCATCCATTAGTAGTAGTAGTAGTTACATATACTACGCAGACTCAGTGAAGGGCCGATTCACCATCTCCAGAGACAACGCCAAGAACTCACTGTATCTGCAAATGAACAGCCTGAGAGCCGAGGACACGGCTGTGTATTACTGTGCGAGAG"
           },
           {
            "count": 1,
            "name": "CAGGTGCAGCTGGTGCAGTCTGGGGCTGAGGTGAAGAAGCCTGGGGCCTCAGTGAAGGTTTCCTGCAAGGCATCTGGATACACCTTCACCAGCTACTATATGCACTGGGTGCGACAGGCCCCTGGACAAGGGCTTGAGTGGATGGGAATAATCAACCCTAGTGGTGGTAGCACAAGCTACGCACAGAAGTTCCAGGGCAGAGTCACCATGACCAGGGACACGTCCACGAGCACAGTCTACATGGAGCTGAGCAGCCTGAGATCTGAGGACACGGCCGTGTATTACTGTGC"
           },
           {
            "count": 3,
            "name": "3 others"
           }
          ],
          "nan_count": 0,
          "unique_count": 5
         }
        },
        {
         "dtype": "object",
         "name": "v_germline_alignment_aa_heavy",
         "stats": {
          "categories": [
           {
            "count": 1,
            "name": "EVQLVESGGGLVKPGGSLRLSCAASGFTFSSYSMNWVRQAPGKGLEWVSSISSSSSYIYYADSVKGRFTISRDNAKNSLYLQMNSLRAEDTAVYYCAR"
           },
           {
            "count": 1,
            "name": "QVQLVQSGAEVKKPGASVKVSCKASGYTFTSYYMHWVRQAPGQGLEWMGIINPSGGSTSYAQKFQGRVTMTRDTSTSTVYMELSSLRSEDTAVYYCA"
           },
           {
            "count": 3,
            "name": "3 others"
           }
          ],
          "nan_count": 0,
          "unique_count": 5
         }
        },
        {
         "dtype": "object",
         "name": "d_sequence_alignment_heavy",
         "stats": {
          "categories": [
           {
            "count": 1,
            "name": "AGTGCCTACGAT"
           },
           {
            "count": 1,
            "name": "GTATAGTGGGAGCTACT"
           },
           {
            "count": 3,
            "name": "3 others"
           }
          ],
          "nan_count": 0,
          "unique_count": 5
         }
        },
        {
         "dtype": "object",
         "name": "d_sequence_alignment_aa_heavy",
         "stats": {
          "categories": [
           {
            "count": 1,
            "name": "SAYD"
           },
           {
            "count": 1,
            "name": "IVGAT"
           },
           {
            "count": 3,
            "name": "3 others"
           }
          ],
          "nan_count": 0,
          "unique_count": 5
         }
        },
        {
         "dtype": "object",
         "name": "d_germline_alignment_heavy",
         "stats": {
          "categories": [
           {
            "count": 1,
            "name": "AGTGGCTACGAT"
           },
           {
            "count": 1,
            "name": "GTATAGTGGGAGCTACT"
           },
           {
            "count": 3,
            "name": "3 others"
           }
          ],
          "nan_count": 0,
          "unique_count": 5
         }
        },
        {
         "dtype": "object",
         "name": "d_germline_alignment_aa_heavy",
         "stats": {
          "categories": [
           {
            "count": 1,
            "name": "SGYD"
           },
           {
            "count": 1,
            "name": "IVGAT"
           },
           {
            "count": 3,
            "name": "3 others"
           }
          ],
          "nan_count": 0,
          "unique_count": 5
         }
        },
        {
         "dtype": "object",
         "name": "j_sequence_alignment_heavy",
         "stats": {
          "categories": [
           {
            "count": 1,
            "name": "CTATTACTTCGGTATGGACGTCTGGGGCCAAGGGACCACGGTCACCGTCTCCTCA"
           },
           {
            "count": 1,
            "name": "TACTTTGACTACTGGGGCCAGGGAACCCTGGTCACCGTCTCCTCAG"
           },
           {
            "count": 3,
            "name": "3 others"
           }
          ],
          "nan_count": 0,
          "unique_count": 5
         }
        },
        {
         "dtype": "object",
         "name": "j_sequence_alignment_aa_heavy",
         "stats": {
          "categories": [
           {
            "count": 1,
            "name": "YYFGMDVWGQGTTVTVSS"
           },
           {
            "count": 1,
            "name": "YFDYWGQGTLVTVSS"
           },
           {
            "count": 3,
            "name": "3 others"
           }
          ],
          "nan_count": 0,
          "unique_count": 5
         }
        },
        {
         "dtype": "object",
         "name": "j_germline_alignment_heavy",
         "stats": {
          "categories": [
           {
            "count": 1,
            "name": "CTACTACTACGGTATGGACGTCTGGGGCCAAGGGACCACGGTCACCGTCTCCTCA"
           },
           {
            "count": 1,
            "name": "TACTTTGACTACTGGGGCCAGGGAACCCTGGTCACCGTCTCCTCAG"
           },
           {
            "count": 3,
            "name": "3 others"
           }
          ],
          "nan_count": 0,
          "unique_count": 5
         }
        },
        {
         "dtype": "object",
         "name": "j_germline_alignment_aa_heavy",
         "stats": {
          "categories": [
           {
            "count": 1,
            "name": "YYYGMDVWGQGTTVTVSS"
           },
           {
            "count": 1,
            "name": "YFDYWGQGTLVTVSS"
           },
           {
            "count": 3,
            "name": "3 others"
           }
          ],
          "nan_count": 0,
          "unique_count": 5
         }
        },
        {
         "dtype": "object",
         "name": "fwr1_heavy",
         "stats": {
          "categories": [
           {
            "count": 1,
            "name": "GAGATCCAACTGGTGGAGTCGGGGGGAGGCCTGGTCAAGCCTGGGGGGTCCCTGAGACTCTCCTGTGGAGCCTCT"
           },
           {
            "count": 1,
            "name": "CAGGTGCAGCTGGTGCAGTCTGGGGCTGAGGTGAAGAAGCCTGGGGCCTCAGTGAAGGTTTCCTGCAAGGCATCT"
           },
           {
            "count": 3,
            "name": "3 others"
           }
          ],
          "nan_count": 0,
          "unique_count": 5
         }
        },
        {
         "dtype": "object",
         "name": "fwr1_aa_heavy",
         "stats": {
          "categories": [
           {
            "count": 2,
            "name": "QVQLVQSGAEVKKPGASVKVSCKAS"
           },
           {
            "count": 1,
            "name": "EIQLVESGGGLVKPGGSLRLSCGAS"
           },
           {
            "count": 2,
            "name": "2 others"
           }
          ],
          "nan_count": 0,
          "unique_count": 4
         }
        },
        {
         "dtype": "object",
         "name": "cdr1_heavy",
         "stats": {
          "categories": [
           {
            "count": 1,
            "name": "GGATTCACTTTCAGTTACTTTACC"
           },
           {
            "count": 1,
            "name": "GGATACACCTTCACCAGCTACTAT"
           },
           {
            "count": 3,
            "name": "3 others"
           }
          ],
          "nan_count": 0,
          "unique_count": 5
         }
        },
        {
         "dtype": "object",
         "name": "cdr1_aa_heavy",
         "stats": {
          "categories": [
           {
            "count": 1,
            "name": "GFTFSYFT"
           },
           {
            "count": 1,
            "name": "GYTFTSYY"
           },
           {
            "count": 3,
            "name": "3 others"
           }
          ],
          "nan_count": 0,
          "unique_count": 5
         }
        },
        {
         "dtype": "object",
         "name": "fwr2_heavy",
         "stats": {
          "categories": [
           {
            "count": 1,
            "name": "ATGAACTGGGTCCGCCAGGCTCCAGGGAAGGGGCTGGAGTGGGTCTCATCC"
           },
           {
            "count": 1,
            "name": "ATGCACTGGGTGCGACAGGCCCCTGGACAAGGGCTTGAGTGGATGGGAATA"
           },
           {
            "count": 3,
            "name": "3 others"
           }
          ],
          "nan_count": 0,
          "unique_count": 5
         }
        },
        {
         "dtype": "object",
         "name": "fwr2_aa_heavy",
         "stats": {
          "categories": [
           {
            "count": 1,
            "name": "MNWVRQAPGKGLEWVSS"
           },
           {
            "count": 1,
            "name": "MHWVRQAPGQGLEWMGI"
           },
           {
            "count": 3,
            "name": "3 others"
           }
          ],
          "nan_count": 0,
          "unique_count": 5
         }
        },
        {
         "dtype": "object",
         "name": "cdr2_heavy",
         "stats": {
          "categories": [
           {
            "count": 1,
            "name": "ATTAGTAGCAGTAGTACTTACATA"
           },
           {
            "count": 1,
            "name": "ATCAACCCTAGTGGTGGTAGCACA"
           },
           {
            "count": 3,
            "name": "3 others"
           }
          ],
          "nan_count": 0,
          "unique_count": 5
         }
        },
        {
         "dtype": "object",
         "name": "cdr2_aa_heavy",
         "stats": {
          "categories": [
           {
            "count": 1,
            "name": "ISSSSTYI"
           },
           {
            "count": 1,
            "name": "INPSGGST"
           },
           {
            "count": 3,
            "name": "3 others"
           }
          ],
          "nan_count": 0,
          "unique_count": 5
         }
        },
        {
         "dtype": "object",
         "name": "fwr3_heavy",
         "stats": {
          "categories": [
           {
            "count": 1,
            "name": "TACTACGCAGACTCAGGGAGGGGCCGATTCACCATTTCCAGAGACAACGCCAATAACTCACTGTATCTACAAATGAACAGCCTGAGAGCCGAGGACACGGCTATATATTTCTGT"
           },
           {
            "count": 1,
            "name": "AGCTACGCACAGAAGTTCCAGGGCAGAGTCACCATGACCAGGGACACGTCCACGAGCACAGTCTACATGGAGCTGAGCAGCCTGAGATCTGAGGACACGGCCGTGTATTACTGT"
           },
           {
            "count": 3,
            "name": "3 others"
           }
          ],
          "nan_count": 0,
          "unique_count": 5
         }
        },
        {
         "dtype": "object",
         "name": "fwr3_aa_heavy",
         "stats": {
          "categories": [
           {
            "count": 1,
            "name": "YYADSGRGRFTISRDNANNSLYLQMNSLRAEDTAIYFC"
           },
           {
            "count": 1,
            "name": "SYAQKFQGRVTMTRDTSTSTVYMELSSLRSEDTAVYYC"
           },
           {
            "count": 3,
            "name": "3 others"
           }
          ],
          "nan_count": 0,
          "unique_count": 5
         }
        },
        {
         "dtype": "object",
         "name": "fwr4_heavy",
         "stats": {
          "categories": [
           {
            "count": 3,
            "name": "TGGGGCCAGGGAACCCTGGTCACCGTCTCCTCA"
           },
           {
            "count": 1,
            "name": "TGGGGCCAAGGGACCACGGTCACCGTCTCCTCA"
           },
           {
            "count": 1,
            "name": "TGGGGCCAGGGAACCCTGGTCACTGTCTCCTCA"
           }
          ],
          "nan_count": 0,
          "unique_count": 3
         }
        },
        {
         "dtype": "object",
         "name": "fwr4_aa_heavy",
         "stats": {
          "categories": [
           {
            "count": 4,
            "name": "WGQGTLVTVSS"
           },
           {
            "count": 1,
            "name": "WGQGTTVTVSS"
           }
          ],
          "nan_count": 0,
          "unique_count": 2
         }
        },
        {
         "dtype": "object",
         "name": "cdr3_heavy",
         "stats": {
          "categories": [
           {
            "count": 1,
            "name": "GCGAGAGTCTCCGGAAGTGCCTACGATGAAAGAGCCACCGAGGGCTATTACTTCGGTATGGACGTC"
           },
           {
            "count": 1,
            "name": "GCCTGCGGATTAAGTATAGTGGGAGCTACTCTCGATTACTTTGACTAC"
           },
           {
            "count": 3,
            "name": "3 others"
           }
          ],
          "nan_count": 0,
          "unique_count": 5
         }
        },
        {
         "dtype": "object",
         "name": "cdr3_aa_heavy",
         "stats": {
          "categories": [
           {
            "count": 1,
            "name": "ARVSGSAYDERATEGYYFGMDV"
           },
           {
            "count": 1,
            "name": "ACGLSIVGATLDYFDY"
           },
           {
            "count": 3,
            "name": "3 others"
           }
          ],
          "nan_count": 0,
          "unique_count": 5
         }
        },
        {
         "dtype": "object",
         "name": "junction_heavy",
         "stats": {
          "categories": [
           {
            "count": 1,
            "name": "TGTGCGAGAGTCTCCGGAAGTGCCTACGATGAAAGAGCCACCGAGGGCTATTACTTCGGTATGGACGTCTGG"
           },
           {
            "count": 1,
            "name": "TGTGCCTGCGGATTAAGTATAGTGGGAGCTACTCTCGATTACTTTGACTACTGG"
           },
           {
            "count": 3,
            "name": "3 others"
           }
          ],
          "nan_count": 0,
          "unique_count": 5
         }
        },
        {
         "dtype": "float64",
         "name": "junction_length_heavy",
         "stats": {
          "histogram": [
           {
            "bin_end": 47.7,
            "bin_start": 45,
            "count": 1
           },
           {
            "bin_end": 50.4,
            "bin_start": 47.7,
            "count": 1
           },
           {
            "bin_end": 53.1,
            "bin_start": 50.4,
            "count": 0
           },
           {
            "bin_end": 55.8,
            "bin_start": 53.1,
            "count": 2
           },
           {
            "bin_end": 58.5,
            "bin_start": 55.8,
            "count": 0
           },
           {
            "bin_end": 61.2,
            "bin_start": 58.5,
            "count": 0
           },
           {
            "bin_end": 63.900000000000006,
            "bin_start": 61.2,
            "count": 0
           },
           {
            "bin_end": 66.6,
            "bin_start": 63.900000000000006,
            "count": 0
           },
           {
            "bin_end": 69.3,
            "bin_start": 66.6,
            "count": 0
           },
           {
            "bin_end": 72,
            "bin_start": 69.3,
            "count": 1
           }
          ],
          "max": "72.0",
          "min": "45.0",
          "nan_count": 0,
          "unique_count": 4
         }
        },
        {
         "dtype": "object",
         "name": "junction_aa_heavy",
         "stats": {
          "categories": [
           {
            "count": 1,
            "name": "CARVSGSAYDERATEGYYFGMDVW"
           },
           {
            "count": 1,
            "name": "CACGLSIVGATLDYFDYW"
           },
           {
            "count": 3,
            "name": "3 others"
           }
          ],
          "nan_count": 0,
          "unique_count": 5
         }
        },
        {
         "dtype": "float64",
         "name": "junction_aa_length_heavy",
         "stats": {
          "histogram": [
           {
            "bin_end": 15.9,
            "bin_start": 15,
            "count": 1
           },
           {
            "bin_end": 16.8,
            "bin_start": 15.9,
            "count": 1
           },
           {
            "bin_end": 17.7,
            "bin_start": 16.8,
            "count": 0
           },
           {
            "bin_end": 18.6,
            "bin_start": 17.7,
            "count": 2
           },
           {
            "bin_end": 19.5,
            "bin_start": 18.6,
            "count": 0
           },
           {
            "bin_end": 20.4,
            "bin_start": 19.5,
            "count": 0
           },
           {
            "bin_end": 21.3,
            "bin_start": 20.4,
            "count": 0
           },
           {
            "bin_end": 22.2,
            "bin_start": 21.3,
            "count": 0
           },
           {
            "bin_end": 23.1,
            "bin_start": 22.2,
            "count": 0
           },
           {
            "bin_end": 24,
            "bin_start": 23.1,
            "count": 1
           }
          ],
          "max": "24.0",
          "min": "15.0",
          "nan_count": 0,
          "unique_count": 4
         }
        },
        {
         "dtype": "float64",
         "name": "v_score_heavy",
         "stats": {
          "histogram": [
           {
            "bin_end": 387.4686,
            "bin_start": 378.899,
            "count": 1
           },
           {
            "bin_end": 396.0382,
            "bin_start": 387.4686,
            "count": 0
           },
           {
            "bin_end": 404.6078,
            "bin_start": 396.0382,
            "count": 1
           },
           {
            "bin_end": 413.17740000000003,
            "bin_start": 404.6078,
            "count": 0
           },
           {
            "bin_end": 421.747,
            "bin_start": 413.17740000000003,
            "count": 0
           },
           {
            "bin_end": 430.3166,
            "bin_start": 421.747,
            "count": 0
           },
           {
            "bin_end": 438.88620000000003,
            "bin_start": 430.3166,
            "count": 0
           },
           {
            "bin_end": 447.4558,
            "bin_start": 438.88620000000003,
            "count": 0
           },
           {
            "bin_end": 456.02540000000005,
            "bin_start": 447.4558,
            "count": 1
           },
           {
            "bin_end": 464.595,
            "bin_start": 456.02540000000005,
            "count": 2
           }
          ],
          "max": "464.595",
          "min": "378.899",
          "nan_count": 0,
          "unique_count": 5
         }
        },
        {
         "dtype": "float64",
         "name": "d_score_heavy",
         "stats": {
          "histogram": [
           {
            "bin_end": 14.338000000000001,
            "bin_start": 12.223,
            "count": 1
           },
           {
            "bin_end": 16.453,
            "bin_start": 14.338000000000001,
            "count": 0
           },
           {
            "bin_end": 18.567999999999998,
            "bin_start": 16.453,
            "count": 1
           },
           {
            "bin_end": 20.683,
            "bin_start": 18.567999999999998,
            "count": 0
           },
           {
            "bin_end": 22.798000000000002,
            "bin_start": 20.683,
            "count": 0
           },
           {
            "bin_end": 24.912999999999997,
            "bin_start": 22.798000000000002,
            "count": 0
           },
           {
            "bin_end": 27.028,
            "bin_start": 24.912999999999997,
            "count": 1
           },
           {
            "bin_end": 29.143,
            "bin_start": 27.028,
            "count": 1
           },
           {
            "bin_end": 31.257999999999996,
            "bin_start": 29.143,
            "count": 0
           },
           {
            "bin_end": 33.373,
            "bin_start": 31.257999999999996,
            "count": 1
           }
          ],
          "max": "33.373",
          "min": "12.223",
          "nan_count": 0,
          "unique_count": 5
         }
        },
        {
         "dtype": "float64",
         "name": "j_score_heavy",
         "stats": {
          "histogram": [
           {
            "bin_end": 72.4035,
            "bin_start": 69.904,
            "count": 1
           },
           {
            "bin_end": 74.90299999999999,
            "bin_start": 72.4035,
            "count": 0
           },
           {
            "bin_end": 77.4025,
            "bin_start": 74.90299999999999,
            "count": 0
           },
           {
            "bin_end": 79.902,
            "bin_start": 77.4025,
            "count": 0
           },
           {
            "bin_end": 82.4015,
            "bin_start": 79.902,
            "count": 0
           },
           {
            "bin_end": 84.901,
            "bin_start": 82.4015,
            "count": 0
           },
           {
            "bin_end": 87.4005,
            "bin_start": 84.901,
            "count": 2
           },
           {
            "bin_end": 89.9,
            "bin_start": 87.4005,
            "count": 1
           },
           {
            "bin_end": 92.3995,
            "bin_start": 89.9,
            "count": 0
           },
           {
            "bin_end": 94.899,
            "bin_start": 92.3995,
            "count": 1
           }
          ],
          "max": "94.899",
          "min": "69.904",
          "nan_count": 0,
          "unique_count": 5
         }
        },
        {
         "dtype": "object",
         "name": "v_cigar_heavy",
         "stats": {
          "categories": [
           {
            "count": 1,
            "name": "136S295M253S1N"
           },
           {
            "count": 1,
            "name": "115S290M151S6N"
           },
           {
            "count": 3,
            "name": "3 others"
           }
          ],
          "nan_count": 0,
          "unique_count": 5
         }
        },
        {
         "dtype": "object",
         "name": "d_cigar_heavy",
         "stats": {
          "categories": [
           {
            "count": 1,
            "name": "439S8N12M233S3N"
           },
           {
            "count": 1,
            "name": "416S1N17M123S2N"
           },
           {
            "count": 3,
            "name": "3 others"
           }
          ],
          "nan_count": 0,
          "unique_count": 5
         }
        },
        {
         "dtype": "object",
         "name": "j_cigar_heavy",
         "stats": {
          "categories": [
           {
            "count": 1,
            "name": "468S7N55M161S"
           },
           {
            "count": 1,
            "name": "439S2N46M71S"
           },
           {
            "count": 3,
            "name": "3 others"
           }
          ],
          "nan_count": 0,
          "unique_count": 5
         }
        },
        {
         "dtype": "float64",
         "name": "v_support_heavy",
         "stats": {
          "histogram": [
           {
            "bin_end": 5.8359999999999995e-108,
            "bin_start": 9.312e-133,
            "count": 4
           },
           {
            "bin_end": 1.1671999999999999e-107,
            "bin_start": 5.8359999999999995e-108,
            "count": 0
           },
           {
            "bin_end": 1.7508e-107,
            "bin_start": 1.1671999999999999e-107,
            "count": 0
           },
           {
            "bin_end": 2.3343999999999998e-107,
            "bin_start": 1.7508e-107,
            "count": 0
           },
           {
            "bin_end": 2.9179999999999997e-107,
            "bin_start": 2.3343999999999998e-107,
            "count": 0
           },
           {
            "bin_end": 3.5016e-107,
            "bin_start": 2.9179999999999997e-107,
            "count": 0
           },
           {
            "bin_end": 4.0851999999999994e-107,
            "bin_start": 3.5016e-107,
            "count": 0
           },
           {
            "bin_end": 4.6687999999999996e-107,
            "bin_start": 4.0851999999999994e-107,
            "count": 0
           },
           {
            "bin_end": 5.2524e-107,
            "bin_start": 4.6687999999999996e-107,
            "count": 0
           },
           {
            "bin_end": 5.835999999999999e-107,
            "bin_start": 5.2524e-107,
            "count": 1
           }
          ],
          "max": "5.835999999999999e-107",
          "min": "9.312e-133",
          "nan_count": 0,
          "unique_count": 5
         }
        },
        {
         "dtype": "float64",
         "name": "d_support_heavy",
         "stats": {
          "histogram": [
           {
            "bin_end": 5.406020142,
            "bin_start": 2.238e-05,
            "count": 4
           },
           {
            "bin_end": 10.812017904000001,
            "bin_start": 5.406020142,
            "count": 0
           },
           {
            "bin_end": 16.218015666000003,
            "bin_start": 10.812017904000001,
            "count": 0
           },
           {
            "bin_end": 21.624013428,
            "bin_start": 16.218015666000003,
            "count": 0
           },
           {
            "bin_end": 27.03001119,
            "bin_start": 21.624013428,
            "count": 0
           },
           {
            "bin_end": 32.436008952,
            "bin_start": 27.03001119,
            "count": 0
           },
           {
            "bin_end": 37.842006714,
            "bin_start": 32.436008952,
            "count": 0
           },
           {
            "bin_end": 43.248004476,
            "bin_start": 37.842006714,
            "count": 0
           },
           {
            "bin_end": 48.654002238,
            "bin_start": 43.248004476,
            "count": 0
           },
           {
            "bin_end": 54.06,
            "bin_start": 48.654002238,
            "count": 1
           }
          ],
          "max": "54.06",
          "min": "2.238e-05",
          "nan_count": 0,
          "unique_count": 5
         }
        },
        {
         "dtype": "float64",
         "name": "j_support_heavy",
         "stats": {
          "histogram": [
           {
            "bin_end": 5.0880016281e-17,
            "bin_start": 1.809e-23,
            "count": 4
           },
           {
            "bin_end": 1.01760014472e-16,
            "bin_start": 5.0880016281e-17,
            "count": 0
           },
           {
            "bin_end": 1.5264001266299999e-16,
            "bin_start": 1.01760014472e-16,
            "count": 0
           },
           {
            "bin_end": 2.0352001085399999e-16,
            "bin_start": 1.5264001266299999e-16,
            "count": 0
           },
           {
            "bin_end": 2.54400009045e-16,
            "bin_start": 2.0352001085399999e-16,
            "count": 0
           },
           {
            "bin_end": 3.05280007236e-16,
            "bin_start": 2.54400009045e-16,
            "count": 0
           },
           {
            "bin_end": 3.56160005427e-16,
            "bin_start": 3.05280007236e-16,
            "count": 0
           },
           {
            "bin_end": 4.07040003618e-16,
            "bin_start": 3.56160005427e-16,
            "count": 0
           },
           {
            "bin_end": 4.57920001809e-16,
            "bin_start": 4.07040003618e-16,
            "count": 0
           },
           {
            "bin_end": 5.088e-16,
            "bin_start": 4.57920001809e-16,
            "count": 1
           }
          ],
          "max": "5.088e-16",
          "min": "1.809e-23",
          "nan_count": 0,
          "unique_count": 5
         }
        },
        {
         "dtype": "float64",
         "name": "v_identity_heavy",
         "stats": {
          "histogram": [
           {
            "bin_end": 91.7902,
            "bin_start": 90.878,
            "count": 1
           },
           {
            "bin_end": 92.7024,
            "bin_start": 91.7902,
            "count": 0
           },
           {
            "bin_end": 93.6146,
            "bin_start": 92.7024,
            "count": 1
           },
           {
            "bin_end": 94.5268,
            "bin_start": 93.6146,
            "count": 0
           },
           {
            "bin_end": 95.439,
            "bin_start": 94.5268,
            "count": 0
           },
           {
            "bin_end": 96.3512,
            "bin_start": 95.439,
            "count": 0
           },
           {
            "bin_end": 97.2634,
            "bin_start": 96.3512,
            "count": 0
           },
           {
            "bin_end": 98.1756,
            "bin_start": 97.2634,
            "count": 0
           },
           {
            "bin_end": 99.0878,
            "bin_start": 98.1756,
            "count": 0
           },
           {
            "bin_end": 100,
            "bin_start": 99.0878,
            "count": 3
           }
          ],
          "max": "100.0",
          "min": "90.878",
          "nan_count": 0,
          "unique_count": 3
         }
        },
        {
         "dtype": "float64",
         "name": "d_identity_heavy",
         "stats": {
          "histogram": [
           {
            "bin_end": 92.5003,
            "bin_start": 91.667,
            "count": 1
           },
           {
            "bin_end": 93.3336,
            "bin_start": 92.5003,
            "count": 0
           },
           {
            "bin_end": 94.1669,
            "bin_start": 93.3336,
            "count": 0
           },
           {
            "bin_end": 95.0002,
            "bin_start": 94.1669,
            "count": 0
           },
           {
            "bin_end": 95.8335,
            "bin_start": 95.0002,
            "count": 0
           },
           {
            "bin_end": 96.6668,
            "bin_start": 95.8335,
            "count": 0
           },
           {
            "bin_end": 97.5001,
            "bin_start": 96.6668,
            "count": 0
           },
           {
            "bin_end": 98.3334,
            "bin_start": 97.5001,
            "count": 0
           },
           {
            "bin_end": 99.1667,
            "bin_start": 98.3334,
            "count": 0
           },
           {
            "bin_end": 100,
            "bin_start": 99.1667,
            "count": 4
           }
          ],
          "max": "100.0",
          "min": "91.667",
          "nan_count": 0,
          "unique_count": 2
         }
        },
        {
         "dtype": "float64",
         "name": "j_identity_heavy",
         "stats": {
          "histogram": [
           {
            "bin_end": 96.72760000000001,
            "bin_start": 96.364,
            "count": 1
           },
           {
            "bin_end": 97.0912,
            "bin_start": 96.72760000000001,
            "count": 0
           },
           {
            "bin_end": 97.4548,
            "bin_start": 97.0912,
            "count": 0
           },
           {
            "bin_end": 97.8184,
            "bin_start": 97.4548,
            "count": 0
           },
           {
            "bin_end": 98.182,
            "bin_start": 97.8184,
            "count": 1
           },
           {
            "bin_end": 98.54560000000001,
            "bin_start": 98.182,
            "count": 0
           },
           {
            "bin_end": 98.9092,
            "bin_start": 98.54560000000001,
            "count": 0
           },
           {
            "bin_end": 99.2728,
            "bin_start": 98.9092,
            "count": 0
           },
           {
            "bin_end": 99.6364,
            "bin_start": 99.2728,
            "count": 0
           },
           {
            "bin_end": 100,
            "bin_start": 99.6364,
            "count": 3
           }
          ],
          "max": "100.0",
          "min": "96.364",
          "nan_count": 0,
          "unique_count": 3
         }
        },
        {
         "dtype": "float64",
         "name": "v_sequence_start_heavy",
         "stats": {
          "histogram": [
           {
            "bin_end": 104.3,
            "bin_start": 100,
            "count": 1
           },
           {
            "bin_end": 108.6,
            "bin_start": 104.3,
            "count": 0
           },
           {
            "bin_end": 112.9,
            "bin_start": 108.6,
            "count": 0
           },
           {
            "bin_end": 117.2,
            "bin_start": 112.9,
            "count": 1
           },
           {
            "bin_end": 121.5,
            "bin_start": 117.2,
            "count": 0
           },
           {
            "bin_end": 125.8,
            "bin_start": 121.5,
            "count": 0
           },
           {
            "bin_end": 130.1,
            "bin_start": 125.8,
            "count": 0
           },
           {
            "bin_end": 134.4,
            "bin_start": 130.1,
            "count": 0
           },
           {
            "bin_end": 138.7,
            "bin_start": 134.4,
            "count": 2
           },
           {
            "bin_end": 143,
            "bin_start": 138.7,
            "count": 1
           }
          ],
          "max": "143.0",
          "min": "100.0",
          "nan_count": 0,
          "unique_count": 4
         }
        },
        {
         "dtype": "float64",
         "name": "v_sequence_end_heavy",
         "stats": {
          "histogram": [
           {
            "bin_end": 399.4,
            "bin_start": 395,
            "count": 1
           },
           {
            "bin_end": 403.8,
            "bin_start": 399.4,
            "count": 0
           },
           {
            "bin_end": 408.2,
            "bin_start": 403.8,
            "count": 1
           },
           {
            "bin_end": 412.6,
            "bin_start": 408.2,
            "count": 0
           },
           {
            "bin_end": 417,
            "bin_start": 412.6,
            "count": 0
           },
           {
            "bin_end": 421.4,
            "bin_start": 417,
            "count": 0
           },
           {
            "bin_end": 425.8,
            "bin_start": 421.4,
            "count": 0
           },
           {
            "bin_end": 430.2,
            "bin_start": 425.8,
            "count": 0
           },
           {
            "bin_end": 434.6,
            "bin_start": 430.2,
            "count": 2
           },
           {
            "bin_end": 439,
            "bin_start": 434.6,
            "count": 1
           }
          ],
          "max": "439.0",
          "min": "395.0",
          "nan_count": 0,
          "unique_count": 5
         }
        },
        {
         "dtype": "float64",
         "name": "v_germline_start_heavy",
         "stats": {
          "histogram": [
           {
            "bin_end": 0.6,
            "bin_start": 0.5,
            "count": 0
           },
           {
            "bin_end": 0.7,
            "bin_start": 0.6,
            "count": 0
           },
           {
            "bin_end": 0.8,
            "bin_start": 0.7,
            "count": 0
           },
           {
            "bin_end": 0.9,
            "bin_start": 0.8,
            "count": 0
           },
           {
            "bin_end": 1,
            "bin_start": 0.9,
            "count": 0
           },
           {
            "bin_end": 1.1,
            "bin_start": 1,
            "count": 5
           },
           {
            "bin_end": 1.2000000000000002,
            "bin_start": 1.1,
            "count": 0
           },
           {
            "bin_end": 1.3,
            "bin_start": 1.2000000000000002,
            "count": 0
           },
           {
            "bin_end": 1.4,
            "bin_start": 1.3,
            "count": 0
           },
           {
            "bin_end": 1.5,
            "bin_start": 1.4,
            "count": 0
           }
          ],
          "max": "1.0",
          "min": "1.0",
          "nan_count": 0,
          "unique_count": 1
         }
        },
        {
         "dtype": "float64",
         "name": "v_germline_end_heavy",
         "stats": {
          "histogram": [
           {
            "bin_end": 290.7,
            "bin_start": 290,
            "count": 1
           },
           {
            "bin_end": 291.4,
            "bin_start": 290.7,
            "count": 0
           },
           {
            "bin_end": 292.1,
            "bin_start": 291.4,
            "count": 0
           },
           {
            "bin_end": 292.8,
            "bin_start": 292.1,
            "count": 0
           },
           {
            "bin_end": 293.5,
            "bin_start": 292.8,
            "count": 0
           },
           {
            "bin_end": 294.2,
            "bin_start": 293.5,
            "count": 0
           },
           {
            "bin_end": 294.9,
            "bin_start": 294.2,
            "count": 0
           },
           {
            "bin_end": 295.6,
            "bin_start": 294.9,
            "count": 1
           },
           {
            "bin_end": 296.3,
            "bin_start": 295.6,
            "count": 2
           },
           {
            "bin_end": 297,
            "bin_start": 296.3,
            "count": 1
           }
          ],
          "max": "297.0",
          "min": "290.0",
          "nan_count": 0,
          "unique_count": 4
         }
        },
        {
         "dtype": "float64",
         "name": "d_sequence_start_heavy",
         "stats": {
          "histogram": [
           {
            "bin_end": 404.5,
            "bin_start": 399,
            "count": 1
           },
           {
            "bin_end": 410,
            "bin_start": 404.5,
            "count": 0
           },
           {
            "bin_end": 415.5,
            "bin_start": 410,
            "count": 0
           },
           {
            "bin_end": 421,
            "bin_start": 415.5,
            "count": 1
           },
           {
            "bin_end": 426.5,
            "bin_start": 421,
            "count": 0
           },
           {
            "bin_end": 432,
            "bin_start": 426.5,
            "count": 0
           },
           {
            "bin_end": 437.5,
            "bin_start": 432,
            "count": 0
           },
           {
            "bin_end": 443,
            "bin_start": 437.5,
            "count": 1
           },
           {
            "bin_end": 448.5,
            "bin_start": 443,
            "count": 1
           },
           {
            "bin_end": 454,
            "bin_start": 448.5,
            "count": 1
           }
          ],
          "max": "454.0",
          "min": "399.0",
          "nan_count": 0,
          "unique_count": 5
         }
        },
        {
         "dtype": "float64",
         "name": "d_sequence_end_heavy",
         "stats": {
          "histogram": [
           {
            "bin_end": 416.6,
            "bin_start": 411,
            "count": 1
           },
           {
            "bin_end": 422.2,
            "bin_start": 416.6,
            "count": 0
           },
           {
            "bin_end": 427.8,
            "bin_start": 422.2,
            "count": 0
           },
           {
            "bin_end": 433.4,
            "bin_start": 427.8,
            "count": 1
           },
           {
            "bin_end": 439,
            "bin_start": 433.4,
            "count": 0
           },
           {
            "bin_end": 444.6,
            "bin_start": 439,
            "count": 0
           },
           {
            "bin_end": 450.2,
            "bin_start": 444.6,
            "count": 0
           },
           {
            "bin_end": 455.8,
            "bin_start": 450.2,
            "count": 2
           },
           {
            "bin_end": 461.4,
            "bin_start": 455.8,
            "count": 0
           },
           {
            "bin_end": 467,
            "bin_start": 461.4,
            "count": 1
           }
          ],
          "max": "467.0",
          "min": "411.0",
          "nan_count": 0,
          "unique_count": 5
         }
        },
        {
         "dtype": "float64",
         "name": "d_germline_start_heavy",
         "stats": {
          "histogram": [
           {
            "bin_end": 3.4,
            "bin_start": 2,
            "count": 2
           },
           {
            "bin_end": 4.8,
            "bin_start": 3.4,
            "count": 0
           },
           {
            "bin_end": 6.199999999999999,
            "bin_start": 4.8,
            "count": 0
           },
           {
            "bin_end": 7.6,
            "bin_start": 6.199999999999999,
            "count": 0
           },
           {
            "bin_end": 9,
            "bin_start": 7.6,
            "count": 1
           },
           {
            "bin_end": 10.399999999999999,
            "bin_start": 9,
            "count": 1
           },
           {
            "bin_end": 11.799999999999999,
            "bin_start": 10.399999999999999,
            "count": 0
           },
           {
            "bin_end": 13.2,
            "bin_start": 11.799999999999999,
            "count": 0
           },
           {
            "bin_end": 14.6,
            "bin_start": 13.2,
            "count": 0
           },
           {
            "bin_end": 16,
            "bin_start": 14.6,
            "count": 1
           }
          ],
          "max": "16.0",
          "min": "2.0",
          "nan_count": 0,
          "unique_count": 5
         }
        },
        {
         "dtype": "float64",
         "name": "d_germline_end_heavy",
         "stats": {
          "histogram": [
           {
            "bin_end": 14.5,
            "bin_start": 13,
            "count": 1
           },
           {
            "bin_end": 16,
            "bin_start": 14.5,
            "count": 0
           },
           {
            "bin_end": 17.5,
            "bin_start": 16,
            "count": 1
           },
           {
            "bin_end": 19,
            "bin_start": 17.5,
            "count": 1
           },
           {
            "bin_end": 20.5,
            "bin_start": 19,
            "count": 1
           },
           {
            "bin_end": 22,
            "bin_start": 20.5,
            "count": 0
           },
           {
            "bin_end": 23.5,
            "bin_start": 22,
            "count": 0
           },
           {
            "bin_end": 25,
            "bin_start": 23.5,
            "count": 0
           },
           {
            "bin_end": 26.5,
            "bin_start": 25,
            "count": 0
           },
           {
            "bin_end": 28,
            "bin_start": 26.5,
            "count": 1
           }
          ],
          "max": "28.0",
          "min": "13.0",
          "nan_count": 0,
          "unique_count": 5
         }
        },
        {
         "dtype": "float64",
         "name": "j_sequence_start_heavy",
         "stats": {
          "histogram": [
           {
            "bin_end": 422.4,
            "bin_start": 417,
            "count": 1
           },
           {
            "bin_end": 427.8,
            "bin_start": 422.4,
            "count": 0
           },
           {
            "bin_end": 433.2,
            "bin_start": 427.8,
            "count": 0
           },
           {
            "bin_end": 438.6,
            "bin_start": 433.2,
            "count": 0
           },
           {
            "bin_end": 444,
            "bin_start": 438.6,
            "count": 1
           },
           {
            "bin_end": 449.4,
            "bin_start": 444,
            "count": 0
           },
           {
            "bin_end": 454.8,
            "bin_start": 449.4,
            "count": 0
           },
           {
            "bin_end": 460.2,
            "bin_start": 454.8,
            "count": 1
           },
           {
            "bin_end": 465.6,
            "bin_start": 460.2,
            "count": 0
           },
           {
            "bin_end": 471,
            "bin_start": 465.6,
            "count": 2
           }
          ],
          "max": "471.0",
          "min": "417.0",
          "nan_count": 0,
          "unique_count": 5
         }
        },
        {
         "dtype": "float64",
         "name": "j_sequence_end_heavy",
         "stats": {
          "histogram": [
           {
            "bin_end": 466.3,
            "bin_start": 460,
            "count": 1
           },
           {
            "bin_end": 472.6,
            "bin_start": 466.3,
            "count": 0
           },
           {
            "bin_end": 478.9,
            "bin_start": 472.6,
            "count": 0
           },
           {
            "bin_end": 485.2,
            "bin_start": 478.9,
            "count": 1
           },
           {
            "bin_end": 491.5,
            "bin_start": 485.2,
            "count": 0
           },
           {
            "bin_end": 497.8,
            "bin_start": 491.5,
            "count": 0
           },
           {
            "bin_end": 504.1,
            "bin_start": 497.8,
            "count": 0
           },
           {
            "bin_end": 510.4,
            "bin_start": 504.1,
            "count": 2
           },
           {
            "bin_end": 516.7,
            "bin_start": 510.4,
            "count": 0
           },
           {
            "bin_end": 523,
            "bin_start": 516.7,
            "count": 1
           }
          ],
          "max": "523.0",
          "min": "460.0",
          "nan_count": 0,
          "unique_count": 4
         }
        },
        {
         "dtype": "float64",
         "name": "j_germline_start_heavy",
         "stats": {
          "histogram": [
           {
            "bin_end": 4,
            "bin_start": 3,
            "count": 1
           },
           {
            "bin_end": 5,
            "bin_start": 4,
            "count": 1
           },
           {
            "bin_end": 6,
            "bin_start": 5,
            "count": 1
           },
           {
            "bin_end": 7,
            "bin_start": 6,
            "count": 0
           },
           {
            "bin_end": 8,
            "bin_start": 7,
            "count": 0
           },
           {
            "bin_end": 9,
            "bin_start": 8,
            "count": 1
           },
           {
            "bin_end": 10,
            "bin_start": 9,
            "count": 0
           },
           {
            "bin_end": 11,
            "bin_start": 10,
            "count": 0
           },
           {
            "bin_end": 12,
            "bin_start": 11,
            "count": 0
           },
           {
            "bin_end": 13,
            "bin_start": 12,
            "count": 1
           }
          ],
          "max": "13.0",
          "min": "3.0",
          "nan_count": 0,
          "unique_count": 5
         }
        },
        {
         "dtype": "float64",
         "name": "j_germline_end_heavy",
         "stats": {
          "histogram": [
           {
            "bin_end": 49.4,
            "bin_start": 48,
            "count": 3
           },
           {
            "bin_end": 50.8,
            "bin_start": 49.4,
            "count": 0
           },
           {
            "bin_end": 52.2,
            "bin_start": 50.8,
            "count": 1
           },
           {
            "bin_end": 53.6,
            "bin_start": 52.2,
            "count": 0
           },
           {
            "bin_end": 55,
            "bin_start": 53.6,
            "count": 0
           },
           {
            "bin_end": 56.4,
            "bin_start": 55,
            "count": 0
           },
           {
            "bin_end": 57.8,
            "bin_start": 56.4,
            "count": 0
           },
           {
            "bin_end": 59.2,
            "bin_start": 57.8,
            "count": 0
           },
           {
            "bin_end": 60.6,
            "bin_start": 59.2,
            "count": 0
           },
           {
            "bin_end": 62,
            "bin_start": 60.6,
            "count": 1
           }
          ],
          "max": "62.0",
          "min": "48.0",
          "nan_count": 0,
          "unique_count": 3
         }
        },
        {
         "dtype": "float64",
         "name": "fwr1_start_heavy",
         "stats": {
          "histogram": [
           {
            "bin_end": 104.3,
            "bin_start": 100,
            "count": 1
           },
           {
            "bin_end": 108.6,
            "bin_start": 104.3,
            "count": 0
           },
           {
            "bin_end": 112.9,
            "bin_start": 108.6,
            "count": 0
           },
           {
            "bin_end": 117.2,
            "bin_start": 112.9,
            "count": 1
           },
           {
            "bin_end": 121.5,
            "bin_start": 117.2,
            "count": 0
           },
           {
            "bin_end": 125.8,
            "bin_start": 121.5,
            "count": 0
           },
           {
            "bin_end": 130.1,
            "bin_start": 125.8,
            "count": 0
           },
           {
            "bin_end": 134.4,
            "bin_start": 130.1,
            "count": 0
           },
           {
            "bin_end": 138.7,
            "bin_start": 134.4,
            "count": 2
           },
           {
            "bin_end": 143,
            "bin_start": 138.7,
            "count": 1
           }
          ],
          "max": "143.0",
          "min": "100.0",
          "nan_count": 0,
          "unique_count": 4
         }
        },
        {
         "dtype": "float64",
         "name": "fwr1_end_heavy",
         "stats": {
          "histogram": [
           {
            "bin_end": 178.3,
            "bin_start": 174,
            "count": 1
           },
           {
            "bin_end": 182.6,
            "bin_start": 178.3,
            "count": 0
           },
           {
            "bin_end": 186.9,
            "bin_start": 182.6,
            "count": 0
           },
           {
            "bin_end": 191.2,
            "bin_start": 186.9,
            "count": 1
           },
           {
            "bin_end": 195.5,
            "bin_start": 191.2,
            "count": 0
           },
           {
            "bin_end": 199.8,
            "bin_start": 195.5,
            "count": 0
           },
           {
            "bin_end": 204.1,
            "bin_start": 199.8,
            "count": 0
           },
           {
            "bin_end": 208.4,
            "bin_start": 204.1,
            "count": 0
           },
           {
            "bin_end": 212.7,
            "bin_start": 208.4,
            "count": 2
           },
           {
            "bin_end": 217,
            "bin_start": 212.7,
            "count": 1
           }
          ],
          "max": "217.0",
          "min": "174.0",
          "nan_count": 0,
          "unique_count": 4
         }
        },
        {
         "dtype": "float64",
         "name": "cdr1_start_heavy",
         "stats": {
          "histogram": [
           {
            "bin_end": 179.3,
            "bin_start": 175,
            "count": 1
           },
           {
            "bin_end": 183.6,
            "bin_start": 179.3,
            "count": 0
           },
           {
            "bin_end": 187.9,
            "bin_start": 183.6,
            "count": 0
           },
           {
            "bin_end": 192.2,
            "bin_start": 187.9,
            "count": 1
           },
           {
            "bin_end": 196.5,
            "bin_start": 192.2,
            "count": 0
           },
           {
            "bin_end": 200.8,
            "bin_start": 196.5,
            "count": 0
           },
           {
            "bin_end": 205.1,
            "bin_start": 200.8,
            "count": 0
           },
           {
            "bin_end": 209.4,
            "bin_start": 205.1,
            "count": 0
           },
           {
            "bin_end": 213.7,
            "bin_start": 209.4,
            "count": 2
           },
           {
            "bin_end": 218,
            "bin_start": 213.7,
            "count": 1
           }
          ],
          "max": "218.0",
          "min": "175.0",
          "nan_count": 0,
          "unique_count": 4
         }
        },
        {
         "dtype": "float64",
         "name": "cdr1_end_heavy",
         "stats": {
          "histogram": [
           {
            "bin_end": 202.3,
            "bin_start": 198,
            "count": 1
           },
           {
            "bin_end": 206.6,
            "bin_start": 202.3,
            "count": 0
           },
           {
            "bin_end": 210.9,
            "bin_start": 206.6,
            "count": 0
           },
           {
            "bin_end": 215.2,
            "bin_start": 210.9,
            "count": 1
           },
           {
            "bin_end": 219.5,
            "bin_start": 215.2,
            "count": 0
           },
           {
            "bin_end": 223.8,
            "bin_start": 219.5,
            "count": 0
           },
           {
            "bin_end": 228.1,
            "bin_start": 223.8,
            "count": 0
           },
           {
            "bin_end": 232.4,
            "bin_start": 228.1,
            "count": 0
           },
           {
            "bin_end": 236.7,
            "bin_start": 232.4,
            "count": 2
           },
           {
            "bin_end": 241,
            "bin_start": 236.7,
            "count": 1
           }
          ],
          "max": "241.0",
          "min": "198.0",
          "nan_count": 0,
          "unique_count": 4
         }
        },
        {
         "dtype": "float64",
         "name": "fwr2_start_heavy",
         "stats": {
          "histogram": [
           {
            "bin_end": 203.3,
            "bin_start": 199,
            "count": 1
           },
           {
            "bin_end": 207.6,
            "bin_start": 203.3,
            "count": 0
           },
           {
            "bin_end": 211.9,
            "bin_start": 207.6,
            "count": 0
           },
           {
            "bin_end": 216.2,
            "bin_start": 211.9,
            "count": 1
           },
           {
            "bin_end": 220.5,
            "bin_start": 216.2,
            "count": 0
           },
           {
            "bin_end": 224.8,
            "bin_start": 220.5,
            "count": 0
           },
           {
            "bin_end": 229.1,
            "bin_start": 224.8,
            "count": 0
           },
           {
            "bin_end": 233.4,
            "bin_start": 229.1,
            "count": 0
           },
           {
            "bin_end": 237.7,
            "bin_start": 233.4,
            "count": 2
           },
           {
            "bin_end": 242,
            "bin_start": 237.7,
            "count": 1
           }
          ],
          "max": "242.0",
          "min": "199.0",
          "nan_count": 0,
          "unique_count": 4
         }
        },
        {
         "dtype": "float64",
         "name": "fwr2_end_heavy",
         "stats": {
          "histogram": [
           {
            "bin_end": 253.3,
            "bin_start": 249,
            "count": 1
           },
           {
            "bin_end": 257.6,
            "bin_start": 253.3,
            "count": 0
           },
           {
            "bin_end": 261.9,
            "bin_start": 257.6,
            "count": 0
           },
           {
            "bin_end": 266.2,
            "bin_start": 261.9,
            "count": 1
           },
           {
            "bin_end": 270.5,
            "bin_start": 266.2,
            "count": 0
           },
           {
            "bin_end": 274.8,
            "bin_start": 270.5,
            "count": 0
           },
           {
            "bin_end": 279.1,
            "bin_start": 274.8,
            "count": 0
           },
           {
            "bin_end": 283.4,
            "bin_start": 279.1,
            "count": 0
           },
           {
            "bin_end": 287.7,
            "bin_start": 283.4,
            "count": 2
           },
           {
            "bin_end": 292,
            "bin_start": 287.7,
            "count": 1
           }
          ],
          "max": "292.0",
          "min": "249.0",
          "nan_count": 0,
          "unique_count": 4
         }
        },
        {
         "dtype": "float64",
         "name": "cdr2_start_heavy",
         "stats": {
          "histogram": [
           {
            "bin_end": 254.3,
            "bin_start": 250,
            "count": 1
           },
           {
            "bin_end": 258.6,
            "bin_start": 254.3,
            "count": 0
           },
           {
            "bin_end": 262.9,
            "bin_start": 258.6,
            "count": 0
           },
           {
            "bin_end": 267.2,
            "bin_start": 262.9,
            "count": 1
           },
           {
            "bin_end": 271.5,
            "bin_start": 267.2,
            "count": 0
           },
           {
            "bin_end": 275.8,
            "bin_start": 271.5,
            "count": 0
           },
           {
            "bin_end": 280.1,
            "bin_start": 275.8,
            "count": 0
           },
           {
            "bin_end": 284.4,
            "bin_start": 280.1,
            "count": 0
           },
           {
            "bin_end": 288.7,
            "bin_start": 284.4,
            "count": 2
           },
           {
            "bin_end": 293,
            "bin_start": 288.7,
            "count": 1
           }
          ],
          "max": "293.0",
          "min": "250.0",
          "nan_count": 0,
          "unique_count": 4
         }
        },
        {
         "dtype": "float64",
         "name": "cdr2_end_heavy",
         "stats": {
          "histogram": [
           {
            "bin_end": 277.3,
            "bin_start": 273,
            "count": 1
           },
           {
            "bin_end": 281.6,
            "bin_start": 277.3,
            "count": 0
           },
           {
            "bin_end": 285.9,
            "bin_start": 281.6,
            "count": 0
           },
           {
            "bin_end": 290.2,
            "bin_start": 285.9,
            "count": 1
           },
           {
            "bin_end": 294.5,
            "bin_start": 290.2,
            "count": 0
           },
           {
            "bin_end": 298.8,
            "bin_start": 294.5,
            "count": 0
           },
           {
            "bin_end": 303.1,
            "bin_start": 298.8,
            "count": 0
           },
           {
            "bin_end": 307.4,
            "bin_start": 303.1,
            "count": 0
           },
           {
            "bin_end": 311.7,
            "bin_start": 307.4,
            "count": 2
           },
           {
            "bin_end": 316,
            "bin_start": 311.7,
            "count": 1
           }
          ],
          "max": "316.0",
          "min": "273.0",
          "nan_count": 0,
          "unique_count": 4
         }
        },
        {
         "dtype": "float64",
         "name": "fwr3_start_heavy",
         "stats": {
          "histogram": [
           {
            "bin_end": 278.3,
            "bin_start": 274,
            "count": 1
           },
           {
            "bin_end": 282.6,
            "bin_start": 278.3,
            "count": 0
           },
           {
            "bin_end": 286.9,
            "bin_start": 282.6,
            "count": 0
           },
           {
            "bin_end": 291.2,
            "bin_start": 286.9,
            "count": 1
           },
           {
            "bin_end": 295.5,
            "bin_start": 291.2,
            "count": 0
           },
           {
            "bin_end": 299.8,
            "bin_start": 295.5,
            "count": 0
           },
           {
            "bin_end": 304.1,
            "bin_start": 299.8,
            "count": 0
           },
           {
            "bin_end": 308.4,
            "bin_start": 304.1,
            "count": 0
           },
           {
            "bin_end": 312.7,
            "bin_start": 308.4,
            "count": 2
           },
           {
            "bin_end": 317,
            "bin_start": 312.7,
            "count": 1
           }
          ],
          "max": "317.0",
          "min": "274.0",
          "nan_count": 0,
          "unique_count": 4
         }
        },
        {
         "dtype": "float64",
         "name": "fwr3_end_heavy",
         "stats": {
          "histogram": [
           {
            "bin_end": 391.3,
            "bin_start": 387,
            "count": 1
           },
           {
            "bin_end": 395.6,
            "bin_start": 391.3,
            "count": 0
           },
           {
            "bin_end": 399.9,
            "bin_start": 395.6,
            "count": 0
           },
           {
            "bin_end": 404.2,
            "bin_start": 399.9,
            "count": 1
           },
           {
            "bin_end": 408.5,
            "bin_start": 404.2,
            "count": 0
           },
           {
            "bin_end": 412.8,
            "bin_start": 408.5,
            "count": 0
           },
           {
            "bin_end": 417.1,
            "bin_start": 412.8,
            "count": 0
           },
           {
            "bin_end": 421.4,
            "bin_start": 417.1,
            "count": 0
           },
           {
            "bin_end": 425.7,
            "bin_start": 421.4,
            "count": 2
           },
           {
            "bin_end": 430,
            "bin_start": 425.7,
            "count": 1
           }
          ],
          "max": "430.0",
          "min": "387.0",
          "nan_count": 0,
          "unique_count": 4
         }
        },
        {
         "dtype": "float64",
         "name": "fwr4_start_heavy",
         "stats": {
          "histogram": [
           {
            "bin_end": 433.4,
            "bin_start": 427,
            "count": 1
           },
           {
            "bin_end": 439.8,
            "bin_start": 433.4,
            "count": 0
           },
           {
            "bin_end": 446.2,
            "bin_start": 439.8,
            "count": 0
           },
           {
            "bin_end": 452.6,
            "bin_start": 446.2,
            "count": 1
           },
           {
            "bin_end": 459,
            "bin_start": 452.6,
            "count": 0
           },
           {
            "bin_end": 465.4,
            "bin_start": 459,
            "count": 0
           },
           {
            "bin_end": 471.8,
            "bin_start": 465.4,
            "count": 0
           },
           {
            "bin_end": 478.2,
            "bin_start": 471.8,
            "count": 2
           },
           {
            "bin_end": 484.6,
            "bin_start": 478.2,
            "count": 0
           },
           {
            "bin_end": 491,
            "bin_start": 484.6,
            "count": 1
           }
          ],
          "max": "491.0",
          "min": "427.0",
          "nan_count": 0,
          "unique_count": 4
         }
        },
        {
         "dtype": "float64",
         "name": "fwr4_end_heavy",
         "stats": {
          "histogram": [
           {
            "bin_end": 465.4,
            "bin_start": 459,
            "count": 1
           },
           {
            "bin_end": 471.8,
            "bin_start": 465.4,
            "count": 0
           },
           {
            "bin_end": 478.2,
            "bin_start": 471.8,
            "count": 0
           },
           {
            "bin_end": 484.6,
            "bin_start": 478.2,
            "count": 1
           },
           {
            "bin_end": 491,
            "bin_start": 484.6,
            "count": 0
           },
           {
            "bin_end": 497.4,
            "bin_start": 491,
            "count": 0
           },
           {
            "bin_end": 503.8,
            "bin_start": 497.4,
            "count": 0
           },
           {
            "bin_end": 510.2,
            "bin_start": 503.8,
            "count": 2
           },
           {
            "bin_end": 516.6,
            "bin_start": 510.2,
            "count": 0
           },
           {
            "bin_end": 523,
            "bin_start": 516.6,
            "count": 1
           }
          ],
          "max": "523.0",
          "min": "459.0",
          "nan_count": 0,
          "unique_count": 4
         }
        },
        {
         "dtype": "float64",
         "name": "cdr3_start_heavy",
         "stats": {
          "histogram": [
           {
            "bin_end": 392.3,
            "bin_start": 388,
            "count": 1
           },
           {
            "bin_end": 396.6,
            "bin_start": 392.3,
            "count": 0
           },
           {
            "bin_end": 400.9,
            "bin_start": 396.6,
            "count": 0
           },
           {
            "bin_end": 405.2,
            "bin_start": 400.9,
            "count": 1
           },
           {
            "bin_end": 409.5,
            "bin_start": 405.2,
            "count": 0
           },
           {
            "bin_end": 413.8,
            "bin_start": 409.5,
            "count": 0
           },
           {
            "bin_end": 418.1,
            "bin_start": 413.8,
            "count": 0
           },
           {
            "bin_end": 422.4,
            "bin_start": 418.1,
            "count": 0
           },
           {
            "bin_end": 426.7,
            "bin_start": 422.4,
            "count": 2
           },
           {
            "bin_end": 431,
            "bin_start": 426.7,
            "count": 1
           }
          ],
          "max": "431.0",
          "min": "388.0",
          "nan_count": 0,
          "unique_count": 4
         }
        },
        {
         "dtype": "float64",
         "name": "cdr3_end_heavy",
         "stats": {
          "histogram": [
           {
            "bin_end": 432.4,
            "bin_start": 426,
            "count": 1
           },
           {
            "bin_end": 438.8,
            "bin_start": 432.4,
            "count": 0
           },
           {
            "bin_end": 445.2,
            "bin_start": 438.8,
            "count": 0
           },
           {
            "bin_end": 451.6,
            "bin_start": 445.2,
            "count": 1
           },
           {
            "bin_end": 458,
            "bin_start": 451.6,
            "count": 0
           },
           {
            "bin_end": 464.4,
            "bin_start": 458,
            "count": 0
           },
           {
            "bin_end": 470.8,
            "bin_start": 464.4,
            "count": 0
           },
           {
            "bin_end": 477.2,
            "bin_start": 470.8,
            "count": 2
           },
           {
            "bin_end": 483.6,
            "bin_start": 477.2,
            "count": 0
           },
           {
            "bin_end": 490,
            "bin_start": 483.6,
            "count": 1
           }
          ],
          "max": "490.0",
          "min": "426.0",
          "nan_count": 0,
          "unique_count": 4
         }
        },
        {
         "dtype": "object",
         "name": "np1_heavy",
         "stats": {
          "categories": [
           {
            "count": 1,
            "name": "TCTCCGGA"
           },
           {
            "count": 1,
            "name": "CTGCGGATTAA"
           },
           {
            "count": 3,
            "name": "3 others"
           }
          ],
          "nan_count": 0,
          "unique_count": 5
         }
        },
        {
         "dtype": "float64",
         "name": "np1_length_heavy",
         "stats": {
          "histogram": [
           {
            "bin_end": 4.1,
            "bin_start": 3,
            "count": 1
           },
           {
            "bin_end": 5.2,
            "bin_start": 4.1,
            "count": 0
           },
           {
            "bin_end": 6.300000000000001,
            "bin_start": 5.2,
            "count": 0
           },
           {
            "bin_end": 7.4,
            "bin_start": 6.300000000000001,
            "count": 0
           },
           {
            "bin_end": 8.5,
            "bin_start": 7.4,
            "count": 1
           },
           {
            "bin_end": 9.600000000000001,
            "bin_start": 8.5,
            "count": 0
           },
           {
            "bin_end": 10.700000000000001,
            "bin_start": 9.600000000000001,
            "count": 0
           },
           {
            "bin_end": 11.8,
            "bin_start": 10.700000000000001,
            "count": 1
           },
           {
            "bin_end": 12.9,
            "bin_start": 11.8,
            "count": 0
           },
           {
            "bin_end": 14,
            "bin_start": 12.9,
            "count": 2
           }
          ],
          "max": "14.0",
          "min": "3.0",
          "nan_count": 0,
          "unique_count": 4
         }
        },
        {
         "dtype": "object",
         "name": "np2_heavy",
         "stats": {
          "categories": [
           {
            "count": 1,
            "name": "GAAAGAGCCACCGAGGG"
           },
           {
            "count": 1,
            "name": "CTCGAT"
           },
           {
            "count": 3,
            "name": "3 others"
           }
          ],
          "nan_count": 0,
          "unique_count": 5
         }
        },
        {
         "dtype": "float64",
         "name": "np2_length_heavy",
         "stats": {
          "histogram": [
           {
            "bin_end": 4.4,
            "bin_start": 3,
            "count": 1
           },
           {
            "bin_end": 5.8,
            "bin_start": 4.4,
            "count": 1
           },
           {
            "bin_end": 7.199999999999999,
            "bin_start": 5.8,
            "count": 2
           },
           {
            "bin_end": 8.6,
            "bin_start": 7.199999999999999,
            "count": 0
           },
           {
            "bin_end": 10,
            "bin_start": 8.6,
            "count": 0
           },
           {
            "bin_end": 11.399999999999999,
            "bin_start": 10,
            "count": 0
           },
           {
            "bin_end": 12.799999999999999,
            "bin_start": 11.399999999999999,
            "count": 0
           },
           {
            "bin_end": 14.2,
            "bin_start": 12.799999999999999,
            "count": 0
           },
           {
            "bin_end": 15.6,
            "bin_start": 14.2,
            "count": 0
           },
           {
            "bin_end": 17,
            "bin_start": 15.6,
            "count": 1
           }
          ],
          "max": "17.0",
          "min": "3.0",
          "nan_count": 0,
          "unique_count": 4
         }
        },
        {
         "dtype": "object",
         "name": "c_region_heavy",
         "stats": {
          "categories": [
           {
            "count": 4,
            "name": "GGAGTGCATCCGCCCCAACCCTTTTCCCCCTCGTCTCCTGTGAGAATTCCCCGTCGGATACGAGCAGCGTG"
           },
           {
            "count": 1,
            "name": "GCATCCCCGACCAGCCCCAAGGTCTTCCCGCTGAGCCTCTGCAGCACCCAGCCAGATGGGAACGTGGTCATCGCCTGCCTGGTCCAGGGCTTCTTCCCCCAGGAGCCACTCAGTGTGACCTGGAGCGAAAGCGGACAGGGCGTGACCGCCAGAAACTTCCC"
           }
          ],
          "nan_count": 0,
          "unique_count": 2
         }
        },
        {
         "dtype": "object",
         "name": "Isotype_heavy",
         "stats": {
          "categories": [
           {
            "count": 4,
            "name": "IGHM"
           },
           {
            "count": 1,
            "name": "IGHA"
           }
          ],
          "nan_count": 0,
          "unique_count": 2
         }
        },
        {
         "dtype": "float64",
         "name": "Redundancy_heavy",
         "stats": {
          "histogram": [
           {
            "bin_end": 0.6,
            "bin_start": 0.5,
            "count": 0
           },
           {
            "bin_end": 0.7,
            "bin_start": 0.6,
            "count": 0
           },
           {
            "bin_end": 0.8,
            "bin_start": 0.7,
            "count": 0
           },
           {
            "bin_end": 0.9,
            "bin_start": 0.8,
            "count": 0
           },
           {
            "bin_end": 1,
            "bin_start": 0.9,
            "count": 0
           },
           {
            "bin_end": 1.1,
            "bin_start": 1,
            "count": 5
           },
           {
            "bin_end": 1.2000000000000002,
            "bin_start": 1.1,
            "count": 0
           },
           {
            "bin_end": 1.3,
            "bin_start": 1.2000000000000002,
            "count": 0
           },
           {
            "bin_end": 1.4,
            "bin_start": 1.3,
            "count": 0
           },
           {
            "bin_end": 1.5,
            "bin_start": 1.4,
            "count": 0
           }
          ],
          "max": "1.0",
          "min": "1.0",
          "nan_count": 0,
          "unique_count": 1
         }
        },
        {
         "dtype": "object",
         "name": "ANARCI_numbering_heavy",
         "stats": {
          "categories": [
           {
            "count": 1,
            "name": "{'fwh1': {'1 ': 'E', '2 ': 'I', '3 ': 'Q', '4 ': 'L', '5 ': 'V', '6 ': 'E', '7 ': 'S', '8 ': 'G', '9 ': 'G', '11 ': 'G', '12 ': 'L', '13 ': 'V', '14 ': 'K', '15 ': 'P', '16 ': 'G', '17 ': 'G', '18 ': 'S', '19 ': 'L', '20 ': 'R', '21 ': 'L', '22 ': 'S', '23 ': 'C', '24 ': 'G', '25 ': 'A', '26 ': 'S'}, 'cdrh1': {'27 ': 'G', '28 ': 'F', '29 ': 'T', '30 ': 'F', '35 ': 'S', '36 ': 'Y', '37 ': 'F', '38 ': 'T'}, 'fwh2': {'39 ': 'M', '40 ': 'N', '41 ': 'W', '42 ': 'V', '43 ': 'R', '44 ': 'Q', '45 ': 'A', '46 ': 'P', '47 ': 'G', '48 ': 'K', '49 ': 'G', '50 ': 'L', '51 ': 'E', '52 ': 'W', '53 ': 'V', '54 ': 'S', '55 ': 'S'}, 'cdrh2': {'56 ': 'I', '57 ': 'S', '58 ': 'S', '59 ': 'S', '62 ': 'S', '63 ': 'T', '64 ': 'Y', '65 ': 'I'}, 'fwh3': {'66 ': 'Y', '67 ': 'Y', '68 ': 'A', '69 ': 'D', '70 ': 'S', '71 ': 'G', '72 ': 'R', '74 ': 'G', '75 ': 'R', '76 ': 'F', '77 ': 'T', '78 ': 'I', '79 ': 'S', '80 ': 'R', '81 ': 'D', '82 ': 'N', '83 ': 'A', '84 ': 'N', '85 ': 'N', '86 ': 'S', '87 ': 'L', '88 ': 'Y', '89 ': 'L', '90 ': 'Q', '91 ': 'M', '92 ': 'N', '93 ': 'S', '94 ': 'L', '95 ': 'R', '96 ': 'A', '97 ': 'E', '98 ': 'D', '99 ': 'T', '100 ': 'A', '101 ': 'I', '102 ': 'Y', '103 ': 'F', '104 ': 'C'}, 'cdrh3': {'105 ': 'A', '106 ': 'R', '107 ': 'V', '108 ': 'S', '109 ': 'G', '110 ': 'S', '111 ': 'A', '111A': 'Y', '111B': 'D', '111C': 'E', '111D': 'R', '112E': 'A', '112D': 'T', '112C': 'E', '112B': 'G', '112A': 'Y', '112 ': 'Y', '113 ': 'F', '114 ': 'G', '115 ': 'M', '116 ': 'D', '117 ': 'V'}, 'fwh4': {'118 ': 'W', '119 ': 'G', '120 ': 'Q', '121 ': 'G', '122 ': 'T', '123 ': 'T', '124 ': 'V', '125 ': 'T', '126 ': 'V', '127 ': 'S', '128 ': 'S'}}"
           },
           {
            "count": 1,
            "name": "{'fwh1': {'1 ': 'Q', '2 ': 'V', '3 ': 'Q', '4 ': 'L', '5 ': 'V', '6 ': 'Q', '7 ': 'S', '8 ': 'G', '9 ': 'A', '11 ': 'E', '12 ': 'V', '13 ': 'K', '14 ': 'K', '15 ': 'P', '16 ': 'G', '17 ': 'A', '18 ': 'S', '19 ': 'V', '20 ': 'K', '21 ': 'V', '22 ': 'S', '23 ': 'C', '24 ': 'K', '25 ': 'A', '26 ': 'S'}, 'cdrh1': {'27 ': 'G', '28 ': 'Y', '29 ': 'T', '30 ': 'F', '35 ': 'T', '36 ': 'S', '37 ': 'Y', '38 ': 'Y'}, 'fwh2': {'39 ': 'M', '40 ': 'H', '41 ': 'W', '42 ': 'V', '43 ': 'R', '44 ': 'Q', '45 ': 'A', '46 ': 'P', '47 ': 'G', '48 ': 'Q', '49 ': 'G', '50 ': 'L', '51 ': 'E', '52 ': 'W', '53 ': 'M', '54 ': 'G', '55 ': 'I'}, 'cdrh2': {'56 ': 'I', '57 ': 'N', '58 ': 'P', '59 ': 'S', '62 ': 'G', '63 ': 'G', '64 ': 'S', '65 ': 'T'}, 'fwh3': {'66 ': 'S', '67 ': 'Y', '68 ': 'A', '69 ': 'Q', '70 ': 'K', '71 ': 'F', '72 ': 'Q', '74 ': 'G', '75 ': 'R', '76 ': 'V', '77 ': 'T', '78 ': 'M', '79 ': 'T', '80 ': 'R', '81 ': 'D', '82 ': 'T', '83 ': 'S', '84 ': 'T', '85 ': 'S', '86 ': 'T', '87 ': 'V', '88 ': 'Y', '89 ': 'M', '90 ': 'E', '91 ': 'L', '92 ': 'S', '93 ': 'S', '94 ': 'L', '95 ': 'R', '96 ': 'S', '97 ': 'E', '98 ': 'D', '99 ': 'T', '100 ': 'A', '101 ': 'V', '102 ': 'Y', '103 ': 'Y', '104 ': 'C'}, 'cdrh3': {'105 ': 'A', '106 ': 'C', '107 ': 'G', '108 ': 'L', '109 ': 'S', '110 ': 'I', '111 ': 'V', '111A': 'G', '112B': 'A', '112A': 'T', '112 ': 'L', '113 ': 'D', '114 ': 'Y', '115 ': 'F', '116 ': 'D', '117 ': 'Y'}, 'fwh4': {'118 ': 'W', '119 ': 'G', '120 ': 'Q', '121 ': 'G', '122 ': 'T', '123 ': 'L', '124 ': 'V', '125 ': 'T', '126 ': 'V', '127 ': 'S', '128 ': 'S'}}"
           },
           {
            "count": 3,
            "name": "3 others"
           }
          ],
          "nan_count": 0,
          "unique_count": 5
         }
        },
        {
         "dtype": "object",
         "name": "ANARCI_status_heavy",
         "stats": {
          "categories": [
           {
            "count": 5,
            "name": "|Deletions: 10, 73||||"
           }
          ],
          "nan_count": 0,
          "unique_count": 1
         }
        },
        {
         "dtype": "object",
         "name": "sequence_id_light",
         "stats": {
          "categories": [
           {
            "count": 1,
            "name": "GAACGGAAGTAGCCGA-1_contig_2"
           },
           {
            "count": 1,
            "name": "TACTTACTCAACACAC-1_contig_2"
           },
           {
            "count": 3,
            "name": "3 others"
           }
          ],
          "nan_count": 0,
          "unique_count": 5
         }
        },
        {
         "dtype": "object",
         "name": "sequence_light",
         "stats": {
          "categories": [
           {
            "count": 1,
            "name": "TGGGAGGAGTCAGTCTCAGTCAGGACACAGCATGGACATGAGGGTCCCCGCTCAGCTCCTGGGGCTCCTGCTACTCTGGCTCCGAGGTGCCAGATGTGACATCCAGGTGACCCAGTCTCCATCCTCCCTGTCTGCATTTGTAGGAGACAGAGTCACCATCACTTGCCGGGCAAGTGAGAGCATTAACATGTATTTAAATTGGTATCAGCAGAAACCAGGGAAAGCCCCTAAGCTCCTGATCTATGCTGCATCCAGTTTGCAAAGTGGGGTCCCATCAAGGTTCAGAGGCAGTGGATCTGGGACAGATTTCACTCTCACCATCAGCAGTCTGCAAACTGAAGATATTGCAAGTTACTTCTGTCAACAGAGTTACACTACCTCGTGGACGTTCGGCCAAGGGACCAAGGTGGAAATCAAACGAACTGTGGCTGCACCATCTGTCTTCATCTTCCCGCCATCTGATGAGCAGTTGAAATCTGGAACTGCCTCTGTTGTGTGCCTGCTGAATAACTTCTATCCCAGAGAGGCCAAAGTACAGTGGAAGGTGGATAACGC"
           },
           {
            "count": 1,
            "name": "ATCTGGGGGATCAGGACTCCTCAGTTCACCTTCTCACAATGAGGCTCCCTGCTCAGCTCCTGGGGCTGCTAATGCTCTGGGTCCCAGGATCCAGTGGGGATGTTGTGATGACTCAGTCTCCACTCTCCCTGCCCGTCACCCTTGGACAGCCGGCCTCCATCTCCTGCAGGTCTAGTCAAAGCCTCGTATACAGTGATGGAAACACCTACTTGAATTGGTTTCAGCAGAGGCCAGGCCAATCTCCAAGGCGCCTAATTTATAAGGTTTCTAACCGGGACTCTGGGGTCCCAGACAGATTCAGCGGCAGTGGGTCAGGCACTGATTTCACACTGAAAATCAGCAGGGTGGAGGCTGAGGATGTTGGGGTTTATTACTGCATGCAAGGTACACACTGGCCTCCGCTCACTTTCGGCGGAGGGACCAAGGTGGAGATCAAACGAACTGTGGCTGCACCATCTGTCTTCATCTTCCCGCCATCTGATGAGCAGTTGAAATCTGGAACTGCCTCTGTTGTGTGCCTGCTGAATAACTTCTATCCCAGAGAGGCCAAAGTACAGTGGAAGGTGGATAACGC"
           },
           {
            "count": 3,
            "name": "3 others"
           }
          ],
          "nan_count": 0,
          "unique_count": 5
         }
        },
        {
         "dtype": "object",
         "name": "locus_light",
         "stats": {
          "categories": [
           {
            "count": 4,
            "name": "K"
           },
           {
            "count": 1,
            "name": "L"
           }
          ],
          "nan_count": 0,
          "unique_count": 2
         }
        },
        {
         "dtype": "object",
         "name": "stop_codon_light",
         "stats": {
          "categories": [
           {
            "count": 5,
            "name": "F"
           }
          ],
          "nan_count": 0,
          "unique_count": 1
         }
        },
        {
         "dtype": "object",
         "name": "vj_in_frame_light",
         "stats": {
          "categories": [
           {
            "count": 5,
            "name": "T"
           }
          ],
          "nan_count": 0,
          "unique_count": 1
         }
        },
        {
         "dtype": "object",
         "name": "v_frameshift_light",
         "stats": {
          "categories": [
           {
            "count": 5,
            "name": "F"
           }
          ],
          "nan_count": 0,
          "unique_count": 1
         }
        },
        {
         "dtype": "object",
         "name": "productive_light",
         "stats": {
          "categories": [
           {
            "count": 5,
            "name": "T"
           }
          ],
          "nan_count": 0,
          "unique_count": 1
         }
        },
        {
         "dtype": "object",
         "name": "rev_comp_light",
         "stats": {
          "categories": [
           {
            "count": 5,
            "name": "F"
           }
          ],
          "nan_count": 0,
          "unique_count": 1
         }
        },
        {
         "dtype": "object",
         "name": "complete_vdj_light",
         "stats": {
          "categories": [
           {
            "count": 5,
            "name": "T"
           }
          ],
          "nan_count": 0,
          "unique_count": 1
         }
        },
        {
         "dtype": "object",
         "name": "v_call_light",
         "stats": {
          "categories": [
           {
            "count": 2,
            "name": "IGKV1-39*01"
           },
           {
            "count": 1,
            "name": "IGKV2-30*01"
           },
           {
            "count": 2,
            "name": "2 others"
           }
          ],
          "nan_count": 0,
          "unique_count": 4
         }
        },
        {
         "dtype": "float64",
         "name": "d_call_light",
         "stats": {
          "histogram": [
           {
            "bin_end": 0.1,
            "bin_start": 0,
            "count": 0
           },
           {
            "bin_end": 0.2,
            "bin_start": 0.1,
            "count": 0
           },
           {
            "bin_end": 0.30000000000000004,
            "bin_start": 0.2,
            "count": 0
           },
           {
            "bin_end": 0.4,
            "bin_start": 0.30000000000000004,
            "count": 0
           },
           {
            "bin_end": 0.5,
            "bin_start": 0.4,
            "count": 0
           },
           {
            "bin_end": 0.6000000000000001,
            "bin_start": 0.5,
            "count": 0
           },
           {
            "bin_end": 0.7000000000000001,
            "bin_start": 0.6000000000000001,
            "count": 0
           },
           {
            "bin_end": 0.8,
            "bin_start": 0.7000000000000001,
            "count": 0
           },
           {
            "bin_end": 0.9,
            "bin_start": 0.8,
            "count": 0
           },
           {
            "bin_end": 1,
            "bin_start": 0.9,
            "count": 0
           }
          ],
          "max": null,
          "min": null,
          "nan_count": 5,
          "unique_count": 0
         }
        },
        {
         "dtype": "object",
         "name": "j_call_light",
         "stats": {
          "categories": [
           {
            "count": 2,
            "name": "IGKJ1*01"
           },
           {
            "count": 1,
            "name": "IGKJ4*01"
           },
           {
            "count": 2,
            "name": "2 others"
           }
          ],
          "nan_count": 0,
          "unique_count": 4
         }
        },
        {
         "dtype": "object",
         "name": "sequence_alignment_light",
         "stats": {
          "categories": [
           {
            "count": 1,
            "name": "GACATCCAGGTGACCCAGTCTCCATCCTCCCTGTCTGCATTTGTAGGAGACAGAGTCACCATCACTTGCCGGGCAAGTGAGAGCATTAACATGTATTTAAATTGGTATCAGCAGAAACCAGGGAAAGCCCCTAAGCTCCTGATCTATGCTGCATCCAGTTTGCAAAGTGGGGTCCCATCAAGGTTCAGAGGCAGTGGATCTGGGACAGATTTCACTCTCACCATCAGCAGTCTGCAAACTGAAGATATTGCAAGTTACTTCTGTCAACAGAGTTACACTACCTCGTGGACGTTCGGCCAAGGGACCAAGGTGGAAATCAAAC"
           },
           {
            "count": 1,
            "name": "GATGTTGTGATGACTCAGTCTCCACTCTCCCTGCCCGTCACCCTTGGACAGCCGGCCTCCATCTCCTGCAGGTCTAGTCAAAGCCTCGTATACAGTGATGGAAACACCTACTTGAATTGGTTTCAGCAGAGGCCAGGCCAATCTCCAAGGCGCCTAATTTATAAGGTTTCTAACCGGGACTCTGGGGTCCCAGACAGATTCAGCGGCAGTGGGTCAGGCACTGATTTCACACTGAAAATCAGCAGGGTGGAGGCTGAGGATGTTGGGGTTTATTACTGCATGCAAGGTACACACTGGCCTCCGCTCACTTTCGGCGGAGGGACCAAGGTGGAGATCAAAC"
           },
           {
            "count": 3,
            "name": "3 others"
           }
          ],
          "nan_count": 0,
          "unique_count": 5
         }
        },
        {
         "dtype": "object",
         "name": "germline_alignment_light",
         "stats": {
          "categories": [
           {
            "count": 1,
            "name": "GACATCCAGATGACCCAGTCTCCATCCTCCCTGTCTGCATCTGTAGGAGACAGAGTCACCATCACTTGCCGGGCAAGTCAGAGCATTAGCAGCTATTTAAATTGGTATCAGCAGAAACCAGGGAAAGCCCCTAAGCTCCTGATCTATGCTGCATCCAGTTTGCAAAGTGGGGTCCCATCAAGGTTCAGTGGCAGTGGATCTGGGACAGATTTCACTCTCACCATCAGCAGTCTGCAACCTGAAGATTTTGCAACTTACTACTGTCAACAGAGTTACAGTACCNNGTGGACGTTCGGCCAAGGGACCAAGGTGGAAATCAAAC"
           },
           {
            "count": 1,
            "name": "GATGTTGTGATGACTCAGTCTCCACTCTCCCTGCCCGTCACCCTTGGACAGCCGGCCTCCATCTCCTGCAGGTCTAGTCAAAGCCTCGTATACAGTGATGGAAACACCTACTTGAATTGGTTTCAGCAGAGGCCAGGCCAATCTCCAAGGCGCCTAATTTATAAGGTTTCTAACCGGGACTCTGGGGTCCCAGACAGATTCAGCGGCAGTGGGTCAGGCACTGATTTCACACTGAAAATCAGCAGGGTGGAGGCTGAGGATGTTGGGGTTTATTACTGCATGCAAGGTACACACTGGCCTCCGCTCACTTTCGGCGGAGGGACCAAGGTGGAGATCAAAC"
           },
           {
            "count": 3,
            "name": "3 others"
           }
          ],
          "nan_count": 0,
          "unique_count": 5
         }
        },
        {
         "dtype": "object",
         "name": "sequence_alignment_aa_light",
         "stats": {
          "categories": [
           {
            "count": 1,
            "name": "DIQVTQSPSSLSAFVGDRVTITCRASESINMYLNWYQQKPGKAPKLLIYAASSLQSGVPSRFRGSGSGTDFTLTISSLQTEDIASYFCQQSYTTSWTFGQGTKVEIK"
           },
           {
            "count": 1,
            "name": "DVVMTQSPLSLPVTLGQPASISCRSSQSLVYSDGNTYLNWFQQRPGQSPRRLIYKVSNRDSGVPDRFSGSGSGTDFTLKISRVEAEDVGVYYCMQGTHWPPLTFGGGTKVEIK"
           },
           {
            "count": 3,
            "name": "3 others"
           }
          ],
          "nan_count": 0,
          "unique_count": 5
         }
        },
        {
         "dtype": "object",
         "name": "germline_alignment_aa_light",
         "stats": {
          "categories": [
           {
            "count": 1,
            "name": "DIQMTQSPSSLSASVGDRVTITCRASQSISSYLNWYQQKPGKAPKLLIYAASSLQSGVPSRFSGSGSGTDFTLTISSLQPEDFATYYCQQSYSTXWTFGQGTKVEIK"
           },
           {
            "count": 1,
            "name": "DVVMTQSPLSLPVTLGQPASISCRSSQSLVYSDGNTYLNWFQQRPGQSPRRLIYKVSNRDSGVPDRFSGSGSGTDFTLKISRVEAEDVGVYYCMQGTHWPPLTFGGGTKVEIK"
           },
           {
            "count": 3,
            "name": "3 others"
           }
          ],
          "nan_count": 0,
          "unique_count": 5
         }
        },
        {
         "dtype": "float64",
         "name": "v_alignment_start_light",
         "stats": {
          "histogram": [
           {
            "bin_end": 0.6,
            "bin_start": 0.5,
            "count": 0
           },
           {
            "bin_end": 0.7,
            "bin_start": 0.6,
            "count": 0
           },
           {
            "bin_end": 0.8,
            "bin_start": 0.7,
            "count": 0
           },
           {
            "bin_end": 0.9,
            "bin_start": 0.8,
            "count": 0
           },
           {
            "bin_end": 1,
            "bin_start": 0.9,
            "count": 0
           },
           {
            "bin_end": 1.1,
            "bin_start": 1,
            "count": 5
           },
           {
            "bin_end": 1.2000000000000002,
            "bin_start": 1.1,
            "count": 0
           },
           {
            "bin_end": 1.3,
            "bin_start": 1.2000000000000002,
            "count": 0
           },
           {
            "bin_end": 1.4,
            "bin_start": 1.3,
            "count": 0
           },
           {
            "bin_end": 1.5,
            "bin_start": 1.4,
            "count": 0
           }
          ],
          "max": "1.0",
          "min": "1.0",
          "nan_count": 0,
          "unique_count": 1
         }
        },
        {
         "dtype": "float64",
         "name": "v_alignment_end_light",
         "stats": {
          "histogram": [
           {
            "bin_end": 282.4,
            "bin_start": 280,
            "count": 2
           },
           {
            "bin_end": 284.8,
            "bin_start": 282.4,
            "count": 0
           },
           {
            "bin_end": 287.2,
            "bin_start": 284.8,
            "count": 0
           },
           {
            "bin_end": 289.6,
            "bin_start": 287.2,
            "count": 0
           },
           {
            "bin_end": 292,
            "bin_start": 289.6,
            "count": 0
           },
           {
            "bin_end": 294.4,
            "bin_start": 292,
            "count": 0
           },
           {
            "bin_end": 296.8,
            "bin_start": 294.4,
            "count": 1
           },
           {
            "bin_end": 299.2,
            "bin_start": 296.8,
            "count": 0
           },
           {
            "bin_end": 301.6,
            "bin_start": 299.2,
            "count": 0
           },
           {
            "bin_end": 304,
            "bin_start": 301.6,
            "count": 2
           }
          ],
          "max": "304.0",
          "min": "280.0",
          "nan_count": 0,
          "unique_count": 5
         }
        },
        {
         "dtype": "float64",
         "name": "d_alignment_start_light",
         "stats": {
          "histogram": [
           {
            "bin_end": 0.1,
            "bin_start": 0,
            "count": 0
           },
           {
            "bin_end": 0.2,
            "bin_start": 0.1,
            "count": 0
           },
           {
            "bin_end": 0.30000000000000004,
            "bin_start": 0.2,
            "count": 0
           },
           {
            "bin_end": 0.4,
            "bin_start": 0.30000000000000004,
            "count": 0
           },
           {
            "bin_end": 0.5,
            "bin_start": 0.4,
            "count": 0
           },
           {
            "bin_end": 0.6000000000000001,
            "bin_start": 0.5,
            "count": 0
           },
           {
            "bin_end": 0.7000000000000001,
            "bin_start": 0.6000000000000001,
            "count": 0
           },
           {
            "bin_end": 0.8,
            "bin_start": 0.7000000000000001,
            "count": 0
           },
           {
            "bin_end": 0.9,
            "bin_start": 0.8,
            "count": 0
           },
           {
            "bin_end": 1,
            "bin_start": 0.9,
            "count": 0
           }
          ],
          "max": null,
          "min": null,
          "nan_count": 5,
          "unique_count": 0
         }
        },
        {
         "dtype": "float64",
         "name": "d_alignment_end_light",
         "stats": {
          "histogram": [
           {
            "bin_end": 0.1,
            "bin_start": 0,
            "count": 0
           },
           {
            "bin_end": 0.2,
            "bin_start": 0.1,
            "count": 0
           },
           {
            "bin_end": 0.30000000000000004,
            "bin_start": 0.2,
            "count": 0
           },
           {
            "bin_end": 0.4,
            "bin_start": 0.30000000000000004,
            "count": 0
           },
           {
            "bin_end": 0.5,
            "bin_start": 0.4,
            "count": 0
           },
           {
            "bin_end": 0.6000000000000001,
            "bin_start": 0.5,
            "count": 0
           },
           {
            "bin_end": 0.7000000000000001,
            "bin_start": 0.6000000000000001,
            "count": 0
           },
           {
            "bin_end": 0.8,
            "bin_start": 0.7000000000000001,
            "count": 0
           },
           {
            "bin_end": 0.9,
            "bin_start": 0.8,
            "count": 0
           },
           {
            "bin_end": 1,
            "bin_start": 0.9,
            "count": 0
           }
          ],
          "max": null,
          "min": null,
          "nan_count": 5,
          "unique_count": 0
         }
        },
        {
         "dtype": "float64",
         "name": "j_alignment_start_light",
         "stats": {
          "histogram": [
           {
            "bin_end": 287.1,
            "bin_start": 285,
            "count": 2
           },
           {
            "bin_end": 289.2,
            "bin_start": 287.1,
            "count": 0
           },
           {
            "bin_end": 291.3,
            "bin_start": 289.2,
            "count": 0
           },
           {
            "bin_end": 293.4,
            "bin_start": 291.3,
            "count": 0
           },
           {
            "bin_end": 295.5,
            "bin_start": 293.4,
            "count": 0
           },
           {
            "bin_end": 297.6,
            "bin_start": 295.5,
            "count": 1
           },
           {
            "bin_end": 299.7,
            "bin_start": 297.6,
            "count": 0
           },
           {
            "bin_end": 301.8,
            "bin_start": 299.7,
            "count": 0
           },
           {
            "bin_end": 303.9,
            "bin_start": 301.8,
            "count": 1
           },
           {
            "bin_end": 306,
            "bin_start": 303.9,
            "count": 1
           }
          ],
          "max": "306.0",
          "min": "285.0",
          "nan_count": 0,
          "unique_count": 4
         }
        },
        {
         "dtype": "float64",
         "name": "j_alignment_end_light",
         "stats": {
          "histogram": [
           {
            "bin_end": 323.8,
            "bin_start": 322,
            "count": 2
           },
           {
            "bin_end": 325.6,
            "bin_start": 323.8,
            "count": 0
           },
           {
            "bin_end": 327.4,
            "bin_start": 325.6,
            "count": 0
           },
           {
            "bin_end": 329.2,
            "bin_start": 327.4,
            "count": 0
           },
           {
            "bin_end": 331,
            "bin_start": 329.2,
            "count": 0
           },
           {
            "bin_end": 332.8,
            "bin_start": 331,
            "count": 1
           },
           {
            "bin_end": 334.6,
            "bin_start": 332.8,
            "count": 0
           },
           {
            "bin_end": 336.4,
            "bin_start": 334.6,
            "count": 0
           },
           {
            "bin_end": 338.2,
            "bin_start": 336.4,
            "count": 0
           },
           {
            "bin_end": 340,
            "bin_start": 338.2,
            "count": 2
           }
          ],
          "max": "340.0",
          "min": "322.0",
          "nan_count": 0,
          "unique_count": 3
         }
        },
        {
         "dtype": "object",
         "name": "v_sequence_alignment_light",
         "stats": {
          "categories": [
           {
            "count": 1,
            "name": "GACATCCAGGTGACCCAGTCTCCATCCTCCCTGTCTGCATTTGTAGGAGACAGAGTCACCATCACTTGCCGGGCAAGTGAGAGCATTAACATGTATTTAAATTGGTATCAGCAGAAACCAGGGAAAGCCCCTAAGCTCCTGATCTATGCTGCATCCAGTTTGCAAAGTGGGGTCCCATCAAGGTTCAGAGGCAGTGGATCTGGGACAGATTTCACTCTCACCATCAGCAGTCTGCAAACTGAAGATATTGCAAGTTACTTCTGTCAACAGAGTTACACTACC"
           },
           {
            "count": 1,
            "name": "GATGTTGTGATGACTCAGTCTCCACTCTCCCTGCCCGTCACCCTTGGACAGCCGGCCTCCATCTCCTGCAGGTCTAGTCAAAGCCTCGTATACAGTGATGGAAACACCTACTTGAATTGGTTTCAGCAGAGGCCAGGCCAATCTCCAAGGCGCCTAATTTATAAGGTTTCTAACCGGGACTCTGGGGTCCCAGACAGATTCAGCGGCAGTGGGTCAGGCACTGATTTCACACTGAAAATCAGCAGGGTGGAGGCTGAGGATGTTGGGGTTTATTACTGCATGCAAGGTACACACTGGCCTCC"
           },
           {
            "count": 3,
            "name": "3 others"
           }
          ],
          "nan_count": 0,
          "unique_count": 5
         }
        },
        {
         "dtype": "object",
         "name": "v_sequence_alignment_aa_light",
         "stats": {
          "categories": [
           {
            "count": 1,
            "name": "DIQVTQSPSSLSAFVGDRVTITCRASESINMYLNWYQQKPGKAPKLLIYAASSLQSGVPSRFRGSGSGTDFTLTISSLQTEDIASYFCQQSYTT"
           },
           {
            "count": 1,
            "name": "DVVMTQSPLSLPVTLGQPASISCRSSQSLVYSDGNTYLNWFQQRPGQSPRRLIYKVSNRDSGVPDRFSGSGSGTDFTLKISRVEAEDVGVYYCMQGTHWPP"
           },
           {
            "count": 3,
            "name": "3 others"
           }
          ],
          "nan_count": 0,
          "unique_count": 5
         }
        },
        {
         "dtype": "object",
         "name": "v_germline_alignment_light",
         "stats": {
          "categories": [
           {
            "count": 1,
            "name": "GACATCCAGATGACCCAGTCTCCATCCTCCCTGTCTGCATCTGTAGGAGACAGAGTCACCATCACTTGCCGGGCAAGTCAGAGCATTAGCAGCTATTTAAATTGGTATCAGCAGAAACCAGGGAAAGCCCCTAAGCTCCTGATCTATGCTGCATCCAGTTTGCAAAGTGGGGTCCCATCAAGGTTCAGTGGCAGTGGATCTGGGACAGATTTCACTCTCACCATCAGCAGTCTGCAACCTGAAGATTTTGCAACTTACTACTGTCAACAGAGTTACAGTACC"
           },
           {
            "count": 1,
            "name": "GATGTTGTGATGACTCAGTCTCCACTCTCCCTGCCCGTCACCCTTGGACAGCCGGCCTCCATCTCCTGCAGGTCTAGTCAAAGCCTCGTATACAGTGATGGAAACACCTACTTGAATTGGTTTCAGCAGAGGCCAGGCCAATCTCCAAGGCGCCTAATTTATAAGGTTTCTAACCGGGACTCTGGGGTCCCAGACAGATTCAGCGGCAGTGGGTCAGGCACTGATTTCACACTGAAAATCAGCAGGGTGGAGGCTGAGGATGTTGGGGTTTATTACTGCATGCAAGGTACACACTGGCCTCC"
           },
           {
            "count": 3,
            "name": "3 others"
           }
          ],
          "nan_count": 0,
          "unique_count": 5
         }
        },
        {
         "dtype": "object",
         "name": "v_germline_alignment_aa_light",
         "stats": {
          "categories": [
           {
            "count": 1,
            "name": "DIQMTQSPSSLSASVGDRVTITCRASQSISSYLNWYQQKPGKAPKLLIYAASSLQSGVPSRFSGSGSGTDFTLTISSLQPEDFATYYCQQSYST"
           },
           {
            "count": 1,
            "name": "DVVMTQSPLSLPVTLGQPASISCRSSQSLVYSDGNTYLNWFQQRPGQSPRRLIYKVSNRDSGVPDRFSGSGSGTDFTLKISRVEAEDVGVYYCMQGTHWPP"
           },
           {
            "count": 3,
            "name": "3 others"
           }
          ],
          "nan_count": 0,
          "unique_count": 5
         }
        },
        {
         "dtype": "float64",
         "name": "d_sequence_alignment_light",
         "stats": {
          "histogram": [
           {
            "bin_end": 0.1,
            "bin_start": 0,
            "count": 0
           },
           {
            "bin_end": 0.2,
            "bin_start": 0.1,
            "count": 0
           },
           {
            "bin_end": 0.30000000000000004,
            "bin_start": 0.2,
            "count": 0
           },
           {
            "bin_end": 0.4,
            "bin_start": 0.30000000000000004,
            "count": 0
           },
           {
            "bin_end": 0.5,
            "bin_start": 0.4,
            "count": 0
           },
           {
            "bin_end": 0.6000000000000001,
            "bin_start": 0.5,
            "count": 0
           },
           {
            "bin_end": 0.7000000000000001,
            "bin_start": 0.6000000000000001,
            "count": 0
           },
           {
            "bin_end": 0.8,
            "bin_start": 0.7000000000000001,
            "count": 0
           },
           {
            "bin_end": 0.9,
            "bin_start": 0.8,
            "count": 0
           },
           {
            "bin_end": 1,
            "bin_start": 0.9,
            "count": 0
           }
          ],
          "max": null,
          "min": null,
          "nan_count": 5,
          "unique_count": 0
         }
        },
        {
         "dtype": "float64",
         "name": "d_sequence_alignment_aa_light",
         "stats": {
          "histogram": [
           {
            "bin_end": 0.1,
            "bin_start": 0,
            "count": 0
           },
           {
            "bin_end": 0.2,
            "bin_start": 0.1,
            "count": 0
           },
           {
            "bin_end": 0.30000000000000004,
            "bin_start": 0.2,
            "count": 0
           },
           {
            "bin_end": 0.4,
            "bin_start": 0.30000000000000004,
            "count": 0
           },
           {
            "bin_end": 0.5,
            "bin_start": 0.4,
            "count": 0
           },
           {
            "bin_end": 0.6000000000000001,
            "bin_start": 0.5,
            "count": 0
           },
           {
            "bin_end": 0.7000000000000001,
            "bin_start": 0.6000000000000001,
            "count": 0
           },
           {
            "bin_end": 0.8,
            "bin_start": 0.7000000000000001,
            "count": 0
           },
           {
            "bin_end": 0.9,
            "bin_start": 0.8,
            "count": 0
           },
           {
            "bin_end": 1,
            "bin_start": 0.9,
            "count": 0
           }
          ],
          "max": null,
          "min": null,
          "nan_count": 5,
          "unique_count": 0
         }
        },
        {
         "dtype": "float64",
         "name": "d_germline_alignment_light",
         "stats": {
          "histogram": [
           {
            "bin_end": 0.1,
            "bin_start": 0,
            "count": 0
           },
           {
            "bin_end": 0.2,
            "bin_start": 0.1,
            "count": 0
           },
           {
            "bin_end": 0.30000000000000004,
            "bin_start": 0.2,
            "count": 0
           },
           {
            "bin_end": 0.4,
            "bin_start": 0.30000000000000004,
            "count": 0
           },
           {
            "bin_end": 0.5,
            "bin_start": 0.4,
            "count": 0
           },
           {
            "bin_end": 0.6000000000000001,
            "bin_start": 0.5,
            "count": 0
           },
           {
            "bin_end": 0.7000000000000001,
            "bin_start": 0.6000000000000001,
            "count": 0
           },
           {
            "bin_end": 0.8,
            "bin_start": 0.7000000000000001,
            "count": 0
           },
           {
            "bin_end": 0.9,
            "bin_start": 0.8,
            "count": 0
           },
           {
            "bin_end": 1,
            "bin_start": 0.9,
            "count": 0
           }
          ],
          "max": null,
          "min": null,
          "nan_count": 5,
          "unique_count": 0
         }
        },
        {
         "dtype": "float64",
         "name": "d_germline_alignment_aa_light",
         "stats": {
          "histogram": [
           {
            "bin_end": 0.1,
            "bin_start": 0,
            "count": 0
           },
           {
            "bin_end": 0.2,
            "bin_start": 0.1,
            "count": 0
           },
           {
            "bin_end": 0.30000000000000004,
            "bin_start": 0.2,
            "count": 0
           },
           {
            "bin_end": 0.4,
            "bin_start": 0.30000000000000004,
            "count": 0
           },
           {
            "bin_end": 0.5,
            "bin_start": 0.4,
            "count": 0
           },
           {
            "bin_end": 0.6000000000000001,
            "bin_start": 0.5,
            "count": 0
           },
           {
            "bin_end": 0.7000000000000001,
            "bin_start": 0.6000000000000001,
            "count": 0
           },
           {
            "bin_end": 0.8,
            "bin_start": 0.7000000000000001,
            "count": 0
           },
           {
            "bin_end": 0.9,
            "bin_start": 0.8,
            "count": 0
           },
           {
            "bin_end": 1,
            "bin_start": 0.9,
            "count": 0
           }
          ],
          "max": null,
          "min": null,
          "nan_count": 5,
          "unique_count": 0
         }
        },
        {
         "dtype": "object",
         "name": "j_sequence_alignment_light",
         "stats": {
          "categories": [
           {
            "count": 1,
            "name": "GTGGACGTTCGGCCAAGGGACCAAGGTGGAAATCAAAC"
           },
           {
            "count": 1,
            "name": "GCTCACTTTCGGCGGAGGGACCAAGGTGGAGATCAAAC"
           },
           {
            "count": 3,
            "name": "3 others"
           }
          ],
          "nan_count": 0,
          "unique_count": 5
         }
        },
        {
         "dtype": "object",
         "name": "j_sequence_alignment_aa_light",
         "stats": {
          "categories": [
           {
            "count": 1,
            "name": "WTFGQGTKVEIK"
           },
           {
            "count": 1,
            "name": "LTFGGGTKVEIK"
           },
           {
            "count": 3,
            "name": "3 others"
           }
          ],
          "nan_count": 0,
          "unique_count": 5
         }
        },
        {
         "dtype": "object",
         "name": "j_germline_alignment_light",
         "stats": {
          "categories": [
           {
            "count": 1,
            "name": "GTGGACGTTCGGCCAAGGGACCAAGGTGGAAATCAAAC"
           },
           {
            "count": 1,
            "name": "GCTCACTTTCGGCGGAGGGACCAAGGTGGAGATCAAAC"
           },
           {
            "count": 3,
            "name": "3 others"
           }
          ],
          "nan_count": 0,
          "unique_count": 5
         }
        },
        {
         "dtype": "object",
         "name": "j_germline_alignment_aa_light",
         "stats": {
          "categories": [
           {
            "count": 1,
            "name": "WTFGQGTKVEIK"
           },
           {
            "count": 1,
            "name": "LTFGGGTKVEIK"
           },
           {
            "count": 3,
            "name": "3 others"
           }
          ],
          "nan_count": 0,
          "unique_count": 5
         }
        },
        {
         "dtype": "object",
         "name": "fwr1_light",
         "stats": {
          "categories": [
           {
            "count": 1,
            "name": "GACATCCAGGTGACCCAGTCTCCATCCTCCCTGTCTGCATTTGTAGGAGACAGAGTCACCATCACTTGCCGGGCAAGT"
           },
           {
            "count": 1,
            "name": "GATGTTGTGATGACTCAGTCTCCACTCTCCCTGCCCGTCACCCTTGGACAGCCGGCCTCCATCTCCTGCAGGTCTAGT"
           },
           {
            "count": 3,
            "name": "3 others"
           }
          ],
          "nan_count": 0,
          "unique_count": 5
         }
        },
        {
         "dtype": "object",
         "name": "fwr1_aa_light",
         "stats": {
          "categories": [
           {
            "count": 1,
            "name": "DIQVTQSPSSLSAFVGDRVTITCRAS"
           },
           {
            "count": 1,
            "name": "DVVMTQSPLSLPVTLGQPASISCRSS"
           },
           {
            "count": 3,
            "name": "3 others"
           }
          ],
          "nan_count": 0,
          "unique_count": 5
         }
        },
        {
         "dtype": "object",
         "name": "cdr1_light",
         "stats": {
          "categories": [
           {
            "count": 1,
            "name": "GAGAGCATTAACATGTAT"
           },
           {
            "count": 1,
            "name": "CAAAGCCTCGTATACAGTGATGGAAACACCTAC"
           },
           {
            "count": 3,
            "name": "3 others"
           }
          ],
          "nan_count": 0,
          "unique_count": 5
         }
        },
        {
         "dtype": "object",
         "name": "cdr1_aa_light",
         "stats": {
          "categories": [
           {
            "count": 1,
            "name": "ESINMY"
           },
           {
            "count": 1,
            "name": "QSLVYSDGNTY"
           },
           {
            "count": 3,
            "name": "3 others"
           }
          ],
          "nan_count": 0,
          "unique_count": 5
         }
        },
        {
         "dtype": "object",
         "name": "fwr2_light",
         "stats": {
          "categories": [
           {
            "count": 1,
            "name": "TTAAATTGGTATCAGCAGAAACCAGGGAAAGCCCCTAAGCTCCTGATCTAT"
           },
           {
            "count": 1,
            "name": "TTGAATTGGTTTCAGCAGAGGCCAGGCCAATCTCCAAGGCGCCTAATTTAT"
           },
           {
            "count": 3,
            "name": "3 others"
           }
          ],
          "nan_count": 0,
          "unique_count": 5
         }
        },
        {
         "dtype": "object",
         "name": "fwr2_aa_light",
         "stats": {
          "categories": [
           {
            "count": 1,
            "name": "LNWYQQKPGKAPKLLIY"
           },
           {
            "count": 1,
            "name": "LNWFQQRPGQSPRRLIY"
           },
           {
            "count": 3,
            "name": "3 others"
           }
          ],
          "nan_count": 0,
          "unique_count": 5
         }
        },
        {
         "dtype": "object",
         "name": "cdr2_light",
         "stats": {
          "categories": [
           {
            "count": 2,
            "name": "GCTGCATCC"
           },
           {
            "count": 1,
            "name": "AAGGTTTCT"
           },
           {
            "count": 2,
            "name": "2 others"
           }
          ],
          "nan_count": 0,
          "unique_count": 4
         }
        },
        {
         "dtype": "object",
         "name": "cdr2_aa_light",
         "stats": {
          "categories": [
           {
            "count": 2,
            "name": "AAS"
           },
           {
            "count": 1,
            "name": "KVS"
           },
           {
            "count": 2,
            "name": "2 others"
           }
          ],
          "nan_count": 0,
          "unique_count": 4
         }
        },
        {
         "dtype": "object",
         "name": "fwr3_light",
         "stats": {
          "categories": [
           {
            "count": 1,
            "name": "AGTTTGCAAAGTGGGGTCCCATCAAGGTTCAGAGGCAGTGGATCTGGGACAGATTTCACTCTCACCATCAGCAGTCTGCAAACTGAAGATATTGCAAGTTACTTCTGT"
           },
           {
            "count": 1,
            "name": "AACCGGGACTCTGGGGTCCCAGACAGATTCAGCGGCAGTGGGTCAGGCACTGATTTCACACTGAAAATCAGCAGGGTGGAGGCTGAGGATGTTGGGGTTTATTACTGC"
           },
           {
            "count": 3,
            "name": "3 others"
           }
          ],
          "nan_count": 0,
          "unique_count": 5
         }
        },
        {
         "dtype": "object",
         "name": "fwr3_aa_light",
         "stats": {
          "categories": [
           {
            "count": 1,
            "name": "SLQSGVPSRFRGSGSGTDFTLTISSLQTEDIASYFC"
           },
           {
            "count": 1,
            "name": "NRDSGVPDRFSGSGSGTDFTLKISRVEAEDVGVYYC"
           },
           {
            "count": 3,
            "name": "3 others"
           }
          ],
          "nan_count": 0,
          "unique_count": 5
         }
        },
        {
         "dtype": "object",
         "name": "fwr4_light",
         "stats": {
          "categories": [
           {
            "count": 2,
            "name": "TTCGGCCAAGGGACCAAGGTGGAAATCAAA"
           },
           {
            "count": 1,
            "name": "TTCGGCGGAGGGACCAAGGTGGAGATCAAA"
           },
           {
            "count": 2,
            "name": "2 others"
           }
          ],
          "nan_count": 0,
          "unique_count": 4
         }
        },
        {
         "dtype": "object",
         "name": "fwr4_aa_light",
         "stats": {
          "categories": [
           {
            "count": 2,
            "name": "FGQGTKVEIK"
           },
           {
            "count": 1,
            "name": "FGGGTKVEIK"
           },
           {
            "count": 2,
            "name": "2 others"
           }
          ],
          "nan_count": 0,
          "unique_count": 4
         }
        },
        {
         "dtype": "object",
         "name": "cdr3_light",
         "stats": {
          "categories": [
           {
            "count": 1,
            "name": "CAACAGAGTTACACTACCTCGTGGACG"
           },
           {
            "count": 1,
            "name": "ATGCAAGGTACACACTGGCCTCCGCTCACT"
           },
           {
            "count": 3,
            "name": "3 others"
           }
          ],
          "nan_count": 0,
          "unique_count": 5
         }
        },
        {
         "dtype": "object",
         "name": "cdr3_aa_light",
         "stats": {
          "categories": [
           {
            "count": 1,
            "name": "QQSYTTSWT"
           },
           {
            "count": 1,
            "name": "MQGTHWPPLT"
           },
           {
            "count": 3,
            "name": "3 others"
           }
          ],
          "nan_count": 0,
          "unique_count": 5
         }
        },
        {
         "dtype": "object",
         "name": "junction_light",
         "stats": {
          "categories": [
           {
            "count": 1,
            "name": "TGTCAACAGAGTTACACTACCTCGTGGACGTTC"
           },
           {
            "count": 1,
            "name": "TGCATGCAAGGTACACACTGGCCTCCGCTCACTTTC"
           },
           {
            "count": 3,
            "name": "3 others"
           }
          ],
          "nan_count": 0,
          "unique_count": 5
         }
        },
        {
         "dtype": "float64",
         "name": "junction_length_light",
         "stats": {
          "histogram": [
           {
            "bin_end": 33.3,
            "bin_start": 33,
            "count": 3
           },
           {
            "bin_end": 33.6,
            "bin_start": 33.3,
            "count": 0
           },
           {
            "bin_end": 33.9,
            "bin_start": 33.6,
            "count": 0
           },
           {
            "bin_end": 34.2,
            "bin_start": 33.9,
            "count": 0
           },
           {
            "bin_end": 34.5,
            "bin_start": 34.2,
            "count": 0
           },
           {
            "bin_end": 34.8,
            "bin_start": 34.5,
            "count": 0
           },
           {
            "bin_end": 35.1,
            "bin_start": 34.8,
            "count": 0
           },
           {
            "bin_end": 35.4,
            "bin_start": 35.1,
            "count": 0
           },
           {
            "bin_end": 35.7,
            "bin_start": 35.4,
            "count": 0
           },
           {
            "bin_end": 36,
            "bin_start": 35.7,
            "count": 2
           }
          ],
          "max": "36.0",
          "min": "33.0",
          "nan_count": 0,
          "unique_count": 2
         }
        },
        {
         "dtype": "object",
         "name": "junction_aa_light",
         "stats": {
          "categories": [
           {
            "count": 1,
            "name": "CQQSYTTSWTF"
           },
           {
            "count": 1,
            "name": "CMQGTHWPPLTF"
           },
           {
            "count": 3,
            "name": "3 others"
           }
          ],
          "nan_count": 0,
          "unique_count": 5
         }
        },
        {
         "dtype": "float64",
         "name": "junction_aa_length_light",
         "stats": {
          "histogram": [
           {
            "bin_end": 11.1,
            "bin_start": 11,
            "count": 3
           },
           {
            "bin_end": 11.2,
            "bin_start": 11.1,
            "count": 0
           },
           {
            "bin_end": 11.3,
            "bin_start": 11.2,
            "count": 0
           },
           {
            "bin_end": 11.4,
            "bin_start": 11.3,
            "count": 0
           },
           {
            "bin_end": 11.5,
            "bin_start": 11.4,
            "count": 0
           },
           {
            "bin_end": 11.6,
            "bin_start": 11.5,
            "count": 0
           },
           {
            "bin_end": 11.7,
            "bin_start": 11.6,
            "count": 0
           },
           {
            "bin_end": 11.8,
            "bin_start": 11.7,
            "count": 0
           },
           {
            "bin_end": 11.9,
            "bin_start": 11.8,
            "count": 0
           },
           {
            "bin_end": 12,
            "bin_start": 11.9,
            "count": 2
           }
          ],
          "max": "12.0",
          "min": "11.0",
          "nan_count": 0,
          "unique_count": 2
         }
        },
        {
         "dtype": "float64",
         "name": "v_score_light",
         "stats": {
          "histogram": [
           {
            "bin_end": 410.6847,
            "bin_start": 403.829,
            "count": 1
           },
           {
            "bin_end": 417.54040000000003,
            "bin_start": 410.6847,
            "count": 0
           },
           {
            "bin_end": 424.3961,
            "bin_start": 417.54040000000003,
            "count": 0
           },
           {
            "bin_end": 431.2518,
            "bin_start": 424.3961,
            "count": 0
           },
           {
            "bin_end": 438.1075,
            "bin_start": 431.2518,
            "count": 1
           },
           {
            "bin_end": 444.96320000000003,
            "bin_start": 438.1075,
            "count": 1
           },
           {
            "bin_end": 451.81890000000004,
            "bin_start": 444.96320000000003,
            "count": 0
           },
           {
            "bin_end": 458.6746,
            "bin_start": 451.81890000000004,
            "count": 0
           },
           {
            "bin_end": 465.5303,
            "bin_start": 458.6746,
            "count": 1
           },
           {
            "bin_end": 472.386,
            "bin_start": 465.5303,
            "count": 1
           }
          ],
          "max": "472.386",
          "min": "403.829",
          "nan_count": 0,
          "unique_count": 5
         }
        },
        {
         "dtype": "float64",
         "name": "d_score_light",
         "stats": {
          "histogram": [
           {
            "bin_end": 0.1,
            "bin_start": 0,
            "count": 0
           },
           {
            "bin_end": 0.2,
            "bin_start": 0.1,
            "count": 0
           },
           {
            "bin_end": 0.30000000000000004,
            "bin_start": 0.2,
            "count": 0
           },
           {
            "bin_end": 0.4,
            "bin_start": 0.30000000000000004,
            "count": 0
           },
           {
            "bin_end": 0.5,
            "bin_start": 0.4,
            "count": 0
           },
           {
            "bin_end": 0.6000000000000001,
            "bin_start": 0.5,
            "count": 0
           },
           {
            "bin_end": 0.7000000000000001,
            "bin_start": 0.6000000000000001,
            "count": 0
           },
           {
            "bin_end": 0.8,
            "bin_start": 0.7000000000000001,
            "count": 0
           },
           {
            "bin_end": 0.9,
            "bin_start": 0.8,
            "count": 0
           },
           {
            "bin_end": 1,
            "bin_start": 0.9,
            "count": 0
           }
          ],
          "max": null,
          "min": null,
          "nan_count": 5,
          "unique_count": 0
         }
        },
        {
         "dtype": "float64",
         "name": "j_score_light",
         "stats": {
          "histogram": [
           {
            "bin_end": 63.3666,
            "bin_start": 62.213,
            "count": 1
           },
           {
            "bin_end": 64.5202,
            "bin_start": 63.3666,
            "count": 0
           },
           {
            "bin_end": 65.6738,
            "bin_start": 64.5202,
            "count": 0
           },
           {
            "bin_end": 66.8274,
            "bin_start": 65.6738,
            "count": 0
           },
           {
            "bin_end": 67.981,
            "bin_start": 66.8274,
            "count": 0
           },
           {
            "bin_end": 69.13459999999999,
            "bin_start": 67.981,
            "count": 0
           },
           {
            "bin_end": 70.2882,
            "bin_start": 69.13459999999999,
            "count": 1
           },
           {
            "bin_end": 71.4418,
            "bin_start": 70.2882,
            "count": 0
           },
           {
            "bin_end": 72.5954,
            "bin_start": 71.4418,
            "count": 0
           },
           {
            "bin_end": 73.749,
            "bin_start": 72.5954,
            "count": 3
           }
          ],
          "max": "73.749",
          "min": "62.213",
          "nan_count": 0,
          "unique_count": 3
         }
        },
        {
         "dtype": "object",
         "name": "v_cigar_light",
         "stats": {
          "categories": [
           {
            "count": 1,
            "name": "97S282M176S5N"
           },
           {
            "count": 1,
            "name": "98S302M174S"
           },
           {
            "count": 3,
            "name": "3 others"
           }
          ],
          "nan_count": 0,
          "unique_count": 5
         }
        },
        {
         "dtype": "float64",
         "name": "d_cigar_light",
         "stats": {
          "histogram": [
           {
            "bin_end": 0.1,
            "bin_start": 0,
            "count": 0
           },
           {
            "bin_end": 0.2,
            "bin_start": 0.1,
            "count": 0
           },
           {
            "bin_end": 0.30000000000000004,
            "bin_start": 0.2,
            "count": 0
           },
           {
            "bin_end": 0.4,
            "bin_start": 0.30000000000000004,
            "count": 0
           },
           {
            "bin_end": 0.5,
            "bin_start": 0.4,
            "count": 0
           },
           {
            "bin_end": 0.6000000000000001,
            "bin_start": 0.5,
            "count": 0
           },
           {
            "bin_end": 0.7000000000000001,
            "bin_start": 0.6000000000000001,
            "count": 0
           },
           {
            "bin_end": 0.8,
            "bin_start": 0.7000000000000001,
            "count": 0
           },
           {
            "bin_end": 0.9,
            "bin_start": 0.8,
            "count": 0
           },
           {
            "bin_end": 1,
            "bin_start": 0.9,
            "count": 0
           }
          ],
          "max": null,
          "min": null,
          "nan_count": 5,
          "unique_count": 0
         }
        },
        {
         "dtype": "object",
         "name": "j_cigar_light",
         "stats": {
          "categories": [
           {
            "count": 1,
            "name": "381S38M136S"
           },
           {
            "count": 1,
            "name": "400S38M136S"
           },
           {
            "count": 3,
            "name": "3 others"
           }
          ],
          "nan_count": 0,
          "unique_count": 5
         }
        },
        {
         "dtype": "float64",
         "name": "v_support_light",
         "stats": {
          "histogram": [
           {
            "bin_end": 1.7629999999999999e-115,
            "bin_start": 4.183e-135,
            "count": 4
           },
           {
            "bin_end": 3.5259999999999997e-115,
            "bin_start": 1.7629999999999999e-115,
            "count": 0
           },
           {
            "bin_end": 5.289e-115,
            "bin_start": 3.5259999999999997e-115,
            "count": 0
           },
           {
            "bin_end": 7.0519999999999995e-115,
            "bin_start": 5.289e-115,
            "count": 0
           },
           {
            "bin_end": 8.814999999999999e-115,
            "bin_start": 7.0519999999999995e-115,
            "count": 0
           },
           {
            "bin_end": 1.0578e-114,
            "bin_start": 8.814999999999999e-115,
            "count": 0
           },
           {
            "bin_end": 1.2341e-114,
            "bin_start": 1.0578e-114,
            "count": 0
           },
           {
            "bin_end": 1.4103999999999999e-114,
            "bin_start": 1.2341e-114,
            "count": 0
           },
           {
            "bin_end": 1.5866999999999998e-114,
            "bin_start": 1.4103999999999999e-114,
            "count": 0
           },
           {
            "bin_end": 1.7629999999999998e-114,
            "bin_start": 1.5866999999999998e-114,
            "count": 1
           }
          ],
          "max": "1.7629999999999998e-114",
          "min": "4.183e-135",
          "nan_count": 0,
          "unique_count": 5
         }
        },
        {
         "dtype": "float64",
         "name": "d_support_light",
         "stats": {
          "histogram": [
           {
            "bin_end": 0.1,
            "bin_start": 0,
            "count": 0
           },
           {
            "bin_end": 0.2,
            "bin_start": 0.1,
            "count": 0
           },
           {
            "bin_end": 0.30000000000000004,
            "bin_start": 0.2,
            "count": 0
           },
           {
            "bin_end": 0.4,
            "bin_start": 0.30000000000000004,
            "count": 0
           },
           {
            "bin_end": 0.5,
            "bin_start": 0.4,
            "count": 0
           },
           {
            "bin_end": 0.6000000000000001,
            "bin_start": 0.5,
            "count": 0
           },
           {
            "bin_end": 0.7000000000000001,
            "bin_start": 0.6000000000000001,
            "count": 0
           },
           {
            "bin_end": 0.8,
            "bin_start": 0.7000000000000001,
            "count": 0
           },
           {
            "bin_end": 0.9,
            "bin_start": 0.8,
            "count": 0
           },
           {
            "bin_end": 1,
            "bin_start": 0.9,
            "count": 0
           }
          ],
          "max": null,
          "min": null,
          "nan_count": 5,
          "unique_count": 0
         }
        },
        {
         "dtype": "float64",
         "name": "j_support_light",
         "stats": {
          "histogram": [
           {
            "bin_end": 1.0340564e-14,
            "bin_start": 3.396e-17,
            "count": 4
           },
           {
            "bin_end": 2.0647168e-14,
            "bin_start": 1.0340564e-14,
            "count": 0
           },
           {
            "bin_end": 3.0953772e-14,
            "bin_start": 2.0647168e-14,
            "count": 0
           },
           {
            "bin_end": 4.1260376e-14,
            "bin_start": 3.0953772e-14,
            "count": 0
           },
           {
            "bin_end": 5.156698e-14,
            "bin_start": 4.1260376e-14,
            "count": 0
           },
           {
            "bin_end": 6.187358399999999e-14,
            "bin_start": 5.156698e-14,
            "count": 0
           },
           {
            "bin_end": 7.218018799999999e-14,
            "bin_start": 6.187358399999999e-14,
            "count": 0
           },
           {
            "bin_end": 8.2486792e-14,
            "bin_start": 7.218018799999999e-14,
            "count": 0
           },
           {
            "bin_end": 9.2793396e-14,
            "bin_start": 8.2486792e-14,
            "count": 0
           },
           {
            "bin_end": 1.031e-13,
            "bin_start": 9.2793396e-14,
            "count": 1
           }
          ],
          "max": "1.031e-13",
          "min": "3.396e-17",
          "nan_count": 0,
          "unique_count": 5
         }
        },
        {
         "dtype": "float64",
         "name": "v_identity_light",
         "stats": {
          "histogram": [
           {
            "bin_end": 96.1705,
            "bin_start": 95.745,
            "count": 1
           },
           {
            "bin_end": 96.596,
            "bin_start": 96.1705,
            "count": 1
           },
           {
            "bin_end": 97.0215,
            "bin_start": 96.596,
            "count": 0
           },
           {
            "bin_end": 97.447,
            "bin_start": 97.0215,
            "count": 0
           },
           {
            "bin_end": 97.8725,
            "bin_start": 97.447,
            "count": 0
           },
           {
            "bin_end": 98.298,
            "bin_start": 97.8725,
            "count": 0
           },
           {
            "bin_end": 98.7235,
            "bin_start": 98.298,
            "count": 0
           },
           {
            "bin_end": 99.149,
            "bin_start": 98.7235,
            "count": 0
           },
           {
            "bin_end": 99.5745,
            "bin_start": 99.149,
            "count": 0
           },
           {
            "bin_end": 100,
            "bin_start": 99.5745,
            "count": 3
           }
          ],
          "max": "100.0",
          "min": "95.745",
          "nan_count": 0,
          "unique_count": 4
         }
        },
        {
         "dtype": "float64",
         "name": "d_identity_light",
         "stats": {
          "histogram": [
           {
            "bin_end": 0.1,
            "bin_start": 0,
            "count": 0
           },
           {
            "bin_end": 0.2,
            "bin_start": 0.1,
            "count": 0
           },
           {
            "bin_end": 0.30000000000000004,
            "bin_start": 0.2,
            "count": 0
           },
           {
            "bin_end": 0.4,
            "bin_start": 0.30000000000000004,
            "count": 0
           },
           {
            "bin_end": 0.5,
            "bin_start": 0.4,
            "count": 0
           },
           {
            "bin_end": 0.6000000000000001,
            "bin_start": 0.5,
            "count": 0
           },
           {
            "bin_end": 0.7000000000000001,
            "bin_start": 0.6000000000000001,
            "count": 0
           },
           {
            "bin_end": 0.8,
            "bin_start": 0.7000000000000001,
            "count": 0
           },
           {
            "bin_end": 0.9,
            "bin_start": 0.8,
            "count": 0
           },
           {
            "bin_end": 1,
            "bin_start": 0.9,
            "count": 0
           }
          ],
          "max": null,
          "min": null,
          "nan_count": 5,
          "unique_count": 0
         }
        },
        {
         "dtype": "float64",
         "name": "j_identity_light",
         "stats": {
          "histogram": [
           {
            "bin_end": 97.4287,
            "bin_start": 97.143,
            "count": 1
           },
           {
            "bin_end": 97.7144,
            "bin_start": 97.4287,
            "count": 0
           },
           {
            "bin_end": 98.0001,
            "bin_start": 97.7144,
            "count": 0
           },
           {
            "bin_end": 98.2858,
            "bin_start": 98.0001,
            "count": 0
           },
           {
            "bin_end": 98.5715,
            "bin_start": 98.2858,
            "count": 0
           },
           {
            "bin_end": 98.8572,
            "bin_start": 98.5715,
            "count": 0
           },
           {
            "bin_end": 99.1429,
            "bin_start": 98.8572,
            "count": 0
           },
           {
            "bin_end": 99.4286,
            "bin_start": 99.1429,
            "count": 0
           },
           {
            "bin_end": 99.7143,
            "bin_start": 99.4286,
            "count": 0
           },
           {
            "bin_end": 100,
            "bin_start": 99.7143,
            "count": 4
           }
          ],
          "max": "100.0",
          "min": "97.143",
          "nan_count": 0,
          "unique_count": 2
         }
        },
        {
         "dtype": "float64",
         "name": "v_sequence_start_light",
         "stats": {
          "histogram": [
           {
            "bin_end": 91.8,
            "bin_start": 91,
            "count": 1
           },
           {
            "bin_end": 92.6,
            "bin_start": 91.8,
            "count": 0
           },
           {
            "bin_end": 93.4,
            "bin_start": 92.6,
            "count": 0
           },
           {
            "bin_end": 94.2,
            "bin_start": 93.4,
            "count": 0
           },
           {
            "bin_end": 95,
            "bin_start": 94.2,
            "count": 0
           },
           {
            "bin_end": 95.8,
            "bin_start": 95,
            "count": 0
           },
           {
            "bin_end": 96.6,
            "bin_start": 95.8,
            "count": 0
           },
           {
            "bin_end": 97.4,
            "bin_start": 96.6,
            "count": 1
           },
           {
            "bin_end": 98.2,
            "bin_start": 97.4,
            "count": 1
           },
           {
            "bin_end": 99,
            "bin_start": 98.2,
            "count": 2
           }
          ],
          "max": "99.0",
          "min": "91.0",
          "nan_count": 0,
          "unique_count": 4
         }
        },
        {
         "dtype": "float64",
         "name": "v_sequence_end_light",
         "stats": {
          "histogram": [
           {
            "bin_end": 378.4,
            "bin_start": 376,
            "count": 1
           },
           {
            "bin_end": 380.8,
            "bin_start": 378.4,
            "count": 1
           },
           {
            "bin_end": 383.2,
            "bin_start": 380.8,
            "count": 0
           },
           {
            "bin_end": 385.6,
            "bin_start": 383.2,
            "count": 0
           },
           {
            "bin_end": 388,
            "bin_start": 385.6,
            "count": 0
           },
           {
            "bin_end": 390.4,
            "bin_start": 388,
            "count": 0
           },
           {
            "bin_end": 392.8,
            "bin_start": 390.4,
            "count": 0
           },
           {
            "bin_end": 395.2,
            "bin_start": 392.8,
            "count": 2
           },
           {
            "bin_end": 397.6,
            "bin_start": 395.2,
            "count": 0
           },
           {
            "bin_end": 400,
            "bin_start": 397.6,
            "count": 1
           }
          ],
          "max": "400.0",
          "min": "376.0",
          "nan_count": 0,
          "unique_count": 5
         }
        },
        {
         "dtype": "float64",
         "name": "v_germline_start_light",
         "stats": {
          "histogram": [
           {
            "bin_end": 0.6,
            "bin_start": 0.5,
            "count": 0
           },
           {
            "bin_end": 0.7,
            "bin_start": 0.6,
            "count": 0
           },
           {
            "bin_end": 0.8,
            "bin_start": 0.7,
            "count": 0
           },
           {
            "bin_end": 0.9,
            "bin_start": 0.8,
            "count": 0
           },
           {
            "bin_end": 1,
            "bin_start": 0.9,
            "count": 0
           },
           {
            "bin_end": 1.1,
            "bin_start": 1,
            "count": 5
           },
           {
            "bin_end": 1.2000000000000002,
            "bin_start": 1.1,
            "count": 0
           },
           {
            "bin_end": 1.3,
            "bin_start": 1.2000000000000002,
            "count": 0
           },
           {
            "bin_end": 1.4,
            "bin_start": 1.3,
            "count": 0
           },
           {
            "bin_end": 1.5,
            "bin_start": 1.4,
            "count": 0
           }
          ],
          "max": "1.0",
          "min": "1.0",
          "nan_count": 0,
          "unique_count": 1
         }
        },
        {
         "dtype": "float64",
         "name": "v_germline_end_light",
         "stats": {
          "histogram": [
           {
            "bin_end": 282.4,
            "bin_start": 280,
            "count": 2
           },
           {
            "bin_end": 284.8,
            "bin_start": 282.4,
            "count": 0
           },
           {
            "bin_end": 287.2,
            "bin_start": 284.8,
            "count": 0
           },
           {
            "bin_end": 289.6,
            "bin_start": 287.2,
            "count": 0
           },
           {
            "bin_end": 292,
            "bin_start": 289.6,
            "count": 0
           },
           {
            "bin_end": 294.4,
            "bin_start": 292,
            "count": 0
           },
           {
            "bin_end": 296.8,
            "bin_start": 294.4,
            "count": 1
           },
           {
            "bin_end": 299.2,
            "bin_start": 296.8,
            "count": 0
           },
           {
            "bin_end": 301.6,
            "bin_start": 299.2,
            "count": 0
           },
           {
            "bin_end": 304,
            "bin_start": 301.6,
            "count": 2
           }
          ],
          "max": "304.0",
          "min": "280.0",
          "nan_count": 0,
          "unique_count": 5
         }
        },
        {
         "dtype": "float64",
         "name": "d_sequence_start_light",
         "stats": {
          "histogram": [
           {
            "bin_end": 0.1,
            "bin_start": 0,
            "count": 0
           },
           {
            "bin_end": 0.2,
            "bin_start": 0.1,
            "count": 0
           },
           {
            "bin_end": 0.30000000000000004,
            "bin_start": 0.2,
            "count": 0
           },
           {
            "bin_end": 0.4,
            "bin_start": 0.30000000000000004,
            "count": 0
           },
           {
            "bin_end": 0.5,
            "bin_start": 0.4,
            "count": 0
           },
           {
            "bin_end": 0.6000000000000001,
            "bin_start": 0.5,
            "count": 0
           },
           {
            "bin_end": 0.7000000000000001,
            "bin_start": 0.6000000000000001,
            "count": 0
           },
           {
            "bin_end": 0.8,
            "bin_start": 0.7000000000000001,
            "count": 0
           },
           {
            "bin_end": 0.9,
            "bin_start": 0.8,
            "count": 0
           },
           {
            "bin_end": 1,
            "bin_start": 0.9,
            "count": 0
           }
          ],
          "max": null,
          "min": null,
          "nan_count": 5,
          "unique_count": 0
         }
        },
        {
         "dtype": "float64",
         "name": "d_sequence_end_light",
         "stats": {
          "histogram": [
           {
            "bin_end": 0.1,
            "bin_start": 0,
            "count": 0
           },
           {
            "bin_end": 0.2,
            "bin_start": 0.1,
            "count": 0
           },
           {
            "bin_end": 0.30000000000000004,
            "bin_start": 0.2,
            "count": 0
           },
           {
            "bin_end": 0.4,
            "bin_start": 0.30000000000000004,
            "count": 0
           },
           {
            "bin_end": 0.5,
            "bin_start": 0.4,
            "count": 0
           },
           {
            "bin_end": 0.6000000000000001,
            "bin_start": 0.5,
            "count": 0
           },
           {
            "bin_end": 0.7000000000000001,
            "bin_start": 0.6000000000000001,
            "count": 0
           },
           {
            "bin_end": 0.8,
            "bin_start": 0.7000000000000001,
            "count": 0
           },
           {
            "bin_end": 0.9,
            "bin_start": 0.8,
            "count": 0
           },
           {
            "bin_end": 1,
            "bin_start": 0.9,
            "count": 0
           }
          ],
          "max": null,
          "min": null,
          "nan_count": 5,
          "unique_count": 0
         }
        },
        {
         "dtype": "float64",
         "name": "d_germline_start_light",
         "stats": {
          "histogram": [
           {
            "bin_end": 0.1,
            "bin_start": 0,
            "count": 0
           },
           {
            "bin_end": 0.2,
            "bin_start": 0.1,
            "count": 0
           },
           {
            "bin_end": 0.30000000000000004,
            "bin_start": 0.2,
            "count": 0
           },
           {
            "bin_end": 0.4,
            "bin_start": 0.30000000000000004,
            "count": 0
           },
           {
            "bin_end": 0.5,
            "bin_start": 0.4,
            "count": 0
           },
           {
            "bin_end": 0.6000000000000001,
            "bin_start": 0.5,
            "count": 0
           },
           {
            "bin_end": 0.7000000000000001,
            "bin_start": 0.6000000000000001,
            "count": 0
           },
           {
            "bin_end": 0.8,
            "bin_start": 0.7000000000000001,
            "count": 0
           },
           {
            "bin_end": 0.9,
            "bin_start": 0.8,
            "count": 0
           },
           {
            "bin_end": 1,
            "bin_start": 0.9,
            "count": 0
           }
          ],
          "max": null,
          "min": null,
          "nan_count": 5,
          "unique_count": 0
         }
        },
        {
         "dtype": "float64",
         "name": "d_germline_end_light",
         "stats": {
          "histogram": [
           {
            "bin_end": 0.1,
            "bin_start": 0,
            "count": 0
           },
           {
            "bin_end": 0.2,
            "bin_start": 0.1,
            "count": 0
           },
           {
            "bin_end": 0.30000000000000004,
            "bin_start": 0.2,
            "count": 0
           },
           {
            "bin_end": 0.4,
            "bin_start": 0.30000000000000004,
            "count": 0
           },
           {
            "bin_end": 0.5,
            "bin_start": 0.4,
            "count": 0
           },
           {
            "bin_end": 0.6000000000000001,
            "bin_start": 0.5,
            "count": 0
           },
           {
            "bin_end": 0.7000000000000001,
            "bin_start": 0.6000000000000001,
            "count": 0
           },
           {
            "bin_end": 0.8,
            "bin_start": 0.7000000000000001,
            "count": 0
           },
           {
            "bin_end": 0.9,
            "bin_start": 0.8,
            "count": 0
           },
           {
            "bin_end": 1,
            "bin_start": 0.9,
            "count": 0
           }
          ],
          "max": null,
          "min": null,
          "nan_count": 5,
          "unique_count": 0
         }
        },
        {
         "dtype": "float64",
         "name": "j_sequence_start_light",
         "stats": {
          "histogram": [
           {
            "bin_end": 383,
            "bin_start": 381,
            "count": 2
           },
           {
            "bin_end": 385,
            "bin_start": 383,
            "count": 0
           },
           {
            "bin_end": 387,
            "bin_start": 385,
            "count": 0
           },
           {
            "bin_end": 389,
            "bin_start": 387,
            "count": 0
           },
           {
            "bin_end": 391,
            "bin_start": 389,
            "count": 0
           },
           {
            "bin_end": 393,
            "bin_start": 391,
            "count": 0
           },
           {
            "bin_end": 395,
            "bin_start": 393,
            "count": 1
           },
           {
            "bin_end": 397,
            "bin_start": 395,
            "count": 1
           },
           {
            "bin_end": 399,
            "bin_start": 397,
            "count": 0
           },
           {
            "bin_end": 401,
            "bin_start": 399,
            "count": 1
           }
          ],
          "max": "401.0",
          "min": "381.0",
          "nan_count": 0,
          "unique_count": 5
         }
        },
        {
         "dtype": "float64",
         "name": "j_sequence_end_light",
         "stats": {
          "histogram": [
           {
            "bin_end": 420,
            "bin_start": 418,
            "count": 2
           },
           {
            "bin_end": 422,
            "bin_start": 420,
            "count": 0
           },
           {
            "bin_end": 424,
            "bin_start": 422,
            "count": 0
           },
           {
            "bin_end": 426,
            "bin_start": 424,
            "count": 0
           },
           {
            "bin_end": 428,
            "bin_start": 426,
            "count": 0
           },
           {
            "bin_end": 430,
            "bin_start": 428,
            "count": 1
           },
           {
            "bin_end": 432,
            "bin_start": 430,
            "count": 1
           },
           {
            "bin_end": 434,
            "bin_start": 432,
            "count": 0
           },
           {
            "bin_end": 436,
            "bin_start": 434,
            "count": 0
           },
           {
            "bin_end": 438,
            "bin_start": 436,
            "count": 1
           }
          ],
          "max": "438.0",
          "min": "418.0",
          "nan_count": 0,
          "unique_count": 5
         }
        },
        {
         "dtype": "float64",
         "name": "j_germline_start_light",
         "stats": {
          "histogram": [
           {
            "bin_end": 1.3,
            "bin_start": 1,
            "count": 3
           },
           {
            "bin_end": 1.6,
            "bin_start": 1.3,
            "count": 0
           },
           {
            "bin_end": 1.9,
            "bin_start": 1.6,
            "count": 0
           },
           {
            "bin_end": 2.2,
            "bin_start": 1.9,
            "count": 0
           },
           {
            "bin_end": 2.5,
            "bin_start": 2.2,
            "count": 0
           },
           {
            "bin_end": 2.8,
            "bin_start": 2.5,
            "count": 0
           },
           {
            "bin_end": 3.1,
            "bin_start": 2.8,
            "count": 1
           },
           {
            "bin_end": 3.4,
            "bin_start": 3.1,
            "count": 0
           },
           {
            "bin_end": 3.6999999999999997,
            "bin_start": 3.4,
            "count": 0
           },
           {
            "bin_end": 4,
            "bin_start": 3.6999999999999997,
            "count": 1
           }
          ],
          "max": "4.0",
          "min": "1.0",
          "nan_count": 0,
          "unique_count": 3
         }
        },
        {
         "dtype": "float64",
         "name": "j_germline_end_light",
         "stats": {
          "histogram": [
           {
            "bin_end": 37.6,
            "bin_start": 37.5,
            "count": 0
           },
           {
            "bin_end": 37.7,
            "bin_start": 37.6,
            "count": 0
           },
           {
            "bin_end": 37.8,
            "bin_start": 37.7,
            "count": 0
           },
           {
            "bin_end": 37.9,
            "bin_start": 37.8,
            "count": 0
           },
           {
            "bin_end": 38,
            "bin_start": 37.9,
            "count": 0
           },
           {
            "bin_end": 38.1,
            "bin_start": 38,
            "count": 5
           },
           {
            "bin_end": 38.2,
            "bin_start": 38.1,
            "count": 0
           },
           {
            "bin_end": 38.3,
            "bin_start": 38.2,
            "count": 0
           },
           {
            "bin_end": 38.4,
            "bin_start": 38.3,
            "count": 0
           },
           {
            "bin_end": 38.5,
            "bin_start": 38.4,
            "count": 0
           }
          ],
          "max": "38.0",
          "min": "38.0",
          "nan_count": 0,
          "unique_count": 1
         }
        },
        {
         "dtype": "float64",
         "name": "fwr1_start_light",
         "stats": {
          "histogram": [
           {
            "bin_end": 91.8,
            "bin_start": 91,
            "count": 1
           },
           {
            "bin_end": 92.6,
            "bin_start": 91.8,
            "count": 0
           },
           {
            "bin_end": 93.4,
            "bin_start": 92.6,
            "count": 0
           },
           {
            "bin_end": 94.2,
            "bin_start": 93.4,
            "count": 0
           },
           {
            "bin_end": 95,
            "bin_start": 94.2,
            "count": 0
           },
           {
            "bin_end": 95.8,
            "bin_start": 95,
            "count": 0
           },
           {
            "bin_end": 96.6,
            "bin_start": 95.8,
            "count": 0
           },
           {
            "bin_end": 97.4,
            "bin_start": 96.6,
            "count": 1
           },
           {
            "bin_end": 98.2,
            "bin_start": 97.4,
            "count": 1
           },
           {
            "bin_end": 99,
            "bin_start": 98.2,
            "count": 2
           }
          ],
          "max": "99.0",
          "min": "91.0",
          "nan_count": 0,
          "unique_count": 4
         }
        },
        {
         "dtype": "float64",
         "name": "fwr1_end_light",
         "stats": {
          "histogram": [
           {
            "bin_end": 168.8,
            "bin_start": 168,
            "count": 1
           },
           {
            "bin_end": 169.6,
            "bin_start": 168.8,
            "count": 0
           },
           {
            "bin_end": 170.4,
            "bin_start": 169.6,
            "count": 0
           },
           {
            "bin_end": 171.2,
            "bin_start": 170.4,
            "count": 0
           },
           {
            "bin_end": 172,
            "bin_start": 171.2,
            "count": 0
           },
           {
            "bin_end": 172.8,
            "bin_start": 172,
            "count": 0
           },
           {
            "bin_end": 173.6,
            "bin_start": 172.8,
            "count": 1
           },
           {
            "bin_end": 174.4,
            "bin_start": 173.6,
            "count": 1
           },
           {
            "bin_end": 175.2,
            "bin_start": 174.4,
            "count": 1
           },
           {
            "bin_end": 176,
            "bin_start": 175.2,
            "count": 1
           }
          ],
          "max": "176.0",
          "min": "168.0",
          "nan_count": 0,
          "unique_count": 5
         }
        },
        {
         "dtype": "float64",
         "name": "cdr1_start_light",
         "stats": {
          "histogram": [
           {
            "bin_end": 169.8,
            "bin_start": 169,
            "count": 1
           },
           {
            "bin_end": 170.6,
            "bin_start": 169.8,
            "count": 0
           },
           {
            "bin_end": 171.4,
            "bin_start": 170.6,
            "count": 0
           },
           {
            "bin_end": 172.2,
            "bin_start": 171.4,
            "count": 0
           },
           {
            "bin_end": 173,
            "bin_start": 172.2,
            "count": 0
           },
           {
            "bin_end": 173.8,
            "bin_start": 173,
            "count": 0
           },
           {
            "bin_end": 174.6,
            "bin_start": 173.8,
            "count": 1
           },
           {
            "bin_end": 175.4,
            "bin_start": 174.6,
            "count": 1
           },
           {
            "bin_end": 176.2,
            "bin_start": 175.4,
            "count": 1
           },
           {
            "bin_end": 177,
            "bin_start": 176.2,
            "count": 1
           }
          ],
          "max": "177.0",
          "min": "169.0",
          "nan_count": 0,
          "unique_count": 5
         }
        },
        {
         "dtype": "float64",
         "name": "cdr1_end_light",
         "stats": {
          "histogram": [
           {
            "bin_end": 193.7,
            "bin_start": 192,
            "count": 2
           },
           {
            "bin_end": 195.4,
            "bin_start": 193.7,
            "count": 0
           },
           {
            "bin_end": 197.1,
            "bin_start": 195.4,
            "count": 0
           },
           {
            "bin_end": 198.8,
            "bin_start": 197.1,
            "count": 0
           },
           {
            "bin_end": 200.5,
            "bin_start": 198.8,
            "count": 1
           },
           {
            "bin_end": 202.2,
            "bin_start": 200.5,
            "count": 0
           },
           {
            "bin_end": 203.9,
            "bin_start": 202.2,
            "count": 0
           },
           {
            "bin_end": 205.6,
            "bin_start": 203.9,
            "count": 1
           },
           {
            "bin_end": 207.3,
            "bin_start": 205.6,
            "count": 0
           },
           {
            "bin_end": 209,
            "bin_start": 207.3,
            "count": 1
           }
          ],
          "max": "209.0",
          "min": "192.0",
          "nan_count": 0,
          "unique_count": 5
         }
        },
        {
         "dtype": "float64",
         "name": "fwr2_start_light",
         "stats": {
          "histogram": [
           {
            "bin_end": 194.7,
            "bin_start": 193,
            "count": 2
           },
           {
            "bin_end": 196.4,
            "bin_start": 194.7,
            "count": 0
           },
           {
            "bin_end": 198.1,
            "bin_start": 196.4,
            "count": 0
           },
           {
            "bin_end": 199.8,
            "bin_start": 198.1,
            "count": 0
           },
           {
            "bin_end": 201.5,
            "bin_start": 199.8,
            "count": 1
           },
           {
            "bin_end": 203.2,
            "bin_start": 201.5,
            "count": 0
           },
           {
            "bin_end": 204.9,
            "bin_start": 203.2,
            "count": 0
           },
           {
            "bin_end": 206.6,
            "bin_start": 204.9,
            "count": 1
           },
           {
            "bin_end": 208.3,
            "bin_start": 206.6,
            "count": 0
           },
           {
            "bin_end": 210,
            "bin_start": 208.3,
            "count": 1
           }
          ],
          "max": "210.0",
          "min": "193.0",
          "nan_count": 0,
          "unique_count": 5
         }
        },
        {
         "dtype": "float64",
         "name": "fwr2_end_light",
         "stats": {
          "histogram": [
           {
            "bin_end": 244.7,
            "bin_start": 243,
            "count": 2
           },
           {
            "bin_end": 246.4,
            "bin_start": 244.7,
            "count": 0
           },
           {
            "bin_end": 248.1,
            "bin_start": 246.4,
            "count": 0
           },
           {
            "bin_end": 249.8,
            "bin_start": 248.1,
            "count": 0
           },
           {
            "bin_end": 251.5,
            "bin_start": 249.8,
            "count": 1
           },
           {
            "bin_end": 253.2,
            "bin_start": 251.5,
            "count": 0
           },
           {
            "bin_end": 254.9,
            "bin_start": 253.2,
            "count": 0
           },
           {
            "bin_end": 256.6,
            "bin_start": 254.9,
            "count": 1
           },
           {
            "bin_end": 258.3,
            "bin_start": 256.6,
            "count": 0
           },
           {
            "bin_end": 260,
            "bin_start": 258.3,
            "count": 1
           }
          ],
          "max": "260.0",
          "min": "243.0",
          "nan_count": 0,
          "unique_count": 5
         }
        },
        {
         "dtype": "float64",
         "name": "cdr2_start_light",
         "stats": {
          "histogram": [
           {
            "bin_end": 245.7,
            "bin_start": 244,
            "count": 2
           },
           {
            "bin_end": 247.4,
            "bin_start": 245.7,
            "count": 0
           },
           {
            "bin_end": 249.1,
            "bin_start": 247.4,
            "count": 0
           },
           {
            "bin_end": 250.8,
            "bin_start": 249.1,
            "count": 0
           },
           {
            "bin_end": 252.5,
            "bin_start": 250.8,
            "count": 1
           },
           {
            "bin_end": 254.2,
            "bin_start": 252.5,
            "count": 0
           },
           {
            "bin_end": 255.9,
            "bin_start": 254.2,
            "count": 0
           },
           {
            "bin_end": 257.6,
            "bin_start": 255.9,
            "count": 1
           },
           {
            "bin_end": 259.3,
            "bin_start": 257.6,
            "count": 0
           },
           {
            "bin_end": 261,
            "bin_start": 259.3,
            "count": 1
           }
          ],
          "max": "261.0",
          "min": "244.0",
          "nan_count": 0,
          "unique_count": 5
         }
        },
        {
         "dtype": "float64",
         "name": "cdr2_end_light",
         "stats": {
          "histogram": [
           {
            "bin_end": 253.7,
            "bin_start": 252,
            "count": 2
           },
           {
            "bin_end": 255.4,
            "bin_start": 253.7,
            "count": 0
           },
           {
            "bin_end": 257.1,
            "bin_start": 255.4,
            "count": 0
           },
           {
            "bin_end": 258.8,
            "bin_start": 257.1,
            "count": 0
           },
           {
            "bin_end": 260.5,
            "bin_start": 258.8,
            "count": 1
           },
           {
            "bin_end": 262.2,
            "bin_start": 260.5,
            "count": 0
           },
           {
            "bin_end": 263.9,
            "bin_start": 262.2,
            "count": 0
           },
           {
            "bin_end": 265.6,
            "bin_start": 263.9,
            "count": 1
           },
           {
            "bin_end": 267.3,
            "bin_start": 265.6,
            "count": 0
           },
           {
            "bin_end": 269,
            "bin_start": 267.3,
            "count": 1
           }
          ],
          "max": "269.0",
          "min": "252.0",
          "nan_count": 0,
          "unique_count": 5
         }
        },
        {
         "dtype": "float64",
         "name": "fwr3_start_light",
         "stats": {
          "histogram": [
           {
            "bin_end": 254.7,
            "bin_start": 253,
            "count": 2
           },
           {
            "bin_end": 256.4,
            "bin_start": 254.7,
            "count": 0
           },
           {
            "bin_end": 258.1,
            "bin_start": 256.4,
            "count": 0
           },
           {
            "bin_end": 259.8,
            "bin_start": 258.1,
            "count": 0
           },
           {
            "bin_end": 261.5,
            "bin_start": 259.8,
            "count": 1
           },
           {
            "bin_end": 263.2,
            "bin_start": 261.5,
            "count": 0
           },
           {
            "bin_end": 264.9,
            "bin_start": 263.2,
            "count": 0
           },
           {
            "bin_end": 266.6,
            "bin_start": 264.9,
            "count": 1
           },
           {
            "bin_end": 268.3,
            "bin_start": 266.6,
            "count": 0
           },
           {
            "bin_end": 270,
            "bin_start": 268.3,
            "count": 1
           }
          ],
          "max": "270.0",
          "min": "253.0",
          "nan_count": 0,
          "unique_count": 5
         }
        },
        {
         "dtype": "float64",
         "name": "fwr3_end_light",
         "stats": {
          "histogram": [
           {
            "bin_end": 361.7,
            "bin_start": 360,
            "count": 2
           },
           {
            "bin_end": 363.4,
            "bin_start": 361.7,
            "count": 0
           },
           {
            "bin_end": 365.1,
            "bin_start": 363.4,
            "count": 0
           },
           {
            "bin_end": 366.8,
            "bin_start": 365.1,
            "count": 0
           },
           {
            "bin_end": 368.5,
            "bin_start": 366.8,
            "count": 1
           },
           {
            "bin_end": 370.2,
            "bin_start": 368.5,
            "count": 0
           },
           {
            "bin_end": 371.9,
            "bin_start": 370.2,
            "count": 0
           },
           {
            "bin_end": 373.6,
            "bin_start": 371.9,
            "count": 1
           },
           {
            "bin_end": 375.3,
            "bin_start": 373.6,
            "count": 0
           },
           {
            "bin_end": 377,
            "bin_start": 375.3,
            "count": 1
           }
          ],
          "max": "377.0",
          "min": "360.0",
          "nan_count": 0,
          "unique_count": 5
         }
        },
        {
         "dtype": "float64",
         "name": "fwr4_start_light",
         "stats": {
          "histogram": [
           {
            "bin_end": 390,
            "bin_start": 388,
            "count": 2
           },
           {
            "bin_end": 392,
            "bin_start": 390,
            "count": 0
           },
           {
            "bin_end": 394,
            "bin_start": 392,
            "count": 0
           },
           {
            "bin_end": 396,
            "bin_start": 394,
            "count": 0
           },
           {
            "bin_end": 398,
            "bin_start": 396,
            "count": 0
           },
           {
            "bin_end": 400,
            "bin_start": 398,
            "count": 1
           },
           {
            "bin_end": 402,
            "bin_start": 400,
            "count": 1
           },
           {
            "bin_end": 404,
            "bin_start": 402,
            "count": 0
           },
           {
            "bin_end": 406,
            "bin_start": 404,
            "count": 0
           },
           {
            "bin_end": 408,
            "bin_start": 406,
            "count": 1
           }
          ],
          "max": "408.0",
          "min": "388.0",
          "nan_count": 0,
          "unique_count": 5
         }
        },
        {
         "dtype": "float64",
         "name": "fwr4_end_light",
         "stats": {
          "histogram": [
           {
            "bin_end": 419,
            "bin_start": 417,
            "count": 2
           },
           {
            "bin_end": 421,
            "bin_start": 419,
            "count": 0
           },
           {
            "bin_end": 423,
            "bin_start": 421,
            "count": 0
           },
           {
            "bin_end": 425,
            "bin_start": 423,
            "count": 0
           },
           {
            "bin_end": 427,
            "bin_start": 425,
            "count": 0
           },
           {
            "bin_end": 429,
            "bin_start": 427,
            "count": 1
           },
           {
            "bin_end": 431,
            "bin_start": 429,
            "count": 1
           },
           {
            "bin_end": 433,
            "bin_start": 431,
            "count": 0
           },
           {
            "bin_end": 435,
            "bin_start": 433,
            "count": 0
           },
           {
            "bin_end": 437,
            "bin_start": 435,
            "count": 1
           }
          ],
          "max": "437.0",
          "min": "417.0",
          "nan_count": 0,
          "unique_count": 5
         }
        },
        {
         "dtype": "float64",
         "name": "cdr3_start_light",
         "stats": {
          "histogram": [
           {
            "bin_end": 362.7,
            "bin_start": 361,
            "count": 2
           },
           {
            "bin_end": 364.4,
            "bin_start": 362.7,
            "count": 0
           },
           {
            "bin_end": 366.1,
            "bin_start": 364.4,
            "count": 0
           },
           {
            "bin_end": 367.8,
            "bin_start": 366.1,
            "count": 0
           },
           {
            "bin_end": 369.5,
            "bin_start": 367.8,
            "count": 1
           },
           {
            "bin_end": 371.2,
            "bin_start": 369.5,
            "count": 0
           },
           {
            "bin_end": 372.9,
            "bin_start": 371.2,
            "count": 0
           },
           {
            "bin_end": 374.6,
            "bin_start": 372.9,
            "count": 1
           },
           {
            "bin_end": 376.3,
            "bin_start": 374.6,
            "count": 0
           },
           {
            "bin_end": 378,
            "bin_start": 376.3,
            "count": 1
           }
          ],
          "max": "378.0",
          "min": "361.0",
          "nan_count": 0,
          "unique_count": 5
         }
        },
        {
         "dtype": "float64",
         "name": "cdr3_end_light",
         "stats": {
          "histogram": [
           {
            "bin_end": 389,
            "bin_start": 387,
            "count": 2
           },
           {
            "bin_end": 391,
            "bin_start": 389,
            "count": 0
           },
           {
            "bin_end": 393,
            "bin_start": 391,
            "count": 0
           },
           {
            "bin_end": 395,
            "bin_start": 393,
            "count": 0
           },
           {
            "bin_end": 397,
            "bin_start": 395,
            "count": 0
           },
           {
            "bin_end": 399,
            "bin_start": 397,
            "count": 1
           },
           {
            "bin_end": 401,
            "bin_start": 399,
            "count": 1
           },
           {
            "bin_end": 403,
            "bin_start": 401,
            "count": 0
           },
           {
            "bin_end": 405,
            "bin_start": 403,
            "count": 0
           },
           {
            "bin_end": 407,
            "bin_start": 405,
            "count": 1
           }
          ],
          "max": "407.0",
          "min": "387.0",
          "nan_count": 0,
          "unique_count": 5
         }
        },
        {
         "dtype": "object",
         "name": "np1_light",
         "stats": {
          "categories": [
           {
            "count": 1,
            "name": "TC"
           },
           {
            "count": 2,
            "name": "2 others"
           },
           {
            "count": 2,
            "name": "Missing"
           }
          ],
          "nan_count": 2,
          "unique_count": 3
         }
        },
        {
         "dtype": "float64",
         "name": "np1_length_light",
         "stats": {
          "histogram": [
           {
            "bin_end": 0.4,
            "bin_start": 0,
            "count": 2
           },
           {
            "bin_end": 0.8,
            "bin_start": 0.4,
            "count": 0
           },
           {
            "bin_end": 1.2000000000000002,
            "bin_start": 0.8,
            "count": 1
           },
           {
            "bin_end": 1.6,
            "bin_start": 1.2000000000000002,
            "count": 0
           },
           {
            "bin_end": 2,
            "bin_start": 1.6,
            "count": 0
           },
           {
            "bin_end": 2.4000000000000004,
            "bin_start": 2,
            "count": 1
           },
           {
            "bin_end": 2.8000000000000003,
            "bin_start": 2.4000000000000004,
            "count": 0
           },
           {
            "bin_end": 3.2,
            "bin_start": 2.8000000000000003,
            "count": 0
           },
           {
            "bin_end": 3.6,
            "bin_start": 3.2,
            "count": 0
           },
           {
            "bin_end": 4,
            "bin_start": 3.6,
            "count": 1
           }
          ],
          "max": "4.0",
          "min": "0.0",
          "nan_count": 0,
          "unique_count": 4
         }
        },
        {
         "dtype": "float64",
         "name": "np2_light",
         "stats": {
          "histogram": [
           {
            "bin_end": 0.1,
            "bin_start": 0,
            "count": 0
           },
           {
            "bin_end": 0.2,
            "bin_start": 0.1,
            "count": 0
           },
           {
            "bin_end": 0.30000000000000004,
            "bin_start": 0.2,
            "count": 0
           },
           {
            "bin_end": 0.4,
            "bin_start": 0.30000000000000004,
            "count": 0
           },
           {
            "bin_end": 0.5,
            "bin_start": 0.4,
            "count": 0
           },
           {
            "bin_end": 0.6000000000000001,
            "bin_start": 0.5,
            "count": 0
           },
           {
            "bin_end": 0.7000000000000001,
            "bin_start": 0.6000000000000001,
            "count": 0
           },
           {
            "bin_end": 0.8,
            "bin_start": 0.7000000000000001,
            "count": 0
           },
           {
            "bin_end": 0.9,
            "bin_start": 0.8,
            "count": 0
           },
           {
            "bin_end": 1,
            "bin_start": 0.9,
            "count": 0
           }
          ],
          "max": null,
          "min": null,
          "nan_count": 5,
          "unique_count": 0
         }
        },
        {
         "dtype": "float64",
         "name": "np2_length_light",
         "stats": {
          "histogram": [
           {
            "bin_end": 0.1,
            "bin_start": 0,
            "count": 0
           },
           {
            "bin_end": 0.2,
            "bin_start": 0.1,
            "count": 0
           },
           {
            "bin_end": 0.30000000000000004,
            "bin_start": 0.2,
            "count": 0
           },
           {
            "bin_end": 0.4,
            "bin_start": 0.30000000000000004,
            "count": 0
           },
           {
            "bin_end": 0.5,
            "bin_start": 0.4,
            "count": 0
           },
           {
            "bin_end": 0.6000000000000001,
            "bin_start": 0.5,
            "count": 0
           },
           {
            "bin_end": 0.7000000000000001,
            "bin_start": 0.6000000000000001,
            "count": 0
           },
           {
            "bin_end": 0.8,
            "bin_start": 0.7000000000000001,
            "count": 0
           },
           {
            "bin_end": 0.9,
            "bin_start": 0.8,
            "count": 0
           },
           {
            "bin_end": 1,
            "bin_start": 0.9,
            "count": 0
           }
          ],
          "max": null,
          "min": null,
          "nan_count": 5,
          "unique_count": 0
         }
        },
        {
         "dtype": "object",
         "name": "c_region_light",
         "stats": {
          "categories": [
           {
            "count": 4,
            "name": "GAACTGTGGCTGCACCATCTGTCTTCATCTTCCCGCCATCTGATGAGCAGTTGAAATCTGGAACTGCCTCTGTTGTGTGCCTGCTGAATAACTTCTATCCCAGAGAGGCCAAAGTACAGTGGAAGGTGGATAACGC"
           },
           {
            "count": 1,
            "name": "GTCAGCCCAAGGCCAACCCCACTGTCACTCTGTTCCCGCCCTCCTCTGAGGAGCTCCAAGCCAACAAGGCCACACTAGTGTGTCTGATCAGTGACTTCTACCCGGGAGCTGTGACAGTGGCCTGGAAGGCAGATGGCAGCCCCGTCAAGGCGGGAGTGGAGACCACCAAACCCTCCAAACAGAGCAACAACAAGTACGCGGCCAGCAGCTA"
           }
          ],
          "nan_count": 0,
          "unique_count": 2
         }
        },
        {
         "dtype": "object",
         "name": "Isotype_light",
         "stats": {
          "categories": [
           {
            "count": 5,
            "name": "Bulk"
           }
          ],
          "nan_count": 0,
          "unique_count": 1
         }
        },
        {
         "dtype": "float64",
         "name": "Redundancy_light",
         "stats": {
          "histogram": [
           {
            "bin_end": 0.6,
            "bin_start": 0.5,
            "count": 0
           },
           {
            "bin_end": 0.7,
            "bin_start": 0.6,
            "count": 0
           },
           {
            "bin_end": 0.8,
            "bin_start": 0.7,
            "count": 0
           },
           {
            "bin_end": 0.9,
            "bin_start": 0.8,
            "count": 0
           },
           {
            "bin_end": 1,
            "bin_start": 0.9,
            "count": 0
           },
           {
            "bin_end": 1.1,
            "bin_start": 1,
            "count": 5
           },
           {
            "bin_end": 1.2000000000000002,
            "bin_start": 1.1,
            "count": 0
           },
           {
            "bin_end": 1.3,
            "bin_start": 1.2000000000000002,
            "count": 0
           },
           {
            "bin_end": 1.4,
            "bin_start": 1.3,
            "count": 0
           },
           {
            "bin_end": 1.5,
            "bin_start": 1.4,
            "count": 0
           }
          ],
          "max": "1.0",
          "min": "1.0",
          "nan_count": 0,
          "unique_count": 1
         }
        },
        {
         "dtype": "object",
         "name": "ANARCI_numbering_light",
         "stats": {
          "categories": [
           {
            "count": 1,
            "name": "{'fwk1': {'1 ': 'D', '2 ': 'I', '3 ': 'Q', '4 ': 'V', '5 ': 'T', '6 ': 'Q', '7 ': 'S', '8 ': 'P', '9 ': 'S', '10 ': 'S', '11 ': 'L', '12 ': 'S', '13 ': 'A', '14 ': 'F', '15 ': 'V', '16 ': 'G', '17 ': 'D', '18 ': 'R', '19 ': 'V', '20 ': 'T', '21 ': 'I', '22 ': 'T', '23 ': 'C', '24 ': 'R', '25 ': 'A', '26 ': 'S'}, 'cdrk1': {'27 ': 'E', '28 ': 'S', '29 ': 'I', '36 ': 'N', '37 ': 'M', '38 ': 'Y'}, 'fwk2': {'39 ': 'L', '40 ': 'N', '41 ': 'W', '42 ': 'Y', '43 ': 'Q', '44 ': 'Q', '45 ': 'K', '46 ': 'P', '47 ': 'G', '48 ': 'K', '49 ': 'A', '50 ': 'P', '51 ': 'K', '52 ': 'L', '53 ': 'L', '54 ': 'I', '55 ': 'Y'}, 'cdrk2': {'56 ': 'A', '57 ': 'A', '65 ': 'S'}, 'fwk3': {'66 ': 'S', '67 ': 'L', '68 ': 'Q', '69 ': 'S', '70 ': 'G', '71 ': 'V', '72 ': 'P', '74 ': 'S', '75 ': 'R', '76 ': 'F', '77 ': 'R', '78 ': 'G', '79 ': 'S', '80 ': 'G', '83 ': 'S', '84 ': 'G', '85 ': 'T', '86 ': 'D', '87 ': 'F', '88 ': 'T', '89 ': 'L', '90 ': 'T', '91 ': 'I', '92 ': 'S', '93 ': 'S', '94 ': 'L', '95 ': 'Q', '96 ': 'T', '97 ': 'E', '98 ': 'D', '99 ': 'I', '100 ': 'A', '101 ': 'S', '102 ': 'Y', '103 ': 'F', '104 ': 'C'}, 'cdrk3': {'105 ': 'Q', '106 ': 'Q', '107 ': 'S', '108 ': 'Y', '109 ': 'T', '114 ': 'T', '115 ': 'S', '116 ': 'W', '117 ': 'T'}, 'fwk4': {'118 ': 'F', '119 ': 'G', '120 ': 'Q', '121 ': 'G', '122 ': 'T', '123 ': 'K', '124 ': 'V', '125 ': 'E', '126 ': 'I', '127 ': 'K'}}"
           },
           {
            "count": 1,
            "name": "{'fwk1': {'1 ': 'D', '2 ': 'V', '3 ': 'V', '4 ': 'M', '5 ': 'T', '6 ': 'Q', '7 ': 'S', '8 ': 'P', '9 ': 'L', '10 ': 'S', '11 ': 'L', '12 ': 'P', '13 ': 'V', '14 ': 'T', '15 ': 'L', '16 ': 'G', '17 ': 'Q', '18 ': 'P', '19 ': 'A', '20 ': 'S', '21 ': 'I', '22 ': 'S', '23 ': 'C', '24 ': 'R', '25 ': 'S', '26 ': 'S'}, 'cdrk1': {'27 ': 'Q', '28 ': 'S', '29 ': 'L', '30 ': 'V', '31 ': 'Y', '32 ': 'S', '34 ': 'D', '35 ': 'G', '36 ': 'N', '37 ': 'T', '38 ': 'Y'}, 'fwk2': {'39 ': 'L', '40 ': 'N', '41 ': 'W', '42 ': 'F', '43 ': 'Q', '44 ': 'Q', '45 ': 'R', '46 ': 'P', '47 ': 'G', '48 ': 'Q', '49 ': 'S', '50 ': 'P', '51 ': 'R', '52 ': 'R', '53 ': 'L', '54 ': 'I', '55 ': 'Y'}, 'cdrk2': {'56 ': 'K', '57 ': 'V', '65 ': 'S'}, 'fwk3': {'66 ': 'N', '67 ': 'R', '68 ': 'D', '69 ': 'S', '70 ': 'G', '71 ': 'V', '72 ': 'P', '74 ': 'D', '75 ': 'R', '76 ': 'F', '77 ': 'S', '78 ': 'G', '79 ': 'S', '80 ': 'G', '83 ': 'S', '84 ': 'G', '85 ': 'T', '86 ': 'D', '87 ': 'F', '88 ': 'T', '89 ': 'L', '90 ': 'K', '91 ': 'I', '92 ': 'S', '93 ': 'R', '94 ': 'V', '95 ': 'E', '96 ': 'A', '97 ': 'E', '98 ': 'D', '99 ': 'V', '100 ': 'G', '101 ': 'V', '102 ': 'Y', '103 ': 'Y', '104 ': 'C'}, 'cdrk3': {'105 ': 'M', '106 ': 'Q', '107 ': 'G', '108 ': 'T', '109 ': 'H', '113 ': 'W', '114 ': 'P', '115 ': 'P', '116 ': 'L', '117 ': 'T'}, 'fwk4': {'118 ': 'F', '119 ': 'G', '120 ': 'G', '121 ': 'G', '122 ': 'T', '123 ': 'K', '124 ': 'V', '125 ': 'E', '126 ': 'I', '127 ': 'K'}}"
           },
           {
            "count": 3,
            "name": "3 others"
           }
          ],
          "nan_count": 0,
          "unique_count": 5
         }
        },
        {
         "dtype": "object",
         "name": "ANARCI_status_light",
         "stats": {
          "categories": [
           {
            "count": 5,
            "name": "|||||"
           }
          ],
          "nan_count": 0,
          "unique_count": 1
         }
        },
        {
         "dtype": "int64",
         "name": "_deepnote_index_column"
        }
       ],
       "row_count": 5,
       "rows": [
        {
         "ANARCI_numbering_heavy": "{'fwh1': {'1 ': 'E', '2 ': 'I', '3 ': 'Q', '4 ': 'L', '5 ': 'V', '6 ': 'E', '7 ': 'S', '8 ': 'G', '9 ': 'G', '11 ': 'G', '12 ': 'L', '13 ': 'V', '14 ': 'K', '15 ': 'P', '16 ': 'G', '17 ': 'G', '18 ': 'S', '19 ': 'L', '20 ': 'R', '21 ': 'L', '22 ': 'S', '23 ': 'C', '24 ': 'G', '25 ': 'A', '26 ': 'S'}, 'cdrh1': {'27 ': 'G', '28 ': 'F', '29 ': 'T', '30 ': 'F', '35 ': 'S', '36 ': 'Y', '37 ': 'F', '38 ': 'T'}, 'fwh2': {'39 ': 'M', '40 ': 'N', '41 ': 'W', '42 ': 'V', '43 ': 'R', '44 ': 'Q', '45 ': 'A', '46 ': 'P', '47 ': 'G', '48 ': 'K', '49 ': 'G', '50 ': 'L', '51 ': 'E', '52 ': 'W', '53 ': 'V', '54 ': 'S', '55 ': 'S'}, 'cdrh2': {'56 ': 'I', '57 ': 'S', '58 ': 'S', '59 ': 'S', '62 ': 'S', '63 ': 'T', '64 ': 'Y', '65 ': 'I'}, 'fwh3': {'66 ': 'Y', '67 ': 'Y', '68 ': 'A', '69 ': 'D', '70 ': 'S', '71 ': 'G', '72 ': 'R', '74 ': 'G', '75 ': 'R', '76 ': 'F', '77 ': 'T', '78 ': 'I', '79 ': 'S', '80 ': 'R', '81 ': 'D', '82 ': 'N', '83 ': 'A', '84 ': 'N', '85 ': 'N', '86 ': 'S', '87 ': 'L', '88 ': '…",
         "ANARCI_numbering_light": "{'fwk1': {'1 ': 'D', '2 ': 'I', '3 ': 'Q', '4 ': 'V', '5 ': 'T', '6 ': 'Q', '7 ': 'S', '8 ': 'P', '9 ': 'S', '10 ': 'S', '11 ': 'L', '12 ': 'S', '13 ': 'A', '14 ': 'F', '15 ': 'V', '16 ': 'G', '17 ': 'D', '18 ': 'R', '19 ': 'V', '20 ': 'T', '21 ': 'I', '22 ': 'T', '23 ': 'C', '24 ': 'R', '25 ': 'A', '26 ': 'S'}, 'cdrk1': {'27 ': 'E', '28 ': 'S', '29 ': 'I', '36 ': 'N', '37 ': 'M', '38 ': 'Y'}, 'fwk2': {'39 ': 'L', '40 ': 'N', '41 ': 'W', '42 ': 'Y', '43 ': 'Q', '44 ': 'Q', '45 ': 'K', '46 ': 'P', '47 ': 'G', '48 ': 'K', '49 ': 'A', '50 ': 'P', '51 ': 'K', '52 ': 'L', '53 ': 'L', '54 ': 'I', '55 ': 'Y'}, 'cdrk2': {'56 ': 'A', '57 ': 'A', '65 ': 'S'}, 'fwk3': {'66 ': 'S', '67 ': 'L', '68 ': 'Q', '69 ': 'S', '70 ': 'G', '71 ': 'V', '72 ': 'P', '74 ': 'S', '75 ': 'R', '76 ': 'F', '77 ': 'R', '78 ': 'G', '79 ': 'S', '80 ': 'G', '83 ': 'S', '84 ': 'G', '85 ': 'T', '86 ': 'D', '87 ': 'F', '88 ': 'T', '89 ': 'L', '90 ': 'T', '91 ': 'I', '92 ': 'S', '93 ': 'S', '94 ': 'L', '95 ': 'Q', '96 ': '…",
         "ANARCI_status_heavy": "|Deletions: 10, 73||||",
         "ANARCI_status_light": "|||||",
         "Isotype_heavy": "IGHA",
         "Isotype_light": "Bulk",
         "Redundancy_heavy": "1.0",
         "Redundancy_light": "1.0",
         "_deepnote_index_column": "0",
         "c_region_heavy": "GCATCCCCGACCAGCCCCAAGGTCTTCCCGCTGAGCCTCTGCAGCACCCAGCCAGATGGGAACGTGGTCATCGCCTGCCTGGTCCAGGGCTTCTTCCCCCAGGAGCCACTCAGTGTGACCTGGAGCGAAAGCGGACAGGGCGTGACCGCCAGAAACTTCCC",
         "c_region_light": "GAACTGTGGCTGCACCATCTGTCTTCATCTTCCCGCCATCTGATGAGCAGTTGAAATCTGGAACTGCCTCTGTTGTGTGCCTGCTGAATAACTTCTATCCCAGAGAGGCCAAAGTACAGTGGAAGGTGGATAACGC",
         "cdr1_aa_heavy": "GFTFSYFT",
         "cdr1_aa_light": "ESINMY",
         "cdr1_end_heavy": "235.0",
         "cdr1_end_light": "193.0",
         "cdr1_heavy": "GGATTCACTTTCAGTTACTTTACC",
         "cdr1_light": "GAGAGCATTAACATGTAT",
         "cdr1_start_heavy": "212.0",
         "cdr1_start_light": "176.0",
         "cdr2_aa_heavy": "ISSSSTYI",
         "cdr2_aa_light": "AAS",
         "cdr2_end_heavy": "310.0",
         "cdr2_end_light": "253.0",
         "cdr2_heavy": "ATTAGTAGCAGTAGTACTTACATA",
         "cdr2_light": "GCTGCATCC",
         "cdr2_start_heavy": "287.0",
         "cdr2_start_light": "245.0",
         "cdr3_aa_heavy": "ARVSGSAYDERATEGYYFGMDV",
         "cdr3_aa_light": "QQSYTTSWT",
         "cdr3_end_heavy": "490.0",
         "cdr3_end_light": "388.0",
         "cdr3_heavy": "GCGAGAGTCTCCGGAAGTGCCTACGATGAAAGAGCCACCGAGGGCTATTACTTCGGTATGGACGTC",
         "cdr3_light": "CAACAGAGTTACACTACCTCGTGGACG",
         "cdr3_start_heavy": "425.0",
         "cdr3_start_light": "362.0",
         "complete_vdj_heavy": "T",
         "complete_vdj_light": "T",
         "d_alignment_end_heavy": "315.0",
         "d_alignment_end_light": "nan",
         "d_alignment_start_heavy": "304.0",
         "d_alignment_start_light": "nan",
         "d_call_heavy": "IGHD5-12*01",
         "d_call_light": "nan",
         "d_cigar_heavy": "439S8N12M233S3N",
         "d_cigar_light": "nan",
         "d_germline_alignment_aa_heavy": "SGYD",
         "d_germline_alignment_aa_light": "nan",
         "d_germline_alignment_heavy": "AGTGGCTACGAT",
         "d_germline_alignment_light": "nan",
         "d_germline_end_heavy": "20.0",
         "d_germline_end_light": "nan",
         "d_germline_start_heavy": "9.0",
         "d_germline_start_light": "nan",
         "d_identity_heavy": "91.667",
         "d_identity_light": "nan",
         "d_score_heavy": "17.992",
         "d_score_light": "nan",
         "d_sequence_alignment_aa_heavy": "SAYD",
         "d_sequence_alignment_aa_light": "nan",
         "d_sequence_alignment_heavy": "AGTGCCTACGAT",
         "d_sequence_alignment_light": "nan",
         "d_sequence_end_heavy": "451.0",
         "d_sequence_end_light": "nan",
         "d_sequence_start_heavy": "440.0",
         "d_sequence_start_light": "nan",
         "d_support_heavy": "1.179",
         "d_support_light": "nan",
         "fwr1_aa_heavy": "EIQLVESGGGLVKPGGSLRLSCGAS",
         "fwr1_aa_light": "DIQVTQSPSSLSAFVGDRVTITCRAS",
         "fwr1_end_heavy": "211.0",
         "fwr1_end_light": "175.0",
         "fwr1_heavy": "GAGATCCAACTGGTGGAGTCGGGGGGAGGCCTGGTCAAGCCTGGGGGGTCCCTGAGACTCTCCTGTGGAGCCTCT",
         "fwr1_light": "GACATCCAGGTGACCCAGTCTCCATCCTCCCTGTCTGCATTTGTAGGAGACAGAGTCACCATCACTTGCCGGGCAAGT",
         "fwr1_start_heavy": "137.0",
         "fwr1_start_light": "98.0",
         "fwr2_aa_heavy": "MNWVRQAPGKGLEWVSS",
         "fwr2_aa_light": "LNWYQQKPGKAPKLLIY",
         "fwr2_end_heavy": "286.0",
         "fwr2_end_light": "244.0",
         "fwr2_heavy": "ATGAACTGGGTCCGCCAGGCTCCAGGGAAGGGGCTGGAGTGGGTCTCATCC",
         "fwr2_light": "TTAAATTGGTATCAGCAGAAACCAGGGAAAGCCCCTAAGCTCCTGATCTAT",
         "fwr2_start_heavy": "236.0",
         "fwr2_start_light": "194.0",
         "fwr3_aa_heavy": "YYADSGRGRFTISRDNANNSLYLQMNSLRAEDTAIYFC",
         "fwr3_aa_light": "SLQSGVPSRFRGSGSGTDFTLTISSLQTEDIASYFC",
         "fwr3_end_heavy": "424.0",
         "fwr3_end_light": "361.0",
         "fwr3_heavy": "TACTACGCAGACTCAGGGAGGGGCCGATTCACCATTTCCAGAGACAACGCCAATAACTCACTGTATCTACAAATGAACAGCCTGAGAGCCGAGGACACGGCTATATATTTCTGT",
         "fwr3_light": "AGTTTGCAAAGTGGGGTCCCATCAAGGTTCAGAGGCAGTGGATCTGGGACAGATTTCACTCTCACCATCAGCAGTCTGCAAACTGAAGATATTGCAAGTTACTTCTGT",
         "fwr3_start_heavy": "311.0",
         "fwr3_start_light": "254.0",
         "fwr4_aa_heavy": "WGQGTTVTVSS",
         "fwr4_aa_light": "FGQGTKVEIK",
         "fwr4_end_heavy": "523.0",
         "fwr4_end_light": "418.0",
         "fwr4_heavy": "TGGGGCCAAGGGACCACGGTCACCGTCTCCTCA",
         "fwr4_light": "TTCGGCCAAGGGACCAAGGTGGAAATCAAA",
         "fwr4_start_heavy": "491.0",
         "fwr4_start_light": "389.0",
         "germline_alignment_aa_heavy": "EVQLVESGGGLVKPGGSLRLSCAASGFTFSSYSMNWVRQAPGKGLEWVSSISSSSSYIYYADSVKGRFTISRDNAKNSLYLQMNSLRAEDTAVYYCARXXXSGYDXXXXXXYYYGMDVWGQGTTVTVSS",
         "germline_alignment_aa_light": "DIQMTQSPSSLSASVGDRVTITCRASQSISSYLNWYQQKPGKAPKLLIYAASSLQSGVPSRFSGSGSGTDFTLTISSLQPEDFATYYCQQSYSTXWTFGQGTKVEIK",
         "germline_alignment_heavy": "GAGGTGCAACTGGTGGAGTCTGGGGGAGGCCTGGTCAAGCCTGGGGGGTCCCTGAGACTCTCCTGTGCAGCCTCTGGATTCACCTTCAGTAGCTATAGCATGAACTGGGTCCGCCAGGCTCCAGGGAAGGGGCTGGAGTGGGTCTCATCCATTAGTAGTAGTAGTAGTTACATATACTACGCAGACTCAGTGAAGGGCCGATTCACCATCTCCAGAGACAACGCCAAGAACTCACTGTATCTGCAAATGAACAGCCTGAGAGCCGAGGACACGGCTGTGTATTACTGTGCGAGAGNNNNNNNNAGTGGCTACGATNNNNNNNNNNNNNNNNNCTACTACTACGGTATGGACGTCTGGGGCCAAGGGACCACGGTCACCGTCTCCTCA",
         "germline_alignment_light": "GACATCCAGATGACCCAGTCTCCATCCTCCCTGTCTGCATCTGTAGGAGACAGAGTCACCATCACTTGCCGGGCAAGTCAGAGCATTAGCAGCTATTTAAATTGGTATCAGCAGAAACCAGGGAAAGCCCCTAAGCTCCTGATCTATGCTGCATCCAGTTTGCAAAGTGGGGTCCCATCAAGGTTCAGTGGCAGTGGATCTGGGACAGATTTCACTCTCACCATCAGCAGTCTGCAACCTGAAGATTTTGCAACTTACTACTGTCAACAGAGTTACAGTACCNNGTGGACGTTCGGCCAAGGGACCAAGGTGGAAATCAAAC",
         "j_alignment_end_heavy": "387.0",
         "j_alignment_end_light": "322.0",
         "j_alignment_start_heavy": "333.0",
         "j_alignment_start_light": "285.0",
         "j_call_heavy": "IGHJ6*02",
         "j_call_light": "IGKJ1*01",
         "j_cigar_heavy": "468S7N55M161S",
         "j_cigar_light": "381S38M136S",
         "j_germline_alignment_aa_heavy": "YYYGMDVWGQGTTVTVSS",
         "j_germline_alignment_aa_light": "WTFGQGTKVEIK",
         "j_germline_alignment_heavy": "CTACTACTACGGTATGGACGTCTGGGGCCAAGGGACCACGGTCACCGTCTCCTCA",
         "j_germline_alignment_light": "GTGGACGTTCGGCCAAGGGACCAAGGTGGAAATCAAAC",
         "j_germline_end_heavy": "62.0",
         "j_germline_end_light": "38.0",
         "j_germline_start_heavy": "8.0",
         "j_germline_start_light": "1.0",
         "j_identity_heavy": "96.364",
         "j_identity_light": "100.0",
         "j_score_heavy": "94.899",
         "j_score_light": "73.749",
         "j_sequence_alignment_aa_heavy": "YYFGMDVWGQGTTVTVSS",
         "j_sequence_alignment_aa_light": "WTFGQGTKVEIK",
         "j_sequence_alignment_heavy": "CTATTACTTCGGTATGGACGTCTGGGGCCAAGGGACCACGGTCACCGTCTCCTCA",
         "j_sequence_alignment_light": "GTGGACGTTCGGCCAAGGGACCAAGGTGGAAATCAAAC",
         "j_sequence_end_heavy": "523.0",
         "j_sequence_end_light": "419.0",
         "j_sequence_start_heavy": "469.0",
         "j_sequence_start_light": "382.0",
         "j_support_heavy": "1.809e-23",
         "j_support_light": "3.402e-17",
         "junction_aa_heavy": "CARVSGSAYDERATEGYYFGMDVW",
         "junction_aa_length_heavy": "24.0",
         "junction_aa_length_light": "11.0",
         "junction_aa_light": "CQQSYTTSWTF",
         "junction_heavy": "TGTGCGAGAGTCTCCGGAAGTGCCTACGATGAAAGAGCCACCGAGGGCTATTACTTCGGTATGGACGTCTGG",
         "junction_length_heavy": "72.0",
         "junction_length_light": "33.0",
         "junction_light": "TGTCAACAGAGTTACACTACCTCGTGGACGTTC",
         "locus_heavy": "H",
         "locus_light": "K",
         "np1_heavy": "TCTCCGGA",
         "np1_length_heavy": "8.0",
         "np1_length_light": "2.0",
         "np1_light": "TC",
         "np2_heavy": "GAAAGAGCCACCGAGGG",
         "np2_length_heavy": "17.0",
         "np2_length_light": "nan",
         "np2_light": "nan",
         "productive_heavy": "T",
         "productive_light": "T",
         "rev_comp_heavy": "F",
         "rev_comp_light": "F",
         "sequence_alignment_aa_heavy": "EIQLVESGGGLVKPGGSLRLSCGASGFTFSYFTMNWVRQAPGKGLEWVSSISSSSTYIYYADSGRGRFTISRDNANNSLYLQMNSLRAEDTAIYFCARVSGSAYDERATEGYYFGMDVWGQGTTVTVSS",
         "sequence_alignment_aa_light": "DIQVTQSPSSLSAFVGDRVTITCRASESINMYLNWYQQKPGKAPKLLIYAASSLQSGVPSRFRGSGSGTDFTLTISSLQTEDIASYFCQQSYTTSWTFGQGTKVEIK",
         "sequence_alignment_heavy": "GAGATCCAACTGGTGGAGTCGGGGGGAGGCCTGGTCAAGCCTGGGGGGTCCCTGAGACTCTCCTGTGGAGCCTCTGGATTCACTTTCAGTTACTTTACCATGAACTGGGTCCGCCAGGCTCCAGGGAAGGGGCTGGAGTGGGTCTCATCCATTAGTAGCAGTAGTACTTACATATACTACGCAGACTCAGGGAGGGGCCGATTCACCATTTCCAGAGACAACGCCAATAACTCACTGTATCTACAAATGAACAGCCTGAGAGCCGAGGACACGGCTATATATTTCTGTGCGAGAGTCTCCGGAAGTGCCTACGATGAAAGAGCCACCGAGGGCTATTACTTCGGTATGGACGTCTGGGGCCAAGGGACCACGGTCACCGTCTCCTCA",
         "sequence_alignment_light": "GACATCCAGGTGACCCAGTCTCCATCCTCCCTGTCTGCATTTGTAGGAGACAGAGTCACCATCACTTGCCGGGCAAGTGAGAGCATTAACATGTATTTAAATTGGTATCAGCAGAAACCAGGGAAAGCCCCTAAGCTCCTGATCTATGCTGCATCCAGTTTGCAAAGTGGGGTCCCATCAAGGTTCAGAGGCAGTGGATCTGGGACAGATTTCACTCTCACCATCAGCAGTCTGCAAACTGAAGATATTGCAAGTTACTTCTGTCAACAGAGTTACACTACCTCGTGGACGTTCGGCCAAGGGACCAAGGTGGAAATCAAAC",
         "sequence_heavy": "AGCTCTGAGAGAGGAGCCTTAGCCCTGGATTCCAAGGCCTATCCACTTGGTGATCAGCACTGAGCACCGAGGATTCACCATGGAACTGGGGCTCCGCTGGGTTTTCCTTGTTGGTATTTTAGAAGGTGTCCAGTGTGAGATCCAACTGGTGGAGTCGGGGGGAGGCCTGGTCAAGCCTGGGGGGTCCCTGAGACTCTCCTGTGGAGCCTCTGGATTCACTTTCAGTTACTTTACCATGAACTGGGTCCGCCAGGCTCCAGGGAAGGGGCTGGAGTGGGTCTCATCCATTAGTAGCAGTAGTACTTACATATACTACGCAGACTCAGGGAGGGGCCGATTCACCATTTCCAGAGACAACGCCAATAACTCACTGTATCTACAAATGAACAGCCTGAGAGCCGAGGACACGGCTATATATTTCTGTGCGAGAGTCTCCGGAAGTGCCTACGATGAAAGAGCCACCGAGGGCTATTACTTCGGTATGGACGTCTGGGGCCAAGGGACCACGGTCACCGTCTCCTCAGCATCCCCGACCAGCCCCAAGGTCTTCCCGCTGAGCCTCTGCAGCACCCAGCCAGATGGGAACGTGGTCATCGCCTGCCTGGTCCAGGGCTTCTTCCCCCAGGAGCCACTCAGTGTGACCTGGAGCGAAAGCGGACAGGGCGTGACCGCCAGAAACTTCCC",
         "sequence_id_heavy": "GAACGGAAGTAGCCGA-1_contig_1",
         "sequence_id_light": "GAACGGAAGTAGCCGA-1_contig_2",
         "sequence_light": "TGGGAGGAGTCAGTCTCAGTCAGGACACAGCATGGACATGAGGGTCCCCGCTCAGCTCCTGGGGCTCCTGCTACTCTGGCTCCGAGGTGCCAGATGTGACATCCAGGTGACCCAGTCTCCATCCTCCCTGTCTGCATTTGTAGGAGACAGAGTCACCATCACTTGCCGGGCAAGTGAGAGCATTAACATGTATTTAAATTGGTATCAGCAGAAACCAGGGAAAGCCCCTAAGCTCCTGATCTATGCTGCATCCAGTTTGCAAAGTGGGGTCCCATCAAGGTTCAGAGGCAGTGGATCTGGGACAGATTTCACTCTCACCATCAGCAGTCTGCAAACTGAAGATATTGCAAGTTACTTCTGTCAACAGAGTTACACTACCTCGTGGACGTTCGGCCAAGGGACCAAGGTGGAAATCAAACGAACTGTGGCTGCACCATCTGTCTTCATCTTCCCGCCATCTGATGAGCAGTTGAAATCTGGAACTGCCTCTGTTGTGTGCCTGCTGAATAACTTCTATCCCAGAGAGGCCAAAGTACAGTGGAAGGTGGATAACGC",
         "stop_codon_heavy": "F",
         "stop_codon_light": "F",
         "v_alignment_end_heavy": "295.0",
         "v_alignment_end_light": "282.0",
         "v_alignment_start_heavy": "1.0",
         "v_alignment_start_light": "1.0",
         "v_call_heavy": "IGHV3-21*02",
         "v_call_light": "IGKV1-39*01",
         "v_cigar_heavy": "136S295M253S1N",
         "v_cigar_light": "97S282M176S5N",
         "v_frameshift_heavy": "F",
         "v_frameshift_light": "F",
         "v_germline_alignment_aa_heavy": "EVQLVESGGGLVKPGGSLRLSCAASGFTFSSYSMNWVRQAPGKGLEWVSSISSSSSYIYYADSVKGRFTISRDNAKNSLYLQMNSLRAEDTAVYYCAR",
         "v_germline_alignment_aa_light": "DIQMTQSPSSLSASVGDRVTITCRASQSISSYLNWYQQKPGKAPKLLIYAASSLQSGVPSRFSGSGSGTDFTLTISSLQPEDFATYYCQQSYST",
         "v_germline_alignment_heavy": "GAGGTGCAACTGGTGGAGTCTGGGGGAGGCCTGGTCAAGCCTGGGGGGTCCCTGAGACTCTCCTGTGCAGCCTCTGGATTCACCTTCAGTAGCTATAGCATGAACTGGGTCCGCCAGGCTCCAGGGAAGGGGCTGGAGTGGGTCTCATCCATTAGTAGTAGTAGTAGTTACATATACTACGCAGACTCAGTGAAGGGCCGATTCACCATCTCCAGAGACAACGCCAAGAACTCACTGTATCTGCAAATGAACAGCCTGAGAGCCGAGGACACGGCTGTGTATTACTGTGCGAGAG",
         "v_germline_alignment_light": "GACATCCAGATGACCCAGTCTCCATCCTCCCTGTCTGCATCTGTAGGAGACAGAGTCACCATCACTTGCCGGGCAAGTCAGAGCATTAGCAGCTATTTAAATTGGTATCAGCAGAAACCAGGGAAAGCCCCTAAGCTCCTGATCTATGCTGCATCCAGTTTGCAAAGTGGGGTCCCATCAAGGTTCAGTGGCAGTGGATCTGGGACAGATTTCACTCTCACCATCAGCAGTCTGCAACCTGAAGATTTTGCAACTTACTACTGTCAACAGAGTTACAGTACC",
         "v_germline_end_heavy": "295.0",
         "v_germline_end_light": "282.0",
         "v_germline_start_heavy": "1.0",
         "v_germline_start_light": "1.0",
         "v_identity_heavy": "93.559",
         "v_identity_light": "95.745",
         "v_score_heavy": "402.271",
         "v_score_light": "403.829",
         "v_sequence_alignment_aa_heavy": "EIQLVESGGGLVKPGGSLRLSCGASGFTFSYFTMNWVRQAPGKGLEWVSSISSSSTYIYYADSGRGRFTISRDNANNSLYLQMNSLRAEDTAIYFCAR",
         "v_sequence_alignment_aa_light": "DIQVTQSPSSLSAFVGDRVTITCRASESINMYLNWYQQKPGKAPKLLIYAASSLQSGVPSRFRGSGSGTDFTLTISSLQTEDIASYFCQQSYTT",
         "v_sequence_alignment_heavy": "GAGATCCAACTGGTGGAGTCGGGGGGAGGCCTGGTCAAGCCTGGGGGGTCCCTGAGACTCTCCTGTGGAGCCTCTGGATTCACTTTCAGTTACTTTACCATGAACTGGGTCCGCCAGGCTCCAGGGAAGGGGCTGGAGTGGGTCTCATCCATTAGTAGCAGTAGTACTTACATATACTACGCAGACTCAGGGAGGGGCCGATTCACCATTTCCAGAGACAACGCCAATAACTCACTGTATCTACAAATGAACAGCCTGAGAGCCGAGGACACGGCTATATATTTCTGTGCGAGAG",
         "v_sequence_alignment_light": "GACATCCAGGTGACCCAGTCTCCATCCTCCCTGTCTGCATTTGTAGGAGACAGAGTCACCATCACTTGCCGGGCAAGTGAGAGCATTAACATGTATTTAAATTGGTATCAGCAGAAACCAGGGAAAGCCCCTAAGCTCCTGATCTATGCTGCATCCAGTTTGCAAAGTGGGGTCCCATCAAGGTTCAGAGGCAGTGGATCTGGGACAGATTTCACTCTCACCATCAGCAGTCTGCAAACTGAAGATATTGCAAGTTACTTCTGTCAACAGAGTTACACTACC",
         "v_sequence_end_heavy": "431.0",
         "v_sequence_end_light": "379.0",
         "v_sequence_start_heavy": "137.0",
         "v_sequence_start_light": "98.0",
         "v_support_heavy": "6.428e-114",
         "v_support_light": "1.7629999999999998e-114",
         "vj_in_frame_heavy": "T",
         "vj_in_frame_light": "T"
        },
        {
         "ANARCI_numbering_heavy": "{'fwh1': {'1 ': 'Q', '2 ': 'V', '3 ': 'Q', '4 ': 'L', '5 ': 'V', '6 ': 'Q', '7 ': 'S', '8 ': 'G', '9 ': 'A', '11 ': 'E', '12 ': 'V', '13 ': 'K', '14 ': 'K', '15 ': 'P', '16 ': 'G', '17 ': 'A', '18 ': 'S', '19 ': 'V', '20 ': 'K', '21 ': 'V', '22 ': 'S', '23 ': 'C', '24 ': 'K', '25 ': 'A', '26 ': 'S'}, 'cdrh1': {'27 ': 'G', '28 ': 'Y', '29 ': 'T', '30 ': 'F', '35 ': 'T', '36 ': 'S', '37 ': 'Y', '38 ': 'Y'}, 'fwh2': {'39 ': 'M', '40 ': 'H', '41 ': 'W', '42 ': 'V', '43 ': 'R', '44 ': 'Q', '45 ': 'A', '46 ': 'P', '47 ': 'G', '48 ': 'Q', '49 ': 'G', '50 ': 'L', '51 ': 'E', '52 ': 'W', '53 ': 'M', '54 ': 'G', '55 ': 'I'}, 'cdrh2': {'56 ': 'I', '57 ': 'N', '58 ': 'P', '59 ': 'S', '62 ': 'G', '63 ': 'G', '64 ': 'S', '65 ': 'T'}, 'fwh3': {'66 ': 'S', '67 ': 'Y', '68 ': 'A', '69 ': 'Q', '70 ': 'K', '71 ': 'F', '72 ': 'Q', '74 ': 'G', '75 ': 'R', '76 ': 'V', '77 ': 'T', '78 ': 'M', '79 ': 'T', '80 ': 'R', '81 ': 'D', '82 ': 'T', '83 ': 'S', '84 ': 'T', '85 ': 'S', '86 ': 'T', '87 ': 'V', '88 ': '…",
         "ANARCI_numbering_light": "{'fwk1': {'1 ': 'D', '2 ': 'V', '3 ': 'V', '4 ': 'M', '5 ': 'T', '6 ': 'Q', '7 ': 'S', '8 ': 'P', '9 ': 'L', '10 ': 'S', '11 ': 'L', '12 ': 'P', '13 ': 'V', '14 ': 'T', '15 ': 'L', '16 ': 'G', '17 ': 'Q', '18 ': 'P', '19 ': 'A', '20 ': 'S', '21 ': 'I', '22 ': 'S', '23 ': 'C', '24 ': 'R', '25 ': 'S', '26 ': 'S'}, 'cdrk1': {'27 ': 'Q', '28 ': 'S', '29 ': 'L', '30 ': 'V', '31 ': 'Y', '32 ': 'S', '34 ': 'D', '35 ': 'G', '36 ': 'N', '37 ': 'T', '38 ': 'Y'}, 'fwk2': {'39 ': 'L', '40 ': 'N', '41 ': 'W', '42 ': 'F', '43 ': 'Q', '44 ': 'Q', '45 ': 'R', '46 ': 'P', '47 ': 'G', '48 ': 'Q', '49 ': 'S', '50 ': 'P', '51 ': 'R', '52 ': 'R', '53 ': 'L', '54 ': 'I', '55 ': 'Y'}, 'cdrk2': {'56 ': 'K', '57 ': 'V', '65 ': 'S'}, 'fwk3': {'66 ': 'N', '67 ': 'R', '68 ': 'D', '69 ': 'S', '70 ': 'G', '71 ': 'V', '72 ': 'P', '74 ': 'D', '75 ': 'R', '76 ': 'F', '77 ': 'S', '78 ': 'G', '79 ': 'S', '80 ': 'G', '83 ': 'S', '84 ': 'G', '85 ': 'T', '86 ': 'D', '87 ': 'F', '88 ': 'T', '89 ': 'L', '90 ': 'K', '91 ': '…",
         "ANARCI_status_heavy": "|Deletions: 10, 73||||",
         "ANARCI_status_light": "|||||",
         "Isotype_heavy": "IGHM",
         "Isotype_light": "Bulk",
         "Redundancy_heavy": "1.0",
         "Redundancy_light": "1.0",
         "_deepnote_index_column": "1",
         "c_region_heavy": "GGAGTGCATCCGCCCCAACCCTTTTCCCCCTCGTCTCCTGTGAGAATTCCCCGTCGGATACGAGCAGCGTG",
         "c_region_light": "GAACTGTGGCTGCACCATCTGTCTTCATCTTCCCGCCATCTGATGAGCAGTTGAAATCTGGAACTGCCTCTGTTGTGTGCCTGCTGAATAACTTCTATCCCAGAGAGGCCAAAGTACAGTGGAAGGTGGATAACGC",
         "cdr1_aa_heavy": "GYTFTSYY",
         "cdr1_aa_light": "QSLVYSDGNTY",
         "cdr1_end_heavy": "214.0",
         "cdr1_end_light": "209.0",
         "cdr1_heavy": "GGATACACCTTCACCAGCTACTAT",
         "cdr1_light": "CAAAGCCTCGTATACAGTGATGGAAACACCTAC",
         "cdr1_start_heavy": "191.0",
         "cdr1_start_light": "177.0",
         "cdr2_aa_heavy": "INPSGGST",
         "cdr2_aa_light": "KVS",
         "cdr2_end_heavy": "289.0",
         "cdr2_end_light": "269.0",
         "cdr2_heavy": "ATCAACCCTAGTGGTGGTAGCACA",
         "cdr2_light": "AAGGTTTCT",
         "cdr2_start_heavy": "266.0",
         "cdr2_start_light": "261.0",
         "cdr3_aa_heavy": "ACGLSIVGATLDYFDY",
         "cdr3_aa_light": "MQGTHWPPLT",
         "cdr3_end_heavy": "451.0",
         "cdr3_end_light": "407.0",
         "cdr3_heavy": "GCCTGCGGATTAAGTATAGTGGGAGCTACTCTCGATTACTTTGACTAC",
         "cdr3_light": "ATGCAAGGTACACACTGGCCTCCGCTCACT",
         "cdr3_start_heavy": "404.0",
         "cdr3_start_light": "378.0",
         "complete_vdj_heavy": "T",
         "complete_vdj_light": "T",
         "d_alignment_end_heavy": "318.0",
         "d_alignment_end_light": "nan",
         "d_alignment_start_heavy": "302.0",
         "d_alignment_start_light": "nan",
         "d_call_heavy": "IGHD1-26*01",
         "d_call_light": "nan",
         "d_cigar_heavy": "416S1N17M123S2N",
         "d_cigar_light": "nan",
         "d_germline_alignment_aa_heavy": "IVGAT",
         "d_germline_alignment_aa_light": "nan",
         "d_germline_alignment_heavy": "GTATAGTGGGAGCTACT",
         "d_germline_alignment_light": "nan",
         "d_germline_end_heavy": "18.0",
         "d_germline_end_light": "nan",
         "d_germline_start_heavy": "2.0",
         "d_germline_start_light": "nan",
         "d_identity_heavy": "100.0",
         "d_identity_light": "nan",
         "d_score_heavy": "33.373",
         "d_score_light": "nan",
         "d_sequence_alignment_aa_heavy": "IVGAT",
         "d_sequence_alignment_aa_light": "nan",
         "d_sequence_alignment_heavy": "GTATAGTGGGAGCTACT",
         "d_sequence_alignment_light": "nan",
         "d_sequence_end_heavy": "433.0",
         "d_sequence_end_light": "nan",
         "d_sequence_start_heavy": "417.0",
         "d_sequence_start_light": "nan",
         "d_support_heavy": "2.238e-05",
         "d_support_light": "nan",
         "fwr1_aa_heavy": "QVQLVQSGAEVKKPGASVKVSCKAS",
         "fwr1_aa_light": "DVVMTQSPLSLPVTLGQPASISCRSS",
         "fwr1_end_heavy": "190.0",
         "fwr1_end_light": "176.0",
         "fwr1_heavy": "CAGGTGCAGCTGGTGCAGTCTGGGGCTGAGGTGAAGAAGCCTGGGGCCTCAGTGAAGGTTTCCTGCAAGGCATCT",
         "fwr1_light": "GATGTTGTGATGACTCAGTCTCCACTCTCCCTGCCCGTCACCCTTGGACAGCCGGCCTCCATCTCCTGCAGGTCTAGT",
         "fwr1_start_heavy": "116.0",
         "fwr1_start_light": "99.0",
         "fwr2_aa_heavy": "MHWVRQAPGQGLEWMGI",
         "fwr2_aa_light": "LNWFQQRPGQSPRRLIY",
         "fwr2_end_heavy": "265.0",
         "fwr2_end_light": "260.0",
         "fwr2_heavy": "ATGCACTGGGTGCGACAGGCCCCTGGACAAGGGCTTGAGTGGATGGGAATA",
         "fwr2_light": "TTGAATTGGTTTCAGCAGAGGCCAGGCCAATCTCCAAGGCGCCTAATTTAT",
         "fwr2_start_heavy": "215.0",
         "fwr2_start_light": "210.0",
         "fwr3_aa_heavy": "SYAQKFQGRVTMTRDTSTSTVYMELSSLRSEDTAVYYC",
         "fwr3_aa_light": "NRDSGVPDRFSGSGSGTDFTLKISRVEAEDVGVYYC",
         "fwr3_end_heavy": "403.0",
         "fwr3_end_light": "377.0",
         "fwr3_heavy": "AGCTACGCACAGAAGTTCCAGGGCAGAGTCACCATGACCAGGGACACGTCCACGAGCACAGTCTACATGGAGCTGAGCAGCCTGAGATCTGAGGACACGGCCGTGTATTACTGT",
         "fwr3_light": "AACCGGGACTCTGGGGTCCCAGACAGATTCAGCGGCAGTGGGTCAGGCACTGATTTCACACTGAAAATCAGCAGGGTGGAGGCTGAGGATGTTGGGGTTTATTACTGC",
         "fwr3_start_heavy": "290.0",
         "fwr3_start_light": "270.0",
         "fwr4_aa_heavy": "WGQGTLVTVSS",
         "fwr4_aa_light": "FGGGTKVEIK",
         "fwr4_end_heavy": "484.0",
         "fwr4_end_light": "437.0",
         "fwr4_heavy": "TGGGGCCAGGGAACCCTGGTCACCGTCTCCTCA",
         "fwr4_light": "TTCGGCGGAGGGACCAAGGTGGAGATCAAA",
         "fwr4_start_heavy": "452.0",
         "fwr4_start_light": "408.0",
         "germline_alignment_aa_heavy": "QVQLVQSGAEVKKPGASVKVSCKASGYTFTSYYMHWVRQAPGQGLEWMGIINPSGGSTSYAQKFQGRVTMTRDTSTSTVYMELSSLRSEDTAVYYCAXXXXIVGATXXYFDYWGQGTLVTVSS",
         "germline_alignment_aa_light": "DVVMTQSPLSLPVTLGQPASISCRSSQSLVYSDGNTYLNWFQQRPGQSPRRLIYKVSNRDSGVPDRFSGSGSGTDFTLKISRVEAEDVGVYYCMQGTHWPPLTFGGGTKVEIK",
         "germline_alignment_heavy": "CAGGTGCAGCTGGTGCAGTCTGGGGCTGAGGTGAAGAAGCCTGGGGCCTCAGTGAAGGTTTCCTGCAAGGCATCTGGATACACCTTCACCAGCTACTATATGCACTGGGTGCGACAGGCCCCTGGACAAGGGCTTGAGTGGATGGGAATAATCAACCCTAGTGGTGGTAGCACAAGCTACGCACAGAAGTTCCAGGGCAGAGTCACCATGACCAGGGACACGTCCACGAGCACAGTCTACATGGAGCTGAGCAGCCTGAGATCTGAGGACACGGCCGTGTATTACTGTGCNNNNNNNNNNNGTATAGTGGGAGCTACTNNNNNNTACTTTGACTACTGGGGCCAGGGAACCCTGGTCACCGTCTCCTCAG",
         "germline_alignment_light": "GATGTTGTGATGACTCAGTCTCCACTCTCCCTGCCCGTCACCCTTGGACAGCCGGCCTCCATCTCCTGCAGGTCTAGTCAAAGCCTCGTATACAGTGATGGAAACACCTACTTGAATTGGTTTCAGCAGAGGCCAGGCCAATCTCCAAGGCGCCTAATTTATAAGGTTTCTAACCGGGACTCTGGGGTCCCAGACAGATTCAGCGGCAGTGGGTCAGGCACTGATTTCACACTGAAAATCAGCAGGGTGGAGGCTGAGGATGTTGGGGTTTATTACTGCATGCAAGGTACACACTGGCCTCCGCTCACTTTCGGCGGAGGGACCAAGGTGGAGATCAAAC",
         "j_alignment_end_heavy": "370.0",
         "j_alignment_end_light": "340.0",
         "j_alignment_start_heavy": "325.0",
         "j_alignment_start_light": "303.0",
         "j_call_heavy": "IGHJ4*02",
         "j_call_light": "IGKJ4*01",
         "j_cigar_heavy": "439S2N46M71S",
         "j_cigar_light": "400S38M136S",
         "j_germline_alignment_aa_heavy": "YFDYWGQGTLVTVSS",
         "j_germline_alignment_aa_light": "LTFGGGTKVEIK",
         "j_germline_alignment_heavy": "TACTTTGACTACTGGGGCCAGGGAACCCTGGTCACCGTCTCCTCAG",
         "j_germline_alignment_light": "GCTCACTTTCGGCGGAGGGACCAAGGTGGAGATCAAAC",
         "j_germline_end_heavy": "48.0",
         "j_germline_end_light": "38.0",
         "j_germline_start_heavy": "3.0",
         "j_germline_start_light": "1.0",
         "j_identity_heavy": "100.0",
         "j_identity_light": "100.0",
         "j_score_heavy": "89.131",
         "j_score_light": "73.749",
         "j_sequence_alignment_aa_heavy": "YFDYWGQGTLVTVSS",
         "j_sequence_alignment_aa_light": "LTFGGGTKVEIK",
         "j_sequence_alignment_heavy": "TACTTTGACTACTGGGGCCAGGGAACCCTGGTCACCGTCTCCTCAG",
         "j_sequence_alignment_light": "GCTCACTTTCGGCGGAGGGACCAAGGTGGAGATCAAAC",
         "j_sequence_end_heavy": "485.0",
         "j_sequence_end_light": "438.0",
         "j_sequence_start_heavy": "440.0",
         "j_sequence_start_light": "401.0",
         "j_support_heavy": "7.983999999999999e-22",
         "j_support_light": "3.521e-17",
         "junction_aa_heavy": "CACGLSIVGATLDYFDYW",
         "junction_aa_length_heavy": "18.0",
         "junction_aa_length_light": "12.0",
         "junction_aa_light": "CMQGTHWPPLTF",
         "junction_heavy": "TGTGCCTGCGGATTAAGTATAGTGGGAGCTACTCTCGATTACTTTGACTACTGG",
         "junction_length_heavy": "54.0",
         "junction_length_light": "36.0",
         "junction_light": "TGCATGCAAGGTACACACTGGCCTCCGCTCACTTTC",
         "locus_heavy": "H",
         "locus_light": "K",
         "np1_heavy": "CTGCGGATTAA",
         "np1_length_heavy": "11.0",
         "np1_length_light": "0.0",
         "np1_light": "nan",
         "np2_heavy": "CTCGAT",
         "np2_length_heavy": "6.0",
         "np2_length_light": "nan",
         "np2_light": "nan",
         "productive_heavy": "T",
         "productive_light": "T",
         "rev_comp_heavy": "F",
         "rev_comp_light": "F",
         "sequence_alignment_aa_heavy": "QVQLVQSGAEVKKPGASVKVSCKASGYTFTSYYMHWVRQAPGQGLEWMGIINPSGGSTSYAQKFQGRVTMTRDTSTSTVYMELSSLRSEDTAVYYCACGLSIVGATLDYFDYWGQGTLVTVSS",
         "sequence_alignment_aa_light": "DVVMTQSPLSLPVTLGQPASISCRSSQSLVYSDGNTYLNWFQQRPGQSPRRLIYKVSNRDSGVPDRFSGSGSGTDFTLKISRVEAEDVGVYYCMQGTHWPPLTFGGGTKVEIK",
         "sequence_alignment_heavy": "CAGGTGCAGCTGGTGCAGTCTGGGGCTGAGGTGAAGAAGCCTGGGGCCTCAGTGAAGGTTTCCTGCAAGGCATCTGGATACACCTTCACCAGCTACTATATGCACTGGGTGCGACAGGCCCCTGGACAAGGGCTTGAGTGGATGGGAATAATCAACCCTAGTGGTGGTAGCACAAGCTACGCACAGAAGTTCCAGGGCAGAGTCACCATGACCAGGGACACGTCCACGAGCACAGTCTACATGGAGCTGAGCAGCCTGAGATCTGAGGACACGGCCGTGTATTACTGTGCCTGCGGATTAAGTATAGTGGGAGCTACTCTCGATTACTTTGACTACTGGGGCCAGGGAACCCTGGTCACCGTCTCCTCAG",
         "sequence_alignment_light": "GATGTTGTGATGACTCAGTCTCCACTCTCCCTGCCCGTCACCCTTGGACAGCCGGCCTCCATCTCCTGCAGGTCTAGTCAAAGCCTCGTATACAGTGATGGAAACACCTACTTGAATTGGTTTCAGCAGAGGCCAGGCCAATCTCCAAGGCGCCTAATTTATAAGGTTTCTAACCGGGACTCTGGGGTCCCAGACAGATTCAGCGGCAGTGGGTCAGGCACTGATTTCACACTGAAAATCAGCAGGGTGGAGGCTGAGGATGTTGGGGTTTATTACTGCATGCAAGGTACACACTGGCCTCCGCTCACTTTCGGCGGAGGGACCAAGGTGGAGATCAAAC",
         "sequence_heavy": "ATCATCCAACAACCACATCCCTTCTCTACAGAAGCCTCTGAGAGGAAAGTTCTTCACCATGGACTGGACCTGGAGGGTCTTCTGCTTGCTGGCTGTAGCTCCAGGTGCTCACTCCCAGGTGCAGCTGGTGCAGTCTGGGGCTGAGGTGAAGAAGCCTGGGGCCTCAGTGAAGGTTTCCTGCAAGGCATCTGGATACACCTTCACCAGCTACTATATGCACTGGGTGCGACAGGCCCCTGGACAAGGGCTTGAGTGGATGGGAATAATCAACCCTAGTGGTGGTAGCACAAGCTACGCACAGAAGTTCCAGGGCAGAGTCACCATGACCAGGGACACGTCCACGAGCACAGTCTACATGGAGCTGAGCAGCCTGAGATCTGAGGACACGGCCGTGTATTACTGTGCCTGCGGATTAAGTATAGTGGGAGCTACTCTCGATTACTTTGACTACTGGGGCCAGGGAACCCTGGTCACCGTCTCCTCAGGGAGTGCATCCGCCCCAACCCTTTTCCCCCTCGTCTCCTGTGAGAATTCCCCGTCGGATACGAGCAGCGTG",
         "sequence_id_heavy": "TACTTACTCAACACAC-1_contig_1",
         "sequence_id_light": "TACTTACTCAACACAC-1_contig_2",
         "sequence_light": "ATCTGGGGGATCAGGACTCCTCAGTTCACCTTCTCACAATGAGGCTCCCTGCTCAGCTCCTGGGGCTGCTAATGCTCTGGGTCCCAGGATCCAGTGGGGATGTTGTGATGACTCAGTCTCCACTCTCCCTGCCCGTCACCCTTGGACAGCCGGCCTCCATCTCCTGCAGGTCTAGTCAAAGCCTCGTATACAGTGATGGAAACACCTACTTGAATTGGTTTCAGCAGAGGCCAGGCCAATCTCCAAGGCGCCTAATTTATAAGGTTTCTAACCGGGACTCTGGGGTCCCAGACAGATTCAGCGGCAGTGGGTCAGGCACTGATTTCACACTGAAAATCAGCAGGGTGGAGGCTGAGGATGTTGGGGTTTATTACTGCATGCAAGGTACACACTGGCCTCCGCTCACTTTCGGCGGAGGGACCAAGGTGGAGATCAAACGAACTGTGGCTGCACCATCTGTCTTCATCTTCCCGCCATCTGATGAGCAGTTGAAATCTGGAACTGCCTCTGTTGTGTGCCTGCTGAATAACTTCTATCCCAGAGAGGCCAAAGTACAGTGGAAGGTGGATAACGC",
         "stop_codon_heavy": "F",
         "stop_codon_light": "F",
         "v_alignment_end_heavy": "290.0",
         "v_alignment_end_light": "302.0",
         "v_alignment_start_heavy": "1.0",
         "v_alignment_start_light": "1.0",
         "v_call_heavy": "IGHV1-46*01",
         "v_call_light": "IGKV2-30*01",
         "v_cigar_heavy": "115S290M151S6N",
         "v_cigar_light": "98S302M174S",
         "v_frameshift_heavy": "F",
         "v_frameshift_light": "F",
         "v_germline_alignment_aa_heavy": "QVQLVQSGAEVKKPGASVKVSCKASGYTFTSYYMHWVRQAPGQGLEWMGIINPSGGSTSYAQKFQGRVTMTRDTSTSTVYMELSSLRSEDTAVYYCA",
         "v_germline_alignment_aa_light": "DVVMTQSPLSLPVTLGQPASISCRSSQSLVYSDGNTYLNWFQQRPGQSPRRLIYKVSNRDSGVPDRFSGSGSGTDFTLKISRVEAEDVGVYYCMQGTHWPP",
         "v_germline_alignment_heavy": "CAGGTGCAGCTGGTGCAGTCTGGGGCTGAGGTGAAGAAGCCTGGGGCCTCAGTGAAGGTTTCCTGCAAGGCATCTGGATACACCTTCACCAGCTACTATATGCACTGGGTGCGACAGGCCCCTGGACAAGGGCTTGAGTGGATGGGAATAATCAACCCTAGTGGTGGTAGCACAAGCTACGCACAGAAGTTCCAGGGCAGAGTCACCATGACCAGGGACACGTCCACGAGCACAGTCTACATGGAGCTGAGCAGCCTGAGATCTGAGGACACGGCCGTGTATTACTGTGC",
         "v_germline_alignment_light": "GATGTTGTGATGACTCAGTCTCCACTCTCCCTGCCCGTCACCCTTGGACAGCCGGCCTCCATCTCCTGCAGGTCTAGTCAAAGCCTCGTATACAGTGATGGAAACACCTACTTGAATTGGTTTCAGCAGAGGCCAGGCCAATCTCCAAGGCGCCTAATTTATAAGGTTTCTAACCGGGACTCTGGGGTCCCAGACAGATTCAGCGGCAGTGGGTCAGGCACTGATTTCACACTGAAAATCAGCAGGGTGGAGGCTGAGGATGTTGGGGTTTATTACTGCATGCAAGGTACACACTGGCCTCC",
         "v_germline_end_heavy": "290.0",
         "v_germline_end_light": "302.0",
         "v_germline_start_heavy": "1.0",
         "v_germline_start_light": "1.0",
         "v_identity_heavy": "100.0",
         "v_identity_light": "100.0",
         "v_score_heavy": "453.689",
         "v_score_light": "472.386",
         "v_sequence_alignment_aa_heavy": "QVQLVQSGAEVKKPGASVKVSCKASGYTFTSYYMHWVRQAPGQGLEWMGIINPSGGSTSYAQKFQGRVTMTRDTSTSTVYMELSSLRSEDTAVYYCA",
         "v_sequence_alignment_aa_light": "DVVMTQSPLSLPVTLGQPASISCRSSQSLVYSDGNTYLNWFQQRPGQSPRRLIYKVSNRDSGVPDRFSGSGSGTDFTLKISRVEAEDVGVYYCMQGTHWPP",
         "v_sequence_alignment_heavy": "CAGGTGCAGCTGGTGCAGTCTGGGGCTGAGGTGAAGAAGCCTGGGGCCTCAGTGAAGGTTTCCTGCAAGGCATCTGGATACACCTTCACCAGCTACTATATGCACTGGGTGCGACAGGCCCCTGGACAAGGGCTTGAGTGGATGGGAATAATCAACCCTAGTGGTGGTAGCACAAGCTACGCACAGAAGTTCCAGGGCAGAGTCACCATGACCAGGGACACGTCCACGAGCACAGTCTACATGGAGCTGAGCAGCCTGAGATCTGAGGACACGGCCGTGTATTACTGTGC",
         "v_sequence_alignment_light": "GATGTTGTGATGACTCAGTCTCCACTCTCCCTGCCCGTCACCCTTGGACAGCCGGCCTCCATCTCCTGCAGGTCTAGTCAAAGCCTCGTATACAGTGATGGAAACACCTACTTGAATTGGTTTCAGCAGAGGCCAGGCCAATCTCCAAGGCGCCTAATTTATAAGGTTTCTAACCGGGACTCTGGGGTCCCAGACAGATTCAGCGGCAGTGGGTCAGGCACTGATTTCACACTGAAAATCAGCAGGGTGGAGGCTGAGGATGTTGGGGTTTATTACTGCATGCAAGGTACACACTGGCCTCC",
         "v_sequence_end_heavy": "405.0",
         "v_sequence_end_light": "400.0",
         "v_sequence_start_heavy": "116.0",
         "v_sequence_start_light": "99.0",
         "v_support_heavy": "1.729e-129",
         "v_support_light": "4.183e-135",
         "vj_in_frame_heavy": "T",
         "vj_in_frame_light": "T"
        },
        {
         "ANARCI_numbering_heavy": "{'fwh1': {'1 ': 'Q', '2 ': 'V', '3 ': 'Q', '4 ': 'L', '5 ': 'V', '6 ': 'Q', '7 ': 'S', '8 ': 'G', '9 ': 'A', '11 ': 'E', '12 ': 'V', '13 ': 'K', '14 ': 'K', '15 ': 'P', '16 ': 'G', '17 ': 'A', '18 ': 'S', '19 ': 'V', '20 ': 'K', '21 ': 'V', '22 ': 'S', '23 ': 'C', '24 ': 'K', '25 ': 'A', '26 ': 'S'}, 'cdrh1': {'27 ': 'G', '28 ': 'Y', '29 ': 'T', '30 ': 'F', '35 ': 'T', '36 ': 'S', '37 ': 'Y', '38 ': 'A'}, 'fwh2': {'39 ': 'M', '40 ': 'H', '41 ': 'W', '42 ': 'V', '43 ': 'R', '44 ': 'Q', '45 ': 'A', '46 ': 'P', '47 ': 'G', '48 ': 'Q', '49 ': 'R', '50 ': 'L', '51 ': 'E', '52 ': 'W', '53 ': 'M', '54 ': 'G', '55 ': 'W'}, 'cdrh2': {'56 ': 'I', '57 ': 'N', '58 ': 'A', '59 ': 'G', '62 ': 'N', '63 ': 'G', '64 ': 'N', '65 ': 'T'}, 'fwh3': {'66 ': 'K', '67 ': 'Y', '68 ': 'S', '69 ': 'Q', '70 ': 'K', '71 ': 'F', '72 ': 'Q', '74 ': 'G', '75 ': 'R', '76 ': 'V', '77 ': 'T', '78 ': 'I', '79 ': 'T', '80 ': 'R', '81 ': 'D', '82 ': 'T', '83 ': 'S', '84 ': 'A', '85 ': 'S', '86 ': 'T', '87 ': 'A', '88 ': '…",
         "ANARCI_numbering_light": "{'fwk1': {'1 ': 'D', '2 ': 'I', '3 ': 'Q', '4 ': 'M', '5 ': 'T', '6 ': 'Q', '7 ': 'S', '8 ': 'P', '9 ': 'S', '10 ': 'S', '11 ': 'L', '12 ': 'S', '13 ': 'A', '14 ': 'S', '15 ': 'V', '16 ': 'G', '17 ': 'D', '18 ': 'R', '19 ': 'V', '20 ': 'T', '21 ': 'I', '22 ': 'T', '23 ': 'C', '24 ': 'R', '25 ': 'A', '26 ': 'S'}, 'cdrk1': {'27 ': 'Q', '28 ': 'S', '29 ': 'I', '36 ': 'S', '37 ': 'S', '38 ': 'Y'}, 'fwk2': {'39 ': 'L', '40 ': 'N', '41 ': 'W', '42 ': 'Y', '43 ': 'Q', '44 ': 'Q', '45 ': 'K', '46 ': 'P', '47 ': 'G', '48 ': 'K', '49 ': 'A', '50 ': 'P', '51 ': 'K', '52 ': 'V', '53 ': 'L', '54 ': 'I', '55 ': 'Y'}, 'cdrk2': {'56 ': 'A', '57 ': 'A', '65 ': 'S'}, 'fwk3': {'66 ': 'S', '67 ': 'L', '68 ': 'Q', '69 ': 'S', '70 ': 'G', '71 ': 'V', '72 ': 'P', '74 ': 'S', '75 ': 'R', '76 ': 'F', '77 ': 'S', '78 ': 'G', '79 ': 'S', '80 ': 'G', '83 ': 'S', '84 ': 'G', '85 ': 'T', '86 ': 'D', '87 ': 'F', '88 ': 'T', '89 ': 'L', '90 ': 'T', '91 ': 'I', '92 ': 'S', '93 ': 'S', '94 ': 'L', '95 ': 'Q', '96 ': '…",
         "ANARCI_status_heavy": "|Deletions: 10, 73||||",
         "ANARCI_status_light": "|||||",
         "Isotype_heavy": "IGHM",
         "Isotype_light": "Bulk",
         "Redundancy_heavy": "1.0",
         "Redundancy_light": "1.0",
         "_deepnote_index_column": "2",
         "c_region_heavy": "GGAGTGCATCCGCCCCAACCCTTTTCCCCCTCGTCTCCTGTGAGAATTCCCCGTCGGATACGAGCAGCGTG",
         "c_region_light": "GAACTGTGGCTGCACCATCTGTCTTCATCTTCCCGCCATCTGATGAGCAGTTGAAATCTGGAACTGCCTCTGTTGTGTGCCTGCTGAATAACTTCTATCCCAGAGAGGCCAAAGTACAGTGGAAGGTGGATAACGC",
         "cdr1_aa_heavy": "GYTFTSYA",
         "cdr1_aa_light": "QSISSY",
         "cdr1_end_heavy": "198.0",
         "cdr1_end_light": "192.0",
         "cdr1_heavy": "GGATACACCTTCACTAGCTATGCT",
         "cdr1_light": "CAGAGCATTAGCAGCTAT",
         "cdr1_start_heavy": "175.0",
         "cdr1_start_light": "175.0",
         "cdr2_aa_heavy": "INAGNGNT",
         "cdr2_aa_light": "AAS",
         "cdr2_end_heavy": "273.0",
         "cdr2_end_light": "252.0",
         "cdr2_heavy": "ATCAACGCTGGCAATGGTAACACA",
         "cdr2_light": "GCTGCATCC",
         "cdr2_start_heavy": "250.0",
         "cdr2_start_light": "244.0",
         "cdr3_aa_heavy": "AREDTSCYLCFDY",
         "cdr3_aa_light": "QQSYSISFT",
         "cdr3_end_heavy": "426.0",
         "cdr3_end_light": "387.0",
         "cdr3_heavy": "GCGAGAGAGGATACCAGCTGCTATTTATGCTTTGACTAC",
         "cdr3_light": "CAACAGAGTTACAGTATCTCATTCACT",
         "cdr3_start_heavy": "388.0",
         "cdr3_start_light": "361.0",
         "complete_vdj_heavy": "T",
         "complete_vdj_light": "T",
         "d_alignment_end_heavy": "312.0",
         "d_alignment_end_light": "nan",
         "d_alignment_start_heavy": "300.0",
         "d_alignment_start_light": "nan",
         "d_call_heavy": "IGHD2-2*01",
         "d_call_light": "nan",
         "d_cigar_heavy": "398S15N13M120S3N",
         "d_cigar_light": "nan",
         "d_germline_alignment_aa_heavy": "TSCY",
         "d_germline_alignment_aa_light": "nan",
         "d_germline_alignment_heavy": "TACCAGCTGCTAT",
         "d_germline_alignment_light": "nan",
         "d_germline_end_heavy": "28.0",
         "d_germline_end_light": "nan",
         "d_germline_start_heavy": "16.0",
         "d_germline_start_light": "nan",
         "d_identity_heavy": "100.0",
         "d_identity_light": "nan",
         "d_score_heavy": "25.682",
         "d_score_light": "nan",
         "d_sequence_alignment_aa_heavy": "TSCY",
         "d_sequence_alignment_aa_light": "nan",
         "d_sequence_alignment_heavy": "TACCAGCTGCTAT",
         "d_sequence_alignment_light": "nan",
         "d_sequence_end_heavy": "411.0",
         "d_sequence_end_light": "nan",
         "d_sequence_start_heavy": "399.0",
         "d_sequence_start_light": "nan",
         "d_support_heavy": "0.004412",
         "d_support_light": "nan",
         "fwr1_aa_heavy": "QVQLVQSGAEVKKPGASVKVSCKAS",
         "fwr1_aa_light": "DIQMTQSPSSLSASVGDRVTITCRAS",
         "fwr1_end_heavy": "174.0",
         "fwr1_end_light": "174.0",
         "fwr1_heavy": "CAGGTCCAGCTTGTGCAGTCTGGGGCTGAGGTGAAGAAGCCTGGGGCCTCAGTGAAGGTTTCCTGCAAGGCTTCT",
         "fwr1_light": "GACATCCAGATGACCCAGTCTCCATCCTCCCTGTCTGCATCTGTAGGAGACAGAGTCACCATCACTTGCCGGGCAAGT",
         "fwr1_start_heavy": "100.0",
         "fwr1_start_light": "97.0",
         "fwr2_aa_heavy": "MHWVRQAPGQRLEWMGW",
         "fwr2_aa_light": "LNWYQQKPGKAPKVLIY",
         "fwr2_end_heavy": "249.0",
         "fwr2_end_light": "243.0",
         "fwr2_heavy": "ATGCATTGGGTGCGCCAGGCCCCCGGACAAAGGCTTGAGTGGATGGGATGG",
         "fwr2_light": "TTAAATTGGTATCAGCAGAAACCAGGGAAAGCCCCTAAGGTCCTGATCTAT",
         "fwr2_start_heavy": "199.0",
         "fwr2_start_light": "193.0",
         "fwr3_aa_heavy": "KYSQKFQGRVTITRDTSASTAYMELSSLRSEDTAVYYC",
         "fwr3_aa_light": "SLQSGVPSRFSGSGSGTDFTLTISSLQPEDFATYYC",
         "fwr3_end_heavy": "387.0",
         "fwr3_end_light": "360.0",
         "fwr3_heavy": "AAATATTCACAGAAGTTCCAGGGCAGAGTCACCATTACCAGGGACACATCCGCGAGCACAGCCTACATGGAGCTGAGCAGCCTGAGATCTGAAGACACGGCTGTGTATTACTGT",
         "fwr3_light": "AGTTTGCAAAGTGGGGTCCCATCAAGGTTCAGTGGCAGTGGATCTGGGACAGATTTCACTCTCACCATCAGCAGTCTGCAACCTGAAGATTTTGCAACTTACTACTGT",
         "fwr3_start_heavy": "274.0",
         "fwr3_start_light": "253.0",
         "fwr4_aa_heavy": "WGQGTLVTVSS",
         "fwr4_aa_light": "FGPGTKVDIK",
         "fwr4_end_heavy": "459.0",
         "fwr4_end_light": "417.0",
         "fwr4_heavy": "TGGGGCCAGGGAACCCTGGTCACCGTCTCCTCA",
         "fwr4_light": "TTCGGCCCTGGGACCAAAGTGGATATCAAA",
         "fwr4_start_heavy": "427.0",
         "fwr4_start_light": "388.0",
         "germline_alignment_aa_heavy": "QVQLVQSGAEVKKPGASVKVSCKASGYTFTSYAMHWVRQAPGQRLEWMGWINAGNGNTKYSQKFQGRVTITRDTSASTAYMELSSLRSEDTAVYYCARXXTSCYXXFDYWGQGTLVTVSS",
         "germline_alignment_aa_light": "DIQMTQSPSSLSASVGDRVTITCRASQSISSYLNWYQQKPGKAPKLLIYAASSLQSGVPSRFSGSGSGTDFTLTISSLQPEDFATYYCQQSYSXXFTFGPGTKVDIK",
         "germline_alignment_heavy": "CAGGTCCAGCTTGTGCAGTCTGGGGCTGAGGTGAAGAAGCCTGGGGCCTCAGTGAAGGTTTCCTGCAAGGCTTCTGGATACACCTTCACTAGCTATGCTATGCATTGGGTGCGCCAGGCCCCCGGACAAAGGCTTGAGTGGATGGGATGGATCAACGCTGGCAATGGTAACACAAAATATTCACAGAAGTTCCAGGGCAGAGTCACCATTACCAGGGACACATCCGCGAGCACAGCCTACATGGAGCTGAGCAGCCTGAGATCTGAAGACACGGCTGTGTATTACTGTGCGAGAGANNNTACCAGCTGCTATNNNNNCTTTGACTACTGGGGCCAGGGAACCCTGGTCACCGTCTCCTCAG",
         "germline_alignment_light": "GACATCCAGATGACCCAGTCTCCATCCTCCCTGTCTGCATCTGTAGGAGACAGAGTCACCATCACTTGCCGGGCAAGTCAGAGCATTAGCAGCTATTTAAATTGGTATCAGCAGAAACCAGGGAAAGCCCCTAAGCTCCTGATCTATGCTGCATCCAGTTTGCAAAGTGGGGTCCCATCAAGGTTCAGTGGCAGTGGATCTGGGACAGATTTCACTCTCACCATCAGCAGTCTGCAACCTGAAGATTTTGCAACTTACTACTGTCAACAGAGTTACAGTANNNNATTCACTTTCGGCCCTGGGACCAAAGTGGATATCAAAC",
         "j_alignment_end_heavy": "361.0",
         "j_alignment_end_light": "322.0",
         "j_alignment_start_heavy": "318.0",
         "j_alignment_start_light": "285.0",
         "j_call_heavy": "IGHJ4*02",
         "j_call_light": "IGKJ3*01",
         "j_cigar_heavy": "416S4N44M71S",
         "j_cigar_light": "380S38M136S",
         "j_germline_alignment_aa_heavy": "FDYWGQGTLVTVSS",
         "j_germline_alignment_aa_light": "FTFGPGTKVDIK",
         "j_germline_alignment_heavy": "CTTTGACTACTGGGGCCAGGGAACCCTGGTCACCGTCTCCTCAG",
         "j_germline_alignment_light": "ATTCACTTTCGGCCCTGGGACCAAAGTGGATATCAAAC",
         "j_germline_end_heavy": "48.0",
         "j_germline_end_light": "38.0",
         "j_germline_start_heavy": "5.0",
         "j_germline_start_light": "1.0",
         "j_identity_heavy": "100.0",
         "j_identity_light": "100.0",
         "j_score_heavy": "85.286",
         "j_score_light": "73.749",
         "j_sequence_alignment_aa_heavy": "FDYWGQGTLVTVSS",
         "j_sequence_alignment_aa_light": "FTFGPGTKVDIK",
         "j_sequence_alignment_heavy": "CTTTGACTACTGGGGCCAGGGAACCCTGGTCACCGTCTCCTCAG",
         "j_sequence_alignment_light": "ATTCACTTTCGGCCCTGGGACCAAAGTGGATATCAAAC",
         "j_sequence_end_heavy": "460.0",
         "j_sequence_end_light": "418.0",
         "j_sequence_start_heavy": "417.0",
         "j_sequence_start_light": "381.0",
         "j_support_heavy": "1.095e-20",
         "j_support_light": "3.396e-17",
         "junction_aa_heavy": "CAREDTSCYLCFDYW",
         "junction_aa_length_heavy": "15.0",
         "junction_aa_length_light": "11.0",
         "junction_aa_light": "CQQSYSISFTF",
         "junction_heavy": "TGTGCGAGAGAGGATACCAGCTGCTATTTATGCTTTGACTACTGG",
         "junction_length_heavy": "45.0",
         "junction_length_light": "33.0",
         "junction_light": "TGTCAACAGAGTTACAGTATCTCATTCACTTTC",
         "locus_heavy": "H",
         "locus_light": "K",
         "np1_heavy": "GGA",
         "np1_length_heavy": "3.0",
         "np1_length_light": "4.0",
         "np1_light": "TCTC",
         "np2_heavy": "TTATG",
         "np2_length_heavy": "5.0",
         "np2_length_light": "nan",
         "np2_light": "nan",
         "productive_heavy": "T",
         "productive_light": "T",
         "rev_comp_heavy": "F",
         "rev_comp_light": "F",
         "sequence_alignment_aa_heavy": "QVQLVQSGAEVKKPGASVKVSCKASGYTFTSYAMHWVRQAPGQRLEWMGWINAGNGNTKYSQKFQGRVTITRDTSASTAYMELSSLRSEDTAVYYCAREDTSCYLCFDYWGQGTLVTVSS",
         "sequence_alignment_aa_light": "DIQMTQSPSSLSASVGDRVTITCRASQSISSYLNWYQQKPGKAPKVLIYAASSLQSGVPSRFSGSGSGTDFTLTISSLQPEDFATYYCQQSYSISFTFGPGTKVDIK",
         "sequence_alignment_heavy": "CAGGTCCAGCTTGTGCAGTCTGGGGCTGAGGTGAAGAAGCCTGGGGCCTCAGTGAAGGTTTCCTGCAAGGCTTCTGGATACACCTTCACTAGCTATGCTATGCATTGGGTGCGCCAGGCCCCCGGACAAAGGCTTGAGTGGATGGGATGGATCAACGCTGGCAATGGTAACACAAAATATTCACAGAAGTTCCAGGGCAGAGTCACCATTACCAGGGACACATCCGCGAGCACAGCCTACATGGAGCTGAGCAGCCTGAGATCTGAAGACACGGCTGTGTATTACTGTGCGAGAGAGGATACCAGCTGCTATTTATGCTTTGACTACTGGGGCCAGGGAACCCTGGTCACCGTCTCCTCAG",
         "sequence_alignment_light": "GACATCCAGATGACCCAGTCTCCATCCTCCCTGTCTGCATCTGTAGGAGACAGAGTCACCATCACTTGCCGGGCAAGTCAGAGCATTAGCAGCTATTTAAATTGGTATCAGCAGAAACCAGGGAAAGCCCCTAAGGTCCTGATCTATGCTGCATCCAGTTTGCAAAGTGGGGTCCCATCAAGGTTCAGTGGCAGTGGATCTGGGACAGATTTCACTCTCACCATCAGCAGTCTGCAACCTGAAGATTTTGCAACTTACTACTGTCAACAGAGTTACAGTATCTCATTCACTTTCGGCCCTGGGACCAAAGTGGATATCAAAC",
         "sequence_heavy": "CCACATCCCTCCTCAGAAGCCCCCAGAGCACAACGCCTCACCATGGACTGGACCTGGAGGATCCTCTTTTTGGTGGCAGCAGCCACAGGTGCCCACTCCCAGGTCCAGCTTGTGCAGTCTGGGGCTGAGGTGAAGAAGCCTGGGGCCTCAGTGAAGGTTTCCTGCAAGGCTTCTGGATACACCTTCACTAGCTATGCTATGCATTGGGTGCGCCAGGCCCCCGGACAAAGGCTTGAGTGGATGGGATGGATCAACGCTGGCAATGGTAACACAAAATATTCACAGAAGTTCCAGGGCAGAGTCACCATTACCAGGGACACATCCGCGAGCACAGCCTACATGGAGCTGAGCAGCCTGAGATCTGAAGACACGGCTGTGTATTACTGTGCGAGAGAGGATACCAGCTGCTATTTATGCTTTGACTACTGGGGCCAGGGAACCCTGGTCACCGTCTCCTCAGGGAGTGCATCCGCCCCAACCCTTTTCCCCCTCGTCTCCTGTGAGAATTCCCCGTCGGATACGAGCAGCGTG",
         "sequence_id_heavy": "AAGGTTCTCGTAGGAG-1_contig_1",
         "sequence_id_light": "AAGGTTCTCGTAGGAG-1_contig_2",
         "sequence_light": "GGGAGGAGTCAGTCTCAGTCAGGACACAGCATGGACATGAGGGTCCCCGCTCAGCTCCTGGGGCTCCTGCTACTCTGGCTCCGAGGTGCCAGATGTGACATCCAGATGACCCAGTCTCCATCCTCCCTGTCTGCATCTGTAGGAGACAGAGTCACCATCACTTGCCGGGCAAGTCAGAGCATTAGCAGCTATTTAAATTGGTATCAGCAGAAACCAGGGAAAGCCCCTAAGGTCCTGATCTATGCTGCATCCAGTTTGCAAAGTGGGGTCCCATCAAGGTTCAGTGGCAGTGGATCTGGGACAGATTTCACTCTCACCATCAGCAGTCTGCAACCTGAAGATTTTGCAACTTACTACTGTCAACAGAGTTACAGTATCTCATTCACTTTCGGCCCTGGGACCAAAGTGGATATCAAACGAACTGTGGCTGCACCATCTGTCTTCATCTTCCCGCCATCTGATGAGCAGTTGAAATCTGGAACTGCCTCTGTTGTGTGCCTGCTGAATAACTTCTATCCCAGAGAGGCCAAAGTACAGTGGAAGGTGGATAACGC",
         "stop_codon_heavy": "F",
         "stop_codon_light": "F",
         "v_alignment_end_heavy": "296.0",
         "v_alignment_end_light": "280.0",
         "v_alignment_start_heavy": "1.0",
         "v_alignment_start_light": "1.0",
         "v_call_heavy": "IGHV1-3*01",
         "v_call_light": "IGKV1-39*01",
         "v_cigar_heavy": "99S296M136S",
         "v_cigar_light": "96S280M178S7N",
         "v_frameshift_heavy": "F",
         "v_frameshift_light": "F",
         "v_germline_alignment_aa_heavy": "QVQLVQSGAEVKKPGASVKVSCKASGYTFTSYAMHWVRQAPGQRLEWMGWINAGNGNTKYSQKFQGRVTITRDTSASTAYMELSSLRSEDTAVYYCAR",
         "v_germline_alignment_aa_light": "DIQMTQSPSSLSASVGDRVTITCRASQSISSYLNWYQQKPGKAPKLLIYAASSLQSGVPSRFSGSGSGTDFTLTISSLQPEDFATYYCQQSYS",
         "v_germline_alignment_heavy": "CAGGTCCAGCTTGTGCAGTCTGGGGCTGAGGTGAAGAAGCCTGGGGCCTCAGTGAAGGTTTCCTGCAAGGCTTCTGGATACACCTTCACTAGCTATGCTATGCATTGGGTGCGCCAGGCCCCCGGACAAAGGCTTGAGTGGATGGGATGGATCAACGCTGGCAATGGTAACACAAAATATTCACAGAAGTTCCAGGGCAGAGTCACCATTACCAGGGACACATCCGCGAGCACAGCCTACATGGAGCTGAGCAGCCTGAGATCTGAAGACACGGCTGTGTATTACTGTGCGAGAGA",
         "v_germline_alignment_light": "GACATCCAGATGACCCAGTCTCCATCCTCCCTGTCTGCATCTGTAGGAGACAGAGTCACCATCACTTGCCGGGCAAGTCAGAGCATTAGCAGCTATTTAAATTGGTATCAGCAGAAACCAGGGAAAGCCCCTAAGCTCCTGATCTATGCTGCATCCAGTTTGCAAAGTGGGGTCCCATCAAGGTTCAGTGGCAGTGGATCTGGGACAGATTTCACTCTCACCATCAGCAGTCTGCAACCTGAAGATTTTGCAACTTACTACTGTCAACAGAGTTACAGTA",
         "v_germline_end_heavy": "296.0",
         "v_germline_end_light": "280.0",
         "v_germline_start_heavy": "1.0",
         "v_germline_start_light": "1.0",
         "v_identity_heavy": "100.0",
         "v_identity_light": "99.643",
         "v_score_heavy": "463.037",
         "v_score_light": "434.991",
         "v_sequence_alignment_aa_heavy": "QVQLVQSGAEVKKPGASVKVSCKASGYTFTSYAMHWVRQAPGQRLEWMGWINAGNGNTKYSQKFQGRVTITRDTSASTAYMELSSLRSEDTAVYYCAR",
         "v_sequence_alignment_aa_light": "DIQMTQSPSSLSASVGDRVTITCRASQSISSYLNWYQQKPGKAPKVLIYAASSLQSGVPSRFSGSGSGTDFTLTISSLQPEDFATYYCQQSYS",
         "v_sequence_alignment_heavy": "CAGGTCCAGCTTGTGCAGTCTGGGGCTGAGGTGAAGAAGCCTGGGGCCTCAGTGAAGGTTTCCTGCAAGGCTTCTGGATACACCTTCACTAGCTATGCTATGCATTGGGTGCGCCAGGCCCCCGGACAAAGGCTTGAGTGGATGGGATGGATCAACGCTGGCAATGGTAACACAAAATATTCACAGAAGTTCCAGGGCAGAGTCACCATTACCAGGGACACATCCGCGAGCACAGCCTACATGGAGCTGAGCAGCCTGAGATCTGAAGACACGGCTGTGTATTACTGTGCGAGAGA",
         "v_sequence_alignment_light": "GACATCCAGATGACCCAGTCTCCATCCTCCCTGTCTGCATCTGTAGGAGACAGAGTCACCATCACTTGCCGGGCAAGTCAGAGCATTAGCAGCTATTTAAATTGGTATCAGCAGAAACCAGGGAAAGCCCCTAAGGTCCTGATCTATGCTGCATCCAGTTTGCAAAGTGGGGTCCCATCAAGGTTCAGTGGCAGTGGATCTGGGACAGATTTCACTCTCACCATCAGCAGTCTGCAACCTGAAGATTTTGCAACTTACTACTGTCAACAGAGTTACAGTA",
         "v_sequence_end_heavy": "395.0",
         "v_sequence_end_light": "376.0",
         "v_sequence_start_heavy": "100.0",
         "v_sequence_start_light": "97.0",
         "v_support_heavy": "2.527e-132",
         "v_support_light": "7.322000000000001e-124",
         "vj_in_frame_heavy": "T",
         "vj_in_frame_light": "T"
        },
        {
         "ANARCI_numbering_heavy": "{'fwh1': {'1 ': 'E', '2 ': 'V', '3 ': 'Q', '4 ': 'L', '5 ': 'V', '6 ': 'E', '7 ': 'S', '8 ': 'G', '9 ': 'G', '11 ': 'G', '12 ': 'L', '13 ': 'V', '14 ': 'Q', '15 ': 'P', '16 ': 'G', '17 ': 'E', '18 ': 'S', '19 ': 'M', '20 ': 'R', '21 ': 'L', '22 ': 'S', '23 ': 'C', '24 ': 'A', '25 ': 'A', '26 ': 'S'}, 'cdrh1': {'27 ': 'G', '28 ': 'F', '29 ': 'A', '30 ': 'F', '35 ': 'S', '36 ': 'D', '37 ': 'A', '38 ': 'W'}, 'fwh2': {'39 ': 'M', '40 ': 'T', '41 ': 'W', '42 ': 'V', '43 ': 'R', '44 ': 'Q', '45 ': 'A', '46 ': 'P', '47 ': 'G', '48 ': 'K', '49 ': 'G', '50 ': 'L', '51 ': 'E', '52 ': 'W', '53 ': 'V', '54 ': 'A', '55 ': 'N'}, 'cdrh2': {'56 ': 'I', '57 ': 'K', '58 ': 'A', '59 ': 'D', '62 ': 'G', '63 ': 'S', '64 ': 'K', '65 ': 'K'}, 'fwh3': {'66 ': 'D', '67 ': 'Y', '68 ': 'V', '69 ': 'E', '70 ': 'S', '71 ': 'V', '72 ': 'K', '74 ': 'G', '75 ': 'R', '76 ': 'F', '77 ': 'T', '78 ': 'I', '79 ': 'S', '80 ': 'R', '81 ': 'D', '82 ': 'N', '83 ': 'T', '84 ': 'K', '85 ': 'N', '86 ': 'S', '87 ': 'L', '88 ': '…",
         "ANARCI_numbering_light": "{'fwk1': {'1 ': 'D', '2 ': 'I', '3 ': 'V', '4 ': 'M', '5 ': 'T', '6 ': 'Q', '7 ': 'S', '8 ': 'P', '9 ': 'D', '10 ': 'S', '11 ': 'L', '12 ': 'A', '13 ': 'V', '14 ': 'S', '15 ': 'L', '16 ': 'G', '17 ': 'E', '18 ': 'R', '19 ': 'A', '20 ': 'T', '21 ': 'I', '22 ': 'N', '23 ': 'C', '24 ': 'K', '25 ': 'S', '26 ': 'S'}, 'cdrk1': {'27 ': 'Q', '28 ': 'S', '29 ': 'L', '30 ': 'L', '31 ': 'Y', '32 ': 'S', '33 ': 'S', '34 ': 'N', '35 ': 'E', '36 ': 'K', '37 ': 'N', '38 ': 'Y'}, 'fwk2': {'39 ': 'L', '40 ': 'A', '41 ': 'W', '42 ': 'Y', '43 ': 'Q', '44 ': 'Q', '45 ': 'K', '46 ': 'P', '47 ': 'G', '48 ': 'Q', '49 ': 'P', '50 ': 'P', '51 ': 'K', '52 ': 'L', '53 ': 'L', '54 ': 'I', '55 ': 'Y'}, 'cdrk2': {'56 ': 'W', '57 ': 'A', '65 ': 'S'}, 'fwk3': {'66 ': 'T', '67 ': 'R', '68 ': 'E', '69 ': 'S', '70 ': 'G', '71 ': 'V', '72 ': 'P', '74 ': 'D', '75 ': 'R', '76 ': 'F', '77 ': 'S', '78 ': 'G', '79 ': 'S', '80 ': 'G', '83 ': 'S', '84 ': 'G', '85 ': 'T', '86 ': 'D', '87 ': 'F', '88 ': 'T', '89 ': 'L', '90 ': '…",
         "ANARCI_status_heavy": "|Deletions: 10, 73||||",
         "ANARCI_status_light": "|||||",
         "Isotype_heavy": "IGHM",
         "Isotype_light": "Bulk",
         "Redundancy_heavy": "1.0",
         "Redundancy_light": "1.0",
         "_deepnote_index_column": "3",
         "c_region_heavy": "GGAGTGCATCCGCCCCAACCCTTTTCCCCCTCGTCTCCTGTGAGAATTCCCCGTCGGATACGAGCAGCGTG",
         "c_region_light": "GAACTGTGGCTGCACCATCTGTCTTCATCTTCCCGCCATCTGATGAGCAGTTGAAATCTGGAACTGCCTCTGTTGTGTGCCTGCTGAATAACTTCTATCCCAGAGAGGCCAAAGTACAGTGGAAGGTGGATAACGC",
         "cdr1_aa_heavy": "GFAFSDAW",
         "cdr1_aa_light": "QSLLYSSNEKNY",
         "cdr1_end_heavy": "235.0",
         "cdr1_end_light": "204.0",
         "cdr1_heavy": "GGATTCGCCTTCAGTGACGCTTGG",
         "cdr1_light": "CAGAGTCTTTTATACAGCTCCAACGAGAAGAACTAC",
         "cdr1_start_heavy": "212.0",
         "cdr1_start_light": "169.0",
         "cdr2_aa_heavy": "IKADGSKK",
         "cdr2_aa_light": "WAS",
         "cdr2_end_heavy": "310.0",
         "cdr2_end_light": "264.0",
         "cdr2_heavy": "ATAAAGGCAGATGGAAGTAAGAAG",
         "cdr2_light": "TGGGCATCT",
         "cdr2_start_heavy": "287.0",
         "cdr2_start_light": "256.0",
         "cdr3_aa_heavy": "ARDGRGAGSTYYWFDP",
         "cdr3_aa_light": "QQYYATPLT",
         "cdr3_end_heavy": "472.0",
         "cdr3_end_light": "399.0",
         "cdr3_heavy": "GCGAGAGATGGAAGGGGGGCGGGCAGCACCTACTACTGGTTCGACCCC",
         "cdr3_light": "CAGCAATATTATGCTACTCCTCTGACC",
         "cdr3_start_heavy": "425.0",
         "cdr3_start_light": "373.0",
         "complete_vdj_heavy": "T",
         "complete_vdj_light": "T",
         "d_alignment_end_heavy": "316.0",
         "d_alignment_end_light": "nan",
         "d_alignment_start_heavy": "311.0",
         "d_alignment_start_light": "nan",
         "d_call_heavy": "IGHD6-13*01",
         "d_call_light": "nan",
         "d_cigar_heavy": "446S7N6M125S8N",
         "d_cigar_light": "nan",
         "d_germline_alignment_aa_heavy": "S",
         "d_germline_alignment_aa_light": "nan",
         "d_germline_alignment_heavy": "GCAGCA",
         "d_germline_alignment_light": "nan",
         "d_germline_end_heavy": "13.0",
         "d_germline_end_light": "nan",
         "d_germline_start_heavy": "8.0",
         "d_germline_start_light": "nan",
         "d_identity_heavy": "100.0",
         "d_identity_light": "nan",
         "d_score_heavy": "12.223",
         "d_score_light": "nan",
         "d_sequence_alignment_aa_heavy": "S",
         "d_sequence_alignment_aa_light": "nan",
         "d_sequence_alignment_heavy": "GCAGCA",
         "d_sequence_alignment_light": "nan",
         "d_sequence_end_heavy": "452.0",
         "d_sequence_end_light": "nan",
         "d_sequence_start_heavy": "447.0",
         "d_sequence_start_light": "nan",
         "d_support_heavy": "54.06",
         "d_support_light": "nan",
         "fwr1_aa_heavy": "EVQLVESGGGLVQPGESMRLSCAAS",
         "fwr1_aa_light": "DIVMTQSPDSLAVSLGERATINCKSS",
         "fwr1_end_heavy": "211.0",
         "fwr1_end_light": "168.0",
         "fwr1_heavy": "GAGGTGCAACTGGTAGAGTCGGGGGGAGGCTTGGTCCAGCCTGGGGAGTCCATGAGGCTCTCCTGTGCAGCCTCT",
         "fwr1_light": "GACATCGTGATGACCCAGTCTCCAGACTCCCTGGCTGTGTCTCTGGGCGAGAGGGCCACCATCAACTGCAAGTCCAGC",
         "fwr1_start_heavy": "137.0",
         "fwr1_start_light": "91.0",
         "fwr2_aa_heavy": "MTWVRQAPGKGLEWVAN",
         "fwr2_aa_light": "LAWYQQKPGQPPKLLIY",
         "fwr2_end_heavy": "286.0",
         "fwr2_end_light": "255.0",
         "fwr2_heavy": "ATGACCTGGGTCCGCCAGGCTCCAGGGAAGGGACTGGAGTGGGTGGCCAAT",
         "fwr2_light": "TTAGCTTGGTACCAACAGAAGCCAGGACAGCCTCCTAAGTTGCTCATTTAC",
         "fwr2_start_heavy": "236.0",
         "fwr2_start_light": "205.0",
         "fwr3_aa_heavy": "DYVESVKGRFTISRDNTKNSLYLQMDSLRAEDTAVYYC",
         "fwr3_aa_light": "TRESGVPDRFSGSGSGTDFTLTISSLQAEDVAVYFC",
         "fwr3_end_heavy": "424.0",
         "fwr3_end_light": "372.0",
         "fwr3_heavy": "GACTATGTGGAATCTGTGAAGGGTCGATTCACCATCTCCAGAGACAACACCAAGAACTCACTATATCTGCAAATGGACAGCCTGAGAGCCGAAGACACGGCCGTCTATTACTGT",
         "fwr3_light": "ACCCGGGAGTCCGGGGTCCCTGACCGATTCAGTGGCAGCGGGTCTGGGACAGATTTCACTCTCACCATCAGCAGCCTGCAGGCTGAAGATGTGGCGGTTTATTTCTGT",
         "fwr3_start_heavy": "311.0",
         "fwr3_start_light": "265.0",
         "fwr4_aa_heavy": "WGQGTLVTVSS",
         "fwr4_aa_light": "FGQGTKVEIK",
         "fwr4_end_heavy": "505.0",
         "fwr4_end_light": "429.0",
         "fwr4_heavy": "TGGGGCCAGGGAACCCTGGTCACTGTCTCCTCA",
         "fwr4_light": "TTCGGCCAAGGGACCAAGGTGGAAATCAAA",
         "fwr4_start_heavy": "473.0",
         "fwr4_start_light": "400.0",
         "germline_alignment_aa_heavy": "EVQLVESGGGLVQPGGSLRLSCAASGFTFSSYWMSWVRQAPGKGLEWVANIKQDGSEKYYVDSVKGRFTISRDNAKNSLYLQMNSLRAEDTAVYYCARXXXXXXSXXXWFDPWGQGTLVTVSS",
         "germline_alignment_aa_light": "DIVMTQSPDSLAVSLGERATINCKSSQSVLYSSNNKNYLAWYQQKPGQPPKLLIYWASTRESGVPDRFSGSGSGTDFTLTISSLQAEDVAVYYCQQYYSTPXTFGQGTKVEIK",
         "germline_alignment_heavy": "GAGGTGCAGCTGGTGGAGTCTGGGGGAGGCTTGGTCCAGCCTGGGGGGTCCCTGAGACTCTCCTGTGCAGCCTCTGGATTCACCTTTAGTAGCTATTGGATGAGCTGGGTCCGCCAGGCTCCAGGGAAGGGGCTGGAGTGGGTGGCCAACATAAAGCAAGATGGAAGTGAGAAATACTATGTGGACTCTGTGAAGGGCCGATTCACCATCTCCAGAGACAACGCCAAGAACTCACTGTATCTGCAAATGAACAGCCTGAGAGCCGAGGACACGGCCGTGTATTACTGTGCGAGAGANNNNNNNNNNNNNNGCAGCANNNNNNACTGGTTCGACCCCTGGGGCCAGGGAACCCTGGTCACCGTCTCCTCAG",
         "germline_alignment_light": "GACATCGTGATGACCCAGTCTCCAGACTCCCTGGCTGTGTCTCTGGGCGAGAGGGCCACCATCAACTGCAAGTCCAGCCAGAGTGTTTTATACAGCTCCAACAATAAGAACTACTTAGCTTGGTACCAGCAGAAACCAGGACAGCCTCCTAAGCTGCTCATTTACTGGGCATCTACCCGGGAATCCGGGGTCCCTGACCGATTCAGTGGCAGCGGGTCTGGGACAGATTTCACTCTCACCATCAGCAGCCTGCAGGCTGAAGATGTGGCAGTTTATTACTGTCAGCAATATTATAGTACTCCTCNGACGTTCGGCCAAGGGACCAAGGTGGAAATCAAAC",
         "j_alignment_end_heavy": "370.0",
         "j_alignment_end_light": "340.0",
         "j_alignment_start_heavy": "323.0",
         "j_alignment_start_light": "306.0",
         "j_call_heavy": "IGHJ5*02",
         "j_call_light": "IGKJ1*01",
         "j_cigar_heavy": "458S3N48M71S",
         "j_cigar_light": "395S3N35M136S",
         "j_germline_alignment_aa_heavy": "WFDPWGQGTLVTVSS",
         "j_germline_alignment_aa_light": "TFGQGTKVEIK",
         "j_germline_alignment_heavy": "ACTGGTTCGACCCCTGGGGCCAGGGAACCCTGGTCACCGTCTCCTCAG",
         "j_germline_alignment_light": "GACGTTCGGCCAAGGGACCAAGGTGGAAATCAAAC",
         "j_germline_end_heavy": "51.0",
         "j_germline_end_light": "38.0",
         "j_germline_start_heavy": "4.0",
         "j_germline_start_light": "4.0",
         "j_identity_heavy": "97.917",
         "j_identity_light": "97.143",
         "j_score_heavy": "87.208",
         "j_score_light": "62.213",
         "j_sequence_alignment_aa_heavy": "WFDPWGQGTLVTVSS",
         "j_sequence_alignment_aa_light": "TFGQGTKVEIK",
         "j_sequence_alignment_heavy": "ACTGGTTCGACCCCTGGGGCCAGGGAACCCTGGTCACTGTCTCCTCAG",
         "j_sequence_alignment_light": "GACCTTCGGCCAAGGGACCAAGGTGGAAATCAAAC",
         "j_sequence_end_heavy": "506.0",
         "j_sequence_end_light": "430.0",
         "j_sequence_start_heavy": "459.0",
         "j_sequence_start_light": "396.0",
         "j_support_heavy": "3.144e-21",
         "j_support_light": "1.031e-13",
         "junction_aa_heavy": "CARDGRGAGSTYYWFDPW",
         "junction_aa_length_heavy": "18.0",
         "junction_aa_length_light": "11.0",
         "junction_aa_light": "CQQYYATPLTF",
         "junction_heavy": "TGTGCGAGAGATGGAAGGGGGGCGGGCAGCACCTACTACTGGTTCGACCCCTGG",
         "junction_length_heavy": "54.0",
         "junction_length_light": "33.0",
         "junction_light": "TGTCAGCAATATTATGCTACTCCTCTGACCTTC",
         "locus_heavy": "H",
         "locus_light": "K",
         "np1_heavy": "TGGAAGGGGGGCGG",
         "np1_length_heavy": "14.0",
         "np1_length_light": "1.0",
         "np1_light": "T",
         "np2_heavy": "CCTACT",
         "np2_length_heavy": "6.0",
         "np2_length_light": "nan",
         "np2_light": "nan",
         "productive_heavy": "T",
         "productive_light": "T",
         "rev_comp_heavy": "F",
         "rev_comp_light": "F",
         "sequence_alignment_aa_heavy": "EVQLVESGGGLVQPGESMRLSCAASGFAFSDAWMTWVRQAPGKGLEWVANIKADGSKKDYVESVKGRFTISRDNTKNSLYLQMDSLRAEDTAVYYCARDGRGAGSTYYWFDPWGQGTLVTVSS",
         "sequence_alignment_aa_light": "DIVMTQSPDSLAVSLGERATINCKSSQSLLYSSNEKNYLAWYQQKPGQPPKLLIYWASTRESGVPDRFSGSGSGTDFTLTISSLQAEDVAVYFCQQYYATPLTFGQGTKVEIK",
         "sequence_alignment_heavy": "GAGGTGCAACTGGTAGAGTCGGGGGGAGGCTTGGTCCAGCCTGGGGAGTCCATGAGGCTCTCCTGTGCAGCCTCTGGATTCGCCTTCAGTGACGCTTGGATGACCTGGGTCCGCCAGGCTCCAGGGAAGGGACTGGAGTGGGTGGCCAATATAAAGGCAGATGGAAGTAAGAAGGACTATGTGGAATCTGTGAAGGGTCGATTCACCATCTCCAGAGACAACACCAAGAACTCACTATATCTGCAAATGGACAGCCTGAGAGCCGAAGACACGGCCGTCTATTACTGTGCGAGAGATGGAAGGGGGGCGGGCAGCACCTACTACTGGTTCGACCCCTGGGGCCAGGGAACCCTGGTCACTGTCTCCTCAG",
         "sequence_alignment_light": "GACATCGTGATGACCCAGTCTCCAGACTCCCTGGCTGTGTCTCTGGGCGAGAGGGCCACCATCAACTGCAAGTCCAGCCAGAGTCTTTTATACAGCTCCAACGAGAAGAACTACTTAGCTTGGTACCAACAGAAGCCAGGACAGCCTCCTAAGTTGCTCATTTACTGGGCATCTACCCGGGAGTCCGGGGTCCCTGACCGATTCAGTGGCAGCGGGTCTGGGACAGATTTCACTCTCACCATCAGCAGCCTGCAGGCTGAAGATGTGGCGGTTTATTTCTGTCAGCAATATTATGCTACTCCTCTGACCTTCGGCCAAGGGACCAAGGTGGAAATCAAAC",
         "sequence_heavy": "AGGTCTCAGAGAGGAGCCTTAGCCCTGGACTCCAAGGCCTTTCCACTTGGTGATCAGCACTGAGCACAGAGGACTCACCATGGAGTTGGGGCTGAGCTGGGTTTTCCTTGTTGCTATTTTAGAAGGTGTCCAGTGTGAGGTGCAACTGGTAGAGTCGGGGGGAGGCTTGGTCCAGCCTGGGGAGTCCATGAGGCTCTCCTGTGCAGCCTCTGGATTCGCCTTCAGTGACGCTTGGATGACCTGGGTCCGCCAGGCTCCAGGGAAGGGACTGGAGTGGGTGGCCAATATAAAGGCAGATGGAAGTAAGAAGGACTATGTGGAATCTGTGAAGGGTCGATTCACCATCTCCAGAGACAACACCAAGAACTCACTATATCTGCAAATGGACAGCCTGAGAGCCGAAGACACGGCCGTCTATTACTGTGCGAGAGATGGAAGGGGGGCGGGCAGCACCTACTACTGGTTCGACCCCTGGGGCCAGGGAACCCTGGTCACTGTCTCCTCAGGGAGTGCATCCGCCCCAACCCTTTTCCCCCTCGTCTCCTGTGAGAATTCCCCGTCGGATACGAGCAGCGTG",
         "sequence_id_heavy": "CGTGTAATCCAAATGC-1_contig_2",
         "sequence_id_light": "CGTGTAATCCAAATGC-1_contig_1",
         "sequence_light": "GAGCTACAACAGGCAGGCAGGGGCAGCAAGATGGTGTTGCTGACCCAGGTCTTCATTTCTCTGTTGCTCTGGATTTCTGGTGCCGACGGGGACATCGTGATGACCCAGTCTCCAGACTCCCTGGCTGTGTCTCTGGGCGAGAGGGCCACCATCAACTGCAAGTCCAGCCAGAGTCTTTTATACAGCTCCAACGAGAAGAACTACTTAGCTTGGTACCAACAGAAGCCAGGACAGCCTCCTAAGTTGCTCATTTACTGGGCATCTACCCGGGAGTCCGGGGTCCCTGACCGATTCAGTGGCAGCGGGTCTGGGACAGATTTCACTCTCACCATCAGCAGCCTGCAGGCTGAAGATGTGGCGGTTTATTTCTGTCAGCAATATTATGCTACTCCTCTGACCTTCGGCCAAGGGACCAAGGTGGAAATCAAACGAACTGTGGCTGCACCATCTGTCTTCATCTTCCCGCCATCTGATGAGCAGTTGAAATCTGGAACTGCCTCTGTTGTGTGCCTGCTGAATAACTTCTATCCCAGAGAGGCCAAAGTACAGTGGAAGGTGGATAACGC",
         "stop_codon_heavy": "F",
         "stop_codon_light": "F",
         "v_alignment_end_heavy": "296.0",
         "v_alignment_end_light": "304.0",
         "v_alignment_start_heavy": "1.0",
         "v_alignment_start_light": "1.0",
         "v_call_heavy": "IGHV3-7*03",
         "v_call_light": "IGKV4-1*01",
         "v_cigar_heavy": "136S296M145S",
         "v_cigar_light": "90S304M172S1N",
         "v_frameshift_heavy": "F",
         "v_frameshift_light": "F",
         "v_germline_alignment_aa_heavy": "EVQLVESGGGLVQPGGSLRLSCAASGFTFSSYWMSWVRQAPGKGLEWVANIKQDGSEKYYVDSVKGRFTISRDNAKNSLYLQMNSLRAEDTAVYYCAR",
         "v_germline_alignment_aa_light": "DIVMTQSPDSLAVSLGERATINCKSSQSVLYSSNNKNYLAWYQQKPGQPPKLLIYWASTRESGVPDRFSGSGSGTDFTLTISSLQAEDVAVYYCQQYYSTP",
         "v_germline_alignment_heavy": "GAGGTGCAGCTGGTGGAGTCTGGGGGAGGCTTGGTCCAGCCTGGGGGGTCCCTGAGACTCTCCTGTGCAGCCTCTGGATTCACCTTTAGTAGCTATTGGATGAGCTGGGTCCGCCAGGCTCCAGGGAAGGGGCTGGAGTGGGTGGCCAACATAAAGCAAGATGGAAGTGAGAAATACTATGTGGACTCTGTGAAGGGCCGATTCACCATCTCCAGAGACAACGCCAAGAACTCACTGTATCTGCAAATGAACAGCCTGAGAGCCGAGGACACGGCCGTGTATTACTGTGCGAGAGA",
         "v_germline_alignment_light": "GACATCGTGATGACCCAGTCTCCAGACTCCCTGGCTGTGTCTCTGGGCGAGAGGGCCACCATCAACTGCAAGTCCAGCCAGAGTGTTTTATACAGCTCCAACAATAAGAACTACTTAGCTTGGTACCAGCAGAAACCAGGACAGCCTCCTAAGCTGCTCATTTACTGGGCATCTACCCGGGAATCCGGGGTCCCTGACCGATTCAGTGGCAGCGGGTCTGGGACAGATTTCACTCTCACCATCAGCAGCCTGCAGGCTGAAGATGTGGCAGTTTATTACTGTCAGCAATATTATAGTACTCCTC",
         "v_germline_end_heavy": "296.0",
         "v_germline_end_light": "304.0",
         "v_germline_start_heavy": "1.0",
         "v_germline_start_light": "1.0",
         "v_identity_heavy": "90.878",
         "v_identity_light": "96.382",
         "v_score_heavy": "378.899",
         "v_score_light": "441.224",
         "v_sequence_alignment_aa_heavy": "EVQLVESGGGLVQPGESMRLSCAASGFAFSDAWMTWVRQAPGKGLEWVANIKADGSKKDYVESVKGRFTISRDNTKNSLYLQMDSLRAEDTAVYYCAR",
         "v_sequence_alignment_aa_light": "DIVMTQSPDSLAVSLGERATINCKSSQSLLYSSNEKNYLAWYQQKPGQPPKLLIYWASTRESGVPDRFSGSGSGTDFTLTISSLQAEDVAVYFCQQYYATP",
         "v_sequence_alignment_heavy": "GAGGTGCAACTGGTAGAGTCGGGGGGAGGCTTGGTCCAGCCTGGGGAGTCCATGAGGCTCTCCTGTGCAGCCTCTGGATTCGCCTTCAGTGACGCTTGGATGACCTGGGTCCGCCAGGCTCCAGGGAAGGGACTGGAGTGGGTGGCCAATATAAAGGCAGATGGAAGTAAGAAGGACTATGTGGAATCTGTGAAGGGTCGATTCACCATCTCCAGAGACAACACCAAGAACTCACTATATCTGCAAATGGACAGCCTGAGAGCCGAAGACACGGCCGTCTATTACTGTGCGAGAGA",
         "v_sequence_alignment_light": "GACATCGTGATGACCCAGTCTCCAGACTCCCTGGCTGTGTCTCTGGGCGAGAGGGCCACCATCAACTGCAAGTCCAGCCAGAGTCTTTTATACAGCTCCAACGAGAAGAACTACTTAGCTTGGTACCAACAGAAGCCAGGACAGCCTCCTAAGTTGCTCATTTACTGGGCATCTACCCGGGAGTCCGGGGTCCCTGACCGATTCAGTGGCAGCGGGTCTGGGACAGATTTCACTCTCACCATCAGCAGCCTGCAGGCTGAAGATGTGGCGGTTTATTTCTGTCAGCAATATTATGCTACTCCTC",
         "v_sequence_end_heavy": "432.0",
         "v_sequence_end_light": "394.0",
         "v_sequence_start_heavy": "137.0",
         "v_sequence_start_light": "91.0",
         "v_support_heavy": "5.835999999999999e-107",
         "v_support_light": "9.96e-126",
         "vj_in_frame_heavy": "T",
         "vj_in_frame_light": "T"
        },
        {
         "ANARCI_numbering_heavy": "{'fwh1': {'1 ': 'E', '2 ': 'V', '3 ': 'Q', '4 ': 'L', '5 ': 'V', '6 ': 'E', '7 ': 'S', '8 ': 'G', '9 ': 'G', '11 ': 'G', '12 ': 'L', '13 ': 'V', '14 ': 'Q', '15 ': 'P', '16 ': 'G', '17 ': 'R', '18 ': 'S', '19 ': 'L', '20 ': 'R', '21 ': 'L', '22 ': 'S', '23 ': 'C', '24 ': 'A', '25 ': 'A', '26 ': 'S'}, 'cdrh1': {'27 ': 'G', '28 ': 'F', '29 ': 'T', '30 ': 'F', '35 ': 'D', '36 ': 'D', '37 ': 'Y', '38 ': 'A'}, 'fwh2': {'39 ': 'M', '40 ': 'H', '41 ': 'W', '42 ': 'V', '43 ': 'R', '44 ': 'Q', '45 ': 'A', '46 ': 'P', '47 ': 'G', '48 ': 'K', '49 ': 'G', '50 ': 'L', '51 ': 'E', '52 ': 'W', '53 ': 'V', '54 ': 'S', '55 ': 'G'}, 'cdrh2': {'56 ': 'I', '57 ': 'S', '58 ': 'W', '59 ': 'N', '62 ': 'S', '63 ': 'G', '64 ': 'S', '65 ': 'I'}, 'fwh3': {'66 ': 'G', '67 ': 'Y', '68 ': 'A', '69 ': 'D', '70 ': 'S', '71 ': 'V', '72 ': 'K', '74 ': 'G', '75 ': 'R', '76 ': 'F', '77 ': 'T', '78 ': 'I', '79 ': 'S', '80 ': 'R', '81 ': 'D', '82 ': 'N', '83 ': 'A', '84 ': 'K', '85 ': 'N', '86 ': 'S', '87 ': 'L', '88 ': '…",
         "ANARCI_numbering_light": "{'fwl1': {'1 ': 'Q', '2 ': 'S', '3 ': 'A', '4 ': 'L', '5 ': 'T', '6 ': 'Q', '7 ': 'P', '8 ': 'P', '9 ': 'S', '11 ': 'A', '12 ': 'S', '13 ': 'G', '14 ': 'S', '15 ': 'P', '16 ': 'G', '17 ': 'Q', '18 ': 'S', '19 ': 'V', '20 ': 'T', '21 ': 'I', '22 ': 'S', '23 ': 'C', '24 ': 'T', '25 ': 'G', '26 ': 'T'}, 'cdrl1': {'27 ': 'S', '28 ': 'S', '29 ': 'D', '30 ': 'V', '31 ': 'G', '35 ': 'G', '36 ': 'Y', '37 ': 'N', '38 ': 'Y'}, 'fwl2': {'39 ': 'V', '40 ': 'S', '41 ': 'W', '42 ': 'Y', '43 ': 'Q', '44 ': 'Q', '45 ': 'H', '46 ': 'P', '47 ': 'G', '48 ': 'K', '49 ': 'A', '50 ': 'P', '51 ': 'K', '52 ': 'L', '53 ': 'M', '54 ': 'I', '55 ': 'Y'}, 'cdrl2': {'56 ': 'E', '57 ': 'V', '65 ': 'S'}, 'fwl3': {'66 ': 'K', '67 ': 'R', '68 ': 'P', '69 ': 'S', '70 ': 'G', '71 ': 'V', '72 ': 'P', '74 ': 'D', '75 ': 'R', '76 ': 'F', '77 ': 'S', '78 ': 'G', '79 ': 'S', '80 ': 'K', '83 ': 'S', '84 ': 'G', '85 ': 'N', '86 ': 'T', '87 ': 'A', '88 ': 'S', '89 ': 'L', '90 ': 'T', '91 ': 'V', '92 ': 'S', '93 ': 'G', '94 ': '…",
         "ANARCI_status_heavy": "|Deletions: 10, 73||||",
         "ANARCI_status_light": "|||||",
         "Isotype_heavy": "IGHM",
         "Isotype_light": "Bulk",
         "Redundancy_heavy": "1.0",
         "Redundancy_light": "1.0",
         "_deepnote_index_column": "4",
         "c_region_heavy": "GGAGTGCATCCGCCCCAACCCTTTTCCCCCTCGTCTCCTGTGAGAATTCCCCGTCGGATACGAGCAGCGTG",
         "c_region_light": "GTCAGCCCAAGGCCAACCCCACTGTCACTCTGTTCCCGCCCTCCTCTGAGGAGCTCCAAGCCAACAAGGCCACACTAGTGTGTCTGATCAGTGACTTCTACCCGGGAGCTGTGACAGTGGCCTGGAAGGCAGATGGCAGCCCCGTCAAGGCGGGAGTGGAGACCACCAAACCCTCCAAACAGAGCAACAACAAGTACGCGGCCAGCAGCTA",
         "cdr1_aa_heavy": "GFTFDDYA",
         "cdr1_aa_light": "SSDVGGYNY",
         "cdr1_end_heavy": "241.0",
         "cdr1_end_light": "200.0",
         "cdr1_heavy": "GGATTCACCTTTGATGATTATGCC",
         "cdr1_light": "AGCAGTGACGTTGGTGGTTATAACTAT",
         "cdr1_start_heavy": "218.0",
         "cdr1_start_light": "174.0",
         "cdr2_aa_heavy": "ISWNSGSI",
         "cdr2_aa_light": "EVS",
         "cdr2_end_heavy": "316.0",
         "cdr2_end_light": "260.0",
         "cdr2_heavy": "ATTAGTTGGAATAGTGGTAGCATA",
         "cdr2_light": "GAGGTCAGT",
         "cdr2_start_heavy": "293.0",
         "cdr2_start_light": "252.0",
         "cdr3_aa_heavy": "AKDRGAFWDTAMGD",
         "cdr3_aa_light": "SSYAGSNNYV",
         "cdr3_end_heavy": "472.0",
         "cdr3_end_light": "398.0",
         "cdr3_heavy": "GCAAAAGATCGCGGGGCTTTTTGGGATACAGCTATGGGAGAC",
         "cdr3_light": "AGCTCATATGCAGGCAGCAACAATTATGTC",
         "cdr3_start_heavy": "431.0",
         "cdr3_start_light": "369.0",
         "complete_vdj_heavy": "T",
         "complete_vdj_light": "T",
         "d_alignment_end_heavy": "325.0",
         "d_alignment_end_light": "nan",
         "d_alignment_start_heavy": "312.0",
         "d_alignment_start_light": "nan",
         "d_call_heavy": "IGHD5-18*01",
         "d_call_light": "nan",
         "d_cigar_heavy": "453S2N14M110S4N",
         "d_cigar_light": "nan",
         "d_germline_alignment_aa_heavy": "DTAM",
         "d_germline_alignment_aa_light": "nan",
         "d_germline_alignment_heavy": "GGATACAGCTATGG",
         "d_germline_alignment_light": "nan",
         "d_germline_end_heavy": "16.0",
         "d_germline_end_light": "nan",
         "d_germline_start_heavy": "3.0",
         "d_germline_start_light": "nan",
         "d_identity_heavy": "100.0",
         "d_identity_light": "nan",
         "d_score_heavy": "27.605",
         "d_score_light": "nan",
         "d_sequence_alignment_aa_heavy": "DTAM",
         "d_sequence_alignment_aa_light": "nan",
         "d_sequence_alignment_heavy": "GGATACAGCTATGG",
         "d_sequence_alignment_light": "nan",
         "d_sequence_end_heavy": "467.0",
         "d_sequence_end_light": "nan",
         "d_sequence_start_heavy": "454.0",
         "d_sequence_start_light": "nan",
         "d_support_heavy": "0.001267",
         "d_support_light": "nan",
         "fwr1_aa_heavy": "EVQLVESGGGLVQPGRSLRLSCAAS",
         "fwr1_aa_light": "QSALTQPPSASGSPGQSVTISCTGT",
         "fwr1_end_heavy": "217.0",
         "fwr1_end_light": "173.0",
         "fwr1_heavy": "GAAGTGCAGCTGGTGGAGTCTGGGGGAGGCTTGGTACAGCCTGGCAGGTCCCTGAGACTCTCCTGTGCAGCCTCT",
         "fwr1_light": "CAGTCTGCCCTGACTCAGCCTCCCTCCGCGTCCGGGTCTCCTGGACAGTCAGTCACCATCTCCTGCACTGGAACC",
         "fwr1_start_heavy": "143.0",
         "fwr1_start_light": "99.0",
         "fwr2_aa_heavy": "MHWVRQAPGKGLEWVSG",
         "fwr2_aa_light": "VSWYQQHPGKAPKLMIY",
         "fwr2_end_heavy": "292.0",
         "fwr2_end_light": "251.0",
         "fwr2_heavy": "ATGCACTGGGTCCGGCAAGCTCCAGGGAAGGGCCTGGAGTGGGTCTCAGGT",
         "fwr2_light": "GTCTCCTGGTACCAACAGCACCCAGGCAAAGCCCCCAAACTCATGATTTAT",
         "fwr2_start_heavy": "242.0",
         "fwr2_start_light": "201.0",
         "fwr3_aa_heavy": "GYADSVKGRFTISRDNAKNSLYLQMNSLRAEDTALYYC",
         "fwr3_aa_light": "KRPSGVPDRFSGSKSGNTASLTVSGLQAEDEADYYC",
         "fwr3_end_heavy": "430.0",
         "fwr3_end_light": "368.0",
         "fwr3_heavy": "GGCTATGCGGACTCTGTGAAGGGCCGATTCACCATCTCCAGAGACAACGCCAAGAACTCCCTGTATCTGCAAATGAACAGTCTGAGAGCTGAGGACACGGCCTTGTATTACTGT",
         "fwr3_light": "AAGCGGCCCTCAGGGGTCCCTGATCGCTTCTCTGGCTCCAAGTCTGGCAACACGGCCTCCCTGACCGTCTCTGGGCTCCAGGCTGAGGATGAGGCTGATTATTACTGC",
         "fwr3_start_heavy": "317.0",
         "fwr3_start_light": "261.0",
         "fwr4_aa_heavy": "WGQGTLVTVSS",
         "fwr4_aa_light": "FGTGTKVTVL",
         "fwr4_end_heavy": "505.0",
         "fwr4_end_light": "428.0",
         "fwr4_heavy": "TGGGGCCAGGGAACCCTGGTCACCGTCTCCTCA",
         "fwr4_light": "TTCGGAACTGGGACCAAGGTCACCGTCCTA",
         "fwr4_start_heavy": "473.0",
         "fwr4_start_light": "399.0",
         "germline_alignment_aa_heavy": "EVQLVESGGGLVQPGRSLRLSCAASGFTFDDYAMHWVRQAPGKGLEWVSGISWNSGSIGYADSVKGRFTISRDNAKNSLYLQMNSLRAEDTALYYCAKDXXXXXDTAMXXWGQGTLVTVSS",
         "germline_alignment_aa_light": "QSALTQPPSASGSPGQSVTISCTGTSSDVGGYNYVSWYQQHPGKAPKLMIYEVSKRPSGVPDRFSGSKSGNTASLTVSGLQAEDEADYYCSSYAGSNNYVFGTGTKVTVL",
         "germline_alignment_heavy": "GAAGTGCAGCTGGTGGAGTCTGGGGGAGGCTTGGTACAGCCTGGCAGGTCCCTGAGACTCTCCTGTGCAGCCTCTGGATTCACCTTTGATGATTATGCCATGCACTGGGTCCGGCAAGCTCCAGGGAAGGGCCTGGAGTGGGTCTCAGGTATTAGTTGGAATAGTGGTAGCATAGGCTATGCGGACTCTGTGAAGGGCCGATTCACCATCTCCAGAGACAACGCCAAGAACTCCCTGTATCTGCAAATGAACAGTCTGAGAGCTGAGGACACGGCCTTGTATTACTGTGCAAAAGATNNNNNNNNNNNNNNGGATACAGCTATGGNNNACTGGGGCCAGGGAACCCTGGTCACCGTCTCCTCAG",
         "germline_alignment_light": "CAGTCTGCCCTGACTCAGCCTCCCTCCGCGTCCGGGTCTCCTGGACAGTCAGTCACCATCTCCTGCACTGGAACCAGCAGTGACGTTGGTGGTTATAACTATGTCTCCTGGTACCAACAGCACCCAGGCAAAGCCCCCAAACTCATGATTTATGAGGTCAGTAAGCGGCCCTCAGGGGTCCCTGATCGCTTCTCTGGCTCCAAGTCTGGCAACACGGCCTCCCTGACCGTCTCTGGGCTCCAGGCTGAGGATGAGGCTGATTATTACTGCAGCTCATATGCAGGCAGCAACAATTATGTCTTCGGAACTGGGACCAAGGTCACCGTCCTAG",
         "j_alignment_end_heavy": "364.0",
         "j_alignment_end_light": "331.0",
         "j_alignment_start_heavy": "329.0",
         "j_alignment_start_light": "296.0",
         "j_call_heavy": "IGHJ4*02",
         "j_call_light": "IGLJ1*01",
         "j_cigar_heavy": "470S12N36M71S",
         "j_cigar_light": "393S2N36M211S",
         "j_germline_alignment_aa_heavy": "WGQGTLVTVSS",
         "j_germline_alignment_aa_light": "VFGTGTKVTVL",
         "j_germline_alignment_heavy": "ACTGGGGCCAGGGAACCCTGGTCACCGTCTCCTCAG",
         "j_germline_alignment_light": "ATGTCTTCGGAACTGGGACCAAGGTCACCGTCCTAG",
         "j_germline_end_heavy": "48.0",
         "j_germline_end_light": "38.0",
         "j_germline_start_heavy": "13.0",
         "j_germline_start_light": "3.0",
         "j_identity_heavy": "100.0",
         "j_identity_light": "100.0",
         "j_score_heavy": "69.904",
         "j_score_light": "69.904",
         "j_sequence_alignment_aa_heavy": "WGQGTLVTVSS",
         "j_sequence_alignment_aa_light": "VFGTGTKVTVL",
         "j_sequence_alignment_heavy": "ACTGGGGCCAGGGAACCCTGGTCACCGTCTCCTCAG",
         "j_sequence_alignment_light": "ATGTCTTCGGAACTGGGACCAAGGTCACCGTCCTAG",
         "j_sequence_end_heavy": "506.0",
         "j_sequence_end_light": "429.0",
         "j_sequence_start_heavy": "471.0",
         "j_sequence_start_light": "394.0",
         "j_support_heavy": "5.088e-16",
         "j_support_light": "5.654e-16",
         "junction_aa_heavy": "CAKDRGAFWDTAMGDW",
         "junction_aa_length_heavy": "16.0",
         "junction_aa_length_light": "12.0",
         "junction_aa_light": "CSSYAGSNNYVF",
         "junction_heavy": "TGTGCAAAAGATCGCGGGGCTTTTTGGGATACAGCTATGGGAGACTGG",
         "junction_length_heavy": "48.0",
         "junction_length_light": "36.0",
         "junction_light": "TGCAGCTCATATGCAGGCAGCAACAATTATGTCTTC",
         "locus_heavy": "H",
         "locus_light": "L",
         "np1_heavy": "CGCGGGGCTTTTTG",
         "np1_length_heavy": "14.0",
         "np1_length_light": "0.0",
         "np1_light": "nan",
         "np2_heavy": "GAG",
         "np2_length_heavy": "3.0",
         "np2_length_light": "nan",
         "np2_light": "nan",
         "productive_heavy": "T",
         "productive_light": "T",
         "rev_comp_heavy": "F",
         "rev_comp_light": "F",
         "sequence_alignment_aa_heavy": "EVQLVESGGGLVQPGRSLRLSCAASGFTFDDYAMHWVRQAPGKGLEWVSGISWNSGSIGYADSVKGRFTISRDNAKNSLYLQMNSLRAEDTALYYCAKDRGAFWDTAMGDWGQGTLVTVSS",
         "sequence_alignment_aa_light": "QSALTQPPSASGSPGQSVTISCTGTSSDVGGYNYVSWYQQHPGKAPKLMIYEVSKRPSGVPDRFSGSKSGNTASLTVSGLQAEDEADYYCSSYAGSNNYVFGTGTKVTVL",
         "sequence_alignment_heavy": "GAAGTGCAGCTGGTGGAGTCTGGGGGAGGCTTGGTACAGCCTGGCAGGTCCCTGAGACTCTCCTGTGCAGCCTCTGGATTCACCTTTGATGATTATGCCATGCACTGGGTCCGGCAAGCTCCAGGGAAGGGCCTGGAGTGGGTCTCAGGTATTAGTTGGAATAGTGGTAGCATAGGCTATGCGGACTCTGTGAAGGGCCGATTCACCATCTCCAGAGACAACGCCAAGAACTCCCTGTATCTGCAAATGAACAGTCTGAGAGCTGAGGACACGGCCTTGTATTACTGTGCAAAAGATCGCGGGGCTTTTTGGGATACAGCTATGGGAGACTGGGGCCAGGGAACCCTGGTCACCGTCTCCTCAG",
         "sequence_alignment_light": "CAGTCTGCCCTGACTCAGCCTCCCTCCGCGTCCGGGTCTCCTGGACAGTCAGTCACCATCTCCTGCACTGGAACCAGCAGTGACGTTGGTGGTTATAACTATGTCTCCTGGTACCAACAGCACCCAGGCAAAGCCCCCAAACTCATGATTTATGAGGTCAGTAAGCGGCCCTCAGGGGTCCCTGATCGCTTCTCTGGCTCCAAGTCTGGCAACACGGCCTCCCTGACCGTCTCTGGGCTCCAGGCTGAGGATGAGGCTGATTATTACTGCAGCTCATATGCAGGCAGCAACAATTATGTCTTCGGAACTGGGACCAAGGTCACCGTCCTAG",
         "sequence_heavy": "TGGGGAGCTCTGGGAGAGGAGCCCCAGCCCTGAGATTCCCAGGTGTTTCCATTCAGTGATCAGCACTGAACACAGAGGACTCACCATGGAGTTGGGACTGAGCTGGATTTTCCTTTTGGCTATTTTAAAAGGTGTCCAGTGTGAAGTGCAGCTGGTGGAGTCTGGGGGAGGCTTGGTACAGCCTGGCAGGTCCCTGAGACTCTCCTGTGCAGCCTCTGGATTCACCTTTGATGATTATGCCATGCACTGGGTCCGGCAAGCTCCAGGGAAGGGCCTGGAGTGGGTCTCAGGTATTAGTTGGAATAGTGGTAGCATAGGCTATGCGGACTCTGTGAAGGGCCGATTCACCATCTCCAGAGACAACGCCAAGAACTCCCTGTATCTGCAAATGAACAGTCTGAGAGCTGAGGACACGGCCTTGTATTACTGTGCAAAAGATCGCGGGGCTTTTTGGGATACAGCTATGGGAGACTGGGGCCAGGGAACCCTGGTCACCGTCTCCTCAGGGAGTGCATCCGCCCCAACCCTTTTCCCCCTCGTCTCCTGTGAGAATTCCCCGTCGGATACGAGCAGCGTG",
         "sequence_id_heavy": "TATGCCCCACAACTGT-1_contig_1",
         "sequence_id_light": "TATGCCCCACAACTGT-1_contig_2",
         "sequence_light": "GCTGGGGTCTCAGGAGGCAGCGCTCTCAGGACGTCACCACCATGGCCTGGGCTCTGCTCCTCCTCAGCCTCCTCACTCAGGGCACAGGGTCCTGGGCCCAGTCTGCCCTGACTCAGCCTCCCTCCGCGTCCGGGTCTCCTGGACAGTCAGTCACCATCTCCTGCACTGGAACCAGCAGTGACGTTGGTGGTTATAACTATGTCTCCTGGTACCAACAGCACCCAGGCAAAGCCCCCAAACTCATGATTTATGAGGTCAGTAAGCGGCCCTCAGGGGTCCCTGATCGCTTCTCTGGCTCCAAGTCTGGCAACACGGCCTCCCTGACCGTCTCTGGGCTCCAGGCTGAGGATGAGGCTGATTATTACTGCAGCTCATATGCAGGCAGCAACAATTATGTCTTCGGAACTGGGACCAAGGTCACCGTCCTAGGTCAGCCCAAGGCCAACCCCACTGTCACTCTGTTCCCGCCCTCCTCTGAGGAGCTCCAAGCCAACAAGGCCACACTAGTGTGTCTGATCAGTGACTTCTACCCGGGAGCTGTGACAGTGGCCTGGAAGGCAGATGGCAGCCCCGTCAAGGCGGGAGTGGAGACCACCAAACCCTCCAAACAGAGCAACAACAAGTACGCGGCCAGCAGCTA",
         "stop_codon_heavy": "F",
         "stop_codon_light": "F",
         "v_alignment_end_heavy": "297.0",
         "v_alignment_end_light": "295.0",
         "v_alignment_start_heavy": "1.0",
         "v_alignment_start_light": "1.0",
         "v_call_heavy": "IGHV3-9*01",
         "v_call_light": "IGLV2-8*01",
         "v_cigar_heavy": "142S297M138S1N",
         "v_cigar_light": "98S295M247S2N",
         "v_frameshift_heavy": "F",
         "v_frameshift_light": "F",
         "v_germline_alignment_aa_heavy": "EVQLVESGGGLVQPGRSLRLSCAASGFTFDDYAMHWVRQAPGKGLEWVSGISWNSGSIGYADSVKGRFTISRDNAKNSLYLQMNSLRAEDTALYYCAKD",
         "v_germline_alignment_aa_light": "QSALTQPPSASGSPGQSVTISCTGTSSDVGGYNYVSWYQQHPGKAPKLMIYEVSKRPSGVPDRFSGSKSGNTASLTVSGLQAEDEADYYCSSYAGSNN",
         "v_germline_alignment_heavy": "GAAGTGCAGCTGGTGGAGTCTGGGGGAGGCTTGGTACAGCCTGGCAGGTCCCTGAGACTCTCCTGTGCAGCCTCTGGATTCACCTTTGATGATTATGCCATGCACTGGGTCCGGCAAGCTCCAGGGAAGGGCCTGGAGTGGGTCTCAGGTATTAGTTGGAATAGTGGTAGCATAGGCTATGCGGACTCTGTGAAGGGCCGATTCACCATCTCCAGAGACAACGCCAAGAACTCCCTGTATCTGCAAATGAACAGTCTGAGAGCTGAGGACACGGCCTTGTATTACTGTGCAAAAGAT",
         "v_germline_alignment_light": "CAGTCTGCCCTGACTCAGCCTCCCTCCGCGTCCGGGTCTCCTGGACAGTCAGTCACCATCTCCTGCACTGGAACCAGCAGTGACGTTGGTGGTTATAACTATGTCTCCTGGTACCAACAGCACCCAGGCAAAGCCCCCAAACTCATGATTTATGAGGTCAGTAAGCGGCCCTCAGGGGTCCCTGATCGCTTCTCTGGCTCCAAGTCTGGCAACACGGCCTCCCTGACCGTCTCTGGGCTCCAGGCTGAGGATGAGGCTGATTATTACTGCAGCTCATATGCAGGCAGCAACAATT",
         "v_germline_end_heavy": "297.0",
         "v_germline_end_light": "295.0",
         "v_germline_start_heavy": "1.0",
         "v_germline_start_light": "1.0",
         "v_identity_heavy": "100.0",
         "v_identity_light": "100.0",
         "v_score_heavy": "464.595",
         "v_score_light": "461.479",
         "v_sequence_alignment_aa_heavy": "EVQLVESGGGLVQPGRSLRLSCAASGFTFDDYAMHWVRQAPGKGLEWVSGISWNSGSIGYADSVKGRFTISRDNAKNSLYLQMNSLRAEDTALYYCAKD",
         "v_sequence_alignment_aa_light": "QSALTQPPSASGSPGQSVTISCTGTSSDVGGYNYVSWYQQHPGKAPKLMIYEVSKRPSGVPDRFSGSKSGNTASLTVSGLQAEDEADYYCSSYAGSNN",
         "v_sequence_alignment_heavy": "GAAGTGCAGCTGGTGGAGTCTGGGGGAGGCTTGGTACAGCCTGGCAGGTCCCTGAGACTCTCCTGTGCAGCCTCTGGATTCACCTTTGATGATTATGCCATGCACTGGGTCCGGCAAGCTCCAGGGAAGGGCCTGGAGTGGGTCTCAGGTATTAGTTGGAATAGTGGTAGCATAGGCTATGCGGACTCTGTGAAGGGCCGATTCACCATCTCCAGAGACAACGCCAAGAACTCCCTGTATCTGCAAATGAACAGTCTGAGAGCTGAGGACACGGCCTTGTATTACTGTGCAAAAGAT",
         "v_sequence_alignment_light": "CAGTCTGCCCTGACTCAGCCTCCCTCCGCGTCCGGGTCTCCTGGACAGTCAGTCACCATCTCCTGCACTGGAACCAGCAGTGACGTTGGTGGTTATAACTATGTCTCCTGGTACCAACAGCACCCAGGCAAAGCCCCCAAACTCATGATTTATGAGGTCAGTAAGCGGCCCTCAGGGGTCCCTGATCGCTTCTCTGGCTCCAAGTCTGGCAACACGGCCTCCCTGACCGTCTCTGGGCTCCAGGCTGAGGATGAGGCTGATTATTACTGCAGCTCATATGCAGGCAGCAACAATT",
         "v_sequence_end_heavy": "439.0",
         "v_sequence_end_light": "393.0",
         "v_sequence_start_heavy": "143.0",
         "v_sequence_start_light": "99.0",
         "v_support_heavy": "9.312e-133",
         "v_support_light": "9.003e-132",
         "vj_in_frame_heavy": "T",
         "vj_in_frame_light": "T"
        }
       ]
      },
      "text/html": [
       "<div>\n",
       "<style scoped>\n",
       "    .dataframe tbody tr th:only-of-type {\n",
       "        vertical-align: middle;\n",
       "    }\n",
       "\n",
       "    .dataframe tbody tr th {\n",
       "        vertical-align: top;\n",
       "    }\n",
       "\n",
       "    .dataframe thead th {\n",
       "        text-align: right;\n",
       "    }\n",
       "</style>\n",
       "<table border=\"1\" class=\"dataframe\">\n",
       "  <thead>\n",
       "    <tr style=\"text-align: right;\">\n",
       "      <th></th>\n",
       "      <th>sequence_id_heavy</th>\n",
       "      <th>sequence_heavy</th>\n",
       "      <th>locus_heavy</th>\n",
       "      <th>stop_codon_heavy</th>\n",
       "      <th>vj_in_frame_heavy</th>\n",
       "      <th>v_frameshift_heavy</th>\n",
       "      <th>productive_heavy</th>\n",
       "      <th>rev_comp_heavy</th>\n",
       "      <th>complete_vdj_heavy</th>\n",
       "      <th>v_call_heavy</th>\n",
       "      <th>...</th>\n",
       "      <th>cdr3_end_light</th>\n",
       "      <th>np1_light</th>\n",
       "      <th>np1_length_light</th>\n",
       "      <th>np2_light</th>\n",
       "      <th>np2_length_light</th>\n",
       "      <th>c_region_light</th>\n",
       "      <th>Isotype_light</th>\n",
       "      <th>Redundancy_light</th>\n",
       "      <th>ANARCI_numbering_light</th>\n",
       "      <th>ANARCI_status_light</th>\n",
       "    </tr>\n",
       "  </thead>\n",
       "  <tbody>\n",
       "    <tr>\n",
       "      <th>0</th>\n",
       "      <td>GAACGGAAGTAGCCGA-1_contig_1</td>\n",
       "      <td>AGCTCTGAGAGAGGAGCCTTAGCCCTGGATTCCAAGGCCTATCCAC...</td>\n",
       "      <td>H</td>\n",
       "      <td>F</td>\n",
       "      <td>T</td>\n",
       "      <td>F</td>\n",
       "      <td>T</td>\n",
       "      <td>F</td>\n",
       "      <td>T</td>\n",
       "      <td>IGHV3-21*02</td>\n",
       "      <td>...</td>\n",
       "      <td>388.0</td>\n",
       "      <td>TC</td>\n",
       "      <td>2.0</td>\n",
       "      <td>NaN</td>\n",
       "      <td>NaN</td>\n",
       "      <td>GAACTGTGGCTGCACCATCTGTCTTCATCTTCCCGCCATCTGATGA...</td>\n",
       "      <td>Bulk</td>\n",
       "      <td>1.0</td>\n",
       "      <td>{'fwk1': {'1 ': 'D', '2 ': 'I', '3 ': 'Q', '4 ...</td>\n",
       "      <td>|||||</td>\n",
       "    </tr>\n",
       "    <tr>\n",
       "      <th>1</th>\n",
       "      <td>TACTTACTCAACACAC-1_contig_1</td>\n",
       "      <td>ATCATCCAACAACCACATCCCTTCTCTACAGAAGCCTCTGAGAGGA...</td>\n",
       "      <td>H</td>\n",
       "      <td>F</td>\n",
       "      <td>T</td>\n",
       "      <td>F</td>\n",
       "      <td>T</td>\n",
       "      <td>F</td>\n",
       "      <td>T</td>\n",
       "      <td>IGHV1-46*01</td>\n",
       "      <td>...</td>\n",
       "      <td>407.0</td>\n",
       "      <td>NaN</td>\n",
       "      <td>0.0</td>\n",
       "      <td>NaN</td>\n",
       "      <td>NaN</td>\n",
       "      <td>GAACTGTGGCTGCACCATCTGTCTTCATCTTCCCGCCATCTGATGA...</td>\n",
       "      <td>Bulk</td>\n",
       "      <td>1.0</td>\n",
       "      <td>{'fwk1': {'1 ': 'D', '2 ': 'V', '3 ': 'V', '4 ...</td>\n",
       "      <td>|||||</td>\n",
       "    </tr>\n",
       "    <tr>\n",
       "      <th>2</th>\n",
       "      <td>AAGGTTCTCGTAGGAG-1_contig_1</td>\n",
       "      <td>CCACATCCCTCCTCAGAAGCCCCCAGAGCACAACGCCTCACCATGG...</td>\n",
       "      <td>H</td>\n",
       "      <td>F</td>\n",
       "      <td>T</td>\n",
       "      <td>F</td>\n",
       "      <td>T</td>\n",
       "      <td>F</td>\n",
       "      <td>T</td>\n",
       "      <td>IGHV1-3*01</td>\n",
       "      <td>...</td>\n",
       "      <td>387.0</td>\n",
       "      <td>TCTC</td>\n",
       "      <td>4.0</td>\n",
       "      <td>NaN</td>\n",
       "      <td>NaN</td>\n",
       "      <td>GAACTGTGGCTGCACCATCTGTCTTCATCTTCCCGCCATCTGATGA...</td>\n",
       "      <td>Bulk</td>\n",
       "      <td>1.0</td>\n",
       "      <td>{'fwk1': {'1 ': 'D', '2 ': 'I', '3 ': 'Q', '4 ...</td>\n",
       "      <td>|||||</td>\n",
       "    </tr>\n",
       "    <tr>\n",
       "      <th>3</th>\n",
       "      <td>CGTGTAATCCAAATGC-1_contig_2</td>\n",
       "      <td>AGGTCTCAGAGAGGAGCCTTAGCCCTGGACTCCAAGGCCTTTCCAC...</td>\n",
       "      <td>H</td>\n",
       "      <td>F</td>\n",
       "      <td>T</td>\n",
       "      <td>F</td>\n",
       "      <td>T</td>\n",
       "      <td>F</td>\n",
       "      <td>T</td>\n",
       "      <td>IGHV3-7*03</td>\n",
       "      <td>...</td>\n",
       "      <td>399.0</td>\n",
       "      <td>T</td>\n",
       "      <td>1.0</td>\n",
       "      <td>NaN</td>\n",
       "      <td>NaN</td>\n",
       "      <td>GAACTGTGGCTGCACCATCTGTCTTCATCTTCCCGCCATCTGATGA...</td>\n",
       "      <td>Bulk</td>\n",
       "      <td>1.0</td>\n",
       "      <td>{'fwk1': {'1 ': 'D', '2 ': 'I', '3 ': 'V', '4 ...</td>\n",
       "      <td>|||||</td>\n",
       "    </tr>\n",
       "    <tr>\n",
       "      <th>4</th>\n",
       "      <td>TATGCCCCACAACTGT-1_contig_1</td>\n",
       "      <td>TGGGGAGCTCTGGGAGAGGAGCCCCAGCCCTGAGATTCCCAGGTGT...</td>\n",
       "      <td>H</td>\n",
       "      <td>F</td>\n",
       "      <td>T</td>\n",
       "      <td>F</td>\n",
       "      <td>T</td>\n",
       "      <td>F</td>\n",
       "      <td>T</td>\n",
       "      <td>IGHV3-9*01</td>\n",
       "      <td>...</td>\n",
       "      <td>398.0</td>\n",
       "      <td>NaN</td>\n",
       "      <td>0.0</td>\n",
       "      <td>NaN</td>\n",
       "      <td>NaN</td>\n",
       "      <td>GTCAGCCCAAGGCCAACCCCACTGTCACTCTGTTCCCGCCCTCCTC...</td>\n",
       "      <td>Bulk</td>\n",
       "      <td>1.0</td>\n",
       "      <td>{'fwl1': {'1 ': 'Q', '2 ': 'S', '3 ': 'A', '4 ...</td>\n",
       "      <td>|||||</td>\n",
       "    </tr>\n",
       "  </tbody>\n",
       "</table>\n",
       "<p>5 rows × 198 columns</p>\n",
       "</div>"
      ],
      "text/plain": [
       "             sequence_id_heavy  \\\n",
       "0  GAACGGAAGTAGCCGA-1_contig_1   \n",
       "1  TACTTACTCAACACAC-1_contig_1   \n",
       "2  AAGGTTCTCGTAGGAG-1_contig_1   \n",
       "3  CGTGTAATCCAAATGC-1_contig_2   \n",
       "4  TATGCCCCACAACTGT-1_contig_1   \n",
       "\n",
       "                                      sequence_heavy locus_heavy  \\\n",
       "0  AGCTCTGAGAGAGGAGCCTTAGCCCTGGATTCCAAGGCCTATCCAC...           H   \n",
       "1  ATCATCCAACAACCACATCCCTTCTCTACAGAAGCCTCTGAGAGGA...           H   \n",
       "2  CCACATCCCTCCTCAGAAGCCCCCAGAGCACAACGCCTCACCATGG...           H   \n",
       "3  AGGTCTCAGAGAGGAGCCTTAGCCCTGGACTCCAAGGCCTTTCCAC...           H   \n",
       "4  TGGGGAGCTCTGGGAGAGGAGCCCCAGCCCTGAGATTCCCAGGTGT...           H   \n",
       "\n",
       "  stop_codon_heavy vj_in_frame_heavy v_frameshift_heavy productive_heavy  \\\n",
       "0                F                 T                  F                T   \n",
       "1                F                 T                  F                T   \n",
       "2                F                 T                  F                T   \n",
       "3                F                 T                  F                T   \n",
       "4                F                 T                  F                T   \n",
       "\n",
       "  rev_comp_heavy complete_vdj_heavy v_call_heavy  ... cdr3_end_light  \\\n",
       "0              F                  T  IGHV3-21*02  ...          388.0   \n",
       "1              F                  T  IGHV1-46*01  ...          407.0   \n",
       "2              F                  T   IGHV1-3*01  ...          387.0   \n",
       "3              F                  T   IGHV3-7*03  ...          399.0   \n",
       "4              F                  T   IGHV3-9*01  ...          398.0   \n",
       "\n",
       "  np1_light np1_length_light np2_light np2_length_light  \\\n",
       "0        TC              2.0       NaN              NaN   \n",
       "1       NaN              0.0       NaN              NaN   \n",
       "2      TCTC              4.0       NaN              NaN   \n",
       "3         T              1.0       NaN              NaN   \n",
       "4       NaN              0.0       NaN              NaN   \n",
       "\n",
       "                                      c_region_light  Isotype_light  \\\n",
       "0  GAACTGTGGCTGCACCATCTGTCTTCATCTTCCCGCCATCTGATGA...           Bulk   \n",
       "1  GAACTGTGGCTGCACCATCTGTCTTCATCTTCCCGCCATCTGATGA...           Bulk   \n",
       "2  GAACTGTGGCTGCACCATCTGTCTTCATCTTCCCGCCATCTGATGA...           Bulk   \n",
       "3  GAACTGTGGCTGCACCATCTGTCTTCATCTTCCCGCCATCTGATGA...           Bulk   \n",
       "4  GTCAGCCCAAGGCCAACCCCACTGTCACTCTGTTCCCGCCCTCCTC...           Bulk   \n",
       "\n",
       "   Redundancy_light                             ANARCI_numbering_light  \\\n",
       "0               1.0  {'fwk1': {'1 ': 'D', '2 ': 'I', '3 ': 'Q', '4 ...   \n",
       "1               1.0  {'fwk1': {'1 ': 'D', '2 ': 'V', '3 ': 'V', '4 ...   \n",
       "2               1.0  {'fwk1': {'1 ': 'D', '2 ': 'I', '3 ': 'Q', '4 ...   \n",
       "3               1.0  {'fwk1': {'1 ': 'D', '2 ': 'I', '3 ': 'V', '4 ...   \n",
       "4               1.0  {'fwl1': {'1 ': 'Q', '2 ': 'S', '3 ': 'A', '4 ...   \n",
       "\n",
       "   ANARCI_status_light  \n",
       "0                |||||  \n",
       "1                |||||  \n",
       "2                |||||  \n",
       "3                |||||  \n",
       "4                |||||  \n",
       "\n",
       "[5 rows x 198 columns]"
      ]
     },
     "execution_count": 1,
     "metadata": {},
     "output_type": "execute_result"
    }
   ],
   "source": [
    "import pandas as pd\n",
    "\n",
    "import ablang\n",
    "import numpy as np\n",
    "import os\n",
    "from sklearn.preprocessing import OneHotEncoder\n",
    "from sklearn.preprocessing import LabelEncoder\n",
    "import matplotlib\n",
    "import matplotlib.pyplot as plt\n",
    "\n",
    "#rojan's class definition\n",
    "\n",
    "class OASDBDesc:\n",
    "    \n",
    "    def __init__(self):\n",
    "        pass\n",
    "\n",
    "    def read_data(self, rawdata_dir):\n",
    "        \"Gather gz files from the directory and extract these files\"\n",
    "    \n",
    "        paired_files = [os.path.join(rawdata_dir, f) for f in os.listdir(rawdata_dir) if f.endswith(\".gz\")] \n",
    "        t_cols = ['v_call_heavy', 'd_call_heavy', 'j_call_heavy', 'sequence_alignment_aa_light', \n",
    "                  'sequence_alignment_aa_heavy', 'ANARCI_status_light', 'ANARCI_status_heavy']\n",
    "\n",
    "        df_seqs = pd.DataFrame()\n",
    "        for paired_file in paired_files:\n",
    "            df = pd.read_csv(paired_file, compression = 'gzip', sep=',', skiprows=1)\n",
    "            df_seqs = pd.concat([df_seqs, df[t_cols]], ignore_index=True)\n",
    "        return df_seqs.copy()\n",
    "\n",
    "    def encode_seq(self, df, column):\n",
    "        #function to encode sequences\n",
    "        \n",
    "        #5 main types of protein encoding methods: binary encoding, \n",
    "        #physiochemical properties encoding, evolution-based encoding, structure-based encoding, \n",
    "        #and machine-learning encoding.\n",
    "        \n",
    "        #ablang\n",
    "        \n",
    "        #heavy sequence encoding\n",
    "        heavy_ablang = ablang.pretrained(\"heavy\")\n",
    "        heavy_ablang.freeze()\n",
    "        \n",
    "        seqs_heavy = df.loc[1:30, 'sequence_alignment_aa_heavy']\n",
    "\n",
    "        seqcodings_heavy = heavy_ablang(seqs_heavy, mode='seqcoding')\n",
    "        print(\"-\"*100)\n",
    "        print(\"The output shape of the heavy seq-codings:\", seqcodings_heavy.shape)\n",
    "        print(\"-\"*100)\n",
    "\n",
    "        print(seqcodings_heavy)\n",
    "        \n",
    "        #light sequence encoding\n",
    "        light_ablang = ablang.pretrained(\"light\")\n",
    "        light_ablang.freeze()\n",
    "        \n",
    "        seqs_light = df.loc[1:30, 'sequence_alignment_aa_light']\n",
    "\n",
    "        seqcodings_light = light_ablang(seqs_light, mode='seqcoding')\n",
    "        print(\"-\"*100)\n",
    "        print(\"The output shape of the light seq-codings:\", seqcodings_light.shape)\n",
    "        print(\"-\"*100)\n",
    "\n",
    "        print(seqcodings_light)\n",
    "        \n",
    "    \n",
    "    #cheryl's one-hot encoding \n",
    "        \n",
    "    def one_hot_encode_seq(self, df, column):\n",
    "    #Output a df with a specific columns that want to get dummies in\n",
    "    \n",
    "        #label_encode\n",
    "        le = LabelEncoder()\n",
    "        le.fit(df[column])\n",
    "        integer_encoded_letters_arry = le.transform(small_df[column])\n",
    "\n",
    "        #append\n",
    "        integer_encoded_letters_series = pd.Series(integer_encoded_letters_arry)\n",
    "        df['integer_encoded_letters'] = integer_encoded_letters_series\n",
    "\n",
    "        #one hot encode\n",
    "        df_dummies = pd.get_dummies(df, prefix = ['integer_encoded_letters'], columns = ['integer_encoded_letters'], drop_first = True)\n",
    "        #return df_dummies\n",
    "    \n",
    "        \n",
    "    #cheryl's code - physiochemical properties encoding\n",
    "    \n",
    "    def physchemvh_gen(self, df, column):\n",
    "        alph = np.array(sorted('ACDEFGHIKLMNPQRSTVWY'))\n",
    "        residue_info = pd.read_csv(\"residue_dict_copy.csv\", header = 0, index_col = 0)\n",
    "        \n",
    "        res_counts = pd.DataFrame(index = alph)\n",
    "        df = df.set_index(column)\n",
    "        for i in df.index:\n",
    "            characters = pd.Series(list(i))\n",
    "            res_counts = pd.concat([res_counts, characters.value_counts()], axis = 1, ignore_index = False)\n",
    "        res_counts.fillna(0, inplace = True)\n",
    "        res_counts = res_counts.T\n",
    "        hydrophobicity = []    \n",
    "        for column in res_counts:\n",
    "            hydros = []\n",
    "            for index, row in res_counts.iterrows():\n",
    "                hydros.append(row[column]*residue_info.loc[column, 'Hydropathy Score'])\n",
    "            hydrophobicity.append(hydros)\n",
    "        hydrophobicity = pd.DataFrame(hydrophobicity).T\n",
    "        hydrophobicity['ave'] = hydrophobicity.sum(axis = 1)/115\n",
    "        res_counts['Hydro'] = res_counts['A'] +  res_counts['I'] +  res_counts['L']+  res_counts['F']+  res_counts['V']\n",
    "        res_counts['Amph'] = res_counts['W'] +  res_counts['Y']+  res_counts['M']\n",
    "        res_counts['Polar'] = res_counts['Q'] +  res_counts['N'] + res_counts['S'] +  res_counts['T'] +  res_counts['C']+  res_counts['M']\n",
    "        res_counts['Charged'] =  res_counts['R'] +  res_counts['K'] + res_counts['D'] +  res_counts['E'] +  res_counts['H']\n",
    "        res_counts.reset_index(drop = True, inplace = True)\n",
    "        physchemvh = pd.concat([res_counts, hydrophobicity['ave']], axis = 1, ignore_index = False)\n",
    "        \n",
    "        return \"One Hot Encoding: \", df_dummies, \"Physiochemical Properties Encoding: \", physchemvh\n",
    "\n",
    "\n",
    "# In[8]:\n",
    "\n",
    "\n",
    "# how to use class\n",
    "#rawdata_dir = \"/datasets/merck-files/Merck-files/\"\n",
    "obj = OASDBDesc()\n",
    "#df_seq = obj.read_data(rawdata_dir)\n",
    "\n",
    "\n",
    "# In[ ]:\n",
    "df_seq =  pd.read_csv(\"/datasets/merck-files/Merck-files/sampled_df.csv\")\n",
    "\n",
    "df_seq.head() \n",
    "\n",
    "#annotate all of these columns\n",
    "\n",
    "\n",
    "# In[ ]:\n",
    "\n",
    "#obj.encode_seq(df_seq, \"sequence_alignment_aa_heavy\")\n",
    "\n",
    "\n",
    "\n",
    "\n"
   ]
  },
  {
   "cell_type": "code",
   "execution_count": 2,
   "metadata": {
    "cell_id": "e32c797e614149fe9da4f6c7a4b8e876",
    "deepnote_cell_type": "code",
    "deepnote_table_loading": false,
    "deepnote_table_state": {
     "filters": [],
     "pageIndex": 5,
     "pageSize": 10,
     "sortBy": []
    },
    "deepnote_to_be_reexecuted": false,
    "execution_millis": 316,
    "execution_start": 1678839796003,
    "source_hash": "7009035a",
    "tags": []
   },
   "outputs": [
    {
     "data": {
      "application/vnd.deepnote.dataframe.v3+json": {
       "column_count": 198,
       "columns": [
        {
         "dtype": "object",
         "name": "sequence_id_heavy",
         "stats": {
          "categories": [
           {
            "count": 1,
            "name": "GAACGGAAGTAGCCGA-1_contig_1"
           },
           {
            "count": 1,
            "name": "TACTTACTCAACACAC-1_contig_1"
           },
           {
            "count": 28,
            "name": "28 others"
           }
          ],
          "nan_count": 0,
          "unique_count": 30
         }
        },
        {
         "dtype": "object",
         "name": "sequence_heavy",
         "stats": {
          "categories": [
           {
            "count": 1,
            "name": "AGCTCTGAGAGAGGAGCCTTAGCCCTGGATTCCAAGGCCTATCCACTTGGTGATCAGCACTGAGCACCGAGGATTCACCATGGAACTGGGGCTCCGCTGGGTTTTCCTTGTTGGTATTTTAGAAGGTGTCCAGTGTGAGATCCAACTGGTGGAGTCGGGGGGAGGCCTGGTCAAGCCTGGGGGGTCCCTGAGACTCTCCTGTGGAGCCTCTGGATTCACTTTCAGTTACTTTACCATGAACTGGGTCCGCCAGGCTCCAGGGAAGGGGCTGGAGTGGGTCTCATCCATTAGTAGCAGTAGTACTTACATATACTACGCAGACTCAGGGAGGGGCCGATTCACCATTTCCAGAGACAACGCCAATAACTCACTGTATCTACAAATGAACAGCCTGAGAGCCGAGGACACGGCTATATATTTCTGTGCGAGAGTCTCCGGAAGTGCCTACGATGAAAGAGCCACCGAGGGCTATTACTTCGGTATGGACGTCTGGGGCCAAGGGACCACGGTCACCGTCTCCTCAGCATCCCCGACCAGCCCCAAGGTCTTCCCGCTGAGCCTCTGCAGCACCCAGCCAGATGGGAACGTGGTCATCGCCTGCCTGGTCCAGGGCTTCTTCCCCCAGGAGCCACTCAGTGTGACCTGGAGCGAAAGCGGACAGGGCGTGACCGCCAGAAACTTCCC"
           },
           {
            "count": 1,
            "name": "ATCATCCAACAACCACATCCCTTCTCTACAGAAGCCTCTGAGAGGAAAGTTCTTCACCATGGACTGGACCTGGAGGGTCTTCTGCTTGCTGGCTGTAGCTCCAGGTGCTCACTCCCAGGTGCAGCTGGTGCAGTCTGGGGCTGAGGTGAAGAAGCCTGGGGCCTCAGTGAAGGTTTCCTGCAAGGCATCTGGATACACCTTCACCAGCTACTATATGCACTGGGTGCGACAGGCCCCTGGACAAGGGCTTGAGTGGATGGGAATAATCAACCCTAGTGGTGGTAGCACAAGCTACGCACAGAAGTTCCAGGGCAGAGTCACCATGACCAGGGACACGTCCACGAGCACAGTCTACATGGAGCTGAGCAGCCTGAGATCTGAGGACACGGCCGTGTATTACTGTGCCTGCGGATTAAGTATAGTGGGAGCTACTCTCGATTACTTTGACTACTGGGGCCAGGGAACCCTGGTCACCGTCTCCTCAGGGAGTGCATCCGCCCCAACCCTTTTCCCCCTCGTCTCCTGTGAGAATTCCCCGTCGGATACGAGCAGCGTG"
           },
           {
            "count": 28,
            "name": "28 others"
           }
          ],
          "nan_count": 0,
          "unique_count": 30
         }
        },
        {
         "dtype": "object",
         "name": "locus_heavy",
         "stats": {
          "categories": [
           {
            "count": 30,
            "name": "H"
           }
          ],
          "nan_count": 0,
          "unique_count": 1
         }
        },
        {
         "dtype": "object",
         "name": "stop_codon_heavy",
         "stats": {
          "categories": [
           {
            "count": 30,
            "name": "F"
           }
          ],
          "nan_count": 0,
          "unique_count": 1
         }
        },
        {
         "dtype": "object",
         "name": "vj_in_frame_heavy",
         "stats": {
          "categories": [
           {
            "count": 30,
            "name": "T"
           }
          ],
          "nan_count": 0,
          "unique_count": 1
         }
        },
        {
         "dtype": "object",
         "name": "v_frameshift_heavy",
         "stats": {
          "categories": [
           {
            "count": 29,
            "name": "F"
           },
           {
            "count": 1,
            "name": "Missing"
           }
          ],
          "nan_count": 1,
          "unique_count": 1
         }
        },
        {
         "dtype": "object",
         "name": "productive_heavy",
         "stats": {
          "categories": [
           {
            "count": 30,
            "name": "T"
           }
          ],
          "nan_count": 0,
          "unique_count": 1
         }
        },
        {
         "dtype": "object",
         "name": "rev_comp_heavy",
         "stats": {
          "categories": [
           {
            "count": 30,
            "name": "F"
           }
          ],
          "nan_count": 0,
          "unique_count": 1
         }
        },
        {
         "dtype": "object",
         "name": "complete_vdj_heavy",
         "stats": {
          "categories": [
           {
            "count": 29,
            "name": "T"
           },
           {
            "count": 1,
            "name": "Missing"
           }
          ],
          "nan_count": 1,
          "unique_count": 1
         }
        },
        {
         "dtype": "object",
         "name": "v_call_heavy",
         "stats": {
          "categories": [
           {
            "count": 2,
            "name": "IGHV3-9*01"
           },
           {
            "count": 2,
            "name": "IGHV4-61*02"
           },
           {
            "count": 26,
            "name": "23 others"
           }
          ],
          "nan_count": 0,
          "unique_count": 25
         }
        },
        {
         "dtype": "object",
         "name": "d_call_heavy",
         "stats": {
          "categories": [
           {
            "count": 3,
            "name": "IGHD3-3*01"
           },
           {
            "count": 23,
            "name": "16 others"
           },
           {
            "count": 4,
            "name": "Missing"
           }
          ],
          "nan_count": 4,
          "unique_count": 17
         }
        },
        {
         "dtype": "object",
         "name": "j_call_heavy",
         "stats": {
          "categories": [
           {
            "count": 16,
            "name": "IGHJ4*02"
           },
           {
            "count": 4,
            "name": "IGHJ5*02"
           },
           {
            "count": 10,
            "name": "5 others"
           }
          ],
          "nan_count": 0,
          "unique_count": 7
         }
        },
        {
         "dtype": "object",
         "name": "sequence_alignment_heavy",
         "stats": {
          "categories": [
           {
            "count": 1,
            "name": "GAGATCCAACTGGTGGAGTCGGGGGGAGGCCTGGTCAAGCCTGGGGGGTCCCTGAGACTCTCCTGTGGAGCCTCTGGATTCACTTTCAGTTACTTTACCATGAACTGGGTCCGCCAGGCTCCAGGGAAGGGGCTGGAGTGGGTCTCATCCATTAGTAGCAGTAGTACTTACATATACTACGCAGACTCAGGGAGGGGCCGATTCACCATTTCCAGAGACAACGCCAATAACTCACTGTATCTACAAATGAACAGCCTGAGAGCCGAGGACACGGCTATATATTTCTGTGCGAGAGTCTCCGGAAGTGCCTACGATGAAAGAGCCACCGAGGGCTATTACTTCGGTATGGACGTCTGGGGCCAAGGGACCACGGTCACCGTCTCCTCA"
           },
           {
            "count": 1,
            "name": "CAGGTGCAGCTGGTGCAGTCTGGGGCTGAGGTGAAGAAGCCTGGGGCCTCAGTGAAGGTTTCCTGCAAGGCATCTGGATACACCTTCACCAGCTACTATATGCACTGGGTGCGACAGGCCCCTGGACAAGGGCTTGAGTGGATGGGAATAATCAACCCTAGTGGTGGTAGCACAAGCTACGCACAGAAGTTCCAGGGCAGAGTCACCATGACCAGGGACACGTCCACGAGCACAGTCTACATGGAGCTGAGCAGCCTGAGATCTGAGGACACGGCCGTGTATTACTGTGCCTGCGGATTAAGTATAGTGGGAGCTACTCTCGATTACTTTGACTACTGGGGCCAGGGAACCCTGGTCACCGTCTCCTCAG"
           },
           {
            "count": 28,
            "name": "28 others"
           }
          ],
          "nan_count": 0,
          "unique_count": 30
         }
        },
        {
         "dtype": "object",
         "name": "germline_alignment_heavy",
         "stats": {
          "categories": [
           {
            "count": 1,
            "name": "GAGGTGCAACTGGTGGAGTCTGGGGGAGGCCTGGTCAAGCCTGGGGGGTCCCTGAGACTCTCCTGTGCAGCCTCTGGATTCACCTTCAGTAGCTATAGCATGAACTGGGTCCGCCAGGCTCCAGGGAAGGGGCTGGAGTGGGTCTCATCCATTAGTAGTAGTAGTAGTTACATATACTACGCAGACTCAGTGAAGGGCCGATTCACCATCTCCAGAGACAACGCCAAGAACTCACTGTATCTGCAAATGAACAGCCTGAGAGCCGAGGACACGGCTGTGTATTACTGTGCGAGAGNNNNNNNNAGTGGCTACGATNNNNNNNNNNNNNNNNNCTACTACTACGGTATGGACGTCTGGGGCCAAGGGACCACGGTCACCGTCTCCTCA"
           },
           {
            "count": 1,
            "name": "CAGGTGCAGCTGGTGCAGTCTGGGGCTGAGGTGAAGAAGCCTGGGGCCTCAGTGAAGGTTTCCTGCAAGGCATCTGGATACACCTTCACCAGCTACTATATGCACTGGGTGCGACAGGCCCCTGGACAAGGGCTTGAGTGGATGGGAATAATCAACCCTAGTGGTGGTAGCACAAGCTACGCACAGAAGTTCCAGGGCAGAGTCACCATGACCAGGGACACGTCCACGAGCACAGTCTACATGGAGCTGAGCAGCCTGAGATCTGAGGACACGGCCGTGTATTACTGTGCNNNNNNNNNNNGTATAGTGGGAGCTACTNNNNNNTACTTTGACTACTGGGGCCAGGGAACCCTGGTCACCGTCTCCTCAG"
           },
           {
            "count": 28,
            "name": "28 others"
           }
          ],
          "nan_count": 0,
          "unique_count": 30
         }
        },
        {
         "dtype": "object",
         "name": "sequence_alignment_aa_heavy",
         "stats": {
          "categories": [
           {
            "count": 1,
            "name": "EIQLVESGGGLVKPGGSLRLSCGASGFTFSYFTMNWVRQAPGKGLEWVSSISSSSTYIYYADSGRGRFTISRDNANNSLYLQMNSLRAEDTAIYFCARVSGSAYDERATEGYYFGMDVWGQGTTVTVSS"
           },
           {
            "count": 1,
            "name": "QVQLVQSGAEVKKPGASVKVSCKASGYTFTSYYMHWVRQAPGQGLEWMGIINPSGGSTSYAQKFQGRVTMTRDTSTSTVYMELSSLRSEDTAVYYCACGLSIVGATLDYFDYWGQGTLVTVSS"
           },
           {
            "count": 28,
            "name": "28 others"
           }
          ],
          "nan_count": 0,
          "unique_count": 30
         }
        },
        {
         "dtype": "object",
         "name": "germline_alignment_aa_heavy",
         "stats": {
          "categories": [
           {
            "count": 1,
            "name": "EVQLVESGGGLVKPGGSLRLSCAASGFTFSSYSMNWVRQAPGKGLEWVSSISSSSSYIYYADSVKGRFTISRDNAKNSLYLQMNSLRAEDTAVYYCARXXXSGYDXXXXXXYYYGMDVWGQGTTVTVSS"
           },
           {
            "count": 1,
            "name": "QVQLVQSGAEVKKPGASVKVSCKASGYTFTSYYMHWVRQAPGQGLEWMGIINPSGGSTSYAQKFQGRVTMTRDTSTSTVYMELSSLRSEDTAVYYCAXXXXIVGATXXYFDYWGQGTLVTVSS"
           },
           {
            "count": 28,
            "name": "28 others"
           }
          ],
          "nan_count": 0,
          "unique_count": 30
         }
        },
        {
         "dtype": "float64",
         "name": "v_alignment_start_heavy",
         "stats": {
          "histogram": [
           {
            "bin_end": 0.6,
            "bin_start": 0.5,
            "count": 0
           },
           {
            "bin_end": 0.7,
            "bin_start": 0.6,
            "count": 0
           },
           {
            "bin_end": 0.8,
            "bin_start": 0.7,
            "count": 0
           },
           {
            "bin_end": 0.9,
            "bin_start": 0.8,
            "count": 0
           },
           {
            "bin_end": 1,
            "bin_start": 0.9,
            "count": 0
           },
           {
            "bin_end": 1.1,
            "bin_start": 1,
            "count": 30
           },
           {
            "bin_end": 1.2000000000000002,
            "bin_start": 1.1,
            "count": 0
           },
           {
            "bin_end": 1.3,
            "bin_start": 1.2000000000000002,
            "count": 0
           },
           {
            "bin_end": 1.4,
            "bin_start": 1.3,
            "count": 0
           },
           {
            "bin_end": 1.5,
            "bin_start": 1.4,
            "count": 0
           }
          ],
          "max": "1.0",
          "min": "1.0",
          "nan_count": 0,
          "unique_count": 1
         }
        },
        {
         "dtype": "float64",
         "name": "v_alignment_end_heavy",
         "stats": {
          "histogram": [
           {
            "bin_end": 289.1,
            "bin_start": 288,
            "count": 1
           },
           {
            "bin_end": 290.2,
            "bin_start": 289.1,
            "count": 2
           },
           {
            "bin_end": 291.3,
            "bin_start": 290.2,
            "count": 1
           },
           {
            "bin_end": 292.4,
            "bin_start": 291.3,
            "count": 0
           },
           {
            "bin_end": 293.5,
            "bin_start": 292.4,
            "count": 2
           },
           {
            "bin_end": 294.6,
            "bin_start": 293.5,
            "count": 4
           },
           {
            "bin_end": 295.7,
            "bin_start": 294.6,
            "count": 6
           },
           {
            "bin_end": 296.8,
            "bin_start": 295.7,
            "count": 10
           },
           {
            "bin_end": 297.9,
            "bin_start": 296.8,
            "count": 2
           },
           {
            "bin_end": 299,
            "bin_start": 297.9,
            "count": 2
           }
          ],
          "max": "299.0",
          "min": "288.0",
          "nan_count": 0,
          "unique_count": 9
         }
        },
        {
         "dtype": "float64",
         "name": "d_alignment_start_heavy",
         "stats": {
          "histogram": [
           {
            "bin_end": 297.6,
            "bin_start": 296,
            "count": 4
           },
           {
            "bin_end": 299.2,
            "bin_start": 297.6,
            "count": 4
           },
           {
            "bin_end": 300.8,
            "bin_start": 299.2,
            "count": 2
           },
           {
            "bin_end": 302.4,
            "bin_start": 300.8,
            "count": 6
           },
           {
            "bin_end": 304,
            "bin_start": 302.4,
            "count": 1
           },
           {
            "bin_end": 305.6,
            "bin_start": 304,
            "count": 3
           },
           {
            "bin_end": 307.2,
            "bin_start": 305.6,
            "count": 3
           },
           {
            "bin_end": 308.8,
            "bin_start": 307.2,
            "count": 0
           },
           {
            "bin_end": 310.4,
            "bin_start": 308.8,
            "count": 1
           },
           {
            "bin_end": 312,
            "bin_start": 310.4,
            "count": 2
           }
          ],
          "max": "312.0",
          "min": "296.0",
          "nan_count": 4,
          "unique_count": 13
         }
        },
        {
         "dtype": "float64",
         "name": "d_alignment_end_heavy",
         "stats": {
          "histogram": [
           {
            "bin_end": 305.4,
            "bin_start": 303,
            "count": 1
           },
           {
            "bin_end": 307.8,
            "bin_start": 305.4,
            "count": 5
           },
           {
            "bin_end": 310.2,
            "bin_start": 307.8,
            "count": 4
           },
           {
            "bin_end": 312.6,
            "bin_start": 310.2,
            "count": 2
           },
           {
            "bin_end": 315,
            "bin_start": 312.6,
            "count": 2
           },
           {
            "bin_end": 317.4,
            "bin_start": 315,
            "count": 5
           },
           {
            "bin_end": 319.8,
            "bin_start": 317.4,
            "count": 3
           },
           {
            "bin_end": 322.2,
            "bin_start": 319.8,
            "count": 1
           },
           {
            "bin_end": 324.6,
            "bin_start": 322.2,
            "count": 0
           },
           {
            "bin_end": 327,
            "bin_start": 324.6,
            "count": 3
           }
          ],
          "max": "327.0",
          "min": "303.0",
          "nan_count": 4,
          "unique_count": 16
         }
        },
        {
         "dtype": "float64",
         "name": "j_alignment_start_heavy",
         "stats": {
          "histogram": [
           {
            "bin_end": 304.2,
            "bin_start": 301,
            "count": 3
           },
           {
            "bin_end": 307.4,
            "bin_start": 304.2,
            "count": 0
           },
           {
            "bin_end": 310.6,
            "bin_start": 307.4,
            "count": 1
           },
           {
            "bin_end": 313.8,
            "bin_start": 310.6,
            "count": 1
           },
           {
            "bin_end": 317,
            "bin_start": 313.8,
            "count": 2
           },
           {
            "bin_end": 320.2,
            "bin_start": 317,
            "count": 7
           },
           {
            "bin_end": 323.4,
            "bin_start": 320.2,
            "count": 7
           },
           {
            "bin_end": 326.6,
            "bin_start": 323.4,
            "count": 3
           },
           {
            "bin_end": 329.8,
            "bin_start": 326.6,
            "count": 2
           },
           {
            "bin_end": 333,
            "bin_start": 329.8,
            "count": 4
           }
          ],
          "max": "333.0",
          "min": "301.0",
          "nan_count": 0,
          "unique_count": 20
         }
        },
        {
         "dtype": "float64",
         "name": "j_alignment_end_heavy",
         "stats": {
          "histogram": [
           {
            "bin_end": 347.4,
            "bin_start": 343,
            "count": 3
           },
           {
            "bin_end": 351.8,
            "bin_start": 347.4,
            "count": 0
           },
           {
            "bin_end": 356.2,
            "bin_start": 351.8,
            "count": 1
           },
           {
            "bin_end": 360.6,
            "bin_start": 356.2,
            "count": 2
           },
           {
            "bin_end": 365,
            "bin_start": 360.6,
            "count": 12
           },
           {
            "bin_end": 369.4,
            "bin_start": 365,
            "count": 4
           },
           {
            "bin_end": 373.8,
            "bin_start": 369.4,
            "count": 5
           },
           {
            "bin_end": 378.2,
            "bin_start": 373.8,
            "count": 1
           },
           {
            "bin_end": 382.6,
            "bin_start": 378.2,
            "count": 1
           },
           {
            "bin_end": 387,
            "bin_start": 382.6,
            "count": 1
           }
          ],
          "max": "387.0",
          "min": "343.0",
          "nan_count": 0,
          "unique_count": 15
         }
        },
        {
         "dtype": "object",
         "name": "v_sequence_alignment_heavy",
         "stats": {
          "categories": [
           {
            "count": 2,
            "name": "CAGGTCCAGCTGGTGCAATCTGGGGCTGAGGTGAAGAAGCCTGGGTCCTCGGTGAAGGTCTCCTGCAAGGCTTCTGGAGGCACCTTCAGCAGCTATACTATCAGCTGGGTGCGACAGGCCCCTGGACAAGGGCTTGAGTGGATGGGAAGGATCATCCCTATCCTTGGTATAGCAAACTACGCACAGAAGTTCCAGGGCAGAGTCACGATTACCGCGGACAAATCCACGAGCACAGCCTACATGGAGCTGAGCAGCCTGAGATCTGAGGACACGGCCGTGTATTACTGTGCGAGAGA"
           },
           {
            "count": 1,
            "name": "GAGATCCAACTGGTGGAGTCGGGGGGAGGCCTGGTCAAGCCTGGGGGGTCCCTGAGACTCTCCTGTGGAGCCTCTGGATTCACTTTCAGTTACTTTACCATGAACTGGGTCCGCCAGGCTCCAGGGAAGGGGCTGGAGTGGGTCTCATCCATTAGTAGCAGTAGTACTTACATATACTACGCAGACTCAGGGAGGGGCCGATTCACCATTTCCAGAGACAACGCCAATAACTCACTGTATCTACAAATGAACAGCCTGAGAGCCGAGGACACGGCTATATATTTCTGTGCGAGAG"
           },
           {
            "count": 27,
            "name": "27 others"
           }
          ],
          "nan_count": 0,
          "unique_count": 29
         }
        },
        {
         "dtype": "object",
         "name": "v_sequence_alignment_aa_heavy",
         "stats": {
          "categories": [
           {
            "count": 2,
            "name": "QVQLVQSGAEVKKPGSSVKVSCKASGGTFSSYTISWVRQAPGQGLEWMGRIIPILGIANYAQKFQGRVTITADKSTSTAYMELSSLRSEDTAVYYCAR"
           },
           {
            "count": 2,
            "name": "QVQLVQSGAEVKKPGASVKVSCKASGYTFTSYGISWVRQAPGQGLEWMGWISAYNGNTNYAQKLQGRVTMTTDTSTSTAYMELRSLRSDDTAVYYCAR"
           },
           {
            "count": 26,
            "name": "26 others"
           }
          ],
          "nan_count": 0,
          "unique_count": 28
         }
        },
        {
         "dtype": "object",
         "name": "v_germline_alignment_heavy",
         "stats": {
          "categories": [
           {
            "count": 2,
            "name": "CAGGTCCAGCTGGTGCAATCTGGGGCTGAGGTGAAGAAGCCTGGGTCCTCGGTGAAGGTCTCCTGCAAGGCTTCTGGAGGCACCTTCAGCAGCTATACTATCAGCTGGGTGCGACAGGCCCCTGGACAAGGGCTTGAGTGGATGGGAAGGATCATCCCTATCCTTGGTACAGCAAACTACGCACAGAAGTTCCAGGGCAGAGTCACGATTACCGCGGACAAATCCACGAGCACAGCCTACATGGAGCTGAGCAGCCTGAGATCTGAGGACACGGCCGTGTATTACTGTGCGAGAGA"
           },
           {
            "count": 1,
            "name": "GAGGTGCAACTGGTGGAGTCTGGGGGAGGCCTGGTCAAGCCTGGGGGGTCCCTGAGACTCTCCTGTGCAGCCTCTGGATTCACCTTCAGTAGCTATAGCATGAACTGGGTCCGCCAGGCTCCAGGGAAGGGGCTGGAGTGGGTCTCATCCATTAGTAGTAGTAGTAGTTACATATACTACGCAGACTCAGTGAAGGGCCGATTCACCATCTCCAGAGACAACGCCAAGAACTCACTGTATCTGCAAATGAACAGCCTGAGAGCCGAGGACACGGCTGTGTATTACTGTGCGAGAG"
           },
           {
            "count": 27,
            "name": "27 others"
           }
          ],
          "nan_count": 0,
          "unique_count": 29
         }
        },
        {
         "dtype": "object",
         "name": "v_germline_alignment_aa_heavy",
         "stats": {
          "categories": [
           {
            "count": 2,
            "name": "QVQLVQSGAEVKKPGASVKVSCKASGYTFTGYYMHWVRQAPGQGLEWMGRINPNSGGTNYAQKFQGRVTMTRDTSISTAYMELSRLRSDDTAVYYCAR"
           },
           {
            "count": 2,
            "name": "QVQLVQSGAEVKKPGSSVKVSCKASGGTFSSYTISWVRQAPGQGLEWMGRIIPILGTANYAQKFQGRVTITADKSTSTAYMELSSLRSEDTAVYYCAR"
           },
           {
            "count": 26,
            "name": "25 others"
           }
          ],
          "nan_count": 0,
          "unique_count": 27
         }
        },
        {
         "dtype": "object",
         "name": "d_sequence_alignment_heavy",
         "stats": {
          "categories": [
           {
            "count": 1,
            "name": "AGTGCCTACGAT"
           },
           {
            "count": 25,
            "name": "25 others"
           },
           {
            "count": 4,
            "name": "Missing"
           }
          ],
          "nan_count": 4,
          "unique_count": 26
         }
        },
        {
         "dtype": "object",
         "name": "d_sequence_alignment_aa_heavy",
         "stats": {
          "categories": [
           {
            "count": 1,
            "name": "SAYD"
           },
           {
            "count": 25,
            "name": "25 others"
           },
           {
            "count": 4,
            "name": "Missing"
           }
          ],
          "nan_count": 4,
          "unique_count": 26
         }
        },
        {
         "dtype": "object",
         "name": "d_germline_alignment_heavy",
         "stats": {
          "categories": [
           {
            "count": 1,
            "name": "AGTGGCTACGAT"
           },
           {
            "count": 25,
            "name": "25 others"
           },
           {
            "count": 4,
            "name": "Missing"
           }
          ],
          "nan_count": 4,
          "unique_count": 26
         }
        },
        {
         "dtype": "object",
         "name": "d_germline_alignment_aa_heavy",
         "stats": {
          "categories": [
           {
            "count": 2,
            "name": "SSGW"
           },
           {
            "count": 24,
            "name": "24 others"
           },
           {
            "count": 4,
            "name": "Missing"
           }
          ],
          "nan_count": 4,
          "unique_count": 25
         }
        },
        {
         "dtype": "object",
         "name": "j_sequence_alignment_heavy",
         "stats": {
          "categories": [
           {
            "count": 5,
            "name": "TGACTACTGGGGCCAGGGAACCCTGGTCACCGTCTCCTCAG"
           },
           {
            "count": 3,
            "name": "TTGACTACTGGGGCCAGGGAACCCTGGTCACCGTCTCCTCAG"
           },
           {
            "count": 22,
            "name": "22 others"
           }
          ],
          "nan_count": 0,
          "unique_count": 24
         }
        },
        {
         "dtype": "object",
         "name": "j_sequence_alignment_aa_heavy",
         "stats": {
          "categories": [
           {
            "count": 10,
            "name": "DYWGQGTLVTVSS"
           },
           {
            "count": 2,
            "name": "YFDYWGQGTLVTVSS"
           },
           {
            "count": 18,
            "name": "17 others"
           }
          ],
          "nan_count": 0,
          "unique_count": 19
         }
        },
        {
         "dtype": "object",
         "name": "j_germline_alignment_heavy",
         "stats": {
          "categories": [
           {
            "count": 5,
            "name": "TGACTACTGGGGCCAGGGAACCCTGGTCACCGTCTCCTCAG"
           },
           {
            "count": 4,
            "name": "TTGACTACTGGGGCCAGGGAACCCTGGTCACCGTCTCCTCAG"
           },
           {
            "count": 21,
            "name": "20 others"
           }
          ],
          "nan_count": 0,
          "unique_count": 22
         }
        },
        {
         "dtype": "object",
         "name": "j_germline_alignment_aa_heavy",
         "stats": {
          "categories": [
           {
            "count": 10,
            "name": "DYWGQGTLVTVSS"
           },
           {
            "count": 3,
            "name": "YFDYWGQGTLVTVSS"
           },
           {
            "count": 17,
            "name": "15 others"
           }
          ],
          "nan_count": 0,
          "unique_count": 17
         }
        },
        {
         "dtype": "object",
         "name": "fwr1_heavy",
         "stats": {
          "categories": [
           {
            "count": 3,
            "name": "CAGGTGCAGCTGGTGCAGTCTGGGGCTGAGGTGAAGAAGCCTGGGGCCTCAGTGAAGGTTTCCTGCAAGGCATCT"
           },
           {
            "count": 2,
            "name": "GAAGTGCAGCTGGTGGAGTCTGGGGGAGGCTTGGTACAGCCTGGCAGGTCCCTGAGACTCTCCTGTGCAGCCTCT"
           },
           {
            "count": 25,
            "name": "20 others"
           }
          ],
          "nan_count": 0,
          "unique_count": 22
         }
        },
        {
         "dtype": "object",
         "name": "fwr1_aa_heavy",
         "stats": {
          "categories": [
           {
            "count": 8,
            "name": "QVQLVQSGAEVKKPGASVKVSCKAS"
           },
           {
            "count": 2,
            "name": "EVQLVESGGGLVQPGRSLRLSCAAS"
           },
           {
            "count": 20,
            "name": "15 others"
           }
          ],
          "nan_count": 0,
          "unique_count": 17
         }
        },
        {
         "dtype": "object",
         "name": "cdr1_heavy",
         "stats": {
          "categories": [
           {
            "count": 2,
            "name": "GGATTCACCTTTGATGATTATGCC"
           },
           {
            "count": 2,
            "name": "GGATACACCTTCACCGGCTACTAT"
           },
           {
            "count": 26,
            "name": "23 others"
           }
          ],
          "nan_count": 0,
          "unique_count": 25
         }
        },
        {
         "dtype": "object",
         "name": "cdr1_aa_heavy",
         "stats": {
          "categories": [
           {
            "count": 2,
            "name": "GFTFDDYA"
           },
           {
            "count": 2,
            "name": "GYTFTGYY"
           },
           {
            "count": 26,
            "name": "23 others"
           }
          ],
          "nan_count": 0,
          "unique_count": 25
         }
        },
        {
         "dtype": "object",
         "name": "fwr2_heavy",
         "stats": {
          "categories": [
           {
            "count": 2,
            "name": "ATGCACTGGGTCCGGCAAGCTCCAGGGAAGGGCCTGGAGTGGGTCTCAGGT"
           },
           {
            "count": 2,
            "name": "ATGCACTGGGTCCGCCAGGCTCCAGGCAAGGGGCTGGAGTGGGTGGCAGTT"
           },
           {
            "count": 26,
            "name": "23 others"
           }
          ],
          "nan_count": 0,
          "unique_count": 25
         }
        },
        {
         "dtype": "object",
         "name": "fwr2_aa_heavy",
         "stats": {
          "categories": [
           {
            "count": 2,
            "name": "MHWVRQAPGKGLEWVSG"
           },
           {
            "count": 2,
            "name": "MHWVRQAPGKGLEWVAV"
           },
           {
            "count": 26,
            "name": "23 others"
           }
          ],
          "nan_count": 0,
          "unique_count": 25
         }
        },
        {
         "dtype": "object",
         "name": "cdr2_heavy",
         "stats": {
          "categories": [
           {
            "count": 2,
            "name": "ATTAGTTGGAATAGTGGTAGCATA"
           },
           {
            "count": 2,
            "name": "ATCATCCCTATCCTTGGTATAGCA"
           },
           {
            "count": 26,
            "name": "25 others"
           }
          ],
          "nan_count": 0,
          "unique_count": 27
         }
        },
        {
         "dtype": "object",
         "name": "cdr2_aa_heavy",
         "stats": {
          "categories": [
           {
            "count": 2,
            "name": "ISWNSGSI"
           },
           {
            "count": 2,
            "name": "IIPILGIA"
           },
           {
            "count": 26,
            "name": "25 others"
           }
          ],
          "nan_count": 0,
          "unique_count": 27
         }
        },
        {
         "dtype": "object",
         "name": "fwr3_heavy",
         "stats": {
          "categories": [
           {
            "count": 2,
            "name": "GGCTATGCGGACTCTGTGAAGGGCCGATTCACCATCTCCAGAGACAACGCCAAGAACTCCCTGTATCTGCAAATGAACAGTCTGAGAGCTGAGGACACGGCCTTGTATTACTGT"
           },
           {
            "count": 2,
            "name": "AACTACGCACAGAAGTTCCAGGGCAGAGTCACGATTACCGCGGACAAATCCACGAGCACAGCCTACATGGAGCTGAGCAGCCTGAGATCTGAGGACACGGCCGTGTATTACTGT"
           },
           {
            "count": 26,
            "name": "25 others"
           }
          ],
          "nan_count": 0,
          "unique_count": 27
         }
        },
        {
         "dtype": "object",
         "name": "fwr3_aa_heavy",
         "stats": {
          "categories": [
           {
            "count": 2,
            "name": "GYADSVKGRFTISRDNAKNSLYLQMNSLRAEDTALYYC"
           },
           {
            "count": 2,
            "name": "YYADSVKGRFTISRDNSKNTLYLQMNSLRAEDTAVYYC"
           },
           {
            "count": 26,
            "name": "23 others"
           }
          ],
          "nan_count": 0,
          "unique_count": 25
         }
        },
        {
         "dtype": "object",
         "name": "fwr4_heavy",
         "stats": {
          "categories": [
           {
            "count": 17,
            "name": "TGGGGCCAGGGAACCCTGGTCACCGTCTCCTCA"
           },
           {
            "count": 12,
            "name": "8 others"
           },
           {
            "count": 1,
            "name": "Missing"
           }
          ],
          "nan_count": 1,
          "unique_count": 9
         }
        },
        {
         "dtype": "object",
         "name": "fwr4_aa_heavy",
         "stats": {
          "categories": [
           {
            "count": 19,
            "name": "WGQGTLVTVSS"
           },
           {
            "count": 10,
            "name": "6 others"
           },
           {
            "count": 1,
            "name": "Missing"
           }
          ],
          "nan_count": 1,
          "unique_count": 7
         }
        },
        {
         "dtype": "object",
         "name": "cdr3_heavy",
         "stats": {
          "categories": [
           {
            "count": 1,
            "name": "GCGAGAGTCTCCGGAAGTGCCTACGATGAAAGAGCCACCGAGGGCTATTACTTCGGTATGGACGTC"
           },
           {
            "count": 1,
            "name": "GCCTGCGGATTAAGTATAGTGGGAGCTACTCTCGATTACTTTGACTAC"
           },
           {
            "count": 28,
            "name": "28 others"
           }
          ],
          "nan_count": 0,
          "unique_count": 30
         }
        },
        {
         "dtype": "object",
         "name": "cdr3_aa_heavy",
         "stats": {
          "categories": [
           {
            "count": 1,
            "name": "ARVSGSAYDERATEGYYFGMDV"
           },
           {
            "count": 1,
            "name": "ACGLSIVGATLDYFDY"
           },
           {
            "count": 28,
            "name": "28 others"
           }
          ],
          "nan_count": 0,
          "unique_count": 30
         }
        },
        {
         "dtype": "object",
         "name": "junction_heavy",
         "stats": {
          "categories": [
           {
            "count": 1,
            "name": "TGTGCGAGAGTCTCCGGAAGTGCCTACGATGAAAGAGCCACCGAGGGCTATTACTTCGGTATGGACGTCTGG"
           },
           {
            "count": 1,
            "name": "TGTGCCTGCGGATTAAGTATAGTGGGAGCTACTCTCGATTACTTTGACTACTGG"
           },
           {
            "count": 28,
            "name": "28 others"
           }
          ],
          "nan_count": 0,
          "unique_count": 30
         }
        },
        {
         "dtype": "float64",
         "name": "junction_length_heavy",
         "stats": {
          "histogram": [
           {
            "bin_end": 31.5,
            "bin_start": 27,
            "count": 3
           },
           {
            "bin_end": 36,
            "bin_start": 31.5,
            "count": 0
           },
           {
            "bin_end": 40.5,
            "bin_start": 36,
            "count": 1
           },
           {
            "bin_end": 45,
            "bin_start": 40.5,
            "count": 2
           },
           {
            "bin_end": 49.5,
            "bin_start": 45,
            "count": 14
           },
           {
            "bin_end": 54,
            "bin_start": 49.5,
            "count": 2
           },
           {
            "bin_end": 58.5,
            "bin_start": 54,
            "count": 5
           },
           {
            "bin_end": 63,
            "bin_start": 58.5,
            "count": 1
           },
           {
            "bin_end": 67.5,
            "bin_start": 63,
            "count": 1
           },
           {
            "bin_end": 72,
            "bin_start": 67.5,
            "count": 1
           }
          ],
          "max": "72.0",
          "min": "27.0",
          "nan_count": 0,
          "unique_count": 12
         }
        },
        {
         "dtype": "object",
         "name": "junction_aa_heavy",
         "stats": {
          "categories": [
           {
            "count": 1,
            "name": "CARVSGSAYDERATEGYYFGMDVW"
           },
           {
            "count": 1,
            "name": "CACGLSIVGATLDYFDYW"
           },
           {
            "count": 28,
            "name": "28 others"
           }
          ],
          "nan_count": 0,
          "unique_count": 30
         }
        },
        {
         "dtype": "float64",
         "name": "junction_aa_length_heavy",
         "stats": {
          "histogram": [
           {
            "bin_end": 10.5,
            "bin_start": 9,
            "count": 3
           },
           {
            "bin_end": 12,
            "bin_start": 10.5,
            "count": 0
           },
           {
            "bin_end": 13.5,
            "bin_start": 12,
            "count": 1
           },
           {
            "bin_end": 15,
            "bin_start": 13.5,
            "count": 2
           },
           {
            "bin_end": 16.5,
            "bin_start": 15,
            "count": 14
           },
           {
            "bin_end": 18,
            "bin_start": 16.5,
            "count": 2
           },
           {
            "bin_end": 19.5,
            "bin_start": 18,
            "count": 5
           },
           {
            "bin_end": 21,
            "bin_start": 19.5,
            "count": 1
           },
           {
            "bin_end": 22.5,
            "bin_start": 21,
            "count": 1
           },
           {
            "bin_end": 24,
            "bin_start": 22.5,
            "count": 1
           }
          ],
          "max": "24.0",
          "min": "9.0",
          "nan_count": 0,
          "unique_count": 12
         }
        },
        {
         "dtype": "float64",
         "name": "v_score_heavy",
         "stats": {
          "histogram": [
           {
            "bin_end": 359.42280000000005,
            "bin_start": 347.737,
            "count": 1
           },
           {
            "bin_end": 371.1086,
            "bin_start": 359.42280000000005,
            "count": 0
           },
           {
            "bin_end": 382.7944,
            "bin_start": 371.1086,
            "count": 1
           },
           {
            "bin_end": 394.4802,
            "bin_start": 382.7944,
            "count": 0
           },
           {
            "bin_end": 406.16600000000005,
            "bin_start": 394.4802,
            "count": 2
           },
           {
            "bin_end": 417.8518,
            "bin_start": 406.16600000000005,
            "count": 0
           },
           {
            "bin_end": 429.5376,
            "bin_start": 417.8518,
            "count": 6
           },
           {
            "bin_end": 441.2234,
            "bin_start": 429.5376,
            "count": 1
           },
           {
            "bin_end": 452.90920000000006,
            "bin_start": 441.2234,
            "count": 5
           },
           {
            "bin_end": 464.595,
            "bin_start": 452.90920000000006,
            "count": 14
           }
          ],
          "max": "464.595",
          "min": "347.737",
          "nan_count": 0,
          "unique_count": 19
         }
        },
        {
         "dtype": "float64",
         "name": "d_score_heavy",
         "stats": {
          "histogram": [
           {
            "bin_end": 13.9541,
            "bin_start": 10.301,
            "count": 4
           },
           {
            "bin_end": 17.6072,
            "bin_start": 13.9541,
            "count": 4
           },
           {
            "bin_end": 21.2603,
            "bin_start": 17.6072,
            "count": 4
           },
           {
            "bin_end": 24.9134,
            "bin_start": 21.2603,
            "count": 3
           },
           {
            "bin_end": 28.566499999999998,
            "bin_start": 24.9134,
            "count": 4
           },
           {
            "bin_end": 32.2196,
            "bin_start": 28.566499999999998,
            "count": 1
           },
           {
            "bin_end": 35.8727,
            "bin_start": 32.2196,
            "count": 3
           },
           {
            "bin_end": 39.5258,
            "bin_start": 35.8727,
            "count": 0
           },
           {
            "bin_end": 43.1789,
            "bin_start": 39.5258,
            "count": 2
           },
           {
            "bin_end": 46.832,
            "bin_start": 43.1789,
            "count": 1
           }
          ],
          "max": "46.832",
          "min": "10.301",
          "nan_count": 4,
          "unique_count": 15
         }
        },
        {
         "dtype": "float64",
         "name": "j_score_heavy",
         "stats": {
          "histogram": [
           {
            "bin_end": 63.7515,
            "bin_start": 58.368,
            "count": 1
           },
           {
            "bin_end": 69.135,
            "bin_start": 63.7515,
            "count": 1
           },
           {
            "bin_end": 74.5185,
            "bin_start": 69.135,
            "count": 2
           },
           {
            "bin_end": 79.902,
            "bin_start": 74.5185,
            "count": 9
           },
           {
            "bin_end": 85.2855,
            "bin_start": 79.902,
            "count": 4
           },
           {
            "bin_end": 90.66900000000001,
            "bin_start": 85.2855,
            "count": 7
           },
           {
            "bin_end": 96.05250000000001,
            "bin_start": 90.66900000000001,
            "count": 4
           },
           {
            "bin_end": 101.436,
            "bin_start": 96.05250000000001,
            "count": 1
           },
           {
            "bin_end": 106.8195,
            "bin_start": 101.436,
            "count": 0
           },
           {
            "bin_end": 112.203,
            "bin_start": 106.8195,
            "count": 1
           }
          ],
          "max": "112.203",
          "min": "58.368",
          "nan_count": 0,
          "unique_count": 17
         }
        },
        {
         "dtype": "object",
         "name": "v_cigar_heavy",
         "stats": {
          "categories": [
           {
            "count": 2,
            "name": "137S296M139S"
           },
           {
            "count": 1,
            "name": "136S295M253S1N"
           },
           {
            "count": 27,
            "name": "27 others"
           }
          ],
          "nan_count": 0,
          "unique_count": 29
         }
        },
        {
         "dtype": "object",
         "name": "d_cigar_heavy",
         "stats": {
          "categories": [
           {
            "count": 1,
            "name": "439S8N12M233S3N"
           },
           {
            "count": 25,
            "name": "25 others"
           },
           {
            "count": 4,
            "name": "Missing"
           }
          ],
          "nan_count": 4,
          "unique_count": 26
         }
        },
        {
         "dtype": "object",
         "name": "j_cigar_heavy",
         "stats": {
          "categories": [
           {
            "count": 1,
            "name": "468S7N55M161S"
           },
           {
            "count": 1,
            "name": "439S2N46M71S"
           },
           {
            "count": 28,
            "name": "28 others"
           }
          ],
          "nan_count": 0,
          "unique_count": 30
         }
        },
        {
         "dtype": "float64",
         "name": "v_support_heavy",
         "stats": {
          "histogram": [
           {
            "bin_end": 1.641e-98,
            "bin_start": 9.312e-133,
            "count": 29
           },
           {
            "bin_end": 3.282e-98,
            "bin_start": 1.641e-98,
            "count": 0
           },
           {
            "bin_end": 4.923e-98,
            "bin_start": 3.282e-98,
            "count": 0
           },
           {
            "bin_end": 6.564e-98,
            "bin_start": 4.923e-98,
            "count": 0
           },
           {
            "bin_end": 8.205e-98,
            "bin_start": 6.564e-98,
            "count": 0
           },
           {
            "bin_end": 9.846e-98,
            "bin_start": 8.205e-98,
            "count": 0
           },
           {
            "bin_end": 1.1487e-97,
            "bin_start": 9.846e-98,
            "count": 0
           },
           {
            "bin_end": 1.3128e-97,
            "bin_start": 1.1487e-97,
            "count": 0
           },
           {
            "bin_end": 1.4769e-97,
            "bin_start": 1.3128e-97,
            "count": 0
           },
           {
            "bin_end": 1.641e-97,
            "bin_start": 1.4769e-97,
            "count": 1
           }
          ],
          "max": "1.641e-97",
          "min": "9.312e-133",
          "nan_count": 0,
          "unique_count": 30
         }
        },
        {
         "dtype": "float64",
         "name": "d_support_heavy",
         "stats": {
          "histogram": [
           {
            "bin_end": 22.230000001827904,
            "bin_start": 2.031e-09,
            "count": 22
           },
           {
            "bin_end": 44.460000001624806,
            "bin_start": 22.230000001827904,
            "count": 0
           },
           {
            "bin_end": 66.69000000142171,
            "bin_start": 44.460000001624806,
            "count": 3
           },
           {
            "bin_end": 88.92000000121861,
            "bin_start": 66.69000000142171,
            "count": 0
           },
           {
            "bin_end": 111.15000000101551,
            "bin_start": 88.92000000121861,
            "count": 0
           },
           {
            "bin_end": 133.3800000008124,
            "bin_start": 111.15000000101551,
            "count": 0
           },
           {
            "bin_end": 155.6100000006093,
            "bin_start": 133.3800000008124,
            "count": 0
           },
           {
            "bin_end": 177.8400000004062,
            "bin_start": 155.6100000006093,
            "count": 0
           },
           {
            "bin_end": 200.07000000020312,
            "bin_start": 177.8400000004062,
            "count": 0
           },
           {
            "bin_end": 222.3,
            "bin_start": 200.07000000020312,
            "count": 1
           }
          ],
          "max": "222.3",
          "min": "2.031e-09",
          "nan_count": 4,
          "unique_count": 26
         }
        },
        {
         "dtype": "float64",
         "name": "j_support_heavy",
         "stats": {
          "histogram": [
           {
            "bin_end": 1.7590000000000011e-13,
            "bin_start": 9.467999999999999e-29,
            "count": 29
           },
           {
            "bin_end": 3.5180000000000013e-13,
            "bin_start": 1.7590000000000011e-13,
            "count": 0
           },
           {
            "bin_end": 5.277000000000002e-13,
            "bin_start": 3.5180000000000013e-13,
            "count": 0
           },
           {
            "bin_end": 7.036000000000002e-13,
            "bin_start": 5.277000000000002e-13,
            "count": 0
           },
           {
            "bin_end": 8.795000000000001e-13,
            "bin_start": 7.036000000000002e-13,
            "count": 0
           },
           {
            "bin_end": 1.0554000000000001e-12,
            "bin_start": 8.795000000000001e-13,
            "count": 0
           },
           {
            "bin_end": 1.2313e-12,
            "bin_start": 1.0554000000000001e-12,
            "count": 0
           },
           {
            "bin_end": 1.4072000000000001e-12,
            "bin_start": 1.2313e-12,
            "count": 0
           },
           {
            "bin_end": 1.5831000000000002e-12,
            "bin_start": 1.4072000000000001e-12,
            "count": 0
           },
           {
            "bin_end": 1.759e-12,
            "bin_start": 1.5831000000000002e-12,
            "count": 1
           }
          ],
          "max": "1.759e-12",
          "min": "9.467999999999999e-29",
          "nan_count": 0,
          "unique_count": 30
         }
        },
        {
         "dtype": "float64",
         "name": "v_identity_heavy",
         "stats": {
          "histogram": [
           {
            "bin_end": 88.9795,
            "bin_start": 87.755,
            "count": 1
           },
           {
            "bin_end": 90.204,
            "bin_start": 88.9795,
            "count": 0
           },
           {
            "bin_end": 91.4285,
            "bin_start": 90.204,
            "count": 1
           },
           {
            "bin_end": 92.65299999999999,
            "bin_start": 91.4285,
            "count": 0
           },
           {
            "bin_end": 93.8775,
            "bin_start": 92.65299999999999,
            "count": 2
           },
           {
            "bin_end": 95.102,
            "bin_start": 93.8775,
            "count": 0
           },
           {
            "bin_end": 96.3265,
            "bin_start": 95.102,
            "count": 6
           },
           {
            "bin_end": 97.551,
            "bin_start": 96.3265,
            "count": 0
           },
           {
            "bin_end": 98.7755,
            "bin_start": 97.551,
            "count": 3
           },
           {
            "bin_end": 100,
            "bin_start": 98.7755,
            "count": 17
           }
          ],
          "max": "100.0",
          "min": "87.755",
          "nan_count": 0,
          "unique_count": 17
         }
        },
        {
         "dtype": "float64",
         "name": "d_identity_heavy",
         "stats": {
          "histogram": [
           {
            "bin_end": 91,
            "bin_start": 90,
            "count": 1
           },
           {
            "bin_end": 92,
            "bin_start": 91,
            "count": 1
           },
           {
            "bin_end": 93,
            "bin_start": 92,
            "count": 1
           },
           {
            "bin_end": 94,
            "bin_start": 93,
            "count": 0
           },
           {
            "bin_end": 95,
            "bin_start": 94,
            "count": 0
           },
           {
            "bin_end": 96,
            "bin_start": 95,
            "count": 0
           },
           {
            "bin_end": 97,
            "bin_start": 96,
            "count": 0
           },
           {
            "bin_end": 98,
            "bin_start": 97,
            "count": 0
           },
           {
            "bin_end": 99,
            "bin_start": 98,
            "count": 0
           },
           {
            "bin_end": 100,
            "bin_start": 99,
            "count": 23
           }
          ],
          "max": "100.0",
          "min": "90.0",
          "nan_count": 4,
          "unique_count": 4
         }
        },
        {
         "dtype": "float64",
         "name": "j_identity_heavy",
         "stats": {
          "histogram": [
           {
            "bin_end": 90.0001,
            "bin_start": 88.889,
            "count": 1
           },
           {
            "bin_end": 91.1112,
            "bin_start": 90.0001,
            "count": 0
           },
           {
            "bin_end": 92.22229999999999,
            "bin_start": 91.1112,
            "count": 0
           },
           {
            "bin_end": 93.3334,
            "bin_start": 92.22229999999999,
            "count": 1
           },
           {
            "bin_end": 94.4445,
            "bin_start": 93.3334,
            "count": 3
           },
           {
            "bin_end": 95.5556,
            "bin_start": 94.4445,
            "count": 0
           },
           {
            "bin_end": 96.66669999999999,
            "bin_start": 95.5556,
            "count": 2
           },
           {
            "bin_end": 97.7778,
            "bin_start": 96.66669999999999,
            "count": 1
           },
           {
            "bin_end": 98.8889,
            "bin_start": 97.7778,
            "count": 1
           },
           {
            "bin_end": 100,
            "bin_start": 98.8889,
            "count": 21
           }
          ],
          "max": "100.0",
          "min": "88.889",
          "nan_count": 0,
          "unique_count": 10
         }
        },
        {
         "dtype": "float64",
         "name": "v_sequence_start_heavy",
         "stats": {
          "histogram": [
           {
            "bin_end": 91.6,
            "bin_start": 80,
            "count": 1
           },
           {
            "bin_end": 103.2,
            "bin_start": 91.6,
            "count": 3
           },
           {
            "bin_end": 114.8,
            "bin_start": 103.2,
            "count": 0
           },
           {
            "bin_end": 126.4,
            "bin_start": 114.8,
            "count": 13
           },
           {
            "bin_end": 138,
            "bin_start": 126.4,
            "count": 4
           },
           {
            "bin_end": 149.6,
            "bin_start": 138,
            "count": 7
           },
           {
            "bin_end": 161.2,
            "bin_start": 149.6,
            "count": 0
           },
           {
            "bin_end": 172.8,
            "bin_start": 161.2,
            "count": 1
           },
           {
            "bin_end": 184.39999999999998,
            "bin_start": 172.8,
            "count": 0
           },
           {
            "bin_end": 196,
            "bin_start": 184.39999999999998,
            "count": 1
           }
          ],
          "max": "196.0",
          "min": "80.0",
          "nan_count": 0,
          "unique_count": 14
         }
        },
        {
         "dtype": "float64",
         "name": "v_sequence_end_heavy",
         "stats": {
          "histogram": [
           {
            "bin_end": 387.4,
            "bin_start": 376,
            "count": 1
           },
           {
            "bin_end": 398.8,
            "bin_start": 387.4,
            "count": 3
           },
           {
            "bin_end": 410.2,
            "bin_start": 398.8,
            "count": 5
           },
           {
            "bin_end": 421.6,
            "bin_start": 410.2,
            "count": 8
           },
           {
            "bin_end": 433,
            "bin_start": 421.6,
            "count": 7
           },
           {
            "bin_end": 444.4,
            "bin_start": 433,
            "count": 4
           },
           {
            "bin_end": 455.8,
            "bin_start": 444.4,
            "count": 0
           },
           {
            "bin_end": 467.2,
            "bin_start": 455.8,
            "count": 1
           },
           {
            "bin_end": 478.6,
            "bin_start": 467.2,
            "count": 0
           },
           {
            "bin_end": 490,
            "bin_start": 478.6,
            "count": 1
           }
          ],
          "max": "490.0",
          "min": "376.0",
          "nan_count": 0,
          "unique_count": 22
         }
        },
        {
         "dtype": "float64",
         "name": "v_germline_start_heavy",
         "stats": {
          "histogram": [
           {
            "bin_end": 0.6,
            "bin_start": 0.5,
            "count": 0
           },
           {
            "bin_end": 0.7,
            "bin_start": 0.6,
            "count": 0
           },
           {
            "bin_end": 0.8,
            "bin_start": 0.7,
            "count": 0
           },
           {
            "bin_end": 0.9,
            "bin_start": 0.8,
            "count": 0
           },
           {
            "bin_end": 1,
            "bin_start": 0.9,
            "count": 0
           },
           {
            "bin_end": 1.1,
            "bin_start": 1,
            "count": 30
           },
           {
            "bin_end": 1.2000000000000002,
            "bin_start": 1.1,
            "count": 0
           },
           {
            "bin_end": 1.3,
            "bin_start": 1.2000000000000002,
            "count": 0
           },
           {
            "bin_end": 1.4,
            "bin_start": 1.3,
            "count": 0
           },
           {
            "bin_end": 1.5,
            "bin_start": 1.4,
            "count": 0
           }
          ],
          "max": "1.0",
          "min": "1.0",
          "nan_count": 0,
          "unique_count": 1
         }
        },
        {
         "dtype": "float64",
         "name": "v_germline_end_heavy",
         "stats": {
          "histogram": [
           {
            "bin_end": 289.1,
            "bin_start": 288,
            "count": 1
           },
           {
            "bin_end": 290.2,
            "bin_start": 289.1,
            "count": 2
           },
           {
            "bin_end": 291.3,
            "bin_start": 290.2,
            "count": 1
           },
           {
            "bin_end": 292.4,
            "bin_start": 291.3,
            "count": 0
           },
           {
            "bin_end": 293.5,
            "bin_start": 292.4,
            "count": 2
           },
           {
            "bin_end": 294.6,
            "bin_start": 293.5,
            "count": 4
           },
           {
            "bin_end": 295.7,
            "bin_start": 294.6,
            "count": 6
           },
           {
            "bin_end": 296.8,
            "bin_start": 295.7,
            "count": 10
           },
           {
            "bin_end": 297.9,
            "bin_start": 296.8,
            "count": 2
           },
           {
            "bin_end": 299,
            "bin_start": 297.9,
            "count": 2
           }
          ],
          "max": "299.0",
          "min": "288.0",
          "nan_count": 0,
          "unique_count": 9
         }
        },
        {
         "dtype": "float64",
         "name": "d_sequence_start_heavy",
         "stats": {
          "histogram": [
           {
            "bin_end": 404.7,
            "bin_start": 395,
            "count": 3
           },
           {
            "bin_end": 414.4,
            "bin_start": 404.7,
            "count": 2
           },
           {
            "bin_end": 424.1,
            "bin_start": 414.4,
            "count": 8
           },
           {
            "bin_end": 433.8,
            "bin_start": 424.1,
            "count": 1
           },
           {
            "bin_end": 443.5,
            "bin_start": 433.8,
            "count": 9
           },
           {
            "bin_end": 453.2,
            "bin_start": 443.5,
            "count": 1
           },
           {
            "bin_end": 462.9,
            "bin_start": 453.2,
            "count": 1
           },
           {
            "bin_end": 472.6,
            "bin_start": 462.9,
            "count": 0
           },
           {
            "bin_end": 482.3,
            "bin_start": 472.6,
            "count": 0
           },
           {
            "bin_end": 492,
            "bin_start": 482.3,
            "count": 1
           }
          ],
          "max": "492.0",
          "min": "395.0",
          "nan_count": 4,
          "unique_count": 19
         }
        },
        {
         "dtype": "float64",
         "name": "d_sequence_end_heavy",
         "stats": {
          "histogram": [
           {
            "bin_end": 409.5,
            "bin_start": 399,
            "count": 1
           },
           {
            "bin_end": 420,
            "bin_start": 409.5,
            "count": 2
           },
           {
            "bin_end": 430.5,
            "bin_start": 420,
            "count": 5
           },
           {
            "bin_end": 441,
            "bin_start": 430.5,
            "count": 5
           },
           {
            "bin_end": 451.5,
            "bin_start": 441,
            "count": 8
           },
           {
            "bin_end": 462,
            "bin_start": 451.5,
            "count": 3
           },
           {
            "bin_end": 472.5,
            "bin_start": 462,
            "count": 1
           },
           {
            "bin_end": 483,
            "bin_start": 472.5,
            "count": 0
           },
           {
            "bin_end": 493.5,
            "bin_start": 483,
            "count": 0
           },
           {
            "bin_end": 504,
            "bin_start": 493.5,
            "count": 1
           }
          ],
          "max": "504.0",
          "min": "399.0",
          "nan_count": 4,
          "unique_count": 24
         }
        },
        {
         "dtype": "float64",
         "name": "d_germline_start_heavy",
         "stats": {
          "histogram": [
           {
            "bin_end": 2.7,
            "bin_start": 1,
            "count": 4
           },
           {
            "bin_end": 4.4,
            "bin_start": 2.7,
            "count": 4
           },
           {
            "bin_end": 6.1,
            "bin_start": 4.4,
            "count": 5
           },
           {
            "bin_end": 7.8,
            "bin_start": 6.1,
            "count": 1
           },
           {
            "bin_end": 9.5,
            "bin_start": 7.8,
            "count": 4
           },
           {
            "bin_end": 11.2,
            "bin_start": 9.5,
            "count": 2
           },
           {
            "bin_end": 12.9,
            "bin_start": 11.2,
            "count": 0
           },
           {
            "bin_end": 14.6,
            "bin_start": 12.9,
            "count": 1
           },
           {
            "bin_end": 16.299999999999997,
            "bin_start": 14.6,
            "count": 2
           },
           {
            "bin_end": 18,
            "bin_start": 16.299999999999997,
            "count": 3
           }
          ],
          "max": "18.0",
          "min": "1.0",
          "nan_count": 4,
          "unique_count": 15
         }
        },
        {
         "dtype": "float64",
         "name": "d_germline_end_heavy",
         "stats": {
          "histogram": [
           {
            "bin_end": 9.2,
            "bin_start": 7,
            "count": 1
           },
           {
            "bin_end": 11.4,
            "bin_start": 9.2,
            "count": 1
           },
           {
            "bin_end": 13.600000000000001,
            "bin_start": 11.4,
            "count": 2
           },
           {
            "bin_end": 15.8,
            "bin_start": 13.600000000000001,
            "count": 3
           },
           {
            "bin_end": 18,
            "bin_start": 15.8,
            "count": 2
           },
           {
            "bin_end": 20.200000000000003,
            "bin_start": 18,
            "count": 5
           },
           {
            "bin_end": 22.400000000000002,
            "bin_start": 20.200000000000003,
            "count": 4
           },
           {
            "bin_end": 24.6,
            "bin_start": 22.400000000000002,
            "count": 1
           },
           {
            "bin_end": 26.8,
            "bin_start": 24.6,
            "count": 4
           },
           {
            "bin_end": 29,
            "bin_start": 26.8,
            "count": 3
           }
          ],
          "max": "29.0",
          "min": "7.0",
          "nan_count": 4,
          "unique_count": 17
         }
        },
        {
         "dtype": "float64",
         "name": "j_sequence_start_heavy",
         "stats": {
          "histogram": [
           {
            "bin_end": 404,
            "bin_start": 392,
            "count": 1
           },
           {
            "bin_end": 416,
            "bin_start": 404,
            "count": 0
           },
           {
            "bin_end": 428,
            "bin_start": 416,
            "count": 6
           },
           {
            "bin_end": 440,
            "bin_start": 428,
            "count": 3
           },
           {
            "bin_end": 452,
            "bin_start": 440,
            "count": 8
           },
           {
            "bin_end": 464,
            "bin_start": 452,
            "count": 8
           },
           {
            "bin_end": 476,
            "bin_start": 464,
            "count": 3
           },
           {
            "bin_end": 488,
            "bin_start": 476,
            "count": 0
           },
           {
            "bin_end": 500,
            "bin_start": 488,
            "count": 0
           },
           {
            "bin_end": 512,
            "bin_start": 500,
            "count": 1
           }
          ],
          "max": "512.0",
          "min": "392.0",
          "nan_count": 0,
          "unique_count": 26
         }
        },
        {
         "dtype": "float64",
         "name": "j_sequence_end_heavy",
         "stats": {
          "histogram": [
           {
            "bin_end": 455.8,
            "bin_start": 445,
            "count": 1
           },
           {
            "bin_end": 466.6,
            "bin_start": 455.8,
            "count": 6
           },
           {
            "bin_end": 477.4,
            "bin_start": 466.6,
            "count": 1
           },
           {
            "bin_end": 488.2,
            "bin_start": 477.4,
            "count": 7
           },
           {
            "bin_end": 499,
            "bin_start": 488.2,
            "count": 2
           },
           {
            "bin_end": 509.8,
            "bin_start": 499,
            "count": 10
           },
           {
            "bin_end": 520.6,
            "bin_start": 509.8,
            "count": 1
           },
           {
            "bin_end": 531.4,
            "bin_start": 520.6,
            "count": 1
           },
           {
            "bin_end": 542.2,
            "bin_start": 531.4,
            "count": 0
           },
           {
            "bin_end": 553,
            "bin_start": 542.2,
            "count": 1
           }
          ],
          "max": "553.0",
          "min": "445.0",
          "nan_count": 0,
          "unique_count": 23
         }
        },
        {
         "dtype": "float64",
         "name": "j_germline_start_heavy",
         "stats": {
          "histogram": [
           {
            "bin_end": 2.6,
            "bin_start": 1,
            "count": 3
           },
           {
            "bin_end": 4.2,
            "bin_start": 2.6,
            "count": 4
           },
           {
            "bin_end": 5.800000000000001,
            "bin_start": 4.2,
            "count": 5
           },
           {
            "bin_end": 7.4,
            "bin_start": 5.800000000000001,
            "count": 4
           },
           {
            "bin_end": 9,
            "bin_start": 7.4,
            "count": 7
           },
           {
            "bin_end": 10.600000000000001,
            "bin_start": 9,
            "count": 4
           },
           {
            "bin_end": 12.200000000000001,
            "bin_start": 10.600000000000001,
            "count": 0
           },
           {
            "bin_end": 13.8,
            "bin_start": 12.200000000000001,
            "count": 2
           },
           {
            "bin_end": 15.4,
            "bin_start": 13.8,
            "count": 0
           },
           {
            "bin_end": 17,
            "bin_start": 15.4,
            "count": 1
           }
          ],
          "max": "17.0",
          "min": "1.0",
          "nan_count": 0,
          "unique_count": 10
         }
        },
        {
         "dtype": "float64",
         "name": "j_germline_end_heavy",
         "stats": {
          "histogram": [
           {
            "bin_end": 49.4,
            "bin_start": 48,
            "count": 16
           },
           {
            "bin_end": 50.8,
            "bin_start": 49.4,
            "count": 3
           },
           {
            "bin_end": 52.2,
            "bin_start": 50.8,
            "count": 5
           },
           {
            "bin_end": 53.6,
            "bin_start": 52.2,
            "count": 1
           },
           {
            "bin_end": 55,
            "bin_start": 53.6,
            "count": 0
           },
           {
            "bin_end": 56.4,
            "bin_start": 55,
            "count": 0
           },
           {
            "bin_end": 57.8,
            "bin_start": 56.4,
            "count": 0
           },
           {
            "bin_end": 59.2,
            "bin_start": 57.8,
            "count": 0
           },
           {
            "bin_end": 60.6,
            "bin_start": 59.2,
            "count": 0
           },
           {
            "bin_end": 62,
            "bin_start": 60.6,
            "count": 5
           }
          ],
          "max": "62.0",
          "min": "48.0",
          "nan_count": 0,
          "unique_count": 5
         }
        },
        {
         "dtype": "float64",
         "name": "fwr1_start_heavy",
         "stats": {
          "histogram": [
           {
            "bin_end": 91.6,
            "bin_start": 80,
            "count": 1
           },
           {
            "bin_end": 103.2,
            "bin_start": 91.6,
            "count": 3
           },
           {
            "bin_end": 114.8,
            "bin_start": 103.2,
            "count": 0
           },
           {
            "bin_end": 126.4,
            "bin_start": 114.8,
            "count": 13
           },
           {
            "bin_end": 138,
            "bin_start": 126.4,
            "count": 4
           },
           {
            "bin_end": 149.6,
            "bin_start": 138,
            "count": 7
           },
           {
            "bin_end": 161.2,
            "bin_start": 149.6,
            "count": 0
           },
           {
            "bin_end": 172.8,
            "bin_start": 161.2,
            "count": 1
           },
           {
            "bin_end": 184.39999999999998,
            "bin_start": 172.8,
            "count": 0
           },
           {
            "bin_end": 196,
            "bin_start": 184.39999999999998,
            "count": 1
           }
          ],
          "max": "196.0",
          "min": "80.0",
          "nan_count": 0,
          "unique_count": 14
         }
        },
        {
         "dtype": "float64",
         "name": "fwr1_end_heavy",
         "stats": {
          "histogram": [
           {
            "bin_end": 165.6,
            "bin_start": 154,
            "count": 1
           },
           {
            "bin_end": 177.2,
            "bin_start": 165.6,
            "count": 3
           },
           {
            "bin_end": 188.8,
            "bin_start": 177.2,
            "count": 0
           },
           {
            "bin_end": 200.4,
            "bin_start": 188.8,
            "count": 13
           },
           {
            "bin_end": 212,
            "bin_start": 200.4,
            "count": 4
           },
           {
            "bin_end": 223.6,
            "bin_start": 212,
            "count": 7
           },
           {
            "bin_end": 235.2,
            "bin_start": 223.6,
            "count": 0
           },
           {
            "bin_end": 246.8,
            "bin_start": 235.2,
            "count": 1
           },
           {
            "bin_end": 258.4,
            "bin_start": 246.8,
            "count": 0
           },
           {
            "bin_end": 270,
            "bin_start": 258.4,
            "count": 1
           }
          ],
          "max": "270.0",
          "min": "154.0",
          "nan_count": 0,
          "unique_count": 14
         }
        },
        {
         "dtype": "float64",
         "name": "cdr1_start_heavy",
         "stats": {
          "histogram": [
           {
            "bin_end": 166.6,
            "bin_start": 155,
            "count": 1
           },
           {
            "bin_end": 178.2,
            "bin_start": 166.6,
            "count": 3
           },
           {
            "bin_end": 189.8,
            "bin_start": 178.2,
            "count": 0
           },
           {
            "bin_end": 201.4,
            "bin_start": 189.8,
            "count": 13
           },
           {
            "bin_end": 213,
            "bin_start": 201.4,
            "count": 4
           },
           {
            "bin_end": 224.6,
            "bin_start": 213,
            "count": 7
           },
           {
            "bin_end": 236.2,
            "bin_start": 224.6,
            "count": 0
           },
           {
            "bin_end": 247.8,
            "bin_start": 236.2,
            "count": 1
           },
           {
            "bin_end": 259.4,
            "bin_start": 247.8,
            "count": 0
           },
           {
            "bin_end": 271,
            "bin_start": 259.4,
            "count": 1
           }
          ],
          "max": "271.0",
          "min": "155.0",
          "nan_count": 0,
          "unique_count": 14
         }
        },
        {
         "dtype": "float64",
         "name": "cdr1_end_heavy",
         "stats": {
          "histogram": [
           {
            "bin_end": 195,
            "bin_start": 184,
            "count": 1
           },
           {
            "bin_end": 206,
            "bin_start": 195,
            "count": 3
           },
           {
            "bin_end": 217,
            "bin_start": 206,
            "count": 9
           },
           {
            "bin_end": 228,
            "bin_start": 217,
            "count": 4
           },
           {
            "bin_end": 239,
            "bin_start": 228,
            "count": 10
           },
           {
            "bin_end": 250,
            "bin_start": 239,
            "count": 1
           },
           {
            "bin_end": 261,
            "bin_start": 250,
            "count": 0
           },
           {
            "bin_end": 272,
            "bin_start": 261,
            "count": 1
           },
           {
            "bin_end": 283,
            "bin_start": 272,
            "count": 0
           },
           {
            "bin_end": 294,
            "bin_start": 283,
            "count": 1
           }
          ],
          "max": "294.0",
          "min": "184.0",
          "nan_count": 0,
          "unique_count": 14
         }
        },
        {
         "dtype": "float64",
         "name": "fwr2_start_heavy",
         "stats": {
          "histogram": [
           {
            "bin_end": 196,
            "bin_start": 185,
            "count": 1
           },
           {
            "bin_end": 207,
            "bin_start": 196,
            "count": 3
           },
           {
            "bin_end": 218,
            "bin_start": 207,
            "count": 9
           },
           {
            "bin_end": 229,
            "bin_start": 218,
            "count": 4
           },
           {
            "bin_end": 240,
            "bin_start": 229,
            "count": 10
           },
           {
            "bin_end": 251,
            "bin_start": 240,
            "count": 1
           },
           {
            "bin_end": 262,
            "bin_start": 251,
            "count": 0
           },
           {
            "bin_end": 273,
            "bin_start": 262,
            "count": 1
           },
           {
            "bin_end": 284,
            "bin_start": 273,
            "count": 0
           },
           {
            "bin_end": 295,
            "bin_start": 284,
            "count": 1
           }
          ],
          "max": "295.0",
          "min": "185.0",
          "nan_count": 0,
          "unique_count": 14
         }
        },
        {
         "dtype": "float64",
         "name": "fwr2_end_heavy",
         "stats": {
          "histogram": [
           {
            "bin_end": 246,
            "bin_start": 235,
            "count": 1
           },
           {
            "bin_end": 257,
            "bin_start": 246,
            "count": 3
           },
           {
            "bin_end": 268,
            "bin_start": 257,
            "count": 9
           },
           {
            "bin_end": 279,
            "bin_start": 268,
            "count": 4
           },
           {
            "bin_end": 290,
            "bin_start": 279,
            "count": 10
           },
           {
            "bin_end": 301,
            "bin_start": 290,
            "count": 1
           },
           {
            "bin_end": 312,
            "bin_start": 301,
            "count": 0
           },
           {
            "bin_end": 323,
            "bin_start": 312,
            "count": 1
           },
           {
            "bin_end": 334,
            "bin_start": 323,
            "count": 0
           },
           {
            "bin_end": 345,
            "bin_start": 334,
            "count": 1
           }
          ],
          "max": "345.0",
          "min": "235.0",
          "nan_count": 0,
          "unique_count": 14
         }
        },
        {
         "dtype": "float64",
         "name": "cdr2_start_heavy",
         "stats": {
          "histogram": [
           {
            "bin_end": 247,
            "bin_start": 236,
            "count": 1
           },
           {
            "bin_end": 258,
            "bin_start": 247,
            "count": 3
           },
           {
            "bin_end": 269,
            "bin_start": 258,
            "count": 9
           },
           {
            "bin_end": 280,
            "bin_start": 269,
            "count": 4
           },
           {
            "bin_end": 291,
            "bin_start": 280,
            "count": 10
           },
           {
            "bin_end": 302,
            "bin_start": 291,
            "count": 1
           },
           {
            "bin_end": 313,
            "bin_start": 302,
            "count": 0
           },
           {
            "bin_end": 324,
            "bin_start": 313,
            "count": 1
           },
           {
            "bin_end": 335,
            "bin_start": 324,
            "count": 0
           },
           {
            "bin_end": 346,
            "bin_start": 335,
            "count": 1
           }
          ],
          "max": "346.0",
          "min": "236.0",
          "nan_count": 0,
          "unique_count": 14
         }
        },
        {
         "dtype": "float64",
         "name": "cdr2_end_heavy",
         "stats": {
          "histogram": [
           {
            "bin_end": 267.3,
            "bin_start": 256,
            "count": 1
           },
           {
            "bin_end": 278.6,
            "bin_start": 267.3,
            "count": 3
           },
           {
            "bin_end": 289.9,
            "bin_start": 278.6,
            "count": 4
           },
           {
            "bin_end": 301.2,
            "bin_start": 289.9,
            "count": 9
           },
           {
            "bin_end": 312.5,
            "bin_start": 301.2,
            "count": 10
           },
           {
            "bin_end": 323.8,
            "bin_start": 312.5,
            "count": 1
           },
           {
            "bin_end": 335.1,
            "bin_start": 323.8,
            "count": 0
           },
           {
            "bin_end": 346.4,
            "bin_start": 335.1,
            "count": 1
           },
           {
            "bin_end": 357.7,
            "bin_start": 346.4,
            "count": 0
           },
           {
            "bin_end": 369,
            "bin_start": 357.7,
            "count": 1
           }
          ],
          "max": "369.0",
          "min": "256.0",
          "nan_count": 0,
          "unique_count": 14
         }
        },
        {
         "dtype": "float64",
         "name": "fwr3_start_heavy",
         "stats": {
          "histogram": [
           {
            "bin_end": 268.3,
            "bin_start": 257,
            "count": 1
           },
           {
            "bin_end": 279.6,
            "bin_start": 268.3,
            "count": 3
           },
           {
            "bin_end": 290.9,
            "bin_start": 279.6,
            "count": 4
           },
           {
            "bin_end": 302.2,
            "bin_start": 290.9,
            "count": 9
           },
           {
            "bin_end": 313.5,
            "bin_start": 302.2,
            "count": 10
           },
           {
            "bin_end": 324.8,
            "bin_start": 313.5,
            "count": 1
           },
           {
            "bin_end": 336.1,
            "bin_start": 324.8,
            "count": 0
           },
           {
            "bin_end": 347.4,
            "bin_start": 336.1,
            "count": 1
           },
           {
            "bin_end": 358.7,
            "bin_start": 347.4,
            "count": 0
           },
           {
            "bin_end": 370,
            "bin_start": 358.7,
            "count": 1
           }
          ],
          "max": "370.0",
          "min": "257.0",
          "nan_count": 0,
          "unique_count": 14
         }
        },
        {
         "dtype": "float64",
         "name": "fwr3_end_heavy",
         "stats": {
          "histogram": [
           {
            "bin_end": 381.3,
            "bin_start": 370,
            "count": 1
           },
           {
            "bin_end": 392.6,
            "bin_start": 381.3,
            "count": 3
           },
           {
            "bin_end": 403.9,
            "bin_start": 392.6,
            "count": 4
           },
           {
            "bin_end": 415.2,
            "bin_start": 403.9,
            "count": 9
           },
           {
            "bin_end": 426.5,
            "bin_start": 415.2,
            "count": 10
           },
           {
            "bin_end": 437.8,
            "bin_start": 426.5,
            "count": 1
           },
           {
            "bin_end": 449.1,
            "bin_start": 437.8,
            "count": 0
           },
           {
            "bin_end": 460.4,
            "bin_start": 449.1,
            "count": 1
           },
           {
            "bin_end": 471.7,
            "bin_start": 460.4,
            "count": 0
           },
           {
            "bin_end": 483,
            "bin_start": 471.7,
            "count": 1
           }
          ],
          "max": "483.0",
          "min": "370.0",
          "nan_count": 0,
          "unique_count": 14
         }
        },
        {
         "dtype": "float64",
         "name": "fwr4_start_heavy",
         "stats": {
          "histogram": [
           {
            "bin_end": 423.7,
            "bin_start": 413,
            "count": 1
           },
           {
            "bin_end": 434.4,
            "bin_start": 423.7,
            "count": 6
           },
           {
            "bin_end": 445.1,
            "bin_start": 434.4,
            "count": 2
           },
           {
            "bin_end": 455.8,
            "bin_start": 445.1,
            "count": 6
           },
           {
            "bin_end": 466.5,
            "bin_start": 455.8,
            "count": 2
           },
           {
            "bin_end": 477.2,
            "bin_start": 466.5,
            "count": 10
           },
           {
            "bin_end": 487.9,
            "bin_start": 477.2,
            "count": 0
           },
           {
            "bin_end": 498.6,
            "bin_start": 487.9,
            "count": 1
           },
           {
            "bin_end": 509.3,
            "bin_start": 498.6,
            "count": 0
           },
           {
            "bin_end": 520,
            "bin_start": 509.3,
            "count": 1
           }
          ],
          "max": "520.0",
          "min": "413.0",
          "nan_count": 1,
          "unique_count": 22
         }
        },
        {
         "dtype": "float64",
         "name": "fwr4_end_heavy",
         "stats": {
          "histogram": [
           {
            "bin_end": 455.7,
            "bin_start": 445,
            "count": 1
           },
           {
            "bin_end": 466.4,
            "bin_start": 455.7,
            "count": 6
           },
           {
            "bin_end": 477.1,
            "bin_start": 466.4,
            "count": 2
           },
           {
            "bin_end": 487.8,
            "bin_start": 477.1,
            "count": 6
           },
           {
            "bin_end": 498.5,
            "bin_start": 487.8,
            "count": 2
           },
           {
            "bin_end": 509.2,
            "bin_start": 498.5,
            "count": 10
           },
           {
            "bin_end": 519.9,
            "bin_start": 509.2,
            "count": 0
           },
           {
            "bin_end": 530.6,
            "bin_start": 519.9,
            "count": 1
           },
           {
            "bin_end": 541.3,
            "bin_start": 530.6,
            "count": 0
           },
           {
            "bin_end": 552,
            "bin_start": 541.3,
            "count": 1
           }
          ],
          "max": "552.0",
          "min": "445.0",
          "nan_count": 1,
          "unique_count": 22
         }
        },
        {
         "dtype": "float64",
         "name": "cdr3_start_heavy",
         "stats": {
          "histogram": [
           {
            "bin_end": 382.3,
            "bin_start": 371,
            "count": 1
           },
           {
            "bin_end": 393.6,
            "bin_start": 382.3,
            "count": 3
           },
           {
            "bin_end": 404.9,
            "bin_start": 393.6,
            "count": 4
           },
           {
            "bin_end": 416.2,
            "bin_start": 404.9,
            "count": 9
           },
           {
            "bin_end": 427.5,
            "bin_start": 416.2,
            "count": 10
           },
           {
            "bin_end": 438.8,
            "bin_start": 427.5,
            "count": 1
           },
           {
            "bin_end": 450.1,
            "bin_start": 438.8,
            "count": 0
           },
           {
            "bin_end": 461.4,
            "bin_start": 450.1,
            "count": 1
           },
           {
            "bin_end": 472.7,
            "bin_start": 461.4,
            "count": 0
           },
           {
            "bin_end": 484,
            "bin_start": 472.7,
            "count": 1
           }
          ],
          "max": "484.0",
          "min": "371.0",
          "nan_count": 0,
          "unique_count": 14
         }
        },
        {
         "dtype": "float64",
         "name": "cdr3_end_heavy",
         "stats": {
          "histogram": [
           {
            "bin_end": 422.7,
            "bin_start": 412,
            "count": 1
           },
           {
            "bin_end": 433.4,
            "bin_start": 422.7,
            "count": 6
           },
           {
            "bin_end": 444.1,
            "bin_start": 433.4,
            "count": 2
           },
           {
            "bin_end": 454.8,
            "bin_start": 444.1,
            "count": 6
           },
           {
            "bin_end": 465.5,
            "bin_start": 454.8,
            "count": 2
           },
           {
            "bin_end": 476.2,
            "bin_start": 465.5,
            "count": 10
           },
           {
            "bin_end": 486.9,
            "bin_start": 476.2,
            "count": 1
           },
           {
            "bin_end": 497.6,
            "bin_start": 486.9,
            "count": 1
           },
           {
            "bin_end": 508.3,
            "bin_start": 497.6,
            "count": 0
           },
           {
            "bin_end": 519,
            "bin_start": 508.3,
            "count": 1
           }
          ],
          "max": "519.0",
          "min": "412.0",
          "nan_count": 0,
          "unique_count": 23
         }
        },
        {
         "dtype": "object",
         "name": "np1_heavy",
         "stats": {
          "categories": [
           {
            "count": 1,
            "name": "TCTCCGGA"
           },
           {
            "count": 28,
            "name": "28 others"
           },
           {
            "count": 1,
            "name": "Missing"
           }
          ],
          "nan_count": 1,
          "unique_count": 29
         }
        },
        {
         "dtype": "float64",
         "name": "np1_length_heavy",
         "stats": {
          "histogram": [
           {
            "bin_end": 1.5,
            "bin_start": 0,
            "count": 2
           },
           {
            "bin_end": 3,
            "bin_start": 1.5,
            "count": 2
           },
           {
            "bin_end": 4.5,
            "bin_start": 3,
            "count": 6
           },
           {
            "bin_end": 6,
            "bin_start": 4.5,
            "count": 1
           },
           {
            "bin_end": 7.5,
            "bin_start": 6,
            "count": 7
           },
           {
            "bin_end": 9,
            "bin_start": 7.5,
            "count": 3
           },
           {
            "bin_end": 10.5,
            "bin_start": 9,
            "count": 4
           },
           {
            "bin_end": 12,
            "bin_start": 10.5,
            "count": 1
           },
           {
            "bin_end": 13.5,
            "bin_start": 12,
            "count": 1
           },
           {
            "bin_end": 15,
            "bin_start": 13.5,
            "count": 3
           }
          ],
          "max": "15.0",
          "min": "0.0",
          "nan_count": 0,
          "unique_count": 15
         }
        },
        {
         "dtype": "object",
         "name": "np2_heavy",
         "stats": {
          "categories": [
           {
            "count": 2,
            "name": "GAG"
           },
           {
            "count": 24,
            "name": "24 others"
           },
           {
            "count": 4,
            "name": "Missing"
           }
          ],
          "nan_count": 4,
          "unique_count": 25
         }
        },
        {
         "dtype": "float64",
         "name": "np2_length_heavy",
         "stats": {
          "histogram": [
           {
            "bin_end": 2.9,
            "bin_start": 1,
            "count": 5
           },
           {
            "bin_end": 4.8,
            "bin_start": 2.9,
            "count": 5
           },
           {
            "bin_end": 6.699999999999999,
            "bin_start": 4.8,
            "count": 6
           },
           {
            "bin_end": 8.6,
            "bin_start": 6.699999999999999,
            "count": 2
           },
           {
            "bin_end": 10.5,
            "bin_start": 8.6,
            "count": 1
           },
           {
            "bin_end": 12.399999999999999,
            "bin_start": 10.5,
            "count": 1
           },
           {
            "bin_end": 14.299999999999999,
            "bin_start": 12.399999999999999,
            "count": 2
           },
           {
            "bin_end": 16.2,
            "bin_start": 14.299999999999999,
            "count": 1
           },
           {
            "bin_end": 18.099999999999998,
            "bin_start": 16.2,
            "count": 1
           },
           {
            "bin_end": 20,
            "bin_start": 18.099999999999998,
            "count": 2
           }
          ],
          "max": "20.0",
          "min": "1.0",
          "nan_count": 4,
          "unique_count": 16
         }
        },
        {
         "dtype": "object",
         "name": "c_region_heavy",
         "stats": {
          "categories": [
           {
            "count": 21,
            "name": "GGAGTGCATCCGCCCCAACCCTTTTCCCCCTCGTCTCCTGTGAGAATTCCCCGTCGGATACGAGCAGCGTG"
           },
           {
            "count": 8,
            "name": "4 others"
           },
           {
            "count": 1,
            "name": "Missing"
           }
          ],
          "nan_count": 1,
          "unique_count": 5
         }
        },
        {
         "dtype": "object",
         "name": "Isotype_heavy",
         "stats": {
          "categories": [
           {
            "count": 23,
            "name": "IGHM"
           },
           {
            "count": 6,
            "name": "2 others"
           },
           {
            "count": 1,
            "name": "Missing"
           }
          ],
          "nan_count": 1,
          "unique_count": 3
         }
        },
        {
         "dtype": "float64",
         "name": "Redundancy_heavy",
         "stats": {
          "histogram": [
           {
            "bin_end": 0.6,
            "bin_start": 0.5,
            "count": 0
           },
           {
            "bin_end": 0.7,
            "bin_start": 0.6,
            "count": 0
           },
           {
            "bin_end": 0.8,
            "bin_start": 0.7,
            "count": 0
           },
           {
            "bin_end": 0.9,
            "bin_start": 0.8,
            "count": 0
           },
           {
            "bin_end": 1,
            "bin_start": 0.9,
            "count": 0
           },
           {
            "bin_end": 1.1,
            "bin_start": 1,
            "count": 29
           },
           {
            "bin_end": 1.2000000000000002,
            "bin_start": 1.1,
            "count": 0
           },
           {
            "bin_end": 1.3,
            "bin_start": 1.2000000000000002,
            "count": 0
           },
           {
            "bin_end": 1.4,
            "bin_start": 1.3,
            "count": 0
           },
           {
            "bin_end": 1.5,
            "bin_start": 1.4,
            "count": 0
           }
          ],
          "max": "1.0",
          "min": "1.0",
          "nan_count": 1,
          "unique_count": 1
         }
        },
        {
         "dtype": "object",
         "name": "ANARCI_numbering_heavy",
         "stats": {
          "categories": [
           {
            "count": 1,
            "name": "{'fwh1': {'1 ': 'E', '2 ': 'I', '3 ': 'Q', '4 ': 'L', '5 ': 'V', '6 ': 'E', '7 ': 'S', '8 ': 'G', '9 ': 'G', '11 ': 'G', '12 ': 'L', '13 ': 'V', '14 ': 'K', '15 ': 'P', '16 ': 'G', '17 ': 'G', '18 ': 'S', '19 ': 'L', '20 ': 'R', '21 ': 'L', '22 ': 'S', '23 ': 'C', '24 ': 'G', '25 ': 'A', '26 ': 'S'}, 'cdrh1': {'27 ': 'G', '28 ': 'F', '29 ': 'T', '30 ': 'F', '35 ': 'S', '36 ': 'Y', '37 ': 'F', '38 ': 'T'}, 'fwh2': {'39 ': 'M', '40 ': 'N', '41 ': 'W', '42 ': 'V', '43 ': 'R', '44 ': 'Q', '45 ': 'A', '46 ': 'P', '47 ': 'G', '48 ': 'K', '49 ': 'G', '50 ': 'L', '51 ': 'E', '52 ': 'W', '53 ': 'V', '54 ': 'S', '55 ': 'S'}, 'cdrh2': {'56 ': 'I', '57 ': 'S', '58 ': 'S', '59 ': 'S', '62 ': 'S', '63 ': 'T', '64 ': 'Y', '65 ': 'I'}, 'fwh3': {'66 ': 'Y', '67 ': 'Y', '68 ': 'A', '69 ': 'D', '70 ': 'S', '71 ': 'G', '72 ': 'R', '74 ': 'G', '75 ': 'R', '76 ': 'F', '77 ': 'T', '78 ': 'I', '79 ': 'S', '80 ': 'R', '81 ': 'D', '82 ': 'N', '83 ': 'A', '84 ': 'N', '85 ': 'N', '86 ': 'S', '87 ': 'L', '88 ': 'Y', '89 ': 'L', '90 ': 'Q', '91 ': 'M', '92 ': 'N', '93 ': 'S', '94 ': 'L', '95 ': 'R', '96 ': 'A', '97 ': 'E', '98 ': 'D', '99 ': 'T', '100 ': 'A', '101 ': 'I', '102 ': 'Y', '103 ': 'F', '104 ': 'C'}, 'cdrh3': {'105 ': 'A', '106 ': 'R', '107 ': 'V', '108 ': 'S', '109 ': 'G', '110 ': 'S', '111 ': 'A', '111A': 'Y', '111B': 'D', '111C': 'E', '111D': 'R', '112E': 'A', '112D': 'T', '112C': 'E', '112B': 'G', '112A': 'Y', '112 ': 'Y', '113 ': 'F', '114 ': 'G', '115 ': 'M', '116 ': 'D', '117 ': 'V'}, 'fwh4': {'118 ': 'W', '119 ': 'G', '120 ': 'Q', '121 ': 'G', '122 ': 'T', '123 ': 'T', '124 ': 'V', '125 ': 'T', '126 ': 'V', '127 ': 'S', '128 ': 'S'}}"
           },
           {
            "count": 1,
            "name": "{'fwh1': {'1 ': 'Q', '2 ': 'V', '3 ': 'Q', '4 ': 'L', '5 ': 'V', '6 ': 'Q', '7 ': 'S', '8 ': 'G', '9 ': 'A', '11 ': 'E', '12 ': 'V', '13 ': 'K', '14 ': 'K', '15 ': 'P', '16 ': 'G', '17 ': 'A', '18 ': 'S', '19 ': 'V', '20 ': 'K', '21 ': 'V', '22 ': 'S', '23 ': 'C', '24 ': 'K', '25 ': 'A', '26 ': 'S'}, 'cdrh1': {'27 ': 'G', '28 ': 'Y', '29 ': 'T', '30 ': 'F', '35 ': 'T', '36 ': 'S', '37 ': 'Y', '38 ': 'Y'}, 'fwh2': {'39 ': 'M', '40 ': 'H', '41 ': 'W', '42 ': 'V', '43 ': 'R', '44 ': 'Q', '45 ': 'A', '46 ': 'P', '47 ': 'G', '48 ': 'Q', '49 ': 'G', '50 ': 'L', '51 ': 'E', '52 ': 'W', '53 ': 'M', '54 ': 'G', '55 ': 'I'}, 'cdrh2': {'56 ': 'I', '57 ': 'N', '58 ': 'P', '59 ': 'S', '62 ': 'G', '63 ': 'G', '64 ': 'S', '65 ': 'T'}, 'fwh3': {'66 ': 'S', '67 ': 'Y', '68 ': 'A', '69 ': 'Q', '70 ': 'K', '71 ': 'F', '72 ': 'Q', '74 ': 'G', '75 ': 'R', '76 ': 'V', '77 ': 'T', '78 ': 'M', '79 ': 'T', '80 ': 'R', '81 ': 'D', '82 ': 'T', '83 ': 'S', '84 ': 'T', '85 ': 'S', '86 ': 'T', '87 ': 'V', '88 ': 'Y', '89 ': 'M', '90 ': 'E', '91 ': 'L', '92 ': 'S', '93 ': 'S', '94 ': 'L', '95 ': 'R', '96 ': 'S', '97 ': 'E', '98 ': 'D', '99 ': 'T', '100 ': 'A', '101 ': 'V', '102 ': 'Y', '103 ': 'Y', '104 ': 'C'}, 'cdrh3': {'105 ': 'A', '106 ': 'C', '107 ': 'G', '108 ': 'L', '109 ': 'S', '110 ': 'I', '111 ': 'V', '111A': 'G', '112B': 'A', '112A': 'T', '112 ': 'L', '113 ': 'D', '114 ': 'Y', '115 ': 'F', '116 ': 'D', '117 ': 'Y'}, 'fwh4': {'118 ': 'W', '119 ': 'G', '120 ': 'Q', '121 ': 'G', '122 ': 'T', '123 ': 'L', '124 ': 'V', '125 ': 'T', '126 ': 'V', '127 ': 'S', '128 ': 'S'}}"
           },
           {
            "count": 28,
            "name": "28 others"
           }
          ],
          "nan_count": 0,
          "unique_count": 30
         }
        },
        {
         "dtype": "object",
         "name": "ANARCI_status_heavy",
         "stats": {
          "categories": [
           {
            "count": 30,
            "name": "|Deletions: 10, 73||||"
           }
          ],
          "nan_count": 0,
          "unique_count": 1
         }
        },
        {
         "dtype": "object",
         "name": "sequence_id_light",
         "stats": {
          "categories": [
           {
            "count": 1,
            "name": "GAACGGAAGTAGCCGA-1_contig_2"
           },
           {
            "count": 1,
            "name": "TACTTACTCAACACAC-1_contig_2"
           },
           {
            "count": 28,
            "name": "28 others"
           }
          ],
          "nan_count": 0,
          "unique_count": 30
         }
        },
        {
         "dtype": "object",
         "name": "sequence_light",
         "stats": {
          "categories": [
           {
            "count": 1,
            "name": "TGGGAGGAGTCAGTCTCAGTCAGGACACAGCATGGACATGAGGGTCCCCGCTCAGCTCCTGGGGCTCCTGCTACTCTGGCTCCGAGGTGCCAGATGTGACATCCAGGTGACCCAGTCTCCATCCTCCCTGTCTGCATTTGTAGGAGACAGAGTCACCATCACTTGCCGGGCAAGTGAGAGCATTAACATGTATTTAAATTGGTATCAGCAGAAACCAGGGAAAGCCCCTAAGCTCCTGATCTATGCTGCATCCAGTTTGCAAAGTGGGGTCCCATCAAGGTTCAGAGGCAGTGGATCTGGGACAGATTTCACTCTCACCATCAGCAGTCTGCAAACTGAAGATATTGCAAGTTACTTCTGTCAACAGAGTTACACTACCTCGTGGACGTTCGGCCAAGGGACCAAGGTGGAAATCAAACGAACTGTGGCTGCACCATCTGTCTTCATCTTCCCGCCATCTGATGAGCAGTTGAAATCTGGAACTGCCTCTGTTGTGTGCCTGCTGAATAACTTCTATCCCAGAGAGGCCAAAGTACAGTGGAAGGTGGATAACGC"
           },
           {
            "count": 1,
            "name": "ATCTGGGGGATCAGGACTCCTCAGTTCACCTTCTCACAATGAGGCTCCCTGCTCAGCTCCTGGGGCTGCTAATGCTCTGGGTCCCAGGATCCAGTGGGGATGTTGTGATGACTCAGTCTCCACTCTCCCTGCCCGTCACCCTTGGACAGCCGGCCTCCATCTCCTGCAGGTCTAGTCAAAGCCTCGTATACAGTGATGGAAACACCTACTTGAATTGGTTTCAGCAGAGGCCAGGCCAATCTCCAAGGCGCCTAATTTATAAGGTTTCTAACCGGGACTCTGGGGTCCCAGACAGATTCAGCGGCAGTGGGTCAGGCACTGATTTCACACTGAAAATCAGCAGGGTGGAGGCTGAGGATGTTGGGGTTTATTACTGCATGCAAGGTACACACTGGCCTCCGCTCACTTTCGGCGGAGGGACCAAGGTGGAGATCAAACGAACTGTGGCTGCACCATCTGTCTTCATCTTCCCGCCATCTGATGAGCAGTTGAAATCTGGAACTGCCTCTGTTGTGTGCCTGCTGAATAACTTCTATCCCAGAGAGGCCAAAGTACAGTGGAAGGTGGATAACGC"
           },
           {
            "count": 28,
            "name": "28 others"
           }
          ],
          "nan_count": 0,
          "unique_count": 30
         }
        },
        {
         "dtype": "object",
         "name": "locus_light",
         "stats": {
          "categories": [
           {
            "count": 22,
            "name": "K"
           },
           {
            "count": 8,
            "name": "L"
           }
          ],
          "nan_count": 0,
          "unique_count": 2
         }
        },
        {
         "dtype": "object",
         "name": "stop_codon_light",
         "stats": {
          "categories": [
           {
            "count": 30,
            "name": "F"
           }
          ],
          "nan_count": 0,
          "unique_count": 1
         }
        },
        {
         "dtype": "object",
         "name": "vj_in_frame_light",
         "stats": {
          "categories": [
           {
            "count": 30,
            "name": "T"
           }
          ],
          "nan_count": 0,
          "unique_count": 1
         }
        },
        {
         "dtype": "object",
         "name": "v_frameshift_light",
         "stats": {
          "categories": [
           {
            "count": 29,
            "name": "F"
           },
           {
            "count": 1,
            "name": "Missing"
           }
          ],
          "nan_count": 1,
          "unique_count": 1
         }
        },
        {
         "dtype": "object",
         "name": "productive_light",
         "stats": {
          "categories": [
           {
            "count": 30,
            "name": "T"
           }
          ],
          "nan_count": 0,
          "unique_count": 1
         }
        },
        {
         "dtype": "object",
         "name": "rev_comp_light",
         "stats": {
          "categories": [
           {
            "count": 30,
            "name": "F"
           }
          ],
          "nan_count": 0,
          "unique_count": 1
         }
        },
        {
         "dtype": "object",
         "name": "complete_vdj_light",
         "stats": {
          "categories": [
           {
            "count": 27,
            "name": "T"
           },
           {
            "count": 2,
            "name": "F"
           },
           {
            "count": 1,
            "name": "Missing"
           }
          ],
          "nan_count": 1,
          "unique_count": 2
         }
        },
        {
         "dtype": "object",
         "name": "v_call_light",
         "stats": {
          "categories": [
           {
            "count": 6,
            "name": "IGKV1-39*01"
           },
           {
            "count": 3,
            "name": "IGKV4-1*01"
           },
           {
            "count": 21,
            "name": "17 others"
           }
          ],
          "nan_count": 0,
          "unique_count": 19
         }
        },
        {
         "dtype": "float64",
         "name": "d_call_light",
         "stats": {
          "histogram": [
           {
            "bin_end": 0.1,
            "bin_start": 0,
            "count": 0
           },
           {
            "bin_end": 0.2,
            "bin_start": 0.1,
            "count": 0
           },
           {
            "bin_end": 0.30000000000000004,
            "bin_start": 0.2,
            "count": 0
           },
           {
            "bin_end": 0.4,
            "bin_start": 0.30000000000000004,
            "count": 0
           },
           {
            "bin_end": 0.5,
            "bin_start": 0.4,
            "count": 0
           },
           {
            "bin_end": 0.6000000000000001,
            "bin_start": 0.5,
            "count": 0
           },
           {
            "bin_end": 0.7000000000000001,
            "bin_start": 0.6000000000000001,
            "count": 0
           },
           {
            "bin_end": 0.8,
            "bin_start": 0.7000000000000001,
            "count": 0
           },
           {
            "bin_end": 0.9,
            "bin_start": 0.8,
            "count": 0
           },
           {
            "bin_end": 1,
            "bin_start": 0.9,
            "count": 0
           }
          ],
          "max": null,
          "min": null,
          "nan_count": 30,
          "unique_count": 0
         }
        },
        {
         "dtype": "object",
         "name": "j_call_light",
         "stats": {
          "categories": [
           {
            "count": 11,
            "name": "IGKJ1*01"
           },
           {
            "count": 5,
            "name": "IGKJ2*01"
           },
           {
            "count": 14,
            "name": "6 others"
           }
          ],
          "nan_count": 0,
          "unique_count": 8
         }
        },
        {
         "dtype": "object",
         "name": "sequence_alignment_light",
         "stats": {
          "categories": [
           {
            "count": 2,
            "name": "GACATCCAGATGACCCAGTCTCCATCCTCCCTGTCTGCATCTGTAGGAGACAGAGTCACCATCACTTGCCGGGCAAGTCAGAGCATTAGCAGCTATTTAAATTGGTATCAGCAGAAACCAGGGAAAGCCCCTAAGCTCCTGATCTATGCTGCATCCAGTTTGCAAAGTGGGGTCCCATCAAGGTTCAGTGGCAGTGGATCTGGGACAGATTTCACTCTCACCATCAGCAGTCTGCAACCTGAAGATTTTGCAACTTACTACTGTCAACAGAGTTACAGTACCCCGTGGACGTTCGGCCAAGGGACCAAGGTGGAAATCAAAC"
           },
           {
            "count": 1,
            "name": "GACATCCAGGTGACCCAGTCTCCATCCTCCCTGTCTGCATTTGTAGGAGACAGAGTCACCATCACTTGCCGGGCAAGTGAGAGCATTAACATGTATTTAAATTGGTATCAGCAGAAACCAGGGAAAGCCCCTAAGCTCCTGATCTATGCTGCATCCAGTTTGCAAAGTGGGGTCCCATCAAGGTTCAGAGGCAGTGGATCTGGGACAGATTTCACTCTCACCATCAGCAGTCTGCAAACTGAAGATATTGCAAGTTACTTCTGTCAACAGAGTTACACTACCTCGTGGACGTTCGGCCAAGGGACCAAGGTGGAAATCAAAC"
           },
           {
            "count": 27,
            "name": "27 others"
           }
          ],
          "nan_count": 0,
          "unique_count": 29
         }
        },
        {
         "dtype": "object",
         "name": "germline_alignment_light",
         "stats": {
          "categories": [
           {
            "count": 2,
            "name": "GACATCCAGATGACCCAGTCTCCATCCTCCCTGTCTGCATCTGTAGGAGACAGAGTCACCATCACTTGCCGGGCAAGTCAGAGCATTAGCAGCTATTTAAATTGGTATCAGCAGAAACCAGGGAAAGCCCCTAAGCTCCTGATCTATGCTGCATCCAGTTTGCAAAGTGGGGTCCCATCAAGGTTCAGTGGCAGTGGATCTGGGACAGATTTCACTCTCACCATCAGCAGTCTGCAACCTGAAGATTTTGCAACTTACTACTGTCAACAGAGTTACAGTACCCCGTGGACGTTCGGCCAAGGGACCAAGGTGGAAATCAAAC"
           },
           {
            "count": 1,
            "name": "GACATCCAGATGACCCAGTCTCCATCCTCCCTGTCTGCATCTGTAGGAGACAGAGTCACCATCACTTGCCGGGCAAGTCAGAGCATTAGCAGCTATTTAAATTGGTATCAGCAGAAACCAGGGAAAGCCCCTAAGCTCCTGATCTATGCTGCATCCAGTTTGCAAAGTGGGGTCCCATCAAGGTTCAGTGGCAGTGGATCTGGGACAGATTTCACTCTCACCATCAGCAGTCTGCAACCTGAAGATTTTGCAACTTACTACTGTCAACAGAGTTACAGTACCNNGTGGACGTTCGGCCAAGGGACCAAGGTGGAAATCAAAC"
           },
           {
            "count": 27,
            "name": "27 others"
           }
          ],
          "nan_count": 0,
          "unique_count": 29
         }
        },
        {
         "dtype": "object",
         "name": "sequence_alignment_aa_light",
         "stats": {
          "categories": [
           {
            "count": 2,
            "name": "DIQMTQSPSSLSASVGDRVTITCRASQSISSYLNWYQQKPGKAPKLLIYAASSLQSGVPSRFSGSGSGTDFTLTISSLQPEDFATYYCQQSYSTPWTFGQGTKVEIK"
           },
           {
            "count": 1,
            "name": "DIQVTQSPSSLSAFVGDRVTITCRASESINMYLNWYQQKPGKAPKLLIYAASSLQSGVPSRFRGSGSGTDFTLTISSLQTEDIASYFCQQSYTTSWTFGQGTKVEIK"
           },
           {
            "count": 27,
            "name": "27 others"
           }
          ],
          "nan_count": 0,
          "unique_count": 29
         }
        },
        {
         "dtype": "object",
         "name": "germline_alignment_aa_light",
         "stats": {
          "categories": [
           {
            "count": 2,
            "name": "DIQMTQSPSSLSASVGDRVTITCRASQSISSYLNWYQQKPGKAPKLLIYAASSLQSGVPSRFSGSGSGTDFTLTISSLQPEDFATYYCQQSYSTPWTFGQGTKVEIK"
           },
           {
            "count": 1,
            "name": "DIQMTQSPSSLSASVGDRVTITCRASQSISSYLNWYQQKPGKAPKLLIYAASSLQSGVPSRFSGSGSGTDFTLTISSLQPEDFATYYCQQSYSTXWTFGQGTKVEIK"
           },
           {
            "count": 27,
            "name": "27 others"
           }
          ],
          "nan_count": 0,
          "unique_count": 29
         }
        },
        {
         "dtype": "float64",
         "name": "v_alignment_start_light",
         "stats": {
          "histogram": [
           {
            "bin_end": 0.6,
            "bin_start": 0.5,
            "count": 0
           },
           {
            "bin_end": 0.7,
            "bin_start": 0.6,
            "count": 0
           },
           {
            "bin_end": 0.8,
            "bin_start": 0.7,
            "count": 0
           },
           {
            "bin_end": 0.9,
            "bin_start": 0.8,
            "count": 0
           },
           {
            "bin_end": 1,
            "bin_start": 0.9,
            "count": 0
           },
           {
            "bin_end": 1.1,
            "bin_start": 1,
            "count": 30
           },
           {
            "bin_end": 1.2000000000000002,
            "bin_start": 1.1,
            "count": 0
           },
           {
            "bin_end": 1.3,
            "bin_start": 1.2000000000000002,
            "count": 0
           },
           {
            "bin_end": 1.4,
            "bin_start": 1.3,
            "count": 0
           },
           {
            "bin_end": 1.5,
            "bin_start": 1.4,
            "count": 0
           }
          ],
          "max": "1.0",
          "min": "1.0",
          "nan_count": 0,
          "unique_count": 1
         }
        },
        {
         "dtype": "float64",
         "name": "v_alignment_end_light",
         "stats": {
          "histogram": [
           {
            "bin_end": 281.6,
            "bin_start": 279,
            "count": 2
           },
           {
            "bin_end": 284.2,
            "bin_start": 281.6,
            "count": 6
           },
           {
            "bin_end": 286.8,
            "bin_start": 284.2,
            "count": 5
           },
           {
            "bin_end": 289.4,
            "bin_start": 286.8,
            "count": 4
           },
           {
            "bin_end": 292,
            "bin_start": 289.4,
            "count": 0
           },
           {
            "bin_end": 294.6,
            "bin_start": 292,
            "count": 2
           },
           {
            "bin_end": 297.2,
            "bin_start": 294.6,
            "count": 4
           },
           {
            "bin_end": 299.8,
            "bin_start": 297.2,
            "count": 1
           },
           {
            "bin_end": 302.4,
            "bin_start": 299.8,
            "count": 4
           },
           {
            "bin_end": 305,
            "bin_start": 302.4,
            "count": 2
           }
          ],
          "max": "305.0",
          "min": "279.0",
          "nan_count": 0,
          "unique_count": 17
         }
        },
        {
         "dtype": "float64",
         "name": "d_alignment_start_light",
         "stats": {
          "histogram": [
           {
            "bin_end": 0.1,
            "bin_start": 0,
            "count": 0
           },
           {
            "bin_end": 0.2,
            "bin_start": 0.1,
            "count": 0
           },
           {
            "bin_end": 0.30000000000000004,
            "bin_start": 0.2,
            "count": 0
           },
           {
            "bin_end": 0.4,
            "bin_start": 0.30000000000000004,
            "count": 0
           },
           {
            "bin_end": 0.5,
            "bin_start": 0.4,
            "count": 0
           },
           {
            "bin_end": 0.6000000000000001,
            "bin_start": 0.5,
            "count": 0
           },
           {
            "bin_end": 0.7000000000000001,
            "bin_start": 0.6000000000000001,
            "count": 0
           },
           {
            "bin_end": 0.8,
            "bin_start": 0.7000000000000001,
            "count": 0
           },
           {
            "bin_end": 0.9,
            "bin_start": 0.8,
            "count": 0
           },
           {
            "bin_end": 1,
            "bin_start": 0.9,
            "count": 0
           }
          ],
          "max": null,
          "min": null,
          "nan_count": 30,
          "unique_count": 0
         }
        },
        {
         "dtype": "float64",
         "name": "d_alignment_end_light",
         "stats": {
          "histogram": [
           {
            "bin_end": 0.1,
            "bin_start": 0,
            "count": 0
           },
           {
            "bin_end": 0.2,
            "bin_start": 0.1,
            "count": 0
           },
           {
            "bin_end": 0.30000000000000004,
            "bin_start": 0.2,
            "count": 0
           },
           {
            "bin_end": 0.4,
            "bin_start": 0.30000000000000004,
            "count": 0
           },
           {
            "bin_end": 0.5,
            "bin_start": 0.4,
            "count": 0
           },
           {
            "bin_end": 0.6000000000000001,
            "bin_start": 0.5,
            "count": 0
           },
           {
            "bin_end": 0.7000000000000001,
            "bin_start": 0.6000000000000001,
            "count": 0
           },
           {
            "bin_end": 0.8,
            "bin_start": 0.7000000000000001,
            "count": 0
           },
           {
            "bin_end": 0.9,
            "bin_start": 0.8,
            "count": 0
           },
           {
            "bin_end": 1,
            "bin_start": 0.9,
            "count": 0
           }
          ],
          "max": null,
          "min": null,
          "nan_count": 30,
          "unique_count": 0
         }
        },
        {
         "dtype": "float64",
         "name": "j_alignment_start_light",
         "stats": {
          "histogram": [
           {
            "bin_end": 287.4,
            "bin_start": 285,
            "count": 12
           },
           {
            "bin_end": 289.8,
            "bin_start": 287.4,
            "count": 3
           },
           {
            "bin_end": 292.2,
            "bin_start": 289.8,
            "count": 2
           },
           {
            "bin_end": 294.6,
            "bin_start": 292.2,
            "count": 0
           },
           {
            "bin_end": 297,
            "bin_start": 294.6,
            "count": 2
           },
           {
            "bin_end": 299.4,
            "bin_start": 297,
            "count": 2
           },
           {
            "bin_end": 301.8,
            "bin_start": 299.4,
            "count": 3
           },
           {
            "bin_end": 304.2,
            "bin_start": 301.8,
            "count": 4
           },
           {
            "bin_end": 306.6,
            "bin_start": 304.2,
            "count": 1
           },
           {
            "bin_end": 309,
            "bin_start": 306.6,
            "count": 1
           }
          ],
          "max": "309.0",
          "min": "285.0",
          "nan_count": 0,
          "unique_count": 16
         }
        },
        {
         "dtype": "float64",
         "name": "j_alignment_end_light",
         "stats": {
          "histogram": [
           {
            "bin_end": 318.7,
            "bin_start": 316,
            "count": 1
           },
           {
            "bin_end": 321.4,
            "bin_start": 318.7,
            "count": 2
           },
           {
            "bin_end": 324.1,
            "bin_start": 321.4,
            "count": 10
           },
           {
            "bin_end": 326.8,
            "bin_start": 324.1,
            "count": 3
           },
           {
            "bin_end": 329.5,
            "bin_start": 326.8,
            "count": 1
           },
           {
            "bin_end": 332.2,
            "bin_start": 329.5,
            "count": 4
           },
           {
            "bin_end": 334.9,
            "bin_start": 332.2,
            "count": 2
           },
           {
            "bin_end": 337.6,
            "bin_start": 334.9,
            "count": 3
           },
           {
            "bin_end": 340.3,
            "bin_start": 337.6,
            "count": 3
           },
           {
            "bin_end": 343,
            "bin_start": 340.3,
            "count": 1
           }
          ],
          "max": "343.0",
          "min": "316.0",
          "nan_count": 0,
          "unique_count": 12
         }
        },
        {
         "dtype": "object",
         "name": "v_sequence_alignment_light",
         "stats": {
          "categories": [
           {
            "count": 2,
            "name": "GACATCCAGATGACCCAGTCTCCATCCTCCCTGTCTGCATCTGTAGGAGACAGAGTCACCATCACTTGCCGGGCAAGTCAGAGCATTAGCAGCTATTTAAATTGGTATCAGCAGAAACCAGGGAAAGCCCCTAAGCTCCTGATCTATGCTGCATCCAGTTTGCAAAGTGGGGTCCCATCAAGGTTCAGTGGCAGTGGATCTGGGACAGATTTCACTCTCACCATCAGCAGTCTGCAACCTGAAGATTTTGCAACTTACTACTGTCAACAGAGTTACAGTACCCC"
           },
           {
            "count": 1,
            "name": "GACATCCAGGTGACCCAGTCTCCATCCTCCCTGTCTGCATTTGTAGGAGACAGAGTCACCATCACTTGCCGGGCAAGTGAGAGCATTAACATGTATTTAAATTGGTATCAGCAGAAACCAGGGAAAGCCCCTAAGCTCCTGATCTATGCTGCATCCAGTTTGCAAAGTGGGGTCCCATCAAGGTTCAGAGGCAGTGGATCTGGGACAGATTTCACTCTCACCATCAGCAGTCTGCAAACTGAAGATATTGCAAGTTACTTCTGTCAACAGAGTTACACTACC"
           },
           {
            "count": 27,
            "name": "27 others"
           }
          ],
          "nan_count": 0,
          "unique_count": 29
         }
        },
        {
         "dtype": "object",
         "name": "v_sequence_alignment_aa_light",
         "stats": {
          "categories": [
           {
            "count": 2,
            "name": "DIQMTQSPSSLSASVGDRVTITCRASQSISSYLNWYQQKPGKAPKLLIYAASSLQSGVPSRFSGSGSGTDFTLTISSLQPEDFATYYCQQSYSTP"
           },
           {
            "count": 1,
            "name": "DIQVTQSPSSLSAFVGDRVTITCRASESINMYLNWYQQKPGKAPKLLIYAASSLQSGVPSRFRGSGSGTDFTLTISSLQTEDIASYFCQQSYTT"
           },
           {
            "count": 27,
            "name": "27 others"
           }
          ],
          "nan_count": 0,
          "unique_count": 29
         }
        },
        {
         "dtype": "object",
         "name": "v_germline_alignment_light",
         "stats": {
          "categories": [
           {
            "count": 2,
            "name": "GACATCCAGATGACCCAGTCTCCATCCTCCCTGTCTGCATCTGTAGGAGACAGAGTCACCATCACTTGCCGGGCAAGTCAGAGCATTAGCAGCTATTTAAATTGGTATCAGCAGAAACCAGGGAAAGCCCCTAAGCTCCTGATCTATGCTGCATCCAGTTTGCAAAGTGGGGTCCCATCAAGGTTCAGTGGCAGTGGATCTGGGACAGATTTCACTCTCACCATCAGCAGTCTGCAACCTGAAGATTTTGCAACTTACTACTGTCAACAGAGTTACAGTACCCC"
           },
           {
            "count": 2,
            "name": "CAGTCTGCCCTGACTCAGCCTGCCTCCGTGTCTGGGTCTCCTGGACAGTCGATCACCATCTCCTGCACTGGAACCAGCAGTGATGTTGGGAGTTATAACCTTGTCTCCTGGTACCAACAGCACCCAGGCAAAGCCCCCAAACTCATGATTTATGAGGGCAGTAAGCGGCCCTCAGGGGTTTCTAATCGCTTCTCTGGCTCCAAGTCTGGCAACACGGCCTCCCTGACAATCTCTGGGCTCCAGGCTGAGGACGAGGCTGATTATTACTGCTGCTCATATGCAGGTAGTAGCACTTT"
           },
           {
            "count": 26,
            "name": "26 others"
           }
          ],
          "nan_count": 0,
          "unique_count": 28
         }
        },
        {
         "dtype": "object",
         "name": "v_germline_alignment_aa_light",
         "stats": {
          "categories": [
           {
            "count": 3,
            "name": "DIQMTQSPSSLSASVGDRVTITCRASQSISSYLNWYQQKPGKAPKLLIYAASSLQSGVPSRFSGSGSGTDFTLTISSLQPEDFATYYCQQSYSTP"
           },
           {
            "count": 2,
            "name": "DIVMTQSPDSLAVSLGERATINCKSSQSVLYSSNNKNYLAWYQQKPGQPPKLLIYWASTRESGVPDRFSGSGSGTDFTLTISSLQAEDVAVYYCQQYYSTP"
           },
           {
            "count": 25,
            "name": "22 others"
           }
          ],
          "nan_count": 0,
          "unique_count": 24
         }
        },
        {
         "dtype": "float64",
         "name": "d_sequence_alignment_light",
         "stats": {
          "histogram": [
           {
            "bin_end": 0.1,
            "bin_start": 0,
            "count": 0
           },
           {
            "bin_end": 0.2,
            "bin_start": 0.1,
            "count": 0
           },
           {
            "bin_end": 0.30000000000000004,
            "bin_start": 0.2,
            "count": 0
           },
           {
            "bin_end": 0.4,
            "bin_start": 0.30000000000000004,
            "count": 0
           },
           {
            "bin_end": 0.5,
            "bin_start": 0.4,
            "count": 0
           },
           {
            "bin_end": 0.6000000000000001,
            "bin_start": 0.5,
            "count": 0
           },
           {
            "bin_end": 0.7000000000000001,
            "bin_start": 0.6000000000000001,
            "count": 0
           },
           {
            "bin_end": 0.8,
            "bin_start": 0.7000000000000001,
            "count": 0
           },
           {
            "bin_end": 0.9,
            "bin_start": 0.8,
            "count": 0
           },
           {
            "bin_end": 1,
            "bin_start": 0.9,
            "count": 0
           }
          ],
          "max": null,
          "min": null,
          "nan_count": 30,
          "unique_count": 0
         }
        },
        {
         "dtype": "float64",
         "name": "d_sequence_alignment_aa_light",
         "stats": {
          "histogram": [
           {
            "bin_end": 0.1,
            "bin_start": 0,
            "count": 0
           },
           {
            "bin_end": 0.2,
            "bin_start": 0.1,
            "count": 0
           },
           {
            "bin_end": 0.30000000000000004,
            "bin_start": 0.2,
            "count": 0
           },
           {
            "bin_end": 0.4,
            "bin_start": 0.30000000000000004,
            "count": 0
           },
           {
            "bin_end": 0.5,
            "bin_start": 0.4,
            "count": 0
           },
           {
            "bin_end": 0.6000000000000001,
            "bin_start": 0.5,
            "count": 0
           },
           {
            "bin_end": 0.7000000000000001,
            "bin_start": 0.6000000000000001,
            "count": 0
           },
           {
            "bin_end": 0.8,
            "bin_start": 0.7000000000000001,
            "count": 0
           },
           {
            "bin_end": 0.9,
            "bin_start": 0.8,
            "count": 0
           },
           {
            "bin_end": 1,
            "bin_start": 0.9,
            "count": 0
           }
          ],
          "max": null,
          "min": null,
          "nan_count": 30,
          "unique_count": 0
         }
        },
        {
         "dtype": "float64",
         "name": "d_germline_alignment_light",
         "stats": {
          "histogram": [
           {
            "bin_end": 0.1,
            "bin_start": 0,
            "count": 0
           },
           {
            "bin_end": 0.2,
            "bin_start": 0.1,
            "count": 0
           },
           {
            "bin_end": 0.30000000000000004,
            "bin_start": 0.2,
            "count": 0
           },
           {
            "bin_end": 0.4,
            "bin_start": 0.30000000000000004,
            "count": 0
           },
           {
            "bin_end": 0.5,
            "bin_start": 0.4,
            "count": 0
           },
           {
            "bin_end": 0.6000000000000001,
            "bin_start": 0.5,
            "count": 0
           },
           {
            "bin_end": 0.7000000000000001,
            "bin_start": 0.6000000000000001,
            "count": 0
           },
           {
            "bin_end": 0.8,
            "bin_start": 0.7000000000000001,
            "count": 0
           },
           {
            "bin_end": 0.9,
            "bin_start": 0.8,
            "count": 0
           },
           {
            "bin_end": 1,
            "bin_start": 0.9,
            "count": 0
           }
          ],
          "max": null,
          "min": null,
          "nan_count": 30,
          "unique_count": 0
         }
        },
        {
         "dtype": "float64",
         "name": "d_germline_alignment_aa_light",
         "stats": {
          "histogram": [
           {
            "bin_end": 0.1,
            "bin_start": 0,
            "count": 0
           },
           {
            "bin_end": 0.2,
            "bin_start": 0.1,
            "count": 0
           },
           {
            "bin_end": 0.30000000000000004,
            "bin_start": 0.2,
            "count": 0
           },
           {
            "bin_end": 0.4,
            "bin_start": 0.30000000000000004,
            "count": 0
           },
           {
            "bin_end": 0.5,
            "bin_start": 0.4,
            "count": 0
           },
           {
            "bin_end": 0.6000000000000001,
            "bin_start": 0.5,
            "count": 0
           },
           {
            "bin_end": 0.7000000000000001,
            "bin_start": 0.6000000000000001,
            "count": 0
           },
           {
            "bin_end": 0.8,
            "bin_start": 0.7000000000000001,
            "count": 0
           },
           {
            "bin_end": 0.9,
            "bin_start": 0.8,
            "count": 0
           },
           {
            "bin_end": 1,
            "bin_start": 0.9,
            "count": 0
           }
          ],
          "max": null,
          "min": null,
          "nan_count": 30,
          "unique_count": 0
         }
        },
        {
         "dtype": "object",
         "name": "j_sequence_alignment_light",
         "stats": {
          "categories": [
           {
            "count": 4,
            "name": "GTGGACGTTCGGCCAAGGGACCAAGGTGGAAATCAAAC"
           },
           {
            "count": 3,
            "name": "GGACGTTCGGCCAAGGGACCAAGGTGGAAATCAAAC"
           },
           {
            "count": 23,
            "name": "22 others"
           }
          ],
          "nan_count": 0,
          "unique_count": 24
         }
        },
        {
         "dtype": "object",
         "name": "j_sequence_alignment_aa_light",
         "stats": {
          "categories": [
           {
            "count": 5,
            "name": "WTFGQGTKVEIK"
           },
           {
            "count": 5,
            "name": "TFGQGTKVEIK"
           },
           {
            "count": 20,
            "name": "16 others"
           }
          ],
          "nan_count": 0,
          "unique_count": 18
         }
        },
        {
         "dtype": "object",
         "name": "j_germline_alignment_light",
         "stats": {
          "categories": [
           {
            "count": 4,
            "name": "GTGGACGTTCGGCCAAGGGACCAAGGTGGAAATCAAAC"
           },
           {
            "count": 3,
            "name": "GGACGTTCGGCCAAGGGACCAAGGTGGAAATCAAAC"
           },
           {
            "count": 23,
            "name": "20 others"
           }
          ],
          "nan_count": 0,
          "unique_count": 22
         }
        },
        {
         "dtype": "object",
         "name": "j_germline_alignment_aa_light",
         "stats": {
          "categories": [
           {
            "count": 6,
            "name": "TFGQGTKVEIK"
           },
           {
            "count": 5,
            "name": "WTFGQGTKVEIK"
           },
           {
            "count": 19,
            "name": "13 others"
           }
          ],
          "nan_count": 0,
          "unique_count": 15
         }
        },
        {
         "dtype": "object",
         "name": "fwr1_light",
         "stats": {
          "categories": [
           {
            "count": 4,
            "name": "GACATCCAGATGACCCAGTCTCCATCCTCCCTGTCTGCATCTGTAGGAGACAGAGTCACCATCACTTGCCGGGCAAGT"
           },
           {
            "count": 3,
            "name": "GACATCGTGATGACCCAGTCTCCAGACTCCCTGGCTGTGTCTCTGGGCGAGAGGGCCACCATCAACTGCAAGTCCAGC"
           },
           {
            "count": 23,
            "name": "21 others"
           }
          ],
          "nan_count": 0,
          "unique_count": 23
         }
        },
        {
         "dtype": "object",
         "name": "fwr1_aa_light",
         "stats": {
          "categories": [
           {
            "count": 8,
            "name": "DIQMTQSPSSLSASVGDRVTITCRAS"
           },
           {
            "count": 3,
            "name": "DIVMTQSPDSLAVSLGERATINCKSS"
           },
           {
            "count": 19,
            "name": "18 others"
           }
          ],
          "nan_count": 0,
          "unique_count": 20
         }
        },
        {
         "dtype": "object",
         "name": "cdr1_light",
         "stats": {
          "categories": [
           {
            "count": 3,
            "name": "CAGAGCATTAGCAGCTAT"
           },
           {
            "count": 2,
            "name": "CAGGGCATTAGCAATTAT"
           },
           {
            "count": 25,
            "name": "24 others"
           }
          ],
          "nan_count": 0,
          "unique_count": 26
         }
        },
        {
         "dtype": "object",
         "name": "cdr1_aa_light",
         "stats": {
          "categories": [
           {
            "count": 4,
            "name": "QSISSY"
           },
           {
            "count": 2,
            "name": "QGISNY"
           },
           {
            "count": 24,
            "name": "23 others"
           }
          ],
          "nan_count": 0,
          "unique_count": 25
         }
        },
        {
         "dtype": "object",
         "name": "fwr2_light",
         "stats": {
          "categories": [
           {
            "count": 3,
            "name": "TTAAATTGGTATCAGCAGAAACCAGGGAAAGCCCCTAAGCTCCTGATCTAT"
           },
           {
            "count": 2,
            "name": "GTCTCCTGGTACCAACAGCACCCAGGCAAAGCCCCCAAACTCATGATTTAT"
           },
           {
            "count": 25,
            "name": "25 others"
           }
          ],
          "nan_count": 0,
          "unique_count": 27
         }
        },
        {
         "dtype": "object",
         "name": "fwr2_aa_light",
         "stats": {
          "categories": [
           {
            "count": 3,
            "name": "LNWYQQKPGKAPKLLIY"
           },
           {
            "count": 3,
            "name": "VSWYQQHPGKAPKLMIY"
           },
           {
            "count": 24,
            "name": "21 others"
           }
          ],
          "nan_count": 0,
          "unique_count": 23
         }
        },
        {
         "dtype": "object",
         "name": "cdr2_light",
         "stats": {
          "categories": [
           {
            "count": 9,
            "name": "GCTGCATCC"
           },
           {
            "count": 3,
            "name": "TGGGCATCT"
           },
           {
            "count": 18,
            "name": "17 others"
           }
          ],
          "nan_count": 0,
          "unique_count": 19
         }
        },
        {
         "dtype": "object",
         "name": "cdr2_aa_light",
         "stats": {
          "categories": [
           {
            "count": 10,
            "name": "AAS"
           },
           {
            "count": 3,
            "name": "WAS"
           },
           {
            "count": 17,
            "name": "15 others"
           }
          ],
          "nan_count": 0,
          "unique_count": 17
         }
        },
        {
         "dtype": "object",
         "name": "fwr3_light",
         "stats": {
          "categories": [
           {
            "count": 3,
            "name": "AGTTTGCAAAGTGGGGTCCCATCAAGGTTCAGTGGCAGTGGATCTGGGACAGATTTCACTCTCACCATCAGCAGTCTGCAACCTGAAGATTTTGCAACTTACTACTGT"
           },
           {
            "count": 1,
            "name": "AGTTTGCAAAGTGGGGTCCCATCAAGGTTCAGAGGCAGTGGATCTGGGACAGATTTCACTCTCACCATCAGCAGTCTGCAAACTGAAGATATTGCAAGTTACTTCTGT"
           },
           {
            "count": 26,
            "name": "26 others"
           }
          ],
          "nan_count": 0,
          "unique_count": 28
         }
        },
        {
         "dtype": "object",
         "name": "fwr3_aa_light",
         "stats": {
          "categories": [
           {
            "count": 4,
            "name": "SLQSGVPSRFSGSGSGTDFTLTISSLQPEDFATYYC"
           },
           {
            "count": 2,
            "name": "TLQSGVPSRFSGSGSGTDFTLTISSLQPEDVATYYC"
           },
           {
            "count": 24,
            "name": "24 others"
           }
          ],
          "nan_count": 0,
          "unique_count": 26
         }
        },
        {
         "dtype": "object",
         "name": "fwr4_light",
         "stats": {
          "categories": [
           {
            "count": 10,
            "name": "TTCGGCCAAGGGACCAAGGTGGAAATCAAA"
           },
           {
            "count": 19,
            "name": "8 others"
           },
           {
            "count": 1,
            "name": "Missing"
           }
          ],
          "nan_count": 1,
          "unique_count": 9
         }
        },
        {
         "dtype": "object",
         "name": "fwr4_aa_light",
         "stats": {
          "categories": [
           {
            "count": 10,
            "name": "FGQGTKVEIK"
           },
           {
            "count": 19,
            "name": "8 others"
           },
           {
            "count": 1,
            "name": "Missing"
           }
          ],
          "nan_count": 1,
          "unique_count": 9
         }
        },
        {
         "dtype": "object",
         "name": "cdr3_light",
         "stats": {
          "categories": [
           {
            "count": 2,
            "name": "CAACAGAGTTACAGTACCCCGTGGACG"
           },
           {
            "count": 1,
            "name": "CAACAGAGTTACACTACCTCGTGGACG"
           },
           {
            "count": 27,
            "name": "27 others"
           }
          ],
          "nan_count": 0,
          "unique_count": 29
         }
        },
        {
         "dtype": "object",
         "name": "cdr3_aa_light",
         "stats": {
          "categories": [
           {
            "count": 2,
            "name": "QQSYSTPWT"
           },
           {
            "count": 1,
            "name": "QQSYTTSWT"
           },
           {
            "count": 27,
            "name": "27 others"
           }
          ],
          "nan_count": 0,
          "unique_count": 29
         }
        },
        {
         "dtype": "object",
         "name": "junction_light",
         "stats": {
          "categories": [
           {
            "count": 2,
            "name": "TGTCAACAGAGTTACAGTACCCCGTGGACGTTC"
           },
           {
            "count": 1,
            "name": "TGTCAACAGAGTTACACTACCTCGTGGACGTTC"
           },
           {
            "count": 27,
            "name": "27 others"
           }
          ],
          "nan_count": 0,
          "unique_count": 29
         }
        },
        {
         "dtype": "float64",
         "name": "junction_length_light",
         "stats": {
          "histogram": [
           {
            "bin_end": 28.5,
            "bin_start": 27,
            "count": 1
           },
           {
            "bin_end": 30,
            "bin_start": 28.5,
            "count": 0
           },
           {
            "bin_end": 31.5,
            "bin_start": 30,
            "count": 3
           },
           {
            "bin_end": 33,
            "bin_start": 31.5,
            "count": 0
           },
           {
            "bin_end": 34.5,
            "bin_start": 33,
            "count": 14
           },
           {
            "bin_end": 36,
            "bin_start": 34.5,
            "count": 0
           },
           {
            "bin_end": 37.5,
            "bin_start": 36,
            "count": 6
           },
           {
            "bin_end": 39,
            "bin_start": 37.5,
            "count": 0
           },
           {
            "bin_end": 40.5,
            "bin_start": 39,
            "count": 3
           },
           {
            "bin_end": 42,
            "bin_start": 40.5,
            "count": 3
           }
          ],
          "max": "42.0",
          "min": "27.0",
          "nan_count": 0,
          "unique_count": 6
         }
        },
        {
         "dtype": "object",
         "name": "junction_aa_light",
         "stats": {
          "categories": [
           {
            "count": 2,
            "name": "CQQSYSTPWTF"
           },
           {
            "count": 1,
            "name": "CQQSYTTSWTF"
           },
           {
            "count": 27,
            "name": "27 others"
           }
          ],
          "nan_count": 0,
          "unique_count": 29
         }
        },
        {
         "dtype": "float64",
         "name": "junction_aa_length_light",
         "stats": {
          "histogram": [
           {
            "bin_end": 9.5,
            "bin_start": 9,
            "count": 1
           },
           {
            "bin_end": 10,
            "bin_start": 9.5,
            "count": 0
           },
           {
            "bin_end": 10.5,
            "bin_start": 10,
            "count": 3
           },
           {
            "bin_end": 11,
            "bin_start": 10.5,
            "count": 0
           },
           {
            "bin_end": 11.5,
            "bin_start": 11,
            "count": 14
           },
           {
            "bin_end": 12,
            "bin_start": 11.5,
            "count": 0
           },
           {
            "bin_end": 12.5,
            "bin_start": 12,
            "count": 6
           },
           {
            "bin_end": 13,
            "bin_start": 12.5,
            "count": 0
           },
           {
            "bin_end": 13.5,
            "bin_start": 13,
            "count": 3
           },
           {
            "bin_end": 14,
            "bin_start": 13.5,
            "count": 3
           }
          ],
          "max": "14.0",
          "min": "9.0",
          "nan_count": 0,
          "unique_count": 6
         }
        },
        {
         "dtype": "float64",
         "name": "v_score_light",
         "stats": {
          "histogram": [
           {
            "bin_end": 395.727,
            "bin_start": 386.69,
            "count": 1
           },
           {
            "bin_end": 404.764,
            "bin_start": 395.727,
            "count": 2
           },
           {
            "bin_end": 413.801,
            "bin_start": 404.764,
            "count": 1
           },
           {
            "bin_end": 422.838,
            "bin_start": 413.801,
            "count": 0
           },
           {
            "bin_end": 431.875,
            "bin_start": 422.838,
            "count": 1
           },
           {
            "bin_end": 440.91200000000003,
            "bin_start": 431.875,
            "count": 8
           },
           {
            "bin_end": 449.949,
            "bin_start": 440.91200000000003,
            "count": 7
           },
           {
            "bin_end": 458.986,
            "bin_start": 449.949,
            "count": 3
           },
           {
            "bin_end": 468.023,
            "bin_start": 458.986,
            "count": 4
           },
           {
            "bin_end": 477.06,
            "bin_start": 468.023,
            "count": 3
           }
          ],
          "max": "477.06",
          "min": "386.69",
          "nan_count": 0,
          "unique_count": 21
         }
        },
        {
         "dtype": "float64",
         "name": "d_score_light",
         "stats": {
          "histogram": [
           {
            "bin_end": 0.1,
            "bin_start": 0,
            "count": 0
           },
           {
            "bin_end": 0.2,
            "bin_start": 0.1,
            "count": 0
           },
           {
            "bin_end": 0.30000000000000004,
            "bin_start": 0.2,
            "count": 0
           },
           {
            "bin_end": 0.4,
            "bin_start": 0.30000000000000004,
            "count": 0
           },
           {
            "bin_end": 0.5,
            "bin_start": 0.4,
            "count": 0
           },
           {
            "bin_end": 0.6000000000000001,
            "bin_start": 0.5,
            "count": 0
           },
           {
            "bin_end": 0.7000000000000001,
            "bin_start": 0.6000000000000001,
            "count": 0
           },
           {
            "bin_end": 0.8,
            "bin_start": 0.7000000000000001,
            "count": 0
           },
           {
            "bin_end": 0.9,
            "bin_start": 0.8,
            "count": 0
           },
           {
            "bin_end": 1,
            "bin_start": 0.9,
            "count": 0
           }
          ],
          "max": null,
          "min": null,
          "nan_count": 30,
          "unique_count": 0
         }
        },
        {
         "dtype": "float64",
         "name": "j_score_light",
         "stats": {
          "histogram": [
           {
            "bin_end": 51.254400000000004,
            "bin_start": 48.755,
            "count": 1
           },
           {
            "bin_end": 53.7538,
            "bin_start": 51.254400000000004,
            "count": 1
           },
           {
            "bin_end": 56.2532,
            "bin_start": 53.7538,
            "count": 0
           },
           {
            "bin_end": 58.7526,
            "bin_start": 56.2532,
            "count": 0
           },
           {
            "bin_end": 61.251999999999995,
            "bin_start": 58.7526,
            "count": 1
           },
           {
            "bin_end": 63.7514,
            "bin_start": 61.251999999999995,
            "count": 1
           },
           {
            "bin_end": 66.2508,
            "bin_start": 63.7514,
            "count": 2
           },
           {
            "bin_end": 68.75019999999999,
            "bin_start": 66.2508,
            "count": 5
           },
           {
            "bin_end": 71.24959999999999,
            "bin_start": 68.75019999999999,
            "count": 6
           },
           {
            "bin_end": 73.749,
            "bin_start": 71.24959999999999,
            "count": 13
           }
          ],
          "max": "73.749",
          "min": "48.755",
          "nan_count": 0,
          "unique_count": 10
         }
        },
        {
         "dtype": "object",
         "name": "v_cigar_light",
         "stats": {
          "categories": [
           {
            "count": 2,
            "name": "93S284M174S3N"
           },
           {
            "count": 1,
            "name": "97S282M176S5N"
           },
           {
            "count": 27,
            "name": "27 others"
           }
          ],
          "nan_count": 0,
          "unique_count": 29
         }
        },
        {
         "dtype": "float64",
         "name": "d_cigar_light",
         "stats": {
          "histogram": [
           {
            "bin_end": 0.1,
            "bin_start": 0,
            "count": 0
           },
           {
            "bin_end": 0.2,
            "bin_start": 0.1,
            "count": 0
           },
           {
            "bin_end": 0.30000000000000004,
            "bin_start": 0.2,
            "count": 0
           },
           {
            "bin_end": 0.4,
            "bin_start": 0.30000000000000004,
            "count": 0
           },
           {
            "bin_end": 0.5,
            "bin_start": 0.4,
            "count": 0
           },
           {
            "bin_end": 0.6000000000000001,
            "bin_start": 0.5,
            "count": 0
           },
           {
            "bin_end": 0.7000000000000001,
            "bin_start": 0.6000000000000001,
            "count": 0
           },
           {
            "bin_end": 0.8,
            "bin_start": 0.7000000000000001,
            "count": 0
           },
           {
            "bin_end": 0.9,
            "bin_start": 0.8,
            "count": 0
           },
           {
            "bin_end": 1,
            "bin_start": 0.9,
            "count": 0
           }
          ],
          "max": null,
          "min": null,
          "nan_count": 30,
          "unique_count": 0
         }
        },
        {
         "dtype": "object",
         "name": "j_cigar_light",
         "stats": {
          "categories": [
           {
            "count": 1,
            "name": "381S38M136S"
           },
           {
            "count": 1,
            "name": "400S38M136S"
           },
           {
            "count": 28,
            "name": "28 others"
           }
          ],
          "nan_count": 0,
          "unique_count": 30
         }
        },
        {
         "dtype": "float64",
         "name": "v_support_light",
         "stats": {
          "histogram": [
           {
            "bin_end": 2.5300000000000002e-110,
            "bin_start": 1.6319999999999999e-136,
            "count": 29
           },
           {
            "bin_end": 5.0600000000000004e-110,
            "bin_start": 2.5300000000000002e-110,
            "count": 0
           },
           {
            "bin_end": 7.590000000000001e-110,
            "bin_start": 5.0600000000000004e-110,
            "count": 0
           },
           {
            "bin_end": 1.0120000000000001e-109,
            "bin_start": 7.590000000000001e-110,
            "count": 0
           },
           {
            "bin_end": 1.265e-109,
            "bin_start": 1.0120000000000001e-109,
            "count": 0
           },
           {
            "bin_end": 1.5180000000000002e-109,
            "bin_start": 1.265e-109,
            "count": 0
           },
           {
            "bin_end": 1.771e-109,
            "bin_start": 1.5180000000000002e-109,
            "count": 0
           },
           {
            "bin_end": 2.0240000000000002e-109,
            "bin_start": 1.771e-109,
            "count": 0
           },
           {
            "bin_end": 2.2770000000000003e-109,
            "bin_start": 2.0240000000000002e-109,
            "count": 0
           },
           {
            "bin_end": 2.53e-109,
            "bin_start": 2.2770000000000003e-109,
            "count": 1
           }
          ],
          "max": "2.53e-109",
          "min": "1.6319999999999999e-136",
          "nan_count": 0,
          "unique_count": 29
         }
        },
        {
         "dtype": "float64",
         "name": "d_support_light",
         "stats": {
          "histogram": [
           {
            "bin_end": 0.1,
            "bin_start": 0,
            "count": 0
           },
           {
            "bin_end": 0.2,
            "bin_start": 0.1,
            "count": 0
           },
           {
            "bin_end": 0.30000000000000004,
            "bin_start": 0.2,
            "count": 0
           },
           {
            "bin_end": 0.4,
            "bin_start": 0.30000000000000004,
            "count": 0
           },
           {
            "bin_end": 0.5,
            "bin_start": 0.4,
            "count": 0
           },
           {
            "bin_end": 0.6000000000000001,
            "bin_start": 0.5,
            "count": 0
           },
           {
            "bin_end": 0.7000000000000001,
            "bin_start": 0.6000000000000001,
            "count": 0
           },
           {
            "bin_end": 0.8,
            "bin_start": 0.7000000000000001,
            "count": 0
           },
           {
            "bin_end": 0.9,
            "bin_start": 0.8,
            "count": 0
           },
           {
            "bin_end": 1,
            "bin_start": 0.9,
            "count": 0
           }
          ],
          "max": null,
          "min": null,
          "nan_count": 30,
          "unique_count": 0
         }
        },
        {
         "dtype": "float64",
         "name": "j_support_light",
         "stats": {
          "histogram": [
           {
            "bin_end": 1.1310003039299998e-10,
            "bin_start": 3.377e-17,
            "count": 29
           },
           {
            "bin_end": 2.2620002701599997e-10,
            "bin_start": 1.1310003039299998e-10,
            "count": 0
           },
           {
            "bin_end": 3.3930002363899995e-10,
            "bin_start": 2.2620002701599997e-10,
            "count": 0
           },
           {
            "bin_end": 4.5240002026199994e-10,
            "bin_start": 3.3930002363899995e-10,
            "count": 0
           },
           {
            "bin_end": 5.655000168849999e-10,
            "bin_start": 4.5240002026199994e-10,
            "count": 0
           },
           {
            "bin_end": 6.786000135079998e-10,
            "bin_start": 5.655000168849999e-10,
            "count": 0
           },
           {
            "bin_end": 7.917000101309999e-10,
            "bin_start": 6.786000135079998e-10,
            "count": 0
           },
           {
            "bin_end": 9.048000067539998e-10,
            "bin_start": 7.917000101309999e-10,
            "count": 0
           },
           {
            "bin_end": 1.017900003377e-09,
            "bin_start": 9.048000067539998e-10,
            "count": 0
           },
           {
            "bin_end": 1.131e-09,
            "bin_start": 1.017900003377e-09,
            "count": 1
           }
          ],
          "max": "1.131e-09",
          "min": "3.377e-17",
          "nan_count": 0,
          "unique_count": 30
         }
        },
        {
         "dtype": "float64",
         "name": "v_identity_light",
         "stats": {
          "histogram": [
           {
            "bin_end": 93.7279,
            "bin_start": 93.031,
            "count": 2
           },
           {
            "bin_end": 94.4248,
            "bin_start": 93.7279,
            "count": 0
           },
           {
            "bin_end": 95.1217,
            "bin_start": 94.4248,
            "count": 0
           },
           {
            "bin_end": 95.8186,
            "bin_start": 95.1217,
            "count": 1
           },
           {
            "bin_end": 96.5155,
            "bin_start": 95.8186,
            "count": 3
           },
           {
            "bin_end": 97.2124,
            "bin_start": 96.5155,
            "count": 1
           },
           {
            "bin_end": 97.9093,
            "bin_start": 97.2124,
            "count": 0
           },
           {
            "bin_end": 98.6062,
            "bin_start": 97.9093,
            "count": 3
           },
           {
            "bin_end": 99.3031,
            "bin_start": 98.6062,
            "count": 5
           },
           {
            "bin_end": 100,
            "bin_start": 99.3031,
            "count": 15
           }
          ],
          "max": "100.0",
          "min": "93.031",
          "nan_count": 0,
          "unique_count": 15
         }
        },
        {
         "dtype": "float64",
         "name": "d_identity_light",
         "stats": {
          "histogram": [
           {
            "bin_end": 0.1,
            "bin_start": 0,
            "count": 0
           },
           {
            "bin_end": 0.2,
            "bin_start": 0.1,
            "count": 0
           },
           {
            "bin_end": 0.30000000000000004,
            "bin_start": 0.2,
            "count": 0
           },
           {
            "bin_end": 0.4,
            "bin_start": 0.30000000000000004,
            "count": 0
           },
           {
            "bin_end": 0.5,
            "bin_start": 0.4,
            "count": 0
           },
           {
            "bin_end": 0.6000000000000001,
            "bin_start": 0.5,
            "count": 0
           },
           {
            "bin_end": 0.7000000000000001,
            "bin_start": 0.6000000000000001,
            "count": 0
           },
           {
            "bin_end": 0.8,
            "bin_start": 0.7000000000000001,
            "count": 0
           },
           {
            "bin_end": 0.9,
            "bin_start": 0.8,
            "count": 0
           },
           {
            "bin_end": 1,
            "bin_start": 0.9,
            "count": 0
           }
          ],
          "max": null,
          "min": null,
          "nan_count": 30,
          "unique_count": 0
         }
        },
        {
         "dtype": "float64",
         "name": "j_identity_light",
         "stats": {
          "histogram": [
           {
            "bin_end": 92.0584,
            "bin_start": 91.176,
            "count": 1
           },
           {
            "bin_end": 92.9408,
            "bin_start": 92.0584,
            "count": 0
           },
           {
            "bin_end": 93.8232,
            "bin_start": 92.9408,
            "count": 0
           },
           {
            "bin_end": 94.7056,
            "bin_start": 93.8232,
            "count": 1
           },
           {
            "bin_end": 95.588,
            "bin_start": 94.7056,
            "count": 0
           },
           {
            "bin_end": 96.4704,
            "bin_start": 95.588,
            "count": 0
           },
           {
            "bin_end": 97.3528,
            "bin_start": 96.4704,
            "count": 1
           },
           {
            "bin_end": 98.2352,
            "bin_start": 97.3528,
            "count": 2
           },
           {
            "bin_end": 99.1176,
            "bin_start": 98.2352,
            "count": 0
           },
           {
            "bin_end": 100,
            "bin_start": 99.1176,
            "count": 25
           }
          ],
          "max": "100.0",
          "min": "91.176",
          "nan_count": 0,
          "unique_count": 5
         }
        },
        {
         "dtype": "float64",
         "name": "v_sequence_start_light",
         "stats": {
          "histogram": [
           {
            "bin_end": 94.4,
            "bin_start": 91,
            "count": 8
           },
           {
            "bin_end": 97.8,
            "bin_start": 94.4,
            "count": 8
           },
           {
            "bin_end": 101.2,
            "bin_start": 97.8,
            "count": 8
           },
           {
            "bin_end": 104.6,
            "bin_start": 101.2,
            "count": 2
           },
           {
            "bin_end": 108,
            "bin_start": 104.6,
            "count": 1
           },
           {
            "bin_end": 111.4,
            "bin_start": 108,
            "count": 2
           },
           {
            "bin_end": 114.8,
            "bin_start": 111.4,
            "count": 0
           },
           {
            "bin_end": 118.2,
            "bin_start": 114.8,
            "count": 0
           },
           {
            "bin_end": 121.6,
            "bin_start": 118.2,
            "count": 0
           },
           {
            "bin_end": 125,
            "bin_start": 121.6,
            "count": 1
           }
          ],
          "max": "125.0",
          "min": "91.0",
          "nan_count": 0,
          "unique_count": 14
         }
        },
        {
         "dtype": "float64",
         "name": "v_sequence_end_light",
         "stats": {
          "histogram": [
           {
            "bin_end": 379.5,
            "bin_start": 376,
            "count": 5
           },
           {
            "bin_end": 383,
            "bin_start": 379.5,
            "count": 5
           },
           {
            "bin_end": 386.5,
            "bin_start": 383,
            "count": 5
           },
           {
            "bin_end": 390,
            "bin_start": 386.5,
            "count": 2
           },
           {
            "bin_end": 393.5,
            "bin_start": 390,
            "count": 6
           },
           {
            "bin_end": 397,
            "bin_start": 393.5,
            "count": 3
           },
           {
            "bin_end": 400.5,
            "bin_start": 397,
            "count": 2
           },
           {
            "bin_end": 404,
            "bin_start": 400.5,
            "count": 0
           },
           {
            "bin_end": 407.5,
            "bin_start": 404,
            "count": 1
           },
           {
            "bin_end": 411,
            "bin_start": 407.5,
            "count": 1
           }
          ],
          "max": "411.0",
          "min": "376.0",
          "nan_count": 0,
          "unique_count": 20
         }
        },
        {
         "dtype": "float64",
         "name": "v_germline_start_light",
         "stats": {
          "histogram": [
           {
            "bin_end": 1.3,
            "bin_start": 1,
            "count": 28
           },
           {
            "bin_end": 1.6,
            "bin_start": 1.3,
            "count": 0
           },
           {
            "bin_end": 1.9,
            "bin_start": 1.6,
            "count": 0
           },
           {
            "bin_end": 2.2,
            "bin_start": 1.9,
            "count": 0
           },
           {
            "bin_end": 2.5,
            "bin_start": 2.2,
            "count": 0
           },
           {
            "bin_end": 2.8,
            "bin_start": 2.5,
            "count": 0
           },
           {
            "bin_end": 3.1,
            "bin_start": 2.8,
            "count": 1
           },
           {
            "bin_end": 3.4,
            "bin_start": 3.1,
            "count": 0
           },
           {
            "bin_end": 3.6999999999999997,
            "bin_start": 3.4,
            "count": 0
           },
           {
            "bin_end": 4,
            "bin_start": 3.6999999999999997,
            "count": 1
           }
          ],
          "max": "4.0",
          "min": "1.0",
          "nan_count": 0,
          "unique_count": 3
         }
        },
        {
         "dtype": "float64",
         "name": "v_germline_end_light",
         "stats": {
          "histogram": [
           {
            "bin_end": 281.6,
            "bin_start": 279,
            "count": 2
           },
           {
            "bin_end": 284.2,
            "bin_start": 281.6,
            "count": 5
           },
           {
            "bin_end": 286.8,
            "bin_start": 284.2,
            "count": 6
           },
           {
            "bin_end": 289.4,
            "bin_start": 286.8,
            "count": 4
           },
           {
            "bin_end": 292,
            "bin_start": 289.4,
            "count": 0
           },
           {
            "bin_end": 294.6,
            "bin_start": 292,
            "count": 1
           },
           {
            "bin_end": 297.2,
            "bin_start": 294.6,
            "count": 5
           },
           {
            "bin_end": 299.8,
            "bin_start": 297.2,
            "count": 1
           },
           {
            "bin_end": 302.4,
            "bin_start": 299.8,
            "count": 4
           },
           {
            "bin_end": 305,
            "bin_start": 302.4,
            "count": 2
           }
          ],
          "max": "305.0",
          "min": "279.0",
          "nan_count": 0,
          "unique_count": 16
         }
        },
        {
         "dtype": "float64",
         "name": "d_sequence_start_light",
         "stats": {
          "histogram": [
           {
            "bin_end": 0.1,
            "bin_start": 0,
            "count": 0
           },
           {
            "bin_end": 0.2,
            "bin_start": 0.1,
            "count": 0
           },
           {
            "bin_end": 0.30000000000000004,
            "bin_start": 0.2,
            "count": 0
           },
           {
            "bin_end": 0.4,
            "bin_start": 0.30000000000000004,
            "count": 0
           },
           {
            "bin_end": 0.5,
            "bin_start": 0.4,
            "count": 0
           },
           {
            "bin_end": 0.6000000000000001,
            "bin_start": 0.5,
            "count": 0
           },
           {
            "bin_end": 0.7000000000000001,
            "bin_start": 0.6000000000000001,
            "count": 0
           },
           {
            "bin_end": 0.8,
            "bin_start": 0.7000000000000001,
            "count": 0
           },
           {
            "bin_end": 0.9,
            "bin_start": 0.8,
            "count": 0
           },
           {
            "bin_end": 1,
            "bin_start": 0.9,
            "count": 0
           }
          ],
          "max": null,
          "min": null,
          "nan_count": 30,
          "unique_count": 0
         }
        },
        {
         "dtype": "float64",
         "name": "d_sequence_end_light",
         "stats": {
          "histogram": [
           {
            "bin_end": 0.1,
            "bin_start": 0,
            "count": 0
           },
           {
            "bin_end": 0.2,
            "bin_start": 0.1,
            "count": 0
           },
           {
            "bin_end": 0.30000000000000004,
            "bin_start": 0.2,
            "count": 0
           },
           {
            "bin_end": 0.4,
            "bin_start": 0.30000000000000004,
            "count": 0
           },
           {
            "bin_end": 0.5,
            "bin_start": 0.4,
            "count": 0
           },
           {
            "bin_end": 0.6000000000000001,
            "bin_start": 0.5,
            "count": 0
           },
           {
            "bin_end": 0.7000000000000001,
            "bin_start": 0.6000000000000001,
            "count": 0
           },
           {
            "bin_end": 0.8,
            "bin_start": 0.7000000000000001,
            "count": 0
           },
           {
            "bin_end": 0.9,
            "bin_start": 0.8,
            "count": 0
           },
           {
            "bin_end": 1,
            "bin_start": 0.9,
            "count": 0
           }
          ],
          "max": null,
          "min": null,
          "nan_count": 30,
          "unique_count": 0
         }
        },
        {
         "dtype": "float64",
         "name": "d_germline_start_light",
         "stats": {
          "histogram": [
           {
            "bin_end": 0.1,
            "bin_start": 0,
            "count": 0
           },
           {
            "bin_end": 0.2,
            "bin_start": 0.1,
            "count": 0
           },
           {
            "bin_end": 0.30000000000000004,
            "bin_start": 0.2,
            "count": 0
           },
           {
            "bin_end": 0.4,
            "bin_start": 0.30000000000000004,
            "count": 0
           },
           {
            "bin_end": 0.5,
            "bin_start": 0.4,
            "count": 0
           },
           {
            "bin_end": 0.6000000000000001,
            "bin_start": 0.5,
            "count": 0
           },
           {
            "bin_end": 0.7000000000000001,
            "bin_start": 0.6000000000000001,
            "count": 0
           },
           {
            "bin_end": 0.8,
            "bin_start": 0.7000000000000001,
            "count": 0
           },
           {
            "bin_end": 0.9,
            "bin_start": 0.8,
            "count": 0
           },
           {
            "bin_end": 1,
            "bin_start": 0.9,
            "count": 0
           }
          ],
          "max": null,
          "min": null,
          "nan_count": 30,
          "unique_count": 0
         }
        },
        {
         "dtype": "float64",
         "name": "d_germline_end_light",
         "stats": {
          "histogram": [
           {
            "bin_end": 0.1,
            "bin_start": 0,
            "count": 0
           },
           {
            "bin_end": 0.2,
            "bin_start": 0.1,
            "count": 0
           },
           {
            "bin_end": 0.30000000000000004,
            "bin_start": 0.2,
            "count": 0
           },
           {
            "bin_end": 0.4,
            "bin_start": 0.30000000000000004,
            "count": 0
           },
           {
            "bin_end": 0.5,
            "bin_start": 0.4,
            "count": 0
           },
           {
            "bin_end": 0.6000000000000001,
            "bin_start": 0.5,
            "count": 0
           },
           {
            "bin_end": 0.7000000000000001,
            "bin_start": 0.6000000000000001,
            "count": 0
           },
           {
            "bin_end": 0.8,
            "bin_start": 0.7000000000000001,
            "count": 0
           },
           {
            "bin_end": 0.9,
            "bin_start": 0.8,
            "count": 0
           },
           {
            "bin_end": 1,
            "bin_start": 0.9,
            "count": 0
           }
          ],
          "max": null,
          "min": null,
          "nan_count": 30,
          "unique_count": 0
         }
        },
        {
         "dtype": "float64",
         "name": "j_sequence_start_light",
         "stats": {
          "histogram": [
           {
            "bin_end": 381.4,
            "bin_start": 378,
            "count": 4
           },
           {
            "bin_end": 384.8,
            "bin_start": 381.4,
            "count": 8
           },
           {
            "bin_end": 388.2,
            "bin_start": 384.8,
            "count": 2
           },
           {
            "bin_end": 391.6,
            "bin_start": 388.2,
            "count": 2
           },
           {
            "bin_end": 395,
            "bin_start": 391.6,
            "count": 6
           },
           {
            "bin_end": 398.4,
            "bin_start": 395,
            "count": 3
           },
           {
            "bin_end": 401.8,
            "bin_start": 398.4,
            "count": 3
           },
           {
            "bin_end": 405.2,
            "bin_start": 401.8,
            "count": 0
           },
           {
            "bin_end": 408.6,
            "bin_start": 405.2,
            "count": 1
           },
           {
            "bin_end": 412,
            "bin_start": 408.6,
            "count": 1
           }
          ],
          "max": "412.0",
          "min": "378.0",
          "nan_count": 0,
          "unique_count": 20
         }
        },
        {
         "dtype": "float64",
         "name": "j_sequence_end_light",
         "stats": {
          "histogram": [
           {
            "bin_end": 417.5,
            "bin_start": 414,
            "count": 5
           },
           {
            "bin_end": 421,
            "bin_start": 417.5,
            "count": 7
           },
           {
            "bin_end": 424.5,
            "bin_start": 421,
            "count": 3
           },
           {
            "bin_end": 428,
            "bin_start": 424.5,
            "count": 5
           },
           {
            "bin_end": 431.5,
            "bin_start": 428,
            "count": 3
           },
           {
            "bin_end": 435,
            "bin_start": 431.5,
            "count": 4
           },
           {
            "bin_end": 438.5,
            "bin_start": 435,
            "count": 1
           },
           {
            "bin_end": 442,
            "bin_start": 438.5,
            "count": 0
           },
           {
            "bin_end": 445.5,
            "bin_start": 442,
            "count": 1
           },
           {
            "bin_end": 449,
            "bin_start": 445.5,
            "count": 1
           }
          ],
          "max": "449.0",
          "min": "414.0",
          "nan_count": 0,
          "unique_count": 19
         }
        },
        {
         "dtype": "float64",
         "name": "j_germline_start_light",
         "stats": {
          "histogram": [
           {
            "bin_end": 1.7,
            "bin_start": 1,
            "count": 9
           },
           {
            "bin_end": 2.4,
            "bin_start": 1.7,
            "count": 6
           },
           {
            "bin_end": 3.0999999999999996,
            "bin_start": 2.4,
            "count": 5
           },
           {
            "bin_end": 3.8,
            "bin_start": 3.0999999999999996,
            "count": 0
           },
           {
            "bin_end": 4.5,
            "bin_start": 3.8,
            "count": 5
           },
           {
            "bin_end": 5.199999999999999,
            "bin_start": 4.5,
            "count": 3
           },
           {
            "bin_end": 5.8999999999999995,
            "bin_start": 5.199999999999999,
            "count": 0
           },
           {
            "bin_end": 6.6,
            "bin_start": 5.8999999999999995,
            "count": 0
           },
           {
            "bin_end": 7.3,
            "bin_start": 6.6,
            "count": 1
           },
           {
            "bin_end": 8,
            "bin_start": 7.3,
            "count": 1
           }
          ],
          "max": "8.0",
          "min": "1.0",
          "nan_count": 0,
          "unique_count": 7
         }
        },
        {
         "dtype": "float64",
         "name": "j_germline_end_light",
         "stats": {
          "histogram": [
           {
            "bin_end": 36.3,
            "bin_start": 36,
            "count": 1
           },
           {
            "bin_end": 36.6,
            "bin_start": 36.3,
            "count": 0
           },
           {
            "bin_end": 36.9,
            "bin_start": 36.6,
            "count": 0
           },
           {
            "bin_end": 37.2,
            "bin_start": 36.9,
            "count": 0
           },
           {
            "bin_end": 37.5,
            "bin_start": 37.2,
            "count": 0
           },
           {
            "bin_end": 37.8,
            "bin_start": 37.5,
            "count": 0
           },
           {
            "bin_end": 38.1,
            "bin_start": 37.8,
            "count": 24
           },
           {
            "bin_end": 38.4,
            "bin_start": 38.1,
            "count": 0
           },
           {
            "bin_end": 38.7,
            "bin_start": 38.4,
            "count": 0
           },
           {
            "bin_end": 39,
            "bin_start": 38.7,
            "count": 5
           }
          ],
          "max": "39.0",
          "min": "36.0",
          "nan_count": 0,
          "unique_count": 3
         }
        },
        {
         "dtype": "float64",
         "name": "fwr1_start_light",
         "stats": {
          "histogram": [
           {
            "bin_end": 94.4,
            "bin_start": 91,
            "count": 8
           },
           {
            "bin_end": 97.8,
            "bin_start": 94.4,
            "count": 8
           },
           {
            "bin_end": 101.2,
            "bin_start": 97.8,
            "count": 8
           },
           {
            "bin_end": 104.6,
            "bin_start": 101.2,
            "count": 2
           },
           {
            "bin_end": 108,
            "bin_start": 104.6,
            "count": 1
           },
           {
            "bin_end": 111.4,
            "bin_start": 108,
            "count": 2
           },
           {
            "bin_end": 114.8,
            "bin_start": 111.4,
            "count": 0
           },
           {
            "bin_end": 118.2,
            "bin_start": 114.8,
            "count": 0
           },
           {
            "bin_end": 121.6,
            "bin_start": 118.2,
            "count": 0
           },
           {
            "bin_end": 125,
            "bin_start": 121.6,
            "count": 1
           }
          ],
          "max": "125.0",
          "min": "91.0",
          "nan_count": 0,
          "unique_count": 14
         }
        },
        {
         "dtype": "float64",
         "name": "fwr1_end_light",
         "stats": {
          "histogram": [
           {
            "bin_end": 171.4,
            "bin_start": 168,
            "count": 11
           },
           {
            "bin_end": 174.8,
            "bin_start": 171.4,
            "count": 8
           },
           {
            "bin_end": 178.2,
            "bin_start": 174.8,
            "count": 7
           },
           {
            "bin_end": 181.6,
            "bin_start": 178.2,
            "count": 0
           },
           {
            "bin_end": 185,
            "bin_start": 181.6,
            "count": 2
           },
           {
            "bin_end": 188.4,
            "bin_start": 185,
            "count": 1
           },
           {
            "bin_end": 191.8,
            "bin_start": 188.4,
            "count": 0
           },
           {
            "bin_end": 195.2,
            "bin_start": 191.8,
            "count": 0
           },
           {
            "bin_end": 198.6,
            "bin_start": 195.2,
            "count": 0
           },
           {
            "bin_end": 202,
            "bin_start": 198.6,
            "count": 1
           }
          ],
          "max": "202.0",
          "min": "168.0",
          "nan_count": 0,
          "unique_count": 13
         }
        },
        {
         "dtype": "float64",
         "name": "cdr1_start_light",
         "stats": {
          "histogram": [
           {
            "bin_end": 172.4,
            "bin_start": 169,
            "count": 11
           },
           {
            "bin_end": 175.8,
            "bin_start": 172.4,
            "count": 8
           },
           {
            "bin_end": 179.2,
            "bin_start": 175.8,
            "count": 7
           },
           {
            "bin_end": 182.6,
            "bin_start": 179.2,
            "count": 0
           },
           {
            "bin_end": 186,
            "bin_start": 182.6,
            "count": 2
           },
           {
            "bin_end": 189.4,
            "bin_start": 186,
            "count": 1
           },
           {
            "bin_end": 192.8,
            "bin_start": 189.4,
            "count": 0
           },
           {
            "bin_end": 196.2,
            "bin_start": 192.8,
            "count": 0
           },
           {
            "bin_end": 199.6,
            "bin_start": 196.2,
            "count": 0
           },
           {
            "bin_end": 203,
            "bin_start": 199.6,
            "count": 1
           }
          ],
          "max": "203.0",
          "min": "169.0",
          "nan_count": 0,
          "unique_count": 13
         }
        },
        {
         "dtype": "float64",
         "name": "cdr1_end_light",
         "stats": {
          "histogram": [
           {
            "bin_end": 191.2,
            "bin_start": 188,
            "count": 6
           },
           {
            "bin_end": 194.4,
            "bin_start": 191.2,
            "count": 7
           },
           {
            "bin_end": 197.6,
            "bin_start": 194.4,
            "count": 3
           },
           {
            "bin_end": 200.8,
            "bin_start": 197.6,
            "count": 3
           },
           {
            "bin_end": 204,
            "bin_start": 200.8,
            "count": 5
           },
           {
            "bin_end": 207.2,
            "bin_start": 204,
            "count": 3
           },
           {
            "bin_end": 210.4,
            "bin_start": 207.2,
            "count": 2
           },
           {
            "bin_end": 213.6,
            "bin_start": 210.4,
            "count": 0
           },
           {
            "bin_end": 216.8,
            "bin_start": 213.6,
            "count": 0
           },
           {
            "bin_end": 220,
            "bin_start": 216.8,
            "count": 1
           }
          ],
          "max": "220.0",
          "min": "188.0",
          "nan_count": 0,
          "unique_count": 16
         }
        },
        {
         "dtype": "float64",
         "name": "fwr2_start_light",
         "stats": {
          "histogram": [
           {
            "bin_end": 192.2,
            "bin_start": 189,
            "count": 6
           },
           {
            "bin_end": 195.4,
            "bin_start": 192.2,
            "count": 7
           },
           {
            "bin_end": 198.6,
            "bin_start": 195.4,
            "count": 3
           },
           {
            "bin_end": 201.8,
            "bin_start": 198.6,
            "count": 3
           },
           {
            "bin_end": 205,
            "bin_start": 201.8,
            "count": 5
           },
           {
            "bin_end": 208.2,
            "bin_start": 205,
            "count": 3
           },
           {
            "bin_end": 211.4,
            "bin_start": 208.2,
            "count": 2
           },
           {
            "bin_end": 214.6,
            "bin_start": 211.4,
            "count": 0
           },
           {
            "bin_end": 217.8,
            "bin_start": 214.6,
            "count": 0
           },
           {
            "bin_end": 221,
            "bin_start": 217.8,
            "count": 1
           }
          ],
          "max": "221.0",
          "min": "189.0",
          "nan_count": 0,
          "unique_count": 16
         }
        },
        {
         "dtype": "float64",
         "name": "fwr2_end_light",
         "stats": {
          "histogram": [
           {
            "bin_end": 242.2,
            "bin_start": 239,
            "count": 6
           },
           {
            "bin_end": 245.4,
            "bin_start": 242.2,
            "count": 7
           },
           {
            "bin_end": 248.6,
            "bin_start": 245.4,
            "count": 3
           },
           {
            "bin_end": 251.8,
            "bin_start": 248.6,
            "count": 3
           },
           {
            "bin_end": 255,
            "bin_start": 251.8,
            "count": 5
           },
           {
            "bin_end": 258.2,
            "bin_start": 255,
            "count": 3
           },
           {
            "bin_end": 261.4,
            "bin_start": 258.2,
            "count": 2
           },
           {
            "bin_end": 264.6,
            "bin_start": 261.4,
            "count": 0
           },
           {
            "bin_end": 267.8,
            "bin_start": 264.6,
            "count": 0
           },
           {
            "bin_end": 271,
            "bin_start": 267.8,
            "count": 1
           }
          ],
          "max": "271.0",
          "min": "239.0",
          "nan_count": 0,
          "unique_count": 16
         }
        },
        {
         "dtype": "float64",
         "name": "cdr2_start_light",
         "stats": {
          "histogram": [
           {
            "bin_end": 243.2,
            "bin_start": 240,
            "count": 6
           },
           {
            "bin_end": 246.4,
            "bin_start": 243.2,
            "count": 7
           },
           {
            "bin_end": 249.6,
            "bin_start": 246.4,
            "count": 3
           },
           {
            "bin_end": 252.8,
            "bin_start": 249.6,
            "count": 3
           },
           {
            "bin_end": 256,
            "bin_start": 252.8,
            "count": 5
           },
           {
            "bin_end": 259.2,
            "bin_start": 256,
            "count": 3
           },
           {
            "bin_end": 262.4,
            "bin_start": 259.2,
            "count": 2
           },
           {
            "bin_end": 265.6,
            "bin_start": 262.4,
            "count": 0
           },
           {
            "bin_end": 268.8,
            "bin_start": 265.6,
            "count": 0
           },
           {
            "bin_end": 272,
            "bin_start": 268.8,
            "count": 1
           }
          ],
          "max": "272.0",
          "min": "240.0",
          "nan_count": 0,
          "unique_count": 16
         }
        },
        {
         "dtype": "float64",
         "name": "cdr2_end_light",
         "stats": {
          "histogram": [
           {
            "bin_end": 251.2,
            "bin_start": 248,
            "count": 6
           },
           {
            "bin_end": 254.4,
            "bin_start": 251.2,
            "count": 7
           },
           {
            "bin_end": 257.6,
            "bin_start": 254.4,
            "count": 3
           },
           {
            "bin_end": 260.8,
            "bin_start": 257.6,
            "count": 3
           },
           {
            "bin_end": 264,
            "bin_start": 260.8,
            "count": 5
           },
           {
            "bin_end": 267.2,
            "bin_start": 264,
            "count": 3
           },
           {
            "bin_end": 270.4,
            "bin_start": 267.2,
            "count": 2
           },
           {
            "bin_end": 273.6,
            "bin_start": 270.4,
            "count": 0
           },
           {
            "bin_end": 276.8,
            "bin_start": 273.6,
            "count": 0
           },
           {
            "bin_end": 280,
            "bin_start": 276.8,
            "count": 1
           }
          ],
          "max": "280.0",
          "min": "248.0",
          "nan_count": 0,
          "unique_count": 16
         }
        },
        {
         "dtype": "float64",
         "name": "fwr3_start_light",
         "stats": {
          "histogram": [
           {
            "bin_end": 252.2,
            "bin_start": 249,
            "count": 6
           },
           {
            "bin_end": 255.4,
            "bin_start": 252.2,
            "count": 7
           },
           {
            "bin_end": 258.6,
            "bin_start": 255.4,
            "count": 3
           },
           {
            "bin_end": 261.8,
            "bin_start": 258.6,
            "count": 3
           },
           {
            "bin_end": 265,
            "bin_start": 261.8,
            "count": 5
           },
           {
            "bin_end": 268.2,
            "bin_start": 265,
            "count": 3
           },
           {
            "bin_end": 271.4,
            "bin_start": 268.2,
            "count": 2
           },
           {
            "bin_end": 274.6,
            "bin_start": 271.4,
            "count": 0
           },
           {
            "bin_end": 277.8,
            "bin_start": 274.6,
            "count": 0
           },
           {
            "bin_end": 281,
            "bin_start": 277.8,
            "count": 1
           }
          ],
          "max": "281.0",
          "min": "249.0",
          "nan_count": 0,
          "unique_count": 16
         }
        },
        {
         "dtype": "float64",
         "name": "fwr3_end_light",
         "stats": {
          "histogram": [
           {
            "bin_end": 359.2,
            "bin_start": 356,
            "count": 6
           },
           {
            "bin_end": 362.4,
            "bin_start": 359.2,
            "count": 7
           },
           {
            "bin_end": 365.6,
            "bin_start": 362.4,
            "count": 3
           },
           {
            "bin_end": 368.8,
            "bin_start": 365.6,
            "count": 3
           },
           {
            "bin_end": 372,
            "bin_start": 368.8,
            "count": 5
           },
           {
            "bin_end": 375.2,
            "bin_start": 372,
            "count": 3
           },
           {
            "bin_end": 378.4,
            "bin_start": 375.2,
            "count": 2
           },
           {
            "bin_end": 381.6,
            "bin_start": 378.4,
            "count": 0
           },
           {
            "bin_end": 384.8,
            "bin_start": 381.6,
            "count": 0
           },
           {
            "bin_end": 388,
            "bin_start": 384.8,
            "count": 1
           }
          ],
          "max": "388.0",
          "min": "356.0",
          "nan_count": 0,
          "unique_count": 16
         }
        },
        {
         "dtype": "float64",
         "name": "fwr4_start_light",
         "stats": {
          "histogram": [
           {
            "bin_end": 388.4,
            "bin_start": 385,
            "count": 6
           },
           {
            "bin_end": 391.8,
            "bin_start": 388.4,
            "count": 6
           },
           {
            "bin_end": 395.2,
            "bin_start": 391.8,
            "count": 3
           },
           {
            "bin_end": 398.6,
            "bin_start": 395.2,
            "count": 4
           },
           {
            "bin_end": 402,
            "bin_start": 398.6,
            "count": 3
           },
           {
            "bin_end": 405.4,
            "bin_start": 402,
            "count": 4
           },
           {
            "bin_end": 408.8,
            "bin_start": 405.4,
            "count": 1
           },
           {
            "bin_end": 412.2,
            "bin_start": 408.8,
            "count": 0
           },
           {
            "bin_end": 415.6,
            "bin_start": 412.2,
            "count": 1
           },
           {
            "bin_end": 419,
            "bin_start": 415.6,
            "count": 1
           }
          ],
          "max": "419.0",
          "min": "385.0",
          "nan_count": 1,
          "unique_count": 19
         }
        },
        {
         "dtype": "float64",
         "name": "fwr4_end_light",
         "stats": {
          "histogram": [
           {
            "bin_end": 417.4,
            "bin_start": 414,
            "count": 6
           },
           {
            "bin_end": 420.8,
            "bin_start": 417.4,
            "count": 6
           },
           {
            "bin_end": 424.2,
            "bin_start": 420.8,
            "count": 3
           },
           {
            "bin_end": 427.6,
            "bin_start": 424.2,
            "count": 4
           },
           {
            "bin_end": 431,
            "bin_start": 427.6,
            "count": 3
           },
           {
            "bin_end": 434.4,
            "bin_start": 431,
            "count": 4
           },
           {
            "bin_end": 437.8,
            "bin_start": 434.4,
            "count": 1
           },
           {
            "bin_end": 441.2,
            "bin_start": 437.8,
            "count": 0
           },
           {
            "bin_end": 444.6,
            "bin_start": 441.2,
            "count": 1
           },
           {
            "bin_end": 448,
            "bin_start": 444.6,
            "count": 1
           }
          ],
          "max": "448.0",
          "min": "414.0",
          "nan_count": 1,
          "unique_count": 18
         }
        },
        {
         "dtype": "float64",
         "name": "cdr3_start_light",
         "stats": {
          "histogram": [
           {
            "bin_end": 360.2,
            "bin_start": 357,
            "count": 6
           },
           {
            "bin_end": 363.4,
            "bin_start": 360.2,
            "count": 7
           },
           {
            "bin_end": 366.6,
            "bin_start": 363.4,
            "count": 3
           },
           {
            "bin_end": 369.8,
            "bin_start": 366.6,
            "count": 3
           },
           {
            "bin_end": 373,
            "bin_start": 369.8,
            "count": 5
           },
           {
            "bin_end": 376.2,
            "bin_start": 373,
            "count": 3
           },
           {
            "bin_end": 379.4,
            "bin_start": 376.2,
            "count": 2
           },
           {
            "bin_end": 382.6,
            "bin_start": 379.4,
            "count": 0
           },
           {
            "bin_end": 385.8,
            "bin_start": 382.6,
            "count": 0
           },
           {
            "bin_end": 389,
            "bin_start": 385.8,
            "count": 1
           }
          ],
          "max": "389.0",
          "min": "357.0",
          "nan_count": 0,
          "unique_count": 16
         }
        },
        {
         "dtype": "float64",
         "name": "cdr3_end_light",
         "stats": {
          "histogram": [
           {
            "bin_end": 386.5,
            "bin_start": 383,
            "count": 5
           },
           {
            "bin_end": 390,
            "bin_start": 386.5,
            "count": 7
           },
           {
            "bin_end": 393.5,
            "bin_start": 390,
            "count": 3
           },
           {
            "bin_end": 397,
            "bin_start": 393.5,
            "count": 5
           },
           {
            "bin_end": 400.5,
            "bin_start": 397,
            "count": 3
           },
           {
            "bin_end": 404,
            "bin_start": 400.5,
            "count": 3
           },
           {
            "bin_end": 407.5,
            "bin_start": 404,
            "count": 2
           },
           {
            "bin_end": 411,
            "bin_start": 407.5,
            "count": 0
           },
           {
            "bin_end": 414.5,
            "bin_start": 411,
            "count": 1
           },
           {
            "bin_end": 418,
            "bin_start": 414.5,
            "count": 1
           }
          ],
          "max": "418.0",
          "min": "383.0",
          "nan_count": 0,
          "unique_count": 20
         }
        },
        {
         "dtype": "object",
         "name": "np1_light",
         "stats": {
          "categories": [
           {
            "count": 3,
            "name": "T"
           },
           {
            "count": 11,
            "name": "11 others"
           },
           {
            "count": 16,
            "name": "Missing"
           }
          ],
          "nan_count": 16,
          "unique_count": 12
         }
        },
        {
         "dtype": "float64",
         "name": "np1_length_light",
         "stats": {
          "histogram": [
           {
            "bin_end": 0.6,
            "bin_start": 0,
            "count": 16
           },
           {
            "bin_end": 1.2,
            "bin_start": 0.6,
            "count": 5
           },
           {
            "bin_end": 1.7999999999999998,
            "bin_start": 1.2,
            "count": 0
           },
           {
            "bin_end": 2.4,
            "bin_start": 1.7999999999999998,
            "count": 2
           },
           {
            "bin_end": 3,
            "bin_start": 2.4,
            "count": 0
           },
           {
            "bin_end": 3.5999999999999996,
            "bin_start": 3,
            "count": 3
           },
           {
            "bin_end": 4.2,
            "bin_start": 3.5999999999999996,
            "count": 1
           },
           {
            "bin_end": 4.8,
            "bin_start": 4.2,
            "count": 0
           },
           {
            "bin_end": 5.3999999999999995,
            "bin_start": 4.8,
            "count": 1
           },
           {
            "bin_end": 6,
            "bin_start": 5.3999999999999995,
            "count": 2
           }
          ],
          "max": "6.0",
          "min": "0.0",
          "nan_count": 0,
          "unique_count": 7
         }
        },
        {
         "dtype": "float64",
         "name": "np2_light",
         "stats": {
          "histogram": [
           {
            "bin_end": 0.1,
            "bin_start": 0,
            "count": 0
           },
           {
            "bin_end": 0.2,
            "bin_start": 0.1,
            "count": 0
           },
           {
            "bin_end": 0.30000000000000004,
            "bin_start": 0.2,
            "count": 0
           },
           {
            "bin_end": 0.4,
            "bin_start": 0.30000000000000004,
            "count": 0
           },
           {
            "bin_end": 0.5,
            "bin_start": 0.4,
            "count": 0
           },
           {
            "bin_end": 0.6000000000000001,
            "bin_start": 0.5,
            "count": 0
           },
           {
            "bin_end": 0.7000000000000001,
            "bin_start": 0.6000000000000001,
            "count": 0
           },
           {
            "bin_end": 0.8,
            "bin_start": 0.7000000000000001,
            "count": 0
           },
           {
            "bin_end": 0.9,
            "bin_start": 0.8,
            "count": 0
           },
           {
            "bin_end": 1,
            "bin_start": 0.9,
            "count": 0
           }
          ],
          "max": null,
          "min": null,
          "nan_count": 30,
          "unique_count": 0
         }
        },
        {
         "dtype": "float64",
         "name": "np2_length_light",
         "stats": {
          "histogram": [
           {
            "bin_end": 0.1,
            "bin_start": 0,
            "count": 0
           },
           {
            "bin_end": 0.2,
            "bin_start": 0.1,
            "count": 0
           },
           {
            "bin_end": 0.30000000000000004,
            "bin_start": 0.2,
            "count": 0
           },
           {
            "bin_end": 0.4,
            "bin_start": 0.30000000000000004,
            "count": 0
           },
           {
            "bin_end": 0.5,
            "bin_start": 0.4,
            "count": 0
           },
           {
            "bin_end": 0.6000000000000001,
            "bin_start": 0.5,
            "count": 0
           },
           {
            "bin_end": 0.7000000000000001,
            "bin_start": 0.6000000000000001,
            "count": 0
           },
           {
            "bin_end": 0.8,
            "bin_start": 0.7000000000000001,
            "count": 0
           },
           {
            "bin_end": 0.9,
            "bin_start": 0.8,
            "count": 0
           },
           {
            "bin_end": 1,
            "bin_start": 0.9,
            "count": 0
           }
          ],
          "max": null,
          "min": null,
          "nan_count": 30,
          "unique_count": 0
         }
        },
        {
         "dtype": "object",
         "name": "c_region_light",
         "stats": {
          "categories": [
           {
            "count": 21,
            "name": "GAACTGTGGCTGCACCATCTGTCTTCATCTTCCCGCCATCTGATGAGCAGTTGAAATCTGGAACTGCCTCTGTTGTGTGCCTGCTGAATAACTTCTATCCCAGAGAGGCCAAAGTACAGTGGAAGGTGGATAACGC"
           },
           {
            "count": 8,
            "name": "4 others"
           },
           {
            "count": 1,
            "name": "Missing"
           }
          ],
          "nan_count": 1,
          "unique_count": 5
         }
        },
        {
         "dtype": "object",
         "name": "Isotype_light",
         "stats": {
          "categories": [
           {
            "count": 29,
            "name": "Bulk"
           },
           {
            "count": 1,
            "name": "Missing"
           }
          ],
          "nan_count": 1,
          "unique_count": 1
         }
        },
        {
         "dtype": "float64",
         "name": "Redundancy_light",
         "stats": {
          "histogram": [
           {
            "bin_end": 0.6,
            "bin_start": 0.5,
            "count": 0
           },
           {
            "bin_end": 0.7,
            "bin_start": 0.6,
            "count": 0
           },
           {
            "bin_end": 0.8,
            "bin_start": 0.7,
            "count": 0
           },
           {
            "bin_end": 0.9,
            "bin_start": 0.8,
            "count": 0
           },
           {
            "bin_end": 1,
            "bin_start": 0.9,
            "count": 0
           },
           {
            "bin_end": 1.1,
            "bin_start": 1,
            "count": 29
           },
           {
            "bin_end": 1.2000000000000002,
            "bin_start": 1.1,
            "count": 0
           },
           {
            "bin_end": 1.3,
            "bin_start": 1.2000000000000002,
            "count": 0
           },
           {
            "bin_end": 1.4,
            "bin_start": 1.3,
            "count": 0
           },
           {
            "bin_end": 1.5,
            "bin_start": 1.4,
            "count": 0
           }
          ],
          "max": "1.0",
          "min": "1.0",
          "nan_count": 1,
          "unique_count": 1
         }
        },
        {
         "dtype": "object",
         "name": "ANARCI_numbering_light",
         "stats": {
          "categories": [
           {
            "count": 2,
            "name": "{'fwk1': {'1 ': 'D', '2 ': 'I', '3 ': 'Q', '4 ': 'M', '5 ': 'T', '6 ': 'Q', '7 ': 'S', '8 ': 'P', '9 ': 'S', '10 ': 'S', '11 ': 'L', '12 ': 'S', '13 ': 'A', '14 ': 'S', '15 ': 'V', '16 ': 'G', '17 ': 'D', '18 ': 'R', '19 ': 'V', '20 ': 'T', '21 ': 'I', '22 ': 'T', '23 ': 'C', '24 ': 'R', '25 ': 'A', '26 ': 'S'}, 'cdrk1': {'27 ': 'Q', '28 ': 'S', '29 ': 'I', '36 ': 'S', '37 ': 'S', '38 ': 'Y'}, 'fwk2': {'39 ': 'L', '40 ': 'N', '41 ': 'W', '42 ': 'Y', '43 ': 'Q', '44 ': 'Q', '45 ': 'K', '46 ': 'P', '47 ': 'G', '48 ': 'K', '49 ': 'A', '50 ': 'P', '51 ': 'K', '52 ': 'L', '53 ': 'L', '54 ': 'I', '55 ': 'Y'}, 'cdrk2': {'56 ': 'A', '57 ': 'A', '65 ': 'S'}, 'fwk3': {'66 ': 'S', '67 ': 'L', '68 ': 'Q', '69 ': 'S', '70 ': 'G', '71 ': 'V', '72 ': 'P', '74 ': 'S', '75 ': 'R', '76 ': 'F', '77 ': 'S', '78 ': 'G', '79 ': 'S', '80 ': 'G', '83 ': 'S', '84 ': 'G', '85 ': 'T', '86 ': 'D', '87 ': 'F', '88 ': 'T', '89 ': 'L', '90 ': 'T', '91 ': 'I', '92 ': 'S', '93 ': 'S', '94 ': 'L', '95 ': 'Q', '96 ': 'P', '97 ': 'E', '98 ': 'D', '99 ': 'F', '100 ': 'A', '101 ': 'T', '102 ': 'Y', '103 ': 'Y', '104 ': 'C'}, 'cdrk3': {'105 ': 'Q', '106 ': 'Q', '107 ': 'S', '108 ': 'Y', '109 ': 'S', '114 ': 'T', '115 ': 'P', '116 ': 'W', '117 ': 'T'}, 'fwk4': {'118 ': 'F', '119 ': 'G', '120 ': 'Q', '121 ': 'G', '122 ': 'T', '123 ': 'K', '124 ': 'V', '125 ': 'E', '126 ': 'I', '127 ': 'K'}}"
           },
           {
            "count": 1,
            "name": "{'fwk1': {'1 ': 'D', '2 ': 'I', '3 ': 'Q', '4 ': 'V', '5 ': 'T', '6 ': 'Q', '7 ': 'S', '8 ': 'P', '9 ': 'S', '10 ': 'S', '11 ': 'L', '12 ': 'S', '13 ': 'A', '14 ': 'F', '15 ': 'V', '16 ': 'G', '17 ': 'D', '18 ': 'R', '19 ': 'V', '20 ': 'T', '21 ': 'I', '22 ': 'T', '23 ': 'C', '24 ': 'R', '25 ': 'A', '26 ': 'S'}, 'cdrk1': {'27 ': 'E', '28 ': 'S', '29 ': 'I', '36 ': 'N', '37 ': 'M', '38 ': 'Y'}, 'fwk2': {'39 ': 'L', '40 ': 'N', '41 ': 'W', '42 ': 'Y', '43 ': 'Q', '44 ': 'Q', '45 ': 'K', '46 ': 'P', '47 ': 'G', '48 ': 'K', '49 ': 'A', '50 ': 'P', '51 ': 'K', '52 ': 'L', '53 ': 'L', '54 ': 'I', '55 ': 'Y'}, 'cdrk2': {'56 ': 'A', '57 ': 'A', '65 ': 'S'}, 'fwk3': {'66 ': 'S', '67 ': 'L', '68 ': 'Q', '69 ': 'S', '70 ': 'G', '71 ': 'V', '72 ': 'P', '74 ': 'S', '75 ': 'R', '76 ': 'F', '77 ': 'R', '78 ': 'G', '79 ': 'S', '80 ': 'G', '83 ': 'S', '84 ': 'G', '85 ': 'T', '86 ': 'D', '87 ': 'F', '88 ': 'T', '89 ': 'L', '90 ': 'T', '91 ': 'I', '92 ': 'S', '93 ': 'S', '94 ': 'L', '95 ': 'Q', '96 ': 'T', '97 ': 'E', '98 ': 'D', '99 ': 'I', '100 ': 'A', '101 ': 'S', '102 ': 'Y', '103 ': 'F', '104 ': 'C'}, 'cdrk3': {'105 ': 'Q', '106 ': 'Q', '107 ': 'S', '108 ': 'Y', '109 ': 'T', '114 ': 'T', '115 ': 'S', '116 ': 'W', '117 ': 'T'}, 'fwk4': {'118 ': 'F', '119 ': 'G', '120 ': 'Q', '121 ': 'G', '122 ': 'T', '123 ': 'K', '124 ': 'V', '125 ': 'E', '126 ': 'I', '127 ': 'K'}}"
           },
           {
            "count": 27,
            "name": "27 others"
           }
          ],
          "nan_count": 0,
          "unique_count": 29
         }
        },
        {
         "dtype": "object",
         "name": "ANARCI_status_light",
         "stats": {
          "categories": [
           {
            "count": 28,
            "name": "|||||"
           },
           {
            "count": 2,
            "name": "||||Shorter than IMGT defined: fw1|"
           }
          ],
          "nan_count": 0,
          "unique_count": 2
         }
        },
        {
         "dtype": "int64",
         "name": "_deepnote_index_column"
        }
       ],
       "row_count": 30,
       "rows": [
        {
         "ANARCI_numbering_heavy": "{'fwh1': {'1 ': 'Q', '2 ': 'V', '3 ': 'Q', '4 ': 'L', '5 ': 'V', '6 ': 'E', '7 ': 'S', '8 ': 'G', '9 ': 'G', '11 ': 'G', '12 ': 'L', '13 ': 'V', '14 ': 'K', '15 ': 'P', '16 ': 'G', '17 ': 'G', '18 ': 'S', '19 ': 'L', '20 ': 'R', '21 ': 'L', '22 ': 'S', '23 ': 'C', '24 ': 'A', '25 ': 'A', '26 ': 'S'}, 'cdrh1': {'27 ': 'G', '28 ': 'F', '29 ': 'T', '30 ': 'F', '35 ': 'S', '36 ': 'D', '37 ': 'Y', '38 ': 'Y'}, 'fwh2': {'39 ': 'M', '40 ': 'S', '41 ': 'W', '42 ': 'I', '43 ': 'R', '44 ': 'Q', '45 ': 'A', '46 ': 'P', '47 ': 'G', '48 ': 'K', '49 ': 'G', '50 ': 'L', '51 ': 'E', '52 ': 'W', '53 ': 'V', '54 ': 'S', '55 ': 'Y'}, 'cdrh2': {'56 ': 'I', '57 ': 'S', '58 ': 'S', '59 ': 'S', '62 ': 'G', '63 ': 'S', '64 ': 'T', '65 ': 'I'}, 'fwh3': {'66 ': 'Y', '67 ': 'Y', '68 ': 'A', '69 ': 'D', '70 ': 'S', '71 ': 'V', '72 ': 'K', '74 ': 'G', '75 ': 'R', '76 ': 'F', '77 ': 'T', '78 ': 'I', '79 ': 'S', '80 ': 'R', '81 ': 'D', '82 ': 'N', '83 ': 'A', '84 ': 'K', '85 ': 'N', '86 ': 'S', '87 ': 'L', '88 ': '…",
         "ANARCI_numbering_light": "{'fwk1': {'1 ': 'D', '2 ': 'I', '3 ': 'V', '4 ': 'M', '5 ': 'T', '6 ': 'Q', '7 ': 'S', '8 ': 'P', '9 ': 'D', '10 ': 'S', '11 ': 'L', '12 ': 'A', '13 ': 'V', '14 ': 'S', '15 ': 'L', '16 ': 'G', '17 ': 'E', '18 ': 'R', '19 ': 'A', '20 ': 'T', '21 ': 'I', '22 ': 'N', '23 ': 'C', '24 ': 'K', '25 ': 'S', '26 ': 'S'}, 'cdrk1': {'27 ': 'Q', '28 ': 'S', '29 ': 'V', '30 ': 'L', '31 ': 'Y', '32 ': 'S', '33 ': 'S', '34 ': 'N', '35 ': 'N', '36 ': 'K', '37 ': 'N', '38 ': 'Y'}, 'fwk2': {'39 ': 'L', '40 ': 'A', '41 ': 'W', '42 ': 'Y', '43 ': 'Q', '44 ': 'Q', '45 ': 'K', '46 ': 'P', '47 ': 'G', '48 ': 'Q', '49 ': 'P', '50 ': 'P', '51 ': 'K', '52 ': 'L', '53 ': 'L', '54 ': 'I', '55 ': 'Y'}, 'cdrk2': {'56 ': 'W', '57 ': 'A', '65 ': 'S'}, 'fwk3': {'66 ': 'T', '67 ': 'R', '68 ': 'E', '69 ': 'S', '70 ': 'G', '71 ': 'V', '72 ': 'P', '74 ': 'D', '75 ': 'R', '76 ': 'F', '77 ': 'S', '78 ': 'G', '79 ': 'S', '80 ': 'G', '83 ': 'S', '84 ': 'G', '85 ': 'T', '86 ': 'D', '87 ': 'F', '88 ': 'T', '89 ': 'L', '90 ': '…",
         "ANARCI_status_heavy": "|Deletions: 10, 73||||",
         "ANARCI_status_light": "|||||",
         "Isotype_heavy": "IGHM",
         "Isotype_light": "Bulk",
         "Redundancy_heavy": "1.0",
         "Redundancy_light": "1.0",
         "_deepnote_index_column": "20",
         "c_region_heavy": "GGAGTGCATCCGCCCCAACCCTTTTCCCCCTCGTCTCCTGTGAGAATTCCCCGTCGGATACGAGCAGCGTG",
         "c_region_light": "GAACTGTGGCTGCACCATCTGTCTTCATCTTCCCGCCATCTGATGAGCAGTTGAAATCTGGAACTGCCTCTGTTGTGTGCCTGCTGAATAACTTCTATCCCAGAGAGGCCAAAGTACAGTGGAAGGTGGATAACGC",
         "cdr1_aa_heavy": "GFTFSDYY",
         "cdr1_aa_light": "QSVLYSSNNKNY",
         "cdr1_end_heavy": "236.0",
         "cdr1_end_light": "204.0",
         "cdr1_heavy": "GGATTCACCTTCAGTGACTACTAC",
         "cdr1_light": "CAGAGTGTTTTATACAGCTCCAACAATAAGAACTAC",
         "cdr1_start_heavy": "213.0",
         "cdr1_start_light": "169.0",
         "cdr2_aa_heavy": "ISSSGSTI",
         "cdr2_aa_light": "WAS",
         "cdr2_end_heavy": "311.0",
         "cdr2_end_light": "264.0",
         "cdr2_heavy": "ATTAGTAGTAGTGGTAGTACCATA",
         "cdr2_light": "TGGGCATCT",
         "cdr2_start_heavy": "288.0",
         "cdr2_start_light": "256.0",
         "cdr3_aa_heavy": "ARDCPSCYGDYFDY",
         "cdr3_aa_light": "QQYYSTPPNT",
         "cdr3_end_heavy": "467.0",
         "cdr3_end_light": "402.0",
         "cdr3_heavy": "GCGAGAGATTGTCCCAGCTGCTATGGAGACTACTTTGACTAC",
         "cdr3_light": "CAGCAATATTATAGTACTCCTCCGAACACT",
         "cdr3_start_heavy": "426.0",
         "cdr3_start_light": "373.0",
         "complete_vdj_heavy": "T",
         "complete_vdj_light": "T",
         "d_alignment_end_heavy": "313.0",
         "d_alignment_end_light": "nan",
         "d_alignment_start_heavy": "302.0",
         "d_alignment_start_light": "nan",
         "d_call_heavy": "IGHD2-2*01",
         "d_call_light": "nan",
         "d_cigar_heavy": "438S17N12M122S2N",
         "d_cigar_light": "nan",
         "d_germline_alignment_aa_heavy": "SCY",
         "d_germline_alignment_aa_light": "nan",
         "d_germline_alignment_heavy": "CCAGCTGCTATG",
         "d_germline_alignment_light": "nan",
         "d_germline_end_heavy": "29.0",
         "d_germline_end_light": "nan",
         "d_germline_start_heavy": "18.0",
         "d_germline_start_light": "nan",
         "d_identity_heavy": "100.0",
         "d_identity_light": "nan",
         "d_score_heavy": "23.76",
         "d_score_light": "nan",
         "d_sequence_alignment_aa_heavy": "SCY",
         "d_sequence_alignment_aa_light": "nan",
         "d_sequence_alignment_heavy": "CCAGCTGCTATG",
         "d_sequence_alignment_light": "nan",
         "d_sequence_end_heavy": "450.0",
         "d_sequence_end_light": "nan",
         "d_sequence_start_heavy": "439.0",
         "d_sequence_start_light": "nan",
         "d_support_heavy": "0.01804",
         "d_support_light": "nan",
         "fwr1_aa_heavy": "QVQLVESGGGLVKPGGSLRLSCAAS",
         "fwr1_aa_light": "DIVMTQSPDSLAVSLGERATINCKSS",
         "fwr1_end_heavy": "212.0",
         "fwr1_end_light": "168.0",
         "fwr1_heavy": "CAGGTGCAGCTGGTGGAGTCTGGGGGAGGCTTGGTCAAGCCTGGAGGGTCCCTGAGACTCTCCTGTGCAGCCTCT",
         "fwr1_light": "GACATCGTGATGACCCAGTCTCCAGACTCCCTGGCTGTGTCTCTGGGCGAGAGGGCCACCATCAACTGCAAGTCCAGC",
         "fwr1_start_heavy": "138.0",
         "fwr1_start_light": "91.0",
         "fwr2_aa_heavy": "MSWIRQAPGKGLEWVSY",
         "fwr2_aa_light": "LAWYQQKPGQPPKLLIY",
         "fwr2_end_heavy": "287.0",
         "fwr2_end_light": "255.0",
         "fwr2_heavy": "ATGAGCTGGATCCGCCAGGCTCCAGGGAAGGGGCTGGAGTGGGTTTCATAC",
         "fwr2_light": "TTAGCTTGGTACCAGCAGAAACCAGGACAGCCTCCTAAGCTGCTCATTTAC",
         "fwr2_start_heavy": "237.0",
         "fwr2_start_light": "205.0",
         "fwr3_aa_heavy": "YYADSVKGRFTISRDNAKNSLYLQMNSLRAEDTAVYYC",
         "fwr3_aa_light": "TRESGVPDRFSGSGSGTDFTLTISSLQAEDVAVYYC",
         "fwr3_end_heavy": "425.0",
         "fwr3_end_light": "372.0",
         "fwr3_heavy": "TACTACGCAGACTCTGTGAAGGGCCGATTCACCATCTCCAGGGACAACGCCAAGAACTCACTGTATCTGCAAATGAACAGCCTGAGAGCCGAGGACACGGCCGTGTATTACTGT",
         "fwr3_light": "ACCCGGGAATCCGGGGTCCCTGACCGATTCAGTGGCAGCGGGTCTGGGACAGATTTCACTCTCACCATCAGCAGCCTGCAGGCTGAAGATGTGGCAGTTTATTACTGT",
         "fwr3_start_heavy": "312.0",
         "fwr3_start_light": "265.0",
         "fwr4_aa_heavy": "WGQGTLVTVSS",
         "fwr4_aa_light": "FGGGTKVEIK",
         "fwr4_end_heavy": "500.0",
         "fwr4_end_light": "432.0",
         "fwr4_heavy": "TGGGGCCAGGGAACCCTGGTCACCGTCTCCTCA",
         "fwr4_light": "TTCGGCGGAGGGACCAAGGTGGAGATCAAA",
         "fwr4_start_heavy": "468.0",
         "fwr4_start_light": "403.0",
         "germline_alignment_aa_heavy": "QVQLVESGGGLVKPGGSLRLSCAASGFTFSDYYMSWIRQAPGKGLEWVSYISSSGSTIYYADSVKGRFTISRDNAKNSLYLQMNSLRAEDTAVYYCARXXXSCYXXYFDYWGQGTLVTVSS",
         "germline_alignment_aa_light": "DIVMTQSPDSLAVSLGERATINCKSSQSVLYSSNNKNYLAWYQQKPGQPPKLLIYWASTRESGVPDRFSGSGSGTDFTLTISSLQAEDVAVYYCQQYYSTPPXTFGGGTKVEIK",
         "germline_alignment_heavy": "CAGGTGCAGCTGGTGGAGTCTGGGGGAGGCTTGGTCAAGCCTGGAGGGTCCCTGAGACTCTCCTGTGCAGCCTCTGGATTCACCTTCAGTGACTACTACATGAGCTGGATCCGCCAGGCTCCAGGGAAGGGGCTGGAGTGGGTTTCATACATTAGTAGTAGTGGTAGTACCATATACTACGCAGACTCTGTGAAGGGCCGATTCACCATCTCCAGGGACAACGCCAAGAACTCACTGTATCTGCAAATGAACAGCCTGAGAGCCGAGGACACGGCCGTGTATTACTGTGCGAGAGANNNNNCCAGCTGCTATGNNNACTACTTTGACTACTGGGGCCAGGGAACCCTGGTCACCGTCTCCTCAG",
         "germline_alignment_light": "GACATCGTGATGACCCAGTCTCCAGACTCCCTGGCTGTGTCTCTGGGCGAGAGGGCCACCATCAACTGCAAGTCCAGCCAGAGTGTTTTATACAGCTCCAACAATAAGAACTACTTAGCTTGGTACCAGCAGAAACCAGGACAGCCTCCTAAGCTGCTCATTTACTGGGCATCTACCCGGGAATCCGGGGTCCCTGACCGATTCAGTGGCAGCGGGTCTGGGACAGATTTCACTCTCACCATCAGCAGCCTGCAGGCTGAAGATGTGGCAGTTTATTACTGTCAGCAATATTATAGTACTCCTCCNNNCACTTTCGGCGGAGGGACCAAGGTGGAGATCAAAC",
         "j_alignment_end_heavy": "364.0",
         "j_alignment_end_light": "343.0",
         "j_alignment_start_heavy": "317.0",
         "j_alignment_start_light": "309.0",
         "j_call_heavy": "IGHJ4*02",
         "j_call_light": "IGKJ4*01",
         "j_cigar_heavy": "453S48M71S",
         "j_cigar_light": "398S3N35M136S",
         "j_germline_alignment_aa_heavy": "YFDYWGQGTLVTVSS",
         "j_germline_alignment_aa_light": "TFGGGTKVEIK",
         "j_germline_alignment_heavy": "ACTACTTTGACTACTGGGGCCAGGGAACCCTGGTCACCGTCTCCTCAG",
         "j_germline_alignment_light": "CACTTTCGGCGGAGGGACCAAGGTGGAGATCAAAC",
         "j_germline_end_heavy": "48.0",
         "j_germline_end_light": "38.0",
         "j_germline_start_heavy": "1.0",
         "j_germline_start_light": "4.0",
         "j_identity_heavy": "100.0",
         "j_identity_light": "100.0",
         "j_score_heavy": "92.976",
         "j_score_light": "67.981",
         "j_sequence_alignment_aa_heavy": "YFDYWGQGTLVTVSS",
         "j_sequence_alignment_aa_light": "TFGGGTKVEIK",
         "j_sequence_alignment_heavy": "ACTACTTTGACTACTGGGGCCAGGGAACCCTGGTCACCGTCTCCTCAG",
         "j_sequence_alignment_light": "CACTTTCGGCGGAGGGACCAAGGTGGAGATCAAAC",
         "j_sequence_end_heavy": "501.0",
         "j_sequence_end_light": "433.0",
         "j_sequence_start_heavy": "454.0",
         "j_sequence_start_light": "399.0",
         "j_support_heavy": "5.718e-23",
         "j_support_light": "1.902e-15",
         "junction_aa_heavy": "CARDCPSCYGDYFDYW",
         "junction_aa_length_heavy": "16.0",
         "junction_aa_length_light": "12.0",
         "junction_aa_light": "CQQYYSTPPNTF",
         "junction_heavy": "TGTGCGAGAGATTGTCCCAGCTGCTATGGAGACTACTTTGACTACTGG",
         "junction_length_heavy": "48.0",
         "junction_length_light": "36.0",
         "junction_light": "TGTCAGCAATATTATAGTACTCCTCCGAACACTTTC",
         "locus_heavy": "H",
         "locus_light": "K",
         "np1_heavy": "TTGTC",
         "np1_length_heavy": "5.0",
         "np1_length_light": "3.0",
         "np1_light": "GAA",
         "np2_heavy": "GAG",
         "np2_length_heavy": "3.0",
         "np2_length_light": "nan",
         "np2_light": "nan",
         "productive_heavy": "T",
         "productive_light": "T",
         "rev_comp_heavy": "F",
         "rev_comp_light": "F",
         "sequence_alignment_aa_heavy": "QVQLVESGGGLVKPGGSLRLSCAASGFTFSDYYMSWIRQAPGKGLEWVSYISSSGSTIYYADSVKGRFTISRDNAKNSLYLQMNSLRAEDTAVYYCARDCPSCYGDYFDYWGQGTLVTVSS",
         "sequence_alignment_aa_light": "DIVMTQSPDSLAVSLGERATINCKSSQSVLYSSNNKNYLAWYQQKPGQPPKLLIYWASTRESGVPDRFSGSGSGTDFTLTISSLQAEDVAVYYCQQYYSTPPNTFGGGTKVEIK",
         "sequence_alignment_heavy": "CAGGTGCAGCTGGTGGAGTCTGGGGGAGGCTTGGTCAAGCCTGGAGGGTCCCTGAGACTCTCCTGTGCAGCCTCTGGATTCACCTTCAGTGACTACTACATGAGCTGGATCCGCCAGGCTCCAGGGAAGGGGCTGGAGTGGGTTTCATACATTAGTAGTAGTGGTAGTACCATATACTACGCAGACTCTGTGAAGGGCCGATTCACCATCTCCAGGGACAACGCCAAGAACTCACTGTATCTGCAAATGAACAGCCTGAGAGCCGAGGACACGGCCGTGTATTACTGTGCGAGAGATTGTCCCAGCTGCTATGGAGACTACTTTGACTACTGGGGCCAGGGAACCCTGGTCACCGTCTCCTCAG",
         "sequence_alignment_light": "GACATCGTGATGACCCAGTCTCCAGACTCCCTGGCTGTGTCTCTGGGCGAGAGGGCCACCATCAACTGCAAGTCCAGCCAGAGTGTTTTATACAGCTCCAACAATAAGAACTACTTAGCTTGGTACCAGCAGAAACCAGGACAGCCTCCTAAGCTGCTCATTTACTGGGCATCTACCCGGGAATCCGGGGTCCCTGACCGATTCAGTGGCAGCGGGTCTGGGACAGATTTCACTCTCACCATCAGCAGCCTGCAGGCTGAAGATGTGGCAGTTTATTACTGTCAGCAATATTATAGTACTCCTCCGAACACTTTCGGCGGAGGGACCAAGGTGGAGATCAAAC",
         "sequence_heavy": "AGCTCTGGGAGAAGAGCCCCAGCCCCAGAATTCCCAGGAGTTTCCATTCGGTGATCAGCACTGAACACAGAGGACTCACCATGGAGTTTGGGCTGAGCTGGGTTTTCCTTGTTGCTATTATAAAAGGTGTCCAGTGTCAGGTGCAGCTGGTGGAGTCTGGGGGAGGCTTGGTCAAGCCTGGAGGGTCCCTGAGACTCTCCTGTGCAGCCTCTGGATTCACCTTCAGTGACTACTACATGAGCTGGATCCGCCAGGCTCCAGGGAAGGGGCTGGAGTGGGTTTCATACATTAGTAGTAGTGGTAGTACCATATACTACGCAGACTCTGTGAAGGGCCGATTCACCATCTCCAGGGACAACGCCAAGAACTCACTGTATCTGCAAATGAACAGCCTGAGAGCCGAGGACACGGCCGTGTATTACTGTGCGAGAGATTGTCCCAGCTGCTATGGAGACTACTTTGACTACTGGGGCCAGGGAACCCTGGTCACCGTCTCCTCAGGGAGTGCATCCGCCCCAACCCTTTTCCCCCTCGTCTCCTGTGAGAATTCCCCGTCGGATACGAGCAGCGTG",
         "sequence_id_heavy": "AATCGGTGTTGTCTTT-1_contig_2",
         "sequence_id_light": "AATCGGTGTTGTCTTT-1_contig_1",
         "sequence_light": "GAGCTACAACAGGCAGGCAGGGGCAGCAAGATGGTGTTGCAGACCCAGGTCTTCATTTCTCTGTTGCTCTGGATCTCTGGTGCCTACGGGGACATCGTGATGACCCAGTCTCCAGACTCCCTGGCTGTGTCTCTGGGCGAGAGGGCCACCATCAACTGCAAGTCCAGCCAGAGTGTTTTATACAGCTCCAACAATAAGAACTACTTAGCTTGGTACCAGCAGAAACCAGGACAGCCTCCTAAGCTGCTCATTTACTGGGCATCTACCCGGGAATCCGGGGTCCCTGACCGATTCAGTGGCAGCGGGTCTGGGACAGATTTCACTCTCACCATCAGCAGCCTGCAGGCTGAAGATGTGGCAGTTTATTACTGTCAGCAATATTATAGTACTCCTCCGAACACTTTCGGCGGAGGGACCAAGGTGGAGATCAAACGAACTGTGGCTGCACCATCTGTCTTCATCTTCCCGCCATCTGATGAGCAGTTGAAATCTGGAACTGCCTCTGTTGTGTGCCTGCTGAATAACTTCTATCCCAGAGAGGCCAAAGTACAGTGGAAGGTGGATAACGC",
         "stop_codon_heavy": "F",
         "stop_codon_light": "F",
         "v_alignment_end_heavy": "296.0",
         "v_alignment_end_light": "305.0",
         "v_alignment_start_heavy": "1.0",
         "v_alignment_start_light": "1.0",
         "v_call_heavy": "IGHV3-11*01",
         "v_call_light": "IGKV4-1*01",
         "v_cigar_heavy": "137S296M139S",
         "v_cigar_light": "90S305M174S",
         "v_frameshift_heavy": "F",
         "v_frameshift_light": "F",
         "v_germline_alignment_aa_heavy": "QVQLVESGGGLVKPGGSLRLSCAASGFTFSDYYMSWIRQAPGKGLEWVSYISSSGSTIYYADSVKGRFTISRDNAKNSLYLQMNSLRAEDTAVYYCAR",
         "v_germline_alignment_aa_light": "DIVMTQSPDSLAVSLGERATINCKSSQSVLYSSNNKNYLAWYQQKPGQPPKLLIYWASTRESGVPDRFSGSGSGTDFTLTISSLQAEDVAVYYCQQYYSTPP",
         "v_germline_alignment_heavy": "CAGGTGCAGCTGGTGGAGTCTGGGGGAGGCTTGGTCAAGCCTGGAGGGTCCCTGAGACTCTCCTGTGCAGCCTCTGGATTCACCTTCAGTGACTACTACATGAGCTGGATCCGCCAGGCTCCAGGGAAGGGGCTGGAGTGGGTTTCATACATTAGTAGTAGTGGTAGTACCATATACTACGCAGACTCTGTGAAGGGCCGATTCACCATCTCCAGGGACAACGCCAAGAACTCACTGTATCTGCAAATGAACAGCCTGAGAGCCGAGGACACGGCCGTGTATTACTGTGCGAGAGA",
         "v_germline_alignment_light": "GACATCGTGATGACCCAGTCTCCAGACTCCCTGGCTGTGTCTCTGGGCGAGAGGGCCACCATCAACTGCAAGTCCAGCCAGAGTGTTTTATACAGCTCCAACAATAAGAACTACTTAGCTTGGTACCAGCAGAAACCAGGACAGCCTCCTAAGCTGCTCATTTACTGGGCATCTACCCGGGAATCCGGGGTCCCTGACCGATTCAGTGGCAGCGGGTCTGGGACAGATTTCACTCTCACCATCAGCAGCCTGCAGGCTGAAGATGTGGCAGTTTATTACTGTCAGCAATATTATAGTACTCCTCC",
         "v_germline_end_heavy": "296.0",
         "v_germline_end_light": "305.0",
         "v_germline_start_heavy": "1.0",
         "v_germline_start_light": "1.0",
         "v_identity_heavy": "100.0",
         "v_identity_light": "100.0",
         "v_score_heavy": "463.037",
         "v_score_light": "477.06",
         "v_sequence_alignment_aa_heavy": "QVQLVESGGGLVKPGGSLRLSCAASGFTFSDYYMSWIRQAPGKGLEWVSYISSSGSTIYYADSVKGRFTISRDNAKNSLYLQMNSLRAEDTAVYYCAR",
         "v_sequence_alignment_aa_light": "DIVMTQSPDSLAVSLGERATINCKSSQSVLYSSNNKNYLAWYQQKPGQPPKLLIYWASTRESGVPDRFSGSGSGTDFTLTISSLQAEDVAVYYCQQYYSTPP",
         "v_sequence_alignment_heavy": "CAGGTGCAGCTGGTGGAGTCTGGGGGAGGCTTGGTCAAGCCTGGAGGGTCCCTGAGACTCTCCTGTGCAGCCTCTGGATTCACCTTCAGTGACTACTACATGAGCTGGATCCGCCAGGCTCCAGGGAAGGGGCTGGAGTGGGTTTCATACATTAGTAGTAGTGGTAGTACCATATACTACGCAGACTCTGTGAAGGGCCGATTCACCATCTCCAGGGACAACGCCAAGAACTCACTGTATCTGCAAATGAACAGCCTGAGAGCCGAGGACACGGCCGTGTATTACTGTGCGAGAGA",
         "v_sequence_alignment_light": "GACATCGTGATGACCCAGTCTCCAGACTCCCTGGCTGTGTCTCTGGGCGAGAGGGCCACCATCAACTGCAAGTCCAGCCAGAGTGTTTTATACAGCTCCAACAATAAGAACTACTTAGCTTGGTACCAGCAGAAACCAGGACAGCCTCCTAAGCTGCTCATTTACTGGGCATCTACCCGGGAATCCGGGGTCCCTGACCGATTCAGTGGCAGCGGGTCTGGGACAGATTTCACTCTCACCATCAGCAGCCTGCAGGCTGAAGATGTGGCAGTTTATTACTGTCAGCAATATTATAGTACTCCTCC",
         "v_sequence_end_heavy": "433.0",
         "v_sequence_end_light": "395.0",
         "v_sequence_start_heavy": "138.0",
         "v_sequence_start_light": "91.0",
         "v_support_heavy": "2.733e-132",
         "v_support_light": "1.6319999999999999e-136",
         "vj_in_frame_heavy": "T",
         "vj_in_frame_light": "T"
        },
        {
         "ANARCI_numbering_heavy": "{'fwh1': {'1 ': 'Q', '2 ': 'V', '3 ': 'Q', '4 ': 'L', '5 ': 'V', '6 ': 'E', '7 ': 'S', '8 ': 'G', '9 ': 'G', '11 ': 'G', '12 ': 'L', '13 ': 'V', '14 ': 'K', '15 ': 'P', '16 ': 'G', '17 ': 'G', '18 ': 'S', '19 ': 'L', '20 ': 'R', '21 ': 'L', '22 ': 'S', '23 ': 'C', '24 ': 'A', '25 ': 'A', '26 ': 'S'}, 'cdrh1': {'27 ': 'G', '28 ': 'F', '29 ': 'T', '30 ': 'F', '35 ': 'S', '36 ': 'D', '37 ': 'Y', '38 ': 'Y'}, 'fwh2': {'39 ': 'M', '40 ': 'S', '41 ': 'W', '42 ': 'I', '43 ': 'R', '44 ': 'Q', '45 ': 'A', '46 ': 'P', '47 ': 'G', '48 ': 'K', '49 ': 'G', '50 ': 'L', '51 ': 'E', '52 ': 'W', '53 ': 'V', '54 ': 'S', '55 ': 'Y'}, 'cdrh2': {'56 ': 'I', '57 ': 'S', '58 ': 'S', '59 ': 'S', '62 ': 'S', '63 ': 'S', '64 ': 'Y', '65 ': 'T'}, 'fwh3': {'66 ': 'N', '67 ': 'Y', '68 ': 'A', '69 ': 'D', '70 ': 'S', '71 ': 'V', '72 ': 'K', '74 ': 'G', '75 ': 'R', '76 ': 'F', '77 ': 'T', '78 ': 'I', '79 ': 'S', '80 ': 'R', '81 ': 'D', '82 ': 'N', '83 ': 'A', '84 ': 'K', '85 ': 'N', '86 ': 'S', '87 ': 'L', '88 ': '…",
         "ANARCI_numbering_light": "{'fwk1': {'1 ': 'D', '2 ': 'I', '3 ': 'Q', '4 ': 'M', '5 ': 'T', '6 ': 'Q', '7 ': 'S', '8 ': 'P', '9 ': 'S', '10 ': 'S', '11 ': 'L', '12 ': 'S', '13 ': 'A', '14 ': 'S', '15 ': 'V', '16 ': 'G', '17 ': 'D', '18 ': 'R', '19 ': 'V', '20 ': 'T', '21 ': 'I', '22 ': 'T', '23 ': 'C', '24 ': 'R', '25 ': 'A', '26 ': 'S'}, 'cdrk1': {'27 ': 'Q', '28 ': 'G', '29 ': 'I', '36 ': 'S', '37 ': 'N', '38 ': 'S'}, 'fwk2': {'39 ': 'L', '40 ': 'A', '41 ': 'W', '42 ': 'Y', '43 ': 'Q', '44 ': 'Q', '45 ': 'K', '46 ': 'P', '47 ': 'G', '48 ': 'K', '49 ': 'A', '50 ': 'P', '51 ': 'K', '52 ': 'L', '53 ': 'L', '54 ': 'L', '55 ': 'Y'}, 'cdrk2': {'56 ': 'A', '57 ': 'A', '65 ': 'S'}, 'fwk3': {'66 ': 'R', '67 ': 'L', '68 ': 'E', '69 ': 'S', '70 ': 'G', '71 ': 'V', '72 ': 'P', '74 ': 'S', '75 ': 'R', '76 ': 'F', '77 ': 'S', '78 ': 'G', '79 ': 'S', '80 ': 'G', '83 ': 'S', '84 ': 'G', '85 ': 'T', '86 ': 'D', '87 ': 'Y', '88 ': 'T', '89 ': 'L', '90 ': 'T', '91 ': 'I', '92 ': 'S', '93 ': 'S', '94 ': 'L', '95 ': 'Q', '96 ': '…",
         "ANARCI_status_heavy": "|Deletions: 10, 73||||",
         "ANARCI_status_light": "|||||",
         "Isotype_heavy": "IGHM",
         "Isotype_light": "Bulk",
         "Redundancy_heavy": "1.0",
         "Redundancy_light": "1.0",
         "_deepnote_index_column": "21",
         "c_region_heavy": "GGGAGTGCATCCGCCCCAACCCTTTTCCCCCTCGTCTCCTGTGAGAATTCCCCGTCGGATACGAGCAGCGTG",
         "c_region_light": "GAACTGTGGCTGCACCATCTGTCTTCATCTTCCCGCCATCTGATGAGCAGTTGAAATCTGGAACTGCCTCTGTTGTGTGCCTGCTGAATAACTTCTATCCCAGAGAGGCCAAAGTACAGTGGAAGGTGGATAACGC",
         "cdr1_aa_heavy": "GFTFSDYY",
         "cdr1_aa_light": "QGISNS",
         "cdr1_end_heavy": "236.0",
         "cdr1_end_light": "192.0",
         "cdr1_heavy": "GGATTCACCTTCAGTGACTACTAC",
         "cdr1_light": "CAGGGCATTAGCAATTCT",
         "cdr1_start_heavy": "213.0",
         "cdr1_start_light": "175.0",
         "cdr2_aa_heavy": "ISSSSSYT",
         "cdr2_aa_light": "AAS",
         "cdr2_end_heavy": "311.0",
         "cdr2_end_light": "252.0",
         "cdr2_heavy": "ATTAGTAGTAGTAGTAGTTACACA",
         "cdr2_light": "GCTGCATCC",
         "cdr2_start_heavy": "288.0",
         "cdr2_start_light": "244.0",
         "cdr3_aa_heavy": "ARDDFWSGPLYMDV",
         "cdr3_aa_light": "QQYYSTPHT",
         "cdr3_end_heavy": "467.0",
         "cdr3_end_light": "387.0",
         "cdr3_heavy": "GCGAGGGACGATTTTTGGAGTGGTCCCCTCTACATGGACGTC",
         "cdr3_light": "CAACAGTATTATAGTACCCCTCACACT",
         "cdr3_start_heavy": "426.0",
         "cdr3_start_light": "361.0",
         "complete_vdj_heavy": "T",
         "complete_vdj_light": "T",
         "d_alignment_end_heavy": "312.0",
         "d_alignment_end_light": "nan",
         "d_alignment_start_heavy": "297.0",
         "d_alignment_start_light": "nan",
         "d_call_heavy": "IGHD3-3*01",
         "d_call_light": "nan",
         "d_cigar_heavy": "433S6N16M123S9N",
         "d_cigar_light": "nan",
         "d_germline_alignment_aa_heavy": "DFWSG",
         "d_germline_alignment_aa_light": "nan",
         "d_germline_alignment_heavy": "CGATTTTTGGAGTGGT",
         "d_germline_alignment_light": "nan",
         "d_germline_end_heavy": "22.0",
         "d_germline_end_light": "nan",
         "d_germline_start_heavy": "7.0",
         "d_germline_start_light": "nan",
         "d_identity_heavy": "100.0",
         "d_identity_light": "nan",
         "d_score_heavy": "31.45",
         "d_score_light": "nan",
         "d_sequence_alignment_aa_heavy": "DFWSG",
         "d_sequence_alignment_aa_light": "nan",
         "d_sequence_alignment_heavy": "CGATTTTTGGAGTGGT",
         "d_sequence_alignment_light": "nan",
         "d_sequence_end_heavy": "449.0",
         "d_sequence_end_light": "nan",
         "d_sequence_start_heavy": "434.0",
         "d_sequence_start_light": "nan",
         "d_support_heavy": "8.734e-05",
         "d_support_light": "nan",
         "fwr1_aa_heavy": "QVQLVESGGGLVKPGGSLRLSCAAS",
         "fwr1_aa_light": "DIQMTQSPSSLSASVGDRVTITCRAS",
         "fwr1_end_heavy": "212.0",
         "fwr1_end_light": "174.0",
         "fwr1_heavy": "CAGGTGCAGCTGGTGGAGTCTGGGGGAGGCTTGGTCAAGCCTGGAGGGTCCCTGAGACTCTCCTGTGCAGCCTCT",
         "fwr1_light": "GACATCCAGATGACCCAGTCTCCATCCTCCCTGTCTGCATCTGTAGGAGACAGAGTCACCATCACTTGCCGGGCGAGT",
         "fwr1_start_heavy": "138.0",
         "fwr1_start_light": "97.0",
         "fwr2_aa_heavy": "MSWIRQAPGKGLEWVSY",
         "fwr2_aa_light": "LAWYQQKPGKAPKLLLY",
         "fwr2_end_heavy": "287.0",
         "fwr2_end_light": "243.0",
         "fwr2_heavy": "ATGAGCTGGATCCGCCAGGCTCCAGGGAAGGGGCTGGAGTGGGTTTCATAC",
         "fwr2_light": "TTAGCCTGGTATCAGCAGAAACCAGGGAAAGCCCCTAAGCTCCTGCTCTAT",
         "fwr2_start_heavy": "237.0",
         "fwr2_start_light": "193.0",
         "fwr3_aa_heavy": "NYADSVKGRFTISRDNAKNSLYLQMNSLRAEDTAVYYC",
         "fwr3_aa_light": "RLESGVPSRFSGSGSGTDYTLTISSLQPEDFATYYC",
         "fwr3_end_heavy": "425.0",
         "fwr3_end_light": "360.0",
         "fwr3_heavy": "AACTACGCAGACTCTGTGAAGGGCCGATTCACCATCTCCAGAGACAACGCCAAGAACTCACTGTATCTGCAAATGAACAGCCTGAGAGCCGAGGACACGGCTGTGTATTACTGT",
         "fwr3_light": "AGATTGGAAAGTGGGGTCCCATCCAGGTTCAGTGGCAGTGGATCTGGGACGGATTACACTCTCACCATCAGCAGCCTGCAGCCTGAAGATTTTGCAACTTATTACTGT",
         "fwr3_start_heavy": "312.0",
         "fwr3_start_light": "253.0",
         "fwr4_aa_heavy": "WGKGTTVTVSS",
         "fwr4_aa_light": "FGQGTKLEIK",
         "fwr4_end_heavy": "500.0",
         "fwr4_end_light": "417.0",
         "fwr4_heavy": "TGGGGCAAAGGGACCACGGTCACCGTCTCCTCA",
         "fwr4_light": "TTTGGCCAGGGGACCAAGCTGGAGATCAAA",
         "fwr4_start_heavy": "468.0",
         "fwr4_start_light": "388.0",
         "germline_alignment_aa_heavy": "QVQLVESGGGLVKPGGSLRLSCAASGFTFSDYYMSWIRQAPGKGLEWVSYISSSSSYTNYADSVKGRFTISRDNAKNSLYLQMNSLRAEDTAVYYCARDDFWSGXXYMDVWGKGTTVTVSS",
         "germline_alignment_aa_light": "DIQMTQSPSSLSASVGDRVTITCRASQGISNSLAWYQQKPGKAPKLLLYAASRLESGVPSRFSGSGSGTDYTLTISSLQPEDFATYYCQQYYSTPHTFGQGTKLEIK",
         "germline_alignment_heavy": "CAGGTGCAGCTGGTGGAGTCTGGGGGAGGCTTGGTCAAGCCTGGAGGGTCCCTGAGACTCTCCTGTGCAGCCTCTGGATTCACCTTCAGTGACTACTACATGAGCTGGATCCGCCAGGCTCCAGGGAAGGGGCTGGAGTGGGTTTCATACATTAGTAGTAGTAGTAGTTACACAAACTACGCAGACTCTGTGAAGGGCCGATTCACCATCTCCAGAGACAACGCCAAGAACTCACTGTATCTGCAAATGAACAGCCTGAGAGCCGAGGACACGGCTGTGTATTACTGTGCGAGAGACGATTTTTGGAGTGGTNNNNNCTACATGGACGTCTGGGGCAAAGGGACCACGGTCACCGTCTCCTCA",
         "germline_alignment_light": "GACATCCAGATGACCCAGTCTCCATCCTCCCTGTCTGCATCTGTAGGAGACAGAGTCACCATCACTTGCCGGGCGAGTCAGGGCATTAGCAATTCTTTAGCCTGGTATCAGCAGAAACCAGGGAAAGCCCCTAAGCTCCTGCTCTATGCTGCATCCAGATTGGAAAGTGGGGTCCCATCCAGGTTCAGTGGCAGTGGATCTGGGACGGATTACACTCTCACCATCAGCAGCCTGCAGCCTGAAGATTTTGCAACTTATTACTGTCAACAGTATTATAGTACCCCTCACACTTTTGGCCAGGGGACCAAGCTGGAGATCAAAC",
         "j_alignment_end_heavy": "363.0",
         "j_alignment_end_light": "322.0",
         "j_alignment_start_heavy": "318.0",
         "j_alignment_start_light": "287.0",
         "j_call_heavy": "IGHJ6*03",
         "j_call_light": "IGKJ2*01",
         "j_cigar_heavy": "454S16N46M72S",
         "j_cigar_light": "382S3N36M136S",
         "j_germline_alignment_aa_heavy": "YMDVWGKGTTVTVSS",
         "j_germline_alignment_aa_light": "TFGQGTKLEIK",
         "j_germline_alignment_heavy": "CTACATGGACGTCTGGGGCAAAGGGACCACGGTCACCGTCTCCTCA",
         "j_germline_alignment_light": "ACACTTTTGGCCAGGGGACCAAGCTGGAGATCAAAC",
         "j_germline_end_heavy": "62.0",
         "j_germline_end_light": "39.0",
         "j_germline_start_heavy": "17.0",
         "j_germline_start_light": "4.0",
         "j_identity_heavy": "100.0",
         "j_identity_light": "100.0",
         "j_score_heavy": "89.131",
         "j_score_light": "69.904",
         "j_sequence_alignment_aa_heavy": "YMDVWGKGTTVTVSS",
         "j_sequence_alignment_aa_light": "TFGQGTKLEIK",
         "j_sequence_alignment_heavy": "CTACATGGACGTCTGGGGCAAAGGGACCACGGTCACCGTCTCCTCA",
         "j_sequence_alignment_light": "ACACTTTTGGCCAGGGGACCAAGCTGGAGATCAAAC",
         "j_sequence_end_heavy": "500.0",
         "j_sequence_end_light": "418.0",
         "j_sequence_start_heavy": "455.0",
         "j_sequence_start_light": "383.0",
         "j_support_heavy": "8.218999999999999e-22",
         "j_support_light": "4.881e-16",
         "junction_aa_heavy": "CARDDFWSGPLYMDVW",
         "junction_aa_length_heavy": "16.0",
         "junction_aa_length_light": "11.0",
         "junction_aa_light": "CQQYYSTPHTF",
         "junction_heavy": "TGTGCGAGGGACGATTTTTGGAGTGGTCCCCTCTACATGGACGTCTGG",
         "junction_length_heavy": "48.0",
         "junction_length_light": "33.0",
         "junction_light": "TGTCAACAGTATTATAGTACCCCTCACACTTTT",
         "locus_heavy": "H",
         "locus_light": "K",
         "np1_heavy": "nan",
         "np1_length_heavy": "0.0",
         "np1_length_light": "0.0",
         "np1_light": "nan",
         "np2_heavy": "CCCCT",
         "np2_length_heavy": "5.0",
         "np2_length_light": "nan",
         "np2_light": "nan",
         "productive_heavy": "T",
         "productive_light": "T",
         "rev_comp_heavy": "F",
         "rev_comp_light": "F",
         "sequence_alignment_aa_heavy": "QVQLVESGGGLVKPGGSLRLSCAASGFTFSDYYMSWIRQAPGKGLEWVSYISSSSSYTNYADSVKGRFTISRDNAKNSLYLQMNSLRAEDTAVYYCARDDFWSGPLYMDVWGKGTTVTVSS",
         "sequence_alignment_aa_light": "DIQMTQSPSSLSASVGDRVTITCRASQGISNSLAWYQQKPGKAPKLLLYAASRLESGVPSRFSGSGSGTDYTLTISSLQPEDFATYYCQQYYSTPHTFGQGTKLEIK",
         "sequence_alignment_heavy": "CAGGTGCAGCTGGTGGAGTCTGGGGGAGGCTTGGTCAAGCCTGGAGGGTCCCTGAGACTCTCCTGTGCAGCCTCTGGATTCACCTTCAGTGACTACTACATGAGCTGGATCCGCCAGGCTCCAGGGAAGGGGCTGGAGTGGGTTTCATACATTAGTAGTAGTAGTAGTTACACAAACTACGCAGACTCTGTGAAGGGCCGATTCACCATCTCCAGAGACAACGCCAAGAACTCACTGTATCTGCAAATGAACAGCCTGAGAGCCGAGGACACGGCTGTGTATTACTGTGCGAGGGACGATTTTTGGAGTGGTCCCCTCTACATGGACGTCTGGGGCAAAGGGACCACGGTCACCGTCTCCTCA",
         "sequence_alignment_light": "GACATCCAGATGACCCAGTCTCCATCCTCCCTGTCTGCATCTGTAGGAGACAGAGTCACCATCACTTGCCGGGCGAGTCAGGGCATTAGCAATTCTTTAGCCTGGTATCAGCAGAAACCAGGGAAAGCCCCTAAGCTCCTGCTCTATGCTGCATCCAGATTGGAAAGTGGGGTCCCATCCAGGTTCAGTGGCAGTGGATCTGGGACGGATTACACTCTCACCATCAGCAGCCTGCAGCCTGAAGATTTTGCAACTTATTACTGTCAACAGTATTATAGTACCCCTCACACTTTTGGCCAGGGGACCAAGCTGGAGATCAAAC",
         "sequence_heavy": "AGCTCTGGGAGAAGAGCCCCAGCCCCAGAATTCCCAGGAGTTTCCATTCGGTGATCAGCACTGAACACAGAGGACTCACCATGGAGTTTGGGCTGAGCTGGGTTTTCCTTGTTGCTATTATAAAAGGTGTCCAGTGTCAGGTGCAGCTGGTGGAGTCTGGGGGAGGCTTGGTCAAGCCTGGAGGGTCCCTGAGACTCTCCTGTGCAGCCTCTGGATTCACCTTCAGTGACTACTACATGAGCTGGATCCGCCAGGCTCCAGGGAAGGGGCTGGAGTGGGTTTCATACATTAGTAGTAGTAGTAGTTACACAAACTACGCAGACTCTGTGAAGGGCCGATTCACCATCTCCAGAGACAACGCCAAGAACTCACTGTATCTGCAAATGAACAGCCTGAGAGCCGAGGACACGGCTGTGTATTACTGTGCGAGGGACGATTTTTGGAGTGGTCCCCTCTACATGGACGTCTGGGGCAAAGGGACCACGGTCACCGTCTCCTCAGGGAGTGCATCCGCCCCAACCCTTTTCCCCCTCGTCTCCTGTGAGAATTCCCCGTCGGATACGAGCAGCGTG",
         "sequence_id_heavy": "TCGAGGCAGGGCTTCC-1_contig_2",
         "sequence_id_light": "TCGAGGCAGGGCTTCC-1_contig_1",
         "sequence_light": "TGGGGGAGTCAGACCCTGTCAGGACACAGCATGGACATGAGGGTCCCCGCTCAGCTCCTGGGGCTCCTGCTGCTCTGGCTCCCAGGTACCAGATGTGACATCCAGATGACCCAGTCTCCATCCTCCCTGTCTGCATCTGTAGGAGACAGAGTCACCATCACTTGCCGGGCGAGTCAGGGCATTAGCAATTCTTTAGCCTGGTATCAGCAGAAACCAGGGAAAGCCCCTAAGCTCCTGCTCTATGCTGCATCCAGATTGGAAAGTGGGGTCCCATCCAGGTTCAGTGGCAGTGGATCTGGGACGGATTACACTCTCACCATCAGCAGCCTGCAGCCTGAAGATTTTGCAACTTATTACTGTCAACAGTATTATAGTACCCCTCACACTTTTGGCCAGGGGACCAAGCTGGAGATCAAACGAACTGTGGCTGCACCATCTGTCTTCATCTTCCCGCCATCTGATGAGCAGTTGAAATCTGGAACTGCCTCTGTTGTGTGCCTGCTGAATAACTTCTATCCCAGAGAGGCCAAAGTACAGTGGAAGGTGGATAACGC",
         "stop_codon_heavy": "F",
         "stop_codon_light": "F",
         "v_alignment_end_heavy": "296.0",
         "v_alignment_end_light": "286.0",
         "v_alignment_start_heavy": "1.0",
         "v_alignment_start_light": "1.0",
         "v_call_heavy": "IGHV3-11*06",
         "v_call_light": "IGKV1-NL1*01",
         "v_cigar_heavy": "137S296M139S",
         "v_cigar_light": "96S286M172S1N",
         "v_frameshift_heavy": "F",
         "v_frameshift_light": "F",
         "v_germline_alignment_aa_heavy": "QVQLVESGGGLVKPGGSLRLSCAASGFTFSDYYMSWIRQAPGKGLEWVSYISSSSSYTNYADSVKGRFTISRDNAKNSLYLQMNSLRAEDTAVYYCAR",
         "v_germline_alignment_aa_light": "DIQMTQSPSSLSASVGDRVTITCRASQGISNSLAWYQQKPGKAPKLLLYAASRLESGVPSRFSGSGSGTDYTLTISSLQPEDFATYYCQQYYSTP",
         "v_germline_alignment_heavy": "CAGGTGCAGCTGGTGGAGTCTGGGGGAGGCTTGGTCAAGCCTGGAGGGTCCCTGAGACTCTCCTGTGCAGCCTCTGGATTCACCTTCAGTGACTACTACATGAGCTGGATCCGCCAGGCTCCAGGGAAGGGGCTGGAGTGGGTTTCATACATTAGTAGTAGTAGTAGTTACACAAACTACGCAGACTCTGTGAAGGGCCGATTCACCATCTCCAGAGACAACGCCAAGAACTCACTGTATCTGCAAATGAACAGCCTGAGAGCCGAGGACACGGCTGTGTATTACTGTGCGAGAGA",
         "v_germline_alignment_light": "GACATCCAGATGACCCAGTCTCCATCCTCCCTGTCTGCATCTGTAGGAGACAGAGTCACCATCACTTGCCGGGCGAGTCAGGGCATTAGCAATTCTTTAGCCTGGTATCAGCAGAAACCAGGGAAAGCCCCTAAGCTCCTGCTCTATGCTGCATCCAGATTGGAAAGTGGGGTCCCATCCAGGTTCAGTGGCAGTGGATCTGGGACGGATTACACTCTCACCATCAGCAGCCTGCAGCCTGAAGATTTTGCAACTTATTACTGTCAACAGTATTATAGTACCCCTC",
         "v_germline_end_heavy": "296.0",
         "v_germline_end_light": "286.0",
         "v_germline_start_heavy": "1.0",
         "v_germline_start_light": "1.0",
         "v_identity_heavy": "99.662",
         "v_identity_light": "100.0",
         "v_score_heavy": "459.921",
         "v_score_light": "447.456",
         "v_sequence_alignment_aa_heavy": "QVQLVESGGGLVKPGGSLRLSCAASGFTFSDYYMSWIRQAPGKGLEWVSYISSSSSYTNYADSVKGRFTISRDNAKNSLYLQMNSLRAEDTAVYYCAR",
         "v_sequence_alignment_aa_light": "DIQMTQSPSSLSASVGDRVTITCRASQGISNSLAWYQQKPGKAPKLLLYAASRLESGVPSRFSGSGSGTDYTLTISSLQPEDFATYYCQQYYSTP",
         "v_sequence_alignment_heavy": "CAGGTGCAGCTGGTGGAGTCTGGGGGAGGCTTGGTCAAGCCTGGAGGGTCCCTGAGACTCTCCTGTGCAGCCTCTGGATTCACCTTCAGTGACTACTACATGAGCTGGATCCGCCAGGCTCCAGGGAAGGGGCTGGAGTGGGTTTCATACATTAGTAGTAGTAGTAGTTACACAAACTACGCAGACTCTGTGAAGGGCCGATTCACCATCTCCAGAGACAACGCCAAGAACTCACTGTATCTGCAAATGAACAGCCTGAGAGCCGAGGACACGGCTGTGTATTACTGTGCGAGGGA",
         "v_sequence_alignment_light": "GACATCCAGATGACCCAGTCTCCATCCTCCCTGTCTGCATCTGTAGGAGACAGAGTCACCATCACTTGCCGGGCGAGTCAGGGCATTAGCAATTCTTTAGCCTGGTATCAGCAGAAACCAGGGAAAGCCCCTAAGCTCCTGCTCTATGCTGCATCCAGATTGGAAAGTGGGGTCCCATCCAGGTTCAGTGGCAGTGGATCTGGGACGGATTACACTCTCACCATCAGCAGCCTGCAGCCTGAAGATTTTGCAACTTATTACTGTCAACAGTATTATAGTACCCCTC",
         "v_sequence_end_heavy": "433.0",
         "v_sequence_end_light": "382.0",
         "v_sequence_start_heavy": "138.0",
         "v_sequence_start_light": "97.0",
         "v_support_heavy": "2.369e-131",
         "v_support_light": "1.2949999999999999e-127",
         "vj_in_frame_heavy": "T",
         "vj_in_frame_light": "T"
        },
        {
         "ANARCI_numbering_heavy": "{'fwh1': {'1 ': 'Q', '2 ': 'V', '3 ': 'Q', '4 ': 'L', '5 ': 'V', '6 ': 'Q', '7 ': 'S', '8 ': 'G', '9 ': 'A', '11 ': 'E', '12 ': 'V', '13 ': 'K', '14 ': 'K', '15 ': 'P', '16 ': 'G', '17 ': 'S', '18 ': 'S', '19 ': 'V', '20 ': 'K', '21 ': 'V', '22 ': 'S', '23 ': 'C', '24 ': 'K', '25 ': 'A', '26 ': 'S'}, 'cdrh1': {'27 ': 'G', '28 ': 'G', '29 ': 'T', '30 ': 'F', '35 ': 'S', '36 ': 'S', '37 ': 'Y', '38 ': 'T'}, 'fwh2': {'39 ': 'I', '40 ': 'S', '41 ': 'W', '42 ': 'V', '43 ': 'R', '44 ': 'Q', '45 ': 'A', '46 ': 'P', '47 ': 'G', '48 ': 'Q', '49 ': 'G', '50 ': 'L', '51 ': 'E', '52 ': 'W', '53 ': 'M', '54 ': 'G', '55 ': 'R'}, 'cdrh2': {'56 ': 'I', '57 ': 'I', '58 ': 'P', '59 ': 'I', '62 ': 'L', '63 ': 'G', '64 ': 'I', '65 ': 'A'}, 'fwh3': {'66 ': 'N', '67 ': 'Y', '68 ': 'A', '69 ': 'Q', '70 ': 'K', '71 ': 'F', '72 ': 'Q', '74 ': 'G', '75 ': 'R', '76 ': 'V', '77 ': 'T', '78 ': 'I', '79 ': 'T', '80 ': 'A', '81 ': 'D', '82 ': 'K', '83 ': 'S', '84 ': 'T', '85 ': 'S', '86 ': 'T', '87 ': 'A', '88 ': '…",
         "ANARCI_numbering_light": "{'fwl1': {'1 ': 'Q', '2 ': 'S', '3 ': 'V', '4 ': 'L', '5 ': 'T', '6 ': 'Q', '7 ': 'P', '8 ': 'P', '9 ': 'S', '11 ': 'A', '12 ': 'S', '13 ': 'G', '14 ': 'T', '15 ': 'P', '16 ': 'G', '17 ': 'Q', '18 ': 'R', '19 ': 'V', '20 ': 'T', '21 ': 'I', '22 ': 'S', '23 ': 'C', '24 ': 'S', '25 ': 'G', '26 ': 'S'}, 'cdrl1': {'27 ': 'S', '28 ': 'S', '29 ': 'N', '30 ': 'I', '35 ': 'G', '36 ': 'S', '37 ': 'N', '38 ': 'Y'}, 'fwl2': {'39 ': 'V', '40 ': 'Y', '41 ': 'W', '42 ': 'Y', '43 ': 'Q', '44 ': 'Q', '45 ': 'L', '46 ': 'P', '47 ': 'G', '48 ': 'T', '49 ': 'A', '50 ': 'P', '51 ': 'K', '52 ': 'L', '53 ': 'L', '54 ': 'I', '55 ': 'Y'}, 'cdrl2': {'56 ': 'R', '57 ': 'N', '65 ': 'N'}, 'fwl3': {'66 ': 'Q', '67 ': 'R', '68 ': 'P', '69 ': 'S', '70 ': 'G', '71 ': 'V', '72 ': 'P', '74 ': 'D', '75 ': 'R', '76 ': 'F', '77 ': 'S', '78 ': 'G', '79 ': 'S', '80 ': 'K', '83 ': 'S', '84 ': 'G', '85 ': 'T', '86 ': 'S', '87 ': 'A', '88 ': 'S', '89 ': 'L', '90 ': 'A', '91 ': 'I', '92 ': 'S', '93 ': 'G', '94 ': 'L', '95 ': '…",
         "ANARCI_status_heavy": "|Deletions: 10, 73||||",
         "ANARCI_status_light": "|||||",
         "Isotype_heavy": "IGHM",
         "Isotype_light": "Bulk",
         "Redundancy_heavy": "1.0",
         "Redundancy_light": "1.0",
         "_deepnote_index_column": "22",
         "c_region_heavy": "GGAGTGCATCCGCCCCAACCCTTTTCCCCCTCGTCTCCTGTGAGAATTCCCCGTCGGATACGAGCAGCGTG",
         "c_region_light": "GTCAGCCCAAGGCTGCCCCCTCGGTCACTCTGTTCCCACCCTCCTCTGAGGAGCTTCAAGCCAACAAGGCCACACTGGTGTGTCTCATAAGTGACTTCTACCCGGGAGCCGTGACAGTGGCCTGGAAGGCAGATAGCAGCCCCGTCAAGGCGGGAGTGGAGACCACCACACCCTCCAAACAAAGCAACAACAAGTACGCGGCCAGCAGCTA",
         "cdr1_aa_heavy": "GGTFSSYT",
         "cdr1_aa_light": "SSNIGSNY",
         "cdr1_end_heavy": "214.0",
         "cdr1_end_light": "202.0",
         "cdr1_heavy": "GGAGGCACCTTCAGCAGCTATACT",
         "cdr1_light": "AGCTCCAACATCGGAAGTAATTAT",
         "cdr1_start_heavy": "191.0",
         "cdr1_start_light": "179.0",
         "cdr2_aa_heavy": "IIPILGIA",
         "cdr2_aa_light": "RNN",
         "cdr2_end_heavy": "289.0",
         "cdr2_end_light": "262.0",
         "cdr2_heavy": "ATCATCCCTATCCTTGGTATAGCA",
         "cdr2_light": "AGGAATAAT",
         "cdr2_start_heavy": "266.0",
         "cdr2_start_light": "254.0",
         "cdr3_aa_heavy": "ARDTGYTI",
         "cdr3_aa_light": "AAWDDSLSGWV",
         "cdr3_end_heavy": "427.0",
         "cdr3_end_light": "403.0",
         "cdr3_heavy": "GCGAGAGACACCGGGTATACTATC",
         "cdr3_light": "GCAGCATGGGATGACAGCCTGAGTGGTTGGGTG",
         "cdr3_start_heavy": "404.0",
         "cdr3_start_light": "371.0",
         "complete_vdj_heavy": "T",
         "complete_vdj_light": "T",
         "d_alignment_end_heavy": "307.0",
         "d_alignment_end_light": "nan",
         "d_alignment_start_heavy": "301.0",
         "d_alignment_start_light": "nan",
         "d_call_heavy": "IGHD6-13*01",
         "d_call_light": "nan",
         "d_cigar_heavy": "415S7M110S14N",
         "d_cigar_light": "nan",
         "d_germline_alignment_aa_heavy": "GY",
         "d_germline_alignment_aa_light": "nan",
         "d_germline_alignment_heavy": "GGGTATA",
         "d_germline_alignment_light": "nan",
         "d_germline_end_heavy": "7.0",
         "d_germline_end_light": "nan",
         "d_germline_start_heavy": "1.0",
         "d_germline_start_light": "nan",
         "d_identity_heavy": "100.0",
         "d_identity_light": "nan",
         "d_score_heavy": "14.146",
         "d_score_light": "nan",
         "d_sequence_alignment_aa_heavy": "GY",
         "d_sequence_alignment_aa_light": "nan",
         "d_sequence_alignment_heavy": "GGGTATA",
         "d_sequence_alignment_light": "nan",
         "d_sequence_end_heavy": "422.0",
         "d_sequence_end_light": "nan",
         "d_sequence_start_heavy": "416.0",
         "d_sequence_start_light": "nan",
         "d_support_heavy": "13.13",
         "d_support_light": "nan",
         "fwr1_aa_heavy": "QVQLVQSGAEVKKPGSSVKVSCKAS",
         "fwr1_aa_light": "QSVLTQPPSASGTPGQRVTISCSGS",
         "fwr1_end_heavy": "190.0",
         "fwr1_end_light": "178.0",
         "fwr1_heavy": "CAGGTCCAGCTGGTGCAATCTGGGGCTGAGGTGAAGAAGCCTGGGTCCTCGGTGAAGGTCTCCTGCAAGGCTTCT",
         "fwr1_light": "CAGTCTGTGCTGACTCAGCCACCCTCAGCGTCTGGGACCCCCGGGCAGAGGGTCACCATCTCTTGTTCTGGAAGC",
         "fwr1_start_heavy": "116.0",
         "fwr1_start_light": "104.0",
         "fwr2_aa_heavy": "ISWVRQAPGQGLEWMGR",
         "fwr2_aa_light": "VYWYQQLPGTAPKLLIY",
         "fwr2_end_heavy": "265.0",
         "fwr2_end_light": "253.0",
         "fwr2_heavy": "ATCAGCTGGGTGCGACAGGCCCCTGGACAAGGGCTTGAGTGGATGGGAAGG",
         "fwr2_light": "GTATACTGGTACCAGCAGCTCCCAGGAACGGCCCCCAAACTCCTCATCTAT",
         "fwr2_start_heavy": "215.0",
         "fwr2_start_light": "203.0",
         "fwr3_aa_heavy": "NYAQKFQGRVTITADKSTSTAYMELSSLRSEDTAVYYC",
         "fwr3_aa_light": "QRPSGVPDRFSGSKSGTSASLAISGLRSEDEADYYC",
         "fwr3_end_heavy": "403.0",
         "fwr3_end_light": "370.0",
         "fwr3_heavy": "AACTACGCACAGAAGTTCCAGGGCAGAGTCACGATTACCGCGGACAAATCCACGAGCACAGCCTACATGGAGCTGAGCAGCCTGAGATCTGAGGACACGGCCGTGTATTACTGT",
         "fwr3_light": "CAGCGGCCCTCAGGGGTCCCTGACCGATTCTCTGGCTCCAAGTCTGGCACCTCAGCCTCCCTGGCCATCAGTGGGCTCCGGTCCGAGGATGAGGCTGATTATTACTGT",
         "fwr3_start_heavy": "290.0",
         "fwr3_start_light": "263.0",
         "fwr4_aa_heavy": "WGQGTMVTVSS",
         "fwr4_aa_light": "FGGGTKLTVL",
         "fwr4_end_heavy": "460.0",
         "fwr4_end_light": "433.0",
         "fwr4_heavy": "TGGGGCCAAGGGACAATGGTCACCGTCTCTTCA",
         "fwr4_light": "TTCGGCGGAGGGACCAAGCTGACCGTCCTA",
         "fwr4_start_heavy": "428.0",
         "fwr4_start_light": "404.0",
         "germline_alignment_aa_heavy": "QVQLVQSGAEVKKPGSSVKVSCKASGGTFSSYTISWVRQAPGQGLEWMGRIIPILGTANYAQKFQGRVTITADKSTSTAYMELSSLRSEDTAVYYCARXXGYXIWGQGTMVTVSS",
         "germline_alignment_aa_light": "QSVLTQPPSASGTPGQRVTISCSGSSSNIGSNYVYWYQQLPGTAPKLLIYRNNQRPSGVPDRFSGSKSGTSASLAISGLRSEDEADYYCAAWDDSLSGWVFGGGTKLTVL",
         "germline_alignment_heavy": "CAGGTCCAGCTGGTGCAATCTGGGGCTGAGGTGAAGAAGCCTGGGTCCTCGGTGAAGGTCTCCTGCAAGGCTTCTGGAGGCACCTTCAGCAGCTATACTATCAGCTGGGTGCGACAGGCCCCTGGACAAGGGCTTGAGTGGATGGGAAGGATCATCCCTATCCTTGGTACAGCAAACTACGCACAGAAGTTCCAGGGCAGAGTCACGATTACCGCGGACAAATCCACGAGCACAGCCTACATGGAGCTGAGCAGCCTGAGATCTGAGGACACGGCCGTGTATTACTGTGCGAGAGANNNNGGGTATANTATCTGGGGCCAAGGGACAATGGTCACCGTCTCTTCAG",
         "germline_alignment_light": "CAGTCTGTGCTGACTCAGCCACCCTCAGCGTCTGGGACCCCCGGGCAGAGGGTCACCATCTCTTGTTCTGGAAGCAGCTCCAACATCGGAAGTAATTATGTATACTGGTACCAGCAGCTCCCAGGAACGGCCCCCAAACTCCTCATCTATAGGAATAATCAGCGGCCCTCAGGGGTCCCTGACCGATTCTCTGGCTCCAAGTCTGGCACCTCAGCCTCCCTGGCCATCAGTGGGCTCCGGTCCGAGGATGAGGCTGATTATTACTGTGCAGCATGGGATGACAGCCTGAGTGGTTGGGTGTTCGGCGGAGGGACCAAGCTGACCGTCCTAG",
         "j_alignment_end_heavy": "346.0",
         "j_alignment_end_light": "331.0",
         "j_alignment_start_heavy": "309.0",
         "j_alignment_start_light": "295.0",
         "j_call_heavy": "IGHJ3*02",
         "j_call_light": "IGLJ3*02",
         "j_cigar_heavy": "423S12N38M71S",
         "j_cigar_light": "397S1N37M211S",
         "j_germline_alignment_aa_heavy": "IWGQGTMVTVSS",
         "j_germline_alignment_aa_light": "WVFGGGTKLTVL",
         "j_germline_alignment_heavy": "TATCTGGGGCCAAGGGACAATGGTCACCGTCTCTTCAG",
         "j_germline_alignment_light": "TGGGTGTTCGGCGGAGGGACCAAGCTGACCGTCCTAG",
         "j_germline_end_heavy": "50.0",
         "j_germline_end_light": "38.0",
         "j_germline_start_heavy": "13.0",
         "j_germline_start_light": "2.0",
         "j_identity_heavy": "100.0",
         "j_identity_light": "100.0",
         "j_score_heavy": "73.749",
         "j_score_light": "71.827",
         "j_sequence_alignment_aa_heavy": "IWGQGTMVTVSS",
         "j_sequence_alignment_aa_light": "WVFGGGTKLTVL",
         "j_sequence_alignment_heavy": "TATCTGGGGCCAAGGGACAATGGTCACCGTCTCTTCAG",
         "j_sequence_alignment_light": "TGGGTGTTCGGCGGAGGGACCAAGCTGACCGTCCTAG",
         "j_sequence_end_heavy": "461.0",
         "j_sequence_end_light": "434.0",
         "j_sequence_start_heavy": "424.0",
         "j_sequence_start_light": "398.0",
         "j_support_heavy": "3.258e-17",
         "j_support_light": "1.503e-16",
         "junction_aa_heavy": "CARDTGYTIW",
         "junction_aa_length_heavy": "10.0",
         "junction_aa_length_light": "13.0",
         "junction_aa_light": "CAAWDDSLSGWVF",
         "junction_heavy": "TGTGCGAGAGACACCGGGTATACTATCTGG",
         "junction_length_heavy": "30.0",
         "junction_length_light": "39.0",
         "junction_light": "TGTGCAGCATGGGATGACAGCCTGAGTGGTTGGGTGTTC",
         "locus_heavy": "H",
         "locus_light": "L",
         "np1_heavy": "CACC",
         "np1_length_heavy": "4.0",
         "np1_length_light": "0.0",
         "np1_light": "nan",
         "np2_heavy": "C",
         "np2_length_heavy": "1.0",
         "np2_length_light": "nan",
         "np2_light": "nan",
         "productive_heavy": "T",
         "productive_light": "T",
         "rev_comp_heavy": "F",
         "rev_comp_light": "F",
         "sequence_alignment_aa_heavy": "QVQLVQSGAEVKKPGSSVKVSCKASGGTFSSYTISWVRQAPGQGLEWMGRIIPILGIANYAQKFQGRVTITADKSTSTAYMELSSLRSEDTAVYYCARDTGYTIWGQGTMVTVSS",
         "sequence_alignment_aa_light": "QSVLTQPPSASGTPGQRVTISCSGSSSNIGSNYVYWYQQLPGTAPKLLIYRNNQRPSGVPDRFSGSKSGTSASLAISGLRSEDEADYYCAAWDDSLSGWVFGGGTKLTVL",
         "sequence_alignment_heavy": "CAGGTCCAGCTGGTGCAATCTGGGGCTGAGGTGAAGAAGCCTGGGTCCTCGGTGAAGGTCTCCTGCAAGGCTTCTGGAGGCACCTTCAGCAGCTATACTATCAGCTGGGTGCGACAGGCCCCTGGACAAGGGCTTGAGTGGATGGGAAGGATCATCCCTATCCTTGGTATAGCAAACTACGCACAGAAGTTCCAGGGCAGAGTCACGATTACCGCGGACAAATCCACGAGCACAGCCTACATGGAGCTGAGCAGCCTGAGATCTGAGGACACGGCCGTGTATTACTGTGCGAGAGACACCGGGTATACTATCTGGGGCCAAGGGACAATGGTCACCGTCTCTTCAG",
         "sequence_alignment_light": "CAGTCTGTGCTGACTCAGCCACCCTCAGCGTCTGGGACCCCCGGGCAGAGGGTCACCATCTCTTGTTCTGGAAGCAGCTCCAACATCGGAAGTAATTATGTATACTGGTACCAGCAGCTCCCAGGAACGGCCCCCAAACTCCTCATCTATAGGAATAATCAGCGGCCCTCAGGGGTCCCTGACCGATTCTCTGGCTCCAAGTCTGGCACCTCAGCCTCCCTGGCCATCAGTGGGCTCCGGTCCGAGGATGAGGCTGATTATTACTGTGCAGCATGGGATGACAGCCTGAGTGGTTGGGTGTTCGGCGGAGGGACCAAGCTGACCGTCCTAG",
         "sequence_heavy": "ATCACATAACAACCAGATTCCTCCTCTAAAGAAGCCCCTGGGAGCACAGCTCATCACCATGGACTGGACCTGGAGGTTCCTCTTTGTGGTGGCAGCAGCTACAGGTGTCCAGTCCCAGGTCCAGCTGGTGCAATCTGGGGCTGAGGTGAAGAAGCCTGGGTCCTCGGTGAAGGTCTCCTGCAAGGCTTCTGGAGGCACCTTCAGCAGCTATACTATCAGCTGGGTGCGACAGGCCCCTGGACAAGGGCTTGAGTGGATGGGAAGGATCATCCCTATCCTTGGTATAGCAAACTACGCACAGAAGTTCCAGGGCAGAGTCACGATTACCGCGGACAAATCCACGAGCACAGCCTACATGGAGCTGAGCAGCCTGAGATCTGAGGACACGGCCGTGTATTACTGTGCGAGAGACACCGGGTATACTATCTGGGGCCAAGGGACAATGGTCACCGTCTCTTCAGGGAGTGCATCCGCCCCAACCCTTTTCCCCCTCGTCTCCTGTGAGAATTCCCCGTCGGATACGAGCAGCGTG",
         "sequence_id_heavy": "GTCACGGCACTTAAGC-1_contig_2",
         "sequence_id_light": "GTCACGGCACTTAAGC-1_contig_1",
         "sequence_light": "AGCTTCAGCTGTGGTAGAGAAGACAGGATTCAGGACAATCTCCAGCATGGCCGGCTTCCCTCTCCTCCTCACCCTCCTCACTCACTGTGCAGGGTCCTGGGCCCAGTCTGTGCTGACTCAGCCACCCTCAGCGTCTGGGACCCCCGGGCAGAGGGTCACCATCTCTTGTTCTGGAAGCAGCTCCAACATCGGAAGTAATTATGTATACTGGTACCAGCAGCTCCCAGGAACGGCCCCCAAACTCCTCATCTATAGGAATAATCAGCGGCCCTCAGGGGTCCCTGACCGATTCTCTGGCTCCAAGTCTGGCACCTCAGCCTCCCTGGCCATCAGTGGGCTCCGGTCCGAGGATGAGGCTGATTATTACTGTGCAGCATGGGATGACAGCCTGAGTGGTTGGGTGTTCGGCGGAGGGACCAAGCTGACCGTCCTAGGTCAGCCCAAGGCTGCCCCCTCGGTCACTCTGTTCCCACCCTCCTCTGAGGAGCTTCAAGCCAACAAGGCCACACTGGTGTGTCTCATAAGTGACTTCTACCCGGGAGCCGTGACAGTGGCCTGGAAGGCAGATAGCAGCCCCGTCAAGGCGGGAGTGGAGACCACCACACCCTCCAAACAAAGCAACAACAAGTACGCGGCCAGCAGCTA",
         "stop_codon_heavy": "F",
         "stop_codon_light": "F",
         "v_alignment_end_heavy": "296.0",
         "v_alignment_end_light": "294.0",
         "v_alignment_start_heavy": "1.0",
         "v_alignment_start_light": "1.0",
         "v_call_heavy": "IGHV1-69*08",
         "v_call_light": "IGLV1-47*01",
         "v_cigar_heavy": "115S296M121S",
         "v_cigar_light": "103S294M248S2N",
         "v_frameshift_heavy": "F",
         "v_frameshift_light": "F",
         "v_germline_alignment_aa_heavy": "QVQLVQSGAEVKKPGSSVKVSCKASGGTFSSYTISWVRQAPGQGLEWMGRIIPILGTANYAQKFQGRVTITADKSTSTAYMELSSLRSEDTAVYYCAR",
         "v_germline_alignment_aa_light": "QSVLTQPPSASGTPGQRVTISCSGSSSNIGSNYVYWYQQLPGTAPKLLIYRNNQRPSGVPDRFSGSKSGTSASLAISGLRSEDEADYYCAAWDDSLSG",
         "v_germline_alignment_heavy": "CAGGTCCAGCTGGTGCAATCTGGGGCTGAGGTGAAGAAGCCTGGGTCCTCGGTGAAGGTCTCCTGCAAGGCTTCTGGAGGCACCTTCAGCAGCTATACTATCAGCTGGGTGCGACAGGCCCCTGGACAAGGGCTTGAGTGGATGGGAAGGATCATCCCTATCCTTGGTACAGCAAACTACGCACAGAAGTTCCAGGGCAGAGTCACGATTACCGCGGACAAATCCACGAGCACAGCCTACATGGAGCTGAGCAGCCTGAGATCTGAGGACACGGCCGTGTATTACTGTGCGAGAGA",
         "v_germline_alignment_light": "CAGTCTGTGCTGACTCAGCCACCCTCAGCGTCTGGGACCCCCGGGCAGAGGGTCACCATCTCTTGTTCTGGAAGCAGCTCCAACATCGGAAGTAATTATGTATACTGGTACCAGCAGCTCCCAGGAACGGCCCCCAAACTCCTCATCTATAGGAATAATCAGCGGCCCTCAGGGGTCCCTGACCGATTCTCTGGCTCCAAGTCTGGCACCTCAGCCTCCCTGGCCATCAGTGGGCTCCGGTCCGAGGATGAGGCTGATTATTACTGTGCAGCATGGGATGACAGCCTGAGTGGT",
         "v_germline_end_heavy": "296.0",
         "v_germline_end_light": "294.0",
         "v_germline_start_heavy": "1.0",
         "v_germline_start_light": "1.0",
         "v_identity_heavy": "99.662",
         "v_identity_light": "100.0",
         "v_score_heavy": "459.921",
         "v_score_light": "459.921",
         "v_sequence_alignment_aa_heavy": "QVQLVQSGAEVKKPGSSVKVSCKASGGTFSSYTISWVRQAPGQGLEWMGRIIPILGIANYAQKFQGRVTITADKSTSTAYMELSSLRSEDTAVYYCAR",
         "v_sequence_alignment_aa_light": "QSVLTQPPSASGTPGQRVTISCSGSSSNIGSNYVYWYQQLPGTAPKLLIYRNNQRPSGVPDRFSGSKSGTSASLAISGLRSEDEADYYCAAWDDSLSG",
         "v_sequence_alignment_heavy": "CAGGTCCAGCTGGTGCAATCTGGGGCTGAGGTGAAGAAGCCTGGGTCCTCGGTGAAGGTCTCCTGCAAGGCTTCTGGAGGCACCTTCAGCAGCTATACTATCAGCTGGGTGCGACAGGCCCCTGGACAAGGGCTTGAGTGGATGGGAAGGATCATCCCTATCCTTGGTATAGCAAACTACGCACAGAAGTTCCAGGGCAGAGTCACGATTACCGCGGACAAATCCACGAGCACAGCCTACATGGAGCTGAGCAGCCTGAGATCTGAGGACACGGCCGTGTATTACTGTGCGAGAGA",
         "v_sequence_alignment_light": "CAGTCTGTGCTGACTCAGCCACCCTCAGCGTCTGGGACCCCCGGGCAGAGGGTCACCATCTCTTGTTCTGGAAGCAGCTCCAACATCGGAAGTAATTATGTATACTGGTACCAGCAGCTCCCAGGAACGGCCCCCAAACTCCTCATCTATAGGAATAATCAGCGGCCCTCAGGGGTCCCTGACCGATTCTCTGGCTCCAAGTCTGGCACCTCAGCCTCCCTGGCCATCAGTGGGCTCCGGTCCGAGGATGAGGCTGATTATTACTGTGCAGCATGGGATGACAGCCTGAGTGGT",
         "v_sequence_end_heavy": "411.0",
         "v_sequence_end_light": "397.0",
         "v_sequence_start_heavy": "116.0",
         "v_sequence_start_light": "104.0",
         "v_support_heavy": "2.195e-131",
         "v_support_light": "2.6730000000000004e-131",
         "vj_in_frame_heavy": "T",
         "vj_in_frame_light": "T"
        },
        {
         "ANARCI_numbering_heavy": "{'fwh1': {'1 ': 'E', '2 ': 'V', '3 ': 'Q', '4 ': 'L', '5 ': 'L', '6 ': 'E', '7 ': 'S', '8 ': 'G', '9 ': 'G', '11 ': 'D', '12 ': 'L', '13 ': 'V', '14 ': 'Q', '15 ': 'P', '16 ': 'G', '17 ': 'G', '18 ': 'S', '19 ': 'L', '20 ': 'R', '21 ': 'L', '22 ': 'S', '23 ': 'C', '24 ': 'A', '25 ': 'A', '26 ': 'S'}, 'cdrh1': {'27 ': 'G', '28 ': 'F', '29 ': 'T', '30 ': 'F', '35 ': 'S', '36 ': 'S', '37 ': 'Y', '38 ': 'A'}, 'fwh2': {'39 ': 'M', '40 ': 'S', '41 ': 'W', '42 ': 'V', '43 ': 'R', '44 ': 'Q', '45 ': 'A', '46 ': 'P', '47 ': 'G', '48 ': 'K', '49 ': 'G', '50 ': 'L', '51 ': 'E', '52 ': 'W', '53 ': 'V', '54 ': 'S', '55 ': 'T'}, 'cdrh2': {'56 ': 'F', '57 ': 'S', '58 ': 'G', '59 ': 'S', '62 ': 'G', '63 ': 'G', '64 ': 'S', '65 ': 'T'}, 'fwh3': {'66 ': 'Y', '67 ': 'Y', '68 ': 'A', '69 ': 'D', '70 ': 'S', '71 ': 'V', '72 ': 'K', '74 ': 'G', '75 ': 'R', '76 ': 'F', '77 ': 'T', '78 ': 'I', '79 ': 'S', '80 ': 'R', '81 ': 'D', '82 ': 'N', '83 ': 'S', '84 ': 'K', '85 ': 'N', '86 ': 'T', '87 ': 'L', '88 ': '…",
         "ANARCI_numbering_light": "{'fwk1': {'1 ': 'D', '2 ': 'I', '3 ': 'V', '4 ': 'M', '5 ': 'T', '6 ': 'Q', '7 ': 'S', '8 ': 'P', '9 ': 'D', '10 ': 'S', '11 ': 'L', '12 ': 'A', '13 ': 'V', '14 ': 'S', '15 ': 'L', '16 ': 'G', '17 ': 'E', '18 ': 'R', '19 ': 'A', '20 ': 'T', '21 ': 'I', '22 ': 'N', '23 ': 'C', '24 ': 'K', '25 ': 'S', '26 ': 'S'}, 'cdrk1': {'27 ': 'Q', '28 ': 'S', '29 ': 'V', '30 ': 'L', '31 ': 'Y', '32 ': 'S', '33 ': 'S', '34 ': 'N', '35 ': 'N', '36 ': 'K', '37 ': 'N', '38 ': 'Y'}, 'fwk2': {'39 ': 'L', '40 ': 'A', '41 ': 'W', '42 ': 'Y', '43 ': 'Q', '44 ': 'Q', '45 ': 'R', '46 ': 'P', '47 ': 'G', '48 ': 'Q', '49 ': 'P', '50 ': 'P', '51 ': 'K', '52 ': 'L', '53 ': 'L', '54 ': 'I', '55 ': 'Y'}, 'cdrk2': {'56 ': 'W', '57 ': 'A', '65 ': 'S'}, 'fwk3': {'66 ': 'T', '67 ': 'R', '68 ': 'D', '69 ': 'S', '70 ': 'G', '71 ': 'V', '72 ': 'P', '74 ': 'D', '75 ': 'R', '76 ': 'F', '77 ': 'S', '78 ': 'G', '79 ': 'S', '80 ': 'G', '83 ': 'S', '84 ': 'G', '85 ': 'T', '86 ': 'D', '87 ': 'F', '88 ': 'T', '89 ': 'L', '90 ': '…",
         "ANARCI_status_heavy": "|Deletions: 10, 73||||",
         "ANARCI_status_light": "|||||",
         "Isotype_heavy": "IGHM",
         "Isotype_light": "Bulk",
         "Redundancy_heavy": "1.0",
         "Redundancy_light": "1.0",
         "_deepnote_index_column": "23",
         "c_region_heavy": "GGAGTGCATCCGCCCCAACCCTTTTCCCCCTCGTCTCCTGTGAGAATTCCCCGTCGGATACGAGCAGCGTG",
         "c_region_light": "GAACTGTGGCTGCACCATCTGTCTTCATCTTCCCGCCATCTGATGAGCAGTTGAAATCTGGAACTGCCTCTGTTGTGTGCCTGCTGAATAACTTCTATCCCAGAGAGGCCAAAGTACAGTGGAAGGTGGATAACGC",
         "cdr1_aa_heavy": "GFTFSSYA",
         "cdr1_aa_light": "QSVLYSSNNKNY",
         "cdr1_end_heavy": "235.0",
         "cdr1_end_light": "204.0",
         "cdr1_heavy": "GGATTCACCTTTAGCAGCTATGCC",
         "cdr1_light": "CAGAGTGTTTTATACAGCTCCAACAATAAGAACTAC",
         "cdr1_start_heavy": "212.0",
         "cdr1_start_light": "169.0",
         "cdr2_aa_heavy": "FSGSGGST",
         "cdr2_aa_light": "WAS",
         "cdr2_end_heavy": "310.0",
         "cdr2_end_light": "264.0",
         "cdr2_heavy": "TTTAGTGGTAGTGGTGGTAGCACA",
         "cdr2_light": "TGGGCATCT",
         "cdr2_start_heavy": "287.0",
         "cdr2_start_light": "256.0",
         "cdr3_aa_heavy": "TKGDGSGSYSPSDY",
         "cdr3_aa_light": "QQYYSSPYT",
         "cdr3_end_heavy": "466.0",
         "cdr3_end_light": "399.0",
         "cdr3_heavy": "ACCAAGGGAGATGGCAGCGGCAGCTACTCTCCAAGTGACTAC",
         "cdr3_light": "CAGCAATATTATAGTTCTCCGTACACT",
         "cdr3_start_heavy": "425.0",
         "cdr3_start_light": "373.0",
         "complete_vdj_heavy": "T",
         "complete_vdj_light": "T",
         "d_alignment_end_heavy": "309.0",
         "d_alignment_end_light": "nan",
         "d_alignment_start_heavy": "302.0",
         "d_alignment_start_light": "nan",
         "d_call_heavy": "IGHD6-25*01",
         "d_call_light": "nan",
         "d_cigar_heavy": "437S7N8M126S3N",
         "d_cigar_light": "nan",
         "d_germline_alignment_aa_heavy": "SG",
         "d_germline_alignment_aa_light": "nan",
         "d_germline_alignment_heavy": "GCAGCGGC",
         "d_germline_alignment_light": "nan",
         "d_germline_end_heavy": "15.0",
         "d_germline_end_light": "nan",
         "d_germline_start_heavy": "8.0",
         "d_germline_start_light": "nan",
         "d_identity_heavy": "100.0",
         "d_identity_light": "nan",
         "d_score_heavy": "16.069",
         "d_score_light": "nan",
         "d_sequence_alignment_aa_heavy": "SG",
         "d_sequence_alignment_aa_light": "nan",
         "d_sequence_alignment_heavy": "GCAGCGGC",
         "d_sequence_alignment_light": "nan",
         "d_sequence_end_heavy": "445.0",
         "d_sequence_end_light": "nan",
         "d_sequence_start_heavy": "438.0",
         "d_sequence_start_light": "nan",
         "d_support_heavy": "3.722",
         "d_support_light": "nan",
         "fwr1_aa_heavy": "EVQLLESGGDLVQPGGSLRLSCAAS",
         "fwr1_aa_light": "DIVMTQSPDSLAVSLGERATINCKSS",
         "fwr1_end_heavy": "211.0",
         "fwr1_end_light": "168.0",
         "fwr1_heavy": "GAGGTGCAGCTGTTGGAGTCTGGGGGAGACTTGGTACAGCCTGGGGGGTCCCTGAGACTCTCCTGTGCAGCCTCT",
         "fwr1_light": "GACATCGTGATGACCCAGTCTCCAGACTCCCTGGCTGTGTCTCTGGGCGAGAGGGCCACCATCAACTGCAAGTCCAGC",
         "fwr1_start_heavy": "137.0",
         "fwr1_start_light": "91.0",
         "fwr2_aa_heavy": "MSWVRQAPGKGLEWVST",
         "fwr2_aa_light": "LAWYQQRPGQPPKLLIY",
         "fwr2_end_heavy": "286.0",
         "fwr2_end_light": "255.0",
         "fwr2_heavy": "ATGAGCTGGGTCCGCCAGGCTCCAGGGAAGGGGCTGGAGTGGGTCTCTACT",
         "fwr2_light": "TTAGCTTGGTACCAGCAGAGACCAGGACAGCCTCCTAAGCTGCTCATTTAC",
         "fwr2_start_heavy": "236.0",
         "fwr2_start_light": "205.0",
         "fwr3_aa_heavy": "YYADSVKGRFTISRDNSKNTLYLQMNSLRAEDTAVYYC",
         "fwr3_aa_light": "TRDSGVPDRFSGSGSGTDFTLTISSLQAEDVAVYYC",
         "fwr3_end_heavy": "424.0",
         "fwr3_end_light": "372.0",
         "fwr3_heavy": "TACTACGCAGACTCCGTGAAGGGCCGGTTCACCATCTCCAGAGACAATTCCAAGAACACGCTGTATCTGCAAATGAACAGCCTGAGAGCCGAGGACACGGCCGTATATTACTGT",
         "fwr3_light": "ACCCGGGATTCCGGGGTCCCTGACCGATTCAGTGGCAGCGGGTCTGGGACAGATTTCACTCTCACCATCAGCAGCCTGCAGGCTGAAGATGTGGCAGTTTATTACTGT",
         "fwr3_start_heavy": "311.0",
         "fwr3_start_light": "265.0",
         "fwr4_aa_heavy": "WGQGTLVTVSS",
         "fwr4_aa_light": "FGQGTKLEIK",
         "fwr4_end_heavy": "499.0",
         "fwr4_end_light": "429.0",
         "fwr4_heavy": "TGGGGCCAGGGAACCCTGGTCACCGTCTCCTCA",
         "fwr4_light": "TTTGGCCAGGGGACCAAGCTGGAGATCAAA",
         "fwr4_start_heavy": "467.0",
         "fwr4_start_light": "400.0",
         "germline_alignment_aa_heavy": "EVQLLESGGGLVQPGGSLRLSCAASGFTFSSYAMSWVRQAPGKGLEWVSAISGSGGSTYYADSVKGRFTISRDNSKNTLYLQMNSLRAEDTAVYYCAXXXXSGXXXXXDYWGQGTLVTVSS",
         "germline_alignment_aa_light": "DIVMTQSPDSLAVSLGERATINCKSSQSVLYSSNNKNYLAWYQQKPGQPPKLLIYWASTRESGVPDRFSGSGSGTDFTLTISSLQAEDVAVYYCQQYYSTPYTFGQGTKLEIK",
         "germline_alignment_heavy": "GAGGTGCAGCTGTTGGAGTCTGGGGGAGGCTTGGTACAGCCTGGGGGGTCCCTGAGACTCTCCTGTGCAGCCTCTGGATTCACCTTTAGCAGCTATGCCATGAGCTGGGTCCGCCAGGCTCCAGGGAAGGGGCTGGAGTGGGTCTCAGCTATTAGTGGTAGTGGTGGTAGCACATACTACGCAGACTCCGTGAAGGGCCGGTTCACCATCTCCAGAGACAATTCCAAGAACACGCTGTATCTGCAAATGAACAGCCTGAGAGCCGAGGACACGGCCGTATATTACTGTGCGAANNNNNNNNGCAGCGGCNNNNNNNNNNNNNNTGACTACTGGGGCCAGGGAACCCTGGTCACCGTCTCCTCAG",
         "germline_alignment_light": "GACATCGTGATGACCCAGTCTCCAGACTCCCTGGCTGTGTCTCTGGGCGAGAGGGCCACCATCAACTGCAAGTCCAGCCAGAGTGTTTTATACAGCTCCAACAATAAGAACTACTTAGCTTGGTACCAGCAGAAACCAGGACAGCCTCCTAAGCTGCTCATTTACTGGGCATCTACCCGGGAATCCGGGGTCCCTGACCGATTCAGTGGCAGCGGGTCTGGGACAGATTTCACTCTCACCATCAGCAGCCTGCAGGCTGAAGATGTGGCAGTTTATTACTGTCAGCAATATTATAGTACTCCGTACACTTTTGGCCAGGGGACCAAGCTGGAGATCAAAC",
         "j_alignment_end_heavy": "364.0",
         "j_alignment_end_light": "340.0",
         "j_alignment_start_heavy": "324.0",
         "j_alignment_start_light": "303.0",
         "j_call_heavy": "IGHJ4*02",
         "j_call_light": "IGKJ2*01",
         "j_cigar_heavy": "459S7N41M71S",
         "j_cigar_light": "392S1N38M136S",
         "j_germline_alignment_aa_heavy": "DYWGQGTLVTVSS",
         "j_germline_alignment_aa_light": "YTFGQGTKLEIK",
         "j_germline_alignment_heavy": "TGACTACTGGGGCCAGGGAACCCTGGTCACCGTCTCCTCAG",
         "j_germline_alignment_light": "GTACACTTTTGGCCAGGGGACCAAGCTGGAGATCAAAC",
         "j_germline_end_heavy": "48.0",
         "j_germline_end_light": "39.0",
         "j_germline_start_heavy": "8.0",
         "j_germline_start_light": "2.0",
         "j_identity_heavy": "100.0",
         "j_identity_light": "100.0",
         "j_score_heavy": "79.518",
         "j_score_light": "73.749",
         "j_sequence_alignment_aa_heavy": "DYWGQGTLVTVSS",
         "j_sequence_alignment_aa_light": "YTFGQGTKLEIK",
         "j_sequence_alignment_heavy": "TGACTACTGGGGCCAGGGAACCCTGGTCACCGTCTCCTCAG",
         "j_sequence_alignment_light": "GTACACTTTTGGCCAGGGGACCAAGCTGGAGATCAAAC",
         "j_sequence_end_heavy": "500.0",
         "j_sequence_end_light": "430.0",
         "j_sequence_start_heavy": "460.0",
         "j_sequence_start_light": "393.0",
         "j_support_heavy": "6.426e-19",
         "j_support_light": "3.471e-17",
         "junction_aa_heavy": "CTKGDGSGSYSPSDYW",
         "junction_aa_length_heavy": "16.0",
         "junction_aa_length_light": "11.0",
         "junction_aa_light": "CQQYYSSPYTF",
         "junction_heavy": "TGTACCAAGGGAGATGGCAGCGGCAGCTACTCTCCAAGTGACTACTGG",
         "junction_length_heavy": "48.0",
         "junction_length_light": "33.0",
         "junction_light": "TGTCAGCAATATTATAGTTCTCCGTACACTTTT",
         "locus_heavy": "H",
         "locus_light": "K",
         "np1_heavy": "GGGAGATG",
         "np1_length_heavy": "8.0",
         "np1_length_light": "0.0",
         "np1_light": "nan",
         "np2_heavy": "AGCTACTCTCCAAG",
         "np2_length_heavy": "14.0",
         "np2_length_light": "nan",
         "np2_light": "nan",
         "productive_heavy": "T",
         "productive_light": "T",
         "rev_comp_heavy": "F",
         "rev_comp_light": "F",
         "sequence_alignment_aa_heavy": "EVQLLESGGDLVQPGGSLRLSCAASGFTFSSYAMSWVRQAPGKGLEWVSTFSGSGGSTYYADSVKGRFTISRDNSKNTLYLQMNSLRAEDTAVYYCTKGDGSGSYSPSDYWGQGTLVTVSS",
         "sequence_alignment_aa_light": "DIVMTQSPDSLAVSLGERATINCKSSQSVLYSSNNKNYLAWYQQRPGQPPKLLIYWASTRDSGVPDRFSGSGSGTDFTLTISSLQAEDVAVYYCQQYYSSPYTFGQGTKLEIK",
         "sequence_alignment_heavy": "GAGGTGCAGCTGTTGGAGTCTGGGGGAGACTTGGTACAGCCTGGGGGGTCCCTGAGACTCTCCTGTGCAGCCTCTGGATTCACCTTTAGCAGCTATGCCATGAGCTGGGTCCGCCAGGCTCCAGGGAAGGGGCTGGAGTGGGTCTCTACTTTTAGTGGTAGTGGTGGTAGCACATACTACGCAGACTCCGTGAAGGGCCGGTTCACCATCTCCAGAGACAATTCCAAGAACACGCTGTATCTGCAAATGAACAGCCTGAGAGCCGAGGACACGGCCGTATATTACTGTACCAAGGGAGATGGCAGCGGCAGCTACTCTCCAAGTGACTACTGGGGCCAGGGAACCCTGGTCACCGTCTCCTCAG",
         "sequence_alignment_light": "GACATCGTGATGACCCAGTCTCCAGACTCCCTGGCTGTGTCTCTGGGCGAGAGGGCCACCATCAACTGCAAGTCCAGCCAGAGTGTTTTATACAGCTCCAACAATAAGAACTACTTAGCTTGGTACCAGCAGAGACCAGGACAGCCTCCTAAGCTGCTCATTTACTGGGCATCTACCCGGGATTCCGGGGTCCCTGACCGATTCAGTGGCAGCGGGTCTGGGACAGATTTCACTCTCACCATCAGCAGCCTGCAGGCTGAAGATGTGGCAGTTTATTACTGTCAGCAATATTATAGTTCTCCGTACACTTTTGGCCAGGGGACCAAGCTGGAGATCAAAC",
         "sequence_heavy": "AGCTCTGAGAGAGGAGCCCAGCCCTGGGATTTTCAGGTGTTTTCATTTGGTGATCAGGACTGAACAGAGAGAACTCACCATGGAGTTTGGGCTGAGCTGGCTTTTTCTTGTGGCTATTTTAAAAGGTGTCCAGTGTGAGGTGCAGCTGTTGGAGTCTGGGGGAGACTTGGTACAGCCTGGGGGGTCCCTGAGACTCTCCTGTGCAGCCTCTGGATTCACCTTTAGCAGCTATGCCATGAGCTGGGTCCGCCAGGCTCCAGGGAAGGGGCTGGAGTGGGTCTCTACTTTTAGTGGTAGTGGTGGTAGCACATACTACGCAGACTCCGTGAAGGGCCGGTTCACCATCTCCAGAGACAATTCCAAGAACACGCTGTATCTGCAAATGAACAGCCTGAGAGCCGAGGACACGGCCGTATATTACTGTACCAAGGGAGATGGCAGCGGCAGCTACTCTCCAAGTGACTACTGGGGCCAGGGAACCCTGGTCACCGTCTCCTCAGGGAGTGCATCCGCCCCAACCCTTTTCCCCCTCGTCTCCTGTGAGAATTCCCCGTCGGATACGAGCAGCGTG",
         "sequence_id_heavy": "TCTGGAACATACTCTT-1_contig_2",
         "sequence_id_light": "TCTGGAACATACTCTT-1_contig_1",
         "sequence_light": "GAGCTACAACAGGCAGGCAGGGGCAGCAAGATGGTGTTGCAGACCCAGGTCTTCATTTCTCTGTTGCTCTGGATCTCTGGTGCCTACGGAGACATCGTGATGACCCAGTCTCCAGACTCCCTGGCTGTGTCTCTGGGCGAGAGGGCCACCATCAACTGCAAGTCCAGCCAGAGTGTTTTATACAGCTCCAACAATAAGAACTACTTAGCTTGGTACCAGCAGAGACCAGGACAGCCTCCTAAGCTGCTCATTTACTGGGCATCTACCCGGGATTCCGGGGTCCCTGACCGATTCAGTGGCAGCGGGTCTGGGACAGATTTCACTCTCACCATCAGCAGCCTGCAGGCTGAAGATGTGGCAGTTTATTACTGTCAGCAATATTATAGTTCTCCGTACACTTTTGGCCAGGGGACCAAGCTGGAGATCAAACGAACTGTGGCTGCACCATCTGTCTTCATCTTCCCGCCATCTGATGAGCAGTTGAAATCTGGAACTGCCTCTGTTGTGTGCCTGCTGAATAACTTCTATCCCAGAGAGGCCAAAGTACAGTGGAAGGTGGATAACGC",
         "stop_codon_heavy": "F",
         "stop_codon_light": "F",
         "v_alignment_end_heavy": "293.0",
         "v_alignment_end_light": "302.0",
         "v_alignment_start_heavy": "1.0",
         "v_alignment_start_light": "1.0",
         "v_call_heavy": "IGHV3-23*01",
         "v_call_light": "IGKV4-1*01",
         "v_cigar_heavy": "136S293M142S3N",
         "v_cigar_light": "90S302M174S3N",
         "v_frameshift_heavy": "F",
         "v_frameshift_light": "F",
         "v_germline_alignment_aa_heavy": "EVQLLESGGGLVQPGGSLRLSCAASGFTFSSYAMSWVRQAPGKGLEWVSAISGSGGSTYYADSVKGRFTISRDNSKNTLYLQMNSLRAEDTAVYYCA",
         "v_germline_alignment_aa_light": "DIVMTQSPDSLAVSLGERATINCKSSQSVLYSSNNKNYLAWYQQKPGQPPKLLIYWASTRESGVPDRFSGSGSGTDFTLTISSLQAEDVAVYYCQQYYSTP",
         "v_germline_alignment_heavy": "GAGGTGCAGCTGTTGGAGTCTGGGGGAGGCTTGGTACAGCCTGGGGGGTCCCTGAGACTCTCCTGTGCAGCCTCTGGATTCACCTTTAGCAGCTATGCCATGAGCTGGGTCCGCCAGGCTCCAGGGAAGGGGCTGGAGTGGGTCTCAGCTATTAGTGGTAGTGGTGGTAGCACATACTACGCAGACTCCGTGAAGGGCCGGTTCACCATCTCCAGAGACAATTCCAAGAACACGCTGTATCTGCAAATGAACAGCCTGAGAGCCGAGGACACGGCCGTATATTACTGTGCGAA",
         "v_germline_alignment_light": "GACATCGTGATGACCCAGTCTCCAGACTCCCTGGCTGTGTCTCTGGGCGAGAGGGCCACCATCAACTGCAAGTCCAGCCAGAGTGTTTTATACAGCTCCAACAATAAGAACTACTTAGCTTGGTACCAGCAGAAACCAGGACAGCCTCCTAAGCTGCTCATTTACTGGGCATCTACCCGGGAATCCGGGGTCCCTGACCGATTCAGTGGCAGCGGGTCTGGGACAGATTTCACTCTCACCATCAGCAGCCTGCAGGCTGAAGATGTGGCAGTTTATTACTGTCAGCAATATTATAGTACTCC",
         "v_germline_end_heavy": "293.0",
         "v_germline_end_light": "302.0",
         "v_germline_start_heavy": "1.0",
         "v_germline_start_light": "1.0",
         "v_identity_heavy": "97.952",
         "v_identity_light": "99.007",
         "v_score_heavy": "439.666",
         "v_score_light": "463.037",
         "v_sequence_alignment_aa_heavy": "EVQLLESGGDLVQPGGSLRLSCAASGFTFSSYAMSWVRQAPGKGLEWVSTFSGSGGSTYYADSVKGRFTISRDNSKNTLYLQMNSLRAEDTAVYYCT",
         "v_sequence_alignment_aa_light": "DIVMTQSPDSLAVSLGERATINCKSSQSVLYSSNNKNYLAWYQQRPGQPPKLLIYWASTRDSGVPDRFSGSGSGTDFTLTISSLQAEDVAVYYCQQYYSSP",
         "v_sequence_alignment_heavy": "GAGGTGCAGCTGTTGGAGTCTGGGGGAGACTTGGTACAGCCTGGGGGGTCCCTGAGACTCTCCTGTGCAGCCTCTGGATTCACCTTTAGCAGCTATGCCATGAGCTGGGTCCGCCAGGCTCCAGGGAAGGGGCTGGAGTGGGTCTCTACTTTTAGTGGTAGTGGTGGTAGCACATACTACGCAGACTCCGTGAAGGGCCGGTTCACCATCTCCAGAGACAATTCCAAGAACACGCTGTATCTGCAAATGAACAGCCTGAGAGCCGAGGACACGGCCGTATATTACTGTACCAA",
         "v_sequence_alignment_light": "GACATCGTGATGACCCAGTCTCCAGACTCCCTGGCTGTGTCTCTGGGCGAGAGGGCCACCATCAACTGCAAGTCCAGCCAGAGTGTTTTATACAGCTCCAACAATAAGAACTACTTAGCTTGGTACCAGCAGAGACCAGGACAGCCTCCTAAGCTGCTCATTTACTGGGCATCTACCCGGGATTCCGGGGTCCCTGACCGATTCAGTGGCAGCGGGTCTGGGACAGATTTCACTCTCACCATCAGCAGCCTGCAGGCTGAAGATGTGGCAGTTTATTACTGTCAGCAATATTATAGTTCTCC",
         "v_sequence_end_heavy": "429.0",
         "v_sequence_end_light": "392.0",
         "v_sequence_start_heavy": "137.0",
         "v_sequence_start_light": "91.0",
         "v_support_heavy": "2.96e-125",
         "v_support_light": "2.702e-132",
         "vj_in_frame_heavy": "T",
         "vj_in_frame_light": "T"
        },
        {
         "ANARCI_numbering_heavy": "{'fwh1': {'1 ': 'E', '2 ': 'V', '3 ': 'Q', '4 ': 'L', '5 ': 'V', '6 ': 'E', '7 ': 'S', '8 ': 'G', '9 ': 'G', '11 ': 'G', '12 ': 'L', '13 ': 'V', '14 ': 'Q', '15 ': 'P', '16 ': 'G', '17 ': 'G', '18 ': 'S', '19 ': 'L', '20 ': 'R', '21 ': 'L', '22 ': 'S', '23 ': 'C', '24 ': 'A', '25 ': 'A', '26 ': 'S'}, 'cdrh1': {'27 ': 'G', '28 ': 'F', '29 ': 'T', '30 ': 'F', '35 ': 'S', '36 ': 'S', '37 ': 'Y', '38 ': 'S'}, 'fwh2': {'39 ': 'M', '40 ': 'N', '41 ': 'W', '42 ': 'V', '43 ': 'R', '44 ': 'Q', '45 ': 'A', '46 ': 'P', '47 ': 'G', '48 ': 'K', '49 ': 'G', '50 ': 'L', '51 ': 'E', '52 ': 'W', '53 ': 'V', '54 ': 'S', '55 ': 'Y'}, 'cdrh2': {'56 ': 'I', '57 ': 'S', '58 ': 'S', '59 ': 'S', '62 ': 'S', '63 ': 'S', '64 ': 'T', '65 ': 'L'}, 'fwh3': {'66 ': 'Y', '67 ': 'Y', '68 ': 'A', '69 ': 'D', '70 ': 'S', '71 ': 'V', '72 ': 'K', '74 ': 'G', '75 ': 'R', '76 ': 'F', '77 ': 'T', '78 ': 'I', '79 ': 'S', '80 ': 'R', '81 ': 'D', '82 ': 'N', '83 ': 'A', '84 ': 'K', '85 ': 'N', '86 ': 'S', '87 ': 'L', '88 ': '…",
         "ANARCI_numbering_light": "{'fwk1': {'1 ': 'D', '2 ': 'I', '3 ': 'Q', '4 ': 'M', '5 ': 'T', '6 ': 'Q', '7 ': 'S', '8 ': 'P', '9 ': 'S', '10 ': 'S', '11 ': 'L', '12 ': 'S', '13 ': 'A', '14 ': 'S', '15 ': 'V', '16 ': 'G', '17 ': 'D', '18 ': 'R', '19 ': 'V', '20 ': 'T', '21 ': 'I', '22 ': 'T', '23 ': 'C', '24 ': 'R', '25 ': 'A', '26 ': 'S'}, 'cdrk1': {'27 ': 'Q', '28 ': 'S', '29 ': 'I', '36 ': 'S', '37 ': 'S', '38 ': 'H'}, 'fwk2': {'39 ': 'L', '40 ': 'N', '41 ': 'W', '42 ': 'Y', '43 ': 'H', '44 ': 'Q', '45 ': 'K', '46 ': 'P', '47 ': 'G', '48 ': 'K', '49 ': 'A', '50 ': 'P', '51 ': 'K', '52 ': 'L', '53 ': 'L', '54 ': 'I', '55 ': 'Y'}, 'cdrk2': {'56 ': 'A', '57 ': 'A', '65 ': 'S'}, 'fwk3': {'66 ': 'S', '67 ': 'L', '68 ': 'Q', '69 ': 'S', '70 ': 'G', '71 ': 'V', '72 ': 'P', '74 ': 'S', '75 ': 'R', '76 ': 'F', '77 ': 'S', '78 ': 'G', '79 ': 'S', '80 ': 'G', '83 ': 'S', '84 ': 'G', '85 ': 'T', '86 ': 'D', '87 ': 'F', '88 ': 'T', '89 ': 'L', '90 ': 'T', '91 ': 'I', '92 ': 'S', '93 ': 'S', '94 ': 'L', '95 ': 'Q', '96 ': '…",
         "ANARCI_status_heavy": "|Deletions: 10, 73||||",
         "ANARCI_status_light": "|||||",
         "Isotype_heavy": "IGHA",
         "Isotype_light": "Bulk",
         "Redundancy_heavy": "1.0",
         "Redundancy_light": "1.0",
         "_deepnote_index_column": "24",
         "c_region_heavy": "CATCCCCGACCAGCCCCAAGGTCTTCCCGCTGAGCCTCTGCAGCACCCAGCCAGATGGGAACGTGGTCATCGCCTGCCTGGTCCAGGGCTTCTTCCCCCAGGAGCCACTCAGTGTGACCTGGAGCGAAAGCGGACAGGGCGTGACCGCCAGAAACTTCCC",
         "c_region_light": "GAACTGTGGCTGCACCATCTGTCTTCATCTTCCCGCCATCTGATGAGCAGTTGAAATCTGGAACTGCCTCTGTTGTGTGCCTGCTGAATAACTTCTATCCCAGAGAGGCCAAAGTACAGTGGAAGGTGGATAACGC",
         "cdr1_aa_heavy": "GFTFSSYS",
         "cdr1_aa_light": "QSISSH",
         "cdr1_end_heavy": "235.0",
         "cdr1_end_light": "193.0",
         "cdr1_heavy": "GGATTCACCTTCAGTAGCTATAGC",
         "cdr1_light": "CAGAGCATTAGCAGCCAT",
         "cdr1_start_heavy": "212.0",
         "cdr1_start_light": "176.0",
         "cdr2_aa_heavy": "ISSSSSTL",
         "cdr2_aa_light": "AAS",
         "cdr2_end_heavy": "310.0",
         "cdr2_end_light": "253.0",
         "cdr2_heavy": "ATCAGTAGTAGTAGTAGTACCCTA",
         "cdr2_light": "GCTGCGTCC",
         "cdr2_start_heavy": "287.0",
         "cdr2_start_light": "245.0",
         "cdr3_aa_heavy": "ATLLTYGGYNWFDP",
         "cdr3_aa_light": "QQSYSTPSSYT",
         "cdr3_end_heavy": "466.0",
         "cdr3_end_light": "394.0",
         "cdr3_heavy": "GCCACATTGTTGACTTACGGCGGGTACAACTGGTTCGACCCC",
         "cdr3_light": "CAACAGAGTTACAGTACCCCTTCCTCGTACACT",
         "cdr3_start_heavy": "425.0",
         "cdr3_start_light": "362.0",
         "complete_vdj_heavy": "T",
         "complete_vdj_light": "T",
         "d_alignment_end_heavy": "303.0",
         "d_alignment_end_light": "nan",
         "d_alignment_start_heavy": "298.0",
         "d_alignment_start_light": "nan",
         "d_call_heavy": "IGHD3-9*01",
         "d_call_light": "nan",
         "d_cigar_heavy": "433S13N6M221S12N",
         "d_cigar_light": "nan",
         "d_germline_alignment_aa_heavy": "LT",
         "d_germline_alignment_aa_light": "nan",
         "d_germline_alignment_heavy": "TTGACT",
         "d_germline_alignment_light": "nan",
         "d_germline_end_heavy": "19.0",
         "d_germline_end_light": "nan",
         "d_germline_start_heavy": "14.0",
         "d_germline_start_light": "nan",
         "d_identity_heavy": "100.0",
         "d_identity_light": "nan",
         "d_score_heavy": "12.223",
         "d_score_light": "nan",
         "d_sequence_alignment_aa_heavy": "LT",
         "d_sequence_alignment_aa_light": "nan",
         "d_sequence_alignment_heavy": "TTGACT",
         "d_sequence_alignment_light": "nan",
         "d_sequence_end_heavy": "439.0",
         "d_sequence_end_light": "nan",
         "d_sequence_start_heavy": "434.0",
         "d_sequence_start_light": "nan",
         "d_support_heavy": "61.98",
         "d_support_light": "nan",
         "fwr1_aa_heavy": "EVQLVESGGGLVQPGGSLRLSCAAS",
         "fwr1_aa_light": "DIQMTQSPSSLSASVGDRVTITCRAS",
         "fwr1_end_heavy": "211.0",
         "fwr1_end_light": "175.0",
         "fwr1_heavy": "GAGGTGCAGCTGGTGGAGTCTGGGGGAGGCTTGGTACAGCCTGGGGGGTCCCTGAGACTCTCCTGTGCAGCCTCT",
         "fwr1_light": "GACATCCAGATGACCCAGTCTCCATCCTCCCTGTCTGCATCTGTAGGAGACAGAGTCACCATCACTTGCCGGGCAAGT",
         "fwr1_start_heavy": "137.0",
         "fwr1_start_light": "98.0",
         "fwr2_aa_heavy": "MNWVRQAPGKGLEWVSY",
         "fwr2_aa_light": "LNWYHQKPGKAPKLLIY",
         "fwr2_end_heavy": "286.0",
         "fwr2_end_light": "244.0",
         "fwr2_heavy": "ATGAACTGGGTCCGCCAGGCTCCAGGGAAGGGGCTGGAGTGGGTTTCATAC",
         "fwr2_light": "TTAAATTGGTATCACCAGAAACCAGGGAAAGCCCCTAAGCTCCTGATCTAT",
         "fwr2_start_heavy": "236.0",
         "fwr2_start_light": "194.0",
         "fwr3_aa_heavy": "YYADSVKGRFTISRDNAKNSLYLQMNSLRAEDTAVYYC",
         "fwr3_aa_light": "SLQSGVPSRFSGSGSGTDFTLTISSLQPEDFATYYC",
         "fwr3_end_heavy": "424.0",
         "fwr3_end_light": "361.0",
         "fwr3_heavy": "TACTACGCAGACTCTGTGAAGGGCCGATTCACCATCTCCAGAGACAATGCCAAGAACTCACTGTATCTGCAAATGAACAGCCTGAGAGCCGAGGACACGGCTGTGTATTACTGT",
         "fwr3_light": "AGCTTGCAAAGTGGGGTCCCATCAAGGTTCAGTGGCAGTGGATCTGGGACAGATTTCACTCTCACCATCAGCAGTCTGCAACCTGAAGATTTTGCAACTTACTACTGT",
         "fwr3_start_heavy": "311.0",
         "fwr3_start_light": "254.0",
         "fwr4_aa_heavy": "WGQGTLVTVSS",
         "fwr4_aa_light": "FGQGTKLEIK",
         "fwr4_end_heavy": "499.0",
         "fwr4_end_light": "424.0",
         "fwr4_heavy": "TGGGGCCAGGGAACCCTGGTCACCGTCTCCTCA",
         "fwr4_light": "TTTGGCCAGGGGACCAAGCTGGAGATCAAA",
         "fwr4_start_heavy": "467.0",
         "fwr4_start_light": "395.0",
         "germline_alignment_aa_heavy": "EVQLVESGGGLVQPGGSLRLSCAASGFTFSSYSMNWVRQAPGKGLEWVSYISSSSSTIYYADSVKGRFTISRDNAKNSLYLQMNSLRAEDTAVYYCAXXLTXXXXNWFDPWGQGTLVTVSS",
         "germline_alignment_aa_light": "DIQMTQSPSSLSASVGDRVTITCRASQSISSYLNWYQQKPGKAPKLLIYAASSLQSGVPSRFSGSGSGTDFTLTISSLQPEDFATYYCQQSYSTPXXYTFGQGTKLEIK",
         "germline_alignment_heavy": "GAGGTGCAGCTGGTGGAGTCTGGGGGAGGCTTGGTACAGCCTGGGGGGTCCCTGAGACTCTCCTGTGCAGCCTCTGGATTCACCTTCAGTAGCTATAGCATGAACTGGGTCCGCCAGGCTCCAGGGAAGGGGCTGGAGTGGGTTTCATACATTAGTAGTAGTAGTAGTACCATATACTACGCAGACTCTGTGAAGGGCCGATTCACCATCTCCAGAGACAATGCCAAGAACTCACTGTATCTGCAAATGAACAGCCTGAGAGCCGAGGACACGGCTGTGTATTACTGTGCNNNNNNNTTGACTNNNNNNNNNNACAACTGGTTCGACCCCTGGGGCCAGGGAACCCTGGTCACCGTCTCCTCAG",
         "germline_alignment_light": "GACATCCAGATGACCCAGTCTCCATCCTCCCTGTCTGCATCTGTAGGAGACAGAGTCACCATCACTTGCCGGGCAAGTCAGAGCATTAGCAGCTATTTAAATTGGTATCAGCAGAAACCAGGGAAAGCCCCTAAGCTCCTGATCTATGCTGCATCCAGTTTGCAAAGTGGGGTCCCATCAAGGTTCAGTGGCAGTGGATCTGGGACAGATTTCACTCTCACCATCAGCAGTCTGCAACCTGAAGATTTTGCAACTTACTACTGTCAACAGAGTTACAGTACCCCTNNNNNGTACACTTTTGGCCAGGGGACCAAGCTGGAGATCAAAC",
         "j_alignment_end_heavy": "364.0",
         "j_alignment_end_light": "328.0",
         "j_alignment_start_heavy": "314.0",
         "j_alignment_start_light": "291.0",
         "j_call_heavy": "IGHJ5*02",
         "j_call_light": "IGKJ2*01",
         "j_cigar_heavy": "449S51M160S",
         "j_cigar_light": "387S1N38M136S",
         "j_germline_alignment_aa_heavy": "NWFDPWGQGTLVTVSS",
         "j_germline_alignment_aa_light": "YTFGQGTKLEIK",
         "j_germline_alignment_heavy": "ACAACTGGTTCGACCCCTGGGGCCAGGGAACCCTGGTCACCGTCTCCTCAG",
         "j_germline_alignment_light": "GTACACTTTTGGCCAGGGGACCAAGCTGGAGATCAAAC",
         "j_germline_end_heavy": "51.0",
         "j_germline_end_light": "39.0",
         "j_germline_start_heavy": "1.0",
         "j_germline_start_light": "2.0",
         "j_identity_heavy": "100.0",
         "j_identity_light": "100.0",
         "j_score_heavy": "98.744",
         "j_score_light": "73.749",
         "j_sequence_alignment_aa_heavy": "NWFDPWGQGTLVTVSS",
         "j_sequence_alignment_aa_light": "YTFGQGTKLEIK",
         "j_sequence_alignment_heavy": "ACAACTGGTTCGACCCCTGGGGCCAGGGAACCCTGGTCACCGTCTCCTCAG",
         "j_sequence_alignment_light": "GTACACTTTTGGCCAGGGGACCAAGCTGGAGATCAAAC",
         "j_sequence_end_heavy": "500.0",
         "j_sequence_end_light": "425.0",
         "j_sequence_start_heavy": "450.0",
         "j_sequence_start_light": "388.0",
         "j_support_heavy": "1.214e-24",
         "j_support_light": "3.44e-17",
         "junction_aa_heavy": "CATLLTYGGYNWFDPW",
         "junction_aa_length_heavy": "16.0",
         "junction_aa_length_light": "13.0",
         "junction_aa_light": "CQQSYSTPSSYTF",
         "junction_heavy": "TGTGCCACATTGTTGACTTACGGCGGGTACAACTGGTTCGACCCCTGG",
         "junction_length_heavy": "48.0",
         "junction_length_light": "39.0",
         "junction_light": "TGTCAACAGAGTTACAGTACCCCTTCCTCGTACACTTTT",
         "locus_heavy": "H",
         "locus_light": "K",
         "np1_heavy": "CACATTG",
         "np1_length_heavy": "7.0",
         "np1_length_light": "5.0",
         "np1_light": "TCCTC",
         "np2_heavy": "TACGGCGGGT",
         "np2_length_heavy": "10.0",
         "np2_length_light": "nan",
         "np2_light": "nan",
         "productive_heavy": "T",
         "productive_light": "T",
         "rev_comp_heavy": "F",
         "rev_comp_light": "F",
         "sequence_alignment_aa_heavy": "EVQLVESGGGLVQPGGSLRLSCAASGFTFSSYSMNWVRQAPGKGLEWVSYISSSSSTLYYADSVKGRFTISRDNAKNSLYLQMNSLRAEDTAVYYCATLLTYGGYNWFDPWGQGTLVTVSS",
         "sequence_alignment_aa_light": "DIQMTQSPSSLSASVGDRVTITCRASQSISSHLNWYHQKPGKAPKLLIYAASSLQSGVPSRFSGSGSGTDFTLTISSLQPEDFATYYCQQSYSTPSSYTFGQGTKLEIK",
         "sequence_alignment_heavy": "GAGGTGCAGCTGGTGGAGTCTGGGGGAGGCTTGGTACAGCCTGGGGGGTCCCTGAGACTCTCCTGTGCAGCCTCTGGATTCACCTTCAGTAGCTATAGCATGAACTGGGTCCGCCAGGCTCCAGGGAAGGGGCTGGAGTGGGTTTCATACATCAGTAGTAGTAGTAGTACCCTATACTACGCAGACTCTGTGAAGGGCCGATTCACCATCTCCAGAGACAATGCCAAGAACTCACTGTATCTGCAAATGAACAGCCTGAGAGCCGAGGACACGGCTGTGTATTACTGTGCCACATTGTTGACTTACGGCGGGTACAACTGGTTCGACCCCTGGGGCCAGGGAACCCTGGTCACCGTCTCCTCAG",
         "sequence_alignment_light": "GACATCCAGATGACCCAGTCTCCATCCTCCCTGTCTGCATCTGTAGGAGACAGAGTCACCATCACTTGCCGGGCAAGTCAGAGCATTAGCAGCCATTTAAATTGGTATCACCAGAAACCAGGGAAAGCCCCTAAGCTCCTGATCTATGCTGCGTCCAGCTTGCAAAGTGGGGTCCCATCAAGGTTCAGTGGCAGTGGATCTGGGACAGATTTCACTCTCACCATCAGCAGTCTGCAACCTGAAGATTTTGCAACTTACTACTGTCAACAGAGTTACAGTACCCCTTCCTCGTACACTTTTGGCCAGGGGACCAAGCTGGAGATCAAAC",
         "sequence_heavy": "AGCTCTCAGAGAGGTGCCTTAGCCCTGGATTCCAAGGCATTTCCACTTGGTGATCAGCACTGAACACAGAGGACTCACCATGGAGTTGGGGCTGTGCTGGGTTTTCCTTGTTGCTATTTTAGAAGGTGTCCAGTGTGAGGTGCAGCTGGTGGAGTCTGGGGGAGGCTTGGTACAGCCTGGGGGGTCCCTGAGACTCTCCTGTGCAGCCTCTGGATTCACCTTCAGTAGCTATAGCATGAACTGGGTCCGCCAGGCTCCAGGGAAGGGGCTGGAGTGGGTTTCATACATCAGTAGTAGTAGTAGTACCCTATACTACGCAGACTCTGTGAAGGGCCGATTCACCATCTCCAGAGACAATGCCAAGAACTCACTGTATCTGCAAATGAACAGCCTGAGAGCCGAGGACACGGCTGTGTATTACTGTGCCACATTGTTGACTTACGGCGGGTACAACTGGTTCGACCCCTGGGGCCAGGGAACCCTGGTCACCGTCTCCTCAGCATCCCCGACCAGCCCCAAGGTCTTCCCGCTGAGCCTCTGCAGCACCCAGCCAGATGGGAACGTGGTCATCGCCTGCCTGGTCCAGGGCTTCTTCCCCCAGGAGCCACTCAGTGTGACCTGGAGCGAAAGCGGACAGGGCGTGACCGCCAGAAACTTCCC",
         "sequence_id_heavy": "ATCATGGTCTACTCAT-1_contig_2",
         "sequence_id_light": "ATCATGGTCTACTCAT-1_contig_1",
         "sequence_light": "TGGGAGGAGTCAGTCTCAGTCAGGACACAGCATGGACATGAGGGTCCCCGCTCAGCTCCTGGGGCTCCTGCTACTCTGGCTCCGAGGTGCCAGATGTGACATCCAGATGACCCAGTCTCCATCCTCCCTGTCTGCATCTGTAGGAGACAGAGTCACCATCACTTGCCGGGCAAGTCAGAGCATTAGCAGCCATTTAAATTGGTATCACCAGAAACCAGGGAAAGCCCCTAAGCTCCTGATCTATGCTGCGTCCAGCTTGCAAAGTGGGGTCCCATCAAGGTTCAGTGGCAGTGGATCTGGGACAGATTTCACTCTCACCATCAGCAGTCTGCAACCTGAAGATTTTGCAACTTACTACTGTCAACAGAGTTACAGTACCCCTTCCTCGTACACTTTTGGCCAGGGGACCAAGCTGGAGATCAAACGAACTGTGGCTGCACCATCTGTCTTCATCTTCCCGCCATCTGATGAGCAGTTGAAATCTGGAACTGCCTCTGTTGTGTGCCTGCTGAATAACTTCTATCCCAGAGAGGCCAAAGTACAGTGGAAGGTGGATAACGC",
         "stop_codon_heavy": "F",
         "stop_codon_light": "F",
         "v_alignment_end_heavy": "290.0",
         "v_alignment_end_light": "285.0",
         "v_alignment_start_heavy": "1.0",
         "v_alignment_start_light": "1.0",
         "v_call_heavy": "IGHV3-48*01",
         "v_call_light": "IGKV1-39*01",
         "v_cigar_heavy": "136S290M234S6N",
         "v_cigar_light": "97S285M179S2N",
         "v_frameshift_heavy": "F",
         "v_frameshift_light": "F",
         "v_germline_alignment_aa_heavy": "EVQLVESGGGLVQPGGSLRLSCAASGFTFSSYSMNWVRQAPGKGLEWVSYISSSSSTIYYADSVKGRFTISRDNAKNSLYLQMNSLRAEDTAVYYCA",
         "v_germline_alignment_aa_light": "DIQMTQSPSSLSASVGDRVTITCRASQSISSYLNWYQQKPGKAPKLLIYAASSLQSGVPSRFSGSGSGTDFTLTISSLQPEDFATYYCQQSYSTP",
         "v_germline_alignment_heavy": "GAGGTGCAGCTGGTGGAGTCTGGGGGAGGCTTGGTACAGCCTGGGGGGTCCCTGAGACTCTCCTGTGCAGCCTCTGGATTCACCTTCAGTAGCTATAGCATGAACTGGGTCCGCCAGGCTCCAGGGAAGGGGCTGGAGTGGGTTTCATACATTAGTAGTAGTAGTAGTACCATATACTACGCAGACTCTGTGAAGGGCCGATTCACCATCTCCAGAGACAATGCCAAGAACTCACTGTATCTGCAAATGAACAGCCTGAGAGCCGAGGACACGGCTGTGTATTACTGTGC",
         "v_germline_alignment_light": "GACATCCAGATGACCCAGTCTCCATCCTCCCTGTCTGCATCTGTAGGAGACAGAGTCACCATCACTTGCCGGGCAAGTCAGAGCATTAGCAGCTATTTAAATTGGTATCAGCAGAAACCAGGGAAAGCCCCTAAGCTCCTGATCTATGCTGCATCCAGTTTGCAAAGTGGGGTCCCATCAAGGTTCAGTGGCAGTGGATCTGGGACAGATTTCACTCTCACCATCAGCAGTCTGCAACCTGAAGATTTTGCAACTTACTACTGTCAACAGAGTTACAGTACCCCT",
         "v_germline_end_heavy": "290.0",
         "v_germline_end_light": "285.0",
         "v_germline_start_heavy": "1.0",
         "v_germline_start_light": "1.0",
         "v_identity_heavy": "99.31",
         "v_identity_light": "98.596",
         "v_score_heavy": "447.456",
         "v_score_light": "433.433",
         "v_sequence_alignment_aa_heavy": "EVQLVESGGGLVQPGGSLRLSCAASGFTFSSYSMNWVRQAPGKGLEWVSYISSSSSTLYYADSVKGRFTISRDNAKNSLYLQMNSLRAEDTAVYYCA",
         "v_sequence_alignment_aa_light": "DIQMTQSPSSLSASVGDRVTITCRASQSISSHLNWYHQKPGKAPKLLIYAASSLQSGVPSRFSGSGSGTDFTLTISSLQPEDFATYYCQQSYSTP",
         "v_sequence_alignment_heavy": "GAGGTGCAGCTGGTGGAGTCTGGGGGAGGCTTGGTACAGCCTGGGGGGTCCCTGAGACTCTCCTGTGCAGCCTCTGGATTCACCTTCAGTAGCTATAGCATGAACTGGGTCCGCCAGGCTCCAGGGAAGGGGCTGGAGTGGGTTTCATACATCAGTAGTAGTAGTAGTACCCTATACTACGCAGACTCTGTGAAGGGCCGATTCACCATCTCCAGAGACAATGCCAAGAACTCACTGTATCTGCAAATGAACAGCCTGAGAGCCGAGGACACGGCTGTGTATTACTGTGC",
         "v_sequence_alignment_light": "GACATCCAGATGACCCAGTCTCCATCCTCCCTGTCTGCATCTGTAGGAGACAGAGTCACCATCACTTGCCGGGCAAGTCAGAGCATTAGCAGCCATTTAAATTGGTATCACCAGAAACCAGGGAAAGCCCCTAAGCTCCTGATCTATGCTGCGTCCAGCTTGCAAAGTGGGGTCCCATCAAGGTTCAGTGGCAGTGGATCTGGGACAGATTTCACTCTCACCATCAGCAGTCTGCAACCTGAAGATTTTGCAACTTACTACTGTCAACAGAGTTACAGTACCCCT",
         "v_sequence_end_heavy": "426.0",
         "v_sequence_end_light": "382.0",
         "v_sequence_start_heavy": "137.0",
         "v_sequence_start_light": "98.0",
         "v_support_heavy": "1.548e-127",
         "v_support_light": "2.185e-123",
         "vj_in_frame_heavy": "T",
         "vj_in_frame_light": "T"
        },
        {
         "ANARCI_numbering_heavy": "{'fwh1': {'1 ': 'Q', '2 ': 'V', '3 ': 'Q', '4 ': 'L', '5 ': 'Q', '6 ': 'E', '7 ': 'S', '8 ': 'G', '9 ': 'P', '11 ': 'G', '12 ': 'L', '13 ': 'V', '14 ': 'K', '15 ': 'P', '16 ': 'S', '17 ': 'Q', '18 ': 'T', '19 ': 'L', '20 ': 'S', '21 ': 'L', '22 ': 'T', '23 ': 'C', '24 ': 'T', '25 ': 'V', '26 ': 'S'}, 'cdrh1': {'27 ': 'G', '28 ': 'G', '29 ': 'S', '30 ': 'I', '31 ': 'S', '34 ': 'S', '35 ': 'G', '36 ': 'S', '37 ': 'Y', '38 ': 'Y'}, 'fwh2': {'39 ': 'W', '40 ': 'S', '41 ': 'W', '42 ': 'I', '43 ': 'R', '44 ': 'Q', '45 ': 'P', '46 ': 'A', '47 ': 'G', '48 ': 'K', '49 ': 'G', '50 ': 'L', '51 ': 'E', '52 ': 'W', '53 ': 'I', '54 ': 'G', '55 ': 'R'}, 'cdrh2': {'56 ': 'I', '57 ': 'Y', '58 ': 'T', '59 ': 'S', '63 ': 'G', '64 ': 'S', '65 ': 'T'}, 'fwh3': {'66 ': 'N', '67 ': 'Y', '68 ': 'N', '69 ': 'P', '70 ': 'S', '71 ': 'L', '72 ': 'K', '74 ': 'S', '75 ': 'R', '76 ': 'V', '77 ': 'T', '78 ': 'I', '79 ': 'S', '80 ': 'V', '81 ': 'D', '82 ': 'T', '83 ': 'S', '84 ': 'K', '85 ': 'N', '86 ': 'Q', '87 ': '…",
         "ANARCI_numbering_light": "{'fwl1': {'1 ': 'S', '2 ': 'Y', '3 ': 'E', '4 ': 'L', '5 ': 'T', '6 ': 'Q', '7 ': 'P', '8 ': 'P', '9 ': 'S', '11 ': 'V', '12 ': 'S', '13 ': 'V', '14 ': 'S', '15 ': 'P', '16 ': 'G', '17 ': 'Q', '18 ': 'T', '19 ': 'A', '20 ': 'R', '21 ': 'I', '22 ': 'T', '23 ': 'C', '24 ': 'S', '25 ': 'G', '26 ': 'D'}, 'cdrl1': {'27 ': 'A', '28 ': 'L', '29 ': 'P', '36 ': 'K', '37 ': 'Q', '38 ': 'Y'}, 'fwl2': {'39 ': 'A', '40 ': 'Y', '41 ': 'W', '42 ': 'Y', '43 ': 'Q', '44 ': 'Q', '45 ': 'K', '46 ': 'P', '47 ': 'G', '48 ': 'Q', '49 ': 'A', '50 ': 'P', '51 ': 'V', '52 ': 'L', '53 ': 'V', '54 ': 'I', '55 ': 'Y'}, 'cdrl2': {'56 ': 'K', '57 ': 'D', '65 ': 'S'}, 'fwl3': {'66 ': 'E', '67 ': 'R', '68 ': 'P', '69 ': 'S', '70 ': 'G', '71 ': 'I', '72 ': 'P', '74 ': 'E', '75 ': 'R', '76 ': 'F', '77 ': 'S', '78 ': 'G', '79 ': 'S', '80 ': 'S', '83 ': 'S', '84 ': 'G', '85 ': 'T', '86 ': 'T', '87 ': 'V', '88 ': 'T', '89 ': 'L', '90 ': 'T', '91 ': 'I', '92 ': 'S', '93 ': 'G', '94 ': 'V', '95 ': 'Q', '96 ': 'A', '97 ': '…",
         "ANARCI_status_heavy": "|Deletions: 10, 73||||",
         "ANARCI_status_light": "|||||",
         "Isotype_heavy": "IGHM",
         "Isotype_light": "Bulk",
         "Redundancy_heavy": "1.0",
         "Redundancy_light": "1.0",
         "_deepnote_index_column": "25",
         "c_region_heavy": "GGAGTGCATCCGCCCCAACCCTTTTCCCCCTCGTCTCCTGTGAGAATTCCCCGTCGGATACGAGCAGCGTG",
         "c_region_light": "GTCAGCCCAAGGCCAACCCCACTGTCACTCTGTTCCCGCCCTCCTCTGAGGAGCTCCAAGCCAACAAGGCCACACTAGTGTGTCTGATCAGTGACTTCTACCCGGGAGCTGTGACAGTGGCCTGGAAGGCAGATGGCAGCCCCGTCAAGGCGGGAGTGGAGACCACCAAACCCTCCAAACAGAGCAACAACAAGTACGCGGCCAGCAGCTA",
         "cdr1_aa_heavy": "GGSISSGSYY",
         "cdr1_aa_light": "ALPKQY",
         "cdr1_end_heavy": "197.0",
         "cdr1_end_light": "188.0",
         "cdr1_heavy": "GGTGGCTCCATCAGCAGTGGTAGTTACTAC",
         "cdr1_light": "GCATTGCCAAAGCAATAT",
         "cdr1_start_heavy": "168.0",
         "cdr1_start_light": "171.0",
         "cdr2_aa_heavy": "IYTSGST",
         "cdr2_aa_light": "KDS",
         "cdr2_end_heavy": "269.0",
         "cdr2_end_light": "248.0",
         "cdr2_heavy": "ATCTATACCAGTGGGAGCACC",
         "cdr2_light": "AAAGACAGT",
         "cdr2_start_heavy": "249.0",
         "cdr2_start_light": "240.0",
         "cdr3_aa_heavy": "ARGDLGVRGVPVDY",
         "cdr3_aa_light": "QSADSSGTYYV",
         "cdr3_end_heavy": "425.0",
         "cdr3_end_light": "389.0",
         "cdr3_heavy": "GCGAGGGGGGATTTAGGGGTTCGGGGAGTGCCAGTTGACTAC",
         "cdr3_light": "CAATCAGCAGACAGCAGTGGTACTTATTATGTC",
         "cdr3_start_heavy": "384.0",
         "cdr3_start_light": "357.0",
         "complete_vdj_heavy": "T",
         "complete_vdj_light": "T",
         "d_alignment_end_heavy": "320.0",
         "d_alignment_end_light": "nan",
         "d_alignment_start_heavy": "309.0",
         "d_alignment_start_light": "nan",
         "d_call_heavy": "IGHD3-10*01",
         "d_call_light": "nan",
         "d_cigar_heavy": "400S10N12M118S9N",
         "d_cigar_light": "nan",
         "d_germline_alignment_aa_heavy": "VRGV",
         "d_germline_alignment_aa_light": "nan",
         "d_germline_alignment_heavy": "GGTTCGGGGAGT",
         "d_germline_alignment_light": "nan",
         "d_germline_end_heavy": "22.0",
         "d_germline_end_light": "nan",
         "d_germline_start_heavy": "11.0",
         "d_germline_start_light": "nan",
         "d_identity_heavy": "100.0",
         "d_identity_light": "nan",
         "d_score_heavy": "23.76",
         "d_score_light": "nan",
         "d_sequence_alignment_aa_heavy": "VRGV",
         "d_sequence_alignment_aa_light": "nan",
         "d_sequence_alignment_heavy": "GGTTCGGGGAGT",
         "d_sequence_alignment_light": "nan",
         "d_sequence_end_heavy": "412.0",
         "d_sequence_end_light": "nan",
         "d_sequence_start_heavy": "401.0",
         "d_sequence_start_light": "nan",
         "d_support_heavy": "0.0167",
         "d_support_light": "nan",
         "fwr1_aa_heavy": "QVQLQESGPGLVKPSQTLSLTCTVS",
         "fwr1_aa_light": "SYELTQPPSVSVSPGQTARITCSGD",
         "fwr1_end_heavy": "167.0",
         "fwr1_end_light": "170.0",
         "fwr1_heavy": "CAGGTGCAGCTGCAGGAGTCGGGCCCAGGACTGGTGAAGCCTTCACAGACCCTGTCCCTCACCTGCACTGTCTCT",
         "fwr1_light": "TCCTATGAGCTGACACAGCCACCCTCGGTGTCAGTGTCCCCAGGACAGACGGCCAGGATCACCTGCTCTGGAGAT",
         "fwr1_start_heavy": "93.0",
         "fwr1_start_light": "96.0",
         "fwr2_aa_heavy": "WSWIRQPAGKGLEWIGR",
         "fwr2_aa_light": "AYWYQQKPGQAPVLVIY",
         "fwr2_end_heavy": "248.0",
         "fwr2_end_light": "239.0",
         "fwr2_heavy": "TGGAGCTGGATCCGGCAGCCCGCCGGGAAGGGACTGGAGTGGATTGGGCGT",
         "fwr2_light": "GCTTATTGGTACCAGCAGAAGCCAGGCCAGGCCCCTGTGCTGGTGATATAT",
         "fwr2_start_heavy": "198.0",
         "fwr2_start_light": "189.0",
         "fwr3_aa_heavy": "NYNPSLKSRVTISVDTSKNQFSLKLSSVTAADTAVYYC",
         "fwr3_aa_light": "ERPSGIPERFSGSSSGTTVTLTISGVQAEDEADYYC",
         "fwr3_end_heavy": "383.0",
         "fwr3_end_light": "356.0",
         "fwr3_heavy": "AACTACAACCCCTCCCTCAAGAGTCGAGTCACCATATCAGTAGACACGTCCAAGAACCAGTTCTCCCTGAAGCTGAGCTCTGTGACCGCCGCAGACACGGCCGTGTATTACTGT",
         "fwr3_light": "GAGAGGCCCTCAGGGATCCCTGAGCGATTCTCTGGCTCCAGCTCAGGGACAACAGTCACGTTGACCATCAGTGGAGTCCAGGCAGAAGACGAGGCTGACTATTACTGT",
         "fwr3_start_heavy": "270.0",
         "fwr3_start_light": "249.0",
         "fwr4_aa_heavy": "WGQGTLVTVSS",
         "fwr4_aa_light": "FGTGTKVTVL",
         "fwr4_end_heavy": "458.0",
         "fwr4_end_light": "419.0",
         "fwr4_heavy": "TGGGGCCAGGGAACCCTGGTCACCGTCTCCTCA",
         "fwr4_light": "TTCGGAACTGGGACCAAGGTCACCGTCCTA",
         "fwr4_start_heavy": "426.0",
         "fwr4_start_light": "390.0",
         "germline_alignment_aa_heavy": "QVQLQESGPGLVKPSQTLSLTCTVSGGSISSGSYYWSWIRQPAGKGLEWIGRIYTSGSTNYNPSLKSRVTISVDTSKNQFSLKLSSVTAADTAVYYCAXXXXXVRGVXXDYWGQGTLVTVSS",
         "germline_alignment_aa_light": "SYELTQPPSVSVSPGQTARITCSGDALPKQYAYWYQQKPGQAPVLVIYKDSERPSGIPERFSGSSSGTTVTLTISGVQAEDEADYYCQSADSSGTYYVFGTGTKVTVL",
         "germline_alignment_heavy": "CAGGTGCAGCTGCAGGAGTCGGGCCCAGGACTGGTGAAGCCTTCACAGACCCTGTCCCTCACCTGCACTGTCTCTGGTGGCTCCATCAGCAGTGGTAGTTACTACTGGAGCTGGATCCGGCAGCCCGCCGGGAAGGGACTGGAGTGGATTGGGCGTATCTATACCAGTGGGAGCACCAACTACAACCCCTCCCTCAAGAGTCGAGTCACCATATCAGTAGACACGTCCAAGAACCAGTTCTCCCTGAAGCTGAGCTCTGTGACCGCCGCAGACACGGCCGTGTATTACTGTGCGAGNNNNNNNNNNNNGGTTCGGGGAGTNNNNNTTGACTACTGGGGCCAGGGAACCCTGGTCACCGTCTCCTCAG",
         "germline_alignment_light": "TCCTATGAGCTGACACAGCCACCCTCGGTGTCAGTGTCCCCAGGACAGACGGCCAGGATCACCTGCTCTGGAGATGCATTGCCAAAGCAATATGCTTATTGGTACCAGCAGAAGCCAGGCCAGGCCCCTGTGCTGGTGATATATAAAGACAGTGAGAGGCCCTCAGGGATCCCTGAGCGATTCTCTGGCTCCAGCTCAGGGACAACAGTCACGTTGACCATCAGTGGAGTCCAGGCAGAAGACGAGGCTGACTATTACTGTCAATCAGCAGACAGCAGTGGTACTTATTATGTCTTCGGAACTGGGACCAAGGTCACCGTCCTAG",
         "j_alignment_end_heavy": "367.0",
         "j_alignment_end_light": "325.0",
         "j_alignment_start_heavy": "326.0",
         "j_alignment_start_light": "289.0",
         "j_call_heavy": "IGHJ4*02",
         "j_call_light": "IGLJ1*01",
         "j_cigar_heavy": "417S6N42M71S",
         "j_cigar_light": "383S1N37M211S",
         "j_germline_alignment_aa_heavy": "DYWGQGTLVTVSS",
         "j_germline_alignment_aa_light": "YVFGTGTKVTVL",
         "j_germline_alignment_heavy": "TTGACTACTGGGGCCAGGGAACCCTGGTCACCGTCTCCTCAG",
         "j_germline_alignment_light": "TATGTCTTCGGAACTGGGACCAAGGTCACCGTCCTAG",
         "j_germline_end_heavy": "48.0",
         "j_germline_end_light": "38.0",
         "j_germline_start_heavy": "7.0",
         "j_germline_start_light": "2.0",
         "j_identity_heavy": "100.0",
         "j_identity_light": "100.0",
         "j_score_heavy": "81.44",
         "j_score_light": "71.827",
         "j_sequence_alignment_aa_heavy": "DYWGQGTLVTVSS",
         "j_sequence_alignment_aa_light": "YVFGTGTKVTVL",
         "j_sequence_alignment_heavy": "TTGACTACTGGGGCCAGGGAACCCTGGTCACCGTCTCCTCAG",
         "j_sequence_alignment_light": "TATGTCTTCGGAACTGGGACCAAGGTCACCGTCCTAG",
         "j_sequence_end_heavy": "459.0",
         "j_sequence_end_light": "420.0",
         "j_sequence_start_heavy": "418.0",
         "j_sequence_start_light": "384.0",
         "j_support_heavy": "1.571e-19",
         "j_support_light": "1.47e-16",
         "junction_aa_heavy": "CARGDLGVRGVPVDYW",
         "junction_aa_length_heavy": "16.0",
         "junction_aa_length_light": "13.0",
         "junction_aa_light": "CQSADSSGTYYVF",
         "junction_heavy": "TGTGCGAGGGGGGATTTAGGGGTTCGGGGAGTGCCAGTTGACTACTGG",
         "junction_length_heavy": "48.0",
         "junction_length_light": "39.0",
         "junction_light": "TGTCAATCAGCAGACAGCAGTGGTACTTATTATGTCTTC",
         "locus_heavy": "H",
         "locus_light": "L",
         "np1_heavy": "GGGGGATTTAGG",
         "np1_length_heavy": "12.0",
         "np1_length_light": "0.0",
         "np1_light": "nan",
         "np2_heavy": "GCCAG",
         "np2_length_heavy": "5.0",
         "np2_length_light": "nan",
         "np2_light": "nan",
         "productive_heavy": "T",
         "productive_light": "T",
         "rev_comp_heavy": "F",
         "rev_comp_light": "F",
         "sequence_alignment_aa_heavy": "QVQLQESGPGLVKPSQTLSLTCTVSGGSISSGSYYWSWIRQPAGKGLEWIGRIYTSGSTNYNPSLKSRVTISVDTSKNQFSLKLSSVTAADTAVYYCARGDLGVRGVPVDYWGQGTLVTVSS",
         "sequence_alignment_aa_light": "SYELTQPPSVSVSPGQTARITCSGDALPKQYAYWYQQKPGQAPVLVIYKDSERPSGIPERFSGSSSGTTVTLTISGVQAEDEADYYCQSADSSGTYYVFGTGTKVTVL",
         "sequence_alignment_heavy": "CAGGTGCAGCTGCAGGAGTCGGGCCCAGGACTGGTGAAGCCTTCACAGACCCTGTCCCTCACCTGCACTGTCTCTGGTGGCTCCATCAGCAGTGGTAGTTACTACTGGAGCTGGATCCGGCAGCCCGCCGGGAAGGGACTGGAGTGGATTGGGCGTATCTATACCAGTGGGAGCACCAACTACAACCCCTCCCTCAAGAGTCGAGTCACCATATCAGTAGACACGTCCAAGAACCAGTTCTCCCTGAAGCTGAGCTCTGTGACCGCCGCAGACACGGCCGTGTATTACTGTGCGAGGGGGGATTTAGGGGTTCGGGGAGTGCCAGTTGACTACTGGGGCCAGGGAACCCTGGTCACCGTCTCCTCAG",
         "sequence_alignment_light": "TCCTATGAGCTGACACAGCCACCCTCGGTGTCAGTGTCCCCAGGACAGACGGCCAGGATCACCTGCTCTGGAGATGCATTGCCAAAGCAATATGCTTATTGGTACCAGCAGAAGCCAGGCCAGGCCCCTGTGCTGGTGATATATAAAGACAGTGAGAGGCCCTCAGGGATCCCTGAGCGATTCTCTGGCTCCAGCTCAGGGACAACAGTCACGTTGACCATCAGTGGAGTCCAGGCAGAAGACGAGGCTGACTATTACTGTCAATCAGCAGACAGCAGTGGTACTTATTATGTCTTCGGAACTGGGACCAAGGTCACCGTCCTAG",
         "sequence_heavy": "ACTTTCTGAGAGTCCTGGACCTCCTGTGCAAGAACATGAAACATCTGTGGTTCTTCCTCCTCCTGGTGGCAGCTCCCAGATGGGTCCTGTCCCAGGTGCAGCTGCAGGAGTCGGGCCCAGGACTGGTGAAGCCTTCACAGACCCTGTCCCTCACCTGCACTGTCTCTGGTGGCTCCATCAGCAGTGGTAGTTACTACTGGAGCTGGATCCGGCAGCCCGCCGGGAAGGGACTGGAGTGGATTGGGCGTATCTATACCAGTGGGAGCACCAACTACAACCCCTCCCTCAAGAGTCGAGTCACCATATCAGTAGACACGTCCAAGAACCAGTTCTCCCTGAAGCTGAGCTCTGTGACCGCCGCAGACACGGCCGTGTATTACTGTGCGAGGGGGGATTTAGGGGTTCGGGGAGTGCCAGTTGACTACTGGGGCCAGGGAACCCTGGTCACCGTCTCCTCAGGGAGTGCATCCGCCCCAACCCTTTTCCCCCTCGTCTCCTGTGAGAATTCCCCGTCGGATACGAGCAGCGTG",
         "sequence_id_heavy": "AGATCTGAGAGCCTAG-1_contig_1",
         "sequence_id_light": "AGATCTGAGAGCCTAG-1_contig_2",
         "sequence_light": "GCTGTGGGTCCAGGAGGCAGAACTCTGGGTGTCTCACCATGGCCTGGATCCCTCTACTTCTCCCCCTCCTCACTCTCTGCACAGGCTCTGAGGCCTCCTATGAGCTGACACAGCCACCCTCGGTGTCAGTGTCCCCAGGACAGACGGCCAGGATCACCTGCTCTGGAGATGCATTGCCAAAGCAATATGCTTATTGGTACCAGCAGAAGCCAGGCCAGGCCCCTGTGCTGGTGATATATAAAGACAGTGAGAGGCCCTCAGGGATCCCTGAGCGATTCTCTGGCTCCAGCTCAGGGACAACAGTCACGTTGACCATCAGTGGAGTCCAGGCAGAAGACGAGGCTGACTATTACTGTCAATCAGCAGACAGCAGTGGTACTTATTATGTCTTCGGAACTGGGACCAAGGTCACCGTCCTAGGTCAGCCCAAGGCCAACCCCACTGTCACTCTGTTCCCGCCCTCCTCTGAGGAGCTCCAAGCCAACAAGGCCACACTAGTGTGTCTGATCAGTGACTTCTACCCGGGAGCTGTGACAGTGGCCTGGAAGGCAGATGGCAGCCCCGTCAAGGCGGGAGTGGAGACCACCAAACCCTCCAAACAGAGCAACAACAAGTACGCGGCCAGCAGCTA",
         "stop_codon_heavy": "F",
         "stop_codon_light": "F",
         "v_alignment_end_heavy": "296.0",
         "v_alignment_end_light": "288.0",
         "v_alignment_start_heavy": "1.0",
         "v_alignment_start_light": "1.0",
         "v_call_heavy": "IGHV4-61*02",
         "v_call_light": "IGLV3-25*03",
         "v_cigar_heavy": "92S296M142S3N",
         "v_cigar_light": "95S288M248S2N",
         "v_frameshift_heavy": "F",
         "v_frameshift_light": "F",
         "v_germline_alignment_aa_heavy": "QVQLQESGPGLVKPSQTLSLTCTVSGGSISSGSYYWSWIRQPAGKGLEWIGRIYTSGSTNYNPSLKSRVTISVDTSKNQFSLKLSSVTAADTAVYYCA",
         "v_germline_alignment_aa_light": "SYELTQPPSVSVSPGQTARITCSGDALPKQYAYWYQQKPGQAPVLVIYKDSERPSGIPERFSGSSSGTTVTLTISGVQAEDEADYYCQSADSSGTY",
         "v_germline_alignment_heavy": "CAGGTGCAGCTGCAGGAGTCGGGCCCAGGACTGGTGAAGCCTTCACAGACCCTGTCCCTCACCTGCACTGTCTCTGGTGGCTCCATCAGCAGTGGTAGTTACTACTGGAGCTGGATCCGGCAGCCCGCCGGGAAGGGACTGGAGTGGATTGGGCGTATCTATACCAGTGGGAGCACCAACTACAACCCCTCCCTCAAGAGTCGAGTCACCATATCAGTAGACACGTCCAAGAACCAGTTCTCCCTGAAGCTGAGCTCTGTGACCGCCGCAGACACGGCCGTGTATTACTGTGCGAG",
         "v_germline_alignment_light": "TCCTATGAGCTGACACAGCCACCCTCGGTGTCAGTGTCCCCAGGACAGACGGCCAGGATCACCTGCTCTGGAGATGCATTGCCAAAGCAATATGCTTATTGGTACCAGCAGAAGCCAGGCCAGGCCCCTGTGCTGGTGATATATAAAGACAGTGAGAGGCCCTCAGGGATCCCTGAGCGATTCTCTGGCTCCAGCTCAGGGACAACAGTCACGTTGACCATCAGTGGAGTCCAGGCAGAAGACGAGGCTGACTATTACTGTCAATCAGCAGACAGCAGTGGTACTTAT",
         "v_germline_end_heavy": "296.0",
         "v_germline_end_light": "288.0",
         "v_germline_start_heavy": "1.0",
         "v_germline_start_light": "1.0",
         "v_identity_heavy": "100.0",
         "v_identity_light": "100.0",
         "v_score_heavy": "463.037",
         "v_score_light": "450.572",
         "v_sequence_alignment_aa_heavy": "QVQLQESGPGLVKPSQTLSLTCTVSGGSISSGSYYWSWIRQPAGKGLEWIGRIYTSGSTNYNPSLKSRVTISVDTSKNQFSLKLSSVTAADTAVYYCA",
         "v_sequence_alignment_aa_light": "SYELTQPPSVSVSPGQTARITCSGDALPKQYAYWYQQKPGQAPVLVIYKDSERPSGIPERFSGSSSGTTVTLTISGVQAEDEADYYCQSADSSGTY",
         "v_sequence_alignment_heavy": "CAGGTGCAGCTGCAGGAGTCGGGCCCAGGACTGGTGAAGCCTTCACAGACCCTGTCCCTCACCTGCACTGTCTCTGGTGGCTCCATCAGCAGTGGTAGTTACTACTGGAGCTGGATCCGGCAGCCCGCCGGGAAGGGACTGGAGTGGATTGGGCGTATCTATACCAGTGGGAGCACCAACTACAACCCCTCCCTCAAGAGTCGAGTCACCATATCAGTAGACACGTCCAAGAACCAGTTCTCCCTGAAGCTGAGCTCTGTGACCGCCGCAGACACGGCCGTGTATTACTGTGCGAG",
         "v_sequence_alignment_light": "TCCTATGAGCTGACACAGCCACCCTCGGTGTCAGTGTCCCCAGGACAGACGGCCAGGATCACCTGCTCTGGAGATGCATTGCCAAAGCAATATGCTTATTGGTACCAGCAGAAGCCAGGCCAGGCCCCTGTGCTGGTGATATATAAAGACAGTGAGAGGCCCTCAGGGATCCCTGAGCGATTCTCTGGCTCCAGCTCAGGGACAACAGTCACGTTGACCATCAGTGGAGTCCAGGCAGAAGACGAGGCTGACTATTACTGTCAATCAGCAGACAGCAGTGGTACTTAT",
         "v_sequence_end_heavy": "388.0",
         "v_sequence_end_light": "383.0",
         "v_sequence_start_heavy": "93.0",
         "v_sequence_start_light": "96.0",
         "v_support_heavy": "2.522e-132",
         "v_support_light": "1.703e-128",
         "vj_in_frame_heavy": "T",
         "vj_in_frame_light": "T"
        },
        {
         "ANARCI_numbering_heavy": "{'fwh1': {'1 ': 'E', '2 ': 'V', '3 ': 'Q', '4 ': 'L', '5 ': 'V', '6 ': 'E', '7 ': 'S', '8 ': 'G', '9 ': 'G', '11 ': 'G', '12 ': 'L', '13 ': 'V', '14 ': 'Q', '15 ': 'P', '16 ': 'G', '17 ': 'R', '18 ': 'S', '19 ': 'L', '20 ': 'R', '21 ': 'L', '22 ': 'S', '23 ': 'C', '24 ': 'A', '25 ': 'A', '26 ': 'S'}, 'cdrh1': {'27 ': 'G', '28 ': 'F', '29 ': 'T', '30 ': 'F', '35 ': 'D', '36 ': 'D', '37 ': 'Y', '38 ': 'A'}, 'fwh2': {'39 ': 'M', '40 ': 'H', '41 ': 'W', '42 ': 'V', '43 ': 'R', '44 ': 'Q', '45 ': 'A', '46 ': 'P', '47 ': 'G', '48 ': 'K', '49 ': 'G', '50 ': 'L', '51 ': 'E', '52 ': 'W', '53 ': 'V', '54 ': 'S', '55 ': 'G'}, 'cdrh2': {'56 ': 'I', '57 ': 'S', '58 ': 'W', '59 ': 'N', '62 ': 'S', '63 ': 'G', '64 ': 'S', '65 ': 'I'}, 'fwh3': {'66 ': 'G', '67 ': 'Y', '68 ': 'A', '69 ': 'D', '70 ': 'S', '71 ': 'V', '72 ': 'K', '74 ': 'G', '75 ': 'R', '76 ': 'F', '77 ': 'T', '78 ': 'I', '79 ': 'S', '80 ': 'R', '81 ': 'D', '82 ': 'N', '83 ': 'A', '84 ': 'K', '85 ': 'N', '86 ': 'S', '87 ': 'L', '88 ': '…",
         "ANARCI_numbering_light": "{'fwk1': {'1 ': 'D', '2 ': 'I', '3 ': 'V', '4 ': 'M', '5 ': 'T', '6 ': 'Q', '7 ': 'T', '8 ': 'P', '9 ': 'L', '10 ': 'S', '11 ': 'S', '12 ': 'P', '13 ': 'V', '14 ': 'T', '15 ': 'L', '16 ': 'G', '17 ': 'Q', '18 ': 'P', '19 ': 'A', '20 ': 'S', '21 ': 'I', '22 ': 'S', '23 ': 'C', '24 ': 'R', '25 ': 'S', '26 ': 'S'}, 'cdrk1': {'27 ': 'Q', '28 ': 'S', '29 ': 'L', '30 ': 'V', '31 ': 'H', '32 ': 'S', '34 ': 'D', '35 ': 'G', '36 ': 'N', '37 ': 'T', '38 ': 'Y'}, 'fwk2': {'39 ': 'L', '40 ': 'S', '41 ': 'W', '42 ': 'L', '43 ': 'Q', '44 ': 'Q', '45 ': 'R', '46 ': 'P', '47 ': 'G', '48 ': 'Q', '49 ': 'P', '50 ': 'P', '51 ': 'R', '52 ': 'L', '53 ': 'L', '54 ': 'I', '55 ': 'Y'}, 'cdrk2': {'56 ': 'K', '57 ': 'I', '65 ': 'S'}, 'fwk3': {'66 ': 'N', '67 ': 'R', '68 ': 'F', '69 ': 'S', '70 ': 'G', '71 ': 'V', '72 ': 'P', '74 ': 'D', '75 ': 'R', '76 ': 'F', '77 ': 'S', '78 ': 'G', '79 ': 'S', '80 ': 'G', '83 ': 'A', '84 ': 'G', '85 ': 'T', '86 ': 'D', '87 ': 'F', '88 ': 'T', '89 ': 'L', '90 ': 'K', '91 ': '…",
         "ANARCI_status_heavy": "|Deletions: 10, 73||||",
         "ANARCI_status_light": "|||||",
         "Isotype_heavy": "IGHM",
         "Isotype_light": "Bulk",
         "Redundancy_heavy": "1.0",
         "Redundancy_light": "1.0",
         "_deepnote_index_column": "26",
         "c_region_heavy": "GGAGTGCATCCGCCCCAACCCTTTTCCCCCTCGTCTCCTGTGAGAATTCCCCGTCGGATACGAGCAGCGTG",
         "c_region_light": "GAACTGTGGCTGCACCATCTGTCTTCATCTTCCCGCCATCTGATGAGCAGTTGAAATCTGGAACTGCCTCTGTTGTGTGCCTGCTGAATAACTTCTATCCCAGAGAGGCCAAAGTACAGTGGAAGGTGGATAACGC",
         "cdr1_aa_heavy": "GFTFDDYA",
         "cdr1_aa_light": "QSLVHSDGNTY",
         "cdr1_end_heavy": "237.0",
         "cdr1_end_light": "201.0",
         "cdr1_heavy": "GGATTCACCTTTGATGATTATGCC",
         "cdr1_light": "CAAAGCCTCGTACACAGTGATGGAAACACCTAC",
         "cdr1_start_heavy": "214.0",
         "cdr1_start_light": "169.0",
         "cdr2_aa_heavy": "ISWNSGSI",
         "cdr2_aa_light": "KIS",
         "cdr2_end_heavy": "312.0",
         "cdr2_end_light": "261.0",
         "cdr2_heavy": "ATTAGTTGGAATAGTGGTAGCATA",
         "cdr2_light": "AAGATTTCT",
         "cdr2_start_heavy": "289.0",
         "cdr2_start_light": "253.0",
         "cdr3_aa_heavy": "AKGRVTMVRGALDY",
         "cdr3_aa_light": "MQATQFPS",
         "cdr3_end_heavy": "468.0",
         "cdr3_end_light": "393.0",
         "cdr3_heavy": "GCAAAAGGACGGGTTACTATGGTTCGGGGAGCCCTTGACTAC",
         "cdr3_light": "ATGCAAGCTACACAATTTCCTTCT",
         "cdr3_start_heavy": "427.0",
         "cdr3_start_light": "370.0",
         "complete_vdj_heavy": "T",
         "complete_vdj_light": "T",
         "d_alignment_end_heavy": "319.0",
         "d_alignment_end_light": "nan",
         "d_alignment_start_heavy": "302.0",
         "d_alignment_start_light": "nan",
         "d_call_heavy": "IGHD3-10*01",
         "d_call_light": "nan",
         "d_cigar_heavy": "439S3N18M116S10N",
         "d_cigar_light": "nan",
         "d_germline_alignment_aa_heavy": "TMVRG",
         "d_germline_alignment_aa_light": "nan",
         "d_germline_alignment_heavy": "TTACTATGGTTCGGGGAG",
         "d_germline_alignment_light": "nan",
         "d_germline_end_heavy": "21.0",
         "d_germline_end_light": "nan",
         "d_germline_start_heavy": "4.0",
         "d_germline_start_light": "nan",
         "d_identity_heavy": "100.0",
         "d_identity_light": "nan",
         "d_score_heavy": "35.296",
         "d_score_light": "nan",
         "d_sequence_alignment_aa_heavy": "TMVRG",
         "d_sequence_alignment_aa_light": "nan",
         "d_sequence_alignment_heavy": "TTACTATGGTTCGGGGAG",
         "d_sequence_alignment_light": "nan",
         "d_sequence_end_heavy": "457.0",
         "d_sequence_end_light": "nan",
         "d_sequence_start_heavy": "440.0",
         "d_sequence_start_light": "nan",
         "d_support_heavy": "6.087e-06",
         "d_support_light": "nan",
         "fwr1_aa_heavy": "EVQLVESGGGLVQPGRSLRLSCAAS",
         "fwr1_aa_light": "DIVMTQTPLSSPVTLGQPASISCRSS",
         "fwr1_end_heavy": "213.0",
         "fwr1_end_light": "168.0",
         "fwr1_heavy": "GAAGTGCAGCTGGTGGAGTCTGGGGGAGGCTTGGTACAGCCTGGCAGGTCCCTGAGACTCTCCTGTGCAGCCTCT",
         "fwr1_light": "GATATTGTGATGACCCAGACTCCACTCTCCTCACCTGTCACCCTTGGACAGCCGGCCTCCATCTCCTGCAGGTCTAGT",
         "fwr1_start_heavy": "139.0",
         "fwr1_start_light": "91.0",
         "fwr2_aa_heavy": "MHWVRQAPGKGLEWVSG",
         "fwr2_aa_light": "LSWLQQRPGQPPRLLIY",
         "fwr2_end_heavy": "288.0",
         "fwr2_end_light": "252.0",
         "fwr2_heavy": "ATGCACTGGGTCCGGCAAGCTCCAGGGAAGGGCCTGGAGTGGGTCTCAGGT",
         "fwr2_light": "TTGAGTTGGCTTCAGCAGAGGCCAGGCCAGCCTCCAAGACTCCTAATTTAT",
         "fwr2_start_heavy": "238.0",
         "fwr2_start_light": "202.0",
         "fwr3_aa_heavy": "GYADSVKGRFTISRDNAKNSLYLQMNSLRAEDTALYYC",
         "fwr3_aa_light": "NRFSGVPDRFSGSGAGTDFTLKISRVEAEDVGVYYC",
         "fwr3_end_heavy": "426.0",
         "fwr3_end_light": "369.0",
         "fwr3_heavy": "GGCTATGCGGACTCTGTGAAGGGCCGATTCACCATCTCCAGAGACAACGCCAAGAACTCCCTGTATCTGCAAATGAACAGTCTGAGAGCTGAGGACACGGCCTTGTATTACTGT",
         "fwr3_light": "AACCGGTTCTCTGGGGTCCCAGACAGATTCAGTGGCAGTGGGGCAGGGACAGATTTCACACTGAAAATCAGCAGGGTGGAAGCTGAGGATGTCGGGGTTTATTACTGC",
         "fwr3_start_heavy": "313.0",
         "fwr3_start_light": "262.0",
         "fwr4_aa_heavy": "WGQGTLVTVSS",
         "fwr4_aa_light": "FGQGTKLEIK",
         "fwr4_end_heavy": "501.0",
         "fwr4_end_light": "423.0",
         "fwr4_heavy": "TGGGGCCAGGGAACCCTGGTCACCGTCTCCTCA",
         "fwr4_light": "TTTGGCCAGGGGACCAAGCTGGAGATCAAA",
         "fwr4_start_heavy": "469.0",
         "fwr4_start_light": "394.0",
         "germline_alignment_aa_heavy": "EVQLVESGGGLVQPGRSLRLSCAASGFTFDDYAMHWVRQAPGKGLEWVSGISWNSGSIGYADSVKGRFTISRDNAKNSLYLQMNSLRAEDTALYYCAKXXXTMVRGXXDYWGQGTLVTVSS",
         "germline_alignment_aa_light": "DIVMTQTPLSSPVTLGQPASISCRSSQSLVHSDGNTYLSWLQQRPGQPPRLLIYKISNRFSGVPDRFSGSGAGTDFTLKISRVEAEDVGVYYCMQATQFPXFGQGTKLEIK",
         "germline_alignment_heavy": "GAAGTGCAGCTGGTGGAGTCTGGGGGAGGCTTGGTACAGCCTGGCAGGTCCCTGAGACTCTCCTGTGCAGCCTCTGGATTCACCTTTGATGATTATGCCATGCACTGGGTCCGGCAAGCTCCAGGGAAGGGCCTGGAGTGGGTCTCAGGTATTAGTTGGAATAGTGGTAGCATAGGCTATGCGGACTCTGTGAAGGGCCGATTCACCATCTCCAGAGACAACGCCAAGAACTCCCTGTATCTGCAAATGAACAGTCTGAGAGCTGAGGACACGGCCTTGTATTACTGTGCAAAAGNNNNNNTTACTATGGTTCGGGGAGNNNTTGACTACTGGGGCCAGGGAACCCTGGTCACCGTCTCCTCAG",
         "germline_alignment_light": "GATATTGTGATGACCCAGACTCCACTCTCCTCACCTGTCACCCTTGGACAGCCGGCCTCCATCTCCTGCAGGTCTAGTCAAAGCCTCGTACACAGTGATGGAAACACCTACTTGAGTTGGCTTCAGCAGAGGCCAGGCCAGCCTCCAAGACTCCTAATTTATAAGATTTCTAACCGGTTCTCTGGGGTCCCAGACAGATTCAGTGGCAGTGGGGCAGGGACAGATTTCACACTGAAAATCAGCAGGGTGGAAGCTGAGGATGTCGGGGTTTATTACTGCATGCAAGCTACACAATTTCCTNCTTTTGGCCAGGGGACCAAGCTGGAGATCAAAC",
         "j_alignment_end_heavy": "364.0",
         "j_alignment_end_light": "334.0",
         "j_alignment_start_heavy": "323.0",
         "j_alignment_start_light": "302.0",
         "j_call_heavy": "IGHJ4*02",
         "j_call_light": "IGKJ2*01",
         "j_cigar_heavy": "460S6N42M71S",
         "j_cigar_light": "391S6N33M136S",
         "j_germline_alignment_aa_heavy": "DYWGQGTLVTVSS",
         "j_germline_alignment_aa_light": "FGQGTKLEIK",
         "j_germline_alignment_heavy": "TTGACTACTGGGGCCAGGGAACCCTGGTCACCGTCTCCTCAG",
         "j_germline_alignment_light": "CTTTTGGCCAGGGGACCAAGCTGGAGATCAAAC",
         "j_germline_end_heavy": "48.0",
         "j_germline_end_light": "39.0",
         "j_germline_start_heavy": "7.0",
         "j_germline_start_light": "7.0",
         "j_identity_heavy": "100.0",
         "j_identity_light": "100.0",
         "j_score_heavy": "81.44",
         "j_score_light": "64.136",
         "j_sequence_alignment_aa_heavy": "DYWGQGTLVTVSS",
         "j_sequence_alignment_aa_light": "FGQGTKLEIK",
         "j_sequence_alignment_heavy": "TTGACTACTGGGGCCAGGGAACCCTGGTCACCGTCTCCTCAG",
         "j_sequence_alignment_light": "CTTTTGGCCAGGGGACCAAGCTGGAGATCAAAC",
         "j_sequence_end_heavy": "502.0",
         "j_sequence_end_light": "424.0",
         "j_sequence_start_heavy": "461.0",
         "j_sequence_start_light": "392.0",
         "j_support_heavy": "1.701e-19",
         "j_support_light": "2.689e-14",
         "junction_aa_heavy": "CAKGRVTMVRGALDYW",
         "junction_aa_length_heavy": "16.0",
         "junction_aa_length_light": "10.0",
         "junction_aa_light": "CMQATQFPSF",
         "junction_heavy": "TGTGCAAAAGGACGGGTTACTATGGTTCGGGGAGCCCTTGACTACTGG",
         "junction_length_heavy": "48.0",
         "junction_length_light": "30.0",
         "junction_light": "TGCATGCAAGCTACACAATTTCCTTCTTTT",
         "locus_heavy": "H",
         "locus_light": "K",
         "np1_heavy": "GACGGG",
         "np1_length_heavy": "6.0",
         "np1_length_light": "1.0",
         "np1_light": "T",
         "np2_heavy": "CCC",
         "np2_length_heavy": "3.0",
         "np2_length_light": "nan",
         "np2_light": "nan",
         "productive_heavy": "T",
         "productive_light": "T",
         "rev_comp_heavy": "F",
         "rev_comp_light": "F",
         "sequence_alignment_aa_heavy": "EVQLVESGGGLVQPGRSLRLSCAASGFTFDDYAMHWVRQAPGKGLEWVSGISWNSGSIGYADSVKGRFTISRDNAKNSLYLQMNSLRAEDTALYYCAKGRVTMVRGALDYWGQGTLVTVSS",
         "sequence_alignment_aa_light": "DIVMTQTPLSSPVTLGQPASISCRSSQSLVHSDGNTYLSWLQQRPGQPPRLLIYKISNRFSGVPDRFSGSGAGTDFTLKISRVEAEDVGVYYCMQATQFPSFGQGTKLEIK",
         "sequence_alignment_heavy": "GAAGTGCAGCTGGTGGAGTCTGGGGGAGGCTTGGTACAGCCTGGCAGGTCCCTGAGACTCTCCTGTGCAGCCTCTGGATTCACCTTTGATGATTATGCCATGCACTGGGTCCGGCAAGCTCCAGGGAAGGGCCTGGAGTGGGTCTCAGGTATTAGTTGGAATAGTGGTAGCATAGGCTATGCGGACTCTGTGAAGGGCCGATTCACCATCTCCAGAGACAACGCCAAGAACTCCCTGTATCTGCAAATGAACAGTCTGAGAGCTGAGGACACGGCCTTGTATTACTGTGCAAAAGGACGGGTTACTATGGTTCGGGGAGCCCTTGACTACTGGGGCCAGGGAACCCTGGTCACCGTCTCCTCAG",
         "sequence_alignment_light": "GATATTGTGATGACCCAGACTCCACTCTCCTCACCTGTCACCCTTGGACAGCCGGCCTCCATCTCCTGCAGGTCTAGTCAAAGCCTCGTACACAGTGATGGAAACACCTACTTGAGTTGGCTTCAGCAGAGGCCAGGCCAGCCTCCAAGACTCCTAATTTATAAGATTTCTAACCGGTTCTCTGGGGTCCCAGACAGATTCAGTGGCAGTGGGGCAGGGACAGATTTCACACTGAAAATCAGCAGGGTGGAAGCTGAGGATGTCGGGGTTTATTACTGCATGCAAGCTACACAATTTCCTTCTTTTGGCCAGGGGACCAAGCTGGAGATCAAAC",
         "sequence_heavy": "GAGCTCTGGGAGAGGAGCCCCAGCCCTGAGATTCCCAGGTGTTTCCATTCAGTGATCAGCACTGAACACAGAGGACTCACCATGGAGTTGGGACTGAGCTGGATTTTCCTTTTGGCTATTTTAAAAGGTGTCCAGTGTGAAGTGCAGCTGGTGGAGTCTGGGGGAGGCTTGGTACAGCCTGGCAGGTCCCTGAGACTCTCCTGTGCAGCCTCTGGATTCACCTTTGATGATTATGCCATGCACTGGGTCCGGCAAGCTCCAGGGAAGGGCCTGGAGTGGGTCTCAGGTATTAGTTGGAATAGTGGTAGCATAGGCTATGCGGACTCTGTGAAGGGCCGATTCACCATCTCCAGAGACAACGCCAAGAACTCCCTGTATCTGCAAATGAACAGTCTGAGAGCTGAGGACACGGCCTTGTATTACTGTGCAAAAGGACGGGTTACTATGGTTCGGGGAGCCCTTGACTACTGGGGCCAGGGAACCCTGGTCACCGTCTCCTCAGGGAGTGCATCCGCCCCAACCCTTTTCCCCCTCGTCTCCTGTGAGAATTCCCCGTCGGATACGAGCAGCGTG",
         "sequence_id_heavy": "ACGATACAGGCAAAGA-1_contig_2",
         "sequence_id_light": "ACGATACAGGCAAAGA-1_contig_1",
         "sequence_light": "AATTAGGACTCCTCAGGTCACCTTCTCACAATGAGGCTCCTTGCTCAGCTTCTGGGGCTGCTAATGCTCTGGGTCCCTGGATCCAGTGGGGATATTGTGATGACCCAGACTCCACTCTCCTCACCTGTCACCCTTGGACAGCCGGCCTCCATCTCCTGCAGGTCTAGTCAAAGCCTCGTACACAGTGATGGAAACACCTACTTGAGTTGGCTTCAGCAGAGGCCAGGCCAGCCTCCAAGACTCCTAATTTATAAGATTTCTAACCGGTTCTCTGGGGTCCCAGACAGATTCAGTGGCAGTGGGGCAGGGACAGATTTCACACTGAAAATCAGCAGGGTGGAAGCTGAGGATGTCGGGGTTTATTACTGCATGCAAGCTACACAATTTCCTTCTTTTGGCCAGGGGACCAAGCTGGAGATCAAACGAACTGTGGCTGCACCATCTGTCTTCATCTTCCCGCCATCTGATGAGCAGTTGAAATCTGGAACTGCCTCTGTTGTGTGCCTGCTGAATAACTTCTATCCCAGAGAGGCCAAAGTACAGTGGAAGGTGGATAACGC",
         "stop_codon_heavy": "F",
         "stop_codon_light": "F",
         "v_alignment_end_heavy": "295.0",
         "v_alignment_end_light": "300.0",
         "v_alignment_start_heavy": "1.0",
         "v_alignment_start_light": "1.0",
         "v_call_heavy": "IGHV3-9*01",
         "v_call_light": "IGKV2-24*01",
         "v_cigar_heavy": "138S295M140S3N",
         "v_cigar_light": "90S300M170S2N",
         "v_frameshift_heavy": "F",
         "v_frameshift_light": "F",
         "v_germline_alignment_aa_heavy": "EVQLVESGGGLVQPGRSLRLSCAASGFTFDDYAMHWVRQAPGKGLEWVSGISWNSGSIGYADSVKGRFTISRDNAKNSLYLQMNSLRAEDTALYYCAK",
         "v_germline_alignment_aa_light": "DIVMTQTPLSSPVTLGQPASISCRSSQSLVHSDGNTYLSWLQQRPGQPPRLLIYKISNRFSGVPDRFSGSGAGTDFTLKISRVEAEDVGVYYCMQATQFP",
         "v_germline_alignment_heavy": "GAAGTGCAGCTGGTGGAGTCTGGGGGAGGCTTGGTACAGCCTGGCAGGTCCCTGAGACTCTCCTGTGCAGCCTCTGGATTCACCTTTGATGATTATGCCATGCACTGGGTCCGGCAAGCTCCAGGGAAGGGCCTGGAGTGGGTCTCAGGTATTAGTTGGAATAGTGGTAGCATAGGCTATGCGGACTCTGTGAAGGGCCGATTCACCATCTCCAGAGACAACGCCAAGAACTCCCTGTATCTGCAAATGAACAGTCTGAGAGCTGAGGACACGGCCTTGTATTACTGTGCAAAAG",
         "v_germline_alignment_light": "GATATTGTGATGACCCAGACTCCACTCTCCTCACCTGTCACCCTTGGACAGCCGGCCTCCATCTCCTGCAGGTCTAGTCAAAGCCTCGTACACAGTGATGGAAACACCTACTTGAGTTGGCTTCAGCAGAGGCCAGGCCAGCCTCCAAGACTCCTAATTTATAAGATTTCTAACCGGTTCTCTGGGGTCCCAGACAGATTCAGTGGCAGTGGGGCAGGGACAGATTTCACACTGAAAATCAGCAGGGTGGAAGCTGAGGATGTCGGGGTTTATTACTGCATGCAAGCTACACAATTTCCT",
         "v_germline_end_heavy": "295.0",
         "v_germline_end_light": "300.0",
         "v_germline_start_heavy": "1.0",
         "v_germline_start_light": "1.0",
         "v_identity_heavy": "100.0",
         "v_identity_light": "100.0",
         "v_score_heavy": "461.479",
         "v_score_light": "469.27",
         "v_sequence_alignment_aa_heavy": "EVQLVESGGGLVQPGRSLRLSCAASGFTFDDYAMHWVRQAPGKGLEWVSGISWNSGSIGYADSVKGRFTISRDNAKNSLYLQMNSLRAEDTALYYCAK",
         "v_sequence_alignment_aa_light": "DIVMTQTPLSSPVTLGQPASISCRSSQSLVHSDGNTYLSWLQQRPGQPPRLLIYKISNRFSGVPDRFSGSGAGTDFTLKISRVEAEDVGVYYCMQATQFP",
         "v_sequence_alignment_heavy": "GAAGTGCAGCTGGTGGAGTCTGGGGGAGGCTTGGTACAGCCTGGCAGGTCCCTGAGACTCTCCTGTGCAGCCTCTGGATTCACCTTTGATGATTATGCCATGCACTGGGTCCGGCAAGCTCCAGGGAAGGGCCTGGAGTGGGTCTCAGGTATTAGTTGGAATAGTGGTAGCATAGGCTATGCGGACTCTGTGAAGGGCCGATTCACCATCTCCAGAGACAACGCCAAGAACTCCCTGTATCTGCAAATGAACAGTCTGAGAGCTGAGGACACGGCCTTGTATTACTGTGCAAAAG",
         "v_sequence_alignment_light": "GATATTGTGATGACCCAGACTCCACTCTCCTCACCTGTCACCCTTGGACAGCCGGCCTCCATCTCCTGCAGGTCTAGTCAAAGCCTCGTACACAGTGATGGAAACACCTACTTGAGTTGGCTTCAGCAGAGGCCAGGCCAGCCTCCAAGACTCCTAATTTATAAGATTTCTAACCGGTTCTCTGGGGTCCCAGACAGATTCAGTGGCAGTGGGGCAGGGACAGATTTCACACTGAAAATCAGCAGGGTGGAAGCTGAGGATGTCGGGGTTTATTACTGCATGCAAGCTACACAATTTCCT",
         "v_sequence_end_heavy": "433.0",
         "v_sequence_end_light": "390.0",
         "v_sequence_start_heavy": "139.0",
         "v_sequence_start_light": "91.0",
         "v_support_heavy": "8.016000000000001e-132",
         "v_support_light": "3.554e-134",
         "vj_in_frame_heavy": "T",
         "vj_in_frame_light": "T"
        },
        {
         "ANARCI_numbering_heavy": "{'fwh1': {'1 ': 'Q', '2 ': 'V', '3 ': 'Q', '4 ': 'L', '5 ': 'V', '6 ': 'Q', '7 ': 'S', '8 ': 'G', '9 ': 'A', '11 ': 'E', '12 ': 'V', '13 ': 'K', '14 ': 'K', '15 ': 'P', '16 ': 'G', '17 ': 'A', '18 ': 'S', '19 ': 'V', '20 ': 'K', '21 ': 'V', '22 ': 'S', '23 ': 'C', '24 ': 'K', '25 ': 'A', '26 ': 'S'}, 'cdrh1': {'27 ': 'G', '28 ': 'Y', '29 ': 'T', '30 ': 'F', '35 ': 'T', '36 ': 'S', '37 ': 'Y', '38 ': 'G'}, 'fwh2': {'39 ': 'I', '40 ': 'S', '41 ': 'W', '42 ': 'V', '43 ': 'R', '44 ': 'Q', '45 ': 'A', '46 ': 'P', '47 ': 'G', '48 ': 'Q', '49 ': 'G', '50 ': 'L', '51 ': 'E', '52 ': 'W', '53 ': 'M', '54 ': 'G', '55 ': 'W'}, 'cdrh2': {'56 ': 'I', '57 ': 'S', '58 ': 'A', '59 ': 'Y', '62 ': 'N', '63 ': 'G', '64 ': 'N', '65 ': 'T'}, 'fwh3': {'66 ': 'N', '67 ': 'Y', '68 ': 'A', '69 ': 'Q', '70 ': 'K', '71 ': 'L', '72 ': 'Q', '74 ': 'G', '75 ': 'R', '76 ': 'V', '77 ': 'T', '78 ': 'M', '79 ': 'T', '80 ': 'T', '81 ': 'D', '82 ': 'T', '83 ': 'S', '84 ': 'T', '85 ': 'S', '86 ': 'T', '87 ': 'A', '88 ': '…",
         "ANARCI_numbering_light": "{'fwk1': {'1 ': 'D', '2 ': 'I', '3 ': 'Q', '4 ': 'L', '5 ': 'T', '6 ': 'Q', '7 ': 'S', '8 ': 'P', '9 ': 'S', '10 ': 'F', '11 ': 'L', '12 ': 'S', '13 ': 'A', '14 ': 'S', '15 ': 'V', '16 ': 'G', '17 ': 'D', '18 ': 'R', '19 ': 'V', '20 ': 'T', '21 ': 'I', '22 ': 'T', '23 ': 'C', '24 ': 'R', '25 ': 'A', '26 ': 'S'}, 'cdrk1': {'27 ': 'Q', '28 ': 'G', '29 ': 'I', '36 ': 'S', '37 ': 'S', '38 ': 'Y'}, 'fwk2': {'39 ': 'L', '40 ': 'A', '41 ': 'W', '42 ': 'Y', '43 ': 'Q', '44 ': 'Q', '45 ': 'K', '46 ': 'P', '47 ': 'G', '48 ': 'K', '49 ': 'A', '50 ': 'P', '51 ': 'K', '52 ': 'L', '53 ': 'L', '54 ': 'I', '55 ': 'Y'}, 'cdrk2': {'56 ': 'A', '57 ': 'A', '65 ': 'S'}, 'fwk3': {'66 ': 'T', '67 ': 'L', '68 ': 'Q', '69 ': 'S', '70 ': 'G', '71 ': 'V', '72 ': 'P', '74 ': 'S', '75 ': 'R', '76 ': 'F', '77 ': 'S', '78 ': 'G', '79 ': 'S', '80 ': 'G', '83 ': 'S', '84 ': 'G', '85 ': 'T', '86 ': 'E', '87 ': 'F', '88 ': 'T', '89 ': 'L', '90 ': 'T', '91 ': 'I', '92 ': 'S', '93 ': 'S', '94 ': 'L', '95 ': 'Q', '96 ': '…",
         "ANARCI_status_heavy": "|Deletions: 10, 73||||",
         "ANARCI_status_light": "|||||",
         "Isotype_heavy": "IGHM",
         "Isotype_light": "Bulk",
         "Redundancy_heavy": "1.0",
         "Redundancy_light": "1.0",
         "_deepnote_index_column": "27",
         "c_region_heavy": "GGAGTGCATCCGCCCCAACCCTTTTCCCCCTCGTCTCCTGTGAGAATTCCCCGTCGGATACGAGCAGCGTG",
         "c_region_light": "GAACTGTGGCTGCACCATCTGTCTTCATCTTCCCGCCATCTGATGAGCAGTTGAAATCTGGAACTGCCTCTGTTGTGTGCCTGCTGAATAACTTCTATCCCAGAGAGGCCAAAGTACAGTGGAAGGTGGATAACGC",
         "cdr1_aa_heavy": "GYTFTSYG",
         "cdr1_aa_light": "QGISSY",
         "cdr1_end_heavy": "215.0",
         "cdr1_end_light": "220.0",
         "cdr1_heavy": "GGTTACACCTTTACCAGCTATGGT",
         "cdr1_light": "CAGGGCATTAGCAGTTAT",
         "cdr1_start_heavy": "192.0",
         "cdr1_start_light": "203.0",
         "cdr2_aa_heavy": "ISAYNGNT",
         "cdr2_aa_light": "AAS",
         "cdr2_end_heavy": "290.0",
         "cdr2_end_light": "280.0",
         "cdr2_heavy": "ATCAGCGCTTACAATGGTAACACA",
         "cdr2_light": "GCTGCATCC",
         "cdr2_start_heavy": "267.0",
         "cdr2_start_light": "272.0",
         "cdr3_aa_heavy": "ARSWAFDI",
         "cdr3_aa_light": "QQLNSYPPWT",
         "cdr3_end_heavy": "428.0",
         "cdr3_end_light": "418.0",
         "cdr3_heavy": "GCGAGAAGTTGGGCTTTTGATATC",
         "cdr3_light": "CAACAGCTTAATAGTTACCCTCCGTGGACG",
         "cdr3_start_heavy": "405.0",
         "cdr3_start_light": "389.0",
         "complete_vdj_heavy": "T",
         "complete_vdj_light": "T",
         "d_alignment_end_heavy": "nan",
         "d_alignment_end_light": "nan",
         "d_alignment_start_heavy": "nan",
         "d_alignment_start_light": "nan",
         "d_call_heavy": "nan",
         "d_call_light": "nan",
         "d_cigar_heavy": "nan",
         "d_cigar_light": "nan",
         "d_germline_alignment_aa_heavy": "nan",
         "d_germline_alignment_aa_light": "nan",
         "d_germline_alignment_heavy": "nan",
         "d_germline_alignment_light": "nan",
         "d_germline_end_heavy": "nan",
         "d_germline_end_light": "nan",
         "d_germline_start_heavy": "nan",
         "d_germline_start_light": "nan",
         "d_identity_heavy": "nan",
         "d_identity_light": "nan",
         "d_score_heavy": "nan",
         "d_score_light": "nan",
         "d_sequence_alignment_aa_heavy": "nan",
         "d_sequence_alignment_aa_light": "nan",
         "d_sequence_alignment_heavy": "nan",
         "d_sequence_alignment_light": "nan",
         "d_sequence_end_heavy": "nan",
         "d_sequence_end_light": "nan",
         "d_sequence_start_heavy": "nan",
         "d_sequence_start_light": "nan",
         "d_support_heavy": "nan",
         "d_support_light": "nan",
         "fwr1_aa_heavy": "QVQLVQSGAEVKKPGASVKVSCKAS",
         "fwr1_aa_light": "DIQLTQSPSFLSASVGDRVTITCRAS",
         "fwr1_end_heavy": "191.0",
         "fwr1_end_light": "202.0",
         "fwr1_heavy": "CAGGTTCAGCTGGTGCAGTCTGGAGCTGAGGTGAAGAAGCCTGGGGCCTCAGTGAAGGTCTCCTGCAAGGCTTCT",
         "fwr1_light": "GACATCCAGTTGACCCAGTCTCCATCCTTCCTGTCTGCATCTGTAGGAGACAGAGTCACCATCACTTGCCGGGCCAGT",
         "fwr1_start_heavy": "117.0",
         "fwr1_start_light": "125.0",
         "fwr2_aa_heavy": "ISWVRQAPGQGLEWMGW",
         "fwr2_aa_light": "LAWYQQKPGKAPKLLIY",
         "fwr2_end_heavy": "266.0",
         "fwr2_end_light": "271.0",
         "fwr2_heavy": "ATCAGCTGGGTGCGACAGGCCCCTGGACAAGGGCTTGAGTGGATGGGATGG",
         "fwr2_light": "TTAGCCTGGTATCAGCAAAAACCAGGGAAAGCCCCTAAGCTCCTGATCTAT",
         "fwr2_start_heavy": "216.0",
         "fwr2_start_light": "221.0",
         "fwr3_aa_heavy": "NYAQKLQGRVTMTTDTSTSTAYMELRSLRSDDTAVYYC",
         "fwr3_aa_light": "TLQSGVPSRFSGSGSGTEFTLTISSLQPEDFATYYC",
         "fwr3_end_heavy": "404.0",
         "fwr3_end_light": "388.0",
         "fwr3_heavy": "AACTATGCACAGAAGCTCCAGGGCAGAGTCACCATGACCACAGACACATCCACGAGCACAGCCTACATGGAGCTGAGGAGCCTGAGATCTGACGACACGGCCGTGTATTACTGT",
         "fwr3_light": "ACTTTGCAAAGTGGGGTCCCATCAAGGTTCAGCGGCAGTGGATCTGGGACAGAATTCACTCTCACAATCAGCAGCCTGCAGCCTGAAGATTTTGCAACTTATTACTGT",
         "fwr3_start_heavy": "291.0",
         "fwr3_start_light": "281.0",
         "fwr4_aa_heavy": "WGQGTMVTVSS",
         "fwr4_aa_light": "FGQGTKVEIK",
         "fwr4_end_heavy": "461.0",
         "fwr4_end_light": "448.0",
         "fwr4_heavy": "TGGGGCCAAGGGACAATGGTCACCGTCTCTTCA",
         "fwr4_light": "TTCGGCCAAGGGACCAAGGTGGAAATCAAA",
         "fwr4_start_heavy": "429.0",
         "fwr4_start_light": "419.0",
         "germline_alignment_aa_heavy": "QVQLVQSGAEVKKPGASVKVSCKASGYTFTSYGISWVRQAPGQGLEWMGWISAYNGNTNYAQKLQGRVTMTTDTSTSTAYMELRSLRSDDTAVYYCARXXAFDIWGQGTMVTVSS",
         "germline_alignment_aa_light": "DIQLTQSPSFLSASVGDRVTITCRASQGISSYLAWYQQKPGKAPKLLIYAASTLQSGVPSRFSGSGSGTEFTLTISSLQPEDFATYYCQQLNSYPPWTFGQGTKVEIK",
         "germline_alignment_heavy": "CAGGTTCAGCTGGTGCAGTCTGGAGCTGAGGTGAAGAAGCCTGGGGCCTCAGTGAAGGTCTCCTGCAAGGCTTCTGGTTACACCTTTACCAGCTATGGTATCAGCTGGGTGCGACAGGCCCCTGGACAAGGGCTTGAGTGGATGGGATGGATCAGCGCTTACAATGGTAACACAAACTATGCACAGAAGCTCCAGGGCAGAGTCACCATGACCACAGACACATCCACGAGCACAGCCTACATGGAGCTGAGGAGCCTGAGATCTGACGACACGGCCGTGTATTACTGTGCGAGANNNNNNGCTTTTGATATCTGGGGCCAAGGGACAATGGTCACCGTCTCTTCAG",
         "germline_alignment_light": "GACATCCAGTTGACCCAGTCTCCATCCTTCCTGTCTGCATCTGTAGGAGACAGAGTCACCATCACTTGCCGGGCCAGTCAGGGCATTAGCAGTTATTTAGCCTGGTATCAGCAAAAACCAGGGAAAGCCCCTAAGCTCCTGATCTATGCTGCATCCACTTTGCAAAGTGGGGTCCCATCAAGGTTCAGCGGCAGTGGATCTGGGACAGAATTCACTCTCACAATCAGCAGCCTGCAGCCTGAAGATTTTGCAACTTATTACTGTCAACAGCTTAATAGTTACCCTCCGTGGACGTTCGGCCAAGGGACCAAGGTGGAAATCAAAC",
         "j_alignment_end_heavy": "346.0",
         "j_alignment_end_light": "325.0",
         "j_alignment_start_heavy": "301.0",
         "j_alignment_start_light": "288.0",
         "j_call_heavy": "IGHJ3*02",
         "j_call_light": "IGKJ1*01",
         "j_cigar_heavy": "416S4N46M71S",
         "j_cigar_light": "411S38M136S",
         "j_germline_alignment_aa_heavy": "AFDIWGQGTMVTVSS",
         "j_germline_alignment_aa_light": "WTFGQGTKVEIK",
         "j_germline_alignment_heavy": "GCTTTTGATATCTGGGGCCAAGGGACAATGGTCACCGTCTCTTCAG",
         "j_germline_alignment_light": "GTGGACGTTCGGCCAAGGGACCAAGGTGGAAATCAAAC",
         "j_germline_end_heavy": "50.0",
         "j_germline_end_light": "38.0",
         "j_germline_start_heavy": "5.0",
         "j_germline_start_light": "1.0",
         "j_identity_heavy": "100.0",
         "j_identity_light": "100.0",
         "j_score_heavy": "89.131",
         "j_score_light": "73.749",
         "j_sequence_alignment_aa_heavy": "AFDIWGQGTMVTVSS",
         "j_sequence_alignment_aa_light": "WTFGQGTKVEIK",
         "j_sequence_alignment_heavy": "GCTTTTGATATCTGGGGCCAAGGGACAATGGTCACCGTCTCTTCAG",
         "j_sequence_alignment_light": "GTGGACGTTCGGCCAAGGGACCAAGGTGGAAATCAAAC",
         "j_sequence_end_heavy": "462.0",
         "j_sequence_end_light": "449.0",
         "j_sequence_start_heavy": "417.0",
         "j_sequence_start_light": "412.0",
         "j_support_heavy": "7.647e-22",
         "j_support_light": "3.59e-17",
         "junction_aa_heavy": "CARSWAFDIW",
         "junction_aa_length_heavy": "10.0",
         "junction_aa_length_light": "12.0",
         "junction_aa_light": "CQQLNSYPPWTF",
         "junction_heavy": "TGTGCGAGAAGTTGGGCTTTTGATATCTGG",
         "junction_length_heavy": "30.0",
         "junction_length_light": "36.0",
         "junction_light": "TGTCAACAGCTTAATAGTTACCCTCCGTGGACGTTC",
         "locus_heavy": "H",
         "locus_light": "K",
         "np1_heavy": "AGTTGG",
         "np1_length_heavy": "6.0",
         "np1_length_light": "0.0",
         "np1_light": "nan",
         "np2_heavy": "nan",
         "np2_length_heavy": "nan",
         "np2_length_light": "nan",
         "np2_light": "nan",
         "productive_heavy": "T",
         "productive_light": "T",
         "rev_comp_heavy": "F",
         "rev_comp_light": "F",
         "sequence_alignment_aa_heavy": "QVQLVQSGAEVKKPGASVKVSCKASGYTFTSYGISWVRQAPGQGLEWMGWISAYNGNTNYAQKLQGRVTMTTDTSTSTAYMELRSLRSDDTAVYYCARSWAFDIWGQGTMVTVSS",
         "sequence_alignment_aa_light": "DIQLTQSPSFLSASVGDRVTITCRASQGISSYLAWYQQKPGKAPKLLIYAASTLQSGVPSRFSGSGSGTEFTLTISSLQPEDFATYYCQQLNSYPPWTFGQGTKVEIK",
         "sequence_alignment_heavy": "CAGGTTCAGCTGGTGCAGTCTGGAGCTGAGGTGAAGAAGCCTGGGGCCTCAGTGAAGGTCTCCTGCAAGGCTTCTGGTTACACCTTTACCAGCTATGGTATCAGCTGGGTGCGACAGGCCCCTGGACAAGGGCTTGAGTGGATGGGATGGATCAGCGCTTACAATGGTAACACAAACTATGCACAGAAGCTCCAGGGCAGAGTCACCATGACCACAGACACATCCACGAGCACAGCCTACATGGAGCTGAGGAGCCTGAGATCTGACGACACGGCCGTGTATTACTGTGCGAGAAGTTGGGCTTTTGATATCTGGGGCCAAGGGACAATGGTCACCGTCTCTTCAG",
         "sequence_alignment_light": "GACATCCAGTTGACCCAGTCTCCATCCTTCCTGTCTGCATCTGTAGGAGACAGAGTCACCATCACTTGCCGGGCCAGTCAGGGCATTAGCAGTTATTTAGCCTGGTATCAGCAAAAACCAGGGAAAGCCCCTAAGCTCCTGATCTATGCTGCATCCACTTTGCAAAGTGGGGTCCCATCAAGGTTCAGCGGCAGTGGATCTGGGACAGAATTCACTCTCACAATCAGCAGCCTGCAGCCTGAAGATTTTGCAACTTATTACTGTCAACAGCTTAATAGTTACCCTCCGTGGACGTTCGGCCAAGGGACCAAGGTGGAAATCAAAC",
         "sequence_heavy": "TGGGGACCCAAAAACCACACCCCTCCTTGGGAGAATCCCCTAGATCACAGCTCCTCACCATGGACTGGACCTGGAGCATCCTTTTCTTGGTGGCAGCAGCAACAGGTGCCCACTCCCAGGTTCAGCTGGTGCAGTCTGGAGCTGAGGTGAAGAAGCCTGGGGCCTCAGTGAAGGTCTCCTGCAAGGCTTCTGGTTACACCTTTACCAGCTATGGTATCAGCTGGGTGCGACAGGCCCCTGGACAAGGGCTTGAGTGGATGGGATGGATCAGCGCTTACAATGGTAACACAAACTATGCACAGAAGCTCCAGGGCAGAGTCACCATGACCACAGACACATCCACGAGCACAGCCTACATGGAGCTGAGGAGCCTGAGATCTGACGACACGGCCGTGTATTACTGTGCGAGAAGTTGGGCTTTTGATATCTGGGGCCAAGGGACAATGGTCACCGTCTCTTCAGGGAGTGCATCCGCCCCAACCCTTTTCCCCCTCGTCTCCTGTGAGAATTCCCCGTCGGATACGAGCAGCGTG",
         "sequence_id_heavy": "TAGTGGTGTTCGCGAC-1_contig_2",
         "sequence_id_light": "TAGTGGTGTTCGCGAC-1_contig_1",
         "sequence_light": "AGACTTCTTAATAGGCTGGTCACACCTGTGCAGGAGTCAGTCCCAGTCAGGACACAGCATGGACATGAGGGTCCCCGCTCAGCTCCTGGGGCTCCTGCTGCTCTGGCTCCCAGGTGCCAGATGTGACATCCAGTTGACCCAGTCTCCATCCTTCCTGTCTGCATCTGTAGGAGACAGAGTCACCATCACTTGCCGGGCCAGTCAGGGCATTAGCAGTTATTTAGCCTGGTATCAGCAAAAACCAGGGAAAGCCCCTAAGCTCCTGATCTATGCTGCATCCACTTTGCAAAGTGGGGTCCCATCAAGGTTCAGCGGCAGTGGATCTGGGACAGAATTCACTCTCACAATCAGCAGCCTGCAGCCTGAAGATTTTGCAACTTATTACTGTCAACAGCTTAATAGTTACCCTCCGTGGACGTTCGGCCAAGGGACCAAGGTGGAAATCAAACGAACTGTGGCTGCACCATCTGTCTTCATCTTCCCGCCATCTGATGAGCAGTTGAAATCTGGAACTGCCTCTGTTGTGTGCCTGCTGAATAACTTCTATCCCAGAGAGGCCAAAGTACAGTGGAAGGTGGATAACGC",
         "stop_codon_heavy": "F",
         "stop_codon_light": "F",
         "v_alignment_end_heavy": "294.0",
         "v_alignment_end_light": "287.0",
         "v_alignment_start_heavy": "1.0",
         "v_alignment_start_light": "1.0",
         "v_call_heavy": "IGHV1-18*01",
         "v_call_light": "IGKV1-9*01",
         "v_cigar_heavy": "116S294M123S2N",
         "v_cigar_light": "124S287M174S",
         "v_frameshift_heavy": "F",
         "v_frameshift_light": "F",
         "v_germline_alignment_aa_heavy": "QVQLVQSGAEVKKPGASVKVSCKASGYTFTSYGISWVRQAPGQGLEWMGWISAYNGNTNYAQKLQGRVTMTTDTSTSTAYMELRSLRSDDTAVYYCAR",
         "v_germline_alignment_aa_light": "DIQLTQSPSFLSASVGDRVTITCRASQGISSYLAWYQQKPGKAPKLLIYAASTLQSGVPSRFSGSGSGTEFTLTISSLQPEDFATYYCQQLNSYPP",
         "v_germline_alignment_heavy": "CAGGTTCAGCTGGTGCAGTCTGGAGCTGAGGTGAAGAAGCCTGGGGCCTCAGTGAAGGTCTCCTGCAAGGCTTCTGGTTACACCTTTACCAGCTATGGTATCAGCTGGGTGCGACAGGCCCCTGGACAAGGGCTTGAGTGGATGGGATGGATCAGCGCTTACAATGGTAACACAAACTATGCACAGAAGCTCCAGGGCAGAGTCACCATGACCACAGACACATCCACGAGCACAGCCTACATGGAGCTGAGGAGCCTGAGATCTGACGACACGGCCGTGTATTACTGTGCGAGA",
         "v_germline_alignment_light": "GACATCCAGTTGACCCAGTCTCCATCCTTCCTGTCTGCATCTGTAGGAGACAGAGTCACCATCACTTGCCGGGCCAGTCAGGGCATTAGCAGTTATTTAGCCTGGTATCAGCAAAAACCAGGGAAAGCCCCTAAGCTCCTGATCTATGCTGCATCCACTTTGCAAAGTGGGGTCCCATCAAGGTTCAGCGGCAGTGGATCTGGGACAGAATTCACTCTCACAATCAGCAGCCTGCAGCCTGAAGATTTTGCAACTTATTACTGTCAACAGCTTAATAGTTACCCTCC",
         "v_germline_end_heavy": "294.0",
         "v_germline_end_light": "287.0",
         "v_germline_start_heavy": "1.0",
         "v_germline_start_light": "1.0",
         "v_identity_heavy": "100.0",
         "v_identity_light": "100.0",
         "v_score_heavy": "459.921",
         "v_score_light": "449.014",
         "v_sequence_alignment_aa_heavy": "QVQLVQSGAEVKKPGASVKVSCKASGYTFTSYGISWVRQAPGQGLEWMGWISAYNGNTNYAQKLQGRVTMTTDTSTSTAYMELRSLRSDDTAVYYCAR",
         "v_sequence_alignment_aa_light": "DIQLTQSPSFLSASVGDRVTITCRASQGISSYLAWYQQKPGKAPKLLIYAASTLQSGVPSRFSGSGSGTEFTLTISSLQPEDFATYYCQQLNSYPP",
         "v_sequence_alignment_heavy": "CAGGTTCAGCTGGTGCAGTCTGGAGCTGAGGTGAAGAAGCCTGGGGCCTCAGTGAAGGTCTCCTGCAAGGCTTCTGGTTACACCTTTACCAGCTATGGTATCAGCTGGGTGCGACAGGCCCCTGGACAAGGGCTTGAGTGGATGGGATGGATCAGCGCTTACAATGGTAACACAAACTATGCACAGAAGCTCCAGGGCAGAGTCACCATGACCACAGACACATCCACGAGCACAGCCTACATGGAGCTGAGGAGCCTGAGATCTGACGACACGGCCGTGTATTACTGTGCGAGA",
         "v_sequence_alignment_light": "GACATCCAGTTGACCCAGTCTCCATCCTTCCTGTCTGCATCTGTAGGAGACAGAGTCACCATCACTTGCCGGGCCAGTCAGGGCATTAGCAGTTATTTAGCCTGGTATCAGCAAAAACCAGGGAAAGCCCCTAAGCTCCTGATCTATGCTGCATCCACTTTGCAAAGTGGGGTCCCATCAAGGTTCAGCGGCAGTGGATCTGGGACAGAATTCACTCTCACAATCAGCAGCCTGCAGCCTGAAGATTTTGCAACTTATTACTGTCAACAGCTTAATAGTTACCCTCC",
         "v_sequence_end_heavy": "410.0",
         "v_sequence_end_light": "411.0",
         "v_sequence_start_heavy": "117.0",
         "v_sequence_start_light": "125.0",
         "v_support_heavy": "2.2e-131",
         "v_support_light": "4.632e-128",
         "vj_in_frame_heavy": "T",
         "vj_in_frame_light": "T"
        },
        {
         "ANARCI_numbering_heavy": "{'fwh1': {'1 ': 'Q', '2 ': 'V', '3 ': 'Q', '4 ': 'L', '5 ': 'V', '6 ': 'Q', '7 ': 'S', '8 ': 'G', '9 ': 'A', '11 ': 'E', '12 ': 'V', '13 ': 'K', '14 ': 'K', '15 ': 'P', '16 ': 'G', '17 ': 'A', '18 ': 'S', '19 ': 'V', '20 ': 'K', '21 ': 'V', '22 ': 'S', '23 ': 'C', '24 ': 'K', '25 ': 'A', '26 ': 'S'}, 'cdrh1': {'27 ': 'G', '28 ': 'Y', '29 ': 'T', '30 ': 'F', '35 ': 'I', '36 ': 'S', '37 ': 'Y', '38 ': 'Y'}, 'fwh2': {'39 ': 'I', '40 ': 'H', '41 ': 'W', '42 ': 'V', '43 ': 'R', '44 ': 'Q', '45 ': 'A', '46 ': 'P', '47 ': 'G', '48 ': 'Q', '49 ': 'G', '50 ': 'L', '51 ': 'E', '52 ': 'W', '53 ': 'M', '54 ': 'G', '55 ': 'I'}, 'cdrh2': {'56 ': 'I', '57 ': 'N', '58 ': 'P', '59 ': 'S', '62 ': 'D', '63 ': 'G', '64 ': 'S', '65 ': 'T'}, 'fwh3': {'66 ': 'T', '67 ': 'Y', '68 ': 'A', '69 ': 'Q', '70 ': 'K', '71 ': 'L', '72 ': 'Q', '74 ': 'G', '75 ': 'R', '76 ': 'V', '77 ': 'T', '78 ': 'M', '79 ': 'T', '80 ': 'R', '81 ': 'D', '82 ': 'T', '83 ': 'S', '84 ': 'T', '85 ': 'S', '86 ': 'T', '87 ': 'V', '88 ': '…",
         "ANARCI_numbering_light": "{'fwl1': {'1 ': 'Q', '2 ': 'S', '3 ': 'A', '4 ': 'L', '5 ': 'T', '6 ': 'Q', '7 ': 'P', '8 ': 'A', '9 ': 'S', '11 ': 'V', '12 ': 'S', '13 ': 'G', '14 ': 'S', '15 ': 'P', '16 ': 'G', '17 ': 'Q', '18 ': 'S', '19 ': 'I', '20 ': 'T', '21 ': 'I', '22 ': 'S', '23 ': 'C', '24 ': 'T', '25 ': 'G', '26 ': 'T'}, 'cdrl1': {'27 ': 'S', '28 ': 'S', '29 ': 'D', '30 ': 'V', '31 ': 'G', '35 ': 'S', '36 ': 'Y', '37 ': 'N', '38 ': 'L'}, 'fwl2': {'39 ': 'V', '40 ': 'S', '41 ': 'W', '42 ': 'Y', '43 ': 'Q', '44 ': 'Q', '45 ': 'H', '46 ': 'P', '47 ': 'G', '48 ': 'K', '49 ': 'A', '50 ': 'P', '51 ': 'K', '52 ': 'L', '53 ': 'M', '54 ': 'I', '55 ': 'Y'}, 'cdrl2': {'56 ': 'E', '57 ': 'G', '65 ': 'S'}, 'fwl3': {'66 ': 'K', '67 ': 'R', '68 ': 'P', '69 ': 'S', '70 ': 'G', '71 ': 'V', '72 ': 'S', '74 ': 'N', '75 ': 'R', '76 ': 'F', '77 ': 'S', '78 ': 'G', '79 ': 'S', '80 ': 'R', '83 ': 'S', '84 ': 'G', '85 ': 'N', '86 ': 'T', '87 ': 'A', '88 ': 'S', '89 ': 'L', '90 ': 'T', '91 ': 'I', '92 ': 'S', '93 ': 'G', '94 ': '…",
         "ANARCI_status_heavy": "|Deletions: 10, 73||||",
         "ANARCI_status_light": "|||||",
         "Isotype_heavy": "IGHM",
         "Isotype_light": "Bulk",
         "Redundancy_heavy": "1.0",
         "Redundancy_light": "1.0",
         "_deepnote_index_column": "28",
         "c_region_heavy": "GGAGTGCATCCGCCCCAACCCTTTTCCCCCTCGTCTCCTGTGAGAATTCCCCGTCGGATACGAGCAGCGTG",
         "c_region_light": "GTCAGCCCAAGGCTGCCCCCTCGGTCACTCTGTTCCCGCCCTCCTCTGAGGAGCTTCAAGCCAACAAGGCCACACTGGTGTGTCTCATAAGTGACTTCTACCCGGGAGCCGTGACAGTGGCCTGGAAGGCAGATAGCAGCCCCGTCAAGGCGGGAGTGGAGACCACCACACCCTCCAAACAAAGCAACAACAAGTACGCGGCCAGCAGCTA",
         "cdr1_aa_heavy": "GYTFISYY",
         "cdr1_aa_light": "SSDVGSYNL",
         "cdr1_end_heavy": "217.0",
         "cdr1_end_light": "197.0",
         "cdr1_heavy": "GGATACACATTCATCAGTTACTAT",
         "cdr1_light": "AGCAGTGATGTTGGGAGTTATAACCTT",
         "cdr1_start_heavy": "194.0",
         "cdr1_start_light": "171.0",
         "cdr2_aa_heavy": "INPSDGST",
         "cdr2_aa_light": "EGS",
         "cdr2_end_heavy": "292.0",
         "cdr2_end_light": "257.0",
         "cdr2_heavy": "ATTAACCCTAGTGATGGTAGCACA",
         "cdr2_light": "GAGGGCAGT",
         "cdr2_start_heavy": "269.0",
         "cdr2_start_light": "249.0",
         "cdr3_aa_heavy": "ARDQGYYDSSGYYLDALHI",
         "cdr3_aa_light": "CSYAGSDTLV",
         "cdr3_end_heavy": "463.0",
         "cdr3_end_light": "395.0",
         "cdr3_heavy": "GCAAGAGATCAAGGCTACTATGATAGTAGTGGTTATTACCTTGATGCCCTTCATATC",
         "cdr3_light": "TGCTCATATGCAGGTAGTGACACTTTGGTG",
         "cdr3_start_heavy": "407.0",
         "cdr3_start_light": "366.0",
         "complete_vdj_heavy": "T",
         "complete_vdj_light": "T",
         "d_alignment_end_heavy": "327.0",
         "d_alignment_end_light": "nan",
         "d_alignment_start_heavy": "304.0",
         "d_alignment_start_light": "nan",
         "d_call_heavy": "IGHD3-22*01",
         "d_call_light": "nan",
         "d_cigar_heavy": "421S4N24M123S3N",
         "d_cigar_light": "nan",
         "d_germline_alignment_aa_heavy": "YYDSSGYY",
         "d_germline_alignment_aa_light": "nan",
         "d_germline_alignment_heavy": "TACTATGATAGTAGTGGTTATTAC",
         "d_germline_alignment_light": "nan",
         "d_germline_end_heavy": "28.0",
         "d_germline_end_light": "nan",
         "d_germline_start_heavy": "5.0",
         "d_germline_start_light": "nan",
         "d_identity_heavy": "100.0",
         "d_identity_light": "nan",
         "d_score_heavy": "46.832",
         "d_score_light": "nan",
         "d_sequence_alignment_aa_heavy": "YYDSSGYY",
         "d_sequence_alignment_aa_light": "nan",
         "d_sequence_alignment_heavy": "TACTATGATAGTAGTGGTTATTAC",
         "d_sequence_alignment_light": "nan",
         "d_sequence_end_heavy": "445.0",
         "d_sequence_end_light": "nan",
         "d_sequence_start_heavy": "422.0",
         "d_sequence_start_light": "nan",
         "d_support_heavy": "2.031e-09",
         "d_support_light": "nan",
         "fwr1_aa_heavy": "QVQLVQSGAEVKKPGASVKVSCKAS",
         "fwr1_aa_light": "QSALTQPASVSGSPGQSITISCTGT",
         "fwr1_end_heavy": "193.0",
         "fwr1_end_light": "170.0",
         "fwr1_heavy": "CAGGTGCAGCTGGTGCAGTCTGGGGCTGAGGTGAAGAAGCCTGGGGCCTCAGTGAAGGTTTCCTGCAAGGCATCT",
         "fwr1_light": "CAGTCTGCCCTGACTCAGCCTGCCTCCGTGTCTGGGTCTCCTGGACAGTCGATCACCATCTCCTGCACTGGAACC",
         "fwr1_start_heavy": "119.0",
         "fwr1_start_light": "96.0",
         "fwr2_aa_heavy": "IHWVRQAPGQGLEWMGI",
         "fwr2_aa_light": "VSWYQQHPGKAPKLMIY",
         "fwr2_end_heavy": "268.0",
         "fwr2_end_light": "248.0",
         "fwr2_heavy": "ATACACTGGGTGCGACAGGCCCCTGGACAAGGACTTGAGTGGATGGGAATA",
         "fwr2_light": "GTCTCCTGGTACCAACAACACCCAGGCAAAGCCCCCAAACTCATGATTTAT",
         "fwr2_start_heavy": "218.0",
         "fwr2_start_light": "198.0",
         "fwr3_aa_heavy": "TYAQKLQGRVTMTRDTSTSTVNLELSSLRSEDTAVYYC",
         "fwr3_aa_light": "KRPSGVSNRFSGSRSGNTASLTISGLQAEDEADYYC",
         "fwr3_end_heavy": "406.0",
         "fwr3_end_light": "365.0",
         "fwr3_heavy": "ACCTACGCACAGAAGTTGCAGGGCAGAGTCACCATGACCAGGGACACGTCCACGAGCACAGTCAATTTGGAGCTGAGCAGCCTGAGATCTGAGGACACGGCCGTGTATTACTGT",
         "fwr3_light": "AAGCGGCCCTCAGGGGTTTCTAATCGCTTCTCTGGCTCCAGGTCTGGCAACACGGCCTCCCTGACAATCTCTGGGCTCCAGGCTGAGGACGAGGCTGATTATTACTGC",
         "fwr3_start_heavy": "293.0",
         "fwr3_start_light": "258.0",
         "fwr4_aa_heavy": "WGQGTMVTVSS",
         "fwr4_aa_light": "FGGGTKLTVL",
         "fwr4_end_heavy": "496.0",
         "fwr4_end_light": "425.0",
         "fwr4_heavy": "TGGGGCCAAGGGACAATGGTCACCGTCTCTTCA",
         "fwr4_light": "TTCGGCGGAGGGACCAAGCTGACCGTCCTA",
         "fwr4_start_heavy": "464.0",
         "fwr4_start_light": "396.0",
         "germline_alignment_aa_heavy": "QVQLVQSGAEVKKPGASVKVSCKASGYTFTSYYMHWVRQAPGQGLEWMGIINPSGGSTSYAQKLQGRVTMTRDTSTSTVYMELSSLRSEDTAVYYCARXXXYYDSSGYYXDAFDIWGQGTMVTVSS",
         "germline_alignment_aa_light": "QSALTQPASVSGSPGQSITISCTGTSSDVGSYNLVSWYQQHPGKAPKLMIYEGSKRPSGVSNRFSGSKSGNTASLTISGLQAEDEADYYCCSYAGSSTLVFGGGTKLTVL",
         "germline_alignment_heavy": "CAGGTGCAGCTGGTGCAGTCTGGGGCTGAGGTGAAGAAGCCTGGGGCCTCAGTGAAGGTTTCCTGCAAGGCATCTGGATACACCTTCACCAGCTACTATATGCACTGGGTGCGACAGGCCCCTGGACAAGGGCTTGAGTGGATGGGAATAATCAACCCTAGTGGTGGTAGCACAAGCTACGCACAGAAGTTGCAGGGCAGAGTCACCATGACCAGGGACACGTCCACGAGCACAGTCTACATGGAGCTGAGCAGCCTGAGATCTGAGGACACGGCCGTGTATTACTGTGCGAGAGANNNNNNNTACTATGATAGTAGTGGTTATTACNNTGATGCTTTTGATATCTGGGGCCAAGGGACAATGGTCACCGTCTCTTCAG",
         "germline_alignment_light": "CAGTCTGCCCTGACTCAGCCTGCCTCCGTGTCTGGGTCTCCTGGACAGTCGATCACCATCTCCTGCACTGGAACCAGCAGTGATGTTGGGAGTTATAACCTTGTCTCCTGGTACCAACAGCACCCAGGCAAAGCCCCCAAACTCATGATTTATGAGGGCAGTAAGCGGCCCTCAGGGGTTTCTAATCGCTTCTCTGGCTCCAAGTCTGGCAACACGGCCTCCCTGACAATCTCTGGGCTCCAGGCTGAGGACGAGGCTGATTATTACTGCTGCTCATATGCAGGTAGTAGCACTTTGGTGTTCGGCGGAGGGACCAAGCTGACCGTCCTAG",
         "j_alignment_end_heavy": "379.0",
         "j_alignment_end_light": "331.0",
         "j_alignment_start_heavy": "330.0",
         "j_alignment_start_light": "297.0",
         "j_call_heavy": "IGHJ3*02",
         "j_call_light": "IGLJ3*02",
         "j_cigar_heavy": "447S50M71S",
         "j_cigar_light": "391S3N35M211S",
         "j_germline_alignment_aa_heavy": "DAFDIWGQGTMVTVSS",
         "j_germline_alignment_aa_light": "VFGGGTKLTVL",
         "j_germline_alignment_heavy": "TGATGCTTTTGATATCTGGGGCCAAGGGACAATGGTCACCGTCTCTTCAG",
         "j_germline_alignment_light": "GGTGTTCGGCGGAGGGACCAAGCTGACCGTCCTAG",
         "j_germline_end_heavy": "50.0",
         "j_germline_end_light": "38.0",
         "j_germline_start_heavy": "1.0",
         "j_germline_start_light": "4.0",
         "j_identity_heavy": "94.0",
         "j_identity_light": "100.0",
         "j_score_heavy": "79.518",
         "j_score_light": "67.981",
         "j_sequence_alignment_aa_heavy": "DALHIWGQGTMVTVSS",
         "j_sequence_alignment_aa_light": "VFGGGTKLTVL",
         "j_sequence_alignment_heavy": "TGATGCCCTTCATATCTGGGGCCAAGGGACAATGGTCACCGTCTCTTCAG",
         "j_sequence_alignment_light": "GGTGTTCGGCGGAGGGACCAAGCTGACCGTCCTAG",
         "j_sequence_end_heavy": "497.0",
         "j_sequence_end_light": "426.0",
         "j_sequence_start_heavy": "448.0",
         "j_sequence_start_light": "392.0",
         "j_support_heavy": "6.392e-19",
         "j_support_light": "2.133e-15",
         "junction_aa_heavy": "CARDQGYYDSSGYYLDALHIW",
         "junction_aa_length_heavy": "21.0",
         "junction_aa_length_light": "12.0",
         "junction_aa_light": "CCSYAGSDTLVF",
         "junction_heavy": "TGTGCAAGAGATCAAGGCTACTATGATAGTAGTGGTTATTACCTTGATGCCCTTCATATCTGG",
         "junction_length_heavy": "63.0",
         "junction_length_light": "36.0",
         "junction_light": "TGCTGCTCATATGCAGGTAGTGACACTTTGGTGTTC",
         "locus_heavy": "H",
         "locus_light": "L",
         "np1_heavy": "TCAAGGC",
         "np1_length_heavy": "7.0",
         "np1_length_light": "0.0",
         "np1_light": "nan",
         "np2_heavy": "CT",
         "np2_length_heavy": "2.0",
         "np2_length_light": "nan",
         "np2_light": "nan",
         "productive_heavy": "T",
         "productive_light": "T",
         "rev_comp_heavy": "F",
         "rev_comp_light": "F",
         "sequence_alignment_aa_heavy": "QVQLVQSGAEVKKPGASVKVSCKASGYTFISYYIHWVRQAPGQGLEWMGIINPSDGSTTYAQKLQGRVTMTRDTSTSTVNLELSSLRSEDTAVYYCARDQGYYDSSGYYLDALHIWGQGTMVTVSS",
         "sequence_alignment_aa_light": "QSALTQPASVSGSPGQSITISCTGTSSDVGSYNLVSWYQQHPGKAPKLMIYEGSKRPSGVSNRFSGSRSGNTASLTISGLQAEDEADYYCCSYAGSDTLVFGGGTKLTVL",
         "sequence_alignment_heavy": "CAGGTGCAGCTGGTGCAGTCTGGGGCTGAGGTGAAGAAGCCTGGGGCCTCAGTGAAGGTTTCCTGCAAGGCATCTGGATACACATTCATCAGTTACTATATACACTGGGTGCGACAGGCCCCTGGACAAGGACTTGAGTGGATGGGAATAATTAACCCTAGTGATGGTAGCACAACCTACGCACAGAAGTTGCAGGGCAGAGTCACCATGACCAGGGACACGTCCACGAGCACAGTCAATTTGGAGCTGAGCAGCCTGAGATCTGAGGACACGGCCGTGTATTACTGTGCAAGAGATCAAGGCTACTATGATAGTAGTGGTTATTACCTTGATGCCCTTCATATCTGGGGCCAAGGGACAATGGTCACCGTCTCTTCAG",
         "sequence_alignment_light": "CAGTCTGCCCTGACTCAGCCTGCCTCCGTGTCTGGGTCTCCTGGACAGTCGATCACCATCTCCTGCACTGGAACCAGCAGTGATGTTGGGAGTTATAACCTTGTCTCCTGGTACCAACAACACCCAGGCAAAGCCCCCAAACTCATGATTTATGAGGGCAGTAAGCGGCCCTCAGGGGTTTCTAATCGCTTCTCTGGCTCCAGGTCTGGCAACACGGCCTCCCTGACAATCTCTGGGCTCCAGGCTGAGGACGAGGCTGATTATTACTGCTGCTCATATGCAGGTAGTGACACTTTGGTGTTCGGCGGAGGGACCAAGCTGACCGTCCTAG",
         "sequence_heavy": "AGCATCATCCAACAACCACATCCCTTCTCTACAGAAGCCTCTGAGAGGAAAGTTCTTCACCATGGACTGGACCTGGAGGGTCTTCTGCTTGCTGGCTGTAGCTCCAGGTGCTCACTCCCAGGTGCAGCTGGTGCAGTCTGGGGCTGAGGTGAAGAAGCCTGGGGCCTCAGTGAAGGTTTCCTGCAAGGCATCTGGATACACATTCATCAGTTACTATATACACTGGGTGCGACAGGCCCCTGGACAAGGACTTGAGTGGATGGGAATAATTAACCCTAGTGATGGTAGCACAACCTACGCACAGAAGTTGCAGGGCAGAGTCACCATGACCAGGGACACGTCCACGAGCACAGTCAATTTGGAGCTGAGCAGCCTGAGATCTGAGGACACGGCCGTGTATTACTGTGCAAGAGATCAAGGCTACTATGATAGTAGTGGTTATTACCTTGATGCCCTTCATATCTGGGGCCAAGGGACAATGGTCACCGTCTCTTCAGGGAGTGCATCCGCCCCAACCCTTTTCCCCCTCGTCTCCTGTGAGAATTCCCCGTCGGATACGAGCAGCGTG",
         "sequence_id_heavy": "GTACTTTGTCTTCAAG-1_contig_1",
         "sequence_id_light": "GTACTTTGTCTTCAAG-1_contig_2",
         "sequence_light": "GGGGTCACAAGAGGCAGCGCTCTCGGGACGTCTCCACCATGGCCTGGGCTCTGCTGCTCCTCACTCTCCTCACTCAGGACACAGGGTCCTGGGCCCAGTCTGCCCTGACTCAGCCTGCCTCCGTGTCTGGGTCTCCTGGACAGTCGATCACCATCTCCTGCACTGGAACCAGCAGTGATGTTGGGAGTTATAACCTTGTCTCCTGGTACCAACAACACCCAGGCAAAGCCCCCAAACTCATGATTTATGAGGGCAGTAAGCGGCCCTCAGGGGTTTCTAATCGCTTCTCTGGCTCCAGGTCTGGCAACACGGCCTCCCTGACAATCTCTGGGCTCCAGGCTGAGGACGAGGCTGATTATTACTGCTGCTCATATGCAGGTAGTGACACTTTGGTGTTCGGCGGAGGGACCAAGCTGACCGTCCTAGGTCAGCCCAAGGCTGCCCCCTCGGTCACTCTGTTCCCGCCCTCCTCTGAGGAGCTTCAAGCCAACAAGGCCACACTGGTGTGTCTCATAAGTGACTTCTACCCGGGAGCCGTGACAGTGGCCTGGAAGGCAGATAGCAGCCCCGTCAAGGCGGGAGTGGAGACCACCACACCCTCCAAACAAAGCAACAACAAGTACGCGGCCAGCAGCTA",
         "stop_codon_heavy": "F",
         "stop_codon_light": "F",
         "v_alignment_end_heavy": "296.0",
         "v_alignment_end_light": "296.0",
         "v_alignment_start_heavy": "1.0",
         "v_alignment_start_light": "1.0",
         "v_call_heavy": "IGHV1-46*04",
         "v_call_light": "IGLV2-23*01",
         "v_cigar_heavy": "118S296M154S",
         "v_cigar_light": "95S296M246S2N",
         "v_frameshift_heavy": "F",
         "v_frameshift_light": "F",
         "v_germline_alignment_aa_heavy": "QVQLVQSGAEVKKPGASVKVSCKASGYTFTSYYMHWVRQAPGQGLEWMGIINPSGGSTSYAQKLQGRVTMTRDTSTSTVYMELSSLRSEDTAVYYCAR",
         "v_germline_alignment_aa_light": "QSALTQPASVSGSPGQSITISCTGTSSDVGSYNLVSWYQQHPGKAPKLMIYEGSKRPSGVSNRFSGSKSGNTASLTISGLQAEDEADYYCCSYAGSST",
         "v_germline_alignment_heavy": "CAGGTGCAGCTGGTGCAGTCTGGGGCTGAGGTGAAGAAGCCTGGGGCCTCAGTGAAGGTTTCCTGCAAGGCATCTGGATACACCTTCACCAGCTACTATATGCACTGGGTGCGACAGGCCCCTGGACAAGGGCTTGAGTGGATGGGAATAATCAACCCTAGTGGTGGTAGCACAAGCTACGCACAGAAGTTGCAGGGCAGAGTCACCATGACCAGGGACACGTCCACGAGCACAGTCTACATGGAGCTGAGCAGCCTGAGATCTGAGGACACGGCCGTGTATTACTGTGCGAGAGA",
         "v_germline_alignment_light": "CAGTCTGCCCTGACTCAGCCTGCCTCCGTGTCTGGGTCTCCTGGACAGTCGATCACCATCTCCTGCACTGGAACCAGCAGTGATGTTGGGAGTTATAACCTTGTCTCCTGGTACCAACAGCACCCAGGCAAAGCCCCCAAACTCATGATTTATGAGGGCAGTAAGCGGCCCTCAGGGGTTTCTAATCGCTTCTCTGGCTCCAAGTCTGGCAACACGGCCTCCCTGACAATCTCTGGGCTCCAGGCTGAGGACGAGGCTGATTATTACTGCTGCTCATATGCAGGTAGTAGCACTTT",
         "v_germline_end_heavy": "296.0",
         "v_germline_end_light": "296.0",
         "v_germline_start_heavy": "1.0",
         "v_germline_start_light": "1.0",
         "v_identity_heavy": "95.946",
         "v_identity_light": "98.649",
         "v_score_heavy": "425.643",
         "v_score_light": "450.572",
         "v_sequence_alignment_aa_heavy": "QVQLVQSGAEVKKPGASVKVSCKASGYTFISYYIHWVRQAPGQGLEWMGIINPSDGSTTYAQKLQGRVTMTRDTSTSTVNLELSSLRSEDTAVYYCAR",
         "v_sequence_alignment_aa_light": "QSALTQPASVSGSPGQSITISCTGTSSDVGSYNLVSWYQQHPGKAPKLMIYEGSKRPSGVSNRFSGSRSGNTASLTISGLQAEDEADYYCCSYAGSDT",
         "v_sequence_alignment_heavy": "CAGGTGCAGCTGGTGCAGTCTGGGGCTGAGGTGAAGAAGCCTGGGGCCTCAGTGAAGGTTTCCTGCAAGGCATCTGGATACACATTCATCAGTTACTATATACACTGGGTGCGACAGGCCCCTGGACAAGGACTTGAGTGGATGGGAATAATTAACCCTAGTGATGGTAGCACAACCTACGCACAGAAGTTGCAGGGCAGAGTCACCATGACCAGGGACACGTCCACGAGCACAGTCAATTTGGAGCTGAGCAGCCTGAGATCTGAGGACACGGCCGTGTATTACTGTGCAAGAGA",
         "v_sequence_alignment_light": "CAGTCTGCCCTGACTCAGCCTGCCTCCGTGTCTGGGTCTCCTGGACAGTCGATCACCATCTCCTGCACTGGAACCAGCAGTGATGTTGGGAGTTATAACCTTGTCTCCTGGTACCAACAACACCCAGGCAAAGCCCCCAAACTCATGATTTATGAGGGCAGTAAGCGGCCCTCAGGGGTTTCTAATCGCTTCTCTGGCTCCAGGTCTGGCAACACGGCCTCCCTGACAATCTCTGGGCTCCAGGCTGAGGACGAGGCTGATTATTACTGCTGCTCATATGCAGGTAGTGACACTTT",
         "v_sequence_end_heavy": "414.0",
         "v_sequence_end_light": "391.0",
         "v_sequence_start_heavy": "119.0",
         "v_sequence_start_light": "96.0",
         "v_support_heavy": "4.901e-121",
         "v_support_light": "1.7200000000000002e-128",
         "vj_in_frame_heavy": "T",
         "vj_in_frame_light": "T"
        },
        {
         "ANARCI_numbering_heavy": "{'fwh1': {'1 ': 'Q', '2 ': 'V', '3 ': 'Q', '4 ': 'L', '5 ': 'V', '6 ': 'Q', '7 ': 'S', '8 ': 'G', '9 ': 'A', '11 ': 'E', '12 ': 'V', '13 ': 'K', '14 ': 'K', '15 ': 'P', '16 ': 'G', '17 ': 'A', '18 ': 'S', '19 ': 'V', '20 ': 'K', '21 ': 'V', '22 ': 'S', '23 ': 'C', '24 ': 'K', '25 ': 'A', '26 ': 'S'}, 'cdrh1': {'27 ': 'G', '28 ': 'Y', '29 ': 'T', '30 ': 'F', '35 ': 'T', '36 ': 'S', '37 ': 'Y', '38 ': 'G'}, 'fwh2': {'39 ': 'I', '40 ': 'S', '41 ': 'W', '42 ': 'V', '43 ': 'R', '44 ': 'Q', '45 ': 'A', '46 ': 'P', '47 ': 'G', '48 ': 'Q', '49 ': 'G', '50 ': 'L', '51 ': 'E', '52 ': 'W', '53 ': 'M', '54 ': 'G', '55 ': 'W'}, 'cdrh2': {'56 ': 'I', '57 ': 'S', '58 ': 'A', '59 ': 'Y', '62 ': 'N', '63 ': 'G', '64 ': 'N', '65 ': 'T'}, 'fwh3': {'66 ': 'N', '67 ': 'Y', '68 ': 'A', '69 ': 'Q', '70 ': 'K', '71 ': 'L', '72 ': 'Q', '74 ': 'G', '75 ': 'R', '76 ': 'V', '77 ': 'T', '78 ': 'M', '79 ': 'T', '80 ': 'T', '81 ': 'D', '82 ': 'T', '83 ': 'S', '84 ': 'T', '85 ': 'S', '86 ': 'T', '87 ': 'A', '88 ': '…",
         "ANARCI_numbering_light": "{'fwk1': {'1 ': 'D', '2 ': 'I', '3 ': 'V', '4 ': 'M', '5 ': 'T', '6 ': 'Q', '7 ': 'T', '8 ': 'P', '9 ': 'L', '10 ': 'S', '11 ': 'L', '12 ': 'S', '13 ': 'V', '14 ': 'T', '15 ': 'P', '16 ': 'G', '17 ': 'Q', '18 ': 'P', '19 ': 'A', '20 ': 'S', '21 ': 'I', '22 ': 'S', '23 ': 'C', '24 ': 'K', '25 ': 'S', '26 ': 'S'}, 'cdrk1': {'27 ': 'Q', '28 ': 'S', '29 ': 'L', '30 ': 'L', '31 ': 'H', '32 ': 'S', '34 ': 'D', '35 ': 'G', '36 ': 'K', '37 ': 'T', '38 ': 'Y'}, 'fwk2': {'39 ': 'L', '40 ': 'Y', '41 ': 'W', '42 ': 'Y', '43 ': 'L', '44 ': 'Q', '45 ': 'K', '46 ': 'P', '47 ': 'G', '48 ': 'Q', '49 ': 'S', '50 ': 'P', '51 ': 'Q', '52 ': 'L', '53 ': 'L', '54 ': 'I', '55 ': 'Y'}, 'cdrk2': {'56 ': 'E', '57 ': 'V', '65 ': 'S'}, 'fwk3': {'66 ': 'S', '67 ': 'R', '68 ': 'F', '69 ': 'S', '70 ': 'G', '71 ': 'V', '72 ': 'P', '74 ': 'D', '75 ': 'R', '76 ': 'F', '77 ': 'S', '78 ': 'G', '79 ': 'S', '80 ': 'G', '83 ': 'S', '84 ': 'G', '85 ': 'T', '86 ': 'D', '87 ': 'F', '88 ': 'T', '89 ': 'L', '90 ': 'K', '91 ': '…",
         "ANARCI_status_heavy": "|Deletions: 10, 73||||",
         "ANARCI_status_light": "|||||",
         "Isotype_heavy": "IGHM",
         "Isotype_light": "Bulk",
         "Redundancy_heavy": "1.0",
         "Redundancy_light": "1.0",
         "_deepnote_index_column": "29",
         "c_region_heavy": "GGAGTGCATCCGCCCCAACCCTTTTCCCCCTCGTCTCCTGTGAGAATTCCCCGTCGGATACGAGCAGCGTG",
         "c_region_light": "GAACTGTGGCTGCACCATCTGTCTTCATCTTCCCGCCATCTGATGAGCAGTTGAAATCTGGAACTGCCTCTGTTGTGTGCCTGCTGAATAACTTCTATCCCAGAGAGGCCAAAGTACAGTGGAAGGTGGATAACGC",
         "cdr1_aa_heavy": "GYTFTSYG",
         "cdr1_aa_light": "QSLLHSDGKTY",
         "cdr1_end_heavy": "215.0",
         "cdr1_end_light": "201.0",
         "cdr1_heavy": "GGTTACACCTTTACCAGCTATGGT",
         "cdr1_light": "CAGAGCCTCCTGCATAGTGATGGAAAGACCTAT",
         "cdr1_start_heavy": "192.0",
         "cdr1_start_light": "169.0",
         "cdr2_aa_heavy": "ISAYNGNT",
         "cdr2_aa_light": "EVS",
         "cdr2_end_heavy": "290.0",
         "cdr2_end_light": "261.0",
         "cdr2_heavy": "ATCAGCGCTTACAATGGTAACACA",
         "cdr2_light": "GAAGTTTCC",
         "cdr2_start_heavy": "267.0",
         "cdr2_start_light": "253.0",
         "cdr3_aa_heavy": "ARDSGRYDFWSGYNDY",
         "cdr3_aa_light": "MQGIHLRT",
         "cdr3_end_heavy": "452.0",
         "cdr3_end_light": "393.0",
         "cdr3_heavy": "GCGAGAGATAGTGGGCGTTACGATTTTTGGAGTGGTTATAATGACTAC",
         "cdr3_light": "ATGCAAGGTATACACCTTCGGACG",
         "cdr3_start_heavy": "405.0",
         "cdr3_start_light": "370.0",
         "complete_vdj_heavy": "T",
         "complete_vdj_light": "T",
         "d_alignment_end_heavy": "327.0",
         "d_alignment_end_light": "nan",
         "d_alignment_start_heavy": "306.0",
         "d_alignment_start_light": "nan",
         "d_call_heavy": "IGHD3-3*01",
         "d_call_light": "nan",
         "d_cigar_heavy": "421S3N22M114S6N",
         "d_cigar_light": "nan",
         "d_germline_alignment_aa_heavy": "YDFWSGY",
         "d_germline_alignment_aa_light": "nan",
         "d_germline_alignment_heavy": "TTACGATTTTTGGAGTGGTTAT",
         "d_germline_alignment_light": "nan",
         "d_germline_end_heavy": "25.0",
         "d_germline_end_light": "nan",
         "d_germline_start_heavy": "4.0",
         "d_germline_start_light": "nan",
         "d_identity_heavy": "100.0",
         "d_identity_light": "nan",
         "d_score_heavy": "42.986",
         "d_score_light": "nan",
         "d_sequence_alignment_aa_heavy": "YDFWSGY",
         "d_sequence_alignment_aa_light": "nan",
         "d_sequence_alignment_heavy": "TTACGATTTTTGGAGTGGTTAT",
         "d_sequence_alignment_light": "nan",
         "d_sequence_end_heavy": "443.0",
         "d_sequence_end_light": "nan",
         "d_sequence_start_heavy": "422.0",
         "d_sequence_start_light": "nan",
         "d_support_heavy": "2.862e-08",
         "d_support_light": "nan",
         "fwr1_aa_heavy": "QVQLVQSGAEVKKPGASVKVSCKAS",
         "fwr1_aa_light": "DIVMTQTPLSLSVTPGQPASISCKSS",
         "fwr1_end_heavy": "191.0",
         "fwr1_end_light": "168.0",
         "fwr1_heavy": "CAGGTTCAGCTGGTGCAGTCTGGAGCTGAGGTGAAGAAGCCTGGGGCCTCAGTGAAGGTCTCCTGCAAGGCTTCT",
         "fwr1_light": "GATATTGTGATGACCCAGACTCCACTCTCTCTGTCCGTCACCCCTGGACAGCCGGCCTCCATCTCCTGCAAGTCTAGT",
         "fwr1_start_heavy": "117.0",
         "fwr1_start_light": "91.0",
         "fwr2_aa_heavy": "ISWVRQAPGQGLEWMGW",
         "fwr2_aa_light": "LYWYLQKPGQSPQLLIY",
         "fwr2_end_heavy": "266.0",
         "fwr2_end_light": "252.0",
         "fwr2_heavy": "ATCAGCTGGGTGCGACAGGCCCCTGGACAAGGGCTTGAGTGGATGGGATGG",
         "fwr2_light": "TTGTATTGGTACCTGCAGAAGCCAGGCCAGTCTCCACAGCTCCTAATCTAT",
         "fwr2_start_heavy": "216.0",
         "fwr2_start_light": "202.0",
         "fwr3_aa_heavy": "NYAQKLQGRVTMTTDTSTSTAYMELRSLRSDDTAVYYC",
         "fwr3_aa_light": "SRFSGVPDRFSGSGSGTDFTLKISRVEAEDVGVYYC",
         "fwr3_end_heavy": "404.0",
         "fwr3_end_light": "369.0",
         "fwr3_heavy": "AACTATGCACAGAAGCTCCAGGGCAGAGTCACCATGACCACAGACACATCCACGAGCACAGCCTACATGGAGCTGAGGAGCCTGAGATCTGACGACACGGCCGTGTATTACTGT",
         "fwr3_light": "AGCCGGTTCTCTGGAGTGCCAGATAGGTTCAGTGGCAGCGGGTCAGGGACAGATTTCACACTGAAAATCAGCCGGGTGGAGGCTGAGGATGTTGGGGTTTATTACTGC",
         "fwr3_start_heavy": "291.0",
         "fwr3_start_light": "262.0",
         "fwr4_aa_heavy": "WGQGTLVTVSS",
         "fwr4_aa_light": "FGQGTKVEIK",
         "fwr4_end_heavy": "485.0",
         "fwr4_end_light": "423.0",
         "fwr4_heavy": "TGGGGCCAGGGAACCCTGGTCACCGTCTCCTCA",
         "fwr4_light": "TTCGGCCAAGGGACCAAGGTGGAAATCAAA",
         "fwr4_start_heavy": "453.0",
         "fwr4_start_light": "394.0",
         "germline_alignment_aa_heavy": "QVQLVQSGAEVKKPGASVKVSCKASGYTFTSYGISWVRQAPGQGLEWMGWISAYNGNTNYAQKLQGRVTMTTDTSTSTAYMELRSLRSDDTAVYYCARXXXXYDFWSGYXDYWGQGTLVTVSS",
         "germline_alignment_aa_light": "DIVMTQTPLSLSVTPGQPASISCKSSQSLLHSDGKTYLYWYLQKPGQSPQLLIYEVSSRFSGVPDRFSGSGSGTDFTLKISRVEAEDVGVYYCMQGIHLRTFGQGTKVEIK",
         "germline_alignment_heavy": "CAGGTTCAGCTGGTGCAGTCTGGAGCTGAGGTGAAGAAGCCTGGGGCCTCAGTGAAGGTCTCCTGCAAGGCTTCTGGTTACACCTTTACCAGCTATGGTATCAGCTGGGTGCGACAGGCCCCTGGACAAGGGCTTGAGTGGATGGGATGGATCAGCGCTTACAATGGTAACACAAACTATGCACAGAAGCTCCAGGGCAGAGTCACCATGACCACAGACACATCCACGAGCACAGCCTACATGGAGCTGAGGAGCCTGAGATCTGACGACACGGCCGTGTATTACTGTGCGAGAGANNNNNNNNNTTACGATTTTTGGAGTGGTTATNNTGACTACTGGGGCCAGGGAACCCTGGTCACCGTCTCCTCAG",
         "germline_alignment_light": "GATATTGTGATGACCCAGACTCCACTCTCTCTGTCCGTCACCCCTGGACAGCCGGCCTCCATCTCCTGCAAGTCTAGTCAGAGCCTCCTGCATAGTGATGGAAAGACCTATTTGTATTGGTACCTGCAGAAGCCAGGCCAGTCTCCACAGCTCCTAATCTATGAAGTTTCCAGCCGGTTCTCTGGAGTGCCAGATAGGTTCAGTGGCAGCGGGTCAGGGACAGATTTCACACTGAAAATCAGCCGGGTGGAGGCTGAGGATGTTGGGGTTTATTACTGCATGCAAGGTATACACCTTCGGACGTTCGGCCAAGGGACCAAGGTGGAAATCAAAC",
         "j_alignment_end_heavy": "370.0",
         "j_alignment_end_light": "334.0",
         "j_alignment_start_heavy": "330.0",
         "j_alignment_start_light": "299.0",
         "j_call_heavy": "IGHJ4*02",
         "j_call_light": "IGKJ1*01",
         "j_cigar_heavy": "445S7N41M71S",
         "j_cigar_light": "388S2N36M136S",
         "j_germline_alignment_aa_heavy": "DYWGQGTLVTVSS",
         "j_germline_alignment_aa_light": "TFGQGTKVEIK",
         "j_germline_alignment_heavy": "TGACTACTGGGGCCAGGGAACCCTGGTCACCGTCTCCTCAG",
         "j_germline_alignment_light": "GGACGTTCGGCCAAGGGACCAAGGTGGAAATCAAAC",
         "j_germline_end_heavy": "48.0",
         "j_germline_end_light": "38.0",
         "j_germline_start_heavy": "8.0",
         "j_germline_start_light": "3.0",
         "j_identity_heavy": "100.0",
         "j_identity_light": "100.0",
         "j_score_heavy": "79.518",
         "j_score_light": "69.904",
         "j_sequence_alignment_aa_heavy": "DYWGQGTLVTVSS",
         "j_sequence_alignment_aa_light": "TFGQGTKVEIK",
         "j_sequence_alignment_heavy": "TGACTACTGGGGCCAGGGAACCCTGGTCACCGTCTCCTCAG",
         "j_sequence_alignment_light": "GGACGTTCGGCCAAGGGACCAAGGTGGAAATCAAAC",
         "j_sequence_end_heavy": "486.0",
         "j_sequence_end_light": "424.0",
         "j_sequence_start_heavy": "446.0",
         "j_sequence_start_light": "389.0",
         "j_support_heavy": "6.266e-19",
         "j_support_light": "4.935e-16",
         "junction_aa_heavy": "CARDSGRYDFWSGYNDYW",
         "junction_aa_length_heavy": "18.0",
         "junction_aa_length_light": "10.0",
         "junction_aa_light": "CMQGIHLRTF",
         "junction_heavy": "TGTGCGAGAGATAGTGGGCGTTACGATTTTTGGAGTGGTTATAATGACTACTGG",
         "junction_length_heavy": "54.0",
         "junction_length_light": "30.0",
         "junction_light": "TGCATGCAAGGTATACACCTTCGGACGTTC",
         "locus_heavy": "H",
         "locus_light": "K",
         "np1_heavy": "TAGTGGGCG",
         "np1_length_heavy": "9.0",
         "np1_length_light": "0.0",
         "np1_light": "nan",
         "np2_heavy": "AA",
         "np2_length_heavy": "2.0",
         "np2_length_light": "nan",
         "np2_light": "nan",
         "productive_heavy": "T",
         "productive_light": "T",
         "rev_comp_heavy": "F",
         "rev_comp_light": "F",
         "sequence_alignment_aa_heavy": "QVQLVQSGAEVKKPGASVKVSCKASGYTFTSYGISWVRQAPGQGLEWMGWISAYNGNTNYAQKLQGRVTMTTDTSTSTAYMELRSLRSDDTAVYYCARDSGRYDFWSGYNDYWGQGTLVTVSS",
         "sequence_alignment_aa_light": "DIVMTQTPLSLSVTPGQPASISCKSSQSLLHSDGKTYLYWYLQKPGQSPQLLIYEVSSRFSGVPDRFSGSGSGTDFTLKISRVEAEDVGVYYCMQGIHLRTFGQGTKVEIK",
         "sequence_alignment_heavy": "CAGGTTCAGCTGGTGCAGTCTGGAGCTGAGGTGAAGAAGCCTGGGGCCTCAGTGAAGGTCTCCTGCAAGGCTTCTGGTTACACCTTTACCAGCTATGGTATCAGCTGGGTGCGACAGGCCCCTGGACAAGGGCTTGAGTGGATGGGATGGATCAGCGCTTACAATGGTAACACAAACTATGCACAGAAGCTCCAGGGCAGAGTCACCATGACCACAGACACATCCACGAGCACAGCCTACATGGAGCTGAGGAGCCTGAGATCTGACGACACGGCCGTGTATTACTGTGCGAGAGATAGTGGGCGTTACGATTTTTGGAGTGGTTATAATGACTACTGGGGCCAGGGAACCCTGGTCACCGTCTCCTCAG",
         "sequence_alignment_light": "GATATTGTGATGACCCAGACTCCACTCTCTCTGTCCGTCACCCCTGGACAGCCGGCCTCCATCTCCTGCAAGTCTAGTCAGAGCCTCCTGCATAGTGATGGAAAGACCTATTTGTATTGGTACCTGCAGAAGCCAGGCCAGTCTCCACAGCTCCTAATCTATGAAGTTTCCAGCCGGTTCTCTGGAGTGCCAGATAGGTTCAGTGGCAGCGGGTCAGGGACAGATTTCACACTGAAAATCAGCCGGGTGGAGGCTGAGGATGTTGGGGTTTATTACTGCATGCAAGGTATACACCTTCGGACGTTCGGCCAAGGGACCAAGGTGGAAATCAAAC",
         "sequence_heavy": "GGGGGACCCAAAAACCACACCCCTCCTTGGGAGAATCCCCTAGATCACAGCTCCTCACCATGGACTGGACCTGGAGCATCCTTTTCTTGGTGGCAGCAGCAACAGGTGCCCACTCCCAGGTTCAGCTGGTGCAGTCTGGAGCTGAGGTGAAGAAGCCTGGGGCCTCAGTGAAGGTCTCCTGCAAGGCTTCTGGTTACACCTTTACCAGCTATGGTATCAGCTGGGTGCGACAGGCCCCTGGACAAGGGCTTGAGTGGATGGGATGGATCAGCGCTTACAATGGTAACACAAACTATGCACAGAAGCTCCAGGGCAGAGTCACCATGACCACAGACACATCCACGAGCACAGCCTACATGGAGCTGAGGAGCCTGAGATCTGACGACACGGCCGTGTATTACTGTGCGAGAGATAGTGGGCGTTACGATTTTTGGAGTGGTTATAATGACTACTGGGGCCAGGGAACCCTGGTCACCGTCTCCTCAGGGAGTGCATCCGCCCCAACCCTTTTCCCCCTCGTCTCCTGTGAGAATTCCCCGTCGGATACGAGCAGCGTG",
         "sequence_id_heavy": "TACTTGTTCCGTCAAA-1_contig_1",
         "sequence_id_light": "TACTTGTTCCGTCAAA-1_contig_2",
         "sequence_light": "GATCAGGACTTCTCAGTTCATCTTCTCACCATGAGGCTCCCTGCTCAGCTCCTGGGGCTGCTAATGCTCTGGATCCCTGGATCCAGTGCGGATATTGTGATGACCCAGACTCCACTCTCTCTGTCCGTCACCCCTGGACAGCCGGCCTCCATCTCCTGCAAGTCTAGTCAGAGCCTCCTGCATAGTGATGGAAAGACCTATTTGTATTGGTACCTGCAGAAGCCAGGCCAGTCTCCACAGCTCCTAATCTATGAAGTTTCCAGCCGGTTCTCTGGAGTGCCAGATAGGTTCAGTGGCAGCGGGTCAGGGACAGATTTCACACTGAAAATCAGCCGGGTGGAGGCTGAGGATGTTGGGGTTTATTACTGCATGCAAGGTATACACCTTCGGACGTTCGGCCAAGGGACCAAGGTGGAAATCAAACGAACTGTGGCTGCACCATCTGTCTTCATCTTCCCGCCATCTGATGAGCAGTTGAAATCTGGAACTGCCTCTGTTGTGTGCCTGCTGAATAACTTCTATCCCAGAGAGGCCAAAGTACAGTGGAAGGTGGATAACGC",
         "stop_codon_heavy": "F",
         "stop_codon_light": "F",
         "v_alignment_end_heavy": "296.0",
         "v_alignment_end_light": "298.0",
         "v_alignment_start_heavy": "1.0",
         "v_alignment_start_light": "1.0",
         "v_call_heavy": "IGHV1-18*01",
         "v_call_light": "IGKV2-29*02",
         "v_cigar_heavy": "116S296M145S",
         "v_cigar_light": "90S298M172S4N",
         "v_frameshift_heavy": "F",
         "v_frameshift_light": "F",
         "v_germline_alignment_aa_heavy": "QVQLVQSGAEVKKPGASVKVSCKASGYTFTSYGISWVRQAPGQGLEWMGWISAYNGNTNYAQKLQGRVTMTTDTSTSTAYMELRSLRSDDTAVYYCAR",
         "v_germline_alignment_aa_light": "DIVMTQTPLSLSVTPGQPASISCKSSQSLLHSDGKTYLYWYLQKPGQSPQLLIYEVSSRFSGVPDRFSGSGSGTDFTLKISRVEAEDVGVYYCMQGIHL",
         "v_germline_alignment_heavy": "CAGGTTCAGCTGGTGCAGTCTGGAGCTGAGGTGAAGAAGCCTGGGGCCTCAGTGAAGGTCTCCTGCAAGGCTTCTGGTTACACCTTTACCAGCTATGGTATCAGCTGGGTGCGACAGGCCCCTGGACAAGGGCTTGAGTGGATGGGATGGATCAGCGCTTACAATGGTAACACAAACTATGCACAGAAGCTCCAGGGCAGAGTCACCATGACCACAGACACATCCACGAGCACAGCCTACATGGAGCTGAGGAGCCTGAGATCTGACGACACGGCCGTGTATTACTGTGCGAGAGA",
         "v_germline_alignment_light": "GATATTGTGATGACCCAGACTCCACTCTCTCTGTCCGTCACCCCTGGACAGCCGGCCTCCATCTCCTGCAAGTCTAGTCAGAGCCTCCTGCATAGTGATGGAAAGACCTATTTGTATTGGTACCTGCAGAAGCCAGGCCAGTCTCCACAGCTCCTAATCTATGAAGTTTCCAGCCGGTTCTCTGGAGTGCCAGATAGGTTCAGTGGCAGCGGGTCAGGGACAGATTTCACACTGAAAATCAGCCGGGTGGAGGCTGAGGATGTTGGGGTTTATTACTGCATGCAAGGTATACACCTTC",
         "v_germline_end_heavy": "296.0",
         "v_germline_end_light": "298.0",
         "v_germline_start_heavy": "1.0",
         "v_germline_start_light": "1.0",
         "v_identity_heavy": "100.0",
         "v_identity_light": "100.0",
         "v_score_heavy": "463.037",
         "v_score_light": "466.153",
         "v_sequence_alignment_aa_heavy": "QVQLVQSGAEVKKPGASVKVSCKASGYTFTSYGISWVRQAPGQGLEWMGWISAYNGNTNYAQKLQGRVTMTTDTSTSTAYMELRSLRSDDTAVYYCAR",
         "v_sequence_alignment_aa_light": "DIVMTQTPLSLSVTPGQPASISCKSSQSLLHSDGKTYLYWYLQKPGQSPQLLIYEVSSRFSGVPDRFSGSGSGTDFTLKISRVEAEDVGVYYCMQGIHL",
         "v_sequence_alignment_heavy": "CAGGTTCAGCTGGTGCAGTCTGGAGCTGAGGTGAAGAAGCCTGGGGCCTCAGTGAAGGTCTCCTGCAAGGCTTCTGGTTACACCTTTACCAGCTATGGTATCAGCTGGGTGCGACAGGCCCCTGGACAAGGGCTTGAGTGGATGGGATGGATCAGCGCTTACAATGGTAACACAAACTATGCACAGAAGCTCCAGGGCAGAGTCACCATGACCACAGACACATCCACGAGCACAGCCTACATGGAGCTGAGGAGCCTGAGATCTGACGACACGGCCGTGTATTACTGTGCGAGAGA",
         "v_sequence_alignment_light": "GATATTGTGATGACCCAGACTCCACTCTCTCTGTCCGTCACCCCTGGACAGCCGGCCTCCATCTCCTGCAAGTCTAGTCAGAGCCTCCTGCATAGTGATGGAAAGACCTATTTGTATTGGTACCTGCAGAAGCCAGGCCAGTCTCCACAGCTCCTAATCTATGAAGTTTCCAGCCGGTTCTCTGGAGTGCCAGATAGGTTCAGTGGCAGCGGGTCAGGGACAGATTTCACACTGAAAATCAGCCGGGTGGAGGCTGAGGATGTTGGGGTTTATTACTGCATGCAAGGTATACACCTTC",
         "v_sequence_end_heavy": "412.0",
         "v_sequence_end_light": "388.0",
         "v_sequence_start_heavy": "117.0",
         "v_sequence_start_light": "91.0",
         "v_support_heavy": "2.657e-132",
         "v_support_light": "3.082e-133",
         "vj_in_frame_heavy": "T",
         "vj_in_frame_light": "T"
        }
       ]
      },
      "text/html": [
       "<div>\n",
       "<style scoped>\n",
       "    .dataframe tbody tr th:only-of-type {\n",
       "        vertical-align: middle;\n",
       "    }\n",
       "\n",
       "    .dataframe tbody tr th {\n",
       "        vertical-align: top;\n",
       "    }\n",
       "\n",
       "    .dataframe thead th {\n",
       "        text-align: right;\n",
       "    }\n",
       "</style>\n",
       "<table border=\"1\" class=\"dataframe\">\n",
       "  <thead>\n",
       "    <tr style=\"text-align: right;\">\n",
       "      <th></th>\n",
       "      <th>sequence_id_heavy</th>\n",
       "      <th>sequence_heavy</th>\n",
       "      <th>locus_heavy</th>\n",
       "      <th>stop_codon_heavy</th>\n",
       "      <th>vj_in_frame_heavy</th>\n",
       "      <th>v_frameshift_heavy</th>\n",
       "      <th>productive_heavy</th>\n",
       "      <th>rev_comp_heavy</th>\n",
       "      <th>complete_vdj_heavy</th>\n",
       "      <th>v_call_heavy</th>\n",
       "      <th>...</th>\n",
       "      <th>cdr3_end_light</th>\n",
       "      <th>np1_light</th>\n",
       "      <th>np1_length_light</th>\n",
       "      <th>np2_light</th>\n",
       "      <th>np2_length_light</th>\n",
       "      <th>c_region_light</th>\n",
       "      <th>Isotype_light</th>\n",
       "      <th>Redundancy_light</th>\n",
       "      <th>ANARCI_numbering_light</th>\n",
       "      <th>ANARCI_status_light</th>\n",
       "    </tr>\n",
       "  </thead>\n",
       "  <tbody>\n",
       "    <tr>\n",
       "      <th>0</th>\n",
       "      <td>GAACGGAAGTAGCCGA-1_contig_1</td>\n",
       "      <td>AGCTCTGAGAGAGGAGCCTTAGCCCTGGATTCCAAGGCCTATCCAC...</td>\n",
       "      <td>H</td>\n",
       "      <td>F</td>\n",
       "      <td>T</td>\n",
       "      <td>F</td>\n",
       "      <td>T</td>\n",
       "      <td>F</td>\n",
       "      <td>T</td>\n",
       "      <td>IGHV3-21*02</td>\n",
       "      <td>...</td>\n",
       "      <td>388.0</td>\n",
       "      <td>TC</td>\n",
       "      <td>2.0</td>\n",
       "      <td>NaN</td>\n",
       "      <td>NaN</td>\n",
       "      <td>GAACTGTGGCTGCACCATCTGTCTTCATCTTCCCGCCATCTGATGA...</td>\n",
       "      <td>Bulk</td>\n",
       "      <td>1.0</td>\n",
       "      <td>{'fwk1': {'1 ': 'D', '2 ': 'I', '3 ': 'Q', '4 ...</td>\n",
       "      <td>|||||</td>\n",
       "    </tr>\n",
       "    <tr>\n",
       "      <th>1</th>\n",
       "      <td>TACTTACTCAACACAC-1_contig_1</td>\n",
       "      <td>ATCATCCAACAACCACATCCCTTCTCTACAGAAGCCTCTGAGAGGA...</td>\n",
       "      <td>H</td>\n",
       "      <td>F</td>\n",
       "      <td>T</td>\n",
       "      <td>F</td>\n",
       "      <td>T</td>\n",
       "      <td>F</td>\n",
       "      <td>T</td>\n",
       "      <td>IGHV1-46*01</td>\n",
       "      <td>...</td>\n",
       "      <td>407.0</td>\n",
       "      <td>NaN</td>\n",
       "      <td>0.0</td>\n",
       "      <td>NaN</td>\n",
       "      <td>NaN</td>\n",
       "      <td>GAACTGTGGCTGCACCATCTGTCTTCATCTTCCCGCCATCTGATGA...</td>\n",
       "      <td>Bulk</td>\n",
       "      <td>1.0</td>\n",
       "      <td>{'fwk1': {'1 ': 'D', '2 ': 'V', '3 ': 'V', '4 ...</td>\n",
       "      <td>|||||</td>\n",
       "    </tr>\n",
       "    <tr>\n",
       "      <th>2</th>\n",
       "      <td>AAGGTTCTCGTAGGAG-1_contig_1</td>\n",
       "      <td>CCACATCCCTCCTCAGAAGCCCCCAGAGCACAACGCCTCACCATGG...</td>\n",
       "      <td>H</td>\n",
       "      <td>F</td>\n",
       "      <td>T</td>\n",
       "      <td>F</td>\n",
       "      <td>T</td>\n",
       "      <td>F</td>\n",
       "      <td>T</td>\n",
       "      <td>IGHV1-3*01</td>\n",
       "      <td>...</td>\n",
       "      <td>387.0</td>\n",
       "      <td>TCTC</td>\n",
       "      <td>4.0</td>\n",
       "      <td>NaN</td>\n",
       "      <td>NaN</td>\n",
       "      <td>GAACTGTGGCTGCACCATCTGTCTTCATCTTCCCGCCATCTGATGA...</td>\n",
       "      <td>Bulk</td>\n",
       "      <td>1.0</td>\n",
       "      <td>{'fwk1': {'1 ': 'D', '2 ': 'I', '3 ': 'Q', '4 ...</td>\n",
       "      <td>|||||</td>\n",
       "    </tr>\n",
       "    <tr>\n",
       "      <th>3</th>\n",
       "      <td>CGTGTAATCCAAATGC-1_contig_2</td>\n",
       "      <td>AGGTCTCAGAGAGGAGCCTTAGCCCTGGACTCCAAGGCCTTTCCAC...</td>\n",
       "      <td>H</td>\n",
       "      <td>F</td>\n",
       "      <td>T</td>\n",
       "      <td>F</td>\n",
       "      <td>T</td>\n",
       "      <td>F</td>\n",
       "      <td>T</td>\n",
       "      <td>IGHV3-7*03</td>\n",
       "      <td>...</td>\n",
       "      <td>399.0</td>\n",
       "      <td>T</td>\n",
       "      <td>1.0</td>\n",
       "      <td>NaN</td>\n",
       "      <td>NaN</td>\n",
       "      <td>GAACTGTGGCTGCACCATCTGTCTTCATCTTCCCGCCATCTGATGA...</td>\n",
       "      <td>Bulk</td>\n",
       "      <td>1.0</td>\n",
       "      <td>{'fwk1': {'1 ': 'D', '2 ': 'I', '3 ': 'V', '4 ...</td>\n",
       "      <td>|||||</td>\n",
       "    </tr>\n",
       "    <tr>\n",
       "      <th>4</th>\n",
       "      <td>TATGCCCCACAACTGT-1_contig_1</td>\n",
       "      <td>TGGGGAGCTCTGGGAGAGGAGCCCCAGCCCTGAGATTCCCAGGTGT...</td>\n",
       "      <td>H</td>\n",
       "      <td>F</td>\n",
       "      <td>T</td>\n",
       "      <td>F</td>\n",
       "      <td>T</td>\n",
       "      <td>F</td>\n",
       "      <td>T</td>\n",
       "      <td>IGHV3-9*01</td>\n",
       "      <td>...</td>\n",
       "      <td>398.0</td>\n",
       "      <td>NaN</td>\n",
       "      <td>0.0</td>\n",
       "      <td>NaN</td>\n",
       "      <td>NaN</td>\n",
       "      <td>GTCAGCCCAAGGCCAACCCCACTGTCACTCTGTTCCCGCCCTCCTC...</td>\n",
       "      <td>Bulk</td>\n",
       "      <td>1.0</td>\n",
       "      <td>{'fwl1': {'1 ': 'Q', '2 ': 'S', '3 ': 'A', '4 ...</td>\n",
       "      <td>|||||</td>\n",
       "    </tr>\n",
       "    <tr>\n",
       "      <th>5</th>\n",
       "      <td>TAGGCATCACCGTTGG-1_contig_2</td>\n",
       "      <td>GAGCTCTGGGAGAGGAGCCCAGCACTAGAAGTCGGCGGTGTTTCCA...</td>\n",
       "      <td>H</td>\n",
       "      <td>F</td>\n",
       "      <td>T</td>\n",
       "      <td>F</td>\n",
       "      <td>T</td>\n",
       "      <td>F</td>\n",
       "      <td>T</td>\n",
       "      <td>IGHV3-33*01</td>\n",
       "      <td>...</td>\n",
       "      <td>384.0</td>\n",
       "      <td>C</td>\n",
       "      <td>1.0</td>\n",
       "      <td>NaN</td>\n",
       "      <td>NaN</td>\n",
       "      <td>GAACTGTGGCTGCACCATCTGTCTTCATCTTCCCGCCATCTGATGA...</td>\n",
       "      <td>Bulk</td>\n",
       "      <td>1.0</td>\n",
       "      <td>{'fwk1': {'1 ': 'D', '2 ': 'I', '3 ': 'Q', '4 ...</td>\n",
       "      <td>|||||</td>\n",
       "    </tr>\n",
       "    <tr>\n",
       "      <th>6</th>\n",
       "      <td>GTTCATTCATGTCTCC-1_contig_2</td>\n",
       "      <td>GAGCTCTGGGAGAGGAGCCCAGCACTAGAAGTCGGCGGTGTTTCCA...</td>\n",
       "      <td>H</td>\n",
       "      <td>F</td>\n",
       "      <td>T</td>\n",
       "      <td>F</td>\n",
       "      <td>T</td>\n",
       "      <td>F</td>\n",
       "      <td>T</td>\n",
       "      <td>IGHV3-33*08</td>\n",
       "      <td>...</td>\n",
       "      <td>385.0</td>\n",
       "      <td>NaN</td>\n",
       "      <td>0.0</td>\n",
       "      <td>NaN</td>\n",
       "      <td>NaN</td>\n",
       "      <td>GAACTGTGGCTGCACCATCTGTCTTCATCTTCCCGCCATCTGATGA...</td>\n",
       "      <td>Bulk</td>\n",
       "      <td>1.0</td>\n",
       "      <td>{'fwk1': {'1 ': 'D', '2 ': 'I', '3 ': 'Q', '4 ...</td>\n",
       "      <td>|||||</td>\n",
       "    </tr>\n",
       "    <tr>\n",
       "      <th>7</th>\n",
       "      <td>TTGCCGTCATGTAAGA-1_contig_2</td>\n",
       "      <td>GGGAGCATCACCCAGCAACCACATCTGTCCTCTAGAGAATCCCCTG...</td>\n",
       "      <td>H</td>\n",
       "      <td>F</td>\n",
       "      <td>T</td>\n",
       "      <td>F</td>\n",
       "      <td>T</td>\n",
       "      <td>F</td>\n",
       "      <td>T</td>\n",
       "      <td>IGHV1-2*04</td>\n",
       "      <td>...</td>\n",
       "      <td>390.0</td>\n",
       "      <td>CC</td>\n",
       "      <td>2.0</td>\n",
       "      <td>NaN</td>\n",
       "      <td>NaN</td>\n",
       "      <td>GAACTGTGGCTGCACCATCTGTCTTCATCTTCCCGCCATCTGATGA...</td>\n",
       "      <td>Bulk</td>\n",
       "      <td>1.0</td>\n",
       "      <td>{'fwk1': {'1 ': 'E', '2 ': 'I', '3 ': 'V', '4 ...</td>\n",
       "      <td>|||||</td>\n",
       "    </tr>\n",
       "    <tr>\n",
       "      <th>8</th>\n",
       "      <td>TGCGGGTAGATAGCAT-1_contig_2</td>\n",
       "      <td>TCTCTTTCTCTAAAGGTGGCTCTTGCGATGTTGCGGGTTGATAGCA...</td>\n",
       "      <td>H</td>\n",
       "      <td>F</td>\n",
       "      <td>T</td>\n",
       "      <td>F</td>\n",
       "      <td>T</td>\n",
       "      <td>F</td>\n",
       "      <td>T</td>\n",
       "      <td>IGHV3-74*01</td>\n",
       "      <td>...</td>\n",
       "      <td>396.0</td>\n",
       "      <td>NaN</td>\n",
       "      <td>0.0</td>\n",
       "      <td>NaN</td>\n",
       "      <td>NaN</td>\n",
       "      <td>GAACTGTGGCTGCACCATCTGTCTTCATCTTCCCGCCATCTGATGA...</td>\n",
       "      <td>Bulk</td>\n",
       "      <td>1.0</td>\n",
       "      <td>{'fwk1': {'1 ': 'D', '2 ': 'T', '3 ': 'V', '4 ...</td>\n",
       "      <td>|||||</td>\n",
       "    </tr>\n",
       "    <tr>\n",
       "      <th>9</th>\n",
       "      <td>AAGGAGCGTGTAATGA-1_contig_1</td>\n",
       "      <td>ACTTTCTGAGAGTCCTGGACCTCCTGTGCAAGAACATGAAACATCT...</td>\n",
       "      <td>H</td>\n",
       "      <td>F</td>\n",
       "      <td>T</td>\n",
       "      <td>F</td>\n",
       "      <td>T</td>\n",
       "      <td>F</td>\n",
       "      <td>T</td>\n",
       "      <td>IGHV4-61*02</td>\n",
       "      <td>...</td>\n",
       "      <td>385.0</td>\n",
       "      <td>T</td>\n",
       "      <td>1.0</td>\n",
       "      <td>NaN</td>\n",
       "      <td>NaN</td>\n",
       "      <td>GAACTGTGGCTGCACCATCTGTCTTCATCTTCCCGCCATCTGATGA...</td>\n",
       "      <td>Bulk</td>\n",
       "      <td>1.0</td>\n",
       "      <td>{'fwk1': {'1 ': 'D', '2 ': 'I', '3 ': 'Q', '4 ...</td>\n",
       "      <td>|||||</td>\n",
       "    </tr>\n",
       "    <tr>\n",
       "      <th>10</th>\n",
       "      <td>GCTGCAGGTAAACCTC-1_contig_1</td>\n",
       "      <td>GAGAGCATCACCCAGCAACCACATCTGTCCTCTAGAGAATCCCCTG...</td>\n",
       "      <td>H</td>\n",
       "      <td>F</td>\n",
       "      <td>T</td>\n",
       "      <td>F</td>\n",
       "      <td>T</td>\n",
       "      <td>F</td>\n",
       "      <td>T</td>\n",
       "      <td>IGHV1-2*06</td>\n",
       "      <td>...</td>\n",
       "      <td>404.0</td>\n",
       "      <td>GGAGTT</td>\n",
       "      <td>6.0</td>\n",
       "      <td>NaN</td>\n",
       "      <td>NaN</td>\n",
       "      <td>GCGTCAGCCCAAGGCCAACCCCACTGTCACTCTGTTCCCGCCCTCC...</td>\n",
       "      <td>Bulk</td>\n",
       "      <td>1.0</td>\n",
       "      <td>{'fwl1': {'2 ': 'S', '3 ': 'A', '4 ': 'L', '5 ...</td>\n",
       "      <td>||||Shorter than IMGT defined: fw1|</td>\n",
       "    </tr>\n",
       "    <tr>\n",
       "      <th>11</th>\n",
       "      <td>CCGTTCAAGCCTTGAT-1_contig_1</td>\n",
       "      <td>GGAGTCTCCCTCACTGCCCAGCTGGGATCTCAGGGCTTCATTTTCT...</td>\n",
       "      <td>H</td>\n",
       "      <td>F</td>\n",
       "      <td>T</td>\n",
       "      <td>F</td>\n",
       "      <td>T</td>\n",
       "      <td>F</td>\n",
       "      <td>T</td>\n",
       "      <td>IGHV5-51*01</td>\n",
       "      <td>...</td>\n",
       "      <td>401.0</td>\n",
       "      <td>TTA</td>\n",
       "      <td>3.0</td>\n",
       "      <td>NaN</td>\n",
       "      <td>NaN</td>\n",
       "      <td>GTCAGCCCAAGGCTGCCCCCTCGGTCACTCTGTTCCCGCCCTCCTC...</td>\n",
       "      <td>Bulk</td>\n",
       "      <td>1.0</td>\n",
       "      <td>{'fwl1': {'1 ': 'Q', '2 ': 'S', '3 ': 'A', '4 ...</td>\n",
       "      <td>|||||</td>\n",
       "    </tr>\n",
       "    <tr>\n",
       "      <th>12</th>\n",
       "      <td>GACCAATCACAGGAGT-1_contig_1</td>\n",
       "      <td>TGGGGACTTAGGCGCCCACAGGAAGCCACCACACATTTCCTTAAAT...</td>\n",
       "      <td>H</td>\n",
       "      <td>F</td>\n",
       "      <td>T</td>\n",
       "      <td>NaN</td>\n",
       "      <td>T</td>\n",
       "      <td>F</td>\n",
       "      <td>NaN</td>\n",
       "      <td>IGHV4-39*01</td>\n",
       "      <td>...</td>\n",
       "      <td>383.0</td>\n",
       "      <td>NaN</td>\n",
       "      <td>0.0</td>\n",
       "      <td>NaN</td>\n",
       "      <td>NaN</td>\n",
       "      <td>NaN</td>\n",
       "      <td>NaN</td>\n",
       "      <td>NaN</td>\n",
       "      <td>{'fwk1': {'1 ': 'D', '2 ': 'I', '3 ': 'Q', '4 ...</td>\n",
       "      <td>|||||</td>\n",
       "    </tr>\n",
       "    <tr>\n",
       "      <th>13</th>\n",
       "      <td>AGGCCACAGGTAGCTG-1_contig_2</td>\n",
       "      <td>ATCATCCAACAACCACATCCCTTCTCTACAGAAGCCTCTGAGAGGA...</td>\n",
       "      <td>H</td>\n",
       "      <td>F</td>\n",
       "      <td>T</td>\n",
       "      <td>F</td>\n",
       "      <td>T</td>\n",
       "      <td>F</td>\n",
       "      <td>T</td>\n",
       "      <td>IGHV1-46*03</td>\n",
       "      <td>...</td>\n",
       "      <td>388.0</td>\n",
       "      <td>NaN</td>\n",
       "      <td>0.0</td>\n",
       "      <td>NaN</td>\n",
       "      <td>NaN</td>\n",
       "      <td>GAACTGTGGCTGCACCATCTGTCTTCATCTTCCCGCCATCTGATGA...</td>\n",
       "      <td>Bulk</td>\n",
       "      <td>1.0</td>\n",
       "      <td>{'fwk1': {'1 ': 'D', '2 ': 'I', '3 ': 'Q', '4 ...</td>\n",
       "      <td>|||||</td>\n",
       "    </tr>\n",
       "    <tr>\n",
       "      <th>14</th>\n",
       "      <td>GATCAGTTCAGAGGTG-1_contig_1</td>\n",
       "      <td>TGGGGACTCAACAACCACATCTGTCCTCTAGAGAAAACCCTGTGAG...</td>\n",
       "      <td>H</td>\n",
       "      <td>F</td>\n",
       "      <td>T</td>\n",
       "      <td>F</td>\n",
       "      <td>T</td>\n",
       "      <td>F</td>\n",
       "      <td>T</td>\n",
       "      <td>IGHV1-8*01</td>\n",
       "      <td>...</td>\n",
       "      <td>395.0</td>\n",
       "      <td>GGTCGA</td>\n",
       "      <td>6.0</td>\n",
       "      <td>NaN</td>\n",
       "      <td>NaN</td>\n",
       "      <td>GAACTGTGGCTGCACCATCTGTCTTCATCTTCCCGCCATCTGATGA...</td>\n",
       "      <td>Bulk</td>\n",
       "      <td>1.0</td>\n",
       "      <td>{'fwk1': {'1 ': 'E', '2 ': 'I', '3 ': 'V', '4 ...</td>\n",
       "      <td>|||||</td>\n",
       "    </tr>\n",
       "    <tr>\n",
       "      <th>15</th>\n",
       "      <td>CCCAGTTAGAAGGGTA-1_contig_2</td>\n",
       "      <td>TGGGGGAATCCTGCTCCCCACCATGGACATACTTTGTTCCACGCTC...</td>\n",
       "      <td>H</td>\n",
       "      <td>F</td>\n",
       "      <td>T</td>\n",
       "      <td>F</td>\n",
       "      <td>T</td>\n",
       "      <td>F</td>\n",
       "      <td>T</td>\n",
       "      <td>IGHV2-70*15</td>\n",
       "      <td>...</td>\n",
       "      <td>414.0</td>\n",
       "      <td>CCA</td>\n",
       "      <td>3.0</td>\n",
       "      <td>NaN</td>\n",
       "      <td>NaN</td>\n",
       "      <td>GTCAGCCCAAGGCTGCCCCCTCGGTCACTCTGTTCCCGCCCTCCTC...</td>\n",
       "      <td>Bulk</td>\n",
       "      <td>1.0</td>\n",
       "      <td>{'fwl1': {'1 ': 'Q', '2 ': 'S', '3 ': 'V', '4 ...</td>\n",
       "      <td>|||||</td>\n",
       "    </tr>\n",
       "    <tr>\n",
       "      <th>16</th>\n",
       "      <td>CTCTACGTCTCACATT-1_contig_1</td>\n",
       "      <td>GGGATCACACAACAGCCACATCCCTCCCCTACAGAAGCCCCCAGAG...</td>\n",
       "      <td>H</td>\n",
       "      <td>F</td>\n",
       "      <td>T</td>\n",
       "      <td>F</td>\n",
       "      <td>T</td>\n",
       "      <td>F</td>\n",
       "      <td>T</td>\n",
       "      <td>IGHV1-24*01</td>\n",
       "      <td>...</td>\n",
       "      <td>384.0</td>\n",
       "      <td>NaN</td>\n",
       "      <td>0.0</td>\n",
       "      <td>NaN</td>\n",
       "      <td>NaN</td>\n",
       "      <td>GAACTGTGGCTGCACCATCTGTCTTCATCTTCCCGCCATCTGATGA...</td>\n",
       "      <td>Bulk</td>\n",
       "      <td>1.0</td>\n",
       "      <td>{'fwk1': {'1 ': 'D', '2 ': 'I', '3 ': 'Q', '4 ...</td>\n",
       "      <td>|||||</td>\n",
       "    </tr>\n",
       "    <tr>\n",
       "      <th>17</th>\n",
       "      <td>CAGGTGCAGACGCACA-1_contig_1</td>\n",
       "      <td>GAGCTCTGGGAGAGGAGCCCAGCACTAGAAGTCGGCGGTGTTTCCA...</td>\n",
       "      <td>H</td>\n",
       "      <td>F</td>\n",
       "      <td>T</td>\n",
       "      <td>F</td>\n",
       "      <td>T</td>\n",
       "      <td>F</td>\n",
       "      <td>T</td>\n",
       "      <td>IGHV3-30*18</td>\n",
       "      <td>...</td>\n",
       "      <td>395.0</td>\n",
       "      <td>A</td>\n",
       "      <td>1.0</td>\n",
       "      <td>NaN</td>\n",
       "      <td>NaN</td>\n",
       "      <td>GAACTGTGGCTGCACCATCTGTCTTCATCTTCCCGCCATCTGATGA...</td>\n",
       "      <td>Bulk</td>\n",
       "      <td>1.0</td>\n",
       "      <td>{'fwk1': {'1 ': 'E', '2 ': 'I', '3 ': 'V', '4 ...</td>\n",
       "      <td>|||||</td>\n",
       "    </tr>\n",
       "    <tr>\n",
       "      <th>18</th>\n",
       "      <td>TACAGTGGTAAATGTG-1_contig_2</td>\n",
       "      <td>ATCACATAACAACCAGATTCCTCCTCTAAAGAAGCCCCTGGGAGCA...</td>\n",
       "      <td>H</td>\n",
       "      <td>F</td>\n",
       "      <td>T</td>\n",
       "      <td>F</td>\n",
       "      <td>T</td>\n",
       "      <td>F</td>\n",
       "      <td>T</td>\n",
       "      <td>IGHV1-69*08</td>\n",
       "      <td>...</td>\n",
       "      <td>389.0</td>\n",
       "      <td>NaN</td>\n",
       "      <td>0.0</td>\n",
       "      <td>NaN</td>\n",
       "      <td>NaN</td>\n",
       "      <td>GAACTGTGGCTGCACCATCTGTCTTCATCTTCCCGCCATCTGATGA...</td>\n",
       "      <td>Bulk</td>\n",
       "      <td>1.0</td>\n",
       "      <td>{'fwk1': {'1 ': 'D', '2 ': 'I', '3 ': 'Q', '4 ...</td>\n",
       "      <td>|||||</td>\n",
       "    </tr>\n",
       "    <tr>\n",
       "      <th>19</th>\n",
       "      <td>TCGTACCGTTAGGGTG-1_contig_2</td>\n",
       "      <td>GGGAGCATCACCCAGCAACCACATCTGTCCTCTAGAGAATCCCCTG...</td>\n",
       "      <td>H</td>\n",
       "      <td>F</td>\n",
       "      <td>T</td>\n",
       "      <td>F</td>\n",
       "      <td>T</td>\n",
       "      <td>F</td>\n",
       "      <td>T</td>\n",
       "      <td>IGHV1-2*06</td>\n",
       "      <td>...</td>\n",
       "      <td>388.0</td>\n",
       "      <td>NaN</td>\n",
       "      <td>0.0</td>\n",
       "      <td>NaN</td>\n",
       "      <td>NaN</td>\n",
       "      <td>GTCAGCCCAAGGCTGCCCCCTCGGTCACTCTGTTCCCGCCCTCCTC...</td>\n",
       "      <td>Bulk</td>\n",
       "      <td>1.0</td>\n",
       "      <td>{'fwl1': {'2 ': 'S', '3 ': 'E', '4 ': 'L', '5 ...</td>\n",
       "      <td>||||Shorter than IMGT defined: fw1|</td>\n",
       "    </tr>\n",
       "    <tr>\n",
       "      <th>20</th>\n",
       "      <td>AATCGGTGTTGTCTTT-1_contig_2</td>\n",
       "      <td>AGCTCTGGGAGAAGAGCCCCAGCCCCAGAATTCCCAGGAGTTTCCA...</td>\n",
       "      <td>H</td>\n",
       "      <td>F</td>\n",
       "      <td>T</td>\n",
       "      <td>F</td>\n",
       "      <td>T</td>\n",
       "      <td>F</td>\n",
       "      <td>T</td>\n",
       "      <td>IGHV3-11*01</td>\n",
       "      <td>...</td>\n",
       "      <td>402.0</td>\n",
       "      <td>GAA</td>\n",
       "      <td>3.0</td>\n",
       "      <td>NaN</td>\n",
       "      <td>NaN</td>\n",
       "      <td>GAACTGTGGCTGCACCATCTGTCTTCATCTTCCCGCCATCTGATGA...</td>\n",
       "      <td>Bulk</td>\n",
       "      <td>1.0</td>\n",
       "      <td>{'fwk1': {'1 ': 'D', '2 ': 'I', '3 ': 'V', '4 ...</td>\n",
       "      <td>|||||</td>\n",
       "    </tr>\n",
       "    <tr>\n",
       "      <th>21</th>\n",
       "      <td>TCGAGGCAGGGCTTCC-1_contig_2</td>\n",
       "      <td>AGCTCTGGGAGAAGAGCCCCAGCCCCAGAATTCCCAGGAGTTTCCA...</td>\n",
       "      <td>H</td>\n",
       "      <td>F</td>\n",
       "      <td>T</td>\n",
       "      <td>F</td>\n",
       "      <td>T</td>\n",
       "      <td>F</td>\n",
       "      <td>T</td>\n",
       "      <td>IGHV3-11*06</td>\n",
       "      <td>...</td>\n",
       "      <td>387.0</td>\n",
       "      <td>NaN</td>\n",
       "      <td>0.0</td>\n",
       "      <td>NaN</td>\n",
       "      <td>NaN</td>\n",
       "      <td>GAACTGTGGCTGCACCATCTGTCTTCATCTTCCCGCCATCTGATGA...</td>\n",
       "      <td>Bulk</td>\n",
       "      <td>1.0</td>\n",
       "      <td>{'fwk1': {'1 ': 'D', '2 ': 'I', '3 ': 'Q', '4 ...</td>\n",
       "      <td>|||||</td>\n",
       "    </tr>\n",
       "    <tr>\n",
       "      <th>22</th>\n",
       "      <td>GTCACGGCACTTAAGC-1_contig_2</td>\n",
       "      <td>ATCACATAACAACCAGATTCCTCCTCTAAAGAAGCCCCTGGGAGCA...</td>\n",
       "      <td>H</td>\n",
       "      <td>F</td>\n",
       "      <td>T</td>\n",
       "      <td>F</td>\n",
       "      <td>T</td>\n",
       "      <td>F</td>\n",
       "      <td>T</td>\n",
       "      <td>IGHV1-69*08</td>\n",
       "      <td>...</td>\n",
       "      <td>403.0</td>\n",
       "      <td>NaN</td>\n",
       "      <td>0.0</td>\n",
       "      <td>NaN</td>\n",
       "      <td>NaN</td>\n",
       "      <td>GTCAGCCCAAGGCTGCCCCCTCGGTCACTCTGTTCCCACCCTCCTC...</td>\n",
       "      <td>Bulk</td>\n",
       "      <td>1.0</td>\n",
       "      <td>{'fwl1': {'1 ': 'Q', '2 ': 'S', '3 ': 'V', '4 ...</td>\n",
       "      <td>|||||</td>\n",
       "    </tr>\n",
       "    <tr>\n",
       "      <th>23</th>\n",
       "      <td>TCTGGAACATACTCTT-1_contig_2</td>\n",
       "      <td>AGCTCTGAGAGAGGAGCCCAGCCCTGGGATTTTCAGGTGTTTTCAT...</td>\n",
       "      <td>H</td>\n",
       "      <td>F</td>\n",
       "      <td>T</td>\n",
       "      <td>F</td>\n",
       "      <td>T</td>\n",
       "      <td>F</td>\n",
       "      <td>T</td>\n",
       "      <td>IGHV3-23*01</td>\n",
       "      <td>...</td>\n",
       "      <td>399.0</td>\n",
       "      <td>NaN</td>\n",
       "      <td>0.0</td>\n",
       "      <td>NaN</td>\n",
       "      <td>NaN</td>\n",
       "      <td>GAACTGTGGCTGCACCATCTGTCTTCATCTTCCCGCCATCTGATGA...</td>\n",
       "      <td>Bulk</td>\n",
       "      <td>1.0</td>\n",
       "      <td>{'fwk1': {'1 ': 'D', '2 ': 'I', '3 ': 'V', '4 ...</td>\n",
       "      <td>|||||</td>\n",
       "    </tr>\n",
       "    <tr>\n",
       "      <th>24</th>\n",
       "      <td>ATCATGGTCTACTCAT-1_contig_2</td>\n",
       "      <td>AGCTCTCAGAGAGGTGCCTTAGCCCTGGATTCCAAGGCATTTCCAC...</td>\n",
       "      <td>H</td>\n",
       "      <td>F</td>\n",
       "      <td>T</td>\n",
       "      <td>F</td>\n",
       "      <td>T</td>\n",
       "      <td>F</td>\n",
       "      <td>T</td>\n",
       "      <td>IGHV3-48*01</td>\n",
       "      <td>...</td>\n",
       "      <td>394.0</td>\n",
       "      <td>TCCTC</td>\n",
       "      <td>5.0</td>\n",
       "      <td>NaN</td>\n",
       "      <td>NaN</td>\n",
       "      <td>GAACTGTGGCTGCACCATCTGTCTTCATCTTCCCGCCATCTGATGA...</td>\n",
       "      <td>Bulk</td>\n",
       "      <td>1.0</td>\n",
       "      <td>{'fwk1': {'1 ': 'D', '2 ': 'I', '3 ': 'Q', '4 ...</td>\n",
       "      <td>|||||</td>\n",
       "    </tr>\n",
       "    <tr>\n",
       "      <th>25</th>\n",
       "      <td>AGATCTGAGAGCCTAG-1_contig_1</td>\n",
       "      <td>ACTTTCTGAGAGTCCTGGACCTCCTGTGCAAGAACATGAAACATCT...</td>\n",
       "      <td>H</td>\n",
       "      <td>F</td>\n",
       "      <td>T</td>\n",
       "      <td>F</td>\n",
       "      <td>T</td>\n",
       "      <td>F</td>\n",
       "      <td>T</td>\n",
       "      <td>IGHV4-61*02</td>\n",
       "      <td>...</td>\n",
       "      <td>389.0</td>\n",
       "      <td>NaN</td>\n",
       "      <td>0.0</td>\n",
       "      <td>NaN</td>\n",
       "      <td>NaN</td>\n",
       "      <td>GTCAGCCCAAGGCCAACCCCACTGTCACTCTGTTCCCGCCCTCCTC...</td>\n",
       "      <td>Bulk</td>\n",
       "      <td>1.0</td>\n",
       "      <td>{'fwl1': {'1 ': 'S', '2 ': 'Y', '3 ': 'E', '4 ...</td>\n",
       "      <td>|||||</td>\n",
       "    </tr>\n",
       "    <tr>\n",
       "      <th>26</th>\n",
       "      <td>ACGATACAGGCAAAGA-1_contig_2</td>\n",
       "      <td>GAGCTCTGGGAGAGGAGCCCCAGCCCTGAGATTCCCAGGTGTTTCC...</td>\n",
       "      <td>H</td>\n",
       "      <td>F</td>\n",
       "      <td>T</td>\n",
       "      <td>F</td>\n",
       "      <td>T</td>\n",
       "      <td>F</td>\n",
       "      <td>T</td>\n",
       "      <td>IGHV3-9*01</td>\n",
       "      <td>...</td>\n",
       "      <td>393.0</td>\n",
       "      <td>T</td>\n",
       "      <td>1.0</td>\n",
       "      <td>NaN</td>\n",
       "      <td>NaN</td>\n",
       "      <td>GAACTGTGGCTGCACCATCTGTCTTCATCTTCCCGCCATCTGATGA...</td>\n",
       "      <td>Bulk</td>\n",
       "      <td>1.0</td>\n",
       "      <td>{'fwk1': {'1 ': 'D', '2 ': 'I', '3 ': 'V', '4 ...</td>\n",
       "      <td>|||||</td>\n",
       "    </tr>\n",
       "    <tr>\n",
       "      <th>27</th>\n",
       "      <td>TAGTGGTGTTCGCGAC-1_contig_2</td>\n",
       "      <td>TGGGGACCCAAAAACCACACCCCTCCTTGGGAGAATCCCCTAGATC...</td>\n",
       "      <td>H</td>\n",
       "      <td>F</td>\n",
       "      <td>T</td>\n",
       "      <td>F</td>\n",
       "      <td>T</td>\n",
       "      <td>F</td>\n",
       "      <td>T</td>\n",
       "      <td>IGHV1-18*01</td>\n",
       "      <td>...</td>\n",
       "      <td>418.0</td>\n",
       "      <td>NaN</td>\n",
       "      <td>0.0</td>\n",
       "      <td>NaN</td>\n",
       "      <td>NaN</td>\n",
       "      <td>GAACTGTGGCTGCACCATCTGTCTTCATCTTCCCGCCATCTGATGA...</td>\n",
       "      <td>Bulk</td>\n",
       "      <td>1.0</td>\n",
       "      <td>{'fwk1': {'1 ': 'D', '2 ': 'I', '3 ': 'Q', '4 ...</td>\n",
       "      <td>|||||</td>\n",
       "    </tr>\n",
       "    <tr>\n",
       "      <th>28</th>\n",
       "      <td>GTACTTTGTCTTCAAG-1_contig_1</td>\n",
       "      <td>AGCATCATCCAACAACCACATCCCTTCTCTACAGAAGCCTCTGAGA...</td>\n",
       "      <td>H</td>\n",
       "      <td>F</td>\n",
       "      <td>T</td>\n",
       "      <td>F</td>\n",
       "      <td>T</td>\n",
       "      <td>F</td>\n",
       "      <td>T</td>\n",
       "      <td>IGHV1-46*04</td>\n",
       "      <td>...</td>\n",
       "      <td>395.0</td>\n",
       "      <td>NaN</td>\n",
       "      <td>0.0</td>\n",
       "      <td>NaN</td>\n",
       "      <td>NaN</td>\n",
       "      <td>GTCAGCCCAAGGCTGCCCCCTCGGTCACTCTGTTCCCGCCCTCCTC...</td>\n",
       "      <td>Bulk</td>\n",
       "      <td>1.0</td>\n",
       "      <td>{'fwl1': {'1 ': 'Q', '2 ': 'S', '3 ': 'A', '4 ...</td>\n",
       "      <td>|||||</td>\n",
       "    </tr>\n",
       "    <tr>\n",
       "      <th>29</th>\n",
       "      <td>TACTTGTTCCGTCAAA-1_contig_1</td>\n",
       "      <td>GGGGGACCCAAAAACCACACCCCTCCTTGGGAGAATCCCCTAGATC...</td>\n",
       "      <td>H</td>\n",
       "      <td>F</td>\n",
       "      <td>T</td>\n",
       "      <td>F</td>\n",
       "      <td>T</td>\n",
       "      <td>F</td>\n",
       "      <td>T</td>\n",
       "      <td>IGHV1-18*01</td>\n",
       "      <td>...</td>\n",
       "      <td>393.0</td>\n",
       "      <td>NaN</td>\n",
       "      <td>0.0</td>\n",
       "      <td>NaN</td>\n",
       "      <td>NaN</td>\n",
       "      <td>GAACTGTGGCTGCACCATCTGTCTTCATCTTCCCGCCATCTGATGA...</td>\n",
       "      <td>Bulk</td>\n",
       "      <td>1.0</td>\n",
       "      <td>{'fwk1': {'1 ': 'D', '2 ': 'I', '3 ': 'V', '4 ...</td>\n",
       "      <td>|||||</td>\n",
       "    </tr>\n",
       "  </tbody>\n",
       "</table>\n",
       "<p>30 rows × 198 columns</p>\n",
       "</div>"
      ],
      "text/plain": [
       "              sequence_id_heavy  \\\n",
       "0   GAACGGAAGTAGCCGA-1_contig_1   \n",
       "1   TACTTACTCAACACAC-1_contig_1   \n",
       "2   AAGGTTCTCGTAGGAG-1_contig_1   \n",
       "3   CGTGTAATCCAAATGC-1_contig_2   \n",
       "4   TATGCCCCACAACTGT-1_contig_1   \n",
       "5   TAGGCATCACCGTTGG-1_contig_2   \n",
       "6   GTTCATTCATGTCTCC-1_contig_2   \n",
       "7   TTGCCGTCATGTAAGA-1_contig_2   \n",
       "8   TGCGGGTAGATAGCAT-1_contig_2   \n",
       "9   AAGGAGCGTGTAATGA-1_contig_1   \n",
       "10  GCTGCAGGTAAACCTC-1_contig_1   \n",
       "11  CCGTTCAAGCCTTGAT-1_contig_1   \n",
       "12  GACCAATCACAGGAGT-1_contig_1   \n",
       "13  AGGCCACAGGTAGCTG-1_contig_2   \n",
       "14  GATCAGTTCAGAGGTG-1_contig_1   \n",
       "15  CCCAGTTAGAAGGGTA-1_contig_2   \n",
       "16  CTCTACGTCTCACATT-1_contig_1   \n",
       "17  CAGGTGCAGACGCACA-1_contig_1   \n",
       "18  TACAGTGGTAAATGTG-1_contig_2   \n",
       "19  TCGTACCGTTAGGGTG-1_contig_2   \n",
       "20  AATCGGTGTTGTCTTT-1_contig_2   \n",
       "21  TCGAGGCAGGGCTTCC-1_contig_2   \n",
       "22  GTCACGGCACTTAAGC-1_contig_2   \n",
       "23  TCTGGAACATACTCTT-1_contig_2   \n",
       "24  ATCATGGTCTACTCAT-1_contig_2   \n",
       "25  AGATCTGAGAGCCTAG-1_contig_1   \n",
       "26  ACGATACAGGCAAAGA-1_contig_2   \n",
       "27  TAGTGGTGTTCGCGAC-1_contig_2   \n",
       "28  GTACTTTGTCTTCAAG-1_contig_1   \n",
       "29  TACTTGTTCCGTCAAA-1_contig_1   \n",
       "\n",
       "                                       sequence_heavy locus_heavy  \\\n",
       "0   AGCTCTGAGAGAGGAGCCTTAGCCCTGGATTCCAAGGCCTATCCAC...           H   \n",
       "1   ATCATCCAACAACCACATCCCTTCTCTACAGAAGCCTCTGAGAGGA...           H   \n",
       "2   CCACATCCCTCCTCAGAAGCCCCCAGAGCACAACGCCTCACCATGG...           H   \n",
       "3   AGGTCTCAGAGAGGAGCCTTAGCCCTGGACTCCAAGGCCTTTCCAC...           H   \n",
       "4   TGGGGAGCTCTGGGAGAGGAGCCCCAGCCCTGAGATTCCCAGGTGT...           H   \n",
       "5   GAGCTCTGGGAGAGGAGCCCAGCACTAGAAGTCGGCGGTGTTTCCA...           H   \n",
       "6   GAGCTCTGGGAGAGGAGCCCAGCACTAGAAGTCGGCGGTGTTTCCA...           H   \n",
       "7   GGGAGCATCACCCAGCAACCACATCTGTCCTCTAGAGAATCCCCTG...           H   \n",
       "8   TCTCTTTCTCTAAAGGTGGCTCTTGCGATGTTGCGGGTTGATAGCA...           H   \n",
       "9   ACTTTCTGAGAGTCCTGGACCTCCTGTGCAAGAACATGAAACATCT...           H   \n",
       "10  GAGAGCATCACCCAGCAACCACATCTGTCCTCTAGAGAATCCCCTG...           H   \n",
       "11  GGAGTCTCCCTCACTGCCCAGCTGGGATCTCAGGGCTTCATTTTCT...           H   \n",
       "12  TGGGGACTTAGGCGCCCACAGGAAGCCACCACACATTTCCTTAAAT...           H   \n",
       "13  ATCATCCAACAACCACATCCCTTCTCTACAGAAGCCTCTGAGAGGA...           H   \n",
       "14  TGGGGACTCAACAACCACATCTGTCCTCTAGAGAAAACCCTGTGAG...           H   \n",
       "15  TGGGGGAATCCTGCTCCCCACCATGGACATACTTTGTTCCACGCTC...           H   \n",
       "16  GGGATCACACAACAGCCACATCCCTCCCCTACAGAAGCCCCCAGAG...           H   \n",
       "17  GAGCTCTGGGAGAGGAGCCCAGCACTAGAAGTCGGCGGTGTTTCCA...           H   \n",
       "18  ATCACATAACAACCAGATTCCTCCTCTAAAGAAGCCCCTGGGAGCA...           H   \n",
       "19  GGGAGCATCACCCAGCAACCACATCTGTCCTCTAGAGAATCCCCTG...           H   \n",
       "20  AGCTCTGGGAGAAGAGCCCCAGCCCCAGAATTCCCAGGAGTTTCCA...           H   \n",
       "21  AGCTCTGGGAGAAGAGCCCCAGCCCCAGAATTCCCAGGAGTTTCCA...           H   \n",
       "22  ATCACATAACAACCAGATTCCTCCTCTAAAGAAGCCCCTGGGAGCA...           H   \n",
       "23  AGCTCTGAGAGAGGAGCCCAGCCCTGGGATTTTCAGGTGTTTTCAT...           H   \n",
       "24  AGCTCTCAGAGAGGTGCCTTAGCCCTGGATTCCAAGGCATTTCCAC...           H   \n",
       "25  ACTTTCTGAGAGTCCTGGACCTCCTGTGCAAGAACATGAAACATCT...           H   \n",
       "26  GAGCTCTGGGAGAGGAGCCCCAGCCCTGAGATTCCCAGGTGTTTCC...           H   \n",
       "27  TGGGGACCCAAAAACCACACCCCTCCTTGGGAGAATCCCCTAGATC...           H   \n",
       "28  AGCATCATCCAACAACCACATCCCTTCTCTACAGAAGCCTCTGAGA...           H   \n",
       "29  GGGGGACCCAAAAACCACACCCCTCCTTGGGAGAATCCCCTAGATC...           H   \n",
       "\n",
       "   stop_codon_heavy vj_in_frame_heavy v_frameshift_heavy productive_heavy  \\\n",
       "0                 F                 T                  F                T   \n",
       "1                 F                 T                  F                T   \n",
       "2                 F                 T                  F                T   \n",
       "3                 F                 T                  F                T   \n",
       "4                 F                 T                  F                T   \n",
       "5                 F                 T                  F                T   \n",
       "6                 F                 T                  F                T   \n",
       "7                 F                 T                  F                T   \n",
       "8                 F                 T                  F                T   \n",
       "9                 F                 T                  F                T   \n",
       "10                F                 T                  F                T   \n",
       "11                F                 T                  F                T   \n",
       "12                F                 T                NaN                T   \n",
       "13                F                 T                  F                T   \n",
       "14                F                 T                  F                T   \n",
       "15                F                 T                  F                T   \n",
       "16                F                 T                  F                T   \n",
       "17                F                 T                  F                T   \n",
       "18                F                 T                  F                T   \n",
       "19                F                 T                  F                T   \n",
       "20                F                 T                  F                T   \n",
       "21                F                 T                  F                T   \n",
       "22                F                 T                  F                T   \n",
       "23                F                 T                  F                T   \n",
       "24                F                 T                  F                T   \n",
       "25                F                 T                  F                T   \n",
       "26                F                 T                  F                T   \n",
       "27                F                 T                  F                T   \n",
       "28                F                 T                  F                T   \n",
       "29                F                 T                  F                T   \n",
       "\n",
       "   rev_comp_heavy complete_vdj_heavy v_call_heavy  ... cdr3_end_light  \\\n",
       "0               F                  T  IGHV3-21*02  ...          388.0   \n",
       "1               F                  T  IGHV1-46*01  ...          407.0   \n",
       "2               F                  T   IGHV1-3*01  ...          387.0   \n",
       "3               F                  T   IGHV3-7*03  ...          399.0   \n",
       "4               F                  T   IGHV3-9*01  ...          398.0   \n",
       "5               F                  T  IGHV3-33*01  ...          384.0   \n",
       "6               F                  T  IGHV3-33*08  ...          385.0   \n",
       "7               F                  T   IGHV1-2*04  ...          390.0   \n",
       "8               F                  T  IGHV3-74*01  ...          396.0   \n",
       "9               F                  T  IGHV4-61*02  ...          385.0   \n",
       "10              F                  T   IGHV1-2*06  ...          404.0   \n",
       "11              F                  T  IGHV5-51*01  ...          401.0   \n",
       "12              F                NaN  IGHV4-39*01  ...          383.0   \n",
       "13              F                  T  IGHV1-46*03  ...          388.0   \n",
       "14              F                  T   IGHV1-8*01  ...          395.0   \n",
       "15              F                  T  IGHV2-70*15  ...          414.0   \n",
       "16              F                  T  IGHV1-24*01  ...          384.0   \n",
       "17              F                  T  IGHV3-30*18  ...          395.0   \n",
       "18              F                  T  IGHV1-69*08  ...          389.0   \n",
       "19              F                  T   IGHV1-2*06  ...          388.0   \n",
       "20              F                  T  IGHV3-11*01  ...          402.0   \n",
       "21              F                  T  IGHV3-11*06  ...          387.0   \n",
       "22              F                  T  IGHV1-69*08  ...          403.0   \n",
       "23              F                  T  IGHV3-23*01  ...          399.0   \n",
       "24              F                  T  IGHV3-48*01  ...          394.0   \n",
       "25              F                  T  IGHV4-61*02  ...          389.0   \n",
       "26              F                  T   IGHV3-9*01  ...          393.0   \n",
       "27              F                  T  IGHV1-18*01  ...          418.0   \n",
       "28              F                  T  IGHV1-46*04  ...          395.0   \n",
       "29              F                  T  IGHV1-18*01  ...          393.0   \n",
       "\n",
       "   np1_light np1_length_light np2_light np2_length_light  \\\n",
       "0         TC              2.0       NaN              NaN   \n",
       "1        NaN              0.0       NaN              NaN   \n",
       "2       TCTC              4.0       NaN              NaN   \n",
       "3          T              1.0       NaN              NaN   \n",
       "4        NaN              0.0       NaN              NaN   \n",
       "5          C              1.0       NaN              NaN   \n",
       "6        NaN              0.0       NaN              NaN   \n",
       "7         CC              2.0       NaN              NaN   \n",
       "8        NaN              0.0       NaN              NaN   \n",
       "9          T              1.0       NaN              NaN   \n",
       "10    GGAGTT              6.0       NaN              NaN   \n",
       "11       TTA              3.0       NaN              NaN   \n",
       "12       NaN              0.0       NaN              NaN   \n",
       "13       NaN              0.0       NaN              NaN   \n",
       "14    GGTCGA              6.0       NaN              NaN   \n",
       "15       CCA              3.0       NaN              NaN   \n",
       "16       NaN              0.0       NaN              NaN   \n",
       "17         A              1.0       NaN              NaN   \n",
       "18       NaN              0.0       NaN              NaN   \n",
       "19       NaN              0.0       NaN              NaN   \n",
       "20       GAA              3.0       NaN              NaN   \n",
       "21       NaN              0.0       NaN              NaN   \n",
       "22       NaN              0.0       NaN              NaN   \n",
       "23       NaN              0.0       NaN              NaN   \n",
       "24     TCCTC              5.0       NaN              NaN   \n",
       "25       NaN              0.0       NaN              NaN   \n",
       "26         T              1.0       NaN              NaN   \n",
       "27       NaN              0.0       NaN              NaN   \n",
       "28       NaN              0.0       NaN              NaN   \n",
       "29       NaN              0.0       NaN              NaN   \n",
       "\n",
       "                                       c_region_light  Isotype_light  \\\n",
       "0   GAACTGTGGCTGCACCATCTGTCTTCATCTTCCCGCCATCTGATGA...           Bulk   \n",
       "1   GAACTGTGGCTGCACCATCTGTCTTCATCTTCCCGCCATCTGATGA...           Bulk   \n",
       "2   GAACTGTGGCTGCACCATCTGTCTTCATCTTCCCGCCATCTGATGA...           Bulk   \n",
       "3   GAACTGTGGCTGCACCATCTGTCTTCATCTTCCCGCCATCTGATGA...           Bulk   \n",
       "4   GTCAGCCCAAGGCCAACCCCACTGTCACTCTGTTCCCGCCCTCCTC...           Bulk   \n",
       "5   GAACTGTGGCTGCACCATCTGTCTTCATCTTCCCGCCATCTGATGA...           Bulk   \n",
       "6   GAACTGTGGCTGCACCATCTGTCTTCATCTTCCCGCCATCTGATGA...           Bulk   \n",
       "7   GAACTGTGGCTGCACCATCTGTCTTCATCTTCCCGCCATCTGATGA...           Bulk   \n",
       "8   GAACTGTGGCTGCACCATCTGTCTTCATCTTCCCGCCATCTGATGA...           Bulk   \n",
       "9   GAACTGTGGCTGCACCATCTGTCTTCATCTTCCCGCCATCTGATGA...           Bulk   \n",
       "10  GCGTCAGCCCAAGGCCAACCCCACTGTCACTCTGTTCCCGCCCTCC...           Bulk   \n",
       "11  GTCAGCCCAAGGCTGCCCCCTCGGTCACTCTGTTCCCGCCCTCCTC...           Bulk   \n",
       "12                                                NaN            NaN   \n",
       "13  GAACTGTGGCTGCACCATCTGTCTTCATCTTCCCGCCATCTGATGA...           Bulk   \n",
       "14  GAACTGTGGCTGCACCATCTGTCTTCATCTTCCCGCCATCTGATGA...           Bulk   \n",
       "15  GTCAGCCCAAGGCTGCCCCCTCGGTCACTCTGTTCCCGCCCTCCTC...           Bulk   \n",
       "16  GAACTGTGGCTGCACCATCTGTCTTCATCTTCCCGCCATCTGATGA...           Bulk   \n",
       "17  GAACTGTGGCTGCACCATCTGTCTTCATCTTCCCGCCATCTGATGA...           Bulk   \n",
       "18  GAACTGTGGCTGCACCATCTGTCTTCATCTTCCCGCCATCTGATGA...           Bulk   \n",
       "19  GTCAGCCCAAGGCTGCCCCCTCGGTCACTCTGTTCCCGCCCTCCTC...           Bulk   \n",
       "20  GAACTGTGGCTGCACCATCTGTCTTCATCTTCCCGCCATCTGATGA...           Bulk   \n",
       "21  GAACTGTGGCTGCACCATCTGTCTTCATCTTCCCGCCATCTGATGA...           Bulk   \n",
       "22  GTCAGCCCAAGGCTGCCCCCTCGGTCACTCTGTTCCCACCCTCCTC...           Bulk   \n",
       "23  GAACTGTGGCTGCACCATCTGTCTTCATCTTCCCGCCATCTGATGA...           Bulk   \n",
       "24  GAACTGTGGCTGCACCATCTGTCTTCATCTTCCCGCCATCTGATGA...           Bulk   \n",
       "25  GTCAGCCCAAGGCCAACCCCACTGTCACTCTGTTCCCGCCCTCCTC...           Bulk   \n",
       "26  GAACTGTGGCTGCACCATCTGTCTTCATCTTCCCGCCATCTGATGA...           Bulk   \n",
       "27  GAACTGTGGCTGCACCATCTGTCTTCATCTTCCCGCCATCTGATGA...           Bulk   \n",
       "28  GTCAGCCCAAGGCTGCCCCCTCGGTCACTCTGTTCCCGCCCTCCTC...           Bulk   \n",
       "29  GAACTGTGGCTGCACCATCTGTCTTCATCTTCCCGCCATCTGATGA...           Bulk   \n",
       "\n",
       "    Redundancy_light                             ANARCI_numbering_light  \\\n",
       "0                1.0  {'fwk1': {'1 ': 'D', '2 ': 'I', '3 ': 'Q', '4 ...   \n",
       "1                1.0  {'fwk1': {'1 ': 'D', '2 ': 'V', '3 ': 'V', '4 ...   \n",
       "2                1.0  {'fwk1': {'1 ': 'D', '2 ': 'I', '3 ': 'Q', '4 ...   \n",
       "3                1.0  {'fwk1': {'1 ': 'D', '2 ': 'I', '3 ': 'V', '4 ...   \n",
       "4                1.0  {'fwl1': {'1 ': 'Q', '2 ': 'S', '3 ': 'A', '4 ...   \n",
       "5                1.0  {'fwk1': {'1 ': 'D', '2 ': 'I', '3 ': 'Q', '4 ...   \n",
       "6                1.0  {'fwk1': {'1 ': 'D', '2 ': 'I', '3 ': 'Q', '4 ...   \n",
       "7                1.0  {'fwk1': {'1 ': 'E', '2 ': 'I', '3 ': 'V', '4 ...   \n",
       "8                1.0  {'fwk1': {'1 ': 'D', '2 ': 'T', '3 ': 'V', '4 ...   \n",
       "9                1.0  {'fwk1': {'1 ': 'D', '2 ': 'I', '3 ': 'Q', '4 ...   \n",
       "10               1.0  {'fwl1': {'2 ': 'S', '3 ': 'A', '4 ': 'L', '5 ...   \n",
       "11               1.0  {'fwl1': {'1 ': 'Q', '2 ': 'S', '3 ': 'A', '4 ...   \n",
       "12               NaN  {'fwk1': {'1 ': 'D', '2 ': 'I', '3 ': 'Q', '4 ...   \n",
       "13               1.0  {'fwk1': {'1 ': 'D', '2 ': 'I', '3 ': 'Q', '4 ...   \n",
       "14               1.0  {'fwk1': {'1 ': 'E', '2 ': 'I', '3 ': 'V', '4 ...   \n",
       "15               1.0  {'fwl1': {'1 ': 'Q', '2 ': 'S', '3 ': 'V', '4 ...   \n",
       "16               1.0  {'fwk1': {'1 ': 'D', '2 ': 'I', '3 ': 'Q', '4 ...   \n",
       "17               1.0  {'fwk1': {'1 ': 'E', '2 ': 'I', '3 ': 'V', '4 ...   \n",
       "18               1.0  {'fwk1': {'1 ': 'D', '2 ': 'I', '3 ': 'Q', '4 ...   \n",
       "19               1.0  {'fwl1': {'2 ': 'S', '3 ': 'E', '4 ': 'L', '5 ...   \n",
       "20               1.0  {'fwk1': {'1 ': 'D', '2 ': 'I', '3 ': 'V', '4 ...   \n",
       "21               1.0  {'fwk1': {'1 ': 'D', '2 ': 'I', '3 ': 'Q', '4 ...   \n",
       "22               1.0  {'fwl1': {'1 ': 'Q', '2 ': 'S', '3 ': 'V', '4 ...   \n",
       "23               1.0  {'fwk1': {'1 ': 'D', '2 ': 'I', '3 ': 'V', '4 ...   \n",
       "24               1.0  {'fwk1': {'1 ': 'D', '2 ': 'I', '3 ': 'Q', '4 ...   \n",
       "25               1.0  {'fwl1': {'1 ': 'S', '2 ': 'Y', '3 ': 'E', '4 ...   \n",
       "26               1.0  {'fwk1': {'1 ': 'D', '2 ': 'I', '3 ': 'V', '4 ...   \n",
       "27               1.0  {'fwk1': {'1 ': 'D', '2 ': 'I', '3 ': 'Q', '4 ...   \n",
       "28               1.0  {'fwl1': {'1 ': 'Q', '2 ': 'S', '3 ': 'A', '4 ...   \n",
       "29               1.0  {'fwk1': {'1 ': 'D', '2 ': 'I', '3 ': 'V', '4 ...   \n",
       "\n",
       "                    ANARCI_status_light  \n",
       "0                                 |||||  \n",
       "1                                 |||||  \n",
       "2                                 |||||  \n",
       "3                                 |||||  \n",
       "4                                 |||||  \n",
       "5                                 |||||  \n",
       "6                                 |||||  \n",
       "7                                 |||||  \n",
       "8                                 |||||  \n",
       "9                                 |||||  \n",
       "10  ||||Shorter than IMGT defined: fw1|  \n",
       "11                                |||||  \n",
       "12                                |||||  \n",
       "13                                |||||  \n",
       "14                                |||||  \n",
       "15                                |||||  \n",
       "16                                |||||  \n",
       "17                                |||||  \n",
       "18                                |||||  \n",
       "19  ||||Shorter than IMGT defined: fw1|  \n",
       "20                                |||||  \n",
       "21                                |||||  \n",
       "22                                |||||  \n",
       "23                                |||||  \n",
       "24                                |||||  \n",
       "25                                |||||  \n",
       "26                                |||||  \n",
       "27                                |||||  \n",
       "28                                |||||  \n",
       "29                                |||||  \n",
       "\n",
       "[30 rows x 198 columns]"
      ]
     },
     "execution_count": 2,
     "metadata": {},
     "output_type": "execute_result"
    }
   ],
   "source": [
    "pd.read_csv(\"/datasets/merck-files/Merck-files/sampled_df.csv\")"
   ]
  },
  {
   "cell_type": "code",
   "execution_count": 3,
   "metadata": {
    "cell_id": "cc97d663a9f84c4cbcc5a96f92952a52",
    "deepnote_cell_type": "code",
    "deepnote_table_loading": false,
    "deepnote_table_state": {
     "filters": [],
     "pageIndex": 0,
     "pageSize": 100,
     "sortBy": [
      {
       "id": "0",
       "type": "asc"
      }
     ]
    },
    "deepnote_to_be_reexecuted": false,
    "execution_millis": 31,
    "execution_start": 1678839796299,
    "source_hash": "b623e53d",
    "tags": []
   },
   "outputs": [],
   "source": []
  },
  {
   "cell_type": "code",
   "execution_count": 3,
   "metadata": {
    "cell_id": "edb5f5bb08cc4f5fb1b0ffa5aeba6db1",
    "deepnote_cell_type": "code",
    "deepnote_to_be_reexecuted": false,
    "execution_millis": 27,
    "execution_start": 1678839796303,
    "source_hash": "b623e53d",
    "tags": []
   },
   "outputs": [],
   "source": []
  },
  {
   "cell_type": "markdown",
   "metadata": {
    "created_in_deepnote_cell": true,
    "deepnote_cell_type": "markdown",
    "tags": []
   },
   "source": [
    "<a style='text-decoration:none;line-height:16px;display:flex;color:#5B5B62;padding:10px;justify-content:end;' href='https://deepnote.com?utm_source=created-in-deepnote-cell&projectId=5b236d6d-7b98-492c-b976-1e7a4e078701' target=\"_blank\">\n",
    "<img alt='Created in deepnote.com' style='display:inline;max-height:16px;margin:0px;margin-right:7.5px;' src='data:image/svg+xml;base64,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' > </img>\n",
    "Created in <span style='font-weight:600;margin-left:4px;'>Deepnote</span></a>"
   ]
  }
 ],
 "metadata": {
  "deepnote": {},
  "deepnote_execution_queue": [],
  "deepnote_notebook_id": "be9c6e39f3fd42dab182cd0adf331c29",
  "kernelspec": {
   "display_name": "Python 3 (ipykernel)",
   "language": "python",
   "name": "python3"
  },
  "language_info": {
   "codemirror_mode": {
    "name": "ipython",
    "version": 3
   },
   "file_extension": ".py",
   "mimetype": "text/x-python",
   "name": "python",
   "nbconvert_exporter": "python",
   "pygments_lexer": "ipython3",
   "version": "3.8.8"
  }
 },
 "nbformat": 4,
 "nbformat_minor": 4
}
