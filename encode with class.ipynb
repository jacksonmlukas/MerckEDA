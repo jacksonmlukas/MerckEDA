{
 "cells": [
  {
   "cell_type": "code",
   "execution_count": 6,
   "id": "593051d7-917b-47ae-b86f-22535219677a",
   "metadata": {},
   "outputs": [],
   "source": [
    "import numpy as np\n",
    "import pandas as pd\n",
    "from sklearn.preprocessing import OneHotEncoder\n",
    "from sklearn.preprocessing import LabelEncoder\n",
    "import matplotlib\n",
    "import matplotlib.pyplot as plt\n",
    "import os"
   ]
  },
  {
   "cell_type": "code",
   "execution_count": 7,
   "id": "aeca1d53-4258-4c7a-99fb-6e42cfa83f0d",
   "metadata": {},
   "outputs": [],
   "source": [
    "class Merck:\n",
    "    def _init_(self):\n",
    "        pass\n",
    "    \n",
    "    def one_hot_encode_seq(self, df, column):\n",
    "        #Output a df with a specific columns that want to get dummies in\n",
    "        #label_encode\n",
    "        le = LabelEncoder()\n",
    "        le.fit(df[column])\n",
    "        integer_encoded_letters_arry = le.transform(small_df[column])\n",
    "    \n",
    "        #append\n",
    "        integer_encoded_letters_series = pd.Series(integer_encoded_letters_arry)\n",
    "        df['integer_encoded_letters'] = integer_encoded_letters_series\n",
    "    \n",
    "        #one hot encode\n",
    "        df_dummies = pd.get_dummies(df, prefix = ['integer_encoded_letters'], columns = ['integer_encoded_letters'], drop_first = True)\n",
    "        return df_dummies\n",
    "    \n",
    "    alph = np.array(sorted('ACDEFGHIKLMNPQRSTVWY'))\n",
    "    residue_info = pd.read_csv(\"residue_dict_copy.csv\", header = 0, index_col = 0)\n",
    "    def physchemvh_gen(self, df, column):\n",
    "        res_counts = pd.DataFrame(index = alph)\n",
    "        df = df.set_index(column)\n",
    "        for i in df.index:\n",
    "            characters = pd.Series(list(i))\n",
    "            res_counts = pd.concat([res_counts, characters.value_counts()], axis = 1, ignore_index = False)\n",
    "        res_counts.fillna(0, inplace = True)\n",
    "        res_counts = res_counts.T\n",
    "        hydrophobicity = []    \n",
    "        for column in res_counts:\n",
    "            hydros = []\n",
    "            for index, row in res_counts.iterrows():\n",
    "                hydros.append(row[column]*residue_info.loc[column, 'Hydropathy Score'])\n",
    "            hydrophobicity.append(hydros)\n",
    "        hydrophobicity = pd.DataFrame(hydrophobicity).T\n",
    "        hydrophobicity['ave'] = hydrophobicity.sum(axis = 1)/115\n",
    "        res_counts['Hydro'] = res_counts['A'] +  res_counts['I'] +  res_counts['L']+  res_counts['F']+  res_counts['V']\n",
    "        res_counts['Amph'] = res_counts['W'] +  res_counts['Y']+  res_counts['M']\n",
    "        res_counts['Polar'] = res_counts['Q'] +  res_counts['N'] + res_counts['S'] +  res_counts['T'] +  res_counts['C']+  res_counts['M']\n",
    "        res_counts['Charged'] =  res_counts['R'] +  res_counts['K'] + res_counts['D'] +  res_counts['E'] +  res_counts['H']\n",
    "        res_counts.reset_index(drop = True, inplace = True)\n",
    "        physchemvh = pd.concat([res_counts, hydrophobicity['ave']], axis = 1, ignore_index = False)\n",
    "        return physchemvh"
   ]
  },
  {
   "cell_type": "code",
   "execution_count": null,
   "id": "51ad88fd-7999-453d-b273-b099b702e7c4",
   "metadata": {},
   "outputs": [],
   "source": []
  }
 ],
 "metadata": {
  "kernelspec": {
   "display_name": "Python 3",
   "language": "python",
   "name": "python3"
  },
  "language_info": {
   "codemirror_mode": {
    "name": "ipython",
    "version": 3
   },
   "file_extension": ".py",
   "mimetype": "text/x-python",
   "name": "python",
   "nbconvert_exporter": "python",
   "pygments_lexer": "ipython3",
   "version": "3.8.8"
  }
 },
 "nbformat": 4,
 "nbformat_minor": 5
}
