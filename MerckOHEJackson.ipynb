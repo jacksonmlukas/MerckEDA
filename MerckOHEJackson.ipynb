{
 "cells": [
  {
   "cell_type": "code",
   "execution_count": null,
   "id": "e3a1fc6d",
   "metadata": {},
   "outputs": [],
   "source": [
    "import numpy as np\n",
    "import pandas as pd\n",
    "from sklearn.preprocessing import OneHotEncoder\n",
    "from sklearn.preprocessing import LabelEncoder\n",
    "from keras.preprocessing.sequence import pad_sequences\n",
    "\n",
    "alph_letters = np.array(sorted('ACDEFGHIKLMNPQRSTVWY'))\n",
    "le = LabelEncoder()\n",
    "integer_encoded_letters = le.fit_transform(alph_letters)\n",
    "integer_encoded_letters = integer_encoded_letters.reshape(len(integer_encoded_letters), 1)\n",
    "one = OneHotEncoder(sparse = False)\n",
    "ohe_letter = one.fit_transform(integer_encoded_letters)\n",
    "\n",
    "def onehot_gen(seqs_binding, colname):\n",
    "    ohe = []\n",
    "    enc = []\n",
    "    for i, row in seqs_binding[[colname]].iterrows():\n",
    "        chars = le.transform(list(row[colname]))\n",
    "        enc.append(chars)\n",
    "    padded_enc = pad_sequences(enc, 150)\n",
    "    enc = pd.DataFrame(padded_enc)\n",
    "    for index, row in enc.iterrows():\n",
    "        enc_row = np.array(row)\n",
    "        let = enc_row.reshape(-1,1)\n",
    "        ohe_let = pd.DataFrame(one.transform(let))\n",
    "        ohe.append(ohe_let.values.flatten())\n",
    "    ohe = pd.DataFrame(np.stack(ohe))\n",
    "    return ohe\n",
    "\n",
    "df = pd.read_csv(\"data.csv\")\n",
    "df_ohe = onehot_gen(df, \"sequence_alignment_aa_light\")"
   ]
  }
 ],
 "metadata": {
  "kernelspec": {
   "display_name": "Python 3 (ipykernel)",
   "language": "python",
   "name": "python3"
  },
  "language_info": {
   "codemirror_mode": {
    "name": "ipython",
    "version": 3
   },
   "file_extension": ".py",
   "mimetype": "text/x-python",
   "name": "python",
   "nbconvert_exporter": "python",
   "pygments_lexer": "ipython3",
   "version": "3.9.15"
  }
 },
 "nbformat": 4,
 "nbformat_minor": 5
}
